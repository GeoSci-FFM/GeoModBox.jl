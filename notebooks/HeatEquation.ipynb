{
 "cells": [
  {
   "cell_type": "code",
   "execution_count": 2,
   "metadata": {},
   "outputs": [],
   "source": [
    "from sympy import *"
   ]
  },
  {
   "cell_type": "code",
   "execution_count": 3,
   "metadata": {},
   "outputs": [
    {
     "data": {
      "text/latex": [
       "$\\displaystyle TW - \\frac{dx q}{k}$"
      ],
      "text/plain": [
       "TW - dx*q/k"
      ]
     },
     "execution_count": 3,
     "metadata": {},
     "output_type": "execute_result"
    }
   ],
   "source": [
    "# Ghost node value for Neuman BC\n",
    "TE, TW, k, q, dx = symbols('TE, TW, k, q, dx')\n",
    "f = q + k*(TE-TW)/dx\n",
    "solve(f, TE)[0]"
   ]
  },
  {
   "cell_type": "code",
   "execution_count": 20,
   "metadata": {},
   "outputs": [
    {
     "name": "stdout",
     "output_type": "stream",
     "text": [
      "if inS K[ii,iS] = kS .* (DirS + NeuS - 1) ./ dy .^ 2 end\n",
      "if inW K[ii,iW] = kW .* (DirW + NeuW - 1) ./ dx .^ 2 end\n",
      "K[ii,iC] = Cp .* ρ ./ Δt + (-kN .* (-DirN + NeuN - 1) ./ dy + kS .* (DirS - NeuS + 1) ./ dy) ./ dy + (-kE .* (-DirE + NeuE - 1) ./ dx + kW .* (DirW - NeuW + 1) ./ dx) ./ dx\n",
      "if inE K[ii,iE] = -kE .* (-DirE - NeuE + 1) ./ dx .^ 2 end\n",
      "if inN K[ii,iN] = -kN .* (-DirN - NeuN + 1) ./ dy .^ 2 end\n"
     ]
    }
   ],
   "source": [
    "# 5-point stencil coefficients\n",
    "TC, TE, TW, TN, TS, TC0 = symbols('TC, TE, TW, TN, TS, TC0') \n",
    "kW, kE, kS, kN = symbols('kW, kE, kS, kN')\n",
    "rho, Cp     = symbols('ρ, Cp')\n",
    "dx, dy, dt  = symbols('dx, dy, Δt')\n",
    "DirW, DirE, DirS, DirN = symbols('DirW, DirE, DirS, DirN')\n",
    "NeuW, NeuE, NeuS, NeuN = symbols('NeuW, NeuE, NeuS, NeuN')\n",
    "TW1   = (1-DirW-NeuW)*TW + DirW*(-TC) + NeuW*(TC) \n",
    "TE1   = (1-DirE-NeuE)*TE + DirE*(-TC) + NeuE*(TC) \n",
    "TS1   = (1-DirS-NeuS)*TS + DirS*(-TC) + NeuS*(TC) \n",
    "TN1   = (1-DirN-NeuN)*TN + DirN*(-TC) + NeuN*(TC) \n",
    "dTdxW = (TC - TW1)/dx\n",
    "dTdxE = (TE1 - TC)/dx\n",
    "dTdyS = (TC - TS1)/dy\n",
    "dTdyN = (TN1 - TC)/dy\n",
    "qW    = -kW*dTdxW\n",
    "qE    = -kE*dTdxE\n",
    "qS    = -kS*dTdyS\n",
    "qN    = -kN*dTdyN\n",
    "f     = rho*Cp*(TC - TC0)/dt + (qE - qW)/dx + (qN - qS)/dy\n",
    "print('if inS K[ii,iS] = ' + julia_code(f.diff(TS)) + ' end')\n",
    "print('if inW K[ii,iW] = ' + julia_code(f.diff(TW)) + ' end')\n",
    "print('K[ii,iC] = ' + julia_code(f.diff(TC)))\n",
    "print('if inE K[ii,iE] = ' + julia_code(f.diff(TE)) + ' end')\n",
    "print('if inN K[ii,iN] = ' + julia_code(f.diff(TN)) + ' end')\n",
    "\n"
   ]
  },
  {
   "cell_type": "code",
   "execution_count": null,
   "metadata": {},
   "outputs": [],
   "source": [
    "|"
   ]
  }
 ],
 "metadata": {
  "kernelspec": {
   "display_name": "Python 3",
   "language": "python",
   "name": "python3"
  },
  "language_info": {
   "codemirror_mode": {
    "name": "ipython",
    "version": 3
   },
   "file_extension": ".py",
   "mimetype": "text/x-python",
   "name": "python",
   "nbconvert_exporter": "python",
   "pygments_lexer": "ipython3",
   "version": "3.9.6"
  }
 },
 "nbformat": 4,
 "nbformat_minor": 2
}
