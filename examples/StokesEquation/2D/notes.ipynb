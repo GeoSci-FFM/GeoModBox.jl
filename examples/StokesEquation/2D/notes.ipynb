{
 "cells": [
  {
   "cell_type": "markdown",
   "metadata": {},
   "source": [
    "$$\\begin{equation}\n",
    "\\eta_r = log_{10}\\left(\\frac{\\eta_1}{\\eta_0}\\right)\n",
    "\\end{equation}$$"
   ]
  },
  {
   "cell_type": "markdown",
   "metadata": {},
   "source": [
    "$$\\begin{equation}\n",
    "10^{\\eta_r} = \\frac{\\eta_1}{\\eta_0}\n",
    "\\end{equation}$$"
   ]
  },
  {
   "cell_type": "markdown",
   "metadata": {},
   "source": [
    "$$\\begin{equation}\n",
    "\\eta_0 \\cdot 10^{\\eta_r} = \\eta_1\n",
    "\\end{equation}$$"
   ]
  }
 ],
 "metadata": {
  "language_info": {
   "name": "python"
  }
 },
 "nbformat": 4,
 "nbformat_minor": 2
}
