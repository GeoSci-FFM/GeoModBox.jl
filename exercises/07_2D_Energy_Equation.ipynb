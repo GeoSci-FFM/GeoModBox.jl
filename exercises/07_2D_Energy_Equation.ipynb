{
 "cells": [
  {
   "cell_type": "markdown",
   "metadata": {},
   "source": [
    "# Energiegleichung (2D)"
   ]
  },
  {
   "cell_type": "markdown",
   "metadata": {},
   "source": [
    "## Einführung\n",
    "\n",
    "In der letzten Übung haben wir die Advektion für ein eindimensionales Problem betrachtet. Nun wollen wir die Advektion in zwei Dimensionen betrachten. \n",
    "\n",
    "Bisher haben wir zudem Advektion und Diffusion als zwei seperate Prozesse betrachtet und verschiedene numerische Verfahren zur Lösung des jeweiligen Prozesses verwendet. Allerdings sind wir bei vielen Problemen der Geowissenschaften an dem Transport und der Diffusion gleichzeitig interessiert. Die Energieerhaltungsgleichung ist in diesem Fall gegeben durch (Annahme: konstante thermische Parameter):\n",
    "\n",
    "$\\begin{equation}\n",
    "\\frac{\\partial{T}}{\\partial{t}}=-v_x\\frac{\\partial{T}}{\\partial{x}} - v_y\\frac{\\partial{T}}{\\partial{y}} + \\kappa\\left(\\frac{\\partial^2{T}}{\\partial{x^2}} + \\frac{\\partial^2{T}}{\\partial{y^2}}\\right), \n",
    "\\end{equation}$\n",
    "\n",
    "wobei $T$ die Temperatur [K], $t$ die Zeit [s], $v_i$ die Geschwindigkeit in Raumrichtung $i$ [m/s], und $\\kappa = k/\\rho/c_p$ die thermische Diffusivität [m²/s]. \n",
    "\n",
    "Die ersten beiden Terme der rechten Seite der Gleichung beschreiben die **Advektion**, der mittlere Term die **Diffusion**, und der letzte Term die **Wärmeproduktionsrate**. Alle drei Term beschreiben die Änderung der Temperatur mit der Zeit $\\frac{\\partial{T}}{\\partial{t}}$ an einem bestimmten Ort. \n",
    "\n",
    "Hier wollen wir die vordefinierten Funktionen für Advektion und Diffusion aus den Submodulen `GeoModBox.AdvectionEquation.TwoD` und `GeoModBox.HeatEquation.TwoD` verwenden. Für mehr Informationen über die Diskretisierung und Implementierung der Advektionsgleichung im zwei dimensionalen seht bitte die [Dokumentation](https://geosci-ffm.github.io/GeoModBox.jl/dev/man/AdvTwoD/).## Einführung"
   ]
  },
  {
   "cell_type": "markdown",
   "metadata": {},
   "source": [
    "## Das Problem\n",
    "\n",
    "Im folgenden betrachten wir, wie sich das Temperaturfeld in einem konstantem, zweidimensionalem Geschwindigkeitsfeld und durch diffusive Prozesse mit der Zeit verändert. Als Anfangsbedingungen sind jeweils unterschiedliche Bedingungen definierbar. \n",
    "\n",
    "Für die Temperatur: \n",
    "\n",
    "1) Eine kreisförmige Anomalie mit konstanter Hintergrundtemperatur\n",
    "2) Eine Gaussche Temperaturverteilung\n",
    "3) Eine rechteckige Anomalie mit konstanter Hintergrundtemperatur\n",
    "4) Eine linear ansteigende Temperatur\n",
    "\n",
    "Für die Geschwindigkeit: \n",
    "\n",
    "1) Eine starre Rotation\n",
    "2) Eine analytisch beschriebene Konvektionszelle\n",
    "\n",
    "Die Anfangsposition der Anomalie ist wie in Abbildung 1 dargestellt und im Falle der starre Rotation werden die Geschwindigkeiten außerhalb des Rotationsradius auf null gesetzt. Dies verhindert, dass Partikel nicht aus der Modeldomaine advektiert werden. \n",
    "\n",
    "<img src=\"./Figures/Exercise07_1.png\" al7t=\"drawing\" width=\"500\"/> <br>\n",
    "\n",
    "**Abbildung 1.** Setup für eine starre Rotation mit einer Temperaturanomolie.  "
   ]
  },
  {
   "cell_type": "markdown",
   "metadata": {},
   "source": [
    "## Die Lösung\n",
    "\n",
    "<img src=\"./Figures/Exercise07_grid.png\" al7t=\"drawing\" width=\"500\"/> <br>\n",
    "\n",
    "**Abbildung 2.** Numerisches Gitter zur Lösung des Problems. \n",
    "\n",
    "Es gibt mehrere Verfahren mit denen man die Energieerhaltung numerisch lösen kann (die Art und Weise der Diskretisierung der Gleichung ist dabei eintscheidend). \n",
    "\n",
    "Hier wollen wir uns auf ein einfaches Verfahren konzentrieren, das Verfahren der sogenannten Operatoren-Teilung(„*operator-splitting*“).\n",
    "\n",
    "In erster Näherung lässt sich so die Energiegleichung durch die Trennung und das separate Lösen der Gleichungen lösen. Das heißt, in der Zeitschleife wird zuerst die Advektionsgleichung gelöst (z.B. durch das Semi-Lagrange Verfahren): \n",
    "\n",
    "$\\begin{equation}\n",
    "\\frac{\\tilde{T}^{n+1}-T^n}{\\Delta{t}} = -v_x\\frac{\\partial{T}}{\\partial{x}}-v_y\\frac{\\partial{T}}{\\partial{y}},\n",
    "\\end{equation}$\n",
    "\n",
    "gefolgt von der Lösung der Diffusionsgleichung (z.B. mit dem Crank-Nicholson Verfahren): \n",
    "\n",
    "$\\begin{equation}\n",
    "\\frac{\\partial{\\tilde{T}}}{\\partial{t}} = \\kappa\\left(\\frac{\\partial^2{\\tilde{T}}}{\\partial{x^2}}+\\frac{\\partial^2{\\tilde{T}}}{\\partial{y^2}}\\right).\n",
    "\\end{equation}$\n",
    "\n",
    "Beachtet dabei die Annahmen, die für die Gleichungen gelten. Für mehr Informationen über die Diskretisierung und Implementierung der Advektionsgleichung und der Diffusionsgleichung im zwei dimensionalen seht bitte die entsprechende [Dokumentation](https://geosci-ffm.github.io/GeoModBox.jl/). \n",
    "\n",
    "Im folgenden wollen wir die vordefinierten Funktionen für die Lösung der Advektion- und Diffusionsgleichung aus den Submodulen `GeoModBox.AdvectionEquation.TwoD` und `GeoModBox.HeatEquation.TwoD` verwenden. Dazu müssen wir wie immer zuerst die notwendigen Module laden: "
   ]
  },
  {
   "cell_type": "code",
   "execution_count": null,
   "metadata": {},
   "outputs": [],
   "source": [
    "using Plots, Interpolations, ExtendableSparse, LinearAlgebra\n",
    "using GeoModBox\n",
    "using ?\n",
    "using ?\n",
    "using Base.Threads, Printf"
   ]
  },
  {
   "cell_type": "code",
   "execution_count": null,
   "metadata": {},
   "outputs": [],
   "source": [
    "# Definition numerischer Verfahren =================================== #\n",
    "# Define Advection Scheme ---\n",
    "#   1) upwind, 2) slf, 3) semilag, 4) tracers\n",
    "# Define Diffusion Scheme --- \n",
    "#   1) explicit, 2) implicit, 3) CNA, 4) ADI, 5) dc\n",
    "FD          =   (Method     = (Adv=:?,Diff=:?),)\n",
    "# Define Initial Condition ---\n",
    "# Temperature - \n",
    "#   1) circle, 2) gaussian, 3) block\n",
    "# Velocity - \n",
    "#   1) RigidBody, 2) ShearCell\n",
    "Ini         =   (T=:?,V=:?,) \n",
    "# -------------------------------------------------------------------- #"
   ]
  },
  {
   "cell_type": "markdown",
   "metadata": {},
   "source": [
    "Die folgenden Parameter definieren die Eigenschaften der Visualisierungen: "
   ]
  },
  {
   "cell_type": "code",
   "execution_count": null,
   "metadata": {},
   "outputs": [],
   "source": [
    "# Plot Einstellungen ================================================= #\n",
    "Pl  =   (\n",
    "    inc         =   5,\n",
    "    sc          =   1.0*(100*(60*60*24*365.15)),        \n",
    "    Minc        =   1, \n",
    "    Msz         =   0.2,\n",
    ")\n",
    "# Animationssettings ---\n",
    "path        =   string(\"./Results/\")\n",
    "anim        =   Plots.Animation(path, String[] )\n",
    "filename    =   string(\"07_2D_EnergyEquation_\",Ini.T,\"_\",Ini.V,\n",
    "                        \"_\",FD.Method.Adv,\"_\",FD.Method.Diff)\n",
    "save_fig    =   1\n",
    "# -------------------------------------------------------------------- #"
   ]
  },
  {
   "cell_type": "markdown",
   "metadata": {},
   "source": [
    "Als nächsten definieren wir die Modelgeometrie und die physikalischen Konstanten: "
   ]
  },
  {
   "cell_type": "code",
   "execution_count": null,
   "metadata": {},
   "outputs": [],
   "source": [
    "# Model Konstanten =================================================== #\n",
    "M   =   (\n",
    "    xmin    =   ?,\n",
    "    xmax    =   ?,\n",
    "    ymin    =   ?,\n",
    "    ymax    =   ?,\n",
    ")\n",
    "# -------------------------------------------------------------------- #\n",
    "# Physical Parameters ================================================ #\n",
    "P       = ( \n",
    "    k       =   ?,              #   Thermal Conductivity [ W/m/K ]\n",
    "    cp      =   ?,           #   Specific Heat Capacity [ J/kg/K ]\n",
    "    ρ       =   ?,           #   Density [ kg/m^3 ]\n",
    "    K0      =   ?,         #   Kelvin at 0 °C\n",
    "    Q0      =   ?               #   Heat production rate\n",
    ")\n",
    "P1      = (\n",
    "    κ       =   ?,   #   Thermal Diffusivity [ m^2/s ] \n",
    ")\n",
    "P       =   merge(P,P1)\n",
    "# -------------------------------------------------------------------- #"
   ]
  },
  {
   "cell_type": "markdown",
   "metadata": {},
   "source": [
    "Nun folgt die Definition der numerischen Parameter ..."
   ]
  },
  {
   "cell_type": "code",
   "execution_count": null,
   "metadata": {},
   "outputs": [],
   "source": [
    "# Numerische Konstanten ============================================== #\n",
    "NC  =   (\n",
    "    x       =   ?,        # Number of horizontal centroids\n",
    "    y       =   ?,        # Number of vertical centroids\n",
    ")\n",
    "NV  =   (\n",
    "    x       =   ?,  # Number of horizontal vertices\n",
    "    y       =   ?,  # Number of vertical vertices\n",
    ")\n",
    "Δ   =   (\n",
    "    x   =   ?,\n",
    "    y   =   ?,\n",
    ")\n",
    "# -------------------------------------------------------------------- #"
   ]
  },
  {
   "cell_type": "markdown",
   "metadata": {},
   "source": [
    "... und der Gitterkoordinaten."
   ]
  },
  {
   "cell_type": "code",
   "execution_count": null,
   "metadata": {},
   "outputs": [],
   "source": [
    "# Erstellung des Gitters ============================================= #\n",
    "x   =   (\n",
    "    c       =   LinRange(?),\n",
    "    ce      =   LinRange(?),\n",
    "    v       =   LinRange(?)\n",
    ")\n",
    "y       = (\n",
    "    c       =   LinRange(?),\n",
    "    ce      =   LinRange(?),\n",
    "    v       =   LinRange(?),\n",
    ")\n",
    "x1      =   ( \n",
    "    c2d     =   x.c .+ 0*y.c',\n",
    "    v2d     =   x.v .+ 0*y.v', \n",
    "    vx2d    =   x.v .+ 0*y.ce',\n",
    "    vy2d    =   x.ce .+ 0*y.v',\n",
    ")\n",
    "x   =   merge(x,x1)\n",
    "y1      =   (\n",
    "    c2d     =   0*x.c .+ y.c',\n",
    "    v2d     =   0*x.v .+ y.v',\n",
    "    vx2d    =   0*x.v .+ y.ce',\n",
    "    vy2d    =   0*x.ce .+ y.v',\n",
    ")\n",
    "y   =   merge(y,y1)\n",
    "# -------------------------------------------------------------------- #"
   ]
  },
  {
   "cell_type": "markdown",
   "metadata": {},
   "source": [
    "Hier werden mit Hilfe der Strukturen der GeoModBox die Datenfelder definiert. "
   ]
  },
  {
   "cell_type": "code",
   "execution_count": null,
   "metadata": {},
   "outputs": [],
   "source": [
    "# Felder Initialisierung ============================================= #\n",
    "D       =   DataFields(\n",
    "    Q       =   zeros(Float64,(NC.x,NC.y)),\n",
    "    T       =   zeros(Float64,(NC.x,NC.y)),\n",
    "    T0      =   zeros(Float64,(NC.x,NC.y)),\n",
    "    T_ex    =   zeros(Float64,(NC.x+2,NC.y+2)),\n",
    "    T_exo   =   zeros(Float64,(NC.x+2,NC.y+2)),\n",
    "    ρ       =   zeros(Float64,(NC.x,NC.y)),\n",
    "    cp      =   zeros(Float64,(NC.x,NC.y)),\n",
    "    vx      =   zeros(Float64,(NV.x,NV.y+1)),\n",
    "    vy      =   zeros(Float64,(NV.x+1,NV.y)),    \n",
    "    vxc     =   zeros(Float64,(NC.x,NC.y)),\n",
    "    vyc     =   zeros(Float64,(NC.x,NC.y)),\n",
    "    vc      =   zeros(Float64,(NC.x,NC.y)),\n",
    "    wt      =   zeros(Float64,(NC.x,NC.y)),\n",
    "    wtv     =   zeros(Float64,(NV...)),\n",
    "    Tmax    =   0.0,\n",
    "    Tmin    =   0.0,\n",
    "    Tmean   =   0.0,\n",
    ")\n",
    "# -------------------------------------------------------------------- #"
   ]
  },
  {
   "cell_type": "markdown",
   "metadata": {},
   "source": [
    "Jetz können wir mit Hilfe der vordefinierten Funktionen die Anfangstemperatur- und Geschwindigkeitsfelder berechnen. "
   ]
  },
  {
   "cell_type": "code",
   "execution_count": null,
   "metadata": {},
   "outputs": [],
   "source": [
    "# Anfangsbedingungen ================================================= #\n",
    "# Temperatur ---\n",
    "IniTemperature!(?)\n",
    "D.Tmax  =   maximum(D.T_ex)                    # Maximum temperature\n",
    "D.Tmin  =   minimum(D.T_ex)                    # Minimum temperature\n",
    "D.Tmean =   (D.Tmax[1] + D.Tmin[1]) / 2        # Mean temperature\n",
    "if FD.Method.Adv==:slf\n",
    "    D.T_exo    .=  D.T_ex\n",
    "end\n",
    "# Heat production rate ---\n",
    "@. D.Q  =   P.Q0\n",
    "@. D.ρ  =   P.ρ\n",
    "# Velocity ---\n",
    "# RBR - maximum(v) = 0.5 cm/a\n",
    "IniVelocity!(?)        # [ m/s ]\n",
    "# Upscale velocity ---\n",
    "D.vx    .*=     20.0\n",
    "D.vy    .*=     20.0\n",
    "# Get the velocity on the centroids ---\n",
    "@threads for i = 1:NC.x \n",
    "    for j = 1:NC.y\n",
    "        D.vxc[i,j]  = ?\n",
    "        D.vyc[i,j]  = ?\n",
    "    end\n",
    "end\n",
    "@. D.vc        = sqrt(D.vxc^2 + D.vyc^2)\n",
    "# -------------------------------------------------------------------- #"
   ]
  },
  {
   "cell_type": "markdown",
   "metadata": {},
   "source": [
    "Da die Geschwindigkeitsfelder konstant und vorgeschrieben sind, müssen nur die Randbedingungen für die Temperatur definiert werden. "
   ]
  },
  {
   "cell_type": "code",
   "execution_count": null,
   "metadata": {},
   "outputs": [],
   "source": [
    "# Boundary Conditions ================================================ #\n",
    "BC     = (type    = (W=:?, E=:?, \n",
    "                    N=:?, S=:?),\n",
    "        val     = (W=?,E=?,\n",
    "                    N=?,S=?))\n",
    "# -------------------------------------------------------------------- #"
   ]
  },
  {
   "cell_type": "markdown",
   "metadata": {},
   "source": [
    "Abhängig von der numerischen Methode zur Lösung der Diffusionsgleichung müssen bestimmte Parameter definiert werden, wie zum Beispiel die Koeffizienten Matrizen und die rechte Seite der Gleichungssysteme oder Parameter für eine Iteration. Für mehr Informationen bezüglich der Lösungsverfahren der Diffusionsgleichung im zweidimensionalem, siehe die [Dokumentation](https://geosci-ffm.github.io/GeoModBox.jl/dev/man/DiffTwoD/)"
   ]
  },
  {
   "cell_type": "code",
   "execution_count": null,
   "metadata": {},
   "outputs": [],
   "source": [
    "# Linear systems ======================================================= #\n",
    "if FD.Method.Diff == :implicit || FD.Method.Diff == :CNA\n",
    "    # Numbering of unknowns (flattened 2D grid into 1D index)\n",
    "    Num     =   (T = reshape(1:NC.x*NC.y, NC.x, NC.y),)\n",
    "    ndof    =   maximum(Num.T)                     # Degrees of freedom\n",
    "    \n",
    "    if FD.Method.Diff == :CNA\n",
    "        # Two coefficient matrices for Crank–Nicolson Approach\n",
    "        K1      =   ExtendableSparseMatrix(ndof, ndof)\n",
    "        K2      =   ExtendableSparseMatrix(ndof, ndof)\n",
    "    else\n",
    "        # Single coefficient matrix for implicit scheme\n",
    "        K       =   ExtendableSparseMatrix(ndof, ndof)\n",
    "    end\n",
    "    rhs     =   zeros(ndof)                        # Right-hand side vector\n",
    "\n",
    "elseif FD.Method.Diff == :dc\n",
    "    # Defect-correction iteration parameters\n",
    "    niter       =   10                             # Max iterations\n",
    "    ϵ           =   1e-10                          # Convergence tolerance\n",
    "    \n",
    "    # Physical fields\n",
    "    @. D.ρ      =   P.ρ\n",
    "    @. D.cp     =   P.cp\n",
    "    \n",
    "    # Thermal conductivity on cell faces\n",
    "    k           =   (x = zeros(NC.x+1, NC.y),\n",
    "                     y = zeros(NC.x,   NC.y+1))\n",
    "    @. k.x      =   P.k\n",
    "    @. k.y      =   P.k\n",
    "    \n",
    "    # Numbering of unknowns\n",
    "    Num         =   (T = reshape(1:NC.x*NC.y, NC.x, NC.y),)\n",
    "    ndof        =   maximum(Num.T)\n",
    "    \n",
    "    # System matrix and residual\n",
    "    K           =   ExtendableSparseMatrix(ndof, ndof)\n",
    "    R           =   zeros(NC.x, NC.y)              # Residual field\n",
    "    \n",
    "    # Temperature gradients at faces\n",
    "    ∂T          =   (∂x = zeros(NC.x+1, NC.y),\n",
    "                     ∂y = zeros(NC.x,   NC.y+1))\n",
    "    \n",
    "    # Heat fluxes at faces\n",
    "    q           =   (x  = zeros(NC.x+1, NC.y),\n",
    "                     y  = zeros(NC.x,   NC.y+1))\n",
    "end\n",
    "# ---------------------------------------------------------------------- #\n"
   ]
  },
  {
   "cell_type": "markdown",
   "metadata": {},
   "source": [
    "Nun können wir die Zeit Parameter bestimmen. Beachte: nun muss der größte mögliche Zeitschritt für das Advektion- und Diffusionverfahren berücksichtigt werden. "
   ]
  },
  {
   "cell_type": "code",
   "execution_count": null,
   "metadata": {},
   "outputs": [],
   "source": [
    "# Time ================================================================ #\n",
    "T   =   ( \n",
    "    tmax    =   [0.0],     # Maximum simulation time [s]\n",
    "    Δfacc   =   1.0,       # Courant time factor, i.e., dtfac * dt_courant\n",
    "    Δfacd   =   1.0,       # Diffusion time factor, i.e., dtfac * dt_diff \n",
    "    Δ       =   [0.0],     # Final chosen time step\n",
    "    Δc      =   [0.0],     # Courant time step (advection stability limit)\n",
    "    Δd      =   [0.0],     # Diffusion time step (stability criterion)\n",
    ")\n",
    "\n",
    "# Maximum runtime: based on a characteristic advection time scale\n",
    "# here approximated by π * (domain width – one cell) / maximum velocity\n",
    "T.tmax[1]   =   π * ((M.xmax - M.xmin) - Δ.x) / maximum(D.vc)   # [s]\n",
    "\n",
    "# Courant stability condition (for advection)\n",
    "T.Δc[1]     =   ?\n",
    "\n",
    "# Diffusion stability condition (explicit scheme)\n",
    "T.Δd[1]     =   ?\n",
    "\n",
    "# Final time step: take the most restrictive (advection or diffusion)\n",
    "T.Δ[1]      =   ?\n",
    "\n",
    "# Total number of time steps\n",
    "nt          =   ceil(Int, T.tmax[1] / T.Δ[1])\n",
    "# --------------------------------------------------------------------- #"
   ]
  },
  {
   "cell_type": "markdown",
   "metadata": {},
   "source": [
    "Für den Fall das die Temperatur mit Tracern advektiert werden soll, werden im nächsten Schritt die Tracer initialisiert. "
   ]
  },
  {
   "cell_type": "code",
   "execution_count": null,
   "metadata": {},
   "outputs": [],
   "source": [
    "# Tracer Advection =================================================== #\n",
    "if FD.Method.Adv==:tracers \n",
    "    # Tracer Initialization ---\n",
    "    nmx,nmy     =   3,3\n",
    "    noise       =   1\n",
    "    nmark       =   nmx*nmy*NC.x*NC.y\n",
    "    Aparam      =   :thermal\n",
    "    MPC         =   (\n",
    "        c       =   zeros(Float64,(NC.x,NC.y)),\n",
    "        v       =   zeros(Float64,(NV.x,NV.y)),\n",
    "        th      =   zeros(Float64,(nthreads(),NC.x,NC.y)),\n",
    "        thv     =   zeros(Float64,(nthreads(),NV.x,NV.y)),\n",
    "    )\n",
    "    MPC1        = (\n",
    "        PG_th   =   [similar(D.ρ) for _ = 1:nthreads()],    # per thread\n",
    "        PV_th   =   [similar(D.wtv) for _ = 1:nthreads()],   # per thread\n",
    "        wt_th   =   [similar(D.wt) for _ = 1:nthreads()],   # per thread\n",
    "        wtv_th  =   [similar(D.wtv) for _ = 1:nthreads()],  # per thread\n",
    "    )\n",
    "    MPC     =   merge(MPC,MPC1)\n",
    "    Ma      =   IniTracer2D(Aparam,nmx,nmy,Δ,M,NC,noise,0,0)\n",
    "    # RK4 weights ---\n",
    "    rkw     =   1.0/6.0*[1.0 2.0 2.0 1.0]   # for averaging\n",
    "    rkv     =   1.0/2.0*[1.0 1.0 2.0 2.0]   # for time stepping\n",
    "    # Interpolate on tracers ---\n",
    "    @threads for k = 1:nmark\n",
    "        Ma.T[k] =   FromCtoM(D.T_ex, k, Ma, x, y, Δ, NC)\n",
    "    end\n",
    "    # Count marker per cell ---\n",
    "    CountMPC(Ma,nmark,MPC,M,x,y,Δ,NC,NV,1)\n",
    "end\n",
    "# -------------------------------------------------------------------- #"
   ]
  },
  {
   "cell_type": "markdown",
   "metadata": {},
   "source": [
    "Lasst uns nun die Anfangsbedingungen plotten."
   ]
  },
  {
   "cell_type": "code",
   "execution_count": null,
   "metadata": {},
   "outputs": [],
   "source": [
    "# Visualize initial condition ======================================== #\n",
    "p = heatmap(?)\n",
    "quiver!(?)\n",
    "if save_fig == 1\n",
    "    Plots.frame(anim)\n",
    "elseif save_fig == 0\n",
    "    display(p)\n",
    "end\n",
    "# -------------------------------------------------------------------- #"
   ]
  },
  {
   "cell_type": "markdown",
   "metadata": {},
   "source": [
    "Nun können wir die Zeitschleift starten. Innerhalb der Zeitschleife müssen wir zuerst die Advektiongleichung, gefolgt von der Diffusionsgleichung lösen. Anschließend wir das Temperaturfeld für bestimmte Zeitschritte geplottet. "
   ]
  },
  {
   "cell_type": "code",
   "execution_count": null,
   "metadata": {},
   "outputs": [],
   "source": [
    "# Zeitschleife ======================================================= #\n",
    "for i=2:nt\n",
    "    @printf(\"Time step: #%04d\\n \",i)\n",
    "    \n",
    "    # Loesung Advektionsgleichung ---\n",
    "    if FD.Method.Adv==:upwind\n",
    "        ?\n",
    "    elseif FD.Method.Adv==:slf\n",
    "        ?       \n",
    "    elseif FD.Method.Adv==:semilag\n",
    "        ?    \n",
    "    elseif FD.Method.Adv==:tracers\n",
    "        # NEED TO GET RID OF THE NAN'S IN D.T FIRST!\n",
    "        ## Interpolate from grid on tracers ---\n",
    "        @threads for k = 1:nmark\n",
    "           Ma.T[k] =   FromCtoM(D.T_ex, k, Ma, x, y, Δ, NC)\n",
    "        end\n",
    "        # Advect tracers ---\n",
    "        AdvectTracer2D(Ma,nmark,D,x,y,T.Δ[1],Δ,NC,rkw,rkv,1)\n",
    "        CountMPC(Ma,nmark,MPC,M,x,y,Δ,NC,NV,i)\n",
    "        \n",
    "        # Interpolate from tracers to grid ---\n",
    "        Markers2Cells(Ma,nmark,MPC.PG_th,D.T,MPC.wt_th,D.wt,x,y,Δ,Aparam,0)\n",
    "        D.T_ex[2:end-1,2:end-1]     .= D.T\n",
    "    end\n",
    "\n",
    "    # Loesung Diffusionsgleichung ---\n",
    "    if FD.Method.Diff==:explicit\n",
    "        ?\n",
    "    elseif FD.Method.Diff==:implicit\n",
    "        ?\n",
    "    elseif FD.Method.Diff==:CNA\n",
    "        ?\n",
    "    elseif FD.Method.Diff==:ADI\n",
    "        ?\n",
    "    elseif FD.Method.Diff==:dc\n",
    "        D.T0    .=  D.T\n",
    "        for iter = 1:niter\n",
    "            # Evaluate residual\n",
    "            ComputeResiduals2D!(R, D.T, D.T_ex, D.T0, ∂T, q, D.ρ, D.cp, k, BC, Δ, T.Δ[1])\n",
    "            # @printf(\"||R|| = %1.4e\\n\", norm(R)/length(R))\n",
    "            norm(R)/length(R) < ϵ ? break : nothing\n",
    "            # Assemble linear system\n",
    "            K  = AssembleMatrix2D(D.ρ, D.cp, k, BC, Num, NC, Δ, T.Δ[1])\n",
    "            # Solve for temperature correction: Cholesky factorisation\n",
    "            Kc = cholesky(K.cscmatrix)\n",
    "            # Solve for temperature correction: Back substitutions\n",
    "            δT = -(Kc\\R[:])\n",
    "            # Update temperature\n",
    "            @. D.T += δT[Num.T]\n",
    "        end\n",
    "    end\n",
    "\n",
    "    @printf(\"ΔT = %4.4f\\n\\n\",abs((D.Tmax[1]-maximum(filter(!isnan,D.T)))/D.Tmax[1]*100))\n",
    "\n",
    "    # Plot Solution ---\n",
    "    if mod(i,10) == 0 || i == nt\n",
    "        p = heatmap(?)\n",
    "        quiver!(?)\n",
    "        if save_fig == 1\n",
    "            Plots.frame(anim)\n",
    "        elseif save_fig == 0\n",
    "            display(p)                        \n",
    "        end\n",
    "    end\n",
    "\n",
    "end # End Time loop ---\n",
    "# -------------------------------------------------------------------- #"
   ]
  },
  {
   "cell_type": "markdown",
   "metadata": {},
   "source": [
    "Nun wollen wir noch die Animation speichern. "
   ]
  },
  {
   "cell_type": "code",
   "execution_count": null,
   "metadata": {},
   "outputs": [],
   "source": [
    "# Save Animation ===================================================== #\n",
    "if save_fig == 1\n",
    "    # Write the frames to a GIF file\n",
    "    Plots.gif(anim, string( path, filename, \".gif\" ), fps = 15)\n",
    "    foreach(rm, filter(startswith(string(path,\"00\")), readdir(path,join=true)))\n",
    "elseif save_fig == 0\n",
    "    display(plot(p))\n",
    "end\n",
    "# -------------------------------------------------------------------- #"
   ]
  }
 ],
 "metadata": {
  "kernelspec": {
   "display_name": "Julia 1.11.2",
   "language": "julia",
   "name": "julia-1.11"
  },
  "language_info": {
   "file_extension": ".jl",
   "mimetype": "application/julia",
   "name": "julia",
   "version": "1.11.2"
  }
 },
 "nbformat": 4,
 "nbformat_minor": 2
}
