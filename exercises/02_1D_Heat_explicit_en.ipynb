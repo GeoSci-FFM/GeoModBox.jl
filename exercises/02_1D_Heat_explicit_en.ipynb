{
 "cells": [
  {
   "cell_type": "markdown",
   "metadata": {},
   "source": [
    "# Solving the 1-D Diffusion Equation (Explicit)"
   ]
  },
  {
   "cell_type": "markdown",
   "metadata": {},
   "source": [
    "## The Problem\n",
    "\n",
    "We are interested in how temperature $T$ changes with time $t$, given a specified initial temperature $T_{0}[x,t_{0}]$ and boundary conditions; e.g., a dike intrusion in the lithosphere ($L$ = 100 m; $W$ = 5 m; $\\kappa$ = 10⁻⁶ m²/s; $T_{dike}$ = 1200 °C; $T_{background} = 300 °C).\n",
    "\n",
    "<img src=\"./Figures/Exercise02_1.png\" alt=\"drawing\" width=\"350\"/> <br>\n",
    "Fig. 1. Sketch of the geological problem and the profile of the initial temperature condition.\n",
    "\n",
    "How long would it take for the dike to cool to a specified temperature? How does the solution evolve over time? Is the temperature of the host rock decisive? How does the solution depend on the chosen numerical parameters (e.g., the number of grid points or the time-step length)?\n",
    "\n",
    "To determine the cooling duration, we must solve the temperature diffusion equation (a parabolic ODE):\n",
    "\n",
    "$$\n",
    "\\rho c_p \\frac{\\partial{T}}{\\partial{t}} = \\frac{\\partial{}}{\\partial{x}} \\left( k\\frac{\\partial{T}}{\\partial{x}} \\right), \\tag{1}\n",
    "$$\n",
    "\n",
    "where $k$ is the thermal conductivity [W/m/K], $T$ the temperature [K], and $\\rho$ the density [kg/m³]. By rearranging (assuming the thermal parameters are constant!), we can express the equation using the thermal diffusivity [m²/s] $\\kappa = \\frac{k}{\\rho c_p}$:\n",
    "\n",
    "$$\n",
    "\\frac{\\partial{T}}{\\partial{t}} = \\kappa \\frac{\\partial^2{T}}{\\partial{x^2}}. \\tag{2}\n",
    "$$"
   ]
  },
  {
   "cell_type": "markdown",
   "metadata": {},
   "source": [
    "## The Solution"
   ]
  },
  {
   "cell_type": "markdown",
   "metadata": {},
   "source": [
    "### Finite Difference Approximation\n",
    "\n",
    "To solve the problem numerically using finite differences, we first need to construct a numerical grid (the discretization):\n",
    "\n",
    "<img src=\"./Figures/Exercise02_2.png\" alt=\"drawing\" width=\"600\"/> <br>\n",
    "Fig. 2. Numerical 1-D grid for discretizing the ODE.\n",
    "\n",
    "To numerically solve the diffusion equation with the explicit finite difference scheme, we must reformulate the ODE using finite difference expressions.\n",
    "\n",
    "Forward in time (FT):\n",
    "\n",
    "$$\n",
    "\\frac{\\partial{T}}{\\partial{t}} \\approx \\frac{T_{i}^{n+1}-T_{i}^{n}}{t^{n+1}-t^{n}} = \\frac{T_{i}^{n+1}-T_{i}^{n}}{\\Delta t} \\tag{3}\n",
    "$$\n",
    "\n",
    "Central in space (CS):\n",
    "\n",
    "$$\n",
    "\\frac{\\partial^2{T}}{\\partial{x^2}} \\approx \\frac{\\frac{T_{i+1}^{n}-T_{i}^{n}}{\\Delta x} - \\frac{T_{i}^{n}-T_{i-1}^{n}}{\\Delta x}}{\\Delta x} =\n",
    "\\frac{T_{i+1}^{n} - 2T_{i}^{n} + T_{i-1}^{n}}{(\\Delta x)^2} \\tag{4}\n",
    "$$\n",
    "\n",
    "Thus, in explicit form, the temperature at each point at the new time step is given by:\n",
    "\n",
    "$$\n",
    "T_{i}^{n+1} = T_{i}^{n} + \\kappa \\Delta t \\left( \\frac{T_{i+1}^{n}-2T_{i}^{n}+T_{i-1}^{n}}{\\Delta x^2} \\right) \\tag{5}\n",
    "$$"
   ]
  },
  {
   "cell_type": "markdown",
   "metadata": {},
   "source": [
    "Let us now first load the necessary modules for the numerical solution of our problem. We will begin by programming the solvers ourselves, before making use of the predefined solvers in `GeoModBox.jl`. The predefined solver is located in the submodule `GeoModBox.HeatEquation.OneD`."
   ]
  },
  {
   "cell_type": "code",
   "execution_count": null,
   "metadata": {},
   "outputs": [],
   "source": [
    "using ?\n",
    "using ?"
   ]
  },
  {
   "cell_type": "markdown",
   "metadata": {},
   "source": [
    "### Parameter Definitions\n",
    "\n",
    "Let us first define the parameters for the problem (physical constants, numerical domain, and time parameters):"
   ]
  },
  {
   "cell_type": "code",
   "execution_count": null,
   "metadata": {},
   "outputs": [],
   "source": [
    "alternative =   1\n",
    "# Physics --------------------------------------------------------------- #\n",
    "L           =   ?       # Length [m]\n",
    "Tdike       =   ?      # Dike temperature [C]\n",
    "Trock       =   ?       # Background temperature [C]\n",
    "κ           =   ?      # Thermal Diffusivity [m2/s]\n",
    "W           =   ?         # Dike width [m]\n",
    "# ----------------------------------------------------------------------- #\n",
    "# Numerical Parameter --------------------------------------------------- #\n",
    "nc          =   ?                 # Number of centroids \n",
    "Δx          =   ?              # Grid spacing \n",
    "xc          =   ?    # x-coordinates of the centroids  \n",
    "ind         =   ?                # Indexes for internal points\n",
    "# ----------------------------------------------------------------------- #\n",
    "# Time Parameter -------------------------------------------------------- #\n",
    "day         =   3600.0*24.0             # Seconds per day\n",
    "Δt          =   ?\n",
    "nt          =   floor(Int, 200.0 * day/Δt ) \n",
    "Time        =   0.0\n",
    "# ----------------------------------------------------------------------- #"
   ]
  },
  {
   "cell_type": "markdown",
   "metadata": {},
   "source": [
    "### Initial Conditions\n",
    "\n",
    "To solve our problem, we first need to define the initial conditions. We assume 300 °C for the host rock and 1200 °C for the dike. That is, the initial temperature is defined by:\n",
    "\n",
    "$$\n",
    "T \\left(x < \\left( \\frac{L}{2} - W \\right), x > \\left( \\frac{L}{2} + W \\right), t = 0 \\right) = 300, \\tag{6}\n",
    "$$\n",
    "\n",
    "$$\n",
    "T \\left(x > \\left( \\frac{L}{2} - W \\right), x < \\left( \\frac{L}{2} + W \\right), t = 0 \\right) = 1200. \\tag{7}\n",
    "$$\n",
    "\n",
    "Next, we will first visualize the initial condition graphically."
   ]
  },
  {
   "cell_type": "code",
   "execution_count": null,
   "metadata": {},
   "outputs": [],
   "source": [
    "# Initial Conditions; Temperature Profile -------------------------------- #\n",
    "T       =   (\n",
    "    T       =   ?, \n",
    "    T_ex    =   ?,\n",
    ")\n",
    "T.T     .=  ?                       # Background T\n",
    "@. T.T[abs(xc-L/2) <= W/2] =  ?     # Dike T\n",
    "\n",
    "T.T_ex[2:end-1]     .= ?\n",
    "\n",
    "p = plot(?)\n",
    "display(p)\n",
    "# ----------------------------------------------------------------------- #"
   ]
  },
  {
   "cell_type": "markdown",
   "metadata": {},
   "source": [
    "### Boundary Conditions\n",
    "\n",
    "Since we use central grid points for the temperature, no grid point lies directly on the boundaries (which, contrary to expectation, is actually an advantage!). To impose temperature boundary conditions, we therefore make use of additional ghost nodes (see Figure 2). That is, we determine the temperature at the ghost nodes in order to solve the temperature partial differential equation at the nearest interior grid point using finite differences.\n",
    "\n",
    "For a constant temperature condition at the boundaries (Dirichlet), we can determine the temperature at the ghost nodes by linear interpolation, so that:\n",
    "\n",
    "$$\n",
    "T_{Ghost,W} = 2 T_{BC,W} + T[1] \\tag{8}\n",
    "$$\n",
    "$$\n",
    "T_{Ghost,E} = 2 T_{BC,E} + T[nc] \\tag{9}\n",
    "$$\n",
    "\n",
    "In the code, we use a trick and define the temperature at the ghost nodes later in the script:"
   ]
  },
  {
   "cell_type": "code",
   "execution_count": null,
   "metadata": {},
   "outputs": [],
   "source": [
    "# Boundary Conditions --------------------------------------------------- #\n",
    "BC          =   (\n",
    "                    type = (W=:Dirichlet, E=:Dirichlet),\n",
    "                    #type = (W=:Neumann, E=:Neumann),\n",
    "                    val = (W=:300.0,E=:300.0)\n",
    ")\n",
    "# ----------------------------------------------------------------------- #"
   ]
  },
  {
   "cell_type": "markdown",
   "metadata": {},
   "source": [
    "### Visualization\n",
    "\n",
    "To visualize the results as an animation in a GIF file, we first need to specify the location and the name of the file:"
   ]
  },
  {
   "cell_type": "code",
   "execution_count": null,
   "metadata": {},
   "outputs": [],
   "source": [
    "# Animationssettings ---------------------------------------------------- #\n",
    "path        =   string(\"./Results/\")\n",
    "anim        =   Plots.Animation(path, String[] )\n",
    "filename    =   string(\"02_1D_explicit_\",alternative)\n",
    "save_fig    =   1\n",
    "# ----------------------------------------------------------------------- #"
   ]
  },
  {
   "cell_type": "markdown",
   "metadata": {},
   "source": [
    "### Time Loop\n",
    "\n",
    "Numerically, we can now solve the *ODE* in a time loop in different ways (Alternative I is sufficient; those interested can also implement Alternatives II and III). At each time step, the temperature at the ghost nodes is determined using the equations above."
   ]
  },
  {
   "cell_type": "code",
   "execution_count": null,
   "metadata": {},
   "outputs": [],
   "source": [
    "# Time loop ------------------------------------------------------------- #\n",
    "for n = 1:nt\n",
    "    println(\"Time Step: \",n,\", Time: $(round(Time/day, digits=1)) [d]\")        \n",
    "\n",
    "    if alternative == 1       \n",
    "        # Alternative I ---\n",
    "        # Programming a loop over the grid (without boundary nodes)\n",
    "        # T.T_ex[2:end-1]   .= T.T    \n",
    "        # Define the boundary conditions\n",
    "        # West\n",
    "        T.T_ex[1]    =   ?\n",
    "        # East\n",
    "        T.T_ex[end]  =   ?\n",
    "        for i = 1:nc\n",
    "            # Calculate temperature at point i for the new time step\n",
    "            ?\n",
    "        end\n",
    "        T.T_ex[2:end-1]  .=  ?\n",
    "    elseif alternative == 2\n",
    "        # Alternative II ---                         \n",
    "        T.T_ex[2:end-1]   = ?\n",
    "        # West\n",
    "        T.T_ex[1]    =   ?\n",
    "        # East\n",
    "        T.T_ex[end]  =   ?\n",
    "\n",
    "        @. T.T[ind]  =   ?\n",
    "\n",
    "        T.T_ex[2:end-1]  .=  T.T\n",
    "    elseif alternative == 3            \n",
    "        ForwardEuler1Dc!( ? )\n",
    "    end\n",
    "    # Calculate time ---\n",
    "    Time    =   Time + Δt\n",
    "    # Plot Solution ---\n",
    "    p = plot( ? )    \n",
    "    if save_fig == 1\n",
    "        Plots.frame(anim)\n",
    "    else\n",
    "        display(p)\n",
    "    end\n",
    "end"
   ]
  },
  {
   "cell_type": "markdown",
   "metadata": {},
   "source": [
    "We now need to create and save the animation:"
   ]
  },
  {
   "cell_type": "code",
   "execution_count": null,
   "metadata": {},
   "outputs": [],
   "source": [
    "# Save Animation -------------------------------------------------------- #\n",
    "if save_fig == 1\n",
    "    # Write the frames to a GIF file\n",
    "    Plots.gif(anim, string( path, filename, \".gif\" ), fps = 15)\n",
    "else\n",
    "    display(p)\n",
    "end\n",
    "foreach(rm, filter(startswith(string(path,\"00\")), readdir(path,join=true)))\n",
    "# ----------------------------------------------------------------------- #"
   ]
  }
 ],
 "metadata": {
  "kernelspec": {
   "display_name": "Julia 1.11.4",
   "language": "julia",
   "name": "julia-1.11"
  },
  "language_info": {
   "file_extension": ".jl",
   "mimetype": "application/julia",
   "name": "julia",
   "version": "1.11.4"
  }
 },
 "nbformat": 4,
 "nbformat_minor": 2
}
