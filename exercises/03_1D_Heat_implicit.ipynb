{
 "cells": [
  {
   "cell_type": "markdown",
   "metadata": {},
   "source": [
    "# Lösen der 1-D Diffusionsgleichung (implizit)"
   ]
  },
  {
   "cell_type": "code",
   "execution_count": 1,
   "metadata": {},
   "outputs": [],
   "source": [
    "using Plots, ExtendableSparse, LinearAlgebra, Printf\n",
    "using GeoModBox.HeatEquation.OneD"
   ]
  },
  {
   "cell_type": "markdown",
   "metadata": {},
   "source": [
    "Wenden wir nun das implizite finite Differenzen Schema auf unser 1-D Problem der Wärmediffusionsgleichung an. Zur Wiederholung hier noch einmal das Problem:"
   ]
  },
  {
   "cell_type": "markdown",
   "metadata": {},
   "source": [
    "## Das Problem\n",
    "\n",
    "Wir sind an der Änderung der Temperatur T mit der Zeit t interessiert, für eine bestimmte Anfangstemperatur T0(x,t0) und Randbedingungen; z.B. eine Dikeintrusion in der Lithosphäre (mit *L* = 100 m; *W* = 5 m; *κ* = 10⁻⁶ m²/s).\n",
    "\n",
    "<img src=\"./Figures/Exercise02_1.png\" alt=\"drawing\" width=\"350\"/> <br>\n",
    "**Figure 1.** Sketch des geologischen Problem und des Profiles der Anfangstemperaturbedingung. \n",
    "\n",
    "Wie lange würde es dauern, bis sich der Dike auf eine bestimmte Temperatur abgekühlt hat?\n",
    "\n",
    "Zur Bestimmung der Dauer der Abkühlung müssen wir die Diffusionsgleichung der Temperatur lösen (parabolische PDG):\n",
    "\n",
    "$$ \n",
    "\\rho c_p \\frac{\\partial{T}}{\\partial{t}} = \\frac{\\partial{}}{\\partial{x}} \\left( k\\frac{\\partial{T}}{\\partial{x}} \\right), \n",
    "$$\n",
    "\n",
    "wobei *k* die thermische Leitfähigkeit, *T* die Temperatur und $\\rho$ die Dichte ist. Durch Umformen (Annahme, dass die thermischen parameter konstant sind!) können wir die Gleichung durch die thermische Diffusivität $\\kappa = \\frac{k}{\\rho c_p}$ ausdrücken: \n",
    "\n",
    "$$\n",
    "\\frac{\\partial{T}}{\\partial{t}} = \\kappa \\frac{\\partial^2{T}}{\\partial{x^2}}.\n",
    "$$"
   ]
  },
  {
   "cell_type": "markdown",
   "metadata": {},
   "source": [
    "### Finite Differenzen Approximation\n",
    "\n",
    "Zur numerischen Lösung der Problems mit Hilfe von finiten Differenzen müssen wir zuerst ein numerisches Gitter erstellen (die Diskretisierung):\n",
    "\n",
    "<img src=\"./Figures/Exercise02_2.png\" alt=\"drawing\" width=\"350\"/> <br>\n",
    "**Figure 2.** Numerisches 1-D Gitter für die Diskretisierung der *PDG*. **Must be corrected for the central nodes!!!**\n",
    "\n",
    "Um die Diffusionsgleichung numerisch mit Hilfe des impliziten finiten Differenzen Schema zu lösen müssen wir\n",
    "die PDG wie folgt umformulieren:\n",
    "\n",
    "$$\n",
    "\\frac{T_{i}^{n+1}-T_{i}^{n}}{\\Delta t} = \\frac{T_{i+1}^{n+1} - 2T_{i}^{n+1} + T_{i-1}^{n+1}}{(\\Delta x)^2}\n",
    "$$\n",
    "\n",
    "Diese Gleichung können wir umformulieren, so dass wir ein Gleichungssystem erhalten, mit sovielen\n",
    "Gleichungen wie wir zentral Gitterpunkte haben:\n",
    "\n",
    "$$\n",
    "-a T_{i+1}^{n+1} + \\left(2a + b\\right) T_{i}^{n+1} - a T_{i-1}^{n+1} = b T_{i}^{n}, \n",
    "$$\n",
    "\n",
    "mit \n",
    "$$\n",
    "a=\\frac{\\kappa}{\\Delta{x^2}}, b = \\frac{1}{\\Delta{t}}.\n",
    "$$\n",
    "\n",
    "D.h. wir haben ein tridiagonales (drei Diagonalen) Gleichungssystem, welches durch eine Koeffizientenmatrix $\\bm{A}$, einem unbekannten Vektor $T^{n+1}$ und einen bekannten Vektor $T^n$ beschrieben werden kann. "
   ]
  },
  {
   "cell_type": "markdown",
   "metadata": {},
   "source": [
    "### Parameterdefinitionen\n",
    "\n",
    "Definieren wir für das Problem erst einmal bestimmte Parameter (physikalische Konstanten, numerische Domaine, Zeitparameters):"
   ]
  },
  {
   "cell_type": "code",
   "execution_count": null,
   "metadata": {},
   "outputs": [],
   "source": [
    "alternative =   1\n",
    "\n",
    "# Physikalische Parameter ----------------------------------------------- #\n",
    "L           =   ?   # Laenge der Modeldomain [m]\n",
    "Tdike       =   ?  # Temperatur des Dikes [C]\n",
    "Trock       =   ?   # Temperatur des Umgebungsgesteins [C]\n",
    "κ           =   ?  # Thermische Diffusivitaet des Gesteins [m2/s]\n",
    "W           =   ?     # Breite des Dykes [m]\n",
    "# ----------------------------------------------------------------------- #\n",
    "# Numerische Parameter -------------------------------------------------- #\n",
    "nc          =   ?                 # Anzahl der Gitterpunkte in x-Richtung\n",
    "Δx          =   ?                # Gitterlaenge\n",
    "xc          =   ?   # Gitter\n",
    "# Iterations --  defection correction method\n",
    "niter       =   10  \n",
    "ϵ           =   1.0e-10       \n",
    "R           =   zeros(nc)   # Residual\n",
    "# ----------------------------------------------------------------------- #\n",
    "# Zeit Parameter -------------------------------------------------------- #\n",
    "day         =   3600.0*24.0     # Sekunden pro Tag\n",
    "fac         =   1.0 \n",
    "Δt          =   ?\n",
    "tmax        =   365.0*day \n",
    "nt          =   ceil(Int,tmax/Δt)\n",
    "time        =   0.0\n",
    "# ----------------------------------------------------------------------- #"
   ]
  },
  {
   "cell_type": "markdown",
   "metadata": {},
   "source": [
    "### Anfangsbedingungen\n",
    "\n",
    "Jetzt wollen wir erst einmal die Anfangsbedingung graphisch darstellen. "
   ]
  },
  {
   "cell_type": "code",
   "execution_count": null,
   "metadata": {},
   "outputs": [],
   "source": [
    "# Anfangsbedingungen; Temperaturprofil ---------------------------------- #\n",
    "T           =   ?       # Temperatur des Umgebungsgesteins\n",
    "@. T[?] =  ?           # Temperatur des Dikes\n",
    "T_ex        =   ?\n",
    "∂T2∂x2      =   ?\n",
    "# ----------------------------------------------------------------------- #\n",
    "# Plot initial condition ------------------------------------------------ #\n",
    "p = plot( ? )\n",
    "\n",
    "display(p)\n",
    "# ----------------------------------------------------------------------- #"
   ]
  },
  {
   "cell_type": "markdown",
   "metadata": {},
   "source": [
    "### Randbedingungen\n",
    "\n",
    "Zur Lösung unseres Problem, müssen wir noch die Anfangsbedingungen definieren. Dazu nehmen wir 300 °C für das Umgebungsgestein und 1200 °C für den Dike an. D.h. die Anfangstemperatur ist definiert durch:\n",
    "\n",
    "$$\n",
    "T \\left(x < \\left( \\frac{L}{2} - W \\right), x > \\left( \\frac{L}{2} + W \\right), t = 0 \\right) = 300, \n",
    "$$\n",
    "$$\n",
    "T \\left(x > \\left( \\frac{L}{2} - W \\right), x < \\left( \\frac{L}{2} + W \\right), t = 0 \\right) = 1200.\n",
    "$$\n",
    "\n",
    "Da wir zentrale Gitterpunkte für die Temperatur verwenden, liegt kein Gitterpunkt direkt auf den Rändern (hingegen jeder Erwartung ist das allerdings ein Vorteil!). Zur Festlegung der Temperaturrandbedingungen müssen wir uns also der zusätzlichen *Ghost nodes* bediehnen (siehe Abbildung 2), d.h. wir bestimmen die Temperatur auf den *Ghostnodes* um die partielle Differentialgleichung der Temperatur auf dem **nächsten inneren** Gitterpunkt mit Hilfe der finiten Differenzen lösen zu können. Für eine konstante Temperaturbedingung and den Rändern (Dirichlet), können wir die Temperatur der *Ghostnodes* durch lineare Interpolation bestimmem, so dass: \n",
    "\n",
    "**West**\n",
    "$$\n",
    "T_{Ghost,W} = 2 T_{BC,W} + T[1],\n",
    "$$\n",
    "**East**\n",
    "$$\n",
    "T_{Ghost,E} = 2 T_{BC,E} + T[nc].\n",
    "$$"
   ]
  },
  {
   "cell_type": "markdown",
   "metadata": {},
   "source": [
    "Da wir ein tridiagonales Gleichungssystem haben, muss man die Koeffizienten und die rechte Seite für die Gleichungen des **ersten** und **letzten** **inneren Gitterpunktes** in Abhängigkeit der Randbedingungen wie folgt modifizieren (Herleitung siehe Vorlesung): \n",
    "\n",
    "#### **Dirichlet**\n",
    "*West*\n",
    "$$\n",
    "- a T_{2}^{n+1} + \\left(3 a + b \\right) T_{1}^{n+1} = b T{1}^{n} + 2 a T_{BC,W}\n",
    "$$\n",
    "*East*\n",
    "$$\n",
    "\\left(3 a + b \\right) T_{nc}^{n+1} - a T_{nc-1}^{n+1}= b T_{nc}^{n} + 2 a T_{BC,E}\n",
    "$$\n",
    "\n",
    "#### **Neumann**\n",
    "*West*\n",
    "$$\n",
    "- a T_{2}^{n+1} + \\left(a + b \\right) T_{1}^{n+1} = b T_{1}^n - a c_{W} \\Delta{x}\n",
    "$$\n",
    "*East*\n",
    "$$\n",
    "\\left(a + b \\right) T_{nc}^{n+1} - a T_{nc-1}^{n+1} = b T_{nc}^n - a c_{E} \\Delta{x}\n",
    "$$\n",
    "\n",
    "Bei der Initialisierung der Randbedingungen bediehnung wir uns eines Tricks und definieren die Temperatur auf den *Ghostnodes* später im Skript: "
   ]
  },
  {
   "cell_type": "code",
   "execution_count": null,
   "metadata": {},
   "outputs": [],
   "source": [
    "# Randbdingungen -------------------------------------------------------- #\n",
    "BC   = (\n",
    "    type = (W=:Dirichlet, E=:Dirichlet),\n",
    "    # type = (W=:Neumann, E=:Neumann),\n",
    "    val  = (W=300.0, E=300.0))\n",
    "#end\n",
    "# ----------------------------------------------------------------------- #"
   ]
  },
  {
   "cell_type": "markdown",
   "metadata": {},
   "source": [
    "### Gleichungssystem\n",
    "\n",
    "Lasst uns nun die Koeffizientenmatrix und rechte Seite initialisieren: "
   ]
  },
  {
   "cell_type": "code",
   "execution_count": null,
   "metadata": {},
   "outputs": [],
   "source": [
    "# Assemble Coefficient Matrix ------------------------------------------- #\n",
    "# Definition der Matrix (hier in Sparse Form)\n",
    "ndof        =   ?\n",
    "K           =   ExtendableSparseMatrix(ndof,ndof)    \n",
    "# ----------------------------------------------------------------------- #\n",
    "# Setup right hand side ------------------------------------------------- #\n",
    "Told            =   ?\n",
    "Told[2:nc-1]    =   ?\n",
    "Told[1]         =   ?\n",
    "Told[nc]        =   ?\n",
    "# ----------------------------------------------------------------------- #"
   ]
  },
  {
   "cell_type": "markdown",
   "metadata": {},
   "source": [
    "### Visualisierung\n",
    "\n",
    "Zur Visualisierung der Ergebnisse als eine Animation in einer GIF Datei, müssen noch der Ort und der Name der Datei festgelegt werden: "
   ]
  },
  {
   "cell_type": "code",
   "execution_count": null,
   "metadata": {},
   "outputs": [],
   "source": [
    "# Animationssettings ---------------------------------------------------- #\n",
    "path        =   string(\"./Results/\")\n",
    "anim        =   Plots.Animation(path, String[] )\n",
    "filename    =   string(\"03_1D_implicit_\",alternative)\n",
    "save_fig    =   0\n",
    "# ----------------------------------------------------------------------- #          "
   ]
  },
  {
   "cell_type": "markdown",
   "metadata": {},
   "source": [
    "### Zeitschleife\n",
    "\n",
    "Numerisch können wir nun in einer Zeitschleife die *PDG* auf unterschiedliche Art und Weise lösen (Alternative I ist ausreichend; wer möchte, kann auch die Alternativen II und III lösen). "
   ]
  },
  {
   "cell_type": "code",
   "execution_count": null,
   "metadata": {},
   "outputs": [],
   "source": [
    "# Timestep loop --------------------------------------------------------- #\n",
    "for n = 1:nt\n",
    "    println(\"Zeitschritt: \",n,\", Time: $(round(time/day, digits=1)) [d]\")\n",
    "    if alternative == 1\n",
    "        a   =   ?\n",
    "        b   =   ?\n",
    "\n",
    "        @. Told       =   ?\n",
    "\n",
    "        # Alternative II\n",
    "        for i = 1:nc  \n",
    "            # Equation number\n",
    "            ii          =   i\n",
    "            # Stencil \n",
    "            iW          =   ii - 1\n",
    "            iC          =   ii\n",
    "            iE          =   ii + 1   \n",
    "            # Boundaries \n",
    "            inW    =  i==1    ? false  : true\n",
    "            DirW   = (i==1    && BC.type.W==:Dirichlet) ? 1. : 0.\n",
    "            NeuW   = (i==1    && BC.type.W==:Neumann  ) ? 1. : 0.\n",
    "            inE    =  i==nc ? false  : true\n",
    "            DirE   = (i==nc && BC.type.E==:Dirichlet) ? 1. : 0.\n",
    "            NeuE   = (i==nc && BC.type.E==:Neumann  ) ? 1. : 0.\n",
    "            if inE\n",
    "                K[ii,iE]    = ?\n",
    "            end\n",
    "            K[ii,iC]        =  ?\n",
    "            if inW \n",
    "                K[ii,iW]    = ?\n",
    "            end        \n",
    "        \n",
    "            # Aenderung der rechten Seite durch die Randbedingungen ------------- #        \n",
    "            if inE \n",
    "                # West boundary\n",
    "                Told[1]   = ?\n",
    "            end\n",
    "            if inW\n",
    "                # East boundary\n",
    "                Told[nc]  = ?\n",
    "            end\n",
    "        end\n",
    "            \n",
    "        T       =   K\\Told\n",
    "    elseif alternative == 2            \n",
    "        T, K    =   BackwardEuler!(?)\n",
    "    elseif alternative == 3\n",
    "        for iter = 1:niter\n",
    "            # Residual iteration\n",
    "            ComputeResiduals!(?)\n",
    "            @printf(\"||R|| = %1.4e\\n\", norm(R)/length(R))            \n",
    "            norm(R)/length(R) < ϵ ? break : nothing\n",
    "            # Assemble linear system\n",
    "            K  = AssembleMatrix(?)\n",
    "            # Solve for temperature correction: Cholesky factorisation\n",
    "            Kc = cholesky(K.cscmatrix)\n",
    "            # Solve for temperature correction: Back substitutions\n",
    "            δT = ?             \n",
    "            # Update temperature            \n",
    "            T = T .+ δT            \n",
    "        end        \n",
    "    end\n",
    "    # Überschreiben wir nur das alte Temperaturfeld mit dem neuen      \n",
    "    @. Told    =   ? \n",
    "    # Berechnung der Zeit ---\n",
    "    time    =   time + Δt        \n",
    "    # Plot Lösung ---\n",
    "    p = plot( ? )\n",
    "    if save_fig == 1\n",
    "        Plots.frame(anim)\n",
    "    else\n",
    "        display(p)\n",
    "    end\n",
    "end"
   ]
  },
  {
   "cell_type": "markdown",
   "metadata": {},
   "source": [
    "Nun müssen wir noch die Animation erstellen und speichern:"
   ]
  },
  {
   "cell_type": "code",
   "execution_count": null,
   "metadata": {},
   "outputs": [],
   "source": [
    "# Speicher Animation ---------------------------------------------------- #\n",
    "if save_fig == 1\n",
    "    # Write the frames to a GIF file\n",
    "    Plots.gif(anim, string( path, filename, \".gif\" ), fps = 15)\n",
    "else\n",
    "    display(p)\n",
    "end\n",
    "foreach(rm, filter(endswith(\".png\"), readdir(path,join=true)))\n",
    "# ----------------------------------------------------------------------- #"
   ]
  }
 ],
 "metadata": {
  "kernelspec": {
   "display_name": "Julia 1.10.4",
   "language": "julia",
   "name": "julia-1.10"
  },
  "language_info": {
   "file_extension": ".jl",
   "mimetype": "application/julia",
   "name": "julia",
   "version": "1.10.4"
  }
 },
 "nbformat": 4,
 "nbformat_minor": 2
}
