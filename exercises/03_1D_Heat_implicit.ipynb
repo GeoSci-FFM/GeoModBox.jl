{
 "cells": [
  {
   "cell_type": "markdown",
   "metadata": {},
   "source": [
    "# Lösen der 1-D Diffusionsgleichung (implizit)"
   ]
  },
  {
   "cell_type": "markdown",
   "metadata": {},
   "source": [
    "Wenden wir nun das implizite finite Differenzen Schema auf unser 1-D Problem der Wärmediffusionsgleichung an. Zur Wiederholung hier noch einmal das Problem:"
   ]
  },
  {
   "cell_type": "markdown",
   "metadata": {},
   "source": [
    "## Das Problem\n",
    "\n",
    "Wir sind an der Änderung der Temperatur $T$ mit der Zeit $t$ interessiert, für eine bestimmte Anfangstemperatur $T_{0}[x,t_{0}]$ und Randbedingungen; z.B. eine Dikeintrusion in der Lithosphäre (mit $L$ = 100 m; $W$ = 5 m; $\\kappa$ = 10⁻⁶ m²/s).\n",
    "\n",
    "<img src=\"./Figures/Exercise02_1.png\" alt=\"drawing\" width=\"350\"/> <br>\n",
    "**Abb. 1.** Sketch des geologischen Problem und des Profils der Anfangstemperaturbedingung. \n",
    "\n",
    "Wie lange würde es dauern, bis sich der Dike auf eine bestimmte Temperatur abgekühlt hat?\n",
    "\n",
    "Zur Bestimmung der Dauer der Abkühlung müssen wir die Diffusionsgleichung der Temperatur lösen (parabolische PDG):\n",
    "\n",
    "$$\n",
    "\\rho c_p \\frac{\\partial{T}}{\\partial{t}} = \\frac{\\partial{}}{\\partial{x}} \\left( k\\frac{\\partial{T}}{\\partial{x}} \\right), \\tag{1}\n",
    "$$\n",
    "\n",
    "wobei $k$ die thermische Leitfähigkeit [W/m/K], $T$ die Temperatur [K] und $\\rho$ die Dichte [kg/m³] ist. Durch Umformen (Annahme, dass die thermischen parameter konstant sind!) können wir die Gleichung durch die thermische Diffusivität $\\kappa = \\frac{k}{\\rho c_p}$ ausdrücken: \n",
    "\n",
    "$$\n",
    "\\frac{\\partial{T}}{\\partial{t}} = \\kappa \\frac{\\partial^2{T}}{\\partial{x^2}}. \\tag{2}\n",
    "$$"
   ]
  },
  {
   "cell_type": "markdown",
   "metadata": {},
   "source": [
    "### Finite Differenzen Approximation\n",
    "\n",
    "Zur numerischen Lösung der Problems mit Hilfe von finiten Differenzen müssen wir zuerst ein numerisches Gitter erstellen (die Diskretisierung):\n",
    "\n",
    "<img src=\"./Figures/Exercise02_2.png\" alt=\"drawing\" width=\"600\"/> <br>\n",
    "**Abb. 2.** Numerisches 1-D Gitter für die Diskretisierung der *PDG*. \n",
    "\n",
    "Um die Diffusionsgleichung numerisch mit Hilfe des impliziten finiten Differenzen Schema zu lösen müssen wir die *PDG* wie folgt umformulieren:\n",
    "\n",
    "$$\n",
    "\\frac{T_{i}^{n+1}-T_{i}^{n}}{\\Delta t} = \\frac{T_{i+1}^{n+1} - 2T_{i}^{n+1} + T_{i-1}^{n+1}}{(\\Delta x)^2} \\tag{3}\n",
    "$$\n",
    "\n",
    "Diese Gleichung können wir umformulieren, so dass wir ein Gleichungssystem erhalten, mit so vielen Gleichungen wie zentralen Gitterpunkten:\n",
    "\n",
    "$$\n",
    "-a T_{i-1}^{n+1} + \\left(2a + b\\right) T_{i}^{n+1} - a T_{i+1}^{n+1} = b T_{i}^{n}, \\tag{4}\n",
    "$$\n",
    "\n",
    "mit \n",
    "$$\n",
    "a=\\frac{\\kappa}{\\Delta{x^2}}, b = \\frac{1}{\\Delta{t}}. \\tag{5}\n",
    "$$\n",
    "\n",
    "D.h. wir haben ein tridiagonales (drei Diagonalen) Gleichungssystem, welches durch eine Koeffizientenmatrix $\\mathbf{A}$, einem unbekannten Vektor $T^{n+1}$ und einen bekannten Vektor $T^n$ beschrieben werden kann. "
   ]
  },
  {
   "cell_type": "markdown",
   "metadata": {},
   "source": [
    "Laden wir nun zuerst die notwendigen Module zur numerischen Lösung unseres Problems. Zuerst wollen wir die Solver selbst programmieren, bevor die voreigestellen Solver der `GeoModBox.jl` genutzt werden können. Der voreigestelle Solver befindet sich im Submodul `GeoModBox.HeatEquation.OneD`. "
   ]
  },
  {
   "cell_type": "code",
   "execution_count": null,
   "metadata": {},
   "outputs": [],
   "source": [
    "using Plots, ExtendableSparse, LinearAlgebra, Printf\n",
    "using ?"
   ]
  },
  {
   "cell_type": "markdown",
   "metadata": {},
   "source": [
    "### Parameterdefinitionen\n",
    "\n",
    "Definieren wir für das Problem erst einmal bestimmte Parameter (physikalische Konstanten, numerische Domaine, Zeitparameters):"
   ]
  },
  {
   "cell_type": "code",
   "execution_count": null,
   "metadata": {},
   "outputs": [],
   "source": [
    "alternative =   1\n",
    "\n",
    "# Physikalische Parameter ----------------------------------------------- #\n",
    "L           =   ?   # Laenge der Modeldomain [m]\n",
    "Tdike       =   ?  # Temperatur des Dikes [C]\n",
    "Trock       =   ?   # Temperatur des Umgebungsgesteins [C]\n",
    "κ           =   ?  # Thermische Diffusivitaet des Gesteins [m2/s]\n",
    "W           =   ?     # Breite des Dykes [m]\n",
    "# ----------------------------------------------------------------------- #\n",
    "# Numerische Parameter -------------------------------------------------- #\n",
    "nc          =   ?                 # Anzahl der Gitterpunkte in x-Richtung\n",
    "Δx          =   ?                # Gitterlaenge\n",
    "xc          =   ?   # Gitter\n",
    "# Iterations --  defection correction method\n",
    "niter       =   10  \n",
    "ϵ           =   1.0e-10       \n",
    "# ----------------------------------------------------------------------- #\n",
    "# Zeit Parameter -------------------------------------------------------- #\n",
    "day         =   3600.0*24.0     # Sekunden pro Tag\n",
    "fac         =   1.0 \n",
    "Δt          =   ?\n",
    "tmax        =   365.0*day \n",
    "nt          =   ceil(Int,tmax/Δt)\n",
    "time        =   0.0\n",
    "# ----------------------------------------------------------------------- #"
   ]
  },
  {
   "cell_type": "markdown",
   "metadata": {},
   "source": [
    "### Anfangsbedingungen\n",
    "\n",
    "Zur Lösung unseres Problem, müssen wir noch die Anfangsbedingungen definieren. Dazu nehmen wir 300 °C für das Umgebungsgestein und 1200 °C für den Dike an. D.h. die Anfangstemperatur ist definiert durch:\n",
    "\n",
    "$$\n",
    "T \\left(x < \\left( \\frac{L}{2} - W \\right), x > \\left( \\frac{L}{2} + W \\right), t = 0 \\right) = 300, \\tag{6}\n",
    "$$\n",
    "$$\n",
    "T \\left(x > \\left( \\frac{L}{2} - W \\right), x < \\left( \\frac{L}{2} + W \\right), t = 0 \\right) = 1200. \\tag{7}\n",
    "$$\n",
    "\n",
    "Jetzt wollen wir erst einmal die Anfangsbedingung graphisch darstellen. "
   ]
  },
  {
   "cell_type": "code",
   "execution_count": null,
   "metadata": {},
   "outputs": [],
   "source": [
    "# Anfangsbedingungen; Temperaturprofil ---------------------------------- #\n",
    "T   =   (\n",
    "            ?,\n",
    "            R       =   zeros(nc),\n",
    "            ∂T2∂x2  =   zeros(nc))\n",
    "T.T        .=  ?   # Temperatur des Umgebungsgesteins\n",
    "@. T.T[?]  =   ?   # Temperatur des Dikes\n",
    "T.T_ex[2:end-1]         .=      T.T\n",
    "T.T0                    .=      T.T\n",
    "# ----------------------------------------------------------------------- #\n",
    "# Plot initial condition ------------------------------------------------ #\n",
    "p = plot( ? )\n",
    "\n",
    "display(p)\n",
    "# ----------------------------------------------------------------------- #"
   ]
  },
  {
   "cell_type": "markdown",
   "metadata": {},
   "source": [
    "### Randbedingungen\n",
    "\n",
    "Da wir zentrale Gitterpunkte für die Temperatur verwenden, liegt kein Gitterpunkt direkt auf den Rändern (hingegen jeder Erwartung ist das allerdings ein Vorteil!). Zur Festlegung der Temperaturrandbedingungen müssen wir uns also der zusätzlichen *Ghost nodes* bediehnen (siehe Abbildung 2), d.h. wir bestimmen die Temperatur auf den *Ghost nodes* um die partielle Differentialgleichung der Temperatur auf dem **nächsten inneren** Gitterpunkt mit Hilfe der finiten Differenzen lösen zu können. Für eine konstante Temperaturbedingung and den Rändern (Dirichlet), können wir die Temperatur der *Ghost nodes* durch lineare Interpolation bestimmem, so dass: \n",
    "\n",
    "**West**\n",
    "$$\n",
    "T_{Ghost,W} = 2 T_{BC,W} + T_{1}, \\tag{8}\n",
    "$$\n",
    "**East**\n",
    "$$\n",
    "T_{Ghost,E} = 2 T_{BC,E} + T_{nc}. \\tag{9}\n",
    "$$\n",
    "\n",
    "Für konstante Flussrandbedingungen ist die Temperatur an den Rändern gegeben durch: \n",
    "\n",
    "**West**\n",
    "$$\n",
    "T_{Ghost,W} = T_{1} - c_W \\Delta x, \\tag{10}\n",
    "$$\n",
    "**East**\n",
    "$$\n",
    "T_{Ghost,E} = T_{1} + c_E \\Delta x, \\tag{11}\n",
    "$$\n",
    "\n",
    "wobei $c_W = \\frac{\\partial{T}}{\\partial{x}}$ und $c_E = \\frac{\\partial{T}}{\\partial{x}}$ die Flussbedingungen am jeweiligen Rand definieren. \n"
   ]
  },
  {
   "cell_type": "markdown",
   "metadata": {},
   "source": [
    "Da wir ein tridiagonales Gleichungssystem haben, muss man die Koeffizienten und die rechte Seite für die Gleichungen des **ersten** und **letzten inneren Gitterpunktes** in Abhängigkeit der Randbedingungen wie folgt modifizieren (Herleitung siehe Vorlesung): \n",
    "\n",
    "#### **Dirichlet**\n",
    "*West*\n",
    "$$\n",
    "\\left(3 a + b \\right) T_{1}^{n+1} - a T_{2}^{n+1} = b T{1}^{n} + 2 a T_{BC,W} \\tag{12}\n",
    "$$\n",
    "*East*\n",
    "$$\n",
    "- a T_{nc-1}^{n+1} + \\left(3 a + b \\right) T_{nc}^{n+1} = b T_{nc}^{n} + 2 a T_{BC,E} \\tag{13}\n",
    "$$\n",
    "\n",
    "#### **Neumann**\n",
    "*West*\n",
    "$$\n",
    "\\left(a + b \\right) T_{1}^{n+1} - a T_{2}^{n+1} = b T_{1}^n - a c_{W} \\Delta{x} \\tag{14}\n",
    "$$\n",
    "*East*\n",
    "$$\n",
    "- a T_{nc-1}^{n+1} + \\left(a + b \\right) T_{nc}^{n+1}  = b T_{nc}^n - a c_{E} \\Delta{x} \\tag{15}\n",
    "$$\n",
    "\n",
    "Bei der Initialisierung der Randbedingungen bediehnung wir uns eines Tricks und definieren die Temperatur auf den *Ghost nodes* später im Skript: "
   ]
  },
  {
   "cell_type": "code",
   "execution_count": null,
   "metadata": {},
   "outputs": [],
   "source": [
    "# Randbdingungen -------------------------------------------------------- #\n",
    "BC   = (\n",
    "    type = (W=:Dirichlet, E=:Dirichlet),\n",
    "    # type = (W=:Neumann, E=:Neumann),\n",
    "    val  = (W=300.0, E=300.0))\n",
    "#end\n",
    "# ----------------------------------------------------------------------- #"
   ]
  },
  {
   "cell_type": "markdown",
   "metadata": {},
   "source": [
    "### Gleichungssystem\n",
    "\n",
    "Lasst uns nun die Koeffizientenmatrix und rechte Seite initialisieren: "
   ]
  },
  {
   "cell_type": "code",
   "execution_count": null,
   "metadata": {},
   "outputs": [],
   "source": [
    "# Assemble Coefficient Matrix ------------------------------------------- #\n",
    "# Definition der Matrix (hier in Sparse Form)\n",
    "ndof        =   length(?)\n",
    "K           =   ExtendableSparseMatrix(?,?)    \n",
    "rhs         =   zeros(?)\n",
    "# ----------------------------------------------------------------------- #"
   ]
  },
  {
   "cell_type": "markdown",
   "metadata": {},
   "source": [
    "### Visualisierung\n",
    "\n",
    "Zur Visualisierung der Ergebnisse als eine Animation in einer GIF Datei, müssen noch der Ort und der Name der Datei festgelegt werden: "
   ]
  },
  {
   "cell_type": "code",
   "execution_count": null,
   "metadata": {},
   "outputs": [],
   "source": [
    "# Animationssettings ---------------------------------------------------- #\n",
    "path        =   string(\"./Results/\")\n",
    "anim        =   Plots.Animation(path, String[] )\n",
    "filename    =   string(\"03_1D_implicit_\",alternative)\n",
    "save_fig    =   0\n",
    "# ----------------------------------------------------------------------- #          "
   ]
  },
  {
   "cell_type": "markdown",
   "metadata": {},
   "source": [
    "### Zeitschleife\n",
    "\n",
    "Numerisch können wir nun in einer Zeitschleife die *PDG* auf unterschiedliche Art und Weise lösen (Alternative I ist ausreichend; wer möchte, kann auch die Alternativen II und III lösen). "
   ]
  },
  {
   "cell_type": "code",
   "execution_count": null,
   "metadata": {},
   "outputs": [],
   "source": [
    "# Timestep loop --------------------------------------------------------- #\n",
    "for n = 1:nt\n",
    "    println(\"Zeitschritt: \",n,\", Time: $(round(time/day, digits=1)) [d]\")\n",
    "    if alternative == 1\n",
    "        a   =   ?\n",
    "        b   =   ?\n",
    "\n",
    "        @. rhs     =   ?\n",
    "\n",
    "        # Alternative I\n",
    "        for i = 1:nc  \n",
    "            # Equation number\n",
    "            ii          =   i\n",
    "            # Stencil \n",
    "            iW          =   ii - 1\n",
    "            iC          =   ii\n",
    "            iE          =   ii + 1   \n",
    "            # Boundaries \n",
    "            inW    =  i==1    ? false  : true\n",
    "            DirW   = (i==1    && BC.type.W==:Dirichlet) ? 1. : 0.\n",
    "            NeuW   = (i==1    && BC.type.W==:Neumann  ) ? 1. : 0.\n",
    "            inE    =  i==nc ? false  : true\n",
    "            DirE   = (i==nc && BC.type.E==:Dirichlet) ? 1. : 0.\n",
    "            NeuE   = (i==nc && BC.type.E==:Neumann  ) ? 1. : 0.\n",
    "            if inE\n",
    "                K[ii,iE]    = ?\n",
    "            end\n",
    "            K[ii,iC]        =  ?\n",
    "            if inW \n",
    "                K[ii,iW]    = ?\n",
    "            end\n",
    "            # Aenderung der rechten Seite durch die Randbedingungen ------------- #        \n",
    "            rhs[i]  += ? \n",
    "        end            \n",
    "        T.T     .=  ?\n",
    "    elseif alternative == 2            \n",
    "        BackwardEuler1Dc!(?)\n",
    "    elseif alternative == 3\n",
    "        for iter = 1:niter\n",
    "            # Residual iteration\n",
    "            ComputeResiduals1Dc!(?)\n",
    "            @printf(\"||R|| = %1.4e\\n\", norm(T.R)/length(T.R))            \n",
    "            norm(T.R)/length(T.R) < ϵ ? break : nothing\n",
    "            # Assemble linear system\n",
    "            AssembleMatrix1Dc!(?)\n",
    "            # Solve for temperature correction: Cholesky factorisation\n",
    "            Kc = cholesky(K.cscmatrix)\n",
    "            # Solve for temperature correction: Back substitutions\n",
    "            δT  = ?             \n",
    "            # Update temperature            \n",
    "            T.T .=  ?\n",
    "        end        \n",
    "        # Überschreiben wir nur das alte Temperaturfeld mit dem neuen      \n",
    "        @. T.T0     =   ? \n",
    "    end    \n",
    "    # Berechnung der Zeit ---\n",
    "    time    =   time + Δt        \n",
    "    # Plot Lösung ---\n",
    "    p = plot( ? )\n",
    "    if save_fig == 1\n",
    "        Plots.frame(anim)\n",
    "    else\n",
    "        display(p)\n",
    "    end\n",
    "end"
   ]
  },
  {
   "cell_type": "markdown",
   "metadata": {},
   "source": [
    "Nun müssen wir noch die Animation erstellen und speichern:"
   ]
  },
  {
   "cell_type": "code",
   "execution_count": null,
   "metadata": {},
   "outputs": [],
   "source": [
    "# Speicher Animation ---------------------------------------------------- #\n",
    "if save_fig == 1\n",
    "    # Write the frames to a GIF file\n",
    "    Plots.gif(anim, string( path, filename, \".gif\" ), fps = 15)\n",
    "else\n",
    "    display(p)\n",
    "end\n",
    "foreach(rm, filter(startswith(string(path,\"00\")), readdir(path,join=true)))\n",
    "# ----------------------------------------------------------------------- #"
   ]
  }
 ],
 "metadata": {
  "kernelspec": {
   "display_name": "Julia 1.10.4",
   "language": "julia",
   "name": "julia-1.10"
  },
  "language_info": {
   "file_extension": ".jl",
   "mimetype": "application/julia",
   "name": "julia",
   "version": "1.10.4"
  }
 },
 "nbformat": 4,
 "nbformat_minor": 2
}
