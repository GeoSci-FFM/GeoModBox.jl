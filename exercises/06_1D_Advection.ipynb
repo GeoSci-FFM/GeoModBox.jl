{
 "cells": [
  {
   "cell_type": "markdown",
   "metadata": {},
   "source": [
    "# Advektionsgleichung (1D)"
   ]
  },
  {
   "cell_type": "markdown",
   "metadata": {},
   "source": [
    "Bisher haben wir die Energieerhaltungsgleichung nur ohne den Transport von Materialien (der Advektion)\n",
    "betrachtet. Häufig haben wir aber ein Problem in dem sich das Material bewegt und bestimmte Größen, wie\n",
    "z.B. die Temperatur, Dichte, etc., transportiert werden müssen (z.B. in Mantleplumes). Generell gesehen, ist die\n",
    "Mantelkonvektion ein Beispiel eines Systems, in welchem die Temperatur sowohl durch **Diffusion** (vor allem in\n",
    "den Grenzschichten) als auch **Advektion** (vor allem in Inneren) transportiert wird.\n",
    "\n",
    "Betrachten wir im Folgenden nur die **Advektion** alleine (d.h. k, κ = 0).\n",
    "\n",
    "Im 1-D Fall reduziert sich die Gleichung dadurch zur reinen Advektionsgleichung:\n",
    "\n",
    "$$\n",
    "\\frac{\\partial{T}}{\\partial{t}}=-v_x\\frac{\\partial{T}}{\\partial{x}}. \\tag{1}\n",
    "$$\n",
    "\n",
    "Diese Gleichung lässt sich durch verschiedene Diskretisierungsverfahren numerisch lösen und wir wollen\n",
    "verschiedene Verfahren programieren und auf ein bestimmtes Advektionsproblem anwenden."
   ]
  },
  {
   "cell_type": "markdown",
   "metadata": {},
   "source": [
    "Betrachten wir dazu zwei 1-D Probleme (z.B. ein horizontales Temperaturprofil) mit bestimmten Anomalien:\n",
    "\n",
    "&emsp;    • Einen Gaußchen Temperaturverlauf (ein glatter Übergang):<br>\n",
    "<img src=\"../Figures/Exercise06_gaussian.png\" alt=\"drawing\" width=\"400\"/> <br>\n",
    "\n",
    "\n",
    "&emsp;    • Eine block-förmige Temperaturanomalie (ein sehr scharfer Übergang):<br>\n",
    "<img src=\"../Figures/Exercise06_block.png\" alt=\"drawing\" width=\"400\"/> <br>\n"
   ]
  },
  {
   "cell_type": "markdown",
   "metadata": {},
   "source": [
    "Laden wir erst einmal die notwendigen Module: "
   ]
  },
  {
   "cell_type": "code",
   "execution_count": null,
   "metadata": {},
   "outputs": [],
   "source": [
    "using Plots, Dierckx\n",
    "using ?"
   ]
  },
  {
   "cell_type": "markdown",
   "metadata": {},
   "source": [
    "Definieren wir nun unsere Geometrie und die benötigten numerischen Parameter (d.h.\n",
    "Gitterauflösung, Gitter, etc.):"
   ]
  },
  {
   "cell_type": "code",
   "execution_count": null,
   "metadata": {},
   "outputs": [],
   "source": [
    "# Geometrische Konstanten ----------------------------------------------- #\n",
    "xmin    =   ?                           #   [ m ]\n",
    "xmax    =   ?                           #   [ m ]\n",
    "# ----------------------------------------------------------------------- #\n",
    "# Numerische Konstanten ------------------------------------------------- #\n",
    "nc      =   ?                           #   Anzahl der Gitterpunkte\n",
    "Δx      =   ?                           #   Gitterlänge\n",
    "# ---\n",
    "xc      =   ?                           #   x-Koordinate\n",
    "xcwe    =   ?                           #   Erweiterted x-Koordinate\n",
    "X       =   zeros(nc)\n",
    "# ----------------------------------------------------------------------- #\n",
    "# Maximale Laufzeit des Models ------------------------------------------ #\n",
    "tmax    =   ?                           #   [ s ]\n",
    "# ----------------------------------------------------------------------- #\n",
    "# Horizontale Geschwindigkeit ------------------------------------------- #\n",
    "vx      =   ?                           #   [ m/s ]\n",
    "# ----------------------------------------------------------------------- #\n",
    "# Definition der Zeitschrittlänge --------------------------------------- #\n",
    "Δtfac   =   ?                           #   Courant-Kriterium\n",
    "Δt      =   ?\n",
    "nt      =   ceil(Int,tmax/Δt)           #   Anzahl der Zeitschritte\n",
    "# ----------------------------------------------------------------------- #"
   ]
  },
  {
   "cell_type": "markdown",
   "metadata": {},
   "source": [
    "Nun können wir zum einen die FD-Methode wählen ('FTCS', 'upwind', 'downwind', 'lax', 'slf', 'semi-lag' - die\n",
    "Gleichungen und Erläuterungen dazu sind im Detail in den Folien der Vorlesung zu finden) und zum anderen\n",
    "das Anfangsprofil wählen ('block' oder 'gaussian'):"
   ]
  },
  {
   "cell_type": "code",
   "execution_count": null,
   "metadata": {},
   "outputs": [],
   "source": [
    "FD          =   (Method     = (Adv=:?,),)\n",
    "Ini         =   (T=:gaussian,)"
   ]
  },
  {
   "cell_type": "markdown",
   "metadata": {},
   "source": [
    "Zur Visualisierung und zum speichern der Animationsdatei muss der Speicherort festgelegt werden:"
   ]
  },
  {
   "cell_type": "code",
   "execution_count": null,
   "metadata": {},
   "outputs": [],
   "source": [
    "# Animationssettings ---------------------------------------------------- #\n",
    "path        =   string(\"./Results/\")\n",
    "anim        =   Plots.Animation(path, String[] )\n",
    "filename    =   string(\"06_1D_advection_\",Ini.T,\"_\",FD.Method.Adv)\n",
    "save_fig    =   1\n",
    "# ----------------------------------------------------------------------- #"
   ]
  },
  {
   "cell_type": "markdown",
   "metadata": {},
   "source": [
    "Falls wir die Tracer Methode verwenden wollen, müssen wir noch die Anzahl der Tracer pro Gitterlänge\n",
    "festlegen:"
   ]
  },
  {
   "cell_type": "code",
   "execution_count": null,
   "metadata": {},
   "outputs": [],
   "source": [
    "# Tracer advection method ----------------------------------------------- #\n",
    "nmx         =   ?       #   Number of tracers per \"cell\"\n",
    "# ----------------------------------------------------------------------- #"
   ]
  },
  {
   "cell_type": "markdown",
   "metadata": {},
   "source": [
    "Wollen wir nun die Anfangsbedingung (d.h. das Anfangstemperaturprofil) definieren und plotten:"
   ]
  },
  {
   "cell_type": "code",
   "execution_count": null,
   "metadata": {},
   "outputs": [],
   "source": [
    "if Ini.T==:block \n",
    "    # Hintergrundtemperatur ----------------------------------------- #\n",
    "    Tb      =   ?                   #   [ K ]\n",
    "    \n",
    "    # Lokalität und Intensität der Temperaturanomalie --------------- #\n",
    "    xTl     =   ?\n",
    "    xTr     =   ?\n",
    "    Ta      =   ?                   #   [ K ]\n",
    "    \n",
    "    # Erstellung des Anfangstemperaturprofiles ---------------------- #\n",
    "    T       =   ?\n",
    "    T[ ? ]       .=  ?\n",
    "    Tmin    =   minimum(T)\n",
    "    Tmax    =   maximum(T)\n",
    "    tc      =   100\n",
    "elseif Ini.T==:gaussian\n",
    "    # Gaußsche Temperature Verteilung ------------------------------- #\n",
    "    Tb      =   ?                   #   Hintergrundtempertur\n",
    "    Ampl    =   ?                   #   Amplitude\n",
    "    sigma   =   ?                   #   Standard Abweichung\n",
    "    xcG     =   ?                   #   x-Koordinate des Maximums\n",
    "    T       =   zeros(nc)\n",
    "    @. T    =  Tb + Ampl*exp(-((xc - xcG)^2)/sigma^2)\n",
    "    \n",
    "    Tmin    =   minimum(T)\n",
    "    Tmax    =   maximum(T)\n",
    "    tc      =   Ampl\n",
    "end\n",
    "TWE             =   zeros(nc+2)\n",
    "TWE[2:end-1]    .=  T\n",
    "TWE[1]          =   T[end]\n",
    "TWE[end]        =   T[1]\n",
    "TWE2            =   zeros(nc+2)\n",
    "\n",
    "q = plot( ? )\n",
    "if save_fig==0\n",
    "    display(q)\n",
    "end\n",
    "\n",
    "if FD.Method.Adv==:tracers\n",
    "    # Gesamtanzahl der Tracer\n",
    "    nm          =   (nc)*nmx\n",
    "    # Abstand der Tracer\n",
    "    Δmx         =   (abs(xmin)+abs(xmax))/(nm+1)\n",
    "    # x-Koordinaten der Tracer    \n",
    "    xm          =   collect(xmin+Δmx:Δmx:xmax-Δmx) .+ rand(nm).*0.5*Δmx\n",
    "    # Temperatur auf den Tracern\n",
    "    Tm          =   zeros(nm)    \n",
    "end"
   ]
  },
  {
   "cell_type": "markdown",
   "metadata": {},
   "source": [
    "Nun können wir die Gleichungen zur Lösung der Advektionsgleichung programieren. "
   ]
  },
  {
   "cell_type": "code",
   "execution_count": null,
   "metadata": {},
   "outputs": [],
   "source": [
    "# Lösen der Advektionsgleichung --------------------------------------- #\n",
    "for i = 2:nt\n",
    "    display(string(\"Time step: \",i))\n",
    "    TWE[2:end-1]    .=  T\n",
    "    TWE[1]          =   T[end]\n",
    "    TWE[end]        =   T[1]\n",
    "    \n",
    "    if FD.Method.Adv==:FTCS        \n",
    "        T       .= ?\n",
    "    elseif FD.Method.Adv==:upwind\n",
    "        if vx > 0\n",
    "            T       .= ?\n",
    "        elseif vx < 0\n",
    "            T .= ?\n",
    "        end\n",
    "    elseif FD.Method.Adv==:downwind\n",
    "        T   .= ? \n",
    "    elseif FD.Method.Adv==:lax\n",
    "        T   .= ? \n",
    "    elseif FD.Method.Adv==:slf\n",
    "        if i==2\n",
    "            T   .= ?\n",
    "        else\n",
    "            T   .= ?\n",
    "        end\n",
    "        TWE2 .= TWE\n",
    "    elseif FD.Method.Adv==:semilag\n",
    "        X       .=  ?\n",
    "        spl     =   Spline1D(xcwe,TWE;k=3)\n",
    "        T       =   spl.(X)        \n",
    "    elseif FD.Method.Adv==:tracers \n",
    "        spl     =   Spline1D(xcwe,TWE;k=3) \n",
    "        Tm      =   spl.(xm)        \n",
    "        RK4O1D!( xm, Δt, vx, xmin, xmax )\n",
    "        XMT     =   hcat(xm,Tm)        \n",
    "        XMT     =   sortslices(XMT,dims=1)\n",
    "        xm      .=  XMT[:,1]\n",
    "        Tm      .=  XMT[:,2]\n",
    "        spl2    =   Spline1D(xm,Tm;k=3)\n",
    "        T       =   spl2.(xc)\n",
    "    end\n",
    "    \n",
    "    # Darstellung des Profils\n",
    "    q = plot( ? )\n",
    "    if FD.Method.Adv==:tracers \n",
    "        plot!( ? )\n",
    "    end\n",
    "    if save_fig == 1\n",
    "        Plots.frame(anim)\n",
    "    else\n",
    "        display(q)\n",
    "    end\n",
    "end\n",
    "\n",
    "# Speicher Animation ---------------------------------------------------- #\n",
    "if save_fig == 1\n",
    "    # Write the frames to a GIF file\n",
    "    Plots.gif(anim, string( path, filename, \".gif\" ), fps = 15)\n",
    "    foreach(rm, filter(startswith(string(path,\"00\")), readdir(path,join=true)))\n",
    "end\n",
    "# ----------------------------------------------------------------------- #\n"
   ]
  }
 ],
 "metadata": {
  "kernelspec": {
   "display_name": "Julia 1.10.4",
   "language": "julia",
   "name": "julia-1.10"
  },
  "language_info": {
   "file_extension": ".jl",
   "mimetype": "application/julia",
   "name": "julia",
   "version": "1.10.4"
  }
 },
 "nbformat": 4,
 "nbformat_minor": 2
}
