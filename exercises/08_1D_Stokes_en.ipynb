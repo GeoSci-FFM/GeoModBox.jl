{
 "cells": [
  {
   "cell_type": "markdown",
   "metadata": {},
   "source": [
    "# Stokes Equation (1D)\n",
    "\n",
    "Computation of a 1-D velocity profile for channel flow with both **constant** and **variable** depth-dependent viscosity profiles."
   ]
  },
  {
   "cell_type": "markdown",
   "metadata": {},
   "source": [
    "## Introduction\n",
    "\n",
    "The one-dimensional form of the Stokes equation (here we only consider the x-component) is given by:  \n",
    "\n",
    "$$\n",
    "0 = -\\frac{\\partial{P}}{\\partial{x}} + \\frac{\\partial}{\\partial{x}}\\left(\\eta \\left(\\frac{\\partial{v_x}}{\\partial{y}} + \\frac{\\partial{v_y}}{\\partial{x}}\\right)\\right). \\tag{1}\n",
    "$$\n",
    "\n",
    "<img src=\"./Figures/Exercise08_1.png\" alt=\"drawing\" width=\"500\"/> <br>\n",
    "\n",
    "**Fig. 1. Channel flow.** **Couette** (red) and **Couette–Poiseuille** (green) velocity profiles in channel flow.  \n",
    "Assuming a constant pressure gradient and laterally uniform viscosity, the flow in the channel can be described by a one-dimensional velocity profile.  \n",
    "\n",
    "&nbsp;&nbsp;&nbsp;If we assume that the flow is driven only by a constant pressure gradient and a constant velocity applied at the surface (or the bottom, or both), then the 1-D Stokes equation describes the velocity in a horizontal channel (Fig. 1):  \n",
    "\n",
    "$$\n",
    "\\frac{\\partial{P}}{\\partial{x}} = \\frac{\\partial{\\tau_{x,y}}}{\\partial{y}}, \\tag{2}\n",
    "$$\n",
    "\n",
    "where $P$ is the pressure and $\\tau_{x,y}$ the deviatoric shear stress. The shear stress is defined as:  \n",
    "\n",
    "$$\n",
    "\\tau_{x,y} = 2 \\eta \\dot{\\varepsilon}_{x,y}, \\tag{3}\n",
    "$$\n",
    "\n",
    "where $\\eta$ is the dynamic viscosity and $\\dot{\\varepsilon}_{x,y}$ the deviatoric shear strain rate, which is given by:  \n",
    "\n",
    "$$\n",
    "\\dot{\\varepsilon}_{x,y} = \\frac{1}{2}\\frac{\\partial{v_x}}{\\partial{y}}. \\tag{4}\n",
    "$$\n",
    "\n",
    "---\n",
    "\n",
    "**Physical meaning:**  \n",
    "- In **Couette flow**, motion is induced by shear from a moving boundary (e.g., the top or bottom surface), producing a linear velocity profile.  \n",
    "- In **Couette–Poiseuille flow**, both shear from the boundary and a constant pressure gradient act together, leading to a parabolic velocity profile superimposed on the linear shear profile.  "
   ]
  },
  {
   "cell_type": "markdown",
   "metadata": {},
   "source": [
    "Depending on the choice of the unknown, Equation (2) can be rewritten as:  \n",
    "\n",
    "$$\n",
    "\\frac{\\partial{P}}{\\partial{x}} = \\frac{\\partial}{\\partial{x}}\\left(\\eta \\frac{\\partial{v_x}}{\\partial{y}}\\right). \\tag{5}\n",
    "$$\n",
    "\n",
    "Assuming a constant viscosity further simplifies Equation (5) into a Poisson equation of the form:  \n",
    "\n",
    "$$\n",
    "\\frac{\\partial{P}}{\\partial{x}} = \\eta \\frac{\\partial^2{v_x}}{\\partial{y}^2}. \\tag{6}\n",
    "$$"
   ]
  },
  {
   "cell_type": "markdown",
   "metadata": {},
   "source": [
    "Assuming a known viscosity and a horizontal pressure gradient, Equations (5) and (6) can be solved either numerically or analytically. This has the advantage that we can directly test the accuracy of the numerical solution.  \n",
    "\n",
    "For example, let us assume that viscosity varies logarithmically with depth and is given by:  \n",
    "\n",
    "$$\n",
    "\\eta = \\eta_0 \\exp\\left(-\\log(m) \\frac{y}{H}\\right), \\tag{7}\n",
    "$$\n",
    "\n",
    "where *m* is the viscosity ratio $\\frac{\\eta_1}{\\eta_0}$, with $\\eta_0$ and $\\eta_1$ denoting the viscosities at the top and bottom, respectively. Here *H* is the layer thickness, and *y* is the depth (positive downward).  \n",
    "\n",
    "By integrating Equation (5) twice, we obtain an analytical solution for the horizontal velocity $v_x(y)$. This depth-dependent solution depends on the viscosity ratio *m*, the horizontal pressure gradient $\\frac{\\partial{P}}{\\partial{x}}$, and the shear velocity at the top boundary $v_{x,0}$, and is given by:  \n",
    "\n",
    "For constant viscosity (*m = 1*):  \n",
    "\n",
    "$$\n",
    "v_{x,ana}(y) = \\frac{1}{2 \\eta_0} \\frac{\\partial P}{\\partial{x}} \\left(y^2 + Hy\\right) + v_{x,0}\\frac{y}{H} + v_{x,0}, \\tag{8}\n",
    "$$\n",
    "\n",
    "and for depth-dependent viscosity (*m ≠ 1*):  \n",
    "\n",
    "$$\n",
    "v_{x,ana}(y) = \n",
    "-\\frac{1}{\\eta_0}\\frac{\\partial{P}}{\\partial{x}}\\frac{H}{\\log(m)(m-1)} \\left(-y\\left(m^{(y+H)/H}-m^{y/H}\\right) + H\\left(m^{y/H}-1\\right)\\right)\n",
    "+\\frac{v_{x,0}}{m-1}\\left(m^{(y+H)/H}-1\\right). \\tag{9}\n",
    "$$\n"
   ]
  },
  {
   "cell_type": "markdown",
   "metadata": {},
   "source": [
    "## Solution  \n",
    "### Discretization  \n",
    "\n",
    "To solve the problem, we approximate the PDEs again using finite differences. The 1-D profile is divided into a numerical grid (Fig. 2).  \n",
    "\n",
    "<img src=\"./Figures/Exercise08_2.png\" alt=\"drawing\" width=\"250\"/> <br>  \n",
    "\n",
    "**Fig. 2. Discretization.** One-dimensional finite difference layout for horizontal velocity (cyan) and viscosity (black). For depth-dependent viscosity, the viscosity must be defined at the vertices (*nv*), while velocity is defined at the centroids (*nc*).  \n",
    "\n",
    "To solve the PDE, we approximate Equations (5) and (6) with finite difference operators. The resulting system of equations is the same for both cases—constant or variable viscosity—and is given by:  \n",
    "\n",
    "$$\n",
    "\\frac{\\partial{P}}{\\partial{x}} = a v_{x,j-1} + b v_{x,j} + c v_{x,j+1}, \\tag{10}\n",
    "$$  \n",
    "\n",
    "For **constant viscosity**, the coefficients are obtained by discretizing Equation (6):  \n",
    "\n",
    "$$\n",
    "a = c = \\frac{\\eta}{\\Delta{y}^2}, \\quad b = -\\frac{2\\eta}{\\Delta{y}^2}. \\tag{11}\n",
    "$$  \n",
    "\n",
    "In the case of **variable viscosity**, we must discretize Equation (5) using staggered grid points. Here, velocity is defined at centroids and viscosity at vertices (see Fig. 2). The discretization of Equation (5) then becomes (note the different indexing conventions):  \n",
    "\n",
    "$$\n",
    "\\frac{\\partial{P}}{\\partial{x}} = \\frac{\\eta_{j+1} \\frac{\\partial{v_x}}{\\partial{y}}\\big|_{j+1} - \\eta_{j} \\frac{\\partial{v_x}}{\\partial{y}}\\big|_{j}}{\\Delta{y}}, \\tag{12}\n",
    "$$  \n",
    "\n",
    "$$\n",
    "\\frac{\\partial{P}}{\\partial{x}} = \\frac{\\eta_{j+1} \\frac{v_{x,j+1}-v_{x,j}}{\\Delta{y}} - \\eta_{j} \\frac{v_{x,j}-v_{x,j-1}}{\\Delta{y}}}{\\Delta{y}}, \\tag{13}\n",
    "$$  \n",
    "\n",
    "$$\n",
    "\\frac{\\partial{P}}{\\partial{x}} = \\frac{\\eta_{j}}{\\Delta{y}^2}v_{x,j-1} - \\left(\\frac{\\eta_j+\\eta_{j+1}}{\\Delta{y}^2}\\right)v_{x,j} + \\frac{\\eta_{j+1}}{\\Delta{y}^2}v_{x,j+1}. \\tag{14}\n",
    "$$  \n",
    "\n",
    "Equation (14) corresponds to Equation (10), with coefficients:  \n",
    "\n",
    "$$\n",
    "a = \\frac{\\eta_j}{\\Delta{y}^2}, \\quad b = -\\frac{\\eta_j+\\eta_{j+1}}{\\Delta{y}^2}, \\quad c = \\frac{\\eta_{j+1}}{\\Delta{y}^2}. \\tag{15}\n",
    "$$  \n"
   ]
  },
  {
   "cell_type": "markdown",
   "metadata": {},
   "source": [
    "### Boundary Conditions  \n",
    "\n",
    "For the boundary conditions of velocity at the top and bottom, we use the two classical types: *Dirichlet* or *Neumann*—that is, fixed velocity values or fixed flux conditions.  \n",
    "\n",
    "To implement the boundary conditions in our linear system, we again use *ghost nodes*, this time for velocity. In order to solve the linear system directly, the matrix coefficients and the corresponding entries on the right-hand side must be modified accordingly.  \n",
    "\n",
    "The ghost-node velocities for each boundary condition are given by:  \n",
    "\n",
    "**Dirichlet**  \n",
    "\n",
    "*Bottom* (j = 1)  \n",
    "\n",
    "$$\n",
    "V_{G,S} = 2 V_{BC,S} - v_{x,1}, \\tag{16}\n",
    "$$  \n",
    "\n",
    "*Top* (j = nc)  \n",
    "\n",
    "$$\n",
    "V_{G,N} = 2 V_{BC,N} - v_{x,nc}, \\tag{17}\n",
    "$$  \n",
    "\n",
    "where $V_{BC,S}$ and $V_{BC,N}$ are the prescribed boundary velocities.  \n",
    "\n",
    "**Neumann**  \n",
    "\n",
    "*Bottom* (j = 1)  \n",
    "\n",
    "$$\n",
    "V_{G,S} = v_{x,1} - c_S \\Delta{y}, \\tag{18}\n",
    "$$  \n",
    "\n",
    "*Top* (j = nc)  \n",
    "\n",
    "$$\n",
    "V_{G,N} = v_{x,nc} + c_N \\Delta{y}, \\tag{19}\n",
    "$$  \n",
    "\n",
    "where $c_S$ and $c_N$ denote the vertical velocity gradients $\\frac{\\partial{v_x}}{\\partial{y}}$ across the respective boundaries.  "
   ]
  },
  {
   "cell_type": "markdown",
   "metadata": {},
   "source": [
    "The coefficients and the right-hand side are then modified as follows:  \n",
    "\n",
    "**Dirichlet**  \n",
    "\n",
    "*Bottom* (j = 1)  \n",
    "\n",
    "$$\n",
    "\\left(b-a\\right) v_{x,1} + c v_{x,2} = \\frac{\\partial{P}}{\\partial{x}} - 2aV_{BC,S},\n",
    "$$  \n",
    "\n",
    "*Top* (j = nc)  \n",
    "\n",
    "$$\n",
    "a v_{x,nc-1} + \\left(b-c\\right) v_{x,nc}  = \\frac{\\partial{P}}{\\partial{x}} - 2cV_{BC,N},\n",
    "$$  \n",
    "\n",
    "**Neumann**  \n",
    "\n",
    "*Bottom* (j = 1)  \n",
    "\n",
    "$$\n",
    "\\left(b+a\\right) v_{x,1} + c v_{x,2} = \\frac{\\partial{P}}{\\partial{x}} + a c_S \\Delta{y},\n",
    "$$  \n",
    "\n",
    "*Top* (j = nc)  \n",
    "\n",
    "$$\n",
    "a v_{x,nc-1} + \\left(b+c\\right) v_{x,nc}  = \\frac{\\partial{P}}{\\partial{x}} - c c_N \\Delta{y}.\n",
    "$$  "
   ]
  },
  {
   "cell_type": "markdown",
   "metadata": {},
   "source": [
    "First, let us load the necessary modules:"
   ]
  },
  {
   "cell_type": "code",
   "execution_count": null,
   "metadata": {},
   "outputs": [],
   "source": [
    "using ?"
   ]
  },
  {
   "cell_type": "markdown",
   "metadata": {},
   "source": [
    "Let us now assume the following parameters: the layer thickness $H$ is 400 km, the surface velocity $V_{x0}$ is 5 cm/yr, the reference viscosity $\\eta_0$ is $10^{21} Pa\\cdot s$, and the pressure gradient $\\frac{\\partial{P}}{\\partial{x}}$ is initially set to zero.  \n"
   ]
  },
  {
   "cell_type": "code",
   "execution_count": null,
   "metadata": {},
   "outputs": [],
   "source": [
    "# Model Parameters ----------------------------------------------------- #\n",
    "M   =   (\n",
    "    ymin        =   ?,           #   Depth [ m ]\n",
    "    ymax        =   0.0e3,              \n",
    ")\n",
    "I   =   (\n",
    "    vₓ₀         =   ?,     #   Surface velocity [ m/s ]\n",
    "    η₀          =   ?,             #   Viscosity at the top [ Pa·s ]\n",
    "    η₁          =   ?,             #   Viscosity at the bottom [ Pa·s ]\n",
    "    ∂P∂x        =   -?,             #   Horizontal pressure gradient [ Pa/m ]\n",
    ")\n",
    "I1  =   (\n",
    "    m           =   ?,        #   Viscosity ratio\n",
    ")\n",
    "I   =   merge(I,I1)\n",
    "# ----------------------------------------------------------------------- #"
   ]
  },
  {
   "cell_type": "markdown",
   "metadata": {},
   "source": [
    "Next, we define the numerical *grid* and allocate the arrays for storing the variable fields:"
   ]
  },
  {
   "cell_type": "code",
   "execution_count": null,
   "metadata": {},
   "outputs": [],
   "source": [
    "# Numerical parameters -------------------------------------------------- #\n",
    "NC  =   (\n",
    "    y   =   ?,        #   Number of vertical centroids\n",
    ")\n",
    "NV  =   (\n",
    "    y   =   ?,   #   Number of vertical vertices\n",
    ")\n",
    "Δ   =   (\n",
    "    y   =   ?,   #   Grid resolution\n",
    ")\n",
    "# ----------------------------------------------------------------------- #\n",
    "# Memory allocation ----------------------------------------------------- #\n",
    "D   =   (\n",
    "    η   =   zeros(NC.y+1),   #   Viscosity\n",
    "    vₓ  =   zeros(NC...),    #   Horizontal velocity\n",
    "    vₓₐ =   zeros(NC...),    #   Analytical velocity\n",
    "    Δvₓ =   zeros(NC...)     #   Velocity difference (error)\n",
    ")\n",
    "# ----------------------------------------------------------------------- #\n",
    "# Grid ------------------------------------------------------------------ #\n",
    "y   =   (\n",
    "    c   =   LinRange(M.ymin+Δ.y/2,M.ymax-Δ.y/2,NC.y),  # Centroids\n",
    "    v   =   LinRange(M.ymin,M.ymax,NV.y),              # Vertices\n",
    ")\n",
    "# Viscosity profile ---\n",
    "@. D.η  =   ?\n",
    "# ----------------------------------------------------------------------- #"
   ]
  },
  {
   "cell_type": "markdown",
   "metadata": {},
   "source": [
    "Now we can define the analytical solution using Equations $(8)$ and $(9)$."
   ]
  },
  {
   "cell_type": "code",
   "execution_count": null,
   "metadata": {},
   "outputs": [],
   "source": [
    "# Analytical Solution ---------------------------------------------------- #\n",
    "if I.m  == 1.0\n",
    "    @. D.vₓₐ    =   ?\n",
    "else\n",
    "    @. D.vₓₐ    =   -I.∂P∂x * (M.ymax-M.ymin) / I.η₀ / log(I.m) / (I.m-1) * \n",
    "        (-y.c * (I.m^((y.c + (M.ymax-M.ymin))/(M.ymax-M.ymin)) - \n",
    "        I.m^(y.c/(M.ymax-M.ymin))) + (M.ymax-M.ymin)*(I.m^(y.c/(M.ymax-M.ymin)) - 1)) + \n",
    "        I.vₓ₀ / (I.m-1) * (I.m ^ ((y.c+(M.ymax-M.ymin))/(M.ymax-M.ymin)) - 1)\n",
    "end\n",
    "# ----------------------------------------------------------------------- #"
   ]
  },
  {
   "cell_type": "markdown",
   "metadata": {},
   "source": [
    "As boundary conditions, we impose Dirichlet velocity constraints at the top (N) and bottom (S) boundaries:"
   ]
  },
  {
   "cell_type": "code",
   "execution_count": null,
   "metadata": {},
   "outputs": [],
   "source": [
    "# Boundary Conditions---------------------------------------------------- #\n",
    "VBC     =   (\n",
    "    type    = (S=:Dirichlet, N=:Dirichlet),\n",
    "    val     = (S=?,N=?)\n",
    ")\n",
    "# ----------------------------------------------------------------------- #"
   ]
  },
  {
   "cell_type": "markdown",
   "metadata": {},
   "source": [
    "Now we define the components of our linear system (coefficient matrix and right-hand side)."
   ]
  },
  {
   "cell_type": "code",
   "execution_count": null,
   "metadata": {},
   "outputs": [],
   "source": [
    "# Linear System --------------------------------------------------------- #\n",
    "Num     =   (Vx=1:NC.y,)\n",
    "ndof    =   maximum(Num.Vx)\n",
    "K       =   ExtendableSparseMatrix(ndof,ndof)\n",
    "rhs     =   zeros(NC...)\n",
    "# ----------------------------------------------------------------------- #\n",
    "# Assemble the coefficient matrix --------------------------------------- #\n",
    "rhs     .=  ?\n",
    "for i = 1:NC.y\n",
    "    a   =   ?\n",
    "    b   =   ?\n",
    "    c   =   ?\n",
    "    # Equation index ---\n",
    "    ii  =   ?\n",
    "    # Stencil ---\n",
    "    iN  =   ?      #   North\n",
    "    iC  =   ?          #   Center\n",
    "    iS  =   ?      #   South\n",
    "    # Boundaries ---\n",
    "    # If a south index is required ---\n",
    "    inS    =  i==1    ? false  : true\n",
    "    DirS   = (i==1    && VBC.type.S==:Dirichlet) ? 1. : 0.\n",
    "    NeuS   = (i==1    && VBC.type.S==:Neumann  ) ? 1. : 0.\n",
    "    # If a north index is required ---\n",
    "    inN    =  i==NC.y ? false  : true\n",
    "    DirN   = (i==NC.y && VBC.type.N==:Dirichlet) ? 1. : 0.\n",
    "    NeuN   = (i==NC.y && VBC.type.N==:Neumann  ) ? 1. : 0.\n",
    "    if inS K[ii,iS]    = ? end\n",
    "        K[ii,iC]       =   ?\n",
    "    if inN K[ii,iN]    = ? end    \n",
    "    # Modify the right-hand side ---\n",
    "    rhs[i]      +=  ? * NeuS - \n",
    "                    ? * DirS - \n",
    "                    ? * NeuN - \n",
    "                    ? * DirN\n",
    "end\n",
    "# ----------------------------------------------------------------------- #"
   ]
  },
  {
   "cell_type": "markdown",
   "metadata": {},
   "source": [
    "Now the linear system can be solved, and we can compute the deviation of the numerical solution from the analytical solution."
   ]
  },
  {
   "cell_type": "code",
   "execution_count": null,
   "metadata": {},
   "outputs": [],
   "source": [
    "# Solve the linear system ------------------------------------------------ #\n",
    "D.vₓ      .=   ?\n",
    "# ------------------------------------------------------------------------ #\n",
    "# Deviation from the analytical solution --------------------------------- #\n",
    "@. D.Δvₓ    =   ((D.vₓₐ - D.vₓ) / D.vₓₐ) * 100.0\n",
    "# ------------------------------------------------------------------------ #"
   ]
  },
  {
   "cell_type": "markdown",
   "metadata": {},
   "source": [
    "Finally, we visualize the solution and the deviation from the analytical result in a single plot:"
   ]
  },
  {
   "cell_type": "code",
   "execution_count": null,
   "metadata": {},
   "outputs": [],
   "source": [
    "# Visualization --------------------------------------------------------- #\n",
    "q   =   plot(D.vₓ,y.c./1e3,label=\"numerisch\",\n",
    "            xlabel=\"vₓ\", ylabel=\"y [km]\",\n",
    "            title=\"Velocity Profile\",\n",
    "            xlim=(0,I.vₓ₀*1.5),ylim=(M.ymin/1e3,M.ymax/1e3),\n",
    "            layout=(1,3),subplot=1)\n",
    "plot!(q,D.vₓₐ,y.c./1e3,label=\"analytisch\",linestyle=:dash,\n",
    "        subplot=1)\n",
    "plot!(q,D.Δvₓ,y.c./1e3,label=\"\",\n",
    "        xlabel=\"Δvₓ\",ylabel=\"z [km]\",\n",
    "        title=\"Abweichung [ % ]\",\n",
    "        subplot=2)\n",
    "plot!(q,log10.(D.η),y.v./1e3,label=\"\",\n",
    "        xlabel=\"η\",ylabel=\"z [km]\",\n",
    "        title=\"Viskosität\",\n",
    "        subplot=3)\n",
    "display(q)\n",
    "# ----------------------------------------------------------------------- #\n",
    "\n",
    "savefig(\"./Results/08_1D_Stokes.png\")"
   ]
  }
 ],
 "metadata": {
  "kernelspec": {
   "display_name": "Julia 1.11.4",
   "language": "julia",
   "name": "julia-1.11"
  },
  "language_info": {
   "file_extension": ".jl",
   "mimetype": "application/julia",
   "name": "julia",
   "version": "1.11.4"
  }
 },
 "nbformat": 4,
 "nbformat_minor": 2
}
