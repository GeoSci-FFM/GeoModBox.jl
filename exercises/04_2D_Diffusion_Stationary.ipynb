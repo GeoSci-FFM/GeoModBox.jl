{
 "cells": [
  {
   "cell_type": "markdown",
   "metadata": {},
   "source": [
    "# 2-D Diffusionsgleichung (Stationär)"
   ]
  },
  {
   "cell_type": "markdown",
   "metadata": {},
   "source": [
    "## Einführung\n",
    "\n",
    "Unter der Annahme, dass sich die Temperatur nicht mehr mit der Zeit ändert, also das Temperaturfeld stationär ist, vereinfacht sich die Wärmeleitgleichung in eine reine Diffusionsgleichung in der Form einer sogenannte Poissongleichung (nur radiogene Elemente):\n",
    "\n",
    "$$\n",
    "0 = \\frac{\\partial}{\\partial{x}} \\left(k_{x} \\frac{\\partial{T}}{\\partial{x}}\\right) + \\frac{\\partial}{\\partial{y}} \\left(k_{y} \\frac{\\partial{T}}{\\partial{y}}\\right) + \\rho H_r, \\tag{1}\n",
    "$$\n",
    "\n",
    "wobei $\\rho$ die Dichte, $k_{x,y}$ die Wärmeleitfähigkeit in x- und y-Richtung, und $H_r$ die radiogene Wärmeproduktion pro Masse [W/kg] ist. Vereinfachen wir nun die Gleichung noch ein wenig und nehmen an, dass die thermischen Parameter (hier, vor allem die Wärmeleitfähigkeit $k$) **isotrop** und **konstant** sind:\n",
    "\n",
    "$$\n",
    "0 = \\left( \\frac{\\partial^2{T}}{\\partial{x}^2} + \\frac{\\partial^2{T}}{\\partial{y}^2} \\right) + \\frac{Q}{k}, \\tag{2}\n",
    "$$\n",
    "\n",
    "wobei $Q = \\rho H_r$ die Wärmeproduktionsrate pro Volumen [W/m^3] ist. "
   ]
  },
  {
   "cell_type": "markdown",
   "metadata": {},
   "source": [
    "## Das Problem\n",
    "Nehmen wir an, dass die Gleichung $(2)$ in einem 2D rechteckigen Gebiet mit der Seitenlänge ($L$) 4000 m und der Tiefe ($H$) 2000 m definiert sei. In dem Gebiet sei ein Körper mit hoher Wärmeproduktionsrate eingelagert, der die Eckkoordinaten (x, z) in km habe: (1900, 900), (2100, 900), (2100, 1100) und (1900, 1100). Die Wärmeproduktionsrate $\\rho H$ betrage 0.3 W/m<sup>3</sup> in dem Körper und 0 außerhalb. Die Wärmeleitfähigkeit ($k$) betrage 6.5 W/(K m). Als Randbedingung (Dirichlet) sei T = 0 °C auf dem gesamten Rand zu setzen.\n",
    "\n",
    "<img src=\"./Figures/Exercise04_1.png\" alt=\"drawing\" width=\"450\"/> <br>\n",
    "**Abb. 1.** Modelaufbau\n",
    "\n",
    "Die beschriebene Konfiguration beschreibt in etwa die Situation hochradioaktiver Endlagerung in einem Salzstock. Dort sollen radioaktive Behälter mit einem Durchmesser von 1 m in 250 m tiefen Bohrlöchern ca. 1 km unter Tage gelagert. Der mittlere Abstand solcher Bohrlöcher beträgt ca. 50 m auf einer Breite von 250 m und einer Länge von 1 - 2 km. Mit einer Wärmeproduktionsrate von etwas weniger als 1 kW für ein 1 m hohen Behälter kommt man etwa auf die obige mittlere Wärmeproduktionrate im gesamten Ablagerungsbereich.\n",
    "\n",
    "Um das Problem mit Hilfe von Julia lösen zu können, müssen wir erst die nötigen Module (```ExtendableSparse, Plots```) und Submodule (```GeoModBox.HeatEquation.TwoD```) definieren: "
   ]
  },
  {
   "cell_type": "code",
   "execution_count": 1,
   "metadata": {},
   "outputs": [],
   "source": [
    "using ?"
   ]
  },
  {
   "cell_type": "markdown",
   "metadata": {},
   "source": [
    "Nun definieren wir die Model ($L$,$H$) und physikalischen Parameter ($k$,$Q$):"
   ]
  },
  {
   "cell_type": "code",
   "execution_count": null,
   "metadata": {},
   "outputs": [],
   "source": [
    "# Physikalischer Parameter ---------------------------------------------- #\n",
    "P       = ( \n",
    "    L       =   ?,      #   [m]\n",
    "    H       =   ?,      #   [m]\n",
    "    k       =   ?,        #   Waermeleitfaehigkeit, W/m/K\n",
    "    # Definiere die Region der Waermequelle\n",
    "    Wcave   =   ?,      # Breite der Region [ m ]\n",
    "    Hcave   =   ?,      # Mächtigkeit [ m ]\n",
    "    Dcave   =   ?,      # Tiefe des Zentrums [ m ]\n",
    "    Xcave   =   ?,      # x-Position des Zentrum [ m ]\n",
    "    Q       =   ?         # Volumetrische Waermeproduktionsrate [ W/m³ ]; Q = rho*H\n",
    ")\n",
    "# ----------------------------------------------------------------------- #"
   ]
  },
  {
   "cell_type": "markdown",
   "metadata": {},
   "source": [
    "Als nächstes definieren wir die Anzahl der Gitterpunkte und die Gitterabstände:"
   ]
  },
  {
   "cell_type": "code",
   "execution_count": null,
   "metadata": {},
   "outputs": [],
   "source": [
    "# Numerische Parameter -------------------------------------------------- #\n",
    "NC      = (\n",
    "    x       =   ?,        # Gitterpunkte in x-Richtung, Spalten\n",
    "    y       =   ?         # Gitterpunkte in y-Richtung, Zeilen    \n",
    "    \n",
    ")\n",
    "Δ       = (\n",
    "    x       =   ?,      #   Gitterabstand in x-Richtung\n",
    "    y       =   ?       #   Gitterabstand in y-Richtung\n",
    ")\n",
    "# ----------------------------------------------------------------------- #"
   ]
  },
  {
   "cell_type": "markdown",
   "metadata": {},
   "source": [
    "Mit deren Hilfe lässt sich das numerische Gitter bestimmen, so wie die Anfangsbedingungen unseres Problems: "
   ]
  },
  {
   "cell_type": "code",
   "execution_count": 4,
   "metadata": {},
   "outputs": [],
   "source": [
    "# Erstellung des Gitters ------------------------------------------------ #\n",
    "x       = (\n",
    "    c       =   LinRange(?),\n",
    ")\n",
    "y       = (\n",
    "    c       =   LinRange(?),\n",
    ")\n",
    "# ----------------------------------------------------------------------- #\n",
    "# Erstellung des Anfangsbedingung --------------------------------------- #\n",
    "D       = ( \n",
    "    Q       =   zeros(NC...),\n",
    "    T       =   zeros(NC...),\n",
    ")\n",
    "\n",
    "# Defniere die Region of additional heat source\n",
    "for i = 1:NC.x, j = 1:NC.y\n",
    "    ?\n",
    "end\n",
    "# ----------------------------------------------------------------------- #"
   ]
  },
  {
   "cell_type": "markdown",
   "metadata": {},
   "source": [
    "## Die Lösung \n",
    "\n",
    "### Diskretisierung\n",
    "\n",
    "Um das Problem numerisch lösen zu können, müssen wir unsere Modeldomaine in ein numerisches Gitter unterteilen. Dabei nehmen wir an, das die Temperatur auf sogenannten *zentralen* Gitterpunkten definiert ist (siehe Abb. 2). Zur Lösung unseres Problems benutzen wir auch sogenannte *Ghost Nodes* in unserem Gitter, welche eine korrekte Einbindung der Randbedingungen ermöglichen. \n",
    "\n",
    "#### Gitter und Indizierung\n",
    "\n",
    "<img src=\"./Figures/Exercise04_2.png\" alt=\"drawing\" width=\"450\"/> <br>\n",
    "**Abb. 2.** Versetztes Gitternetz. \n",
    "\n",
    "Das gegebene versetzte Gitter ermöglicht eine sogenannte *konservative* finite Differenzen Approximation, wobei angenommen wird, dass der Wärmefluss $q_{i,j} = -k \\frac{\\partial{T}}{\\partial{x_{i,j}}}$ auf dem Mittelpunkt der Gitterlinien und die Temperatur im Zentrum einer Gitterzelle definiert ist (streng genommen ist die Wärmeleitfähigkeit dann auch auf den Gitterlinien definiert; da diese allerdings konstant ist, müssen wir das hier nicht berücksichtigen; bei variablen thermischen Parameter muss die Gleichung etwas anders diskreditiert werden). Außerdem können wir durch die zentralen Temperaturgitterpunkte, in Verbindung mit den *Ghost Nodes* relativ einfach Randbedingungen einbinden, die die gleiche Fehlerordnung besitzen, wie die zentralen Differenzenquotienten im Inneren unseres Models. \n",
    "\n",
    "Bei der Indizierung unserer Gitterpunkte unterscheiden wir zwischen *lokalen* und *globalen* Indizes. Der lokale Index beschreibt die Position auf dem *i*,*j*-Gitter. Der globale Index, ist ein durchlaufender Index von 1 bis nx*ny und entspricht der Anzahl der Gleichungen, d.h. die Gesamtanzahl der inneren Gitterpunkte. Der globale Index wird auch beim Aufstellen der Koeffizientenmatrix für unser lineares Gleichungssystem verwendet. \n",
    "\n",
    "Für jeden Gitterpunkt, also für jede Gleichung, gibt ein sogenannter numerischer Stempel (*stencil*) die Position der Gitterpunkte an, welche für die jeweilige Gleichung gültig sind. Die Koeffizienten für diese Gitterpunkte sind dann jeweils ungleich null und alle anderen gleich null. Die Nomenklatur für den Stempel richtet sich häufig nach der eines Kompases, d.h. wir besitzen Punkte auf: Süden, Westen, Zentral, Osten, und Norden. Für jede Gleichung, ist der globale Index ($ii$) jedes Punktes des Stempels gegeben durch die relative Position zum Zentral Punkt des Stempels, d.h.: \n",
    "\n",
    "$$\n",
    "iS = ii - nx,\\\\\\\n",
    "iW = ii - 1,\\\\\\   \n",
    "iZ = ii, \\\\\\\n",
    "iE = ii + 1,\\\\\\\n",
    "iN = ii + nx.\n",
    "$$\n",
    "\n",
    "#### Finite Differenzen Approximation\n",
    "\n",
    "Nun können wir die partielle Differentialgleichung durch unsere finiten Differenzen approximieren durch: \n",
    "\n",
    "$$\n",
    "0 = \\left( \\frac{T_{i-1,j} - 2T_{i,j} + T_{i+1,j}}{\\Delta{x}^2} + \\frac{T_{i,j-1} - 2T_{i,j} + T_{i,j+1}}{\\Delta{y}^2} \\right) + \\frac{Q}{k}, \\tag{3}\n",
    "$$\n",
    "\n",
    "wobei $i, j$ jeweils die Indizes und $\\Delta{x}, \\Delta{y}$ die Gitterabstände in x- und y- Richtung sind. Durch Umformung erhalten wir ein lineares Gleichungsystem mit 5 Koeffizienten in der Form: \n",
    "\n",
    "$$\n",
    "b T_{i,j-1} + aT_{i-1,j} - (2a + 2b) T_{i,j} + a T_{i+1,j} + b T_{i,j+1} = - \\frac{Q}{k}, \\tag{4}\n",
    "$$\n",
    "\n",
    "wobei $ a = 1 / \\Delta{x}^2$ und $b = 1 / \\Delta{y}^2$ ist. \n",
    "\n",
    "### Randbedingungen\n",
    "\n",
    "Die Temperatur auf den *Ghost Nodes* ist für *Dirichlet* und *Neumann* Randbedingungen genau so definiert, wie im 1-D Fall der [expliziten](./02_1D_Heat_explicit.ipynb) oder [impliziten](./03_1D_Heat_implicit.ipynb) Lösung der Wärmediffusionsgleichung (diesmal für vier Ränder statt für zwei). Da wir wieder ein lineares Gleichungssystem haben, müssen wir die Koeffizienten und die rechte Seite für die Gleichungen der **inneren Gitterpunkte** in der Nähe der Ränder, in Abhängigkeit der Randbedingungen, mit Hilfe der Temperatur auf den *Ghost Nodes* wie folgt modifizieren (Herleitung siehe Vorlesung): \n",
    "\n",
    "**Dirichlet** <br>\n",
    "*West*\n",
    "$$\n",
    "bT_{1,j-1} - (3a + 2b)T_{1,j} + aT_{2,j} + bT_{1,j+1} = -\\frac{Q}{k} - 2aT_{BC,W}\n",
    "$$\n",
    "*East*\n",
    "$$\n",
    "bT_{nx,j-1} + aT_{nx-1,j} - (3a + 2b)T_{nx,j} + bT_{nx,j+1} = -\\frac{Q}{k} - 2aT_{BC,E}\n",
    "$$\n",
    "*South*\n",
    "$$\n",
    "aT_{i-1,1} - (2a + 3b)T_{i,1} + aT_{i+1,1} + bT_{i,2} = -\\frac{Q}{k} - 2bT_{BC,S}\n",
    "$$\n",
    "*North*\n",
    "$$\n",
    "bT_{i,ny-1} + aT_{i-1,ny} - (2a + 3b)T_{i,ny} + aT_{i+1,ny} = -\\frac{Q}{k} - 2bT_{BC,N}\n",
    "$$\n",
    "\n",
    "**Neumann**<br>\n",
    "*West*\n",
    "$$\n",
    "bT_{1,j-1} - (a + 2b)T_{1,j} + aT_{2,j} + bT_{1,j+1} = -\\frac{Q}{k} + a c_W \\Delta{x}\n",
    "$$\n",
    "*East*\n",
    "$$\n",
    "bT_{nx,j-1} + aT_{nx-1,j} - (a + 2b)T_{nx,j} + bT_{nx,j+1} = -\\frac{Q}{k} - a c_E \\Delta{x}\n",
    "$$\n",
    "*South*\n",
    "$$\n",
    "aT_{i-1,1} - (2a + b)T_{i,1} + aT_{i+1,1} + bT_{i,2} = -\\frac{Q}{k} + b c_S \\Delta{y}\n",
    "$$\n",
    "*North*\n",
    "$$\n",
    "bT_{i,ny-1} + aT_{i-1,ny} - (2a + b)T_{i,ny} + aT_{i+1,ny} = -\\frac{Q}{k} -b c_N \\Delta{y}\n",
    "$$\n",
    "\n",
    "Bei der Initialisierung der Randbedingungen bediehnung wir uns eines Tricks und definieren die Temperatur auf den *Ghost nodes* später im Skript: "
   ]
  },
  {
   "cell_type": "code",
   "execution_count": null,
   "metadata": {},
   "outputs": [],
   "source": [
    "# Randbedingungen ------------------------------------------------------- #\n",
    "BC      =   (\n",
    "    type    = (W=:?, E=:?, N=:?, S=:?),\n",
    "    val     = (W=:?,E=:?,N=:?,S=:?)\n",
    ")\n",
    "# ----------------------------------------------------------------------- #"
   ]
  },
  {
   "cell_type": "markdown",
   "metadata": {},
   "source": [
    "### Lösen der Problems\n",
    "\n",
    "Gleichung $(4)$ ist ein Lineares Gleichungsystem der Form \n",
    "\n",
    "$$\n",
    "\\bm{K} T = T_i, \n",
    "$$\n",
    "\n",
    "mit einer Koeffizientenmatrix $\\bm{K}$ mit fünf nicht-null Diagonalen, der Anfangstemperaturbedingung $T_i$, und der stationären Lösung $T$. Daher definieren wir als nächstes die Parameter für unser lineares Gleichungssystem: "
   ]
  },
  {
   "cell_type": "code",
   "execution_count": null,
   "metadata": {},
   "outputs": [],
   "source": [
    "# Linear System of Equations -------------------------------------------- #\n",
    "Num     =   (T=reshape(1:NC.x*NC.y, NC.x, NC.y),)\n",
    "ndof    =   maximum(?)\n",
    "K       =   ExtendableSparseMatrix(?,?)\n",
    "rhs     =   zeros(?)\n",
    "# ----------------------------------------------------------------------- #"
   ]
  },
  {
   "cell_type": "markdown",
   "metadata": {},
   "source": [
    "Das Aufstellen der Koeffizientenmatrix, die Modifikation der rechten Seite wie oben beschrieben, und die Lösung des Gleichungssystems werden in der Funktion ```Poisson!()``` durchgeführt. Durch die Einbindung des Submoduls ```GeoModBox.HeatEquation.TwoD``` kann die Funktion hier direkt aufgerufen werden (Achtet dabei auf die der Funktion mitzugebenen Parameter!). "
   ]
  },
  {
   "cell_type": "code",
   "execution_count": null,
   "metadata": {},
   "outputs": [],
   "source": [
    "# Solve equation -------------------------------------------------------- #\n",
    "Poisson2Dc!(?)\n",
    "# ----------------------------------------------------------------------- #"
   ]
  },
  {
   "cell_type": "markdown",
   "metadata": {},
   "source": [
    "Alternativ, könnte man auch die Rechenschritte aus der Funktion direkt hier programmieren, wobei man dann nicht mehr das Submodul laden muss. "
   ]
  },
  {
   "cell_type": "markdown",
   "metadata": {},
   "source": [
    "## Visualisierung\n",
    "\n",
    "Zum Schluss plotten wir das Ergebniss noch: "
   ]
  },
  {
   "cell_type": "code",
   "execution_count": null,
   "metadata": {},
   "outputs": [],
   "source": [
    "# Plot solution --------------------------------------------------------- #\n",
    "p = heatmap(?)\n",
    "\n",
    "contour!(?)\n",
    "\n",
    "display(p)\n",
    "\n",
    "savefig(\"./Results/04_Steady_State_Solution.png\")\n",
    "# ----------------------------------------------------------------------- #"
   ]
  }
 ],
 "metadata": {
  "kernelspec": {
   "display_name": "Julia 1.10.4",
   "language": "julia",
   "name": "julia-1.10"
  },
  "language_info": {
   "file_extension": ".jl",
   "mimetype": "application/julia",
   "name": "julia",
   "version": "1.10.4"
  }
 },
 "nbformat": 4,
 "nbformat_minor": 2
}
