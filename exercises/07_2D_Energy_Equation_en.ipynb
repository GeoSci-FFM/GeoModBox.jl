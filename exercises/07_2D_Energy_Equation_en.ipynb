{
 "cells": [
  {
   "cell_type": "markdown",
   "metadata": {},
   "source": [
    "# Energy Conservation Equation (2D)"
   ]
  },
  {
   "cell_type": "markdown",
   "metadata": {},
   "source": [
    "## Introduction\n",
    "\n",
    "In the previous exercise, we studied advection in a one-dimensional problem. We now extend this to two dimensions.  \n",
    "\n",
    "So far, we have treated advection and diffusion as two separate processes and applied different numerical schemes for each. However, in many geoscientific problems, both transport (advection) and diffusion occur simultaneously. In this case, the energy conservation equation (assuming constant thermal parameters) is given by:\n",
    "\n",
    "$$\n",
    "\\frac{\\partial{T}}{\\partial{t}} = -v_x \\frac{\\partial{T}}{\\partial{x}} \n",
    "- v_y \\frac{\\partial{T}}{\\partial{y}} \n",
    "+ \\kappa \\left(\\frac{\\partial^2{T}}{\\partial{x^2}} + \\frac{\\partial^2{T}}{\\partial{y^2}}\\right),\n",
    "$$\n",
    "\n",
    "where $T$ is the temperature [K], $t$ is time [s], $v_i$ is the velocity component in direction $i$ [m/s], and $\\kappa = k / (\\rho c_p)$ is the thermal diffusivity [m²/s].  \n",
    "\n",
    "The first two terms on the right-hand side represent **advection**, the middle term represents **diffusion**, and the last term accounts for **heat production**. Together, they describe how the temperature $T$ changes over time $\\frac{\\partial{T}}{\\partial{t}}$ at a given location.  \n",
    "\n",
    "In this exercise, we use the predefined functions for advection and diffusion from the submodules `GeoModBox.AdvectionEquation.TwoD` and `GeoModBox.HeatEquation.TwoD`. For more details about the discretization and implementation of the 2D advection equation, please refer to the [documentation](https://geosci-ffm.github.io/GeoModBox.jl/dev/man/AdvTwoD/).  \n",
    "\n",
    "This problem illustrates the coupling of **advection** and **diffusion**, which is fundamental for modeling many geodynamic processes such as mantle convection, plume-lithosphere interaction, and crustal heat transport.\n"
   ]
  },
  {
   "cell_type": "markdown",
   "metadata": {},
   "source": [
    "## The Problem\n",
    "\n",
    "In the following, we investigate how the temperature field evolves over time in a constant two-dimensional velocity field combined with diffusive processes. Different types of initial conditions can be defined.  \n",
    "\n",
    "For the temperature field:  \n",
    "\n",
    "1. A circular anomaly with constant background temperature  \n",
    "2. A Gaussian temperature distribution  \n",
    "3. A rectangular anomaly with constant background temperature  \n",
    "4. A linearly increasing temperature profile  \n",
    "\n",
    "For the velocity field:  \n",
    "\n",
    "1. A solid-body rotation  \n",
    "2. An analytically prescribed convection cell  \n",
    "\n",
    "The initial position of the anomaly is illustrated in Figure 1. In the case of solid-body rotation, the velocities outside the rotation radius are set to zero. This ensures that particles are not advected out of the model domain.  \n",
    "\n",
    "<img src=\"./Figures/Exercise07_1.png\" alt=\"drawing\" width=\"500\"/> <br>\n",
    "\n",
    "**Figure 1.** Setup for solid-body rotation with a temperature anomaly.  \n",
    "\n",
    "These setups serve as benchmark-style test cases to evaluate the accuracy and behavior of advection–diffusion schemes under different flow conditions."
   ]
  },
  {
   "cell_type": "markdown",
   "metadata": {},
   "source": [
    "## The Solution\n",
    "\n",
    "<img src=\"./Figures/Exercise07_grid.png\" alt=\"drawing\" width=\"500\"/> <br>\n",
    "\n",
    "**Figure 2.** Numerical grid for solving the problem.  \n",
    "\n",
    "There are several approaches for solving the energy conservation equation numerically, with the discretization method being a crucial choice.  \n",
    "\n",
    "Here, we focus on a simple method known as *operator splitting*.  \n",
    "\n",
    "In a first-order approximation, the energy equation can be solved by separating the advection and diffusion operators and treating them independently. In each time step, the procedure is as follows:  \n",
    "\n",
    "1. Solve the **advection equation** (e.g., using the semi-Lagrangian method):  \n",
    "\n",
    "$$\n",
    "\\frac{\\tilde{T}^{n+1} - T^n}{\\Delta{t}} = -v_x \\frac{\\partial{T}}{\\partial{x}} - v_y \\frac{\\partial{T}}{\\partial{y}},\n",
    "$$  \n",
    "\n",
    "2. Followed by solving the **diffusion equation** (e.g., with the Crank–Nicolson method):  \n",
    "\n",
    "$$\n",
    "\\frac{\\partial{\\tilde{T}}}{\\partial{t}} = \\kappa \\left( \\frac{\\partial^2{\\tilde{T}}}{\\partial{x^2}} + \\frac{\\partial^2{\\tilde{T}}}{\\partial{y^2}} \\right).\n",
    "$$  \n",
    "\n",
    "It is important to note that operator splitting introduces a **splitting error**, since advection and diffusion are treated sequentially rather than simultaneously. Nevertheless, this method is widely used because of its conceptual simplicity and flexibility.  \n",
    "\n",
    "For more information about the discretization and implementation of the 2D advection and diffusion equations, please refer to the [documentation](https://geosci-ffm.github.io/GeoModBox.jl/).  \n",
    "\n",
    "In the following, we will use the predefined functions for advection and diffusion provided in the submodules `GeoModBox.AdvectionEquation.TwoD` and `GeoModBox.HeatEquation.TwoD`. As always, we start by loading the required modules:"
   ]
  },
  {
   "cell_type": "code",
   "execution_count": null,
   "metadata": {},
   "outputs": [],
   "source": [
    "using Plots, Interpolations, ExtendableSparse, LinearAlgebra\n",
    "using GeoModBox\n",
    "using ?\n",
    "using ?\n",
    "using Base.Threads, Printf"
   ]
  },
  {
   "cell_type": "markdown",
   "metadata": {},
   "source": [
    "We can now define the advection and diffusion schemes, as well as the initial conditions for temperature and velocity:"
   ]
  },
  {
   "cell_type": "code",
   "execution_count": null,
   "metadata": {},
   "outputs": [],
   "source": [
    "# Definition of numerical schemes ====================================== #\n",
    "# Define Advection Scheme ---\n",
    "#   Options: 1) upwind, 2) slf (leapfrog), 3) semilag (semi-Lagrangian), 4) tracers\n",
    "# Define Diffusion Scheme --- \n",
    "#   Options: 1) explicit, 2) implicit, 3) CNA (Crank–Nicolson Approximation),\n",
    "#            4) ADI (Alternating Direction Implicit), 5) dc (defect correction)\n",
    "FD          =   (Method     = (Adv = :?, Diff = :?),)\n",
    "\n",
    "# Define Initial Conditions ---\n",
    "# Temperature:\n",
    "#   Options: 1) circle, 2) gaussian, 3) block, 4) linear\n",
    "# Velocity:\n",
    "#   Options: 1) RigidBody (solid-body rotation), 2) ShearCell (convection cell)\n",
    "Ini         =   (T = :?, V = :?,) \n",
    "# ---------------------------------------------------------------------- #"
   ]
  },
  {
   "cell_type": "markdown",
   "metadata": {},
   "source": [
    "The following parameters define the properties of the visualizations:"
   ]
  },
  {
   "cell_type": "code",
   "execution_count": null,
   "metadata": {},
   "outputs": [],
   "source": [
    "# Plot settings ======================================================== #\n",
    "Pl  =   (\n",
    "    inc         =   5,                              # Plot increment\n",
    "    sc          =   1.0 * (100 * (60*60*24*365.15)),# Scaling factor (e.g., time in years)\n",
    "    Minc        =   1,                              # Marker increment\n",
    "    Msz         =   0.2,                            # Marker size\n",
    ")\n",
    "\n",
    "# Animation settings --------------------------------------------------- #\n",
    "path        =   string(\"./Results/\") \n",
    "anim        =   Plots.Animation(path, String[]) \n",
    "filename    =   string(\"07_2D_EnergyEquation_\", Ini.T, \"_\", Ini.V,\n",
    "                        \"_\", FD.Method.Adv, \"_\", FD.Method.Diff)\n",
    "save_fig    =   1                                   # Save animation flag\n",
    "# ---------------------------------------------------------------------- #"
   ]
  },
  {
   "cell_type": "markdown",
   "metadata": {},
   "source": [
    "Next, we define the model geometry and the physical constants:"
   ]
  },
  {
   "cell_type": "code",
   "execution_count": null,
   "metadata": {},
   "outputs": [],
   "source": [
    "# Model constants ====================================================== #\n",
    "M   =   (\n",
    "    xmin    =   ?,            # Minimum x-coordinate [m]\n",
    "    xmax    =   ?,        # Maximum x-coordinate [m]\n",
    "    ymin    =   ?,            # Minimum y-coordinate [m]\n",
    "    ymax    =   ?,        # Maximum y-coordinate [m]\n",
    ")\n",
    "# ---------------------------------------------------------------------- #\n",
    "# Physical parameters ================================================== #\n",
    "P       = ( \n",
    "    k       =   ?,              # Thermal conductivity [W/m/K]\n",
    "    cp      =   ?,           # Specific heat capacity [J/kg/K]\n",
    "    ρ       =   ?,           # Density [kg/m^3]\n",
    "    K0      =   ?,         # Kelvin at 0 °C\n",
    "    Q0      =   ?               # Volumetric heat production [W/m^3]\n",
    ")\n",
    "P1      = (\n",
    "    κ       =   ?,   # Thermal diffusivity [m^2/s]\n",
    ")\n",
    "P       =   merge(P, P1)\n",
    "# ---------------------------------------------------------------------- #"
   ]
  },
  {
   "cell_type": "markdown",
   "metadata": {},
   "source": [
    "We now proceed with the definition of the numerical parameters …"
   ]
  },
  {
   "cell_type": "code",
   "execution_count": null,
   "metadata": {},
   "outputs": [],
   "source": [
    "# Numerical constants ================================================== #\n",
    "NC  =   (\n",
    "    x       =   ?,        # Number of horizontal cell centers\n",
    "    y       =   ?,        # Number of vertical cell centers\n",
    ")\n",
    "NV  =   (\n",
    "    x       =   ?,   # Number of horizontal grid vertices\n",
    "    y       =   ?,   # Number of vertical grid vertices\n",
    ")\n",
    "Δ   =   (\n",
    "    x   =   ?,   # Grid spacing in x-direction\n",
    "    y   =   ?,   # Grid spacing in y-direction\n",
    ")\n",
    "# ---------------------------------------------------------------------- #"
   ]
  },
  {
   "cell_type": "markdown",
   "metadata": {},
   "source": [
    "... and the grid coordinates."
   ]
  },
  {
   "cell_type": "code",
   "execution_count": null,
   "metadata": {},
   "outputs": [],
   "source": [
    "# Grid generation ====================================================== #\n",
    "x   =   (\n",
    "    c       =   LinRange(?),     # Cell centers\n",
    "    ce      =   LinRange(?),   # Extended centers (with ghost cells)\n",
    "    v       =   LinRange(?)                          # Vertices\n",
    ")\n",
    "y   =   (\n",
    "    c       =   LinRange(?),     # Cell centers\n",
    "    ce      =   LinRange(?),   # Extended centers (with ghost cells)\n",
    "    v       =   LinRange(?),                         # Vertices\n",
    ")\n",
    "\n",
    "# 2D mesh coordinates -------------------------------------------------- #\n",
    "x1  =   ( \n",
    "    c2d     =   x.c .+ 0*y.c',       # Cell centers in 2D\n",
    "    v2d     =   x.v .+ 0*y.v',       # Vertices in 2D\n",
    "    vx2d    =   x.v .+ 0*y.ce',      # Velocity points (x-direction)\n",
    "    vy2d    =   x.ce .+ 0*y.v',      # Velocity points (y-direction)\n",
    ")\n",
    "x   =   merge(x, x1)\n",
    "\n",
    "y1  =   (\n",
    "    c2d     =   0*x.c .+ y.c',       # Cell centers in 2D\n",
    "    v2d     =   0*x.v .+ y.v',       # Vertices in 2D\n",
    "    vx2d    =   0*x.v .+ y.ce',      # Velocity points (x-direction)\n",
    "    vy2d    =   0*x.ce .+ y.v',      # Velocity points (y-direction)\n",
    ")\n",
    "y   =   merge(y, y1)\n",
    "# ---------------------------------------------------------------------- #"
   ]
  },
  {
   "cell_type": "markdown",
   "metadata": {},
   "source": [
    "Here, the data fields are defined using the structures provided by GeoModBox."
   ]
  },
  {
   "cell_type": "code",
   "execution_count": null,
   "metadata": {},
   "outputs": [],
   "source": [
    "# Initializing Arrays ================================================= #\n",
    "D       =   DataFields(\n",
    "    Q       =   zeros(Float64,(NC.x,NC.y)),\n",
    "    T       =   zeros(Float64,(NC.x,NC.y)),\n",
    "    T0      =   zeros(Float64,(NC.x,NC.y)),\n",
    "    T_ex    =   zeros(Float64,(NC.x+2,NC.y+2)),\n",
    "    T_exo   =   zeros(Float64,(NC.x+2,NC.y+2)),\n",
    "    ρ       =   zeros(Float64,(NC.x,NC.y)),\n",
    "    cp      =   zeros(Float64,(NC.x,NC.y)),\n",
    "    vx      =   zeros(Float64,(NV.x,NV.y+1)),\n",
    "    vy      =   zeros(Float64,(NV.x+1,NV.y)),    \n",
    "    vxc     =   zeros(Float64,(NC.x,NC.y)),\n",
    "    vyc     =   zeros(Float64,(NC.x,NC.y)),\n",
    "    vc      =   zeros(Float64,(NC.x,NC.y)),\n",
    "    wt      =   zeros(Float64,(NC.x,NC.y)),\n",
    "    wte     =   zeros(Float64,(NC.x+2,NC.y+2)),\n",
    "    wtv     =   zeros(Float64,(NV...)),\n",
    "    Tmax    =   0.0,\n",
    "    Tmin    =   0.0,\n",
    "    Tmean   =   0.0,\n",
    ")\n",
    "# -------------------------------------------------------------------- #"
   ]
  },
  {
   "cell_type": "markdown",
   "metadata": {},
   "source": [
    "We can now compute the initial temperature and velocity fields using the predefined functions."
   ]
  },
  {
   "cell_type": "code",
   "execution_count": null,
   "metadata": {},
   "outputs": [],
   "source": [
    "# Initial conditions =================================================== #\n",
    "# Temperature field ---\n",
    "IniTemperature!( ? )\n",
    "D.Tmax  =   maximum(D.T_ex)                    # Maximum temperature\n",
    "D.Tmin  =   minimum(D.T_ex)                    # Minimum temperature\n",
    "D.Tmean =   (D.Tmax[1] + D.Tmin[1]) / 2        # Mean temperature\n",
    "if FD.Method.Adv == :slf\n",
    "    D.T_exo .= D.T_ex                          # Store initial field for leapfrog\n",
    "end\n",
    "\n",
    "# Heat production and density fields ---\n",
    "@. D.Q  =   P.Q0                               # Volumetric heat production\n",
    "@. D.ρ  =   P.ρ                                # Density\n",
    "\n",
    "# Velocity field ---\n",
    "# Example: rigid-body rotation (RBR) – maximum velocity = 0.5 cm/a\n",
    "IniVelocity!(Ini.V, D, 0, NV, Δ, M, x, y)      # Initialize velocity [m/s]\n",
    "\n",
    "# Upscale velocity (for visualization/testing) ---\n",
    "D.vx    .*= 20.0\n",
    "D.vy    .*= 20.0\n",
    "\n",
    "# Interpolate velocity to cell centers ---\n",
    "@threads for i = 1:NC.x \n",
    "    for j = 1:NC.y\n",
    "        D.vxc[i,j]  = ?\n",
    "        D.vyc[i,j]  = ?\n",
    "    end\n",
    "end\n",
    "@. D.vc = sqrt(D.vxc^2 + D.vyc^2)              # Velocity magnitude\n",
    "# ---------------------------------------------------------------------- #"
   ]
  },
  {
   "cell_type": "markdown",
   "metadata": {},
   "source": [
    "Since the velocity fields are prescribed and constant, we only need to define the boundary conditions for the temperature."
   ]
  },
  {
   "cell_type": "code",
   "execution_count": null,
   "metadata": {},
   "outputs": [],
   "source": [
    "# Boundary Conditions ================================================ #\n",
    "BC     = (type    = (W=:?, E=:?, \n",
    "                    N=:?, S=:?),\n",
    "        val     = (W=?,E=?,\n",
    "                    N=?,S=?))\n",
    "# -------------------------------------------------------------------- #"
   ]
  },
  {
   "cell_type": "markdown",
   "metadata": {},
   "source": [
    "Depending on the numerical method chosen to solve the diffusion equation, certain parameters must be defined, such as the coefficient matrices and the right-hand side of the linear systems, or parameters for iterative solvers.  \n",
    "\n",
    "For more information about the solution methods for the two-dimensional diffusion equation, see the [documentation](https://geosci-ffm.github.io/GeoModBox.jl/dev/man/DiffTwoD/)."
   ]
  },
  {
   "cell_type": "code",
   "execution_count": null,
   "metadata": {},
   "outputs": [],
   "source": [
    "# Linear systems ======================================================= #\n",
    "if FD.Method.Diff == :implicit || FD.Method.Diff == :CNA\n",
    "    # Numbering of unknowns (flattened 2D grid into 1D index)\n",
    "    Num     =   (T = reshape(1:NC.x*NC.y, NC.x, NC.y),)\n",
    "    ndof    =   maximum(Num.T)                     # Degrees of freedom\n",
    "    \n",
    "    if FD.Method.Diff == :CNA\n",
    "        # Two coefficient matrices for Crank–Nicolson Approach\n",
    "        K1      =   ExtendableSparseMatrix(ndof, ndof)\n",
    "        K2      =   ExtendableSparseMatrix(ndof, ndof)\n",
    "    else\n",
    "        # Single coefficient matrix for implicit scheme\n",
    "        K       =   ExtendableSparseMatrix(ndof, ndof)\n",
    "    end\n",
    "    rhs     =   zeros(ndof)                        # Right-hand side vector\n",
    "\n",
    "elseif FD.Method.Diff == :dc\n",
    "    # Defect-correction iteration parameters\n",
    "    niter       =   10                             # Max iterations\n",
    "    ϵ           =   1e-10                          # Convergence tolerance\n",
    "    \n",
    "    # Physical fields\n",
    "    @. D.ρ      =   P.ρ\n",
    "    @. D.cp     =   P.cp\n",
    "    \n",
    "    # Thermal conductivity on cell faces\n",
    "    k           =   (x = zeros(NC.x+1, NC.y),\n",
    "                     y = zeros(NC.x,   NC.y+1))\n",
    "    @. k.x      =   P.k\n",
    "    @. k.y      =   P.k\n",
    "    \n",
    "    # Numbering of unknowns\n",
    "    Num         =   (T = reshape(1:NC.x*NC.y, NC.x, NC.y),)\n",
    "    ndof        =   maximum(Num.T)\n",
    "    \n",
    "    # System matrix and residual\n",
    "    K           =   ExtendableSparseMatrix(ndof, ndof)\n",
    "    R           =   zeros(NC.x, NC.y)              # Residual field\n",
    "    \n",
    "    # Temperature gradients at faces\n",
    "    ∂T          =   (∂x = zeros(NC.x+1, NC.y),\n",
    "                     ∂y = zeros(NC.x,   NC.y+1))\n",
    "    \n",
    "    # Heat fluxes at faces\n",
    "    q           =   (x  = zeros(NC.x+1, NC.y),\n",
    "                     y  = zeros(NC.x,   NC.y+1))\n",
    "end\n",
    "# ---------------------------------------------------------------------- #\n"
   ]
  },
  {
   "cell_type": "markdown",
   "metadata": {},
   "source": [
    "We can now determine the time-integration parameters. Note: the time step must satisfy the most restrictive constraint from both the advection and diffusion schemes."
   ]
  },
  {
   "cell_type": "code",
   "execution_count": null,
   "metadata": {},
   "outputs": [],
   "source": [
    "# Time ================================================================ #\n",
    "T   =   ( \n",
    "    tmax    =   [0.0],     # Maximum simulation time [s]\n",
    "    Δfacc   =   1.0,       # Courant time factor, i.e., dtfac * dt_courant\n",
    "    Δfacd   =   1.0,       # Diffusion time factor, i.e., dtfac * dt_diff \n",
    "    Δ       =   [0.0],     # Final chosen time step\n",
    "    Δc      =   [0.0],     # Courant time step (advection stability limit)\n",
    "    Δd      =   [0.0],     # Diffusion time step (stability criterion)\n",
    ")\n",
    "\n",
    "# Maximum runtime: based on a characteristic advection time scale\n",
    "# here approximated by π * (domain width – one cell) / maximum velocity\n",
    "T.tmax[1]   =   π * ((M.xmax - M.xmin) - Δ.x) / maximum(D.vc)   # [s]\n",
    "\n",
    "# Courant stability condition (for advection)\n",
    "T.Δc[1]     =   ?\n",
    "\n",
    "# Diffusion stability condition (explicit scheme)\n",
    "T.Δd[1]     =   ?\n",
    "\n",
    "# Final time step: take the most restrictive (advection or diffusion)\n",
    "T.Δ[1]      =   ?\n",
    "\n",
    "# Total number of time steps\n",
    "nt          =   ceil(Int, T.tmax[1] / T.Δ[1])\n",
    "# --------------------------------------------------------------------- #"
   ]
  },
  {
   "cell_type": "markdown",
   "metadata": {},
   "source": [
    "In the case where temperature is advected using tracers, the next step is to initialize the tracers."
   ]
  },
  {
   "cell_type": "code",
   "execution_count": null,
   "metadata": {},
   "outputs": [],
   "source": [
    "# Tracer Advection ===================================================== #\n",
    "if FD.Method.Adv == :tracers \n",
    "    # Tracer Initialization ---\n",
    "    nmx,nmy     =   3,3\n",
    "    noise       =   1\n",
    "    nmark       =   nmx*nmy*NC.x*NC.y\n",
    "    Aparam      =   :thermal\n",
    "    MPC         =   (\n",
    "        c       =   zeros(Float64,(NC.x,NC.y)),\n",
    "        v       =   zeros(Float64,(NV.x,NV.y)),\n",
    "        th      =   zeros(Float64,(nthreads(),NC.x,NC.y)),\n",
    "        thv     =   zeros(Float64,(nthreads(),NV.x,NV.y)),\n",
    "    )\n",
    "    MAVG        = (\n",
    "        PC_th   =   [similar(D.wte) for _ = 1:nthreads()],  # per thread\n",
    "        PV_th   =   [similar(D.wtv) for _ = 1:nthreads()],   # per thread\n",
    "        wte_th  =   [similar(D.wte) for _ = 1:nthreads()],  # per thread\n",
    "        wtv_th  =   [similar(D.wtv) for _ = 1:nthreads()],  # per thread\n",
    "    )\n",
    "    Ma      =   IniTracer2D(Aparam,nmx,nmy,Δ,M,NC,noise,0,0)\n",
    "    # RK4 weights ---\n",
    "    rkw     =   1.0/6.0*[1.0 2.0 2.0 1.0]   # for averaging\n",
    "    rkv     =   1.0/2.0*[1.0 1.0 2.0 2.0]   # for time stepping\n",
    "    # Interpolate on centroids ---\n",
    "    @threads for k = 1:nmark\n",
    "        Ma.T[k] =   FromCtoM(D.T_ex, k, Ma, x, y, Δ, NC)\n",
    "    end\n",
    "    # Count marker per cell ---\n",
    "    CountMPC(Ma,nmark,MPC,M,x,y,Δ,NC,NV,1)\n",
    "end\n",
    "# ---------------------------------------------------------------------- #\n"
   ]
  },
  {
   "cell_type": "markdown",
   "metadata": {},
   "source": [
    "Let us now plot the initial conditions."
   ]
  },
  {
   "cell_type": "code",
   "execution_count": null,
   "metadata": {},
   "outputs": [],
   "source": [
    "# Visualize initial condition ======================================== #\n",
    "p = heatmap( ? )\n",
    "quiver!( ? )\n",
    "if save_fig == 1\n",
    "    Plots.frame(anim)\n",
    "elseif save_fig == 0\n",
    "    display(p)\n",
    "end\n",
    "# -------------------------------------------------------------------- #"
   ]
  },
  {
   "cell_type": "markdown",
   "metadata": {},
   "source": [
    "We can now start the time loop. Within each iteration, we first solve the advection equation, followed by the diffusion equation. The temperature field is then plotted at selected time steps."
   ]
  },
  {
   "cell_type": "code",
   "execution_count": null,
   "metadata": {},
   "outputs": [],
   "source": [
    "# Time loop ============================================================ #\n",
    "for i = 2:nt\n",
    "    @printf(\"Time step: #%04d\\n \", i)\n",
    "    \n",
    "    # Solve advection equation ----------------------------------------- #\n",
    "    if FD.Method.Adv == :upwind\n",
    "        ?\n",
    "    elseif FD.Method.Adv == :slf\n",
    "        ?\n",
    "    elseif FD.Method.Adv == :semilag\n",
    "        ?\n",
    "    elseif FD.Method.Adv == :tracers\n",
    "        # NOTE: Remove NaNs in D.T before interpolating from C→M!\n",
    "        # Interpolate from grid to tracers ------------------------------ #\n",
    "        @threads for k = 1:nmark\n",
    "            Ma.T[k] = FromCtoM(D.T_ex, k, Ma, x, y, Δ, NC)\n",
    "        end\n",
    "        # Advect tracers ---\n",
    "        AdvectTracer2D(Ma,nmark,D,x,y,T.Δ[1],Δ,NC,rkw,rkv,1)\n",
    "        CountMPC(Ma,nmark,MPC,M,x,y,Δ,NC,NV,i)\n",
    "        \n",
    "        # Interpolate temperature from tracers to grid ---\n",
    "        Markers2Cells(Ma,nmark,MAVG.PC_th,D.T_ex,MAVG.wte_th,D.wte,x,y,Δ,Aparam,0)           \n",
    "        D.T     .=  D.T_ex[2:end-1,2:end-1]\n",
    "    end\n",
    "\n",
    "    # Solve diffusion equation ----------------------------------------- #\n",
    "    if FD.Method.Diff == :explicit\n",
    "        ?\n",
    "    elseif FD.Method.Diff == :implicit\n",
    "        ?\n",
    "    elseif FD.Method.Diff == :CNA\n",
    "        ?\n",
    "    elseif FD.Method.Diff == :ADI\n",
    "        ?\n",
    "    elseif FD.Method.Diff == :dc\n",
    "        D.T0 .= D.T\n",
    "        for iter = 1:niter\n",
    "            # Evaluate residual ---------------------------------------- #\n",
    "            ComputeResiduals2D!(R, D.T, D.T_ex, D.T0, ∂T, q, D.ρ, D.cp, k, BC, Δ, T.Δ[1])\n",
    "            # @printf(\"||R|| = %1.4e\\n\", norm(R)/length(R))\n",
    "            norm(R)/length(R) < ϵ ? break : nothing\n",
    "\n",
    "            # Assemble linear system ----------------------------------- #\n",
    "            K  = AssembleMatrix2D(D.ρ, D.cp, k, BC, Num, NC, Δ, T.Δ[1])\n",
    "\n",
    "            # Solve for temperature correction (Cholesky factorization) -#\n",
    "            Kc = cholesky(K.cscmatrix)\n",
    "            # Back substitution ---------------------------------------- #\n",
    "            δT = -(Kc \\ R[:])\n",
    "\n",
    "            # Update temperature --------------------------------------- #\n",
    "            @. D.T += δT[Num.T]\n",
    "        end        \n",
    "    end\n",
    "\n",
    "    # Plot solution ----------------------------------------------------- #\n",
    "    if mod(i, 10) == 0 || i == nt\n",
    "        p = heatmap( ? )\n",
    "\n",
    "        quiver!( ? )\n",
    "\n",
    "        if save_fig == 1\n",
    "            Plots.frame(anim)\n",
    "        elseif save_fig == 0\n",
    "            display(p)\n",
    "        end\n",
    "    end\n",
    "end # End time loop ----------------------------------------------------- #\n",
    "# ---------------------------------------------------------------------- #\n"
   ]
  },
  {
   "cell_type": "markdown",
   "metadata": {},
   "source": [
    "Finally, we want to save the animation."
   ]
  },
  {
   "cell_type": "code",
   "execution_count": null,
   "metadata": {},
   "outputs": [],
   "source": [
    "# Save Animation ===================================================== #\n",
    "if save_fig == 1\n",
    "    # Write the frames to a GIF file\n",
    "    Plots.gif(anim, string( path, filename, \".gif\" ), fps = 15)\n",
    "    foreach(rm, filter(startswith(string(path,\"00\")), readdir(path,join=true)))\n",
    "elseif save_fig == 0\n",
    "    display(plot(p))\n",
    "end\n",
    "# -------------------------------------------------------------------- #\n",
    "stop = time()\n",
    "println(stop-start)"
   ]
  }
 ],
 "metadata": {
  "kernelspec": {
   "display_name": "Julia 1.11.4",
   "language": "julia",
   "name": "julia-1.11"
  },
  "language_info": {
   "file_extension": ".jl",
   "mimetype": "application/julia",
   "name": "julia",
   "version": "1.11.4"
  }
 },
 "nbformat": 4,
 "nbformat_minor": 2
}
