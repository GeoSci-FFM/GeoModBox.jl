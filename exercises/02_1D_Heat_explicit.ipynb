{
 "cells": [
  {
   "cell_type": "markdown",
   "metadata": {},
   "source": [
    "# Lösen der 1-D Diffusionsgleichung (explizit)"
   ]
  },
  {
   "cell_type": "code",
   "execution_count": null,
   "metadata": {},
   "outputs": [],
   "source": [
    "using ?\n",
    "using ?"
   ]
  },
  {
   "cell_type": "markdown",
   "metadata": {},
   "source": [
    "## Das Problem\n",
    "\n",
    "Wir sind an der Änderung der Temperatur *T* mit der Zeit *t* interessiert, für eine bestimmte Anfangstemperatur $T_{0}[x,t_{0}]$ und Randbedingungen; z.B. eine Dikeintrusion in der Lithosphäre (mit *L* = 100 m; *W* = 5 m; *κ* = 10⁻⁶ m²/s).\n",
    "\n",
    "<img src=\"./Figures/Exercise02_1.png\" alt=\"drawing\" width=\"350\"/> <br>\n",
    "**Abb. 1.** Sketch des geologischen Problems und des Profils der Anfangstemperaturbedingung. \n",
    "\n",
    "Wie lange würde es dauern, bis sich der Dike auf eine bestimmte Temperatur abgekühlt hat?\n",
    "\n",
    "Zur Bestimmung der Dauer der Abkühlung müssen wir die Diffusionsgleichung der Temperatur lösen (parabolische PDG):\n",
    "\n",
    "$$ \n",
    "\\rho c_p \\frac{\\partial{T}}{\\partial{t}} = \\frac{\\partial{}}{\\partial{x}} \\left( k\\frac{\\partial{T}}{\\partial{x}} \\right), \n",
    "$$\n",
    "\n",
    "wobei *k* die thermische Leitfähigkeit, *T* die Temperatur und $\\rho$ die Dichte ist. Durch Umformen (Annahme, dass die thermischen parameter konstant sind!) können wir die Gleichung durch die thermische Diffusivität $\\kappa = \\frac{k}{\\rho c_p}$ ausdrücken: \n",
    "\n",
    "$$\n",
    "\\frac{\\partial{T}}{\\partial{t}} = \\kappa \\frac{\\partial^2{T}}{\\partial{x^2}}.\n",
    "$$"
   ]
  },
  {
   "cell_type": "markdown",
   "metadata": {},
   "source": [
    "## Die Lösung"
   ]
  },
  {
   "cell_type": "markdown",
   "metadata": {},
   "source": [
    "### Finite Differenzen Approximation\n",
    "\n",
    "Zur numerischen Lösung der Problems mit Hilfe von finiten Differenzen müssen wir zuerst ein numerisches Gitter erstellen (die Diskretisierung):\n",
    "\n",
    "<img src=\"./Figures/Exercise02_2.png\" alt=\"drawing\" width=\"600\"/> <br>\n",
    "**Abb. 2.** Numerisches 1-D Gitter für die Diskretisierung der *PDG*. **Must be corrected for the central nodes!!!**\n",
    "\n",
    "Um die Diffusionsgleichung numerisch mit Hilfe des expliziten finiten Differenzen Schemas zu lösen müssen wir nun die *PDG* durch die Ausdrücke der finiten Differenzen umformulieren.\n",
    "\n",
    "Vorwärts in der Zeit (FT):\n",
    "$$\n",
    "\\frac{\\partial{T}}{\\partial{t}} \\approx \\frac{T_{i}^{n+1}-T_{i}^{n}}{t^{n+1}-t^{n}} = \\frac{T_{i}^{n+1}-T_{i}^{n}}{\\Delta t}\n",
    "$$\n",
    "\n",
    "Zentral im Raum (CS): \n",
    "$$\n",
    "\\frac{\\partial^2{T}}{\\partial{x^2}} \\approx \\frac{\\frac{T_{i+1}^{n}-T_{i}^{n}}{\\Delta x} - \\frac{T_{i}^{n}-T_{i-1}^{n}}{\\Delta x}}{\\Delta x} =\n",
    "\\frac{T_{i+1}^{n} - 2T_{i}^{n} + T_{i-1}^{n}}{(\\Delta x)^2}\n",
    "$$\n",
    "\n",
    "Damit ist, in expliziter Form, die Temperatur an jedem Punkt zum neuen Zeitpunkt gegeben durch:\n",
    "$$\n",
    "T_{i}^{n+1} = T_{i}^{n} + \\kappa \\Delta t \\left( \\frac{T_{i+1}^{n}-2T_{i}^{n}+T_{i-1}^{n}}{\\Delta x^2} \\right)\n",
    "$$"
   ]
  },
  {
   "cell_type": "markdown",
   "metadata": {},
   "source": [
    "### Parameterdefinitionen\n",
    "\n",
    "Definieren wir für das Problem erst einmal bestimmte Parameter (physikalische Konstanten, numerische Domaine, Zeitparameter):"
   ]
  },
  {
   "cell_type": "code",
   "execution_count": null,
   "metadata": {},
   "outputs": [],
   "source": [
    "alternative =   1\n",
    "# Physikalische Parameter ----------------------------------------------- #\n",
    "L           =   ?       # Laenge der Modeldomain [m]\n",
    "Tdike       =   ?      # Temperatur des Dikes [C]\n",
    "Trock       =   ?       # Temperatur des Umgebungsgesteins [C]\n",
    "κ           =   ?      # Thermische Diffusivitaet des Gesteins [m2/s]\n",
    "W           =   ?         # Breite des Dykes [m]\n",
    "# ----------------------------------------------------------------------- #\n",
    "# Numerische Parameter -------------------------------------------------- #\n",
    "nc          =   ?                 # Number of centroids \n",
    "Δx          =   ?              # Grid spacing \n",
    "xc          =   ?               #   \n",
    "ind         =   ?                # Indexes for internal points\n",
    "# ----------------------------------------------------------------------- #\n",
    "# Zeit Parameter -------------------------------------------------------- #\n",
    "day         =   3600.0*24.0     # Sekunden pro Tag\n",
    "Δt          =   ?\n",
    "nt          =   floor(Int, 200.0 * day/Δt ) \n",
    "time        =   0.0\n",
    "# ----------------------------------------------------------------------- #"
   ]
  },
  {
   "cell_type": "markdown",
   "metadata": {},
   "source": [
    "### Anfangsbedingungen\n",
    "\n",
    "Zur Lösung unseres Problem, müssen wir noch die Anfangsbedingungen definieren. Dazu nehmen wir 300 °C für das Umgebungsgestein und 1200 °C für den Dike an. D.h. die Anfangstemperatur ist definiert durch:\n",
    "\n",
    "$$\n",
    "T \\left(x < \\left( \\frac{L}{2} - W \\right), x > \\left( \\frac{L}{2} + W \\right), t = 0 \\right) = 300, \n",
    "$$\n",
    "$$\n",
    "T \\left(x > \\left( \\frac{L}{2} - W \\right), x < \\left( \\frac{L}{2} + W \\right), t = 0 \\right) = 1200.\n",
    "$$\n",
    "\n",
    "Jetzt wollen wir erst einmal die Anfangsbedingung graphisch darstellen."
   ]
  },
  {
   "cell_type": "code",
   "execution_count": null,
   "metadata": {},
   "outputs": [],
   "source": [
    "# Anfangsbedingungen; Temperaturprofil ---------------------------------- #\n",
    "T    =   (T=?,T_ex=?)    # Temperatur des Umgebungsgesteins nc\n",
    "T.T  .=   ? \n",
    "@. T.T[?]    =   ?       # Temperatur des Dikes\n",
    "\n",
    "p = plot( ? )\n",
    "\n",
    "display(p)\n",
    "# ----------------------------------------------------------------------- #"
   ]
  },
  {
   "cell_type": "markdown",
   "metadata": {},
   "source": [
    "### Randbedingungen\n",
    "\n",
    "Da wir zentrale Gitterpunkte für die Temperatur verwenden, liegt kein Gitterpunkt direkt auf den Rändern (hingegen jeder Erwartung ist das allerdings ein Vorteil!). Zur Festlegung der Temperaturrandbedingungen müssen wir uns also der zusätzlichen *Ghost nodes* bediehnen (siehe Abbildung 2), d.h. wir bestimmen die Temperatur auf den *Ghost nodes* um die partielle Differentialgleichung der Temperatur auf dem **nächsten inneren** Gitterpunkt mit Hilfe der finiten Differenzen lösen zu können. Für eine konstante Temperaturbedingung and den Rändern (Dirichlet), können wir die Temperatur der *Ghost nodes* durch lineare Interpolation bestimmem, so dass: \n",
    "\n",
    "$$\n",
    "T_{Ghost,W} = 2 T_{BC,W} + T[1]\n",
    "$$\n",
    "$$\n",
    "T_{Ghost,E} = 2 T_{BC,E} + T[nc]\n",
    "$$\n",
    "\n",
    "Bei der Programmierung bediehnung wir uns eines Tricks und definieren die Temperatur auf den *Ghost nodes* später im Skript: "
   ]
  },
  {
   "cell_type": "code",
   "execution_count": null,
   "metadata": {},
   "outputs": [],
   "source": [
    "# Randbedingungen ------------------------------------------------------- #\n",
    "BC          =   (\n",
    "                    type = (W=:Dirichlet, E=:Dirichlet),\n",
    "                    #type = (W=:Neumann, E=:Neumann),\n",
    "                    val = (W=:300.0,E=:300.0)\n",
    ")\n",
    "# ----------------------------------------------------------------------- #"
   ]
  },
  {
   "cell_type": "markdown",
   "metadata": {},
   "source": [
    "### Visualisierung\n",
    "\n",
    "Zur Visualisierung der Ergebnisse als eine Animation in einer GIF Datei, müssen noch der Ort und der Name der Datei festgelegt werden: "
   ]
  },
  {
   "cell_type": "code",
   "execution_count": null,
   "metadata": {},
   "outputs": [],
   "source": [
    "# Animationssettings ---------------------------------------------------- #\n",
    "path        =   string(\"./Results/\")\n",
    "anim        =   Plots.Animation(path, String[] )\n",
    "filename    =   string(\"02_1D_explicit_\",alternative)\n",
    "save_fig    =   1\n",
    "# ----------------------------------------------------------------------- #"
   ]
  },
  {
   "cell_type": "markdown",
   "metadata": {},
   "source": [
    "### Zeitschleife\n",
    "\n",
    "Numerisch können wir nun in einer Zeitschleife die *PDG* auf unterschiedliche Art und Weise lösen (Alternative I ist ausreichend; wer möchte, kann auch die Alternativen II und III lösen). Dabei wird für jeden Zeitschritt die Temperatur auf den *Ghost nodes* bestimmt durch die obigen Gleichungen."
   ]
  },
  {
   "cell_type": "code",
   "execution_count": null,
   "metadata": {},
   "outputs": [],
   "source": [
    "# Time loop ------------------------------------------------------------- #\n",
    "for n = 1:nt\n",
    "    println(\"Zeitschritt: \",n,\", Time: $(round(time/day, digits=1)) [d]\")\n",
    "\n",
    "    if alternative == 1\n",
    "        # Alternative I ---\n",
    "        # Einfache Programmierung der Gleichung in einer Schleife\n",
    "        # Schleife über das Gitter (ohne die Randpunkte!)        \n",
    "        T.T_ex[2:end-1]   = ?\n",
    "        # Festlegen der Randbedingungen\n",
    "        # West\n",
    "        T.T_ex[1]     =   ?\n",
    "        # East\n",
    "        T.T_ex[end]   =   ?\n",
    "        for i = 1:nc\n",
    "            # Berechnung der Temperatur am Punkt i zur neuen Zeit\n",
    "            ?\n",
    "        end                \n",
    "    elseif alternative == 2\n",
    "        # Alternative II ---                         \n",
    "        # Berechnung der Temperatur an den inneren Punkten zum neuen Zeitpunkt an\n",
    "        T.T_ex[2:end-1]   = ?\n",
    "        # West\n",
    "        T.T_ex[1]    =   ?\n",
    "        # East\n",
    "        T.T_ex[end]  =   ?\n",
    "\n",
    "        @. T.T[ind]  = ?\n",
    "\n",
    "    elseif alternative == 3    \n",
    "        ForwardEuler!( ? )\n",
    "    end\n",
    "    # Calculate time ---\n",
    "    time    =   time + Δt\n",
    "    # Plot Lösung ---\n",
    "    p = plot(?)    \n",
    "    if save_fig == 1\n",
    "        Plots.frame(anim)\n",
    "    else\n",
    "        display(p)\n",
    "    end\n",
    "end"
   ]
  },
  {
   "cell_type": "markdown",
   "metadata": {},
   "source": [
    "Nun müssen wir noch die Animation erstellen und speichern:"
   ]
  },
  {
   "cell_type": "code",
   "execution_count": null,
   "metadata": {},
   "outputs": [],
   "source": [
    "# Speicher Animation ---------------------------------------------------- #\n",
    "if save_fig == 1\n",
    "    # Write the frames to a GIF file\n",
    "    Plots.gif(anim, string( path, filename, \".gif\" ), fps = 15)\n",
    "else\n",
    "    display(p)\n",
    "end\n",
    "foreach(rm, filter(startswith(string(path,\"00\")), readdir(path,join=true)))\n",
    "# ----------------------------------------------------------------------- #"
   ]
  }
 ],
 "metadata": {
  "kernelspec": {
   "display_name": "Julia 1.10.0",
   "language": "julia",
   "name": "julia-1.10"
  },
  "language_info": {
   "file_extension": ".jl",
   "mimetype": "application/julia",
   "name": "julia",
   "version": "1.10.0"
  }
 },
 "nbformat": 4,
 "nbformat_minor": 2
}
