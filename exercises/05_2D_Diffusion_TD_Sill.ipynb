{
 "cells": [
  {
   "cell_type": "markdown",
   "metadata": {},
   "source": [
    "# Diffusionsgleichung (2D)"
   ]
  },
  {
   "cell_type": "markdown",
   "metadata": {},
   "source": [
    "## Einführung\n",
    "\n",
    "Unter der Annahme, dass die thermischen Parameter konstant sind und wir nur von einer radiogenen Wärmequelle ausgehen, ist die Wärmeleitgleichung in 2-D gegeben durch:\n",
    "\n",
    "$$\n",
    "\\frac{\\partial{T}}{\\partial{t}} = \\kappa \\left( \\frac{\\partial^2{T}}{\\partial{x^2}} + \\frac{\\partial^2{T}}{\\partial{y}^2}\\right) + \\frac{Q}{\\rho c_p}, \\tag{1}\n",
    "$$\n",
    "\n",
    "wobei $\\rho$ die Dichte in [ kg/m<sup>3</sup> ], $c_p$ die spezifische Wärmekapazität in [ J/kg/K ], $\\kappa = k/\\rho/c_p$ die thermische Diffusivität in [ m<sup>2</sup>/s ] und $Q$ die radiogene Wärmeproduktion pro Volumen in [ W/m<sup>3</sup> ] ist. \n",
    "\n",
    "Die Gleichung beschreibt die Änderung der Temperatur mit der Zeit unter der Annahme, dass die Temperatur sich nur durch Diffusion ausbreitet. "
   ]
  },
  {
   "cell_type": "markdown",
   "metadata": {},
   "source": [
    "## Das Problem\n",
    "\n",
    "Nehmen wir and, dass die Gleichung $(1)$ in einem 2D rechteckigen Gebiet mir der Seitenlänge ($L$) 200 km und der Tiefe ($H$) 100 km definiert sei (Abb. 1). Die Temperatur an der Oberfläche sei 0 °C und steigt in dem Gebiet linear mit einem thermischen Gradienten an. Die Randbedingungen der Temperatur an den Seiten sei wählbar zwischen *Dirichlet* und *Neumann* Bedingungen. An der Unterseite des Gebietes nehmen wir in der Mitte des Rechtseckes, auf einer bestimmten Breite ($W_{Plume}$) eine höhere Temperatur als das Umgebungsgestein an. \n",
    "\n",
    "<img src=\"./Figures/Exercise05a_1.png\" alt=\"drawing\" width=\"450\"/> <br>\n",
    "**Abb. 1.** Modelaufbau \n",
    "\n",
    "Die beschriebene Konfiguration entspricht in etwa der Situation eines, unterhalb der Lithosphäre, stationär positioniertem Plumekopf. Die überschüssige Temperatur des Plume heizt dabei, mit der Zeit, die Lithosphäre weiter auf. \n",
    "\n",
    "Um das Problem mit Hilfe von Julia lösen zu können, müssen wir erst die nötigen Module (```ExtendableSparse, Plots```) und Submodule (```GeoModBox.HeatEquation.TwoD```) definieren: "
   ]
  },
  {
   "cell_type": "code",
   "execution_count": 13,
   "metadata": {},
   "outputs": [],
   "source": [
    "using ?"
   ]
  },
  {
   "cell_type": "markdown",
   "metadata": {},
   "source": [
    "Nun definieren wir die Model ($L$,$H$) und physikalischen Parameter ($k$,$Q$), so wie das Diskretisierungsverfahren (explizit oder implizit):"
   ]
  },
  {
   "cell_type": "code",
   "execution_count": null,
   "metadata": {},
   "outputs": [],
   "source": [
    "FDSchema    =:?\n",
    "# Physikalischer Parameter ---------------------------------------------- #\n",
    "P      = (\n",
    "    L       =   ?,          #   Länge des Models    [m]\n",
    "    H       =   ?,          #   Höhe des Models     [m]\n",
    "    k       =   ?,              #   Thermische Konduktivität [W/m/K]\n",
    "    cp      =   ?,           #   Wärmekapazität [J/kg/K]\n",
    "    ρ       =   ?,           #   Dichte [kg/m^3]\n",
    "    K0      =   ?,         #   Kelvin bei 0 C\n",
    "    Q0      =   ?,              #   Hintergrund Waermeproduktionsrate;\n",
    ")\n",
    "P1      = (\n",
    "    κ       =   ?,   #   Thermische Diffusivität [m^2/s]\n",
    "    Tbot    =   ?,      #   Temperatur am unteren Rand  [ K ]\n",
    "    Ttop    =   ?,         #   Temperatur am oberen Rand   [ K ]\n",
    "    Tplume  =   ?,      #   Temperatur des Plumes [ K ]\n",
    "    Xanoma  =   ?,            #   x-Koordinate des Zentrums der Anomaly\n",
    "    Wanoma  =   ?,                #   Breite der Anomaly\n",
    "    Hanoma  =   ?,               #   Hoehe der Anomaly\n",
    "    Danoma  =   ?,            #   Tiefe des Zentrums der Anomaly\n",
    "    Tanoma  =   ?,      #   Temperatur der Anomalie [ C ]\n",
    "    Qanoma  =   ?              #   Waermeproduktionsrate pro Volumen [W/m^3]\n",
    ")\n",
    "P   = merge(P,P1)\n",
    "# ----------------------------------------------------------------------- #"
   ]
  },
  {
   "cell_type": "markdown",
   "metadata": {},
   "source": [
    "Als nächstes definieren wir die Anzahl der Gitterpunkte und die Gitterabstände:"
   ]
  },
  {
   "cell_type": "code",
   "execution_count": null,
   "metadata": {},
   "outputs": [],
   "source": [
    "# Numerische Parameter -------------------------------------------------- #\n",
    "NC      = (\n",
    "    x       =   ?,             # Gitterpunkte in x-Richtung\n",
    "    y       =   ?,             # Gitterpunkte in z-Richtung\n",
    ")\n",
    "Δ       = (\n",
    "    x       = ?,\n",
    "    y       = ?\n",
    ")\n",
    "# ----------------------------------------------------------------------- #"
   ]
  },
  {
   "cell_type": "markdown",
   "metadata": {},
   "source": [
    "Mit deren Hilfe lässt sich das numerische Gitter bestimmen: "
   ]
  },
  {
   "cell_type": "code",
   "execution_count": null,
   "metadata": {},
   "outputs": [],
   "source": [
    "# Erstellung des Gitters ------------------------------------------------ #\n",
    "x       = (\n",
    "    c       =   LinRange(?),\n",
    ")\n",
    "y       = (\n",
    "    c       =   LinRange(?),\n",
    ")\n",
    "# ----------------------------------------------------------------------- #"
   ]
  },
  {
   "cell_type": "markdown",
   "metadata": {},
   "source": [
    "Da wir ein zeit-abhängiges Problem betrachten, müssen wir als nächstes die Parameter für die Zeit definieren. Beachte, für den Fall des expliziten FD-Verfahren, müssen wir das Diffusionsstabilitätskriterium berücksichtigen."
   ]
  },
  {
   "cell_type": "code",
   "execution_count": null,
   "metadata": {},
   "outputs": [],
   "source": [
    "# Zeit Parameter -------------------------------------------------------- #\n",
    "T       =   (\n",
    "    dn      =   25,             #   Inkremente der Graphischen Darstellung,\n",
    "                                #   d.h. hier nur jeder 25 Zeitschritt\n",
    "    year    =   365.25*3600*24, #   Sekunden pro Jahr    \n",
    "    dtfac   =   ?,            #   Multiplikationsfaktor fuer dt\n",
    "    Δ       =   [0.0],          #   Zeitschrittlaenge\n",
    "    nt      =   [0]\n",
    ")\n",
    "T1      =   (\n",
    "    tmax    =   60 * 1e6 * T.year,    #   Maximale Laufzeit des Models in s\n",
    "    Δ       =   T.dtfac * (1.0 / (2.0 * P.κ *(1.0/Δ.x^2 + 1/Δ.y^2)))\n",
    ")\n",
    "T           =   merge(T,T1)\n",
    "\n",
    "nt          =   floor(Int,T.tmax/T.Δ)  # Anzahl der Zeitschritte\n",
    "time        =   zeros(nt)\n",
    "# ----------------------------------------------------------------------- #"
   ]
  },
  {
   "cell_type": "markdown",
   "metadata": {},
   "source": [
    "Zur Visualisierung der Ergebnisse als eine Animation in einer GIF Datei, müssen noch der Ort und der Name der Datei festgelegt werden: "
   ]
  },
  {
   "cell_type": "code",
   "execution_count": null,
   "metadata": {},
   "outputs": [],
   "source": [
    "# Animationssettings ---------------------------------------------------- #\n",
    "path        =   string(\"./Results/\")\n",
    "anim        =   Plots.Animation(path, String[] )\n",
    "filename    =   string(\"05_2D_Sill_\",FDSchema)\n",
    "save_fig    =   1\n",
    "# ----------------------------------------------------------------------- #"
   ]
  },
  {
   "cell_type": "markdown",
   "metadata": {},
   "source": [
    "Als nächstes definieren wir die Anfangsbedingungen und die Datenarrays für unser ProblemÖ"
   ]
  },
  {
   "cell_type": "code",
   "execution_count": 19,
   "metadata": {},
   "outputs": [],
   "source": [
    "# Anfangstemperaturfeld ------------------------------------------------- #\n",
    "D       =   (\n",
    "    Q           =   zeros(?),\n",
    "    T           =   zeros(?),\n",
    "    T0          =   zeros(?),\n",
    "    T_ex        =   zeros(?),\n",
    "    Tmax        =   zeros(?),\n",
    "    Tprofile    =   zeros(NC.y,nt)\n",
    ")\n",
    "# Hintergrundfeld fuer Waermequellen\n",
    "D.Q     .=  P.Q0\n",
    "        \n",
    "# Temperatur der Lithosphaere - linear zunehmenden mit der Tiefe\n",
    "for i = 1:NC.x, j = 1:NC.y\n",
    "    ?\n",
    "end\n",
    "D.T0    .=  D.T\n",
    "# Visualize initial condition ---\n",
    "p = heatmap(?)\n",
    "\n",
    "contour!(?)\n",
    "if save_fig == 0\n",
    "    display(p)\n",
    "end\n",
    "# ----------------------------------------------------------------------- #"
   ]
  },
  {
   "cell_type": "markdown",
   "metadata": {},
   "source": [
    "## Die Lösung\n",
    "\n",
    "### Diskretisierung\n",
    "\n",
    "Um das Problem numerisch lösen zu können, müssen wir unsere Modeldomaine in ein numerisches Gitter unterteilen. Dabei nehmen wir an, das die Temperatur und alle weiteren thermischen Parameter auf den sogenannten *zentralen* Gitterpunkten definiert sind (siehe Abb. 2). Die Aufteilung entspricht der Aufteilung des zeit-unabhängigen Problem.\n",
    "\n",
    "Zur Lösung unseres Problems benutzen wir wieder die sogenannte *Ghost Nodes* unseres Gitters, welche eine korrekte Einbindung der Randbedingungen ermöglichen. \n",
    "\n",
    "#### Gitter und Indizierung\n",
    "\n",
    "<img src=\"./Figures/Exercise04_2.png\" alt=\"drawing\" width=\"450\"/> <br>\n",
    "**Abb. 2.** Versetztes Gitternetz. \n",
    "\n",
    "Das gegebene versetzte Gitter ermöglicht eine sogenannte *konservative* finite Differenzen Approximation, wobei angenommen wird, dass der Wärmefluss $q_{i,j} = -k \\frac{\\partial{T}}{\\partial{x_{i,j}}}$ auf dem Mittelpunkt der Gitterlinien und die Temperatur im Zentrum einer Gitterzelle definiert ist (streng genommen ist die Wärmeleitfähigkeit dann auch auf den Gitterlinien definiert; da diese allerdings konstant ist, müssen wir das hier nicht berücksichtigen; bei variablen thermischen Parameter muss die Gleichung etwas anders diskreditiert werden). Außerdem können wir durch die zentralen Temperaturgitterpunkte, in Verbindung mit den *Ghost Nodes* relativ einfach Randbedingungen einbinden, die die gleiche Fehlerordnung besitzen, wie die zentralen Differenzenquotienten im Inneren unseres Models. \n",
    "\n",
    "Bei der Indizierung unserer Gitterpunkte unterscheiden wir zwischen *lokalen* und *globalen* Indizes. Der lokale Index beschreibt die Position auf dem *i*,*j*-Gitter. Der globale Index, ist ein durchlaufender Index von 1 bis nx*ny und entspricht der Anzahl der Gleichungen, d.h. die Gesamtanzahl der inneren Gitterpunkte. Der globale Index wird auch beim Aufstellen der Koeffizientenmatrix für unser lineares Gleichungssystem verwendet. \n",
    "\n",
    "Für jeden Gitterpunkt, also für jede Gleichung, gibt ein sogenannter numerischer Stempel (*stencil*) die Position der Gitterpunkte an, welche für die jeweilige Gleichung gültig sind. Die Koeffizienten für diese Gitterpunkte sind dann jeweils ungleich null und alle anderen gleich null. Die Nomenklatur für den Stempel richtet sich häufig nach der eines Kompases, d.h. wir besitzen Punkte auf: Süden, Westen, Zentral, Osten, und Norden. Für jede Gleichung, ist der globale Index ($ii$) jedes Punktes des Stempels gegeben durch die relative Position zum Zentral Punkt des Stempels, d.h.: \n",
    "\n",
    "$$\n",
    "iS = ii - nx,\\\\\\\n",
    "iW = ii - 1,\\\\\\   \n",
    "iZ = ii, \\\\\\\n",
    "iE = ii + 1,\\\\\\\n",
    "iN = ii + nx.\n",
    "$$\n",
    "\n",
    "#### Finite Differenzen Approximation\n",
    "\n",
    "Nun können wir die partielle Differentialgleichung durch unsere finiten Differenzen approximieren durch: \n",
    "\n",
    "**Explizit (Forward Euler Verfahren)**\n",
    "$$\n",
    "T_{i,j}^{n+1} = T_{i,j}^n + \\kappa \\Delta{t} \\left(\\frac{T_{i-1,j}^{n} - 2 T_{i,j}^{n} + T_{i+1,j}^{n}}{\\Delta{x^2}} \\right) + \\kappa \\Delta{t} \\left(\\frac{T_{i,j-1}^{n} - 2 T_{i,j}^{n} + T_{i,j+1}^{n}}{\\Delta{y^2}} \\right) + \\frac{Q_{i,j} \\Delta{t}}{\\rho c_p}, \\tag{2}\n",
    "$$\n",
    "\n",
    "wobei $n+1$ und $n$ jeweils der neue und er aktuell Zeitschritt ist. \n",
    "\n",
    "**Implizit (Backward Euler Verfahren)**\n",
    "$$\n",
    "-b T_{i,j-1}^{n+1} - a T_{i-1,j}^{n+1} + (2a + 2b + c) T_{i,j}^{n} - a T_{i+1,j}^{n+1} - b T_{i,j+1}^{n+1} = T_{i,j}^{n} + \\frac{Q_{i,j}}{\\rho c_p}, \\tag{3}\n",
    "$$\n",
    "\n",
    "wobei $a = \\kappa / \\Delta{x^2}$, $b = \\kappa / \\Delta{y^2}$, und $c = 1 / \\Delta{t}$ ist. <br>\n",
    "D.h. wir haben ein Gleichungssystem mit fünf nicht-null Diagonalen in der Koeffizientenmatrix $\\bm{A}$, einem unbekannten Vektor $T^{n+1}$ und einen bekannten Vektor $T^n$ beschrieben werden kann. \n",
    "\n",
    "### Randbedingungen\n",
    "\n",
    "Die Temperatur auf den *Ghost Nodes* ist für *Dirichlet* und *Neumann* Randbedingungen genau so definiert, wie im [stationären 2-D Fall](./04_2D_Diffusion_Stationary.ipynb), bzw. den dazugehörigen [expliziten](./02_1D_Heat_explicit.ipynb) und [impliziten](./03_1D_Heat_implicit.ipynb) 1-D Versionen. <br>\n",
    "Im expliziten Fall, wird die auf den *Ghost Nodes* berechnete Temperatur in der zu lösende Gleichung für die entsprechenden inneren Gitterpunkte direkt mitverwendet. <br>\n",
    "Im impliziten Fall, haben wir wieder ein lineares Gleichungssystem und müssen entsprechend die Koeffizienten und die rechte Seite für die Gleichungen der **inneren Gitterpunkte** in der Nähe der Ränder, in Abhängigkeit der Randbedingungen, mit Hilfe der Temperatur auf den *Ghost Nodes* modifizieren (Herleitung siehe Vorlesung).\n",
    "\n",
    "Bei der Initialisierung der Randbedingungen bediehnung wir uns eines Tricks und definieren die Temperatur auf den *Ghost nodes* später im Skript: "
   ]
  },
  {
   "cell_type": "code",
   "execution_count": null,
   "metadata": {},
   "outputs": [],
   "source": [
    "# Randbedingungen ------------------------------------------------------- #\n",
    "BC      =   (type    = (W=:Neumann, E=:Neumann, N=:Dirichlet, S=:Dirichlet),\n",
    "           val     = (W=zeros(?),E=zeros(?),N=?,S=?))\n",
    "# ----------------------------------------------------------------------- #"
   ]
  },
  {
   "cell_type": "markdown",
   "metadata": {},
   "source": [
    "### Lösen des Problems\n",
    "\n",
    "#### Gleichungssystem\n",
    "\n",
    "Lasst uns für den impliziten Fall nun die Koeffizientenmatrix und rechte Seite initialisieren: "
   ]
  },
  {
   "cell_type": "code",
   "execution_count": null,
   "metadata": {},
   "outputs": [],
   "source": [
    "# Linear System of Equations -------------------------------------------- #\n",
    "Num     =   (T=reshape(1:NC.x*NC.y, NC.x, NC.y),)\n",
    "ndof    =   ?\n",
    "K       =   ExtendableSparseMatrix(?,?)\n",
    "rhs     =   zeros(?)\n",
    "# ----------------------------------------------------------------------- #"
   ]
  },
  {
   "cell_type": "markdown",
   "metadata": {},
   "source": [
    "#### Zeitschleife\n",
    "\n",
    "Numerisch können wir nun in einer Zeitschleife die *PDG* auf unterschiedliche Art und Weise lösen. \n",
    "\n",
    "Für den expliziten Fall, wollen wir erst einmal die Gleichungen und Randbedingungen selbst programmieren, bevor wir die eingebauten Funktionen aus dem ```GeoModBox.HeatEquation.TwoD``` Submodul verwenden. \n",
    "\n",
    "Für den impliziten Fall, verwenden wir gleich die eingebaute Funktion ```BackwardEuler2Dc!()```. "
   ]
  },
  {
   "cell_type": "code",
   "execution_count": null,
   "metadata": {},
   "outputs": [],
   "source": [
    "# Zeitschleife ---------------------------------------------------------- #\n",
    "for n = 1:nt\n",
    "    println(n)\n",
    "    # Speicher das Temperaturprofil bei x = L/2\n",
    "    @. D.Tprofile[:,n]  =   ?\n",
    "    D.Tmax[n]           =   ?\n",
    "\n",
    "    if n>1\n",
    "        if FDSchema==:explicit             \n",
    "            ?\n",
    "        elseif FDSchema==:implicit\n",
    "            BackwardEuler2Dc!(?)\n",
    "        end                            \n",
    "        time[n]     =   time[n-1] + T.Δ\n",
    "    end\n",
    "    D.T0        .=   D.T\n",
    "    \n",
    "    if mod(n,T.dn) == 0 || n == 1 || n == nt\n",
    "        p = heatmap(?)\n",
    "\n",
    "        contour!(?)\n",
    "        if save_fig == 1\n",
    "            Plots.frame(anim)\n",
    "        else\n",
    "            display(p)                        \n",
    "        end\n",
    "    end\n",
    "end"
   ]
  },
  {
   "cell_type": "markdown",
   "metadata": {},
   "source": [
    "## Results\n",
    "\n",
    "Zur besseren Darstellung und Analyse der Ergebnisse, stellen wir noch ein vertikales Profil der Temperatur gegenüber der Tiefe, so wie das Maxiumum eines horizontalen Profils der Temperatur gegenüber der Zeit in der jeweiligen Mitte der Domaine graphisch dar: "
   ]
  },
  {
   "cell_type": "code",
   "execution_count": null,
   "metadata": {},
   "outputs": [],
   "source": [
    "q = plot(?)\n",
    "\n",
    "plot!(?)"
   ]
  },
  {
   "cell_type": "markdown",
   "metadata": {},
   "source": [
    "Nun müssen wir noch die Animation erstellen und speichern:"
   ]
  },
  {
   "cell_type": "code",
   "execution_count": null,
   "metadata": {},
   "outputs": [],
   "source": [
    "if save_fig == 1\n",
    "    # Write the frames to a GIF file\n",
    "    Plots.gif(anim, string( path, filename, \".gif\" ), fps = 15)        \n",
    "    savefig(string(\"./Results/05_Sill_TProfile_Tmax_\",FDSchema,\".png\"))\n",
    "else\n",
    "    display(q)\n",
    "end\n",
    "foreach(rm, filter(startswith(string(path,\"00\")), readdir(path,join=true)))"
   ]
  }
 ],
 "metadata": {
  "kernelspec": {
   "display_name": "Julia 1.10.4",
   "language": "julia",
   "name": "julia-1.10"
  },
  "language_info": {
   "file_extension": ".jl",
   "mimetype": "application/julia",
   "name": "julia",
   "version": "1.10.4"
  }
 },
 "nbformat": 4,
 "nbformat_minor": 2
}
