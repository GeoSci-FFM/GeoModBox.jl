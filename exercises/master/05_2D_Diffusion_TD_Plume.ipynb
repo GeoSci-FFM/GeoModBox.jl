{
 "cells": [
  {
   "cell_type": "markdown",
   "metadata": {},
   "source": [
    "# Diffusionsgleichung (2D)"
   ]
  },
  {
   "cell_type": "markdown",
   "metadata": {},
   "source": [
    "## Einführung\n",
    "\n",
    "Unter der Annahme, dass die thermischen Parameter konstant sind und wir nur von einer radiogenen Wärmequelle ausgehen, ist die Wärmeleitgleichung in 2-D gegeben durch:\n",
    "\n",
    "$$\n",
    "\\frac{\\partial{T}}{\\partial{t}} = \\kappa \\left( \\frac{\\partial^2{T}}{\\partial{x^2}} + \\frac{\\partial^2{T}}{\\partial{y}^2}\\right) + \\frac{Q}{\\rho c_p}, \\tag{1}\n",
    "$$\n",
    "\n",
    "wobei $\\rho$ die Dichte in [ kg/m<sup>3</sup> ], $c_p$ die spezifische Wärmekapazität in [ J/kg/K ], $\\kappa = k/\\rho/c_p$ die thermische Diffusivität in [ m<sup>2</sup>/s ] und $Q$ die radiogene Wärmeproduktion pro Volumen in [ W/m<sup>3</sup> ] ist. \n",
    "\n",
    "Die Gleichung beschreibt die Änderung der Temperatur mit der Zeit unter der Annahme, dass die Temperatur sich nur durch Diffusion ausbreitet. "
   ]
  },
  {
   "cell_type": "markdown",
   "metadata": {},
   "source": [
    "## Das Problem\n",
    "\n",
    "Nehmen wir and, dass die Gleichung $(1)$ in einem 2D rechteckigen Gebiet mir der Seitenlänge ($L$) 200 km und der Tiefe ($H$) 100 km definiert sei (Abb. 1). Die Temperatur an der Oberfläche sei 0 °C und steigt in dem Gebiet linear mit einem thermischen Gradienten an. Die Randbedingungen der Temperatur an den Seiten sei wählbar zwischen *Dirichlet* und *Neumann* Bedingungen. An der Unterseite des Gebietes nehmen wir in der Mitte des Rechtseckes, auf einer bestimmten Breite ($W_{Plume}$) eine höhere Temperatur als das Umgebungsgestein an. \n",
    "\n",
    "<img src=\"../Figures/Exercise05a_1.png\" alt=\"drawing\" width=\"450\"/> <br>\n",
    "**Abb. 1.** Modelaufbau \n",
    "\n",
    "Die beschriebene Konfiguration entspricht in etwa der Situation eines, unterhalb der Lithosphäre, stationär positioniertem Plumekopf. Die überschüssige Temperatur des Plume heizt dabei, mit der Zeit, die Lithosphäre weiter auf. "
   ]
  },
  {
   "cell_type": "code",
   "execution_count": 45,
   "metadata": {},
   "outputs": [],
   "source": [
    "using Plots, GeoModBox.HeatEquation.TwoD, ExtendableSparse"
   ]
  },
  {
   "cell_type": "code",
   "execution_count": null,
   "metadata": {},
   "outputs": [],
   "source": [
    "FDSchema    =:explicit\n",
    "# Physikalischer Parameter ---------------------------------------------- #\n",
    "P       = (\n",
    "    L       =   100e3,          #   Länge des Models    [m]\n",
    "    H       =   200e3,          #   Höhe des Models     [m]\n",
    "    k       =   6,              #   Thermische Konduktivität [W/m/K]\n",
    "    cp      =   1000,           #   Wärmekapazität [J/kg/K]\n",
    "    ρ       =   3200,           #   Dichte [kg/m^3]\n",
    "    κ       =   [0.0],          #   Thermische Diffusivität [m^2/s]\n",
    "    K0      =   273.15,         #   Kelvin bei 0 C\n",
    "    Q0      =   0,              #   Hintergrund Waermeproduktionsrate;\n",
    "    Tbot    =   [1300.0],       #   Temperatur am unteren Rand  [C]\n",
    "    Ttop    =   [0.0],          #   Temperatur am oberen Rand   [C]\n",
    "    Tplume  =   [2000.0],       #   Temperatur des Plumes [C]\n",
    "    Wplume  =   50e3,           #   Breite des Plumes [m]\n",
    "    Xplume  =   [0.0]\n",
    ")\n",
    "P.κ[1]      =   P.k / P.ρ / P.cp\n",
    "P.Tbot[1]   =   P.Tbot[1]+P.K0     #   Temperatur in Kelvin\n",
    "P.Ttop[1]   =   P.Ttop[1]+P.K0     #   Temperatur in Kelvin\n",
    "P.Tplume[1] =   P.Tplume[1]+P.K0   #   Temperatur in Kelvin\n",
    "P.Xplume[1] =   P.L[1]/2           #   X-Koordinate des Zentrums des Plumes\n",
    "# ----------------------------------------------------------------------- #"
   ]
  },
  {
   "cell_type": "code",
   "execution_count": null,
   "metadata": {},
   "outputs": [],
   "source": [
    "# Numerische Parameter -------------------------------------------------- #\n",
    "NC      = (\n",
    "    x       =   50,             # Gitterpunkte in x-Richtung\n",
    "    y       =   50,             # Gitterpunkte in z-Richtung\n",
    ")\n",
    "Δ       = (\n",
    "    x       = [0.0],\n",
    "    y       = [0.0]\n",
    "\n",
    ")\n",
    "Δ.x[1]  =   P.L/NC.x            #   Gitterabstand in x-Richtung\n",
    "Δ.y[1]  =   P.H/NC.y            #   Gitterabstand in z-Richtung\n",
    "# ----------------------------------------------------------------------- #"
   ]
  },
  {
   "cell_type": "code",
   "execution_count": null,
   "metadata": {},
   "outputs": [],
   "source": [
    "# Erstellung des Gitters ------------------------------------------------ #\n",
    "x       = (\n",
    "    c       =   LinRange(0.0 + Δ.x[1]/2.0, P.L - Δ.x[1]/2.0, NC.x),\n",
    ")\n",
    "y       = (\n",
    "    c       =   LinRange(-P.H + Δ.y[1]/2.0, 0.0 - Δ.y[1]/2.0, NC.y),\n",
    ")\n",
    "# ----------------------------------------------------------------------- #"
   ]
  },
  {
   "cell_type": "code",
   "execution_count": null,
   "metadata": {},
   "outputs": [],
   "source": [
    "# Zeit Parameter -------------------------------------------------------- #\n",
    "T       = (\n",
    "    tmax    =   [200],          #   Maximale Laufzeit des Models in Ma\n",
    "    dn      =   100,             #   Inkremente der Graphischen Darstellung,\n",
    "                                #   d.h. hier nur jeder 25 Zeitschritt\n",
    "    day     =   3600*24,        #   Sekunden pro Tag\n",
    "    year    =   [0.0],          #   Sekunden pro Jahr    \n",
    "    dtfac   =   0.9,            #   Multiplikationsfaktor fuer dt\n",
    "    Δ       =   [0.0],          #   Zeitschrittlaenge\n",
    "    nt      =   [0]\n",
    ")\n",
    "T.year[1]   =   365.25*T.day            #   Sekunden pro Jahr\n",
    "T.tmax[1]   =   200 * 1e6 * T.year[1]   #   Maximale Zeit in Sekunden\n",
    "T.Δ[1]      =   T.dtfac*(1 / (2 * P.κ[1] *(1/Δ.x[1]^2+1/Δ.y[1]^2)))\n",
    "T.nt[1]     =   floor(Int,T.tmax[1]/T.Δ[1])  # Anzahl der Zeitschritte\n",
    "time        =   zeros(T.nt[1])\n",
    "# ----------------------------------------------------------------------- #"
   ]
  },
  {
   "cell_type": "code",
   "execution_count": null,
   "metadata": {},
   "outputs": [],
   "source": [
    "# Animationssettings ---------------------------------------------------- #\n",
    "path        =   string(\"./Results/\")\n",
    "anim        =   Plots.Animation(path, String[] )\n",
    "filename    =   string(\"05_2D_Plume_\",FDSchema)\n",
    "save_fig    =   1\n",
    "# ----------------------------------------------------------------------- #"
   ]
  },
  {
   "cell_type": "code",
   "execution_count": 51,
   "metadata": {},
   "outputs": [],
   "source": [
    "# Anfangstemperaturfeld ------------------------------------------------- #\n",
    "D       =   (\n",
    "    Q           =   zeros(NC...),\n",
    "    T           =   zeros(NC...),\n",
    "    T0          =   zeros(NC...),\n",
    "    T_ex        =   zeros(NC.x+2,NC.y+2),    \n",
    "    Tmax        =   zeros(T.nt[1]),\n",
    "    Tprofile    =   zeros(NC.y,T.nt[1])\n",
    ")\n",
    "# Hintergrundfeld fuer Waermequellen\n",
    "D.Q     .=  P.Q0\n",
    "        \n",
    "# Temperatur der Lithosphaere - linear zunehmenden mit der Tiefe\n",
    "for i = 1:NC.x, j = 1:NC.y\n",
    "    D.T[i,j]     =   P.Ttop[1] + abs(y.c[j]/P.H)*P.Tbot[1]\n",
    "    if abs(x.c[i] - P.Xplume[1]) <= P.Wplume/2 && j == 1\n",
    "        D.T[i,j]    =   P.Tplume[1]\n",
    "    end\n",
    "end\n",
    "D.T0    .=  D.T\n",
    "# Visualize initial condition ---\n",
    "p = heatmap(x.c ./ 1e3, y.c ./ 1e3, (D.T.-P.K0)', \n",
    "        color=:viridis, colorbar=true, aspect_ratio=:equal, \n",
    "        xlabel=\"x [km]\", ylabel=\"z [km]\", \n",
    "        title=\"Temperature\", \n",
    "        xlims=(0, P.L/1e3), ylims=(-P.H/1e3, 0.0), \n",
    "        clims=(0, 2000))\n",
    "\n",
    "contour!(p,x.c./1e3,y.c/1e3,D.T'.-P.K0,levels=:10,linecolor=:black)\n",
    "if save_fig == 0\n",
    "    display(p)\n",
    "end\n",
    "# ----------------------------------------------------------------------- #"
   ]
  },
  {
   "cell_type": "markdown",
   "metadata": {},
   "source": [
    "## Die Lösung\n",
    "\n",
    "### Diskretisierung\n",
    "\n",
    "#### Gitter und Indizierung\n",
    "\n",
    "#### Finite Differenzen Approximation\n",
    "\n",
    "See here (Link to README.md) in examples/HeatEquation/2D\n",
    "\n",
    "Here, we focus on the explicit and implicit approach ...\n",
    "\n",
    "### Randbedingungen"
   ]
  },
  {
   "cell_type": "code",
   "execution_count": null,
   "metadata": {},
   "outputs": [],
   "source": [
    "# Randbedingungen ------------------------------------------------------- #\n",
    "BC      =   (type    = (W=:Neumann, E=:Neumann, N=:Dirichlet, S=:Dirichlet),\n",
    "           val     = (W=zeros(NC.y),E=zeros(NC.y),N=D.T[:,end],S=D.T[:,1]))\n",
    "#BC     = (type    = (W=:Dirichlet, E=:Dirichlet, N=:Dirichlet, S=:Dirichlet),\n",
    "#             val     = (W=D.T[1,:],E=D.T[end,:],N=D.T[:,end],S=D.T[:,1]))\n",
    "# ----------------------------------------------------------------------- #"
   ]
  },
  {
   "cell_type": "markdown",
   "metadata": {},
   "source": [
    "### Lösung des Problems\n",
    "\n",
    "#### Gleichungssystem"
   ]
  },
  {
   "cell_type": "code",
   "execution_count": null,
   "metadata": {},
   "outputs": [],
   "source": [
    "# Linear System of Equations -------------------------------------------- #\n",
    "Num     =   (T=reshape(1:NC.x*NC.y, NC.x, NC.y),)\n",
    "ndof    =   maximum(Num.T)\n",
    "K       =   ExtendableSparseMatrix(ndof,ndof)\n",
    "rhs     =   zeros(ndof)\n",
    "# ----------------------------------------------------------------------- #"
   ]
  },
  {
   "cell_type": "markdown",
   "metadata": {},
   "source": [
    "#### Zeitschleife"
   ]
  },
  {
   "cell_type": "code",
   "execution_count": null,
   "metadata": {},
   "outputs": [],
   "source": [
    "# Zeitschleife ---------------------------------------------------------- #\n",
    "for n = 1:T.nt[1]\n",
    "    println(n)\n",
    "    # Speicher das Temperaturprofil bei x = L/2\n",
    "    @. D.Tprofile[:,n]  =  (D.T[convert(Int,NC.x/2),:] \n",
    "                                + D.T[convert(Int,NC.x/2)+1,:]) / 2\n",
    "    D.Tmax[n]        =   maximum((D.T[:,convert(Int,NC.y/2)] \n",
    "                                + D.T[:,convert(Int,NC.y/2)+1]) / 2)\n",
    "\n",
    "    if n>1\n",
    "        if FDSchema==:explicit             \n",
    "            ForwardEuler_const!(D, P.κ[1], Δ.x[1], Δ.y[1], T.Δ[1], P.ρ, P.cp, NC, BC)\n",
    "        elseif FDSchema==:implicit\n",
    "            BackwardEuler_const!(D, P.κ[1], Δ.x[1], Δ.y[1], T.Δ[1], P.ρ, P.cp, NC, BC, rhs, K, Num)\n",
    "        end                            \n",
    "        time[n]     =   time[n-1] + T.Δ[1]\n",
    "    end\n",
    "    D.T0        .=   D.T\n",
    "    \n",
    "    if mod(n,T.dn) == 0 || n == 1 || n == T.nt[1]\n",
    "        p = heatmap(x.c ./ 1e3, y.c ./ 1e3, (D.T.-P.K0)', \n",
    "        color=:viridis, colorbar=true, aspect_ratio=:equal, \n",
    "        xlabel=\"x [km]\", ylabel=\"z [km]\", \n",
    "        title=\"Temperature\", \n",
    "        xlims=(0, P.L/1e3), ylims=(-P.H/1e3, 0.0), \n",
    "        clims=(0, 2000))\n",
    "\n",
    "        contour!(p,x.c./1e3,y.c/1e3,D.T'.-P.K0,levels=:10,linecolor=:black)\n",
    "        if save_fig == 1\n",
    "            Plots.frame(anim)\n",
    "        else\n",
    "            display(p)                        \n",
    "        end\n",
    "    end\n",
    "end"
   ]
  },
  {
   "cell_type": "markdown",
   "metadata": {},
   "source": [
    "## Results"
   ]
  },
  {
   "cell_type": "code",
   "execution_count": null,
   "metadata": {},
   "outputs": [],
   "source": [
    "q = plot(D.Tprofile[:,1:T.dn:end].-P.K0,y.c./1e3,\n",
    "        label=\"\",xlabel=\"T_{x=L/2}\",ylabel=\"Depth [km]\",\n",
    "        title=\"Temperature profile\",\n",
    "        layout=(1,2),subplot=1)\n",
    "\n",
    "plot!(q,time./T.year/1e6,D.Tmax.-P.K0,\n",
    "        label=\"\",xlabel=\"Time [My]\",ylabel=\"T_{max} [°C]\",\n",
    "        subplot=2)\n",
    "\n",
    "if save_fig == 1\n",
    "        # Write the frames to a GIF file\n",
    "        Plots.gif(anim, string( path, filename, \".gif\" ), fps = 15)        \n",
    "        savefig(string(\"./Results/05_Plume_TProfile_Tmax_\",FDSchema,\".png\"))\n",
    "else\n",
    "    display(q)\n",
    "end\n",
    "# foreach(rm, filter(endswith(\".png\"), readdir(path,join=true)))"
   ]
  }
 ],
 "metadata": {
  "kernelspec": {
   "display_name": "Julia 1.10.4",
   "language": "julia",
   "name": "julia-1.10"
  },
  "language_info": {
   "file_extension": ".jl",
   "mimetype": "application/julia",
   "name": "julia",
   "version": "1.10.4"
  }
 },
 "nbformat": 4,
 "nbformat_minor": 2
}
