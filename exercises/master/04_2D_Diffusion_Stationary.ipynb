{
 "cells": [
  {
   "cell_type": "markdown",
   "metadata": {},
   "source": [
    "# 2-D Diffusionsgleichung (Stationär)"
   ]
  },
  {
   "cell_type": "markdown",
   "metadata": {},
   "source": [
    "## Einführung\n",
    "\n",
    "Unter der Annahme, dass sich die Temperatur nicht mehr mit der Zeit verändert, also das Temperaturfeld stationär ist, vereinfacht sich die Wärmeleitgleichung in eine reine Diffusionsgleichung in der Form einer sogenannte Poissongleichung (nur radiogene Elemente):\n",
    "\n",
    "$$\n",
    "0 = \\frac{\\partial}{\\partial{x}} \\left(k_{x} \\frac{\\partial{T}}{\\partial{x}}\\right) + \\frac{\\partial}{\\partial{y}} \\left(k_{y} \\frac{\\partial{T}}{\\partial{y}}\\right) + \\rho H, \\tag{1}\n",
    "$$\n",
    "\n",
    "wobei $\\rho$ die Dichte, $k_{x,y}$ die Wärmeleitfähigkeit in x- und y-Richtung, und $H$ die radiogene Wärmeproduktion pro Masse [W/kg] ist. \n",
    "\n",
    "Ein relative bekanntes, vereinfachtes Beispiel, auf das diese Gleichung angewand werden kann, ist das Problem der atomaren Endlagerung. Die Gleichung bestimmt dabei, in erster Ordnung, die finale Temperaturverteilung für ein Problem mit bestimmten Anfangs- und Randbedingungen."
   ]
  },
  {
   "cell_type": "markdown",
   "metadata": {},
   "source": [
    "Vereinfachen wir dafür die Gleichung erst noch ein wenig und nehmen an, dass die thermischen Parameter (hier, die Wärmeleitfähigkeit $k$) **isotrop** und **konstant** ist:\n",
    "\n",
    "$$\n",
    "0 = \\left( \\frac{\\partial^2{T}}{\\partial{x}^2} + \\frac{\\partial^2{T}}{\\partial{y}^2} \\right) + \\frac{Q}{k}, \\tag{2}\n",
    "$$\n",
    "\n",
    "wobei $Q = \\rho H$ die Wärmeproduktionsrate pro Volumen [W/m^3] ist. "
   ]
  },
  {
   "cell_type": "markdown",
   "metadata": {},
   "source": [
    "## Das Problem\n",
    "\n",
    "... Beschreibung ...\n",
    "\n",
    "... Loesung ..."
   ]
  },
  {
   "cell_type": "code",
   "execution_count": 1,
   "metadata": {},
   "outputs": [],
   "source": [
    "using GeoModBox.HeatEquation.TwoD, ExtendableSparse, Plots"
   ]
  },
  {
   "cell_type": "markdown",
   "metadata": {},
   "source": [
    "Physikalische Parameter"
   ]
  },
  {
   "cell_type": "code",
   "execution_count": null,
   "metadata": {},
   "outputs": [],
   "source": [
    "# Physikalischer Parameter ---------------------------------------------- #\n",
    "P       = ( \n",
    "    L       =   4.0e3,      #   [m]\n",
    "    H       =   2.0e3,      #   [m]\n",
    "    k       =   5.6,        #   Waermeleitfaehigkeit, W/m/K\n",
    "    # Definiere die Region der Waermequelle\n",
    "    Wcave   =   200.0,      # Breite der Region [ m ]\n",
    "    Hcave   =   200.0,      # Mächtigkeit [ m ]\n",
    "    Dcave   =   1.0e3,      # Tiefe des Zentrums [ m ]\n",
    "    Xcave   =   2.0e3,      # x-Position des Zentrum [ m ]\n",
    "    Q       =   0.3         # Volumetrische Waermeproduktionsrate [ W/m³ ]; Q = rho*H\n",
    ")\n",
    "# ----------------------------------------------------------------------- #"
   ]
  },
  {
   "cell_type": "markdown",
   "metadata": {},
   "source": [
    "Numerische Parameter"
   ]
  },
  {
   "cell_type": "code",
   "execution_count": null,
   "metadata": {},
   "outputs": [],
   "source": [
    "# Numerische Parameter -------------------------------------------------- #\n",
    "NC      = (\n",
    "    x       =   640,        # Gitterpunkte in x-Richtung, Spalten\n",
    "    y       =   320         # Gitterpunkte in y-Richtung, Zeilen    \n",
    "    \n",
    ")\n",
    "\n",
    "Δ       = (\n",
    "    x       =   [0.0],      #   Gitterabstand in x-Richtung\n",
    "    y       =   [0.0]       #   Gitterabstand in y-Richtung\n",
    ")\n",
    "\n",
    "Δ.x[1]      =   P.L/NC.x\n",
    "Δ.y[1]      =   P.H/NC.y\n",
    "# ----------------------------------------------------------------------- #"
   ]
  },
  {
   "cell_type": "markdown",
   "metadata": {},
   "source": [
    "Modellparameter und Anfangsbedingungen"
   ]
  },
  {
   "cell_type": "code",
   "execution_count": 4,
   "metadata": {},
   "outputs": [],
   "source": [
    "# Erstellung des Gitters ------------------------------------------------ #\n",
    "x       = (\n",
    "    c       =   LinRange(0.0 + Δ.x[1]/2.0, P.L - Δ.x[1]/2.0, NC.x),\n",
    ")\n",
    "y       = (\n",
    "    c       =   LinRange(-P.H + Δ.y[1]/2.0, 0.0 - Δ.y[1]/2.0, NC.y),\n",
    ")\n",
    "# ----------------------------------------------------------------------- #\n",
    "# Erstellung des Anfangsbedingung --------------------------------------- #\n",
    "D       = ( \n",
    "    Q       =   zeros(NC...),           # (row,col) \n",
    "    T       =   zeros(NC...),\n",
    "    ind     =   zeros(Int64,NC...)\n",
    ")\n",
    "\n",
    "# Defniere die Region of additional heat source\n",
    "for i = 1:NC.x, j = 1:NC.y\n",
    "    if x.c[i] >= (P.Xcave-P.Wcave/2.0) && x.c[i] <=(P.Xcave+P.Wcave/2.0) && \n",
    "        y.c[j] >= -P.Dcave-P.Hcave/2.0 && y.c[j] <= -P.Dcave+P.Hcave/2.0 \n",
    "        D.ind[i,j]  =   1\n",
    "        D.Q[i,j]    = P.Q\n",
    "    else\n",
    "        D.ind[i,j]  =   0\n",
    "    end\n",
    "end\n",
    "# ----------------------------------------------------------------------- #"
   ]
  },
  {
   "cell_type": "markdown",
   "metadata": {},
   "source": [
    "## Die Lösung \n",
    "\n",
    "### Diskretisierung\n",
    "\n",
    "#### Gitter und Indizierung\n",
    "\n",
    "#### Finite Differenzen Approximation\n",
    "\n",
    "$$\n",
    "0 = \\left( \\frac{T_{i-1,j} - 2T_{i,j} + T_{i+1,j}}{\\Delta{x}^2} + \\frac{T_{i,j-1} - 2T_{i,j} + T_{i,j+1}}{\\Delta{y}^2} \\right) + \\frac{Q}{k}, \\tag{3}\n",
    "$$\n",
    "\n",
    "wobei $i, j$ jeweils die Indizes und $\\Delta{x}, \\Delta{y}$ die Gitterabstände in x- und y- Richtung sind. Durch Umformung erhalten wir ein lineares Gleichungsystem mit 5 Koeffiziente in der Form: \n",
    "\n",
    "$$\n",
    "b T_{i,j-1} + aT_{i-1,j} - (2a + 2b) T_{i,j} + a T_{i+1,j} + b T_{i,j+1} = - \\frac{Q}{k}, \\tag{4}\n",
    "$$\n",
    "\n",
    "wobei $ a = 1 / \\Delta{x}^2$ und $b = 1 / \\Delta{y}^2$ ist. \n",
    "\n",
    "### Randbedingungen\n",
    "\n",
    "... Änderung der Koeffizienten und der Rechten Seite\n",
    "\n",
    "**Dirichlet** \n",
    "*West*\n",
    "*East*\n",
    "*South*\n",
    "*North*\n",
    "\n",
    "**Neumann**\n",
    "*West*\n",
    "*East*\n",
    "*South*\n",
    "*North*\n"
   ]
  },
  {
   "cell_type": "code",
   "execution_count": null,
   "metadata": {},
   "outputs": [],
   "source": [
    "# Randbedingungen ------------------------------------------------------- #\n",
    "BC      =   (\n",
    "    type    = (W=:Dirichlet, E=:Dirichlet, N=:Dirichlet, S=:Dirichlet),\n",
    "    # type    = (W=:Neumann, E=:Neumann, N=:Neumann, S=:Neumann),\n",
    "    # type    = (W=:Neumann, E=:Neumann, N=:Dirichlet, S=:Dirichlet),\n",
    "    # type    = (N=:Neumann, S=:Neumann, W=:Dirichlet, E=:Dirichlet),\n",
    "    val     = (W=:0.0,E=:0.0,N=:0.0,S=:0.0)\n",
    ")\n",
    "# ----------------------------------------------------------------------- #"
   ]
  },
  {
   "cell_type": "markdown",
   "metadata": {},
   "source": [
    "Lineares Gleichungsystem ..."
   ]
  },
  {
   "cell_type": "code",
   "execution_count": null,
   "metadata": {},
   "outputs": [],
   "source": [
    "# Linear System of Equations -------------------------------------------- #\n",
    "Num     =   (T=reshape(1:NC.x*NC.y, NC.x, NC.y),)\n",
    "ndof    =   maximum(Num.T)\n",
    "K       =   ExtendableSparseMatrix(ndof,ndof)\n",
    "rhs     =   zeros(ndof)\n",
    "# ----------------------------------------------------------------------- #"
   ]
  },
  {
   "cell_type": "markdown",
   "metadata": {},
   "source": [
    "... programmiert in ```Poisson!()``` ..."
   ]
  },
  {
   "cell_type": "markdown",
   "metadata": {},
   "source": [
    "### Loesen der Problems ..."
   ]
  },
  {
   "cell_type": "code",
   "execution_count": null,
   "metadata": {},
   "outputs": [],
   "source": [
    "# Solve equation -------------------------------------------------------- #\n",
    "Poisson!(D,NC,P,BC,Δ,K,rhs,Num)\n",
    "# ----------------------------------------------------------------------- #"
   ]
  },
  {
   "cell_type": "markdown",
   "metadata": {},
   "source": [
    "## Visualisierung"
   ]
  },
  {
   "cell_type": "code",
   "execution_count": null,
   "metadata": {},
   "outputs": [],
   "source": [
    "# Plot solution --------------------------------------------------------- #\n",
    "p = heatmap(x.c ./ 1e3, y.c ./ 1e3, D.T', \n",
    "        color=:viridis, colorbar=true, aspect_ratio=:equal, \n",
    "        xlabel=\"x [km]\", ylabel=\"z [km]\", \n",
    "        title=\"Stationary temperature field\", \n",
    "        xlims=(0, P.L/1e3), ylims=(-P.H/1e3, 0.0), \n",
    "        clims=(0, 900))\n",
    "\n",
    "contour!(p, x.c ./ 1e3, y.c ./ 1e3, D.T', \n",
    "            levels=100:100:1500, linecolor=:black)\n",
    "\n",
    "display(p)\n",
    "\n",
    "savefig(\"./Results/04_Steady_State_Solution.png\")\n",
    "# ----------------------------------------------------------------------- #"
   ]
  }
 ],
 "metadata": {
  "kernelspec": {
   "display_name": "Julia 1.10.4",
   "language": "julia",
   "name": "julia-1.10"
  },
  "language_info": {
   "file_extension": ".jl",
   "mimetype": "application/julia",
   "name": "julia",
   "version": "1.10.4"
  }
 },
 "nbformat": 4,
 "nbformat_minor": 2
}
