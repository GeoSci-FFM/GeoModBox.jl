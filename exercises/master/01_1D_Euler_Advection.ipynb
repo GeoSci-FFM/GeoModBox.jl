{
 "cells": [
  {
   "cell_type": "markdown",
   "metadata": {},
   "source": [
    "# Lösen einer Gewöhnlichen Differential Gleichung (GDL)\n",
    "\n",
    "Einer der einfachsten Methoden um eine *GDL* zu lösen ist das sogenannte **Euler-vorwärts-Verfahren** oder **explicite Euler-Verfahren**. Dabei benutzen wir die Informationen aus dem aktuellen Zeitschritt um die Informationen des neuen Zeitschrittes zu berechnen. Diese Verfahren wollen wir an einem bestimmten ein-dimesionalem Problem anwenden. \n",
    "\n",
    "## Das Problem\n",
    "\n",
    "Eine, im 1-D Raum, relative einfache *GDL* ist the Partikelpfadgleichung, gegeben durch:\n",
    "\n",
    "$$\n",
    "\\frac{\\partial{x}}{\\partial{t}} = f(x) = v_{x},\n",
    "$$\n",
    "\n",
    "wobei $x$ die Position des Partikels, $t$ die Zeit und $v_{x}$ die horizontale Geschwindigkeit darstellt. Die Gleichung beschreibt die Änderung der Position eines Partikels *P* mit der Zeit unter der Annahme einer konstanten Geschwindigkeit. \n",
    "\n",
    "Bevor wir versuchen das Problem numerisch zu lösen, lasst uns erst einmal die Anfangssituation darstellen. Dazu benötigen wir die folgenden Module in Julia (```Plots```):"
   ]
  },
  {
   "cell_type": "code",
   "execution_count": 1,
   "metadata": {},
   "outputs": [],
   "source": [
    "using Plots"
   ]
  },
  {
   "cell_type": "markdown",
   "metadata": {},
   "source": [
    "Nun definieren wir die Konstanten für unser Problem (Geometrie, Zeit, Physik): "
   ]
  },
  {
   "cell_type": "code",
   "execution_count": 2,
   "metadata": {},
   "outputs": [
    {
     "data": {
      "text/plain": [
       "0"
      ]
     },
     "metadata": {},
     "output_type": "display_data"
    }
   ],
   "source": [
    "# Plot Parameter -------------------------------------------------------- %\n",
    "#   Definiert ob die Abbildung als Animation gespeichert wird, \n",
    "#   0 - nein, 1 - ja\n",
    "save_fig    =   1    \n",
    "# ----------------------------------------------------------------------- %\n",
    "# Geometrische Konstanten ----------------------------------------------- %\n",
    "xmin        =   -10.0                               # Minimum [ m ]\n",
    "xmax        =   10.0                               # Maximum [ m ]\n",
    "# ----------------------------------------------------------------------- %\n",
    "# Zeit Parameter -------------------------------------------------------- %\n",
    "tmin        =   0.0                             # Anfangszeit [ s ]\n",
    "tmax        =   60                               # Maximale Zeit [ s ]\n",
    "dt          =   0.5                               # Zeitschrittlänge [ s ]\n",
    "nt          =   Int((tmax - tmin) / dt) + 1     # Anzahl der Zeitschritte \n",
    "Zeit        =   0.0\n",
    "# ----------------------------------------------------------------------- %\n",
    "# Anfangswert ----------------------------------------------------------- %\n",
    "vx          =   0.5                               # Geschwindigkeit [ m/s ]\n",
    "Px          =   0                               # Anfangsposition \n",
    "# ----------------------------------------------------------------------- %"
   ]
  },
  {
   "cell_type": "markdown",
   "metadata": {},
   "source": [
    "### Visualizierung\n",
    "Um unsere Abbildungen in einer Animation speichern zu können müssen wir den Ordner und den Namen der Datei festlegen: "
   ]
  },
  {
   "cell_type": "code",
   "execution_count": 3,
   "metadata": {},
   "outputs": [
    {
     "data": {
      "text/plain": [
       "\"01_1D_Euler\""
      ]
     },
     "metadata": {},
     "output_type": "display_data"
    }
   ],
   "source": [
    "# Animationssettings ---------------------------------------------------- %\n",
    "path        =   string(\"./Results/\")\n",
    "anim        =   Plots.Animation(path, String[] )\n",
    "filename    =   \"01_1D_Euler\""
   ]
  },
  {
   "cell_type": "markdown",
   "metadata": {},
   "source": [
    "Jetzt wollen wir das Partikel an seiner Anfangsposition darstellen (```scatter,annotate ```): "
   ]
  },
  {
   "cell_type": "code",
   "execution_count": 4,
   "metadata": {},
   "outputs": [
    {
     "data": {
      "image/png": "[encoded data removed]",
      "image/svg+xml": [
       "<?xml version=\"1.0\" encoding=\"utf-8\"?>\n",
       "<svg xmlns=\"http://www.w3.org/2000/svg\" xmlns:xlink=\"http://www.w3.org/1999/xlink\" width=\"600\" height=\"400\" viewBox=\"0 0 2400 1600\">\n",
       "<defs>\n",
       "  <clipPath id=\"clip310\">\n",
       "    <rect x=\"0\" y=\"0\" width=\"2400\" height=\"1600\"/>\n",
       "  </clipPath>\n",
       "</defs>\n",
       "<path clip-path=\"url(#clip310)\" d=\"M0 1600 L2400 1600 L2400 0 L0 0  Z\" fill=\"#ffffff\" fill-rule=\"evenodd\" fill-opacity=\"1\"/>\n",
       "<defs>\n",
       "  <clipPath id=\"clip311\">\n",
       "    <rect x=\"480\" y=\"0\" width=\"1681\" height=\"1600\"/>\n",
       "  </clipPath>\n",
       "</defs>\n",
       "<path clip-path=\"url(#clip310)\" d=\"M257.204 1423.18 L2352.76 1423.18 L2352.76 123.472 L257.204 123.472  Z\" fill=\"#ffffff\" fill-rule=\"evenodd\" fill-opacity=\"1\"/>\n",
       "<defs>\n",
       "  <clipPath id=\"clip312\">\n",
       "    <rect x=\"257\" y=\"123\" width=\"2097\" height=\"1301\"/>\n",
       "  </clipPath>\n",
       "</defs>\n",
       "<polyline clip-path=\"url(#clip312)\" style=\"stroke:#000000; stroke-linecap:round; stroke-linejoin:round; stroke-width:2; stroke-opacity:0.1; fill:none\" points=\"257.204,1423.18 257.204,123.472 \"/>\n",
       "<polyline clip-path=\"url(#clip312)\" style=\"stroke:#000000; stroke-linecap:round; stroke-linejoin:round; stroke-width:2; stroke-opacity:0.1; fill:none\" points=\"781.092,1423.18 781.092,123.472 \"/>\n",
       "<polyline clip-path=\"url(#clip312)\" style=\"stroke:#000000; stroke-linecap:round; stroke-linejoin:round; stroke-width:2; stroke-opacity:0.1; fill:none\" points=\"1304.98,1423.18 1304.98,123.472 \"/>\n",
       "<polyline clip-path=\"url(#clip312)\" style=\"stroke:#000000; stroke-linecap:round; stroke-linejoin:round; stroke-width:2; stroke-opacity:0.1; fill:none\" points=\"1828.87,1423.18 1828.87,123.472 \"/>\n",
       "<polyline clip-path=\"url(#clip312)\" style=\"stroke:#000000; stroke-linecap:round; stroke-linejoin:round; stroke-width:2; stroke-opacity:0.1; fill:none\" points=\"2352.76,1423.18 2352.76,123.472 \"/>\n",
       "<polyline clip-path=\"url(#clip310)\" style=\"stroke:#000000; stroke-linecap:round; stroke-linejoin:round; stroke-width:4; stroke-opacity:1; fill:none\" points=\"257.204,1423.18 2352.76,1423.18 \"/>\n",
       "<polyline clip-path=\"url(#clip310)\" style=\"stroke:#000000; stroke-linecap:round; stroke-linejoin:round; stroke-width:4; stroke-opacity:1; fill:none\" points=\"257.204,1423.18 257.204,1404.28 \"/>\n",
       "<polyline clip-path=\"url(#clip310)\" style=\"stroke:#000000; stroke-linecap:round; stroke-linejoin:round; stroke-width:4; stroke-opacity:1; fill:none\" points=\"781.092,1423.18 781.092,1404.28 \"/>\n",
       "<polyline clip-path=\"url(#clip310)\" style=\"stroke:#000000; stroke-linecap:round; stroke-linejoin:round; stroke-width:4; stroke-opacity:1; fill:none\" points=\"1304.98,1423.18 1304.98,1404.28 \"/>\n",
       "<polyline clip-path=\"url(#clip310)\" style=\"stroke:#000000; stroke-linecap:round; stroke-linejoin:round; stroke-width:4; stroke-opacity:1; fill:none\" points=\"1828.87,1423.18 1828.87,1404.28 \"/>\n",
       "<polyline clip-path=\"url(#clip310)\" style=\"stroke:#000000; stroke-linecap:round; stroke-linejoin:round; stroke-width:4; stroke-opacity:1; fill:none\" points=\"2352.76,1423.18 2352.76,1404.28 \"/>\n",
       "<path clip-path=\"url(#clip310)\" d=\"M211.267 1468.75 L240.943 1468.75 L240.943 1472.69 L211.267 1472.69 L211.267 1468.75 Z\" fill=\"#000000\" fill-rule=\"nonzero\" fill-opacity=\"1\" /><path clip-path=\"url(#clip310)\" d=\"M251.845 1481.64 L259.484 1481.64 L259.484 1455.28 L251.174 1456.95 L251.174 1452.69 L259.438 1451.02 L264.114 1451.02 L264.114 1481.64 L271.753 1481.64 L271.753 1485.58 L251.845 1485.58 L251.845 1481.64 Z\" fill=\"#000000\" fill-rule=\"nonzero\" fill-opacity=\"1\" /><path clip-path=\"url(#clip310)\" d=\"M291.197 1454.1 Q287.586 1454.1 285.757 1457.66 Q283.952 1461.2 283.952 1468.33 Q283.952 1475.44 285.757 1479.01 Q287.586 1482.55 291.197 1482.55 Q294.831 1482.55 296.637 1479.01 Q298.465 1475.44 298.465 1468.33 Q298.465 1461.2 296.637 1457.66 Q294.831 1454.1 291.197 1454.1 M291.197 1450.39 Q297.007 1450.39 300.063 1455 Q303.141 1459.58 303.141 1468.33 Q303.141 1477.06 300.063 1481.67 Q297.007 1486.25 291.197 1486.25 Q285.387 1486.25 282.308 1481.67 Q279.253 1477.06 279.253 1468.33 Q279.253 1459.58 282.308 1455 Q285.387 1450.39 291.197 1450.39 Z\" fill=\"#000000\" fill-rule=\"nonzero\" fill-opacity=\"1\" /><path clip-path=\"url(#clip310)\" d=\"M750.733 1468.75 L780.409 1468.75 L780.409 1472.69 L750.733 1472.69 L750.733 1468.75 Z\" fill=\"#000000\" fill-rule=\"nonzero\" fill-opacity=\"1\" /><path clip-path=\"url(#clip310)\" d=\"M790.548 1451.02 L808.904 1451.02 L808.904 1454.96 L794.83 1454.96 L794.83 1463.43 Q795.849 1463.08 796.867 1462.92 Q797.886 1462.73 798.904 1462.73 Q804.691 1462.73 808.071 1465.9 Q811.451 1469.08 811.451 1474.49 Q811.451 1480.07 807.978 1483.17 Q804.506 1486.25 798.187 1486.25 Q796.011 1486.25 793.742 1485.88 Q791.497 1485.51 789.09 1484.77 L789.09 1480.07 Q791.173 1481.2 793.395 1481.76 Q795.617 1482.32 798.094 1482.32 Q802.099 1482.32 804.437 1480.21 Q806.775 1478.1 806.775 1474.49 Q806.775 1470.88 804.437 1468.77 Q802.099 1466.67 798.094 1466.67 Q796.219 1466.67 794.344 1467.08 Q792.492 1467.5 790.548 1468.38 L790.548 1451.02 Z\" fill=\"#000000\" fill-rule=\"nonzero\" fill-opacity=\"1\" /><path clip-path=\"url(#clip310)\" d=\"M1304.98 1454.1 Q1301.37 1454.1 1299.54 1457.66 Q1297.73 1461.2 1297.73 1468.33 Q1297.73 1475.44 1299.54 1479.01 Q1301.37 1482.55 1304.98 1482.55 Q1308.61 1482.55 1310.42 1479.01 Q1312.25 1475.44 1312.25 1468.33 Q1312.25 1461.2 1310.42 1457.66 Q1308.61 1454.1 1304.98 1454.1 M1304.98 1450.39 Q1310.79 1450.39 1313.85 1455 Q1316.92 1459.58 1316.92 1468.33 Q1316.92 1477.06 1313.85 1481.67 Q1310.79 1486.25 1304.98 1486.25 Q1299.17 1486.25 1296.09 1481.67 Q1293.04 1477.06 1293.04 1468.33 Q1293.04 1459.58 1296.09 1455 Q1299.17 1450.39 1304.98 1450.39 Z\" fill=\"#000000\" fill-rule=\"nonzero\" fill-opacity=\"1\" /><path clip-path=\"url(#clip310)\" d=\"M1819.15 1451.02 L1837.5 1451.02 L1837.5 1454.96 L1823.43 1454.96 L1823.43 1463.43 Q1824.45 1463.08 1825.47 1462.92 Q1826.48 1462.73 1827.5 1462.73 Q1833.29 1462.73 1836.67 1465.9 Q1840.05 1469.08 1840.05 1474.49 Q1840.05 1480.07 1836.58 1483.17 Q1833.1 1486.25 1826.78 1486.25 Q1824.61 1486.25 1822.34 1485.88 Q1820.09 1485.51 1817.69 1484.77 L1817.69 1480.07 Q1819.77 1481.2 1821.99 1481.76 Q1824.22 1482.32 1826.69 1482.32 Q1830.7 1482.32 1833.03 1480.21 Q1835.37 1478.1 1835.37 1474.49 Q1835.37 1470.88 1833.03 1468.77 Q1830.7 1466.67 1826.69 1466.67 Q1824.82 1466.67 1822.94 1467.08 Q1821.09 1467.5 1819.15 1468.38 L1819.15 1451.02 Z\" fill=\"#000000\" fill-rule=\"nonzero\" fill-opacity=\"1\" /><path clip-path=\"url(#clip310)\" d=\"M2327.44 1481.64 L2335.08 1481.64 L2335.08 1455.28 L2326.77 1456.95 L2326.77 1452.69 L2335.04 1451.02 L2339.71 1451.02 L2339.71 1481.64 L2347.35 1481.64 L2347.35 1485.58 L2327.44 1485.58 L2327.44 1481.64 Z\" fill=\"#000000\" fill-rule=\"nonzero\" fill-opacity=\"1\" /><path clip-path=\"url(#clip310)\" d=\"M2366.8 1454.1 Q2363.18 1454.1 2361.36 1457.66 Q2359.55 1461.2 2359.55 1468.33 Q2359.55 1475.44 2361.36 1479.01 Q2363.18 1482.55 2366.8 1482.55 Q2370.43 1482.55 2372.23 1479.01 Q2374.06 1475.44 2374.06 1468.33 Q2374.06 1461.2 2372.23 1457.66 Q2370.43 1454.1 2366.8 1454.1 M2366.8 1450.39 Q2372.61 1450.39 2375.66 1455 Q2378.74 1459.58 2378.74 1468.33 Q2378.74 1477.06 2375.66 1481.67 Q2372.61 1486.25 2366.8 1486.25 Q2360.99 1486.25 2357.91 1481.67 Q2354.85 1477.06 2354.85 1468.33 Q2354.85 1459.58 2357.91 1455 Q2360.99 1450.39 2366.8 1450.39 Z\" fill=\"#000000\" fill-rule=\"nonzero\" fill-opacity=\"1\" /><path clip-path=\"url(#clip310)\" d=\"M1321.59 1532.4 L1308.7 1549.74 L1322.26 1568.04 L1315.36 1568.04 L1304.98 1554.04 L1294.6 1568.04 L1287.7 1568.04 L1301.54 1549.39 L1288.87 1532.4 L1295.78 1532.4 L1305.23 1545.1 L1314.69 1532.4 L1321.59 1532.4 Z\" fill=\"#000000\" fill-rule=\"nonzero\" fill-opacity=\"1\" /><polyline clip-path=\"url(#clip312)\" style=\"stroke:#000000; stroke-linecap:round; stroke-linejoin:round; stroke-width:2; stroke-opacity:0.1; fill:none\" points=\"257.204,1423.18 2352.76,1423.18 \"/>\n",
       "<polyline clip-path=\"url(#clip312)\" style=\"stroke:#000000; stroke-linecap:round; stroke-linejoin:round; stroke-width:2; stroke-opacity:0.1; fill:none\" points=\"257.204,1098.25 2352.76,1098.25 \"/>\n",
       "<polyline clip-path=\"url(#clip312)\" style=\"stroke:#000000; stroke-linecap:round; stroke-linejoin:round; stroke-width:2; stroke-opacity:0.1; fill:none\" points=\"257.204,773.326 2352.76,773.326 \"/>\n",
       "<polyline clip-path=\"url(#clip312)\" style=\"stroke:#000000; stroke-linecap:round; stroke-linejoin:round; stroke-width:2; stroke-opacity:0.1; fill:none\" points=\"257.204,448.399 2352.76,448.399 \"/>\n",
       "<polyline clip-path=\"url(#clip312)\" style=\"stroke:#000000; stroke-linecap:round; stroke-linejoin:round; stroke-width:2; stroke-opacity:0.1; fill:none\" points=\"257.204,123.472 2352.76,123.472 \"/>\n",
       "<polyline clip-path=\"url(#clip310)\" style=\"stroke:#000000; stroke-linecap:round; stroke-linejoin:round; stroke-width:4; stroke-opacity:1; fill:none\" points=\"257.204,1423.18 257.204,123.472 \"/>\n",
       "<polyline clip-path=\"url(#clip310)\" style=\"stroke:#000000; stroke-linecap:round; stroke-linejoin:round; stroke-width:4; stroke-opacity:1; fill:none\" points=\"257.204,1423.18 276.102,1423.18 \"/>\n",
       "<polyline clip-path=\"url(#clip310)\" style=\"stroke:#000000; stroke-linecap:round; stroke-linejoin:round; stroke-width:4; stroke-opacity:1; fill:none\" points=\"257.204,1098.25 276.102,1098.25 \"/>\n",
       "<polyline clip-path=\"url(#clip310)\" style=\"stroke:#000000; stroke-linecap:round; stroke-linejoin:round; stroke-width:4; stroke-opacity:1; fill:none\" points=\"257.204,773.326 276.102,773.326 \"/>\n",
       "<polyline clip-path=\"url(#clip310)\" style=\"stroke:#000000; stroke-linecap:round; stroke-linejoin:round; stroke-width:4; stroke-opacity:1; fill:none\" points=\"257.204,448.399 276.102,448.399 \"/>\n",
       "<polyline clip-path=\"url(#clip310)\" style=\"stroke:#000000; stroke-linecap:round; stroke-linejoin:round; stroke-width:4; stroke-opacity:1; fill:none\" points=\"257.204,123.472 276.102,123.472 \"/>\n",
       "<path clip-path=\"url(#clip310)\" d=\"M114.26 1423.63 L143.936 1423.63 L143.936 1427.57 L114.26 1427.57 L114.26 1423.63 Z\" fill=\"#000000\" fill-rule=\"nonzero\" fill-opacity=\"1\" /><path clip-path=\"url(#clip310)\" d=\"M154.839 1436.52 L162.477 1436.52 L162.477 1410.16 L154.167 1411.83 L154.167 1407.57 L162.431 1405.9 L167.107 1405.9 L167.107 1436.52 L174.746 1436.52 L174.746 1440.46 L154.839 1440.46 L154.839 1436.52 Z\" fill=\"#000000\" fill-rule=\"nonzero\" fill-opacity=\"1\" /><path clip-path=\"url(#clip310)\" d=\"M184.19 1434.58 L189.075 1434.58 L189.075 1440.46 L184.19 1440.46 L184.19 1434.58 Z\" fill=\"#000000\" fill-rule=\"nonzero\" fill-opacity=\"1\" /><path clip-path=\"url(#clip310)\" d=\"M209.26 1408.98 Q205.649 1408.98 203.82 1412.54 Q202.014 1416.08 202.014 1423.21 Q202.014 1430.32 203.82 1433.89 Q205.649 1437.43 209.26 1437.43 Q212.894 1437.43 214.699 1433.89 Q216.528 1430.32 216.528 1423.21 Q216.528 1416.08 214.699 1412.54 Q212.894 1408.98 209.26 1408.98 M209.26 1405.27 Q215.07 1405.27 218.125 1409.88 Q221.204 1414.46 221.204 1423.21 Q221.204 1431.94 218.125 1436.55 Q215.07 1441.13 209.26 1441.13 Q203.449 1441.13 200.371 1436.55 Q197.315 1431.94 197.315 1423.21 Q197.315 1414.46 200.371 1409.88 Q203.449 1405.27 209.26 1405.27 Z\" fill=\"#000000\" fill-rule=\"nonzero\" fill-opacity=\"1\" /><path clip-path=\"url(#clip310)\" d=\"M115.256 1098.7 L144.931 1098.7 L144.931 1102.64 L115.256 1102.64 L115.256 1098.7 Z\" fill=\"#000000\" fill-rule=\"nonzero\" fill-opacity=\"1\" /><path clip-path=\"url(#clip310)\" d=\"M165.024 1084.05 Q161.413 1084.05 159.584 1087.62 Q157.778 1091.16 157.778 1098.29 Q157.778 1105.39 159.584 1108.96 Q161.413 1112.5 165.024 1112.5 Q168.658 1112.5 170.464 1108.96 Q172.292 1105.39 172.292 1098.29 Q172.292 1091.16 170.464 1087.62 Q168.658 1084.05 165.024 1084.05 M165.024 1080.35 Q170.834 1080.35 173.889 1084.95 Q176.968 1089.54 176.968 1098.29 Q176.968 1107.01 173.889 1111.62 Q170.834 1116.2 165.024 1116.2 Q159.214 1116.2 156.135 1111.62 Q153.079 1107.01 153.079 1098.29 Q153.079 1089.54 156.135 1084.95 Q159.214 1080.35 165.024 1080.35 Z\" fill=\"#000000\" fill-rule=\"nonzero\" fill-opacity=\"1\" /><path clip-path=\"url(#clip310)\" d=\"M185.186 1109.65 L190.07 1109.65 L190.07 1115.53 L185.186 1115.53 L185.186 1109.65 Z\" fill=\"#000000\" fill-rule=\"nonzero\" fill-opacity=\"1\" /><path clip-path=\"url(#clip310)\" d=\"M200.301 1080.97 L218.658 1080.97 L218.658 1084.91 L204.584 1084.91 L204.584 1093.38 Q205.602 1093.03 206.621 1092.87 Q207.639 1092.69 208.658 1092.69 Q214.445 1092.69 217.824 1095.86 Q221.204 1099.03 221.204 1104.45 Q221.204 1110.02 217.732 1113.13 Q214.26 1116.2 207.94 1116.2 Q205.764 1116.2 203.496 1115.83 Q201.25 1115.46 198.843 1114.72 L198.843 1110.02 Q200.926 1111.16 203.149 1111.71 Q205.371 1112.27 207.848 1112.27 Q211.852 1112.27 214.19 1110.16 Q216.528 1108.06 216.528 1104.45 Q216.528 1100.83 214.19 1098.73 Q211.852 1096.62 207.848 1096.62 Q205.973 1096.62 204.098 1097.04 Q202.246 1097.45 200.301 1098.33 L200.301 1080.97 Z\" fill=\"#000000\" fill-rule=\"nonzero\" fill-opacity=\"1\" /><path clip-path=\"url(#clip310)\" d=\"M164.028 759.125 Q160.417 759.125 158.589 762.689 Q156.783 766.231 156.783 773.361 Q156.783 780.467 158.589 784.032 Q160.417 787.574 164.028 787.574 Q167.663 787.574 169.468 784.032 Q171.297 780.467 171.297 773.361 Q171.297 766.231 169.468 762.689 Q167.663 759.125 164.028 759.125 M164.028 755.421 Q169.839 755.421 172.894 760.027 Q175.973 764.611 175.973 773.361 Q175.973 782.088 172.894 786.694 Q169.839 791.277 164.028 791.277 Q158.218 791.277 155.14 786.694 Q152.084 782.088 152.084 773.361 Q152.084 764.611 155.14 760.027 Q158.218 755.421 164.028 755.421 Z\" fill=\"#000000\" fill-rule=\"nonzero\" fill-opacity=\"1\" /><path clip-path=\"url(#clip310)\" d=\"M184.19 784.726 L189.075 784.726 L189.075 790.606 L184.19 790.606 L184.19 784.726 Z\" fill=\"#000000\" fill-rule=\"nonzero\" fill-opacity=\"1\" /><path clip-path=\"url(#clip310)\" d=\"M209.26 759.125 Q205.649 759.125 203.82 762.689 Q202.014 766.231 202.014 773.361 Q202.014 780.467 203.82 784.032 Q205.649 787.574 209.26 787.574 Q212.894 787.574 214.699 784.032 Q216.528 780.467 216.528 773.361 Q216.528 766.231 214.699 762.689 Q212.894 759.125 209.26 759.125 M209.26 755.421 Q215.07 755.421 218.125 760.027 Q221.204 764.611 221.204 773.361 Q221.204 782.088 218.125 786.694 Q215.07 791.277 209.26 791.277 Q203.449 791.277 200.371 786.694 Q197.315 782.088 197.315 773.361 Q197.315 764.611 200.371 760.027 Q203.449 755.421 209.26 755.421 Z\" fill=\"#000000\" fill-rule=\"nonzero\" fill-opacity=\"1\" /><path clip-path=\"url(#clip310)\" d=\"M165.024 434.198 Q161.413 434.198 159.584 437.763 Q157.778 441.304 157.778 448.434 Q157.778 455.54 159.584 459.105 Q161.413 462.647 165.024 462.647 Q168.658 462.647 170.464 459.105 Q172.292 455.54 172.292 448.434 Q172.292 441.304 170.464 437.763 Q168.658 434.198 165.024 434.198 M165.024 430.494 Q170.834 430.494 173.889 435.101 Q176.968 439.684 176.968 448.434 Q176.968 457.161 173.889 461.767 Q170.834 466.35 165.024 466.35 Q159.214 466.35 156.135 461.767 Q153.079 457.161 153.079 448.434 Q153.079 439.684 156.135 435.101 Q159.214 430.494 165.024 430.494 Z\" fill=\"#000000\" fill-rule=\"nonzero\" fill-opacity=\"1\" /><path clip-path=\"url(#clip310)\" d=\"M185.186 459.799 L190.07 459.799 L190.07 465.679 L185.186 465.679 L185.186 459.799 Z\" fill=\"#000000\" fill-rule=\"nonzero\" fill-opacity=\"1\" /><path clip-path=\"url(#clip310)\" d=\"M200.301 431.119 L218.658 431.119 L218.658 435.054 L204.584 435.054 L204.584 443.526 Q205.602 443.179 206.621 443.017 Q207.639 442.832 208.658 442.832 Q214.445 442.832 217.824 446.003 Q221.204 449.175 221.204 454.591 Q221.204 460.17 217.732 463.272 Q214.26 466.35 207.94 466.35 Q205.764 466.35 203.496 465.98 Q201.25 465.61 198.843 464.869 L198.843 460.17 Q200.926 461.304 203.149 461.86 Q205.371 462.415 207.848 462.415 Q211.852 462.415 214.19 460.309 Q216.528 458.202 216.528 454.591 Q216.528 450.98 214.19 448.874 Q211.852 446.767 207.848 446.767 Q205.973 446.767 204.098 447.184 Q202.246 447.6 200.301 448.48 L200.301 431.119 Z\" fill=\"#000000\" fill-rule=\"nonzero\" fill-opacity=\"1\" /><path clip-path=\"url(#clip310)\" d=\"M154.839 136.817 L162.477 136.817 L162.477 110.451 L154.167 112.118 L154.167 107.859 L162.431 106.192 L167.107 106.192 L167.107 136.817 L174.746 136.817 L174.746 140.752 L154.839 140.752 L154.839 136.817 Z\" fill=\"#000000\" fill-rule=\"nonzero\" fill-opacity=\"1\" /><path clip-path=\"url(#clip310)\" d=\"M184.19 134.873 L189.075 134.873 L189.075 140.752 L184.19 140.752 L184.19 134.873 Z\" fill=\"#000000\" fill-rule=\"nonzero\" fill-opacity=\"1\" /><path clip-path=\"url(#clip310)\" d=\"M209.26 109.271 Q205.649 109.271 203.82 112.836 Q202.014 116.377 202.014 123.507 Q202.014 130.613 203.82 134.178 Q205.649 137.72 209.26 137.72 Q212.894 137.72 214.699 134.178 Q216.528 130.613 216.528 123.507 Q216.528 116.377 214.699 112.836 Q212.894 109.271 209.26 109.271 M209.26 105.567 Q215.07 105.567 218.125 110.174 Q221.204 114.757 221.204 123.507 Q221.204 132.234 218.125 136.84 Q215.07 141.423 209.26 141.423 Q203.449 141.423 200.371 136.84 Q197.315 132.234 197.315 123.507 Q197.315 114.757 200.371 110.174 Q203.449 105.567 209.26 105.567 Z\" fill=\"#000000\" fill-rule=\"nonzero\" fill-opacity=\"1\" /><path clip-path=\"url(#clip310)\" d=\"M67.3143 771.639 Q73.68 774.122 75.6216 776.477 Q77.5631 778.832 77.5631 782.779 L77.5631 787.458 L72.6615 787.458 L72.6615 784.02 Q72.6615 781.601 71.5157 780.265 Q70.3699 778.928 66.1048 777.305 L63.4312 776.254 L28.3562 790.673 L28.3562 784.466 L56.238 773.326 L28.3562 762.186 L28.3562 755.979 L67.3143 771.639 Z\" fill=\"#000000\" fill-rule=\"nonzero\" fill-opacity=\"1\" /><path clip-path=\"url(#clip310)\" d=\"M1002.48 18.8205 L1002.48 41.5461 L1012.77 41.5461 Q1018.48 41.5461 1021.6 38.5889 Q1024.72 35.6318 1024.72 30.163 Q1024.72 24.7348 1021.6 21.7777 Q1018.48 18.8205 1012.77 18.8205 L1002.48 18.8205 M994.296 12.096 L1012.77 12.096 Q1022.94 12.096 1028.12 16.714 Q1033.35 21.2916 1033.35 30.163 Q1033.35 39.1155 1028.12 43.6931 Q1022.94 48.2706 1012.77 48.2706 L1002.48 48.2706 L1002.48 72.576 L994.296 72.576 L994.296 12.096 Z\" fill=\"#000000\" fill-rule=\"nonzero\" fill-opacity=\"1\" /><path clip-path=\"url(#clip310)\" d=\"M1060.89 49.7694 Q1051.86 49.7694 1048.38 51.8354 Q1044.89 53.9013 1044.89 58.8839 Q1044.89 62.8538 1047.48 65.2034 Q1050.12 67.5124 1054.61 67.5124 Q1060.81 67.5124 1064.54 63.1374 Q1068.31 58.7219 1068.31 51.4303 L1068.31 49.7694 L1060.89 49.7694 M1075.76 46.6907 L1075.76 72.576 L1068.31 72.576 L1068.31 65.6895 Q1065.75 69.8214 1061.95 71.8063 Q1058.14 73.7508 1052.63 73.7508 Q1045.66 73.7508 1041.53 69.8619 Q1037.44 65.9325 1037.44 59.3701 Q1037.44 51.7138 1042.54 47.825 Q1047.69 43.9361 1057.85 43.9361 L1068.31 43.9361 L1068.31 43.2069 Q1068.31 38.0623 1064.9 35.2672 Q1061.54 32.4315 1055.42 32.4315 Q1051.54 32.4315 1047.85 33.3632 Q1044.16 34.295 1040.76 36.1584 L1040.76 29.2718 Q1044.85 27.692 1048.7 26.9223 Q1052.55 26.1121 1056.19 26.1121 Q1066.04 26.1121 1070.9 31.2163 Q1075.76 36.3204 1075.76 46.6907 Z\" fill=\"#000000\" fill-rule=\"nonzero\" fill-opacity=\"1\" /><path clip-path=\"url(#clip310)\" d=\"M1117.4 34.1734 Q1116.15 33.4443 1114.65 33.1202 Q1113.19 32.7556 1111.41 32.7556 Q1105.09 32.7556 1101.69 36.8875 Q1098.32 40.9789 1098.32 48.6757 L1098.32 72.576 L1090.83 72.576 L1090.83 27.2059 L1098.32 27.2059 L1098.32 34.2544 Q1100.67 30.1225 1104.44 28.1376 Q1108.21 26.1121 1113.59 26.1121 Q1114.36 26.1121 1115.3 26.2337 Q1116.23 26.3147 1117.36 26.5172 L1117.4 34.1734 Z\" fill=\"#000000\" fill-rule=\"nonzero\" fill-opacity=\"1\" /><path clip-path=\"url(#clip310)\" d=\"M1132.59 14.324 L1132.59 27.2059 L1147.95 27.2059 L1147.95 32.9987 L1132.59 32.9987 L1132.59 57.6282 Q1132.59 63.1779 1134.09 64.7578 Q1135.63 66.3376 1140.29 66.3376 L1147.95 66.3376 L1147.95 72.576 L1140.29 72.576 Q1131.66 72.576 1128.38 69.3758 Q1125.1 66.1351 1125.1 57.6282 L1125.1 32.9987 L1119.63 32.9987 L1119.63 27.2059 L1125.1 27.2059 L1125.1 14.324 L1132.59 14.324 Z\" fill=\"#000000\" fill-rule=\"nonzero\" fill-opacity=\"1\" /><path clip-path=\"url(#clip310)\" d=\"M1157.75 27.2059 L1165.2 27.2059 L1165.2 72.576 L1157.75 72.576 L1157.75 27.2059 M1157.75 9.54393 L1165.2 9.54393 L1165.2 18.9825 L1157.75 18.9825 L1157.75 9.54393 Z\" fill=\"#000000\" fill-rule=\"nonzero\" fill-opacity=\"1\" /><path clip-path=\"url(#clip310)\" d=\"M1180.52 9.54393 L1188.01 9.54393 L1188.01 46.7717 L1210.25 27.2059 L1219.77 27.2059 L1195.71 48.4326 L1220.78 72.576 L1211.06 72.576 L1188.01 50.4176 L1188.01 72.576 L1180.52 72.576 L1180.52 9.54393 Z\" fill=\"#000000\" fill-rule=\"nonzero\" fill-opacity=\"1\" /><path clip-path=\"url(#clip310)\" d=\"M1264.69 48.0275 L1264.69 51.6733 L1230.42 51.6733 Q1230.91 59.3701 1235.04 63.421 Q1239.21 67.4314 1246.63 67.4314 Q1250.92 67.4314 1254.93 66.3781 Q1258.98 65.3249 1262.95 63.2184 L1262.95 70.267 Q1258.94 71.9684 1254.73 72.8596 Q1250.52 73.7508 1246.18 73.7508 Q1235.32 73.7508 1228.96 67.4314 Q1222.65 61.1119 1222.65 50.3365 Q1222.65 39.1965 1228.64 32.6746 Q1234.68 26.1121 1244.88 26.1121 Q1254.04 26.1121 1259.35 32.0264 Q1264.69 37.9003 1264.69 48.0275 M1257.24 45.84 Q1257.16 39.7232 1253.8 36.0774 Q1250.48 32.4315 1244.97 32.4315 Q1238.73 32.4315 1234.96 35.9558 Q1231.23 39.4801 1230.67 45.8805 L1257.24 45.84 Z\" fill=\"#000000\" fill-rule=\"nonzero\" fill-opacity=\"1\" /><path clip-path=\"url(#clip310)\" d=\"M1276.93 9.54393 L1284.38 9.54393 L1284.38 72.576 L1276.93 72.576 L1276.93 9.54393 Z\" fill=\"#000000\" fill-rule=\"nonzero\" fill-opacity=\"1\" /><path clip-path=\"url(#clip310)\" d=\"M1307.19 65.7705 L1307.19 89.8329 L1299.69 89.8329 L1299.69 27.2059 L1307.19 27.2059 L1307.19 34.0924 Q1309.54 30.0415 1313.1 28.0971 Q1316.71 26.1121 1321.69 26.1121 Q1329.95 26.1121 1335.1 32.6746 Q1340.28 39.2371 1340.28 49.9314 Q1340.28 60.6258 1335.1 67.1883 Q1329.95 73.7508 1321.69 73.7508 Q1316.71 73.7508 1313.1 71.8063 Q1309.54 69.8214 1307.19 65.7705 M1332.55 49.9314 Q1332.55 41.7081 1329.14 37.0496 Q1325.78 32.3505 1319.87 32.3505 Q1313.95 32.3505 1310.55 37.0496 Q1307.19 41.7081 1307.19 49.9314 Q1307.19 58.1548 1310.55 62.8538 Q1313.95 67.5124 1319.87 67.5124 Q1325.78 67.5124 1329.14 62.8538 Q1332.55 58.1548 1332.55 49.9314 Z\" fill=\"#000000\" fill-rule=\"nonzero\" fill-opacity=\"1\" /><path clip-path=\"url(#clip310)\" d=\"M1375.61 9.54393 L1375.61 15.7418 L1368.48 15.7418 Q1364.47 15.7418 1362.89 17.3622 Q1361.35 18.9825 1361.35 23.1955 L1361.35 27.2059 L1373.62 27.2059 L1373.62 32.9987 L1361.35 32.9987 L1361.35 72.576 L1353.85 72.576 L1353.85 32.9987 L1346.72 32.9987 L1346.72 27.2059 L1353.85 27.2059 L1353.85 24.0462 Q1353.85 16.471 1357.38 13.0277 Q1360.9 9.54393 1368.56 9.54393 L1375.61 9.54393 Z\" fill=\"#000000\" fill-rule=\"nonzero\" fill-opacity=\"1\" /><path clip-path=\"url(#clip310)\" d=\"M1402.46 49.7694 Q1393.43 49.7694 1389.95 51.8354 Q1386.46 53.9013 1386.46 58.8839 Q1386.46 62.8538 1389.06 65.2034 Q1391.69 67.5124 1396.19 67.5124 Q1402.38 67.5124 1406.11 63.1374 Q1409.88 58.7219 1409.88 51.4303 L1409.88 49.7694 L1402.46 49.7694 M1417.33 46.6907 L1417.33 72.576 L1409.88 72.576 L1409.88 65.6895 Q1407.33 69.8214 1403.52 71.8063 Q1399.71 73.7508 1394.2 73.7508 Q1387.23 73.7508 1383.1 69.8619 Q1379.01 65.9325 1379.01 59.3701 Q1379.01 51.7138 1384.11 47.825 Q1389.26 43.9361 1399.43 43.9361 L1409.88 43.9361 L1409.88 43.2069 Q1409.88 38.0623 1406.48 35.2672 Q1403.11 32.4315 1397 32.4315 Q1393.11 32.4315 1389.42 33.3632 Q1385.73 34.295 1382.33 36.1584 L1382.33 29.2718 Q1386.42 27.692 1390.27 26.9223 Q1394.12 26.1121 1397.77 26.1121 Q1407.61 26.1121 1412.47 31.2163 Q1417.33 36.3204 1417.33 46.6907 Z\" fill=\"#000000\" fill-rule=\"nonzero\" fill-opacity=\"1\" /><path clip-path=\"url(#clip310)\" d=\"M1462.54 34.0924 L1462.54 9.54393 L1469.99 9.54393 L1469.99 72.576 L1462.54 72.576 L1462.54 65.7705 Q1460.19 69.8214 1456.59 71.8063 Q1453.02 73.7508 1448 73.7508 Q1439.77 73.7508 1434.59 67.1883 Q1429.44 60.6258 1429.44 49.9314 Q1429.44 39.2371 1434.59 32.6746 Q1439.77 26.1121 1448 26.1121 Q1453.02 26.1121 1456.59 28.0971 Q1460.19 30.0415 1462.54 34.0924 M1437.14 49.9314 Q1437.14 58.1548 1440.5 62.8538 Q1443.91 67.5124 1449.82 67.5124 Q1455.73 67.5124 1459.14 62.8538 Q1462.54 58.1548 1462.54 49.9314 Q1462.54 41.7081 1459.14 37.0496 Q1455.73 32.3505 1449.82 32.3505 Q1443.91 32.3505 1440.5 37.0496 Q1437.14 41.7081 1437.14 49.9314 Z\" fill=\"#000000\" fill-rule=\"nonzero\" fill-opacity=\"1\" /><path clip-path=\"url(#clip310)\" d=\"M1514.19 65.6895 L1527.56 65.6895 L1527.56 19.5497 L1513.01 22.4663 L1513.01 15.0127 L1527.48 12.096 L1535.66 12.096 L1535.66 65.6895 L1549.03 65.6895 L1549.03 72.576 L1514.19 72.576 L1514.19 65.6895 Z\" fill=\"#000000\" fill-rule=\"nonzero\" fill-opacity=\"1\" /><path clip-path=\"url(#clip310)\" d=\"M1573.01 18.8205 L1573.01 65.8515 L1582.89 65.8515 Q1595.41 65.8515 1601.2 60.1802 Q1607.04 54.509 1607.04 42.2752 Q1607.04 30.1225 1601.2 24.4918 Q1595.41 18.8205 1582.89 18.8205 L1573.01 18.8205 M1564.83 12.096 L1581.64 12.096 Q1599.22 12.096 1607.44 19.4281 Q1615.66 26.7198 1615.66 42.2752 Q1615.66 57.9117 1607.4 65.2439 Q1599.14 72.576 1581.64 72.576 L1564.83 72.576 L1564.83 12.096 Z\" fill=\"#000000\" fill-rule=\"nonzero\" fill-opacity=\"1\" /><circle clip-path=\"url(#clip312)\" cx=\"1304.98\" cy=\"773.326\" r=\"28.8\" fill=\"#000000\" fill-rule=\"evenodd\" fill-opacity=\"1\" stroke=\"#ff0000\" stroke-opacity=\"1\" stroke-width=\"3.2\"/>\n",
       "<path clip-path=\"url(#clip310)\" d=\"M1052.16 260.016 L1092.89 260.016 L1092.89 265.363 L1060.11 305.953 L1093.69 305.953 L1093.69 311.856 L1051.36 311.856 L1051.36 306.508 L1084.14 265.918 L1052.16 265.918 L1052.16 260.016 Z\" fill=\"#000000\" fill-rule=\"nonzero\" fill-opacity=\"1\" /><path clip-path=\"url(#clip310)\" d=\"M1136.85 290.814 L1136.85 293.939 L1107.47 293.939 Q1107.89 300.536 1111.43 304.008 Q1115.01 307.446 1121.36 307.446 Q1125.04 307.446 1128.48 306.543 Q1131.95 305.64 1135.36 303.835 L1135.36 309.876 Q1131.92 311.335 1128.31 312.099 Q1124.7 312.863 1120.98 312.863 Q1111.68 312.863 1106.22 307.446 Q1100.81 302.029 1100.81 292.793 Q1100.81 283.245 1105.95 277.654 Q1111.12 272.029 1119.87 272.029 Q1127.72 272.029 1132.27 277.099 Q1136.85 282.134 1136.85 290.814 M1130.46 288.939 Q1130.39 283.696 1127.51 280.571 Q1124.66 277.446 1119.94 277.446 Q1114.59 277.446 1111.36 280.467 Q1108.17 283.488 1107.68 288.974 L1130.46 288.939 Z\" fill=\"#000000\" fill-rule=\"nonzero\" fill-opacity=\"1\" /><path clip-path=\"url(#clip310)\" d=\"M1147.33 272.967 L1153.72 272.967 L1153.72 311.856 L1147.33 311.856 L1147.33 272.967 M1147.33 257.828 L1153.72 257.828 L1153.72 265.918 L1147.33 265.918 L1147.33 257.828 Z\" fill=\"#000000\" fill-rule=\"nonzero\" fill-opacity=\"1\" /><path clip-path=\"url(#clip310)\" d=\"M1173.41 261.925 L1173.41 272.967 L1186.57 272.967 L1186.57 277.932 L1173.41 277.932 L1173.41 299.043 Q1173.41 303.8 1174.7 305.154 Q1176.02 306.508 1180.01 306.508 L1186.57 306.508 L1186.57 311.856 L1180.01 311.856 Q1172.61 311.856 1169.8 309.113 Q1166.99 306.335 1166.99 299.043 L1166.99 277.932 L1162.3 277.932 L1162.3 272.967 L1166.99 272.967 L1166.99 261.925 L1173.41 261.925 Z\" fill=\"#000000\" fill-rule=\"nonzero\" fill-opacity=\"1\" /><path clip-path=\"url(#clip310)\" d=\"M1218.41 279.564 L1262.92 279.564 L1262.92 285.397 L1218.41 285.397 L1218.41 279.564 M1218.41 293.731 L1262.92 293.731 L1262.92 299.633 L1218.41 299.633 L1218.41 293.731 Z\" fill=\"#000000\" fill-rule=\"nonzero\" fill-opacity=\"1\" /><path clip-path=\"url(#clip310)\" d=\"M1315.67 264.634 Q1310.25 264.634 1307.51 269.981 Q1304.8 275.293 1304.8 285.988 Q1304.8 296.647 1307.51 301.995 Q1310.25 307.307 1315.67 307.307 Q1321.12 307.307 1323.83 301.995 Q1326.57 296.647 1326.57 285.988 Q1326.57 275.293 1323.83 269.981 Q1321.12 264.634 1315.67 264.634 M1315.67 259.078 Q1324.38 259.078 1328.97 265.988 Q1333.58 272.863 1333.58 285.988 Q1333.58 299.078 1328.97 305.988 Q1324.38 312.863 1315.67 312.863 Q1306.95 312.863 1302.33 305.988 Q1297.75 299.078 1297.75 285.988 Q1297.75 272.863 1302.33 265.988 Q1306.95 259.078 1315.67 259.078 Z\" fill=\"#000000\" fill-rule=\"nonzero\" fill-opacity=\"1\" /><path clip-path=\"url(#clip310)\" d=\"M1345.91 303.036 L1353.24 303.036 L1353.24 311.856 L1345.91 311.856 L1345.91 303.036 Z\" fill=\"#000000\" fill-rule=\"nonzero\" fill-opacity=\"1\" /><path clip-path=\"url(#clip310)\" d=\"M1383.51 264.634 Q1378.1 264.634 1375.35 269.981 Q1372.65 275.293 1372.65 285.988 Q1372.65 296.647 1375.35 301.995 Q1378.1 307.307 1383.51 307.307 Q1388.97 307.307 1391.67 301.995 Q1394.42 296.647 1394.42 285.988 Q1394.42 275.293 1391.67 269.981 Q1388.97 264.634 1383.51 264.634 M1383.51 259.078 Q1392.23 259.078 1396.81 265.988 Q1401.43 272.863 1401.43 285.988 Q1401.43 299.078 1396.81 305.988 Q1392.23 312.863 1383.51 312.863 Q1374.8 312.863 1370.18 305.988 Q1365.6 299.078 1365.6 285.988 Q1365.6 272.863 1370.18 265.988 Q1374.8 259.078 1383.51 259.078 Z\" fill=\"#000000\" fill-rule=\"nonzero\" fill-opacity=\"1\" /></svg>\n"
      ],
      "text/html": [
       "<?xml version=\"1.0\" encoding=\"utf-8\"?>\n",
       "<svg xmlns=\"http://www.w3.org/2000/svg\" xmlns:xlink=\"http://www.w3.org/1999/xlink\" width=\"600\" height=\"400\" viewBox=\"0 0 2400 1600\">\n",
       "<defs>\n",
       "  <clipPath id=\"clip360\">\n",
       "    <rect x=\"0\" y=\"0\" width=\"2400\" height=\"1600\"/>\n",
       "  </clipPath>\n",
       "</defs>\n",
       "<path clip-path=\"url(#clip360)\" d=\"M0 1600 L2400 1600 L2400 0 L0 0  Z\" fill=\"#ffffff\" fill-rule=\"evenodd\" fill-opacity=\"1\"/>\n",
       "<defs>\n",
       "  <clipPath id=\"clip361\">\n",
       "    <rect x=\"480\" y=\"0\" width=\"1681\" height=\"1600\"/>\n",
       "  </clipPath>\n",
       "</defs>\n",
       "<path clip-path=\"url(#clip360)\" d=\"M257.204 1423.18 L2352.76 1423.18 L2352.76 123.472 L257.204 123.472  Z\" fill=\"#ffffff\" fill-rule=\"evenodd\" fill-opacity=\"1\"/>\n",
       "<defs>\n",
       "  <clipPath id=\"clip362\">\n",
       "    <rect x=\"257\" y=\"123\" width=\"2097\" height=\"1301\"/>\n",
       "  </clipPath>\n",
       "</defs>\n",
       "<polyline clip-path=\"url(#clip362)\" style=\"stroke:#000000; stroke-linecap:round; stroke-linejoin:round; stroke-width:2; stroke-opacity:0.1; fill:none\" points=\"257.204,1423.18 257.204,123.472 \"/>\n",
       "<polyline clip-path=\"url(#clip362)\" style=\"stroke:#000000; stroke-linecap:round; stroke-linejoin:round; stroke-width:2; stroke-opacity:0.1; fill:none\" points=\"781.092,1423.18 781.092,123.472 \"/>\n",
       "<polyline clip-path=\"url(#clip362)\" style=\"stroke:#000000; stroke-linecap:round; stroke-linejoin:round; stroke-width:2; stroke-opacity:0.1; fill:none\" points=\"1304.98,1423.18 1304.98,123.472 \"/>\n",
       "<polyline clip-path=\"url(#clip362)\" style=\"stroke:#000000; stroke-linecap:round; stroke-linejoin:round; stroke-width:2; stroke-opacity:0.1; fill:none\" points=\"1828.87,1423.18 1828.87,123.472 \"/>\n",
       "<polyline clip-path=\"url(#clip362)\" style=\"stroke:#000000; stroke-linecap:round; stroke-linejoin:round; stroke-width:2; stroke-opacity:0.1; fill:none\" points=\"2352.76,1423.18 2352.76,123.472 \"/>\n",
       "<polyline clip-path=\"url(#clip360)\" style=\"stroke:#000000; stroke-linecap:round; stroke-linejoin:round; stroke-width:4; stroke-opacity:1; fill:none\" points=\"257.204,1423.18 2352.76,1423.18 \"/>\n",
       "<polyline clip-path=\"url(#clip360)\" style=\"stroke:#000000; stroke-linecap:round; stroke-linejoin:round; stroke-width:4; stroke-opacity:1; fill:none\" points=\"257.204,1423.18 257.204,1404.28 \"/>\n",
       "<polyline clip-path=\"url(#clip360)\" style=\"stroke:#000000; stroke-linecap:round; stroke-linejoin:round; stroke-width:4; stroke-opacity:1; fill:none\" points=\"781.092,1423.18 781.092,1404.28 \"/>\n",
       "<polyline clip-path=\"url(#clip360)\" style=\"stroke:#000000; stroke-linecap:round; stroke-linejoin:round; stroke-width:4; stroke-opacity:1; fill:none\" points=\"1304.98,1423.18 1304.98,1404.28 \"/>\n",
       "<polyline clip-path=\"url(#clip360)\" style=\"stroke:#000000; stroke-linecap:round; stroke-linejoin:round; stroke-width:4; stroke-opacity:1; fill:none\" points=\"1828.87,1423.18 1828.87,1404.28 \"/>\n",
       "<polyline clip-path=\"url(#clip360)\" style=\"stroke:#000000; stroke-linecap:round; stroke-linejoin:round; stroke-width:4; stroke-opacity:1; fill:none\" points=\"2352.76,1423.18 2352.76,1404.28 \"/>\n",
       "<path clip-path=\"url(#clip360)\" d=\"M211.267 1468.75 L240.943 1468.75 L240.943 1472.69 L211.267 1472.69 L211.267 1468.75 Z\" fill=\"#000000\" fill-rule=\"nonzero\" fill-opacity=\"1\" /><path clip-path=\"url(#clip360)\" d=\"M251.845 1481.64 L259.484 1481.64 L259.484 1455.28 L251.174 1456.95 L251.174 1452.69 L259.438 1451.02 L264.114 1451.02 L264.114 1481.64 L271.753 1481.64 L271.753 1485.58 L251.845 1485.58 L251.845 1481.64 Z\" fill=\"#000000\" fill-rule=\"nonzero\" fill-opacity=\"1\" /><path clip-path=\"url(#clip360)\" d=\"M291.197 1454.1 Q287.586 1454.1 285.757 1457.66 Q283.952 1461.2 283.952 1468.33 Q283.952 1475.44 285.757 1479.01 Q287.586 1482.55 291.197 1482.55 Q294.831 1482.55 296.637 1479.01 Q298.465 1475.44 298.465 1468.33 Q298.465 1461.2 296.637 1457.66 Q294.831 1454.1 291.197 1454.1 M291.197 1450.39 Q297.007 1450.39 300.063 1455 Q303.141 1459.58 303.141 1468.33 Q303.141 1477.06 300.063 1481.67 Q297.007 1486.25 291.197 1486.25 Q285.387 1486.25 282.308 1481.67 Q279.253 1477.06 279.253 1468.33 Q279.253 1459.58 282.308 1455 Q285.387 1450.39 291.197 1450.39 Z\" fill=\"#000000\" fill-rule=\"nonzero\" fill-opacity=\"1\" /><path clip-path=\"url(#clip360)\" d=\"M750.733 1468.75 L780.409 1468.75 L780.409 1472.69 L750.733 1472.69 L750.733 1468.75 Z\" fill=\"#000000\" fill-rule=\"nonzero\" fill-opacity=\"1\" /><path clip-path=\"url(#clip360)\" d=\"M790.548 1451.02 L808.904 1451.02 L808.904 1454.96 L794.83 1454.96 L794.83 1463.43 Q795.849 1463.08 796.867 1462.92 Q797.886 1462.73 798.904 1462.73 Q804.691 1462.73 808.071 1465.9 Q811.451 1469.08 811.451 1474.49 Q811.451 1480.07 807.978 1483.17 Q804.506 1486.25 798.187 1486.25 Q796.011 1486.25 793.742 1485.88 Q791.497 1485.51 789.09 1484.77 L789.09 1480.07 Q791.173 1481.2 793.395 1481.76 Q795.617 1482.32 798.094 1482.32 Q802.099 1482.32 804.437 1480.21 Q806.775 1478.1 806.775 1474.49 Q806.775 1470.88 804.437 1468.77 Q802.099 1466.67 798.094 1466.67 Q796.219 1466.67 794.344 1467.08 Q792.492 1467.5 790.548 1468.38 L790.548 1451.02 Z\" fill=\"#000000\" fill-rule=\"nonzero\" fill-opacity=\"1\" /><path clip-path=\"url(#clip360)\" d=\"M1304.98 1454.1 Q1301.37 1454.1 1299.54 1457.66 Q1297.73 1461.2 1297.73 1468.33 Q1297.73 1475.44 1299.54 1479.01 Q1301.37 1482.55 1304.98 1482.55 Q1308.61 1482.55 1310.42 1479.01 Q1312.25 1475.44 1312.25 1468.33 Q1312.25 1461.2 1310.42 1457.66 Q1308.61 1454.1 1304.98 1454.1 M1304.98 1450.39 Q1310.79 1450.39 1313.85 1455 Q1316.92 1459.58 1316.92 1468.33 Q1316.92 1477.06 1313.85 1481.67 Q1310.79 1486.25 1304.98 1486.25 Q1299.17 1486.25 1296.09 1481.67 Q1293.04 1477.06 1293.04 1468.33 Q1293.04 1459.58 1296.09 1455 Q1299.17 1450.39 1304.98 1450.39 Z\" fill=\"#000000\" fill-rule=\"nonzero\" fill-opacity=\"1\" /><path clip-path=\"url(#clip360)\" d=\"M1819.15 1451.02 L1837.5 1451.02 L1837.5 1454.96 L1823.43 1454.96 L1823.43 1463.43 Q1824.45 1463.08 1825.47 1462.92 Q1826.48 1462.73 1827.5 1462.73 Q1833.29 1462.73 1836.67 1465.9 Q1840.05 1469.08 1840.05 1474.49 Q1840.05 1480.07 1836.58 1483.17 Q1833.1 1486.25 1826.78 1486.25 Q1824.61 1486.25 1822.34 1485.88 Q1820.09 1485.51 1817.69 1484.77 L1817.69 1480.07 Q1819.77 1481.2 1821.99 1481.76 Q1824.22 1482.32 1826.69 1482.32 Q1830.7 1482.32 1833.03 1480.21 Q1835.37 1478.1 1835.37 1474.49 Q1835.37 1470.88 1833.03 1468.77 Q1830.7 1466.67 1826.69 1466.67 Q1824.82 1466.67 1822.94 1467.08 Q1821.09 1467.5 1819.15 1468.38 L1819.15 1451.02 Z\" fill=\"#000000\" fill-rule=\"nonzero\" fill-opacity=\"1\" /><path clip-path=\"url(#clip360)\" d=\"M2327.44 1481.64 L2335.08 1481.64 L2335.08 1455.28 L2326.77 1456.95 L2326.77 1452.69 L2335.04 1451.02 L2339.71 1451.02 L2339.71 1481.64 L2347.35 1481.64 L2347.35 1485.58 L2327.44 1485.58 L2327.44 1481.64 Z\" fill=\"#000000\" fill-rule=\"nonzero\" fill-opacity=\"1\" /><path clip-path=\"url(#clip360)\" d=\"M2366.8 1454.1 Q2363.18 1454.1 2361.36 1457.66 Q2359.55 1461.2 2359.55 1468.33 Q2359.55 1475.44 2361.36 1479.01 Q2363.18 1482.55 2366.8 1482.55 Q2370.43 1482.55 2372.23 1479.01 Q2374.06 1475.44 2374.06 1468.33 Q2374.06 1461.2 2372.23 1457.66 Q2370.43 1454.1 2366.8 1454.1 M2366.8 1450.39 Q2372.61 1450.39 2375.66 1455 Q2378.74 1459.58 2378.74 1468.33 Q2378.74 1477.06 2375.66 1481.67 Q2372.61 1486.25 2366.8 1486.25 Q2360.99 1486.25 2357.91 1481.67 Q2354.85 1477.06 2354.85 1468.33 Q2354.85 1459.58 2357.91 1455 Q2360.99 1450.39 2366.8 1450.39 Z\" fill=\"#000000\" fill-rule=\"nonzero\" fill-opacity=\"1\" /><path clip-path=\"url(#clip360)\" d=\"M1321.59 1532.4 L1308.7 1549.74 L1322.26 1568.04 L1315.36 1568.04 L1304.98 1554.04 L1294.6 1568.04 L1287.7 1568.04 L1301.54 1549.39 L1288.87 1532.4 L1295.78 1532.4 L1305.23 1545.1 L1314.69 1532.4 L1321.59 1532.4 Z\" fill=\"#000000\" fill-rule=\"nonzero\" fill-opacity=\"1\" /><polyline clip-path=\"url(#clip362)\" style=\"stroke:#000000; stroke-linecap:round; stroke-linejoin:round; stroke-width:2; stroke-opacity:0.1; fill:none\" points=\"257.204,1423.18 2352.76,1423.18 \"/>\n",
       "<polyline clip-path=\"url(#clip362)\" style=\"stroke:#000000; stroke-linecap:round; stroke-linejoin:round; stroke-width:2; stroke-opacity:0.1; fill:none\" points=\"257.204,1098.25 2352.76,1098.25 \"/>\n",
       "<polyline clip-path=\"url(#clip362)\" style=\"stroke:#000000; stroke-linecap:round; stroke-linejoin:round; stroke-width:2; stroke-opacity:0.1; fill:none\" points=\"257.204,773.326 2352.76,773.326 \"/>\n",
       "<polyline clip-path=\"url(#clip362)\" style=\"stroke:#000000; stroke-linecap:round; stroke-linejoin:round; stroke-width:2; stroke-opacity:0.1; fill:none\" points=\"257.204,448.399 2352.76,448.399 \"/>\n",
       "<polyline clip-path=\"url(#clip362)\" style=\"stroke:#000000; stroke-linecap:round; stroke-linejoin:round; stroke-width:2; stroke-opacity:0.1; fill:none\" points=\"257.204,123.472 2352.76,123.472 \"/>\n",
       "<polyline clip-path=\"url(#clip360)\" style=\"stroke:#000000; stroke-linecap:round; stroke-linejoin:round; stroke-width:4; stroke-opacity:1; fill:none\" points=\"257.204,1423.18 257.204,123.472 \"/>\n",
       "<polyline clip-path=\"url(#clip360)\" style=\"stroke:#000000; stroke-linecap:round; stroke-linejoin:round; stroke-width:4; stroke-opacity:1; fill:none\" points=\"257.204,1423.18 276.102,1423.18 \"/>\n",
       "<polyline clip-path=\"url(#clip360)\" style=\"stroke:#000000; stroke-linecap:round; stroke-linejoin:round; stroke-width:4; stroke-opacity:1; fill:none\" points=\"257.204,1098.25 276.102,1098.25 \"/>\n",
       "<polyline clip-path=\"url(#clip360)\" style=\"stroke:#000000; stroke-linecap:round; stroke-linejoin:round; stroke-width:4; stroke-opacity:1; fill:none\" points=\"257.204,773.326 276.102,773.326 \"/>\n",
       "<polyline clip-path=\"url(#clip360)\" style=\"stroke:#000000; stroke-linecap:round; stroke-linejoin:round; stroke-width:4; stroke-opacity:1; fill:none\" points=\"257.204,448.399 276.102,448.399 \"/>\n",
       "<polyline clip-path=\"url(#clip360)\" style=\"stroke:#000000; stroke-linecap:round; stroke-linejoin:round; stroke-width:4; stroke-opacity:1; fill:none\" points=\"257.204,123.472 276.102,123.472 \"/>\n",
       "<path clip-path=\"url(#clip360)\" d=\"M114.26 1423.63 L143.936 1423.63 L143.936 1427.57 L114.26 1427.57 L114.26 1423.63 Z\" fill=\"#000000\" fill-rule=\"nonzero\" fill-opacity=\"1\" /><path clip-path=\"url(#clip360)\" d=\"M154.839 1436.52 L162.477 1436.52 L162.477 1410.16 L154.167 1411.83 L154.167 1407.57 L162.431 1405.9 L167.107 1405.9 L167.107 1436.52 L174.746 1436.52 L174.746 1440.46 L154.839 1440.46 L154.839 1436.52 Z\" fill=\"#000000\" fill-rule=\"nonzero\" fill-opacity=\"1\" /><path clip-path=\"url(#clip360)\" d=\"M184.19 1434.58 L189.075 1434.58 L189.075 1440.46 L184.19 1440.46 L184.19 1434.58 Z\" fill=\"#000000\" fill-rule=\"nonzero\" fill-opacity=\"1\" /><path clip-path=\"url(#clip360)\" d=\"M209.26 1408.98 Q205.649 1408.98 203.82 1412.54 Q202.014 1416.08 202.014 1423.21 Q202.014 1430.32 203.82 1433.89 Q205.649 1437.43 209.26 1437.43 Q212.894 1437.43 214.699 1433.89 Q216.528 1430.32 216.528 1423.21 Q216.528 1416.08 214.699 1412.54 Q212.894 1408.98 209.26 1408.98 M209.26 1405.27 Q215.07 1405.27 218.125 1409.88 Q221.204 1414.46 221.204 1423.21 Q221.204 1431.94 218.125 1436.55 Q215.07 1441.13 209.26 1441.13 Q203.449 1441.13 200.371 1436.55 Q197.315 1431.94 197.315 1423.21 Q197.315 1414.46 200.371 1409.88 Q203.449 1405.27 209.26 1405.27 Z\" fill=\"#000000\" fill-rule=\"nonzero\" fill-opacity=\"1\" /><path clip-path=\"url(#clip360)\" d=\"M115.256 1098.7 L144.931 1098.7 L144.931 1102.64 L115.256 1102.64 L115.256 1098.7 Z\" fill=\"#000000\" fill-rule=\"nonzero\" fill-opacity=\"1\" /><path clip-path=\"url(#clip360)\" d=\"M165.024 1084.05 Q161.413 1084.05 159.584 1087.62 Q157.778 1091.16 157.778 1098.29 Q157.778 1105.39 159.584 1108.96 Q161.413 1112.5 165.024 1112.5 Q168.658 1112.5 170.464 1108.96 Q172.292 1105.39 172.292 1098.29 Q172.292 1091.16 170.464 1087.62 Q168.658 1084.05 165.024 1084.05 M165.024 1080.35 Q170.834 1080.35 173.889 1084.95 Q176.968 1089.54 176.968 1098.29 Q176.968 1107.01 173.889 1111.62 Q170.834 1116.2 165.024 1116.2 Q159.214 1116.2 156.135 1111.62 Q153.079 1107.01 153.079 1098.29 Q153.079 1089.54 156.135 1084.95 Q159.214 1080.35 165.024 1080.35 Z\" fill=\"#000000\" fill-rule=\"nonzero\" fill-opacity=\"1\" /><path clip-path=\"url(#clip360)\" d=\"M185.186 1109.65 L190.07 1109.65 L190.07 1115.53 L185.186 1115.53 L185.186 1109.65 Z\" fill=\"#000000\" fill-rule=\"nonzero\" fill-opacity=\"1\" /><path clip-path=\"url(#clip360)\" d=\"M200.301 1080.97 L218.658 1080.97 L218.658 1084.91 L204.584 1084.91 L204.584 1093.38 Q205.602 1093.03 206.621 1092.87 Q207.639 1092.69 208.658 1092.69 Q214.445 1092.69 217.824 1095.86 Q221.204 1099.03 221.204 1104.45 Q221.204 1110.02 217.732 1113.13 Q214.26 1116.2 207.94 1116.2 Q205.764 1116.2 203.496 1115.83 Q201.25 1115.46 198.843 1114.72 L198.843 1110.02 Q200.926 1111.16 203.149 1111.71 Q205.371 1112.27 207.848 1112.27 Q211.852 1112.27 214.19 1110.16 Q216.528 1108.06 216.528 1104.45 Q216.528 1100.83 214.19 1098.73 Q211.852 1096.62 207.848 1096.62 Q205.973 1096.62 204.098 1097.04 Q202.246 1097.45 200.301 1098.33 L200.301 1080.97 Z\" fill=\"#000000\" fill-rule=\"nonzero\" fill-opacity=\"1\" /><path clip-path=\"url(#clip360)\" d=\"M164.028 759.125 Q160.417 759.125 158.589 762.689 Q156.783 766.231 156.783 773.361 Q156.783 780.467 158.589 784.032 Q160.417 787.574 164.028 787.574 Q167.663 787.574 169.468 784.032 Q171.297 780.467 171.297 773.361 Q171.297 766.231 169.468 762.689 Q167.663 759.125 164.028 759.125 M164.028 755.421 Q169.839 755.421 172.894 760.027 Q175.973 764.611 175.973 773.361 Q175.973 782.088 172.894 786.694 Q169.839 791.277 164.028 791.277 Q158.218 791.277 155.14 786.694 Q152.084 782.088 152.084 773.361 Q152.084 764.611 155.14 760.027 Q158.218 755.421 164.028 755.421 Z\" fill=\"#000000\" fill-rule=\"nonzero\" fill-opacity=\"1\" /><path clip-path=\"url(#clip360)\" d=\"M184.19 784.726 L189.075 784.726 L189.075 790.606 L184.19 790.606 L184.19 784.726 Z\" fill=\"#000000\" fill-rule=\"nonzero\" fill-opacity=\"1\" /><path clip-path=\"url(#clip360)\" d=\"M209.26 759.125 Q205.649 759.125 203.82 762.689 Q202.014 766.231 202.014 773.361 Q202.014 780.467 203.82 784.032 Q205.649 787.574 209.26 787.574 Q212.894 787.574 214.699 784.032 Q216.528 780.467 216.528 773.361 Q216.528 766.231 214.699 762.689 Q212.894 759.125 209.26 759.125 M209.26 755.421 Q215.07 755.421 218.125 760.027 Q221.204 764.611 221.204 773.361 Q221.204 782.088 218.125 786.694 Q215.07 791.277 209.26 791.277 Q203.449 791.277 200.371 786.694 Q197.315 782.088 197.315 773.361 Q197.315 764.611 200.371 760.027 Q203.449 755.421 209.26 755.421 Z\" fill=\"#000000\" fill-rule=\"nonzero\" fill-opacity=\"1\" /><path clip-path=\"url(#clip360)\" d=\"M165.024 434.198 Q161.413 434.198 159.584 437.763 Q157.778 441.304 157.778 448.434 Q157.778 455.54 159.584 459.105 Q161.413 462.647 165.024 462.647 Q168.658 462.647 170.464 459.105 Q172.292 455.54 172.292 448.434 Q172.292 441.304 170.464 437.763 Q168.658 434.198 165.024 434.198 M165.024 430.494 Q170.834 430.494 173.889 435.101 Q176.968 439.684 176.968 448.434 Q176.968 457.161 173.889 461.767 Q170.834 466.35 165.024 466.35 Q159.214 466.35 156.135 461.767 Q153.079 457.161 153.079 448.434 Q153.079 439.684 156.135 435.101 Q159.214 430.494 165.024 430.494 Z\" fill=\"#000000\" fill-rule=\"nonzero\" fill-opacity=\"1\" /><path clip-path=\"url(#clip360)\" d=\"M185.186 459.799 L190.07 459.799 L190.07 465.679 L185.186 465.679 L185.186 459.799 Z\" fill=\"#000000\" fill-rule=\"nonzero\" fill-opacity=\"1\" /><path clip-path=\"url(#clip360)\" d=\"M200.301 431.119 L218.658 431.119 L218.658 435.054 L204.584 435.054 L204.584 443.526 Q205.602 443.179 206.621 443.017 Q207.639 442.832 208.658 442.832 Q214.445 442.832 217.824 446.003 Q221.204 449.175 221.204 454.591 Q221.204 460.17 217.732 463.272 Q214.26 466.35 207.94 466.35 Q205.764 466.35 203.496 465.98 Q201.25 465.61 198.843 464.869 L198.843 460.17 Q200.926 461.304 203.149 461.86 Q205.371 462.415 207.848 462.415 Q211.852 462.415 214.19 460.309 Q216.528 458.202 216.528 454.591 Q216.528 450.98 214.19 448.874 Q211.852 446.767 207.848 446.767 Q205.973 446.767 204.098 447.184 Q202.246 447.6 200.301 448.48 L200.301 431.119 Z\" fill=\"#000000\" fill-rule=\"nonzero\" fill-opacity=\"1\" /><path clip-path=\"url(#clip360)\" d=\"M154.839 136.817 L162.477 136.817 L162.477 110.451 L154.167 112.118 L154.167 107.859 L162.431 106.192 L167.107 106.192 L167.107 136.817 L174.746 136.817 L174.746 140.752 L154.839 140.752 L154.839 136.817 Z\" fill=\"#000000\" fill-rule=\"nonzero\" fill-opacity=\"1\" /><path clip-path=\"url(#clip360)\" d=\"M184.19 134.873 L189.075 134.873 L189.075 140.752 L184.19 140.752 L184.19 134.873 Z\" fill=\"#000000\" fill-rule=\"nonzero\" fill-opacity=\"1\" /><path clip-path=\"url(#clip360)\" d=\"M209.26 109.271 Q205.649 109.271 203.82 112.836 Q202.014 116.377 202.014 123.507 Q202.014 130.613 203.82 134.178 Q205.649 137.72 209.26 137.72 Q212.894 137.72 214.699 134.178 Q216.528 130.613 216.528 123.507 Q216.528 116.377 214.699 112.836 Q212.894 109.271 209.26 109.271 M209.26 105.567 Q215.07 105.567 218.125 110.174 Q221.204 114.757 221.204 123.507 Q221.204 132.234 218.125 136.84 Q215.07 141.423 209.26 141.423 Q203.449 141.423 200.371 136.84 Q197.315 132.234 197.315 123.507 Q197.315 114.757 200.371 110.174 Q203.449 105.567 209.26 105.567 Z\" fill=\"#000000\" fill-rule=\"nonzero\" fill-opacity=\"1\" /><path clip-path=\"url(#clip360)\" d=\"M67.3143 771.639 Q73.68 774.122 75.6216 776.477 Q77.5631 778.832 77.5631 782.779 L77.5631 787.458 L72.6615 787.458 L72.6615 784.02 Q72.6615 781.601 71.5157 780.265 Q70.3699 778.928 66.1048 777.305 L63.4312 776.254 L28.3562 790.673 L28.3562 784.466 L56.238 773.326 L28.3562 762.186 L28.3562 755.979 L67.3143 771.639 Z\" fill=\"#000000\" fill-rule=\"nonzero\" fill-opacity=\"1\" /><path clip-path=\"url(#clip360)\" d=\"M1002.48 18.8205 L1002.48 41.5461 L1012.77 41.5461 Q1018.48 41.5461 1021.6 38.5889 Q1024.72 35.6318 1024.72 30.163 Q1024.72 24.7348 1021.6 21.7777 Q1018.48 18.8205 1012.77 18.8205 L1002.48 18.8205 M994.296 12.096 L1012.77 12.096 Q1022.94 12.096 1028.12 16.714 Q1033.35 21.2916 1033.35 30.163 Q1033.35 39.1155 1028.12 43.6931 Q1022.94 48.2706 1012.77 48.2706 L1002.48 48.2706 L1002.48 72.576 L994.296 72.576 L994.296 12.096 Z\" fill=\"#000000\" fill-rule=\"nonzero\" fill-opacity=\"1\" /><path clip-path=\"url(#clip360)\" d=\"M1060.89 49.7694 Q1051.86 49.7694 1048.38 51.8354 Q1044.89 53.9013 1044.89 58.8839 Q1044.89 62.8538 1047.48 65.2034 Q1050.12 67.5124 1054.61 67.5124 Q1060.81 67.5124 1064.54 63.1374 Q1068.31 58.7219 1068.31 51.4303 L1068.31 49.7694 L1060.89 49.7694 M1075.76 46.6907 L1075.76 72.576 L1068.31 72.576 L1068.31 65.6895 Q1065.75 69.8214 1061.95 71.8063 Q1058.14 73.7508 1052.63 73.7508 Q1045.66 73.7508 1041.53 69.8619 Q1037.44 65.9325 1037.44 59.3701 Q1037.44 51.7138 1042.54 47.825 Q1047.69 43.9361 1057.85 43.9361 L1068.31 43.9361 L1068.31 43.2069 Q1068.31 38.0623 1064.9 35.2672 Q1061.54 32.4315 1055.42 32.4315 Q1051.54 32.4315 1047.85 33.3632 Q1044.16 34.295 1040.76 36.1584 L1040.76 29.2718 Q1044.85 27.692 1048.7 26.9223 Q1052.55 26.1121 1056.19 26.1121 Q1066.04 26.1121 1070.9 31.2163 Q1075.76 36.3204 1075.76 46.6907 Z\" fill=\"#000000\" fill-rule=\"nonzero\" fill-opacity=\"1\" /><path clip-path=\"url(#clip360)\" d=\"M1117.4 34.1734 Q1116.15 33.4443 1114.65 33.1202 Q1113.19 32.7556 1111.41 32.7556 Q1105.09 32.7556 1101.69 36.8875 Q1098.32 40.9789 1098.32 48.6757 L1098.32 72.576 L1090.83 72.576 L1090.83 27.2059 L1098.32 27.2059 L1098.32 34.2544 Q1100.67 30.1225 1104.44 28.1376 Q1108.21 26.1121 1113.59 26.1121 Q1114.36 26.1121 1115.3 26.2337 Q1116.23 26.3147 1117.36 26.5172 L1117.4 34.1734 Z\" fill=\"#000000\" fill-rule=\"nonzero\" fill-opacity=\"1\" /><path clip-path=\"url(#clip360)\" d=\"M1132.59 14.324 L1132.59 27.2059 L1147.95 27.2059 L1147.95 32.9987 L1132.59 32.9987 L1132.59 57.6282 Q1132.59 63.1779 1134.09 64.7578 Q1135.63 66.3376 1140.29 66.3376 L1147.95 66.3376 L1147.95 72.576 L1140.29 72.576 Q1131.66 72.576 1128.38 69.3758 Q1125.1 66.1351 1125.1 57.6282 L1125.1 32.9987 L1119.63 32.9987 L1119.63 27.2059 L1125.1 27.2059 L1125.1 14.324 L1132.59 14.324 Z\" fill=\"#000000\" fill-rule=\"nonzero\" fill-opacity=\"1\" /><path clip-path=\"url(#clip360)\" d=\"M1157.75 27.2059 L1165.2 27.2059 L1165.2 72.576 L1157.75 72.576 L1157.75 27.2059 M1157.75 9.54393 L1165.2 9.54393 L1165.2 18.9825 L1157.75 18.9825 L1157.75 9.54393 Z\" fill=\"#000000\" fill-rule=\"nonzero\" fill-opacity=\"1\" /><path clip-path=\"url(#clip360)\" d=\"M1180.52 9.54393 L1188.01 9.54393 L1188.01 46.7717 L1210.25 27.2059 L1219.77 27.2059 L1195.71 48.4326 L1220.78 72.576 L1211.06 72.576 L1188.01 50.4176 L1188.01 72.576 L1180.52 72.576 L1180.52 9.54393 Z\" fill=\"#000000\" fill-rule=\"nonzero\" fill-opacity=\"1\" /><path clip-path=\"url(#clip360)\" d=\"M1264.69 48.0275 L1264.69 51.6733 L1230.42 51.6733 Q1230.91 59.3701 1235.04 63.421 Q1239.21 67.4314 1246.63 67.4314 Q1250.92 67.4314 1254.93 66.3781 Q1258.98 65.3249 1262.95 63.2184 L1262.95 70.267 Q1258.94 71.9684 1254.73 72.8596 Q1250.52 73.7508 1246.18 73.7508 Q1235.32 73.7508 1228.96 67.4314 Q1222.65 61.1119 1222.65 50.3365 Q1222.65 39.1965 1228.64 32.6746 Q1234.68 26.1121 1244.88 26.1121 Q1254.04 26.1121 1259.35 32.0264 Q1264.69 37.9003 1264.69 48.0275 M1257.24 45.84 Q1257.16 39.7232 1253.8 36.0774 Q1250.48 32.4315 1244.97 32.4315 Q1238.73 32.4315 1234.96 35.9558 Q1231.23 39.4801 1230.67 45.8805 L1257.24 45.84 Z\" fill=\"#000000\" fill-rule=\"nonzero\" fill-opacity=\"1\" /><path clip-path=\"url(#clip360)\" d=\"M1276.93 9.54393 L1284.38 9.54393 L1284.38 72.576 L1276.93 72.576 L1276.93 9.54393 Z\" fill=\"#000000\" fill-rule=\"nonzero\" fill-opacity=\"1\" /><path clip-path=\"url(#clip360)\" d=\"M1307.19 65.7705 L1307.19 89.8329 L1299.69 89.8329 L1299.69 27.2059 L1307.19 27.2059 L1307.19 34.0924 Q1309.54 30.0415 1313.1 28.0971 Q1316.71 26.1121 1321.69 26.1121 Q1329.95 26.1121 1335.1 32.6746 Q1340.28 39.2371 1340.28 49.9314 Q1340.28 60.6258 1335.1 67.1883 Q1329.95 73.7508 1321.69 73.7508 Q1316.71 73.7508 1313.1 71.8063 Q1309.54 69.8214 1307.19 65.7705 M1332.55 49.9314 Q1332.55 41.7081 1329.14 37.0496 Q1325.78 32.3505 1319.87 32.3505 Q1313.95 32.3505 1310.55 37.0496 Q1307.19 41.7081 1307.19 49.9314 Q1307.19 58.1548 1310.55 62.8538 Q1313.95 67.5124 1319.87 67.5124 Q1325.78 67.5124 1329.14 62.8538 Q1332.55 58.1548 1332.55 49.9314 Z\" fill=\"#000000\" fill-rule=\"nonzero\" fill-opacity=\"1\" /><path clip-path=\"url(#clip360)\" d=\"M1375.61 9.54393 L1375.61 15.7418 L1368.48 15.7418 Q1364.47 15.7418 1362.89 17.3622 Q1361.35 18.9825 1361.35 23.1955 L1361.35 27.2059 L1373.62 27.2059 L1373.62 32.9987 L1361.35 32.9987 L1361.35 72.576 L1353.85 72.576 L1353.85 32.9987 L1346.72 32.9987 L1346.72 27.2059 L1353.85 27.2059 L1353.85 24.0462 Q1353.85 16.471 1357.38 13.0277 Q1360.9 9.54393 1368.56 9.54393 L1375.61 9.54393 Z\" fill=\"#000000\" fill-rule=\"nonzero\" fill-opacity=\"1\" /><path clip-path=\"url(#clip360)\" d=\"M1402.46 49.7694 Q1393.43 49.7694 1389.95 51.8354 Q1386.46 53.9013 1386.46 58.8839 Q1386.46 62.8538 1389.06 65.2034 Q1391.69 67.5124 1396.19 67.5124 Q1402.38 67.5124 1406.11 63.1374 Q1409.88 58.7219 1409.88 51.4303 L1409.88 49.7694 L1402.46 49.7694 M1417.33 46.6907 L1417.33 72.576 L1409.88 72.576 L1409.88 65.6895 Q1407.33 69.8214 1403.52 71.8063 Q1399.71 73.7508 1394.2 73.7508 Q1387.23 73.7508 1383.1 69.8619 Q1379.01 65.9325 1379.01 59.3701 Q1379.01 51.7138 1384.11 47.825 Q1389.26 43.9361 1399.43 43.9361 L1409.88 43.9361 L1409.88 43.2069 Q1409.88 38.0623 1406.48 35.2672 Q1403.11 32.4315 1397 32.4315 Q1393.11 32.4315 1389.42 33.3632 Q1385.73 34.295 1382.33 36.1584 L1382.33 29.2718 Q1386.42 27.692 1390.27 26.9223 Q1394.12 26.1121 1397.77 26.1121 Q1407.61 26.1121 1412.47 31.2163 Q1417.33 36.3204 1417.33 46.6907 Z\" fill=\"#000000\" fill-rule=\"nonzero\" fill-opacity=\"1\" /><path clip-path=\"url(#clip360)\" d=\"M1462.54 34.0924 L1462.54 9.54393 L1469.99 9.54393 L1469.99 72.576 L1462.54 72.576 L1462.54 65.7705 Q1460.19 69.8214 1456.59 71.8063 Q1453.02 73.7508 1448 73.7508 Q1439.77 73.7508 1434.59 67.1883 Q1429.44 60.6258 1429.44 49.9314 Q1429.44 39.2371 1434.59 32.6746 Q1439.77 26.1121 1448 26.1121 Q1453.02 26.1121 1456.59 28.0971 Q1460.19 30.0415 1462.54 34.0924 M1437.14 49.9314 Q1437.14 58.1548 1440.5 62.8538 Q1443.91 67.5124 1449.82 67.5124 Q1455.73 67.5124 1459.14 62.8538 Q1462.54 58.1548 1462.54 49.9314 Q1462.54 41.7081 1459.14 37.0496 Q1455.73 32.3505 1449.82 32.3505 Q1443.91 32.3505 1440.5 37.0496 Q1437.14 41.7081 1437.14 49.9314 Z\" fill=\"#000000\" fill-rule=\"nonzero\" fill-opacity=\"1\" /><path clip-path=\"url(#clip360)\" d=\"M1514.19 65.6895 L1527.56 65.6895 L1527.56 19.5497 L1513.01 22.4663 L1513.01 15.0127 L1527.48 12.096 L1535.66 12.096 L1535.66 65.6895 L1549.03 65.6895 L1549.03 72.576 L1514.19 72.576 L1514.19 65.6895 Z\" fill=\"#000000\" fill-rule=\"nonzero\" fill-opacity=\"1\" /><path clip-path=\"url(#clip360)\" d=\"M1573.01 18.8205 L1573.01 65.8515 L1582.89 65.8515 Q1595.41 65.8515 1601.2 60.1802 Q1607.04 54.509 1607.04 42.2752 Q1607.04 30.1225 1601.2 24.4918 Q1595.41 18.8205 1582.89 18.8205 L1573.01 18.8205 M1564.83 12.096 L1581.64 12.096 Q1599.22 12.096 1607.44 19.4281 Q1615.66 26.7198 1615.66 42.2752 Q1615.66 57.9117 1607.4 65.2439 Q1599.14 72.576 1581.64 72.576 L1564.83 72.576 L1564.83 12.096 Z\" fill=\"#000000\" fill-rule=\"nonzero\" fill-opacity=\"1\" /><circle clip-path=\"url(#clip362)\" cx=\"1304.98\" cy=\"773.326\" r=\"28.8\" fill=\"#000000\" fill-rule=\"evenodd\" fill-opacity=\"1\" stroke=\"#ff0000\" stroke-opacity=\"1\" stroke-width=\"3.2\"/>\n",
       "<path clip-path=\"url(#clip360)\" d=\"M1052.16 260.016 L1092.89 260.016 L1092.89 265.363 L1060.11 305.953 L1093.69 305.953 L1093.69 311.856 L1051.36 311.856 L1051.36 306.508 L1084.14 265.918 L1052.16 265.918 L1052.16 260.016 Z\" fill=\"#000000\" fill-rule=\"nonzero\" fill-opacity=\"1\" /><path clip-path=\"url(#clip360)\" d=\"M1136.85 290.814 L1136.85 293.939 L1107.47 293.939 Q1107.89 300.536 1111.43 304.008 Q1115.01 307.446 1121.36 307.446 Q1125.04 307.446 1128.48 306.543 Q1131.95 305.64 1135.36 303.835 L1135.36 309.876 Q1131.92 311.335 1128.31 312.099 Q1124.7 312.863 1120.98 312.863 Q1111.68 312.863 1106.22 307.446 Q1100.81 302.029 1100.81 292.793 Q1100.81 283.245 1105.95 277.654 Q1111.12 272.029 1119.87 272.029 Q1127.72 272.029 1132.27 277.099 Q1136.85 282.134 1136.85 290.814 M1130.46 288.939 Q1130.39 283.696 1127.51 280.571 Q1124.66 277.446 1119.94 277.446 Q1114.59 277.446 1111.36 280.467 Q1108.17 283.488 1107.68 288.974 L1130.46 288.939 Z\" fill=\"#000000\" fill-rule=\"nonzero\" fill-opacity=\"1\" /><path clip-path=\"url(#clip360)\" d=\"M1147.33 272.967 L1153.72 272.967 L1153.72 311.856 L1147.33 311.856 L1147.33 272.967 M1147.33 257.828 L1153.72 257.828 L1153.72 265.918 L1147.33 265.918 L1147.33 257.828 Z\" fill=\"#000000\" fill-rule=\"nonzero\" fill-opacity=\"1\" /><path clip-path=\"url(#clip360)\" d=\"M1173.41 261.925 L1173.41 272.967 L1186.57 272.967 L1186.57 277.932 L1173.41 277.932 L1173.41 299.043 Q1173.41 303.8 1174.7 305.154 Q1176.02 306.508 1180.01 306.508 L1186.57 306.508 L1186.57 311.856 L1180.01 311.856 Q1172.61 311.856 1169.8 309.113 Q1166.99 306.335 1166.99 299.043 L1166.99 277.932 L1162.3 277.932 L1162.3 272.967 L1166.99 272.967 L1166.99 261.925 L1173.41 261.925 Z\" fill=\"#000000\" fill-rule=\"nonzero\" fill-opacity=\"1\" /><path clip-path=\"url(#clip360)\" d=\"M1218.41 279.564 L1262.92 279.564 L1262.92 285.397 L1218.41 285.397 L1218.41 279.564 M1218.41 293.731 L1262.92 293.731 L1262.92 299.633 L1218.41 299.633 L1218.41 293.731 Z\" fill=\"#000000\" fill-rule=\"nonzero\" fill-opacity=\"1\" /><path clip-path=\"url(#clip360)\" d=\"M1315.67 264.634 Q1310.25 264.634 1307.51 269.981 Q1304.8 275.293 1304.8 285.988 Q1304.8 296.647 1307.51 301.995 Q1310.25 307.307 1315.67 307.307 Q1321.12 307.307 1323.83 301.995 Q1326.57 296.647 1326.57 285.988 Q1326.57 275.293 1323.83 269.981 Q1321.12 264.634 1315.67 264.634 M1315.67 259.078 Q1324.38 259.078 1328.97 265.988 Q1333.58 272.863 1333.58 285.988 Q1333.58 299.078 1328.97 305.988 Q1324.38 312.863 1315.67 312.863 Q1306.95 312.863 1302.33 305.988 Q1297.75 299.078 1297.75 285.988 Q1297.75 272.863 1302.33 265.988 Q1306.95 259.078 1315.67 259.078 Z\" fill=\"#000000\" fill-rule=\"nonzero\" fill-opacity=\"1\" /><path clip-path=\"url(#clip360)\" d=\"M1345.91 303.036 L1353.24 303.036 L1353.24 311.856 L1345.91 311.856 L1345.91 303.036 Z\" fill=\"#000000\" fill-rule=\"nonzero\" fill-opacity=\"1\" /><path clip-path=\"url(#clip360)\" d=\"M1383.51 264.634 Q1378.1 264.634 1375.35 269.981 Q1372.65 275.293 1372.65 285.988 Q1372.65 296.647 1375.35 301.995 Q1378.1 307.307 1383.51 307.307 Q1388.97 307.307 1391.67 301.995 Q1394.42 296.647 1394.42 285.988 Q1394.42 275.293 1391.67 269.981 Q1388.97 264.634 1383.51 264.634 M1383.51 259.078 Q1392.23 259.078 1396.81 265.988 Q1401.43 272.863 1401.43 285.988 Q1401.43 299.078 1396.81 305.988 Q1392.23 312.863 1383.51 312.863 Q1374.8 312.863 1370.18 305.988 Q1365.6 299.078 1365.6 285.988 Q1365.6 272.863 1370.18 265.988 Q1374.8 259.078 1383.51 259.078 Z\" fill=\"#000000\" fill-rule=\"nonzero\" fill-opacity=\"1\" /></svg>\n"
      ]
     },
     "metadata": {},
     "output_type": "display_data"
    }
   ],
   "source": [
    "p = scatter([Px], [0], label=\"\", xlims=(xmin, xmax), ylims=(-1, 1),\n",
    "            xlabel=\"x\", ylabel=\"y\", title=\"Partikelpfad 1D\",            \n",
    "            marker=:circle, markersize=8,\n",
    "            markercolor=:black, markerstrokecolor=:red)    \n",
    "annotate!(p, -0.75, 0.75, text(\"Zeit = $Zeit\", :black, 12)) \n",
    "display(p)"
   ]
  },
  {
   "cell_type": "markdown",
   "metadata": {},
   "source": [
    "Als nächstes wollten wir die *GDL* lösen."
   ]
  },
  {
   "cell_type": "markdown",
   "metadata": {},
   "source": [
    "## Die Lösung\n",
    "\n",
    "Die partielle Differentialgleichung können wir, wie in der Vorlesung besprochen, durch die Schreibweise der *finiten Differenzen* approximieren. Dabei verwenden wir eine Approximation **vorwärts** in der Zeit und **vorwärts** im Raum. Die Partikelpfadgleichung ist dann gegeben durch: \n",
    "\n",
    "$$\n",
    "\\frac{\\Delta{x}}{\\Delta{t}} = v_x, \n",
    "$$\n",
    "\n",
    "wobei $\\Delta{}$ das totale oder absolute Differential darstellt und ausgeschrieben gegeben durch:  \n",
    "\n",
    "$$\n",
    "\\frac{x_2-x_1}{t_2-t_1}=v_x, \n",
    "$$\n",
    "\n",
    "wobei $x_1$ und $x_2$ die Position des Partikel zum aktuellen und nächsten Zeitschritt, und $t_1$ und $t_2$ die Zeit zum aktuellen und nächsten Zeitschritt darstellt. \n",
    "\n",
    "Nun können wir die Gleichung nach der Unbekannten $x_2$ auflösen: \n",
    "\n",
    "$$\n",
    "x_2 = v_x \\Delta{t} + x_1. \n",
    "$$\n",
    "\n",
    "Diese Gleichung müssen wir nun für jeden Zeitschritt lösen und können dann die Lösung unseres Problems, die Position des Partikels mit der Zeit, für jeden Zeitschritt graphisch darstellen. Dazu müssen wir diese Schritte nacheinander in einer Schleife über die Zeit numerisch berechnen und darstellen. "
   ]
  },
  {
   "cell_type": "code",
   "execution_count": 5,
   "metadata": {},
   "outputs": [
    {
     "name": "stdout",
     "output_type": "stream",
     "text": [
      "Time: 0.0\n",
      "Time: 0.5\n",
      "Time: 1.0\n",
      "Time: 1.5\n",
      "Time: 2.0\n",
      "Time: 2.5\n",
      "Time: 3.0\n",
      "Time: 3.5\n",
      "Time: 4.0\n",
      "Time: 4.5\n",
      "Time: 5.0\n",
      "Time: 5.5\n",
      "Time: 6.0\n",
      "Time: 6.5\n",
      "Time: 7.0\n",
      "Time: 7.5\n",
      "Time: 8.0\n",
      "Time: 8.5\n",
      "Time: 9.0\n",
      "Time: 9.5\n",
      "Time: 10.0\n",
      "Time: 10.5\n",
      "Time: 11.0\n",
      "Time: 11.5\n",
      "Time: 12.0\n",
      "Time: 12.5\n",
      "Time: 13.0\n",
      "Time: 13.5\n",
      "Time: 14.0\n",
      "Time: 14.5\n",
      "Time: 15.0\n",
      "Time: 15.5\n",
      "Time: 16.0\n",
      "Time: 16.5\n",
      "Time: 17.0\n",
      "Time: 17.5\n",
      "Time: 18.0\n",
      "Time: 18.5\n",
      "Time: 19.0\n",
      "Time: 19.5\n",
      "Time: 20.0\n",
      "Time: 20.5\n",
      "Time: 21.0\n",
      "Time: 21.5\n",
      "Time: 22.0\n",
      "Time: 22.5\n",
      "Time: 23.0\n",
      "Time: 23.5\n",
      "Time: 24.0\n",
      "Time: 24.5\n",
      "Time: 25.0\n",
      "Time: 25.5\n",
      "Time: 26.0\n",
      "Time: 26.5\n",
      "Time: 27.0\n",
      "Time: 27.5\n",
      "Time: 28.0\n",
      "Time: 28.5\n",
      "Time: 29.0\n",
      "Time: 29.5\n",
      "Time: 30.0\n",
      "Time: 30.5\n",
      "Time: 31.0\n",
      "Time: 31.5\n",
      "Time: 32.0\n",
      "Time: 32.5\n",
      "Time: 33.0\n",
      "Time: 33.5\n",
      "Time: 34.0\n",
      "Time: 34.5\n",
      "Time: 35.0\n",
      "Time: 35.5\n",
      "Time: 36.0\n",
      "Time: 36.5\n",
      "Time: 37.0\n",
      "Time: 37.5\n",
      "Time: 38.0\n",
      "Time: 38.5\n",
      "Time: 39.0\n",
      "Time: 39.5\n",
      "Time: 40.0\n",
      "Time: 40.5\n",
      "Time: 41.0\n",
      "Time: 41.5\n",
      "Time: 42.0\n",
      "Time: 42.5\n",
      "Time: 43.0\n",
      "Time: 43.5\n",
      "Time: 44.0\n",
      "Time: 44.5\n",
      "Time: 45.0\n",
      "Time: 45.5\n",
      "Time: 46.0\n",
      "Time: 46.5\n",
      "Time: 47.0\n",
      "Time: 47.5\n",
      "Time: 48.0\n",
      "Time: 48.5\n",
      "Time: 49.0\n",
      "Time: 49.5\n",
      "Time: 50.0\n",
      "Time: 50.5\n",
      "Time: 51.0\n",
      "Time: 51.5\n",
      "Time: 52.0\n",
      "Time: 52.5\n",
      "Time: 53.0\n",
      "Time: 53.5\n",
      "Time: 54.0\n",
      "Time: 54.5\n",
      "Time: 55.0\n",
      "Time: 55.5\n",
      "Time: 56.0\n",
      "Time: 56.5\n",
      "Time: 57.0\n",
      "Time: 57.5\n",
      "Time: 58.0\n",
      "Time: 58.5\n",
      "Time: 59.0\n",
      "Time: 59.5\n",
      "Time: 60.0\n"
     ]
    }
   ],
   "source": [
    "# Numerische Loesung der GDL -------------------------------------------- %\n",
    "for it = 1:nt\n",
    "    Zeit = (it - 1) * dt\n",
    "    println(\"Time: \", Zeit)\n",
    "    if it > 1\n",
    "        Px = vx * dt + Px\n",
    "    end\n",
    "    if Px > xmax\n",
    "        Px = Px - xmax + xmin\n",
    "    end\n",
    "    if Px < xmin\n",
    "        Px = Px + xmax - xmin\n",
    "    end    \n",
    "    p = scatter([Px], [0], label=\"\", xlims=(xmin, xmax), ylims=(-1, 1),\n",
    "            xlabel=\"x\", ylabel=\"y\", title=\"Partikelpfad 1D\",            \n",
    "            marker=:circle, markersize=8,\n",
    "            markercolor=:black, markerstrokecolor=:red)    \n",
    "    annotate!(p, -0.75, 0.75, text(\"Zeit = $Zeit\", :black, 12)) \n",
    "\n",
    "    Plots.frame(anim)\n",
    "\n",
    "end"
   ]
  },
  {
   "cell_type": "markdown",
   "metadata": {},
   "source": [
    "Um die Abbildungen in einer Gifanimation zu speichern müssen wir noch das entsprechende Gif erzeugen: "
   ]
  },
  {
   "cell_type": "code",
   "execution_count": 6,
   "metadata": {},
   "outputs": [
    {
     "name": "stderr",
     "output_type": "stream",
     "text": [
      "┌ Info: Saved animation to /home/lufuchs/progs/src/julia/scripts/GeoModBox/exercises/master/Results/01_1D_Euler.gif\n",
      "└ @ Plots /home/lufuchs/.julia/packages/Plots/du2dt/src/animation.jl:156\n"
     ]
    }
   ],
   "source": [
    "if save_fig == 1\n",
    "    # Write the frames to a GIF file\n",
    "    Plots.gif(anim, string( path, filename, \".gif\" ), fps = 15)\n",
    "end\n",
    "foreach(rm, filter(endswith(\".png\"), readdir(path,join=true)))"
   ]
  }
 ],
 "metadata": {
  "kernelspec": {
   "display_name": "Julia 1.10.0",
   "language": "julia",
   "name": "julia-1.10"
  },
  "language_info": {
   "file_extension": ".jl",
   "mimetype": "application/julia",
   "name": "julia",
   "version": "1.10.0"
  }
 },
 "nbformat": 4,
 "nbformat_minor": 2
}
