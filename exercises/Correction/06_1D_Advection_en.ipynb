{
 "cells": [
  {
   "cell_type": "markdown",
   "metadata": {},
   "source": [
    "# Advection Equation (1D)"
   ]
  },
  {
   "cell_type": "markdown",
   "metadata": {},
   "source": [
    "So far, we have considered the energy conservation equation only without material transport (advection). In many cases, however, the material itself moves, and quantities such as temperature, density, etc. must be transported (e.g., in mantle plumes). In general, mantle convection is a good example of a system in which temperature is transported both by **diffusion** (mainly in the boundary layers) and by **advection** (mainly in the interior).  \n",
    "\n",
    "In the following, we consider **advection** alone (i.e., $k, \\kappa = 0$) for a one-dimensional problem.  \n",
    "\n",
    "In 1D, the energy conservation equation reduces to the pure advection equation:  \n",
    "\n",
    "$$\n",
    "\\frac{\\partial{T}}{\\partial{t}} = -v_x \\frac{\\partial{T}}{\\partial{x}}.\n",
    "$$  \n",
    "\n",
    "This equation can be solved numerically using different discretization schemes. Here, we will implement several schemes and apply them to a specific advection problem.  "
   ]
  },
  {
   "cell_type": "markdown",
   "metadata": {},
   "source": [
    "Let us consider two 1-D problems (e.g., a horizontal temperature profile) with specific anomalies:\n",
    "\n",
    "• A Gaussian temperature profile (a smooth transition):  \n",
    "\n",
    "<img src=\"../Figures/Exercise06_gaussian.png\" alt=\"Gaussian temperature profile\" width=\"400\" />  \n",
    "\n",
    "• A block-shaped temperature anomaly (a very sharp transition):  \n",
    "\n",
    "<img src=\"../Figures/Exercise06_block.png\" alt=\"Block-shaped temperature anomaly\" width=\"400\" />\n"
   ]
  },
  {
   "cell_type": "markdown",
   "metadata": {},
   "source": [
    "First, we load the required modules:"
   ]
  },
  {
   "cell_type": "code",
   "execution_count": null,
   "metadata": {},
   "outputs": [],
   "source": [
    "using Plots, Interpolations\n",
    "using GeoModBox.AdvectionEquation.OneD, GeoModBox.Tracers.OneD\n",
    "start = time()"
   ]
  },
  {
   "cell_type": "markdown",
   "metadata": {},
   "source": [
    "We now define the geometry and the necessary numerical parameters (i.e., grid resolution, grid, etc.):"
   ]
  },
  {
   "cell_type": "code",
   "execution_count": null,
   "metadata": {},
   "outputs": [],
   "source": [
    "# Geometric constants --------------------------------------------------- #\n",
    "xmin    =   0                           # [m]\n",
    "xmax    =   40                          # [m]\n",
    "# ----------------------------------------------------------------------- #\n",
    "# Numerical constants --------------------------------------------------- #\n",
    "nc      =   100                         # Number of grid points\n",
    "Δx      =   xmax/nc                     # Grid spacing\n",
    "# ---\n",
    "xc      =   xmin + Δx/2 : Δx : xmax - Δx/2   # Cell-centered x-coordinate\n",
    "xce     =   xmin - Δx/2 : Δx : xmax + Δx/2   # Staggered x-coordinate (with ghost cells)\n",
    "X       =   zeros(nc)\n",
    "# ----------------------------------------------------------------------- #\n",
    "# Maximum simulation time ----------------------------------------------- #\n",
    "tmax    =   40.0                        # [s]\n",
    "# ----------------------------------------------------------------------- #\n",
    "# Horizontal velocity --------------------------------------------------- #\n",
    "vx      =   1.0                         # [m/s]\n",
    "# ----------------------------------------------------------------------- #\n",
    "# Time-step definition -------------------------------------------------- #\n",
    "Δtfac   =   0.8                         # Courant factor\n",
    "Δt      =   Δtfac * Δx / abs(vx)        # Time-step size\n",
    "nt      =   ceil(Int, tmax/Δt)          # Number of time steps\n",
    "# ----------------------------------------------------------------------- #"
   ]
  },
  {
   "cell_type": "markdown",
   "metadata": {},
   "source": [
    "We can now choose the finite-difference method (`FTCS`, `upwind`, `downwind`, `lax`, `slf`, `semilag` — the equations and explanations are given in detail in the lecture slides) and select the initial profile (`block` or `gaussian`):"
   ]
  },
  {
   "cell_type": "code",
   "execution_count": null,
   "metadata": {},
   "outputs": [],
   "source": [
    "FD          =   (Method     = (Adv=:upwind,),)\n",
    "Ini         =   (T=:gaussian,)"
   ]
  },
  {
   "cell_type": "markdown",
   "metadata": {},
   "source": [
    "For visualization and saving the animation file, the storage location must be specified:"
   ]
  },
  {
   "cell_type": "code",
   "execution_count": null,
   "metadata": {},
   "outputs": [],
   "source": [
    "# Animationssettings ---------------------------------------------------- #\n",
    "path        =   string(\"./Results/\")\n",
    "anim        =   Plots.Animation(path, String[] )\n",
    "filename    =   string(\"06_1D_advection_\",Ini.T,\"_\",FD.Method.Adv)\n",
    "save_fig    =   1\n",
    "# ----------------------------------------------------------------------- #"
   ]
  },
  {
   "cell_type": "markdown",
   "metadata": {},
   "source": [
    "If we want to use the tracer method, we also need to define the number of tracers per grid spacing:"
   ]
  },
  {
   "cell_type": "code",
   "execution_count": null,
   "metadata": {},
   "outputs": [],
   "source": [
    "# Tracer advection method ----------------------------------------------- #\n",
    "nmx         =   3       #   Number of tracers per \"cell\"\n",
    "# ----------------------------------------------------------------------- #"
   ]
  },
  {
   "cell_type": "markdown",
   "metadata": {},
   "source": [
    "We now define and plot the initial condition (i.e., the initial temperature profile):"
   ]
  },
  {
   "cell_type": "code",
   "execution_count": null,
   "metadata": {},
   "outputs": [],
   "source": [
    "if Ini.T == :block \n",
    "    # Background temperature -------------------------------------------- #\n",
    "    Tb      =   1000                # [K]\n",
    "    \n",
    "    # Location and intensity of the temperature anomaly ----------------- #\n",
    "    xTl     =   (xmax - xmin) / 10\n",
    "    xTr     =   xTl + (xmax - xmin) / 10\n",
    "    Ta      =   1500                # [K]\n",
    "    \n",
    "    # Construct initial temperature profile ----------------------------- #\n",
    "    T       =   Tb .* ones(nc)        \n",
    "    T[xc .>= xTl .&& xc .<= xTr]    .=  Ta\n",
    "    Tmin    =   minimum(T)\n",
    "    Tmax    =   maximum(T)\n",
    "    tc      =   100\n",
    "elseif Ini.T == :gaussian\n",
    "    # Gaussian temperature distribution -------------------------------- #\n",
    "    Tb      =   1000                # Background temperature\n",
    "    Ampl    =   500                 # Amplitude\n",
    "    sigma   =   1                   # Standard deviation\n",
    "    xcG     =   (xmax - xmin) / 10  # x-coordinate of the maximum\n",
    "    T       =   zeros(nc)\n",
    "    @. T    =   Tb + Ampl * exp(-((xc - xcG)^2) / sigma^2)\n",
    "    \n",
    "    Tmin    =   minimum(T)\n",
    "    Tmax    =   maximum(T)\n",
    "    tc      =   Ampl\n",
    "end\n",
    "\n",
    "TWE             =   zeros(nc + 2)\n",
    "TWE[2:end-1]    .=  T\n",
    "TWE[1]          =   T[end]\n",
    "TWE[end]        =   T[1]\n",
    "TWE2            =   zeros(nc + 2)\n",
    "\n",
    "q = plot(xc, T, xlabel=\"x [m]\", ylabel=\"T [°C]\", \n",
    "        title=\"Initial temperature distribution\", \n",
    "        markershape=:circle, label=\"\",\n",
    "        xlim=(xmin, xmax), ylim=(Tmin - 10, Tmax + 10))\n",
    "if save_fig == 0\n",
    "    display(q)\n",
    "end\n",
    "\n",
    "if FD.Method.Adv == :tracers\n",
    "    # Total number of tracers ------------------------------------------- #\n",
    "    nm          =   (nc) * nmx\n",
    "    # Tracer spacing ----------------------------------------------------- #\n",
    "    Δmx         =   (abs(xmin) + abs(xmax)) / (nm + 1)\n",
    "    # x-coordinates of tracers ------------------------------------------ #\n",
    "    xm          =   collect(xmin + Δmx : Δmx : xmax - Δmx) .+ rand(nm) .* 0.5 * Δmx    \n",
    "    # Tracer temperatures ------------------------------------------------ #\n",
    "    Tm          =   zeros(nm)    \n",
    "end"
   ]
  },
  {
   "cell_type": "markdown",
   "metadata": {},
   "source": [
    "We can now implement the equations to solve the advection equation."
   ]
  },
  {
   "cell_type": "code",
   "execution_count": null,
   "metadata": {},
   "outputs": [],
   "source": [
    "# Solving the advection equation --------------------------------------- #\n",
    "for i = 2:nt\n",
    "    display(string(\"Time step: \", i))\n",
    "\n",
    "    # Periodic ghost cells (west/east)\n",
    "    TWE[2:end-1] .= T\n",
    "    TWE[1]       =  T[end]\n",
    "    TWE[end]     =  T[1]\n",
    "    \n",
    "    if FD.Method.Adv == :FTCS\n",
    "        # Forward Time, Centered Space (unstable for pure advection)\n",
    "        T .= TWE[2:end-1] .- (vx * Δt / (2.0 * Δx)) .* (TWE[3:end] .- TWE[1:end-2])\n",
    "\n",
    "    elseif FD.Method.Adv == :upwind\n",
    "        # Upwind (first-order, direction depends on sign of vx)\n",
    "        if vx > 0\n",
    "            T .= TWE[2:end-1] .- (vx * Δt / Δx) .* (TWE[2:end-1] .- TWE[1:end-2])\n",
    "        elseif vx < 0\n",
    "            T .= TWE[2:end-1] .- (vx * Δt / Δx) .* (TWE[3:end] .- TWE[2:end-1])\n",
    "        end\n",
    "\n",
    "    elseif FD.Method.Adv == :downwind\n",
    "        # Downwind (anti-diffusive, generally unstable)\n",
    "        T .= TWE[2:end-1] .- (vx * Δt / Δx) .* (TWE[3:end] .- TWE[2:end-1])\n",
    "\n",
    "    elseif FD.Method.Adv == :lax\n",
    "        # Lax (Lax–Friedrichs) scheme\n",
    "        T .= (TWE[3:end] .+ TWE[1:end-2]) ./ 2 .-\n",
    "             (vx * Δt / (2 * Δx)) .* (TWE[3:end] .- TWE[1:end-2])\n",
    "\n",
    "    elseif FD.Method.Adv == :slf\n",
    "        # Leapfrog (staggered in time); first step via upwind-like start\n",
    "        if i == 2\n",
    "            T .= TWE[2:end-1] .- (vx * Δt / Δx) .* (TWE[3:end] .- TWE[1:end-2])\n",
    "        else\n",
    "            T .= TWE2[2:end-1] .- (vx * Δt / Δx) .* (TWE[3:end] .- TWE[1:end-2])\n",
    "        end\n",
    "        TWE2 .= TWE\n",
    "\n",
    "    elseif FD.Method.Adv == :semilag\n",
    "        # Semi-Lagrangian (cubic spline interpolation)\n",
    "        X          .= xc .- Δt * vx\n",
    "        itp_cubic   = cubic_spline_interpolation(xce, TWE)\n",
    "        T          .= itp_cubic.(X)\n",
    "\n",
    "    elseif FD.Method.Adv == :tracers\n",
    "        # Tracer method (NOTE: can be optimized)\n",
    "        Itp1D_Centers2Markers!(Tm, xm, TWE, xce, Δx, xmin - Δx)\n",
    "        RK4O1D!(xm, Δt, vx, xmin, xmax)\n",
    "        Itp1D_Markers2Centers!(T, xc, Tm, xm, Δx, xmin)\n",
    "    end\n",
    "    \n",
    "    display(string(\"ΔT=\", ((Tmax - maximum(T)) / Tmax) * 100))\n",
    "\n",
    "    # Plot current profile\n",
    "    q = plot(xc, T, xlabel=\"x [m]\", ylabel=\"T [°C]\",\n",
    "             title=\"Temperature profile\",\n",
    "             markershape=:circle, label=\"\",\n",
    "             xlim=(xmin, xmax), ylim=(Tmin - 10, Tmax + 10))\n",
    "    \n",
    "    if FD.Method.Adv == :tracers \n",
    "        plot!(xm, Tm, markershape=:circle, label=\"\", linealpha=:0)\n",
    "    end\n",
    "\n",
    "    if save_fig == 1\n",
    "        Plots.frame(anim)\n",
    "    else\n",
    "        display(q)\n",
    "    end\n",
    "end\n",
    "\n",
    "# Save animation -------------------------------------------------------- #\n",
    "if save_fig == 1\n",
    "    # Write the frames to a GIF file\n",
    "    Plots.gif(anim, string(path, filename, \".gif\"), fps = 15)\n",
    "    foreach(rm, filter(startswith(string(path, \"00\")), readdir(path, join=true)))\n",
    "end\n",
    "# ----------------------------------------------------------------------- #\n",
    "stop = time()\n",
    "println(stop - start)\n"
   ]
  }
 ],
 "metadata": {
  "kernelspec": {
   "display_name": "Julia 1.11.4",
   "language": "julia",
   "name": "julia-1.11"
  },
  "language_info": {
   "file_extension": ".jl",
   "mimetype": "application/julia",
   "name": "julia",
   "version": "1.11.4"
  }
 },
 "nbformat": 4,
 "nbformat_minor": 2
}
