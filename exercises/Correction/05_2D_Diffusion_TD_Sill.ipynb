{
 "cells": [
  {
   "cell_type": "markdown",
   "metadata": {},
   "source": [
    "# Diffusionsgleichung (2D)"
   ]
  },
  {
   "cell_type": "markdown",
   "metadata": {},
   "source": [
    "## Einführung\n",
    "\n",
    "Unter der Annahme, dass die thermischen Parameter konstant sind und wir nur von einer radiogenen Wärmequelle ausgehen, ist die Wärmeleitgleichung in 2-D gegeben durch:\n",
    "\n",
    "$$\n",
    "\\frac{\\partial{T}}{\\partial{t}} = \\kappa \\left( \\frac{\\partial^2{T}}{\\partial{x^2}} + \\frac{\\partial^2{T}}{\\partial{y}^2}\\right) + \\frac{Q}{\\rho c_p}, \\tag{1}\n",
    "$$\n",
    "\n",
    "wobei $\\rho$ die Dichte in [ kg/m<sup>3</sup> ], $c_p$ die spezifische Wärmekapazität in [ J/kg/K ], $\\kappa = k/\\rho/c_p$ die thermische Diffusivität in [ m<sup>2</sup>/s ] und $Q$ die radiogene Wärmeproduktion pro Volumen in [ W/m<sup>3</sup> ] ist. \n",
    "\n",
    "Die Gleichung beschreibt die Änderung der Temperatur mit der Zeit unter der Annahme, dass die Temperatur sich nur durch Diffusion ausbreitet. "
   ]
  },
  {
   "cell_type": "markdown",
   "metadata": {},
   "source": [
    "## Das Problem\n",
    "\n",
    "Nehmen wir and, dass die Gleichung $(1)$ in einem 2D rechteckigen Gebiet mir der Seitenlänge ($L$) 200 km und der Tiefe ($H$) 100 km definiert sei (Abb. 1). Die Temperatur an der Oberfläche sei 0 °C und steigt in dem Gebiet linear mit einem thermischen Gradienten an. Als Randbedingungen der Temperatur an den Seiten nehmen wir *Neumann* Bedingungen an. In einer Tiefe von $z_a = H/2$ nehmen wir eine horizontal gelegene Anomalie mit einer Mächtigkeit ($h_a$) von 10 km an, welcher sich über die gesammte Breite des Gebietes erstreckt  (z.B. einen Sill). Die Anomalie hat eine Anfangstemperatur von 1600 °C und eine volumetrische Wärmeproduktionsrate von $2.7 \\cdot 10^{-6}$.\n",
    "\n",
    "<img src=\"../Figures/Exercise05b_1.png\" alt=\"drawing\" width=\"450\"/> <br>\n",
    "**Abb. 1.** Modelaufbau \n",
    "\n",
    "Mit der Zeit kühlt der Sill ab und heizt dabei das umgebene Gestein auf. Durch die zusätzliche Wärmeproduktionsrate des Sill steigt die Temperatur im weitern Verlauf wieder an bis sich ein thermisches Gleichgewicht einstellt. \n",
    "\n",
    "Um das Problem mit Hilfe von Julia lösen zu können, müssen wir erst die nötigen Module (```ExtendableSparse, Plots```) und Submodule (```GeoModBox.HeatEquation.TwoD```) definieren: "
   ]
  },
  {
   "cell_type": "code",
   "execution_count": null,
   "metadata": {},
   "outputs": [],
   "source": [
    "using Plots, GeoModBox.HeatEquation.TwoD, ExtendableSparse"
   ]
  },
  {
   "cell_type": "markdown",
   "metadata": {},
   "source": [
    "Nun definieren wir die Model ($L$,$H$) und physikalischen Parameter ($k$,$Q$), so wie das Diskretisierungsverfahren (explizit oder implizit):"
   ]
  },
  {
   "cell_type": "code",
   "execution_count": null,
   "metadata": {},
   "outputs": [],
   "source": [
    "FDSchema    =:explicit\n",
    "# Physikalischer Parameter ---------------------------------------------- #\n",
    "P      = (\n",
    "    L       =   200e3,          #   Länge des Models    [m]\n",
    "    H       =   100e3,          #   Höhe des Models     [m]\n",
    "    k       =   6,              #   Thermische Konduktivität [W/m/K]\n",
    "    cp      =   1000,           #   Wärmekapazität [J/kg/K]\n",
    "    ρ       =   3200,           #   Dichte [kg/m^3]\n",
    "    K0      =   273.15,         #   Kelvin bei 0 C\n",
    "    Q0      =   0,              #   Hintergrund Waermeproduktionsrate;\n",
    ")\n",
    "P1      = (\n",
    "    κ       =   P.k / P.ρ / P.cp,   #   Thermische Diffusivität [m^2/s]\n",
    "    Tbot    =   1300.0 + P.K0,      #   Temperatur am unteren Rand  [ K ]\n",
    "    Ttop    =   0.0 + P.K0,         #   Temperatur am oberen Rand   [ K ]\n",
    "    Tplume  =   2000.0 + P.K0,      #   Temperatur des Plumes [ K ]\n",
    "    Xanoma  =   P.L/2.0,            #   x-Koordinate des Zentrums der Anomaly\n",
    "    Wanoma  =   P.L,                #   Breite der Anomaly\n",
    "    Hanoma  =   10e3,               #   Hoehe der Anomaly\n",
    "    Danoma  =   P.H/2.0,            #   Tiefe des Zentrums der Anomaly\n",
    "    Tanoma  =   1600.0 + P.K0,      #   Temperatur der Anomalie [ C ]\n",
    "    Qanoma  =   2.7e-6              #   Waermeproduktionsrate pro Volumen [W/m^3]\n",
    ")\n",
    "P   = merge(P,P1)\n",
    "# ----------------------------------------------------------------------- #"
   ]
  },
  {
   "cell_type": "markdown",
   "metadata": {},
   "source": [
    "Als nächstes definieren wir die Anzahl der Gitterpunkte und die Gitterabstände:"
   ]
  },
  {
   "cell_type": "code",
   "execution_count": null,
   "metadata": {},
   "outputs": [],
   "source": [
    "# Numerische Parameter -------------------------------------------------- #\n",
    "NC      = (\n",
    "    x       =   100,             # Gitterpunkte in x-Richtung\n",
    "    y       =   50,             # Gitterpunkte in z-Richtung\n",
    ")\n",
    "Δ       = (\n",
    "    x       = P.L/NC.x,\n",
    "    y       = P.H/NC.y\n",
    ")\n",
    "# ----------------------------------------------------------------------- #"
   ]
  },
  {
   "cell_type": "markdown",
   "metadata": {},
   "source": [
    "Mit deren Hilfe lässt sich das numerische Gitter bestimmen: "
   ]
  },
  {
   "cell_type": "code",
   "execution_count": null,
   "metadata": {},
   "outputs": [],
   "source": [
    "# Erstellung des Gitters ------------------------------------------------ #\n",
    "x       = (\n",
    "    c       =   LinRange(0.0 + Δ.x/2.0, P.L - Δ.x/2.0, NC.x),\n",
    ")\n",
    "y       = (\n",
    "    c       =   LinRange(-P.H + Δ.y/2.0, 0.0 - Δ.y/2.0, NC.y),\n",
    ")\n",
    "# ----------------------------------------------------------------------- #"
   ]
  },
  {
   "cell_type": "markdown",
   "metadata": {},
   "source": [
    "Da wir ein zeit-abhängiges Problem betrachten, müssen wir als nächstes die Parameter für die Zeit definieren. Beachte, für den Fall des expliziten FD-Verfahren, müssen wir das Diffusionsstabilitätskriterium berücksichtigen."
   ]
  },
  {
   "cell_type": "code",
   "execution_count": null,
   "metadata": {},
   "outputs": [],
   "source": [
    "# Zeit Parameter -------------------------------------------------------- #\n",
    "T       =   (\n",
    "    dn      =   25,             #   Inkremente der Graphischen Darstellung,\n",
    "                                #   d.h. hier nur jeder 25 Zeitschritt\n",
    "    year    =   365.25*3600*24, #   Sekunden pro Jahr    \n",
    "    dtfac   =   0.9,            #   Multiplikationsfaktor fuer dt\n",
    "    Δ       =   [0.0],          #   Zeitschrittlaenge\n",
    "    nt      =   [0]\n",
    ")\n",
    "T1      =   (\n",
    "    tmax    =   60 * 1e6 * T.year,    #   Maximale Laufzeit des Models in s\n",
    "    Δ       =   T.dtfac * (1.0 / (2.0 * P.κ *(1.0/Δ.x^2 + 1/Δ.y^2)))\n",
    ")\n",
    "T           =   merge(T,T1)\n",
    "\n",
    "nt          =   floor(Int,T.tmax/T.Δ)  # Anzahl der Zeitschritte\n",
    "time        =   zeros(nt)\n",
    "# ----------------------------------------------------------------------- #"
   ]
  },
  {
   "cell_type": "markdown",
   "metadata": {},
   "source": [
    "Zur Visualisierung der Ergebnisse als eine Animation in einer GIF Datei, müssen noch der Ort und der Name der Datei festgelegt werden: "
   ]
  },
  {
   "cell_type": "code",
   "execution_count": null,
   "metadata": {},
   "outputs": [],
   "source": [
    "# Animationssettings ---------------------------------------------------- #\n",
    "path        =   string(\"./Results/\")\n",
    "anim        =   Plots.Animation(path, String[] )\n",
    "filename    =   string(\"05_2D_Sill_\",FDSchema)\n",
    "save_fig    =   1\n",
    "# ----------------------------------------------------------------------- #"
   ]
  },
  {
   "cell_type": "markdown",
   "metadata": {},
   "source": [
    "Als nächstes definieren wir die Anfangsbedingungen und die Datenarrays für unser ProblemÖ"
   ]
  },
  {
   "cell_type": "code",
   "execution_count": null,
   "metadata": {},
   "outputs": [],
   "source": [
    "# Anfangstemperaturfeld ------------------------------------------------- #\n",
    "D       =   (\n",
    "    Q           =   zeros(NC...),\n",
    "    T           =   zeros(NC...),    \n",
    "    T_ex        =   zeros(NC.x+2,NC.y+2),\n",
    "    Tmax        =   zeros(nt),\n",
    "    Tprofile    =   zeros(NC.y,nt),\n",
    "    ρ           =   zeros(NC...),\n",
    ")\n",
    "# Hintergrundfeld fuer Waermequellen\n",
    "D.Q     .=  P.Q0\n",
    "D.ρ     .=  P.ρ\n",
    "        \n",
    "# Temperatur der Lithosphaere - linear zunehmenden mit der Tiefe\n",
    "for i = 1:NC.x, j = 1:NC.y\n",
    "    D.T[i,j]     =   P.Ttop + abs(y.c[j]/P.H)*P.Tbot\n",
    "    if abs(y.c[j] + P.Danoma) <= P.Hanoma/2.0\n",
    "        D.T[i,j]    =   P.Tanoma\n",
    "        D.Q[i,j]    =   P.Qanoma\n",
    "    end    \n",
    "end\n",
    "D.T_ex[2:end-1,2:end-1]     .= D.T\n",
    "# Visualize initial condition ---\n",
    "p = heatmap(x.c ./ 1e3, y.c ./ 1e3, (D.T.-P.K0)', \n",
    "        color=:viridis, colorbar=true, aspect_ratio=:equal, \n",
    "        xlabel=\"x [km]\", ylabel=\"z [km]\", \n",
    "        title=\"Temperature\", \n",
    "        xlims=(0, P.L/1e3), ylims=(-P.H/1e3, 0.0), \n",
    "        clims=(0, 2000))\n",
    "\n",
    "contour!(p,x.c./1e3,y.c/1e3,D.T'.-P.K0,levels=:10,linecolor=:black)\n",
    "if save_fig == 0\n",
    "    display(p)\n",
    "end\n",
    "# ----------------------------------------------------------------------- #"
   ]
  },
  {
   "cell_type": "markdown",
   "metadata": {},
   "source": [
    "## Die Lösung\n",
    "\n",
    "### Diskretisierung\n",
    "\n",
    "Um das Problem numerisch lösen zu können, müssen wir unsere Modeldomaine in ein numerisches Gitter unterteilen. Dabei nehmen wir an, das die Temperatur und alle weiteren thermischen Parameter auf den sogenannten *zentralen* Gitterpunkten definiert sind (siehe Abb. 2). Die Aufteilung entspricht der Aufteilung des zeit-unabhängigen Problem.\n",
    "\n",
    "Zur Lösung unseres Problems benutzen wir wieder die sogenannte *Ghost Nodes* unseres Gitters, welche eine korrekte Einbindung der Randbedingungen ermöglichen. \n",
    "\n",
    "#### Gitter und Indizierung\n",
    "\n",
    "<img src=\"../Figures/Exercise04_2.png\" alt=\"drawing\" width=\"450\"/> <br>\n",
    "**Abb. 2.** Versetztes Gitternetz. \n",
    "\n",
    "Das gegebene versetzte Gitter ermöglicht eine sogenannte *konservative* finite Differenzen Approximation, wobei angenommen wird, dass der Wärmefluss $q_{i,j} = -k \\frac{\\partial{T}}{\\partial{x_{i,j}}}$ auf dem Mittelpunkt der Gitterlinien und die Temperatur im Zentrum einer Gitterzelle definiert ist (streng genommen ist die Wärmeleitfähigkeit dann auch auf den Gitterlinien definiert; da diese allerdings konstant ist, müssen wir das hier nicht berücksichtigen; bei variablen thermischen Parameter muss die Gleichung etwas anders diskreditiert werden). Außerdem können wir durch die zentralen Temperaturgitterpunkte, in Verbindung mit den *Ghost Nodes* relativ einfach Randbedingungen einbinden, die die gleiche Fehlerordnung besitzen, wie die zentralen Differenzenquotienten im Inneren unseres Models. \n",
    "\n",
    "Bei der Indizierung unserer Gitterpunkte unterscheiden wir zwischen *lokalen* und *globalen* Indizes. Der lokale Index beschreibt die Position auf dem *i*,*j*-Gitter. Der globale Index, ist ein durchlaufender Index von 1 bis nx*ny und entspricht der Anzahl der Gleichungen, d.h. die Gesamtanzahl der inneren Gitterpunkte. Der globale Index wird auch beim Aufstellen der Koeffizientenmatrix für unser lineares Gleichungssystem verwendet. \n",
    "\n",
    "Für jeden Gitterpunkt, also für jede Gleichung, gibt ein sogenannter numerischer Stempel (*stencil*) die Position der Gitterpunkte an, welche für die jeweilige Gleichung gültig sind. Die Koeffizienten für diese Gitterpunkte sind dann jeweils ungleich null und alle anderen gleich null. Die Nomenklatur für den Stempel richtet sich häufig nach der eines Kompases, d.h. wir besitzen Punkte auf: Süden, Westen, Zentral, Osten, und Norden. Für jede Gleichung, ist der globale Index ($ii$) jedes Punktes des Stempels gegeben durch die relative Position zum Zentral Punkt des Stempels, d.h.: \n",
    "\n",
    "$$\n",
    "iS = ii - nx,\\\\\\\n",
    "iW = ii - 1,\\\\\\   \n",
    "iZ = ii, \\\\\\\n",
    "iE = ii + 1,\\\\\\\n",
    "iN = ii + nx.\n",
    "$$\n",
    "\n",
    "#### Finite Differenzen Approximation\n",
    "\n",
    "Nun können wir die partielle Differentialgleichung durch unsere finiten Differenzen approximieren durch: \n",
    "\n",
    "**Explizit (Forward Euler Verfahren)**\n",
    "$$\n",
    "T_{i,j}^{n+1} = T_{i,j}^n + \\kappa \\Delta{t} \\left(\\frac{T_{i-1,j}^{n} - 2 T_{i,j}^{n} + T_{i+1,j}^{n}}{\\Delta{x^2}} \\right) + \\kappa \\Delta{t} \\left(\\frac{T_{i,j-1}^{n} - 2 T_{i,j}^{n} + T_{i,j+1}^{n}}{\\Delta{y^2}} \\right) + \\frac{Q_{i,j} \\Delta{t}}{\\rho c_p}, \\tag{2}\n",
    "$$\n",
    "\n",
    "wobei $n+1$ und $n$ jeweils der neue und er aktuell Zeitschritt ist. \n",
    "\n",
    "**Implizit (Backward Euler Verfahren)**\n",
    "$$\n",
    "-b T_{i,j-1}^{n+1} - a T_{i-1,j}^{n+1} + (2a + 2b + c) T_{i,j}^{n} - a T_{i+1,j}^{n+1} - b T_{i,j+1}^{n+1} = T_{i,j}^{n} + \\frac{Q_{i,j}}{\\rho c_p}, \\tag{3}\n",
    "$$\n",
    "\n",
    "wobei $a = \\kappa / \\Delta{x^2}$, $b = \\kappa / \\Delta{y^2}$, und $c = 1 / \\Delta{t}$ ist. <br>\n",
    "D.h. wir haben ein Gleichungssystem mit fünf nicht-null Diagonalen in der Koeffizientenmatrix $\\bm{A}$, einem unbekannten Vektor $T^{n+1}$ und einen bekannten Vektor $T^n$ beschrieben werden kann. \n",
    "\n",
    "### Randbedingungen\n",
    "\n",
    "Die Temperatur auf den *Ghost Nodes* ist für *Dirichlet* und *Neumann* Randbedingungen genau so definiert, wie im [stationären 2-D Fall](./04_2D_Diffusion_Stationary.ipynb), bzw. den dazugehörigen [expliziten](./02_1D_Heat_explicit.ipynb) und [impliziten](./03_1D_Heat_implicit.ipynb) 1-D Versionen. <br>\n",
    "Im expliziten Fall, wird die auf den *Ghost Nodes* berechnete Temperatur in der zu lösende Gleichung für die entsprechenden inneren Gitterpunkte direkt mitverwendet. <br>\n",
    "Im impliziten Fall, haben wir wieder ein lineares Gleichungssystem und müssen entsprechend die Koeffizienten und die rechte Seite für die Gleichungen der **inneren Gitterpunkte** in der Nähe der Ränder, in Abhängigkeit der Randbedingungen, mit Hilfe der Temperatur auf den *Ghost Nodes* modifizieren (Herleitung siehe Vorlesung).\n",
    "\n",
    "Bei der Initialisierung der Randbedingungen bediehnung wir uns eines Tricks und definieren die Temperatur auf den *Ghost nodes* später im Skript: "
   ]
  },
  {
   "cell_type": "code",
   "execution_count": null,
   "metadata": {},
   "outputs": [],
   "source": [
    "# Randbedingungen ------------------------------------------------------- #\n",
    "BC      =   (type    = (W=:Neumann, E=:Neumann, N=:Dirichlet, S=:Dirichlet),\n",
    "           val     = (W=zeros(NC.y),E=zeros(NC.y),N=D.T[:,end],S=D.T[:,1]))\n",
    "# ----------------------------------------------------------------------- #"
   ]
  },
  {
   "cell_type": "markdown",
   "metadata": {},
   "source": [
    "### Lösen des Problems\n",
    "\n",
    "#### Gleichungssystem\n",
    "\n",
    "Lasst uns für den impliziten Fall nun die Koeffizientenmatrix und rechte Seite initialisieren: "
   ]
  },
  {
   "cell_type": "code",
   "execution_count": null,
   "metadata": {},
   "outputs": [],
   "source": [
    "# Linear System of Equations -------------------------------------------- #\n",
    "Num     =   (T=reshape(1:NC.x*NC.y, NC.x, NC.y),)\n",
    "ndof    =   maximum(Num.T)\n",
    "K       =   ExtendableSparseMatrix(ndof,ndof)\n",
    "rhs     =   zeros(ndof)\n",
    "# ----------------------------------------------------------------------- #"
   ]
  },
  {
   "cell_type": "markdown",
   "metadata": {},
   "source": [
    "#### Zeitschleife\n",
    "\n",
    "Numerisch können wir nun in einer Zeitschleife die *PDG* auf unterschiedliche Art und Weise lösen. \n",
    "\n",
    "Für den expliziten Fall, wollen wir erst einmal die Gleichungen und Randbedingungen selbst programmieren, bevor wir die eingebauten Funktionen aus dem ```GeoModBox.HeatEquation.TwoD``` Submodul verwenden. \n",
    "\n",
    "Für den impliziten Fall, verwenden wir gleich die eingebaute Funktion ```BackwardEuler2Dc!()```. "
   ]
  },
  {
   "cell_type": "code",
   "execution_count": null,
   "metadata": {},
   "outputs": [],
   "source": [
    "# Zeitschleife ---------------------------------------------------------- #\n",
    "for n = 1:nt\n",
    "    println(n)\n",
    "    # Speicher das Temperaturprofil bei x = L/2\n",
    "    @. D.Tprofile[:,n]  =  (D.T[convert(Int,NC.x/2),:] \n",
    "                                + D.T[convert(Int,NC.x/2)+1,:]) / 2\n",
    "    D.Tmax[n]        =   maximum((D.T[:,convert(Int,NC.y/2)] \n",
    "                                + D.T[:,convert(Int,NC.y/2)+1]) / 2)\n",
    "\n",
    "    if n>1\n",
    "        if FDSchema==:explicit             \n",
    "            ForwardEuler2Dc!(D, P.κ, Δ.x, Δ.y, T.Δ, D.ρ, P.cp, NC, BC)\n",
    "        elseif FDSchema==:implicit\n",
    "            BackwardEuler2Dc!(D, P.κ, Δ.x, Δ.y, T.Δ, D.ρ, P.cp, NC, BC, rhs, K, Num)\n",
    "        end                            \n",
    "        time[n]     =   time[n-1] + T.Δ\n",
    "    end\n",
    "    \n",
    "    if mod(n,T.dn) == 0 || n == 1 || n == nt\n",
    "        p = heatmap(x.c ./ 1e3, y.c ./ 1e3, (D.T.-P.K0)', \n",
    "        color=:viridis, colorbar=true, aspect_ratio=:equal, \n",
    "        xlabel=\"x [km]\", ylabel=\"z [km]\", \n",
    "        title=\"Temperature\", \n",
    "        xlims=(0, P.L/1e3), ylims=(-P.H/1e3, 0.0), \n",
    "        clims=(0, 1800))\n",
    "\n",
    "        contour!(p,x.c./1e3,y.c/1e3,D.T'.-P.K0,levels=:10,linecolor=:black)\n",
    "        if save_fig == 1\n",
    "            Plots.frame(anim)\n",
    "        else\n",
    "            display(p)                        \n",
    "        end\n",
    "    end\n",
    "end"
   ]
  },
  {
   "cell_type": "markdown",
   "metadata": {},
   "source": [
    "## Results\n",
    "\n",
    "Zur besseren Darstellung und Analyse der Ergebnisse, stellen wir noch ein vertikales Profil der Temperatur gegenüber der Tiefe, so wie das Maxiumum eines horizontalen Profils der Temperatur gegenüber der Zeit in der jeweiligen Mitte der Domaine graphisch dar: "
   ]
  },
  {
   "cell_type": "code",
   "execution_count": null,
   "metadata": {},
   "outputs": [],
   "source": [
    "q = plot(D.Tprofile[:,1:T.dn:end].-P.K0,y.c./1e3,\n",
    "        label=\"\",xlabel=\"T_{x=L/2}\",ylabel=\"Depth [km]\",\n",
    "        title=\"Temperature profile\",\n",
    "        layout=(1,2),subplot=1)\n",
    "\n",
    "plot!(q,time./T.year/1e6,D.Tmax.-P.K0,\n",
    "        label=\"\",xlabel=\"Time [My]\",ylabel=\"T_{max} [°C]\",\n",
    "        subplot=2)"
   ]
  },
  {
   "cell_type": "markdown",
   "metadata": {},
   "source": [
    "Nun müssen wir noch die Animation erstellen und speichern:"
   ]
  },
  {
   "cell_type": "code",
   "execution_count": null,
   "metadata": {},
   "outputs": [],
   "source": [
    "if save_fig == 1\n",
    "    # Write the frames to a GIF file\n",
    "    Plots.gif(anim, string( path, filename, \".gif\" ), fps = 15)        \n",
    "    #savefig(string(\"./exercises/Correc Results/05_Sill_TProfile_Tmax_\",FDSchema,\".png\"))\n",
    "    savefig(string(\"./Results/05_Sill_TProfile_Tmax_\",FDSchema,\".png\"))\n",
    "else\n",
    "    display(q)\n",
    "end\n",
    "foreach(rm, filter(startswith(string(path,\"00\")), readdir(path,join=true)))"
   ]
  }
 ],
 "metadata": {
  "kernelspec": {
   "display_name": "Julia 1.11.4",
   "language": "julia",
   "name": "julia-1.11"
  },
  "language_info": {
   "file_extension": ".jl",
   "mimetype": "application/julia",
   "name": "julia",
   "version": "1.11.4"
  }
 },
 "nbformat": 4,
 "nbformat_minor": 2
}
