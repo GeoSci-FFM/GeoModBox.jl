{
 "cells": [
  {
   "cell_type": "markdown",
   "metadata": {},
   "source": [
    "# Solving the 1-D Diffusion Equation (Implicit)"
   ]
  },
  {
   "cell_type": "markdown",
   "metadata": {},
   "source": [
    "Let us now apply the implicit finite difference scheme to our 1-D heat diffusion problem. To recap, here is the problem once again:"
   ]
  },
  {
   "cell_type": "markdown",
   "metadata": {},
   "source": [
    "## The Problem\n",
    "\n",
    "We are interested in how the temperature $T$ changes with time $t$, given a specified initial temperature $T_{0}[x,t_{0}]$ and boundary conditions; e.g., a dike intrusion in the lithosphere ($L$ = 100 m; $W$ = 5 m; $\\kappa$ = 10⁻⁶ m²/s).\n",
    "\n",
    "<img src=\"../Figures/Exercise02_1.png\" alt=\"drawing\" width=\"350\"/> <br>\n",
    "Fig. 1. Sketch of the geological problem and the profile of the initial temperature condition.\n",
    "\n",
    "How long would it take for the dike to cool to a specified temperature?\n",
    "\n",
    "To determine the cooling duration, we must solve the temperature diffusion equation (a parabolic ODE):\n",
    "\n",
    "$$\n",
    "\\rho c_p \\frac{\\partial{T}}{\\partial{t}} = \\frac{\\partial{}}{\\partial{x}} \\left( k\\frac{\\partial{T}}{\\partial{x}} \\right), \\tag{1}\n",
    "$$\n",
    "\n",
    "where $k$ is the thermal conductivity [W/m/K], $T$ the temperature [K], and $\\rho$ the density [kg/m³]. By rearranging (assuming the thermal parameters are constant!), we can express the equation using the thermal diffusivity $\\kappa = \\frac{k}{\\rho c_p}$:\n",
    "\n",
    "$$\n",
    "\\frac{\\partial{T}}{\\partial{t}} = \\kappa \\frac{\\partial^2{T}}{\\partial{x^2}}. \\tag{2}\n",
    "$$"
   ]
  },
  {
   "cell_type": "markdown",
   "metadata": {},
   "source": [
    "### Finite Difference Approximation\n",
    "\n",
    "To solve the problem numerically using finite differences, we first need to construct a numerical grid (the discretization):\n",
    "\n",
    "<img src=\"../Figures/Exercise02_2.png\" alt=\"drawing\" width=\"600\"/> <br>\n",
    "Fig. 2. Numerical 1-D grid for discretizing the ODE.\n",
    "\n",
    "To solve the diffusion equation numerically using the implicit finite difference scheme, we reformulate the PDE as follows:\n",
    "\n",
    "$$\n",
    "\\frac{T_{i}^{n+1}-T_{i}^{n}}{\\Delta t} = \\frac{T_{i+1}^{n+1} - 2T_{i}^{n+1} + T_{i-1}^{n+1}}{(\\Delta x)^2} \\tag{3}\n",
    "$$\n",
    "\n",
    "This equation can be rewritten to form a system of equations, with as many equations as interior grid points:\n",
    "\n",
    "$$\n",
    "-a T_{i-1}^{n+1} + \\left(2a + b\\right) T_{i}^{n+1} - a T_{i+1}^{n+1} = b T_{i}^{n}, \\tag{4}\n",
    "$$\n",
    "\n",
    "with \n",
    "\n",
    "$$\n",
    "a=\\frac{\\kappa}{\\Delta{x^2}}, b = \\frac{1}{\\Delta{t}}. \\tag{5}\n",
    "$$\n",
    "\n",
    "Thus, we obtain a tridiagonal system of equations, which can be represented by a coefficient matrix $\\mathbf{A}$, an unknown vector $T^{,n+1}$, and a known vector $T^n$."
   ]
  },
  {
   "cell_type": "markdown",
   "metadata": {},
   "source": [
    "Let us first load the necessary modules for the numerical solution of our problem. We will begin by programming the solvers ourselves, before using the predefined solvers in GeoModBox.jl. The predefined solver is located in the submodule GeoModBox.HeatEquation.OneD."
   ]
  },
  {
   "cell_type": "code",
   "execution_count": null,
   "metadata": {},
   "outputs": [],
   "source": [
    "using Plots, ExtendableSparse, LinearAlgebra, Printf\n",
    "using GeoModBox.HeatEquation.OneD\n",
    "start = time()"
   ]
  },
  {
   "cell_type": "markdown",
   "metadata": {},
   "source": [
    "### Parameterdefinition\n",
    "\n",
    "Let us first define the parameters for the problem (physical constants, numerical domain, and time parameters):"
   ]
  },
  {
   "cell_type": "code",
   "execution_count": null,
   "metadata": {},
   "outputs": [],
   "source": [
    "alternative =   1\n",
    "# Physics --------------------------------------------------------------- #\n",
    "L           =   100.0   # Length [m]\n",
    "Tdike       =   1200.0  # Dike Temperature [C]\n",
    "Trock       =   300.0   # Backgraound Temperature [C]\n",
    "κ           =   1.0e-6  # Thermal Diffusivity [m2/s]\n",
    "W           =   5.0     # Dike width [m]\n",
    "# ----------------------------------------------------------------------- #\n",
    "# Numerical Parameter --------------------------------------------------- #\n",
    "nc          =   100                 # Number of centroid\n",
    "Δx          =   L/nc                # Grid spacing\n",
    "xc          =   Δx/2:Δx:(L-Δx/2)    # x-coordinates\n",
    "# Iterations\n",
    "niter       =   10  \n",
    "ϵ           =   1.0e-10       \n",
    "# ----------------------------------------------------------------------- #\n",
    "# Time Parameter -------------------------------------------------------- #\n",
    "day         =   3600.0*24.0     # Seconds per day\n",
    "fac         =   1.0 \n",
    "Δt          =   fac*Δx^2.0 / (2*κ)\n",
    "tmax        =   365.0*day \n",
    "nt          =   ceil(Int,tmax/Δt)\n",
    "Time        =   0\n",
    "# ----------------------------------------------------------------------- #"
   ]
  },
  {
   "cell_type": "markdown",
   "metadata": {},
   "source": [
    "### Initial Conditions\n",
    "\n",
    "To solve our problem, we first need to define the initial conditions. We assume 300 °C for the host rock and 1200 °C for the dike. That is, the initial temperature is defined by:\n",
    "\n",
    "$$\n",
    "T \\left(x < \\left( \\frac{L}{2} - W \\right), x > \\left( \\frac{L}{2} + W \\right), t = 0 \\right) = 300, \\tag{6}\n",
    "$$\n",
    "$$\n",
    "T \\left(x > \\left( \\frac{L}{2} - W \\right), x < \\left( \\frac{L}{2} + W \\right), t = 0 \\right) = 1200. \\tag{7}\n",
    "$$\n",
    "\n",
    "Next, we will visualize the initial condition graphically."
   ]
  },
  {
   "cell_type": "code",
   "execution_count": null,
   "metadata": {},
   "outputs": [],
   "source": [
    "# Initial Condition; Temperature profile -------------------------------- #\n",
    "T       =   (\n",
    "        T       =    zeros(nc), \n",
    "        T0      =    zeros(nc), \n",
    "        T_ex    =    zeros(nc+2), \n",
    "        R       =    zeros(nc),\n",
    "        ∂T2∂x2  =    zeros(nc))\n",
    "T.T    .= Trock                         # Background T\n",
    "@. T.T[abs(xc-L/2) <= W/2] =  Tdike     # Dike T\n",
    "T.T_ex[2:end-1]         .=      T.T\n",
    "T.T0                    .=      T.T\n",
    "# ----------------------------------------------------------------------- #\n",
    "# Plot initial condition ------------------------------------------------ #\n",
    "p = plot(xc, T.T, xlabel=\"x [m]\", ylabel=\"T [°C]\", \n",
    "        title=\"Temperature distribution after \n",
    "        $(round(Time/day, digits=1)) days\", \n",
    "        ylim=(0, Tdike))\n",
    "display(p)\n",
    "# ----------------------------------------------------------------------- #"
   ]
  },
  {
   "cell_type": "markdown",
   "metadata": {},
   "source": [
    "### Boundary Conditions\n",
    "\n",
    "Since we use central grid points for the temperature, no grid point lies directly on the boundaries (which, contrary to expectation, is actually an advantage!). To impose temperature boundary conditions, we therefore make use of additional ghost nodes (see Figure 2). That is, we determine the temperature at the ghost nodes in order to solve the temperature partial differential equation at the nearest interior grid point using finite differences.\n",
    "\n",
    "For a constant temperature condition at the boundaries (Dirichlet), we can determine the temperature at the ghost nodes by linear interpolation, so that:\n",
    "\n",
    "**West**\n",
    "$$\n",
    "T_{Ghost,W} = 2 T_{BC,W} + T_{1}, \\tag{8}\n",
    "$$\n",
    "**East**\n",
    "$$\n",
    "T_{Ghost,E} = 2 T_{BC,E} + T_{nc}. \\tag{9}\n",
    "$$\n",
    "\n",
    "For constant flux boundary conditions, the temperature at the boundaries is given by:\n",
    "\n",
    "**West**\n",
    "$$\n",
    "T_{Ghost,W} = T_{1} - c_W \\Delta x, \\tag{10}\n",
    "$$\n",
    "**East**\n",
    "$$\n",
    "T_{Ghost,E} = T_{1} + c_E \\Delta x, \\tag{11}\n",
    "$$\n",
    "\n",
    "where $c_W = \\frac{\\partial T}{\\partial x}$ and $c_E = \\frac{\\partial T}{\\partial x}$ define the flux conditions at the respective boundaries.\n"
   ]
  },
  {
   "cell_type": "markdown",
   "metadata": {},
   "source": [
    "Since we have a tridiagonal system of equations, the coefficients and the right-hand side for the equations of the first and last interior grid points must be modified depending on the boundary conditions as follows (derivation see lecture):\n",
    "\n",
    "#### **Dirichlet**\n",
    "*West*\n",
    "$$\n",
    "\\left(3 a + b \\right) T_{1}^{n+1} - a T_{2}^{n+1} = b T{1}^{n} + 2 a T_{BC,W} \\tag{12}\n",
    "$$\n",
    "*East*\n",
    "$$\n",
    "- a T_{nc-1}^{n+1} + \\left(3 a + b \\right) T_{nc}^{n+1} = b T_{nc}^{n} + 2 a T_{BC,E} \\tag{13}\n",
    "$$\n",
    "\n",
    "#### **Neumann**\n",
    "*West*\n",
    "$$\n",
    "\\left(a + b \\right) T_{1}^{n+1} - a T_{2}^{n+1} = b T_{1}^n - a c_{W} \\Delta{x} \\tag{14}\n",
    "$$\n",
    "*East*\n",
    "$$\n",
    "- a T_{nc-1}^{n+1} + \\left(a + b \\right) T_{nc}^{n+1}  = b T_{nc}^n - a c_{E} \\Delta{x} \\tag{15}\n",
    "$$\n",
    "\n",
    "When initializing the boundary conditions in the code, we use a trick and define the temperature at the ghost nodes later in the script."
   ]
  },
  {
   "cell_type": "code",
   "execution_count": null,
   "metadata": {},
   "outputs": [],
   "source": [
    "# Boundary Conditions --------------------------------------------------- #\n",
    "BC   = (\n",
    "    type = (W=:Dirichlet, E=:Dirichlet),\n",
    "    # type = (W=:Neumann, E=:Neumann),\n",
    "    val  = (W=300.0, E=300.0))\n",
    "#end\n",
    "# ----------------------------------------------------------------------- #"
   ]
  },
  {
   "cell_type": "markdown",
   "metadata": {},
   "source": [
    "### System of Equations\n",
    "\n",
    "Let us now initialize the coefficient matrix and the right-hand side:"
   ]
  },
  {
   "cell_type": "code",
   "execution_count": null,
   "metadata": {},
   "outputs": [],
   "source": [
    "# Assemble Coefficient Matrix ------------------------------------------- #\n",
    "# Definition of the Matrix (in sparse form)\n",
    "ndof        =   length(T.T)\n",
    "K           =   ExtendableSparseMatrix(ndof,ndof)\n",
    "rhs         =   zeros(nc)\n",
    "# ----------------------------------------------------------------------- #"
   ]
  },
  {
   "cell_type": "markdown",
   "metadata": {},
   "source": [
    "### Visualization\n",
    "\n",
    "To visualize the results as an animation in a GIF file, we first need to specify the location and the name of the file:"
   ]
  },
  {
   "cell_type": "code",
   "execution_count": null,
   "metadata": {},
   "outputs": [],
   "source": [
    "# Animationssettings ---------------------------------------------------- #\n",
    "path        =   string(\"./Results/\")\n",
    "anim        =   Plots.Animation(path, String[] )\n",
    "filename    =   string(\"03_1D_implicit_\",alternative)\n",
    "save_fig    =   1\n",
    "# ----------------------------------------------------------------------- #          "
   ]
  },
  {
   "cell_type": "markdown",
   "metadata": {},
   "source": [
    "### Time Loop\n",
    "\n",
    "Numerically, we can now solve the PDE in a time loop in different ways (Alternative I is sufficient; those interested can also implement Alternatives II and III)."
   ]
  },
  {
   "cell_type": "code",
   "execution_count": null,
   "metadata": {},
   "outputs": [],
   "source": [
    "# Timestep loop --------------------------------------------------------- #\n",
    "for n = 1:nt\n",
    "    println(\"Time Step: \",n,\", Time: $(round(Time/day, digits=1)) [d]\")\n",
    "    if alternative == 1\n",
    "        a   =   κ / Δx^2\n",
    "        b   =   1 / Δt\n",
    "\n",
    "        @. rhs     =   b * T.T\n",
    "\n",
    "        # Alternative I\n",
    "        for i = 1:nc  \n",
    "            # Equation number\n",
    "            ii          =   i\n",
    "            # Stencil \n",
    "            iW          =   ii - 1\n",
    "            iC          =   ii\n",
    "            iE          =   ii + 1   \n",
    "            # Boundaries \n",
    "            inW    =  i==1    ? false  : true\n",
    "            DirW   = (i==1    && BC.type.W==:Dirichlet) ? 1. : 0.\n",
    "            NeuW   = (i==1    && BC.type.W==:Neumann  ) ? 1. : 0.\n",
    "            inE    =  i==nc ? false  : true\n",
    "            DirE   = (i==nc && BC.type.E==:Dirichlet) ? 1. : 0.\n",
    "            NeuE   = (i==nc && BC.type.E==:Neumann  ) ? 1. : 0.\n",
    "            if inE\n",
    "                K[ii,iE]    = - a\n",
    "            end\n",
    "            K[ii,iC]        =   (2 + DirW + DirE - NeuW - NeuE)*a + b\n",
    "            if inW \n",
    "                K[ii,iW]    = - a\n",
    "            end                            \n",
    "            # Change right hand side due to boundary conditions ---\n",
    "            rhs[i]  +=  2*a*BC.val.W * DirW - \n",
    "                            a*BC.val.W*Δx * NeuW + \n",
    "                            2*a*BC.val.E * DirE + \n",
    "                            a*BC.val.E*Δx * NeuE\n",
    "        end            \n",
    "        T.T     .=   K \\ rhs\n",
    "    elseif alternative == 2            \n",
    "        BackwardEuler1Dc!(T, κ, Δx, Δt, nc, BC , K, rhs)\n",
    "    elseif alternative == 3\n",
    "        for iter = 1:niter\n",
    "            # Residual iteration\n",
    "            ComputeResiduals1Dc!(T, κ, Δx, Δt, BC )\n",
    "            @printf(\"||R|| = %1.4e\\n\", norm(T.R)/length(T.R))            \n",
    "            norm(T.R)/length(T.R) < ϵ ? break : nothing\n",
    "            # Assemble linear system\n",
    "            AssembleMatrix1Dc!( κ, Δx, Δt, nc, BC, K )\n",
    "            # Solve for temperature correction: Cholesky factorisation\n",
    "            Kc = cholesky(K.cscmatrix)\n",
    "            # Solve for temperature correction: Back substitutions\n",
    "            δT = -(Kc\\T.R[:])                   \n",
    "            # Update temperature            \n",
    "            T.T .= T.T .+ δT            \n",
    "        end        \n",
    "        # Update temperature\n",
    "        @. T.T0     =   T.T  \n",
    "    end    \n",
    "    # Calculate time ---\n",
    "    Time    =   Time + Δt        \n",
    "    # Plot Solution ---\n",
    "    p = plot(xc, T.T, xlabel=\"x [m]\", ylabel=\"T [°C]\", \n",
    "            title=\"Temperature distribution after\n",
    "            $(round(Time/day, digits=1)) days\", \n",
    "            xlim=(0,L),ylim=(0, Tdike))\n",
    "    if save_fig == 1\n",
    "        Plots.frame(anim)\n",
    "    else\n",
    "        display(p)\n",
    "    end    \n",
    "end"
   ]
  },
  {
   "cell_type": "markdown",
   "metadata": {},
   "source": [
    "We now need to create and save the animation:"
   ]
  },
  {
   "cell_type": "code",
   "execution_count": null,
   "metadata": {},
   "outputs": [],
   "source": [
    "# Speicher Animation ---------------------------------------------------- #\n",
    "if save_fig == 1\n",
    "    # Write the frames to a GIF file\n",
    "    Plots.gif(anim, string( path, filename, \".gif\" ), fps = 15)\n",
    "else\n",
    "    display(p)\n",
    "end\n",
    "foreach(rm, filter(startswith(string(path,\"00\")), readdir(path,join=true)))\n",
    "# ----------------------------------------------------------------------- #\n",
    "stop = time()\n",
    "println(stop-start)"
   ]
  }
 ],
 "metadata": {
  "kernelspec": {
   "display_name": "Julia 1.11.4",
   "language": "julia",
   "name": "julia-1.11"
  },
  "language_info": {
   "file_extension": ".jl",
   "mimetype": "application/julia",
   "name": "julia",
   "version": "1.11.4"
  }
 },
 "nbformat": 4,
 "nbformat_minor": 2
}
