{
 "cells": [
  {
   "cell_type": "markdown",
   "metadata": {},
   "source": [
    "# Stokes Gleichung (2D)"
   ]
  },
  {
   "cell_type": "markdown",
   "metadata": {},
   "source": [
    "## Fallender Block (konstante Viskosität)"
   ]
  },
  {
   "cell_type": "markdown",
   "metadata": {},
   "source": [
    "Beschäftigen wir uns zu erst mit einem instantanen, d.h. einem zeit-unabhängigen, und isoviskosen,d.h. konstanter Viskosität, Problem, dem **fallenden Block**. Der fallende Block ist ein relative einfach aufzusetztendes Problem und ist sehr hilfreich, um mit dem bestehenden Code einem Benchmark durchzuführen. "
   ]
  },
  {
   "cell_type": "markdown",
   "metadata": {},
   "source": [
    "### Problem"
   ]
  },
  {
   "cell_type": "markdown",
   "metadata": {},
   "source": [
    "Anders als im vollständigen Benchmark für dieses Problem, konzentrieren wir uns hier nur auf den **isoviskosen** Fall (im Benchmark betrachtet man die Sinkgeschwindigkeit und Deformation des Blockes in Abhängigkeit des Viskositätskontrastes [siehe hier](../../examples/Benchmarks/)). \n",
    "\n",
    "Dabei nehmen wir einen quadratischen Körper mit einer gewissen Breite (**W**), Höhe (**T**), und Dichte ($\\rho_b$) an, der sich in einem bestimmten viskosen Medium ($\\eta_m$) mit einer gewissen Dichte ($\\rho_m$) befindet. Die zu modellierende Umgebung ist ebenfals quadratisch mit einer gewissen Länge ($L=500\\ \\textrm{km}$) und Höhe ($H=500\\ \\textrm{km}$) und wir nehmen überall *free slip* Geschwindigkeitsrandbedingungen an.  "
   ]
  },
  {
   "cell_type": "markdown",
   "metadata": {},
   "source": [
    "<img src=\"../Figures/Exercise09_1.png\" alt=\"drawing\" width=\"450\"/> <br>\n",
    "**Abb. 1.** Modelaufbau "
   ]
  },
  {
   "cell_type": "markdown",
   "metadata": {},
   "source": [
    "Laden wir zuerst einmal die noptwendigen Module zur Visualisierung der Ergebnisse, Lösen des linearen Gleichungssystems, Aufstellen der Anfangsbedingungen, und dem Lösen der zweidimensionalen Impulserhaltuing. \n",
    "\n",
    "Eine detaillierte Beschreibung wie die Modelldomäne durch ein numerisches Gitter aufgeteilt werden kann, sowie die Diskretisierung der **Impulserhaltung** und **Massenerhaltung** in Abhängigkeit von *free slip* oder *no slip* Randbedingungen ist [hier](../../examples/StokesEquation/2D/README.md) gegeben. Auf Grund des Umfanges verzichten wir hier auf eine detaillierte Erklärung. "
   ]
  },
  {
   "cell_type": "code",
   "execution_count": null,
   "metadata": {},
   "outputs": [],
   "source": [
    "using Plots\n",
    "using ExtendableSparse\n",
    "using GeoModBox.InitialCondition, GeoModBox.MomentumEquation.TwoD"
   ]
  },
  {
   "cell_type": "markdown",
   "metadata": {},
   "source": [
    "Mit Hilfe der eingebauten Funktion ```IniPhase()``` lässt sich die Anfangsdichteverteilung für unser Problem *block* erstellen. Je nach Bedarf, erstellt die Funktion eine Anfangsverteilung von bestimmten Größen auf dem numerischen Gitter oder auf den Markern. Zur Nutzung der Funktion brauchen wir das Tuple ```Ini```, in dem die Verteilung definiert ist (hier für die Phase *p*)."
   ]
  },
  {
   "cell_type": "code",
   "execution_count": null,
   "metadata": {},
   "outputs": [],
   "source": [
    "# Define Initial Condition ========================================== #\n",
    "# Density --- \n",
    "#   1) block\n",
    "Ini         =   (p=:block,) \n",
    "# ------------------------------------------------------------------- #\n",
    "# Plot Settings ===================================================== #\n",
    "Pl  =   (\n",
    "    qinc    =   5,\n",
    "    qsc     =   100*(60*60*24*365.25)*1e2\n",
    ")\n",
    "# ------------------------------------------------------------------- #"
   ]
  },
  {
   "cell_type": "markdown",
   "metadata": {},
   "source": [
    "Als nächstes definieren wir die Geometrie unsere Modeldomäne. "
   ]
  },
  {
   "cell_type": "code",
   "execution_count": null,
   "metadata": {},
   "outputs": [],
   "source": [
    "# Geometry ========================================================== #\n",
    "M       =   (\n",
    "    xmin    =   0.0,\n",
    "    xmax    =   500.0e3,    # [ m ]\n",
    "    ymin    =   -500.0e3,   # [ m ]\n",
    "    ymax    =   0.0,\n",
    ")\n",
    "# -------------------------------------------------------------------- #"
   ]
  },
  {
   "cell_type": "markdown",
   "metadata": {},
   "source": [
    "Nun definieren wir unsere Gitter Auflösung $\\left(nc_x = nc_y = 50\\right)$ und das numerische Gitter.\n",
    "\n",
    "Dabei müssen wir sowohl die Gitterbreite $\\Delta{x}$ und $\\Delta{y}$ als auch die Koordinaten der unterschiedlichen Gitter (*Eckpunkte* und *Zentroids*) angeben. Dazu definieren wir zuerst die jeweiligen 1-D Koordinatenvektoren, aus denen dann die 2-D Koordinatengitter erstellt werden.  "
   ]
  },
  {
   "cell_type": "code",
   "execution_count": null,
   "metadata": {},
   "outputs": [],
   "source": [
    "# Grid =============================================================== #\n",
    "NC      =   (\n",
    "    x   =   50, \n",
    "    y   =   50,\n",
    ")\n",
    "NV      =   (\n",
    "    x   =   NC.x + 1,\n",
    "    y   =   NC.y + 1,\n",
    ")\n",
    "Δ       =   (\n",
    "    x   =   (M.xmax - M.xmin)/NC.x,\n",
    "    y   =   (M.ymax - M.ymin)/NC.y,\n",
    ")\n",
    "x       =   (\n",
    "    c   =   LinRange(M.xmin+Δ.x/2,M.xmax-Δ.x/2,NC.x),\n",
    "    ce  =   LinRange(M.xmin - Δ.x/2.0, M.xmax + Δ.x/2.0, NC.x+2),\n",
    "    v   =   LinRange(M.xmin,M.xmax,NV.x),\n",
    ")\n",
    "y       =   (\n",
    "    c   =   LinRange(M.ymin+Δ.y/2,M.ymax-Δ.y/2,NC.y),\n",
    "    ce  =   LinRange(M.ymin - Δ.x/2.0, M.ymax + Δ.x/2.0, NC.y+2),\n",
    "    v   =   LinRange(M.ymin,M.ymax,NV.y),\n",
    ")\n",
    "x1      =   (\n",
    "    c2d     =   x.c .+ 0*y.c',\n",
    "    v2d     =   x.v .+ 0*y.v', \n",
    "    vx2d    =   x.v .+ 0*y.ce',\n",
    "    vy2d    =   x.ce .+ 0*y.v',\n",
    ")\n",
    "x   =   merge(x,x1)\n",
    "y1      =   (\n",
    "    c2d     =   0*x.c .+ y.c',\n",
    "    v2d     =   0*x.v .+ y.v',\n",
    "    vx2d    =   0*x.v .+ y.ce',\n",
    "    vy2d    =   0*x.ce .+ y.v',\n",
    ")\n",
    "y   =   merge(y,y1)\n",
    "# -------------------------------------------------------------------- #"
   ]
  },
  {
   "cell_type": "markdown",
   "metadata": {},
   "source": [
    "Nun müssen wir die physikalischen Parameter definieren, die Graviationsbeschleunigung $g$, die Viskosität $\\eta_0$ (10<sup>21</sup> Pa s), die Hintergunddichte $\\rho_0$ (3200 kg/m<sup>3</sup>), und die Dichte des Blocks $\\rho_1$ (3300 kg/m<sup>3</sup>).\n",
    "\n",
    "Der Vektor ```phase``` beinhaltet die Phasennummer, welche in der Funktion ```IniPhase()``` verwendet wird um den zugehörigen Punkten (Gitter oder Marker) die jeweilge Phase zuzuordnen. Der Vektor $\\rho$ beinhaltet die Dichtewerte die der jeweilige Phase zugeordnet sind. "
   ]
  },
  {
   "cell_type": "code",
   "execution_count": null,
   "metadata": {},
   "outputs": [],
   "source": [
    "# Physics ============================================================ #\n",
    "g       =   9.81\n",
    "\n",
    "η₀      =   1.0e21\n",
    "\n",
    "ρ₀      =   3200.0          #   Background density\n",
    "ρ₁      =   3300.0          #   Block density\n",
    "ρ       =   [ρ₀,ρ₁] \n",
    "\n",
    "phase   =   [0,1]\n",
    "# ------------------------------------------------------------------- #"
   ]
  },
  {
   "cell_type": "markdown",
   "metadata": {},
   "source": [
    "Nun legen wir die Größen der benötigten Felder fest. "
   ]
  },
  {
   "cell_type": "code",
   "execution_count": null,
   "metadata": {},
   "outputs": [],
   "source": [
    "# Allocation ======================================================== #\n",
    "D   =   (\n",
    "    vx      =   zeros(Float64,NV.x,NC.y+2),\n",
    "    vy      =   zeros(Float64,NC.x+2,NV.y),\n",
    "    Pt      =   zeros(Float64,NC...),\n",
    "    p       =   zeros(Int64,NC...),\n",
    "    p_ex    =   zeros(Int64,NC.x+2,NC.y+2),\n",
    "    ρ       =   zeros(Float64,NC...),\n",
    "    vxc     =   zeros(Float64,NC...),\n",
    "    vyc     =   zeros(Float64,NC...),\n",
    "    vc      =   zeros(Float64,NC...),\n",
    ")\n",
    "# ------------------------------------------------------------------- #"
   ]
  },
  {
   "cell_type": "markdown",
   "metadata": {},
   "source": [
    "Jetz lassen sich die Randbedingungen und die Anfangsbedingungen festlegen. \n",
    "\n",
    "Für die Randbedingungen benutzen wir wieder das Tuple ```VBC```, in dem die Art des Randes (*free slip* oder *no slip*) an der jeweiligen Position (**E**, **W**, **S**,**N**) definiert ist. Der angegeneben Wert ```val``` bestimmt dann den Wert der Geschwindigkeit an dem jeweiligen Rand. \n",
    "\n",
    "Was bedeutet das für die *free slip* und *no slip* Bedingungen?"
   ]
  },
  {
   "cell_type": "code",
   "execution_count": null,
   "metadata": {},
   "outputs": [],
   "source": [
    "# Boundary Conditions =============================================== #\n",
    "VBC     =   (\n",
    "    type    =   (E=:freeslip,W=:freeslip,S=:freeslip,N=:freeslip),\n",
    "    # type    =   (E=:noslip,W=:noslip,S=:noslip,N=:noslip),\n",
    "    val     =   (E=zeros(NV.y),W=zeros(NV.y),S=zeros(NV.x),N=zeros(NV.x)),\n",
    ")\n",
    "# ------------------------------------------------------------------- #"
   ]
  },
  {
   "cell_type": "markdown",
   "metadata": {},
   "source": [
    "Zum Aufstellen der Anfangsbedingungen, verwenden wir die Funktion ```IniPhase``` in der dem jeweiligen Punkt die dazugehörige Phase zugeteilt wird. Darauf weisen wir der jeweilgen Phase den entsprechenden Dichte Wert hinzu. "
   ]
  },
  {
   "cell_type": "code",
   "execution_count": null,
   "metadata": {},
   "outputs": [],
   "source": [
    "# Initial Condition ================================================= #\n",
    "IniPhase!(Ini.p,D,M,x,y,NC;phase)\n",
    "for i in eachindex(phase)\n",
    "    D.ρ[D.p.==phase[i]] .= ρ[i]\n",
    "end\n",
    "# ------------------------------------------------------------------- #"
   ]
  },
  {
   "cell_type": "markdown",
   "metadata": {},
   "source": [
    "Nun müssen die Parameter für das lineare Gleichngssstem erstellt werden. \n",
    "\n",
    "Die Nummerierung der Gleichungen für die *x-Komponente* und die *y-Komnponente* der Impulserhaltung, sowie die der *Massenerhaltung*, als auch die Diskretisierung der zu lösenden Gleichungen mit Hilfe der finiten Differenzen Methode ist im Detail [hier](../../examples/StokesEquation/2D/README.md) beschrieben. \n",
    "\n",
    "Außerdem muss noch Lösungsvektor ```χ``` initialisiert werden. Die Größe von beiden ist durch die maximale Anzahl der Gleichungen gegeben. "
   ]
  },
  {
   "cell_type": "code",
   "execution_count": null,
   "metadata": {},
   "outputs": [],
   "source": [
    "# System of Equations =============================================== #\n",
    "# Numbering, without ghost nodes! ---\n",
    "off    = [  NV.x*NC.y,                          # vx\n",
    "            NV.x*NC.y + NC.x*NV.y,              # vy\n",
    "            NV.x*NC.y + NC.x*NV.y + NC.x*NC.y]  # Pt\n",
    "\n",
    "Num    =    (\n",
    "    Vx  =   reshape(1:NV.x*NC.y, NV.x, NC.y), \n",
    "    Vy  =   reshape(off[1]+1:off[1]+NC.x*NV.y, NC.x, NV.y), \n",
    "    Pt  =   reshape(off[2]+1:off[2]+NC.x*NC.y,NC...),\n",
    ")\n",
    "χ       =   zeros(maximum(Num.Pt))\n",
    "# ------------------------------------------------------------------- #"
   ]
  },
  {
   "cell_type": "markdown",
   "metadata": {},
   "source": [
    "Mit Hilfe der Funktion ```Assemblyc()``` lassen sich die Koeffizienten für die Koeffizientenmatrix $\\bold{K}$ zuweisen. Die Funktion weist der jeweiligen Gleichung den Wert der benötigten Koeffizienten zu. "
   ]
  },
  {
   "cell_type": "code",
   "execution_count": null,
   "metadata": {},
   "outputs": [],
   "source": [
    "# Assemble Coefficients ============================================= #\n",
    "K       =   Assemblyc(NC, NV, Δ, η₀, VBC, Num)\n",
    "# ------------------------------------------------------------------- #"
   ]
  },
  {
   "cell_type": "markdown",
   "metadata": {},
   "source": [
    "Nun müssen wir den rechte-Seite Vektor noch mit der Information der Anfangsbedingungen und der Randbedingungen aktualisieren mit Hilfe der Funkition ```updaterhsc()```. Die Funktion weist der jeweiligen Gleichung den Wert der jeweiligen rechten Seite des linearen Gleichungssystems hinzu. "
   ]
  },
  {
   "cell_type": "code",
   "execution_count": null,
   "metadata": {},
   "outputs": [],
   "source": [
    "# Update RHS ======================================================== #\n",
    "rhs     =   updaterhsc( NC, NV, Δ, η₀, D.ρ, -g, VBC, Num )\n",
    "# ------------------------------------------------------------------- #"
   ]
  },
  {
   "cell_type": "markdown",
   "metadata": {},
   "source": [
    "Nun lässt sich das Problem mit Hilfe einer Rechtsdivision lösen. "
   ]
  },
  {
   "cell_type": "code",
   "execution_count": null,
   "metadata": {},
   "outputs": [],
   "source": [
    "# Solve System of Equations ========================================= #\n",
    "χ       =   K \\ rhs\n",
    "# ------------------------------------------------------------------- #"
   ]
  },
  {
   "cell_type": "markdown",
   "metadata": {},
   "source": [
    "Anschließend müssen die neuen Werte für die horizontale und vertikale Geschwindikeit, sowie der Druck dem dazugehörigen Gitter hinzugewiesen werden. "
   ]
  },
  {
   "cell_type": "code",
   "execution_count": null,
   "metadata": {},
   "outputs": [],
   "source": [
    "# Update Unknown Variables ========================================== #\n",
    "D.vx[:,2:end-1]     .=  χ[Num.Vx]\n",
    "D.vy[2:end-1,:]     .=  χ[Num.Vy]\n",
    "D.Pt                .=  χ[Num.Pt]\n",
    "# ------------------------------------------------------------------- #"
   ]
  },
  {
   "cell_type": "markdown",
   "metadata": {},
   "source": [
    "Zur besseren Visualiesierung berechnen wir nun noch die Geschwindigkeiten auf den *Zentroids*. "
   ]
  },
  {
   "cell_type": "code",
   "execution_count": null,
   "metadata": {},
   "outputs": [],
   "source": [
    "# Get the velocity on the centroids ---\n",
    "for i = 1:NC.x\n",
    "    for j = 1:NC.y\n",
    "        D.vxc[i,j]  = (D.vx[i,j+1] + D.vx[i+1,j+1])/2\n",
    "        D.vyc[i,j]  = (D.vy[i+1,j] + D.vy[i+1,j+1])/2\n",
    "    end\n",
    "end\n",
    "@. D.vc        = sqrt(D.vxc^2 + D.vyc^2)\n",
    "\n",
    "@show(minimum(D.vc))\n",
    "@show(maximum(D.vc))\n"
   ]
  },
  {
   "cell_type": "markdown",
   "metadata": {},
   "source": [
    "Zum Schluss, stellen wir die Dichteverteilung und die Geschwindigkeiten graphisch dar."
   ]
  },
  {
   "cell_type": "code",
   "execution_count": null,
   "metadata": {},
   "outputs": [],
   "source": [
    "p = heatmap(x.c./1e3,y.c./1e3,D.ρ',color=:inferno,\n",
    "        xlabel=\"x[km]\",ylabel=\"y[km]\",colorbar=false,\n",
    "        title=\"Density\",\n",
    "        aspect_ratio=:equal,xlims=(M.xmin/1e3, M.xmax/1e3), \n",
    "        ylims=(M.ymin/1e3, M.ymax/1e3),\n",
    "        layout=(2,2),subplot=1)\n",
    "quiver!(p,x.c2d[1:Pl.qinc:end,1:Pl.qinc:end]./1e3,\n",
    "        y.c2d[1:Pl.qinc:end,1:Pl.qinc:end]./1e3,\n",
    "        quiver=(D.vx[1:Pl.qinc:end,1:Pl.qinc:end].*Pl.qsc,\n",
    "        D.vyc[1:Pl.qinc:end,1:Pl.qinc:end].*Pl.qsc), \n",
    "        la=0.5,\n",
    "        color=\"white\",layout=(2,2),subplot=1)\n",
    "heatmap!(p,x.c./1e3,y.c./1e3,D.vxc',\n",
    "        xlabel=\"x[km]\",ylabel=\"y[km]\",colorbar=false,\n",
    "        title=\"V_x\",color=cgrad(:batlow),\n",
    "        aspect_ratio=:equal,xlims=(M.xmin/1e3, M.xmax/1e3),\n",
    "        ylims=(M.ymin/1e3, M.ymax/1e3),\n",
    "        layout=(2,2),subplot=3)\n",
    "heatmap!(p,x.c./1e3,y.c./1e3,D.vyc',\n",
    "        xlabel=\"x[km]\",ylabel=\"y[km]\",colorbar=false,\n",
    "        title=\"V_y\",color=cgrad(:batlow),\n",
    "        aspect_ratio=:equal,xlims=(M.xmin/1e3, M.xmax/1e3),\n",
    "        ylims=(M.ymin/1e3, M.ymax/1e3),\n",
    "        layout=(2,2),subplot=4)\n",
    "heatmap!(p,x.c./1e3,y.c./1e3,D.Pt',\n",
    "        xlabel=\"x[km]\",ylabel=\"y[km]\",colorbar=false,\n",
    "        title=\"P_t\",color=cgrad(:lipari),\n",
    "        aspect_ratio=:equal,xlims=(M.xmin/1e3, M.xmax/1e3),\n",
    "        ylims=(M.ymin/1e3, M.ymax/1e3),\n",
    "        layout=(2,2),subplot=2)\n",
    "display(p)\n",
    "\n",
    "savefig(p,string(\"./Results/09_FallingBlock_Instantan.png\"))"
   ]
  }
 ],
 "metadata": {
  "kernelspec": {
   "display_name": "Julia 1.11.4",
   "language": "julia",
   "name": "julia-1.11"
  },
  "language_info": {
   "file_extension": ".jl",
   "mimetype": "application/julia",
   "name": "julia",
   "version": "1.11.4"
  }
 },
 "nbformat": 4,
 "nbformat_minor": 2
}
