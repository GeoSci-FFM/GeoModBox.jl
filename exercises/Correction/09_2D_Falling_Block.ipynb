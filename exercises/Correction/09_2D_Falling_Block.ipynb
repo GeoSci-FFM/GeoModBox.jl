{
 "cells": [
  {
   "cell_type": "markdown",
   "metadata": {},
   "source": [
    "# Stokes Gleichung (2D)"
   ]
  },
  {
   "cell_type": "markdown",
   "metadata": {},
   "source": [
    "## Fallender Block (konstante Viskosität)"
   ]
  },
  {
   "cell_type": "markdown",
   "metadata": {},
   "source": [
    "### Problem"
   ]
  },
  {
   "cell_type": "code",
   "execution_count": null,
   "metadata": {
    "vscode": {
     "languageId": "julia"
    }
   },
   "outputs": [],
   "source": [
    "using Plots\n",
    "using ExtendableSparse\n",
    "using GeoModBox.InitialCondition, GeoModBox.MomentumEquation.TwoD"
   ]
  },
  {
   "cell_type": "code",
   "execution_count": null,
   "metadata": {
    "vscode": {
     "languageId": "julia"
    }
   },
   "outputs": [],
   "source": [
    "# Define Initial Condition ========================================== #\n",
    "# Density --- \n",
    "#   1) block\n",
    "Ini         =   (p=:block,) \n",
    "# ------------------------------------------------------------------- #\n",
    "# Plot Settings ===================================================== #\n",
    "Pl  =   (\n",
    "    qinc    =   5,\n",
    "    qsc     =   100*(60*60*24*365.25)*1e2\n",
    ")\n",
    "# ------------------------------------------------------------------- #"
   ]
  },
  {
   "cell_type": "code",
   "execution_count": null,
   "metadata": {
    "vscode": {
     "languageId": "julia"
    }
   },
   "outputs": [],
   "source": [
    "# Geometry ========================================================== #\n",
    "M       =   (\n",
    "    xmin    =   0.0,\n",
    "    xmax    =   500.0e3,    # [ m ]\n",
    "    ymin    =   -500.0e3,   # [ m ]\n",
    "    ymax    =   0.0,\n",
    ")\n",
    "# -------------------------------------------------------------------- #"
   ]
  },
  {
   "cell_type": "code",
   "execution_count": null,
   "metadata": {
    "vscode": {
     "languageId": "julia"
    }
   },
   "outputs": [],
   "source": [
    "# Grid =============================================================== #\n",
    "NC      =   (\n",
    "    x   =   50, \n",
    "    y   =   50,\n",
    ")\n",
    "NV      =   (\n",
    "    x   =   NC.x + 1,\n",
    "    y   =   NC.y + 1,\n",
    ")\n",
    "Δ       =   (\n",
    "    x   =   (M.xmax - M.xmin)/NC.x,\n",
    "    y   =   (M.ymax - M.ymin)/NC.y,\n",
    ")\n",
    "x       =   (\n",
    "    c   =   LinRange(M.xmin+Δ.x/2,M.xmax-Δ.x/2,NC.x),\n",
    "    ce  =   LinRange(M.xmin - Δ.x/2.0, M.xmax + Δ.x/2.0, NC.x+2),\n",
    "    v   =   LinRange(M.xmin,M.xmax,NV.x),\n",
    ")\n",
    "y       =   (\n",
    "    c   =   LinRange(M.ymin+Δ.y/2,M.ymax-Δ.y/2,NC.y),\n",
    "    ce  =   LinRange(M.ymin - Δ.x/2.0, M.ymax + Δ.x/2.0, NC.y+2),\n",
    "    v   =   LinRange(M.ymin,M.ymax,NV.y),\n",
    ")\n",
    "x1      =   (\n",
    "    c2d     =   x.c .+ 0*y.c',\n",
    "    v2d     =   x.v .+ 0*y.v', \n",
    "    vx2d    =   x.v .+ 0*y.ce',\n",
    "    vy2d    =   x.ce .+ 0*y.v',\n",
    ")\n",
    "x   =   merge(x,x1)\n",
    "y1      =   (\n",
    "    c2d     =   0*x.c .+ y.c',\n",
    "    v2d     =   0*x.v .+ y.v',\n",
    "    vx2d    =   0*x.v .+ y.ce',\n",
    "    vy2d    =   0*x.ce .+ y.v',\n",
    ")\n",
    "y   =   merge(y,y1)\n",
    "# -------------------------------------------------------------------- #"
   ]
  },
  {
   "cell_type": "code",
   "execution_count": null,
   "metadata": {
    "vscode": {
     "languageId": "julia"
    }
   },
   "outputs": [],
   "source": [
    "# Physics ============================================================ #\n",
    "g       =   9.81\n",
    "\n",
    "η₀      =   1.0e21\n",
    "\n",
    "ρ₀      =   3200.0          #   Background density\n",
    "ρ₁      =   3300.0          #   Block density\n",
    "ρ       =   [ρ₀,ρ₁] \n",
    "\n",
    "phase   =   [0,1]\n",
    "# ------------------------------------------------------------------- #"
   ]
  },
  {
   "cell_type": "code",
   "execution_count": null,
   "metadata": {
    "vscode": {
     "languageId": "julia"
    }
   },
   "outputs": [],
   "source": [
    "# Allocation ======================================================== #\n",
    "D   =   (\n",
    "    vx      =   zeros(Float64,NV.x,NC.y+2),\n",
    "    vy      =   zeros(Float64,NC.x+2,NV.y),\n",
    "    Pt      =   zeros(Float64,NC...),\n",
    "    p       =   zeros(Int64,NC...),\n",
    "    p_ex    =   zeros(Int64,NC.x+2,NC.y+2),\n",
    "    ρ       =   zeros(Float64,NC...),\n",
    "    vxc     =   zeros(Float64,NC...),\n",
    "    vyc     =   zeros(Float64,NC...),\n",
    "    vc      =   zeros(Float64,NC...),\n",
    ")\n",
    "# ------------------------------------------------------------------- #"
   ]
  },
  {
   "cell_type": "code",
   "execution_count": null,
   "metadata": {
    "vscode": {
     "languageId": "julia"
    }
   },
   "outputs": [],
   "source": [
    "# Boundary Conditions =============================================== #\n",
    "VBC     =   (\n",
    "    type    =   (E=:freeslip,W=:freeslip,S=:freeslip,N=:freeslip),\n",
    "    # type    =   (E=:noslip,W=:noslip,S=:noslip,N=:noslip),\n",
    "    val     =   (E=zeros(NV.y),W=zeros(NV.y),S=zeros(NV.x),N=zeros(NV.x)),\n",
    ")\n",
    "# ------------------------------------------------------------------- #\n",
    "# Initial Condition ================================================= #\n",
    "IniPhase!(Ini.p,D,M,x,y,NC;phase)\n",
    "for i in eachindex(phase)\n",
    "    D.ρ[D.p.==phase[i]] .= ρ[i]\n",
    "end\n",
    "# ------------------------------------------------------------------- #"
   ]
  },
  {
   "cell_type": "code",
   "execution_count": null,
   "metadata": {
    "vscode": {
     "languageId": "julia"
    }
   },
   "outputs": [],
   "source": [
    "# System of Equations =============================================== #\n",
    "# Numbering, without ghost nodes! ---\n",
    "off    = [  NV.x*NC.y,                          # vx\n",
    "            NV.x*NC.y + NC.x*NV.y,              # vy\n",
    "            NV.x*NC.y + NC.x*NV.y + NC.x*NC.y]  # Pt\n",
    "\n",
    "Num    =    (\n",
    "    Vx  =   reshape(1:NV.x*NC.y, NV.x, NC.y), \n",
    "    Vy  =   reshape(off[1]+1:off[1]+NC.x*NV.y, NC.x, NV.y), \n",
    "    Pt  =   reshape(off[2]+1:off[2]+NC.x*NC.y,NC...),\n",
    ")\n",
    "rhs     =   zeros(maximum(Num.Pt))\n",
    "χ       =   zeros(maximum(Num.Pt))\n",
    "# ------------------------------------------------------------------- #"
   ]
  },
  {
   "cell_type": "code",
   "execution_count": null,
   "metadata": {
    "vscode": {
     "languageId": "julia"
    }
   },
   "outputs": [],
   "source": [
    "# Assemble Coefficients ============================================= #\n",
    "K       =   Assemblyc(NC, NV, Δ, η₀, VBC, Num)\n",
    "# ------------------------------------------------------------------- #"
   ]
  },
  {
   "cell_type": "code",
   "execution_count": null,
   "metadata": {
    "vscode": {
     "languageId": "julia"
    }
   },
   "outputs": [],
   "source": [
    "# Update RHS ======================================================== #\n",
    "rhs     =   updaterhsc( NC, NV, Δ, η₀, D.ρ, g, VBC, Num, rhs )\n",
    "# ------------------------------------------------------------------- #"
   ]
  },
  {
   "cell_type": "code",
   "execution_count": null,
   "metadata": {
    "vscode": {
     "languageId": "julia"
    }
   },
   "outputs": [],
   "source": [
    "# Solve System of Equations ========================================= #\n",
    "χ       =   K \\ rhs\n",
    "# ------------------------------------------------------------------- #\n",
    "# Update Unknown Variables ========================================== #\n",
    "D.vx[:,2:end-1]     .=  χ[Num.Vx]\n",
    "D.vy[2:end-1,:]     .=  χ[Num.Vy]\n",
    "D.Pt                .=  χ[Num.Pt]\n",
    "# ------------------------------------------------------------------- #"
   ]
  },
  {
   "cell_type": "code",
   "execution_count": null,
   "metadata": {
    "vscode": {
     "languageId": "julia"
    }
   },
   "outputs": [],
   "source": [
    "# Get the velocity on the centroids ---\n",
    "for i = 1:NC.x\n",
    "    for j = 1:NC.y\n",
    "        D.vxc[i,j]  = (D.vx[i,j+1] + D.vx[i+1,j+1])/2\n",
    "        D.vyc[i,j]  = (D.vy[i+1,j] + D.vy[i+1,j+1])/2\n",
    "    end\n",
    "end\n",
    "@. D.vc        = sqrt(D.vxc^2 + D.vyc^2)\n",
    "\n",
    "@show(minimum(D.vc))\n",
    "@show(maximum(D.vc))\n"
   ]
  },
  {
   "cell_type": "code",
   "execution_count": null,
   "metadata": {
    "vscode": {
     "languageId": "julia"
    }
   },
   "outputs": [],
   "source": [
    "p = heatmap(x.c./1e3,y.c./1e3,D.ρ',color=:inferno,\n",
    "                xlabel=\"x[km]\",ylabel=\"y[km]\",colorbar=false,\n",
    "                title=\"Density\",\n",
    "                aspect_ratio=:equal,xlims=(M.xmin/1e3, M.xmax/1e3), \n",
    "                ylims=(M.ymin/1e3, M.ymax/1e3),\n",
    "                layout=(2,2),subplot=1)\n",
    "quiver!(p,x.c2d[1:Pl.qinc:end,1:Pl.qinc:end]./1e3,\n",
    "                y.c2d[1:Pl.qinc:end,1:Pl.qinc:end]./1e3,\n",
    "                quiver=(D.vx[1:Pl.qinc:end,1:Pl.qinc:end].*Pl.qsc,\n",
    "                        D.vyc[1:Pl.qinc:end,1:Pl.qinc:end].*Pl.qsc),        \n",
    "                color=\"white\",layout=(2,2),subplot=1)\n",
    "heatmap!(p,x.c./1e3,y.c./1e3,D.vxc',\n",
    "                xlabel=\"x[km]\",ylabel=\"y[km]\",colorbar=false,\n",
    "                title=\"V_x\",\n",
    "                aspect_ratio=:equal,xlims=(M.xmin/1e3, M.xmax/1e3),\n",
    "                ylims=(M.ymin/1e3, M.ymax/1e3),\n",
    "                layout=(2,2),subplot=3)\n",
    "heatmap!(p,x.c./1e3,y.c./1e3,D.vyc',\n",
    "                xlabel=\"x[km]\",ylabel=\"y[km]\",colorbar=false,\n",
    "                title=\"V_y\",\n",
    "                aspect_ratio=:equal,xlims=(M.xmin/1e3, M.xmax/1e3),\n",
    "                ylims=(M.ymin/1e3, M.ymax/1e3),\n",
    "                layout=(2,2),subplot=4)\n",
    "heatmap!(p,x.c./1e3,y.c./1e3,D.Pt',\n",
    "                xlabel=\"x[km]\",ylabel=\"y[km]\",colorbar=false,\n",
    "                title=\"P_t\",\n",
    "                aspect_ratio=:equal,xlims=(M.xmin/1e3, M.xmax/1e3),\n",
    "                ylims=(M.ymin/1e3, M.ymax/1e3),\n",
    "                layout=(2,2),subplot=2)\n",
    "display(p)\n",
    "\n",
    "savefig(p,string(\"./exercises/Correction/Results/09_FallingBlock_Instanteneous.png\"))"
   ]
  }
 ],
 "metadata": {
  "language_info": {
   "name": "python"
  }
 },
 "nbformat": 4,
 "nbformat_minor": 2
}
