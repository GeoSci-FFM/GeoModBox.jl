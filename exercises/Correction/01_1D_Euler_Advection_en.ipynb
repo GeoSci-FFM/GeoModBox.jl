{
 "cells": [
  {
   "cell_type": "markdown",
   "id": "dcd4eddc",
   "metadata": {},
   "source": [
    "# Solving an Ordinary Differential Equation (ODE)\n",
    "\n",
    "One of the simplest methods to solve an ODE is the so-called forward Euler method or explicit Euler method. Here, we use the information from the current time step to compute the information for the next time step. We will apply this method to a specific one-dimensional problem.\n",
    "\n",
    "## The Problem\n",
    "\n",
    "A relatively simple ODE in 1-D space is the particle path equation, given by:\n",
    "\n",
    "$$\n",
    "\\frac{\\partial{x}}{\\partial{t}} = f(x) = v_{x}, \\tag{1}\n",
    "$$\n",
    "where $x$ is the particle’s position [m], $t$ is time [s], and $v_{x}$ is the horizontal velocity [m/s]. The equation describes the change in position of a particle P with time, assuming a constant velocity.\n",
    "\n",
    "Before attempting to solve the problem numerically, let us first represent the initial situation. For this, we need the following Julia modules (`Plots`):"
   ]
  },
  {
   "cell_type": "code",
   "execution_count": null,
   "id": "52be5d9d",
   "metadata": {},
   "outputs": [],
   "source": [
    "using Plots\n",
    "start = time()"
   ]
  },
  {
   "cell_type": "markdown",
   "id": "aec7843e",
   "metadata": {},
   "source": [
    "Now we define the constants for our problem (geometry, time, physics):"
   ]
  },
  {
   "cell_type": "code",
   "execution_count": null,
   "id": "5ecdb4a2",
   "metadata": {},
   "outputs": [],
   "source": [
    "# Plot Parameter -------------------------------------------------------- %\n",
    "#   Define wether or not the figures are stored as gif animation\n",
    "#   0 - no, 1 - yes\n",
    "save_fig    =   1    \n",
    "# ----------------------------------------------------------------------- %\n",
    "# Geometrical Constatns ------------------------------------------------- %\n",
    "xmin        =   -10.0                           # Minimum [ m ]\n",
    "xmax        =   10.0                            # Maximum [ m ]\n",
    "# ----------------------------------------------------------------------- %\n",
    "# Time Parameter -------------------------------------------------------- %\n",
    "tmin        =   0.0                             # Start [ s ]\n",
    "tmax        =   60                              # Maximum Time [ s ]\n",
    "dt          =   0.5                             # Time Step Length [ s ]\n",
    "nt          =   Int((tmax - tmin) / dt) + 1     # Number of Time Steps \n",
    "Time        =   0.0\n",
    "# ----------------------------------------------------------------------- %\n",
    "# Initial Values ------------------------------------------------------- %\n",
    "vx          =   0.5                             # Velocity [ m/s ]\n",
    "Px          =   0                               # Initial Position \n",
    "# ----------------------------------------------------------------------- %"
   ]
  },
  {
   "cell_type": "markdown",
   "id": "6cf4a0a6",
   "metadata": {},
   "source": [
    "### Visualization\n",
    "\n",
    "To save our plots as an animation, we need to set the folder and filename:"
   ]
  },
  {
   "cell_type": "code",
   "execution_count": null,
   "id": "22a0d7de",
   "metadata": {},
   "outputs": [],
   "source": [
    "# Animationssettings ---------------------------------------------------- %\n",
    "path        =   string(\"./Results/\")\n",
    "anim        =   Plots.Animation(path, String[] )\n",
    "filename    =   \"01_1D_Euler\""
   ]
  },
  {
   "cell_type": "markdown",
   "id": "f8df7f24",
   "metadata": {},
   "source": [
    "Now we want to display the particle at its initial position (`scatter`, `annotate`):"
   ]
  },
  {
   "cell_type": "code",
   "execution_count": null,
   "id": "6a491d3f",
   "metadata": {},
   "outputs": [],
   "source": [
    "p = scatter([Px], [0], label=\"\", xlims=(xmin, xmax), ylims=(-1, 1),\n",
    "            xlabel=\"x\", ylabel=\"y\", title=\"Particlepath 1D\",            \n",
    "            marker=:circle, markersize=8,\n",
    "            markercolor=:black, markerstrokecolor=:red)    \n",
    "annotate!(p, -0.75, 0.75, text(\"Time = $Time\", :black, 12)) \n",
    "display(p)"
   ]
  },
  {
   "cell_type": "markdown",
   "id": "194cb31b",
   "metadata": {},
   "source": [
    "Next, we want to solve the ODE."
   ]
  },
  {
   "cell_type": "markdown",
   "id": "6dc5abd7",
   "metadata": {},
   "source": [
    "## The Solution\n",
    "\n",
    "As discussed in the lecture, we can approximate the partial differential equation using the *finite difference* method. Here, we apply a **forward** approximation in time and a **forward** approximation in space. The particle path equation is then given by:\n",
    "\n",
    "$$\n",
    "\\frac{\\Delta{x}}{\\Delta{t}} = v_x, \\tag{2}\n",
    "$$\n",
    "\n",
    "where $\\Delta{}$ denotes the total or absolute differential, explicitly written as:\n",
    "\n",
    "$$\n",
    "\\frac{x_2 - x_1}{t_2 - t_1} = v_x, \\tag{3}\n",
    "$$\n",
    "\n",
    "where $x_1$ and $x_2$ represent the position of the particle at the current and new time, and $t_1$ and $t_2$ the current and new time, respectively.\n",
    "\n",
    "We can now solve the equation for the unknown $x_2$:\n",
    "\n",
    "$$\n",
    "x_2 = v_x \\Delta{t} + x_1. \\tag{4}\n",
    "$$\n",
    "\n",
    "This equation must be solved for each time step, allowing us to graphically represent the solution of our problem—the position of the particle over time—at each step. To do this, we numerically compute and visualize these steps sequentially in a loop over time."
   ]
  },
  {
   "cell_type": "code",
   "execution_count": null,
   "id": "86babd32",
   "metadata": {},
   "outputs": [],
   "source": [
    "# Numerical Solution of the ODE ----------------------------------------- %\n",
    "for it = 1:nt\n",
    "    Time = (it - 1) * dt\n",
    "    println(\"Time: \", Time)\n",
    "    if it > 1\n",
    "        Px = vx * dt + Px\n",
    "    end\n",
    "    if Px > xmax\n",
    "        Px = Px - xmax + xmin\n",
    "    end\n",
    "    if Px < xmin\n",
    "        Px = Px + xmax - xmin\n",
    "    end    \n",
    "    p = scatter([Px], [0], label=\"\", xlims=(xmin, xmax), ylims=(-1, 1),\n",
    "            xlabel=\"x\", ylabel=\"y\", title=\"Particlepath 1D\",            \n",
    "            marker=:circle, markersize=8,\n",
    "            markercolor=:black, markerstrokecolor=:red)    \n",
    "    annotate!(p, -0.75, 0.75, text(\"Time = $Time\", :black, 12)) \n",
    "\n",
    "    Plots.frame(anim)\n",
    "\n",
    "end"
   ]
  },
  {
   "cell_type": "markdown",
   "id": "a63600e2",
   "metadata": {},
   "source": [
    "To save the figures as a GIF animation, we still need to generate the corresponding GIF:"
   ]
  },
  {
   "cell_type": "code",
   "execution_count": null,
   "id": "144765f1",
   "metadata": {},
   "outputs": [],
   "source": [
    "if save_fig == 1\n",
    "    # Write the frames to a GIF file\n",
    "    Plots.gif(anim, string( path, filename, \".gif\" ), fps = 15)\n",
    "end\n",
    "foreach(rm, filter(startswith(string(path,\"00\")), readdir(path,join=true)))\n",
    "stop = time()\n",
    "println(stop-start)"
   ]
  }
 ],
 "metadata": {
  "kernelspec": {
   "display_name": "Julia 1.11.4",
   "language": "julia",
   "name": "julia-1.11"
  },
  "language_info": {
   "file_extension": ".jl",
   "mimetype": "application/julia",
   "name": "julia",
   "version": "1.11.4"
  }
 },
 "nbformat": 4,
 "nbformat_minor": 5
}
