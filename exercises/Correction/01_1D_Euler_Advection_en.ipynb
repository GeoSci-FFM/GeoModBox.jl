{
 "cells": [
  {
   "cell_type": "markdown",
   "id": "dcd4eddc",
   "metadata": {},
   "source": [
    "# Solving an Ordinary Differential Equation (ODE)\n",
    "\n",
    "One of the simplest methods to solve an ODE is the so-called forward Euler method or explicit Euler method. Here, we use the information from the current time step to compute the information for the next time step. We will apply this method to a specific one-dimensional problem.\n",
    "\n",
    "## The Problem\n",
    "\n",
    "A relatively simple ODE in 1-D space is the particle path equation, given by:\n",
    "\n",
    "$$\n",
    "\\frac{\\partial{x}}{\\partial{t}} = f(x) = v_{x}, \\tag{1}\n",
    "$$\n",
    "where $x$ is the particle’s position, $t$ is time, and $v_{x}$ is the horizontal velocity. The equation describes the change in position of a particle P with time, assuming a constant velocity.\n",
    "\n",
    "Before attempting to solve the problem numerically, let us first represent the initial situation. For this, we need the following Julia modules (`Plots`):"
   ]
  },
  {
   "cell_type": "code",
   "execution_count": null,
   "id": "52be5d9d",
   "metadata": {
    "vscode": {
     "languageId": "julia"
    }
   },
   "outputs": [],
   "source": [
    "using Plots"
   ]
  },
  {
   "cell_type": "markdown",
   "id": "aec7843e",
   "metadata": {},
   "source": [
    "Now we define the constants for our problem (geometry, time, physics):"
   ]
  },
  {
   "cell_type": "code",
   "execution_count": null,
   "id": "5ecdb4a2",
   "metadata": {
    "vscode": {
     "languageId": "julia"
    }
   },
   "outputs": [],
   "source": [
    "# Plot Parameter -------------------------------------------------------- %\n",
    "#   Definiert ob die Abbildung als Animation gespeichert wird, \n",
    "#   0 - nein, 1 - ja\n",
    "save_fig    =   1    \n",
    "# ----------------------------------------------------------------------- %\n",
    "# Geometrische Konstanten ----------------------------------------------- %\n",
    "xmin        =   -10.0                               # Minimum [ m ]\n",
    "xmax        =   10.0                               # Maximum [ m ]\n",
    "# ----------------------------------------------------------------------- %\n",
    "# Zeit Parameter -------------------------------------------------------- %\n",
    "tmin        =   0.0                             # Anfangszeit [ s ]\n",
    "tmax        =   60                               # Maximale Zeit [ s ]\n",
    "dt          =   0.5                               # Zeitschrittlänge [ s ]\n",
    "nt          =   Int((tmax - tmin) / dt) + 1     # Anzahl der Zeitschritte \n",
    "Zeit        =   0.0\n",
    "# ----------------------------------------------------------------------- %\n",
    "# Anfangswert ----------------------------------------------------------- %\n",
    "vx          =   0.5                               # Geschwindigkeit [ m/s ]\n",
    "Px          =   0                               # Anfangsposition \n",
    "# ----------------------------------------------------------------------- %"
   ]
  },
  {
   "cell_type": "markdown",
   "id": "6cf4a0a6",
   "metadata": {},
   "source": [
    "### Visualization\n",
    "\n",
    "To save our plots as an animation, we need to set the folder and filename:"
   ]
  },
  {
   "cell_type": "code",
   "execution_count": null,
   "id": "22a0d7de",
   "metadata": {
    "vscode": {
     "languageId": "julia"
    }
   },
   "outputs": [],
   "source": [
    "# Animationssettings ---------------------------------------------------- %\n",
    "path        =   string(\"./Results/\")\n",
    "anim        =   Plots.Animation(path, String[] )\n",
    "filename    =   \"01_1D_Euler\""
   ]
  },
  {
   "cell_type": "markdown",
   "id": "f8df7f24",
   "metadata": {},
   "source": [
    "Now we want to display the particle at its initial position (scatter, annotate):"
   ]
  },
  {
   "cell_type": "code",
   "execution_count": null,
   "id": "6a491d3f",
   "metadata": {
    "vscode": {
     "languageId": "julia"
    }
   },
   "outputs": [],
   "source": [
    "p = scatter([Px], [0], label=\"\", xlims=(xmin, xmax), ylims=(-1, 1),\n",
    "            xlabel=\"x\", ylabel=\"y\", title=\"Partikelpfad 1D\",            \n",
    "            marker=:circle, markersize=8,\n",
    "            markercolor=:black, markerstrokecolor=:red)    \n",
    "annotate!(p, -0.75, 0.75, text(\"Zeit = $Zeit\", :black, 12)) \n",
    "display(p)"
   ]
  },
  {
   "cell_type": "markdown",
   "id": "194cb31b",
   "metadata": {},
   "source": [
    "Next, we want to solve the ODE."
   ]
  },
  {
   "cell_type": "markdown",
   "id": "6dc5abd7",
   "metadata": {},
   "source": [
    "## The Solution"
   ]
  }
 ],
 "metadata": {
  "language_info": {
   "name": "python"
  }
 },
 "nbformat": 4,
 "nbformat_minor": 5
}
