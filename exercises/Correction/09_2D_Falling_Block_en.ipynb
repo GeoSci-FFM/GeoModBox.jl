{
 "cells": [
  {
   "cell_type": "markdown",
   "metadata": {},
   "source": [
    "# Stokes Equation (2D)"
   ]
  },
  {
   "cell_type": "markdown",
   "metadata": {},
   "source": [
    "## Falling Block (Constant Viscosity)\n",
    "\n",
    "We begin with an instantaneous (time-independent) and isoviscous (constant viscosity) problem: the **falling block**. This setup is relatively simple to implement and serves as a useful benchmark problem for testing the existing code.  "
   ]
  },
  {
   "cell_type": "markdown",
   "metadata": {},
   "source": [
    "### Problem"
   ]
  },
  {
   "cell_type": "markdown",
   "metadata": {},
   "source": [
    "Unlike the full benchmark for this problem, we focus here only on the **isoviscous** case (in the benchmark, the sinking velocity and deformation of the block are studied as a function of the viscosity contrast [see here](../../examples/Benchmarks/)).  \n",
    "\n",
    "We consider a square block of width (**W**), height (**T**), and density ($\\rho_b$), embedded in a viscous medium of viscosity ($\\eta_m$) and density ($\\rho_m$). The computational domain is also square, with a length ($L = 500\\ \\textrm{km}$) and height ($H = 500\\ \\textrm{km}$). Throughout the domain, *free-slip* velocity boundary conditions are applied.  "
   ]
  },
  {
   "cell_type": "markdown",
   "metadata": {},
   "source": [
    "<img src=\"../Figures/Exercise09_1.png\" alt=\"drawing\" width=\"450\"/> <br>\n",
    "**Figure 1.** Model setup"
   ]
  },
  {
   "cell_type": "markdown",
   "metadata": {},
   "source": [
    "First, we load the necessary modules for visualizing results, solving the linear system, setting up the initial conditions, and solving the two-dimensional momentum conservation equation.  \n",
    "\n",
    "A detailed description of how the model domain can be discretized into a numerical grid, as well as the discretization of **momentum conservation** and **mass conservation** under *free-slip* or *no-slip* boundary conditions, can be found [here](../../examples/StokesEquation/2D/README.md). Due to the scope of this exercise, we omit a detailed explanation.  "
   ]
  },
  {
   "cell_type": "code",
   "execution_count": null,
   "metadata": {},
   "outputs": [],
   "source": [
    "using Plots\n",
    "using ExtendableSparse\n",
    "using GeoModBox.InitialCondition, GeoModBox.MomentumEquation.TwoD"
   ]
  },
  {
   "cell_type": "markdown",
   "metadata": {},
   "source": [
    "Using the built-in function `IniPhase()`, we can generate the initial density distribution for our *block* problem. Depending on the setup, this function can create an initial distribution of certain quantities either on the numerical grid or on the markers.  \n",
    "\n",
    "To use the function, we need the tuple `Ini`, in which the distribution is defined (in this case for the phase *p*).  "
   ]
  },
  {
   "cell_type": "code",
   "execution_count": null,
   "metadata": {},
   "outputs": [],
   "source": [
    "# Define Initial Condition ========================================== #\n",
    "# Density --- \n",
    "#   1) block\n",
    "Ini         =   (p=:block,) \n",
    "# ------------------------------------------------------------------- #\n",
    "# Plot Settings ===================================================== #\n",
    "Pl  =   (\n",
    "    qinc    =   5,\n",
    "    qsc     =   100*(60*60*24*365.25)*1e2\n",
    ")\n",
    "# ------------------------------------------------------------------- #"
   ]
  },
  {
   "cell_type": "markdown",
   "metadata": {},
   "source": [
    "Next, we define the geometry of our model domain.  "
   ]
  },
  {
   "cell_type": "code",
   "execution_count": null,
   "metadata": {},
   "outputs": [],
   "source": [
    "# Geometry ========================================================== #\n",
    "M       =   (\n",
    "    xmin    =   0.0,\n",
    "    xmax    =   500.0e3,    # [ m ]\n",
    "    ymin    =   -500.0e3,   # [ m ]\n",
    "    ymax    =   0.0,\n",
    ")\n",
    "# -------------------------------------------------------------------- #"
   ]
  },
  {
   "cell_type": "markdown",
   "metadata": {},
   "source": [
    "Now we define our grid resolution $\\left(nc_x = nc_y = 50\\right)$ and construct the numerical grid.  \n",
    "\n",
    "This requires specifying both the grid spacing, $\\Delta{x}$ and $\\Delta{y}$, as well as the coordinates of the different grid points (*vertices* and *centroids*). We first define the corresponding 1-D coordinate vectors, from which the 2-D coordinate grids are then generated.  "
   ]
  },
  {
   "cell_type": "code",
   "execution_count": null,
   "metadata": {},
   "outputs": [],
   "source": [
    "# Grid =============================================================== #\n",
    "NC      =   (\n",
    "    x   =   50, \n",
    "    y   =   50,\n",
    ")\n",
    "NV      =   (\n",
    "    x   =   NC.x + 1,\n",
    "    y   =   NC.y + 1,\n",
    ")\n",
    "Δ       =   (\n",
    "    x   =   (M.xmax - M.xmin)/NC.x,\n",
    "    y   =   (M.ymax - M.ymin)/NC.y,\n",
    ")\n",
    "x       =   (\n",
    "    c   =   LinRange(M.xmin+Δ.x/2,M.xmax-Δ.x/2,NC.x),\n",
    "    ce  =   LinRange(M.xmin - Δ.x/2.0, M.xmax + Δ.x/2.0, NC.x+2),\n",
    "    v   =   LinRange(M.xmin,M.xmax,NV.x),\n",
    ")\n",
    "y       =   (\n",
    "    c   =   LinRange(M.ymin+Δ.y/2,M.ymax-Δ.y/2,NC.y),\n",
    "    ce  =   LinRange(M.ymin - Δ.x/2.0, M.ymax + Δ.x/2.0, NC.y+2),\n",
    "    v   =   LinRange(M.ymin,M.ymax,NV.y),\n",
    ")\n",
    "x1      =   (\n",
    "    c2d     =   x.c .+ 0*y.c',\n",
    "    v2d     =   x.v .+ 0*y.v', \n",
    "    vx2d    =   x.v .+ 0*y.ce',\n",
    "    vy2d    =   x.ce .+ 0*y.v',\n",
    ")\n",
    "x   =   merge(x,x1)\n",
    "y1      =   (\n",
    "    c2d     =   0*x.c .+ y.c',\n",
    "    v2d     =   0*x.v .+ y.v',\n",
    "    vx2d    =   0*x.v .+ y.ce',\n",
    "    vy2d    =   0*x.ce .+ y.v',\n",
    ")\n",
    "y   =   merge(y,y1)\n",
    "# -------------------------------------------------------------------- #"
   ]
  },
  {
   "cell_type": "markdown",
   "metadata": {},
   "source": [
    "Next, we need to define the physical parameters: gravitational acceleration $g$, viscosity $\\eta_0$ ($10^{21}$ Pa·s), background density $\\rho_0$ (3200 kg/m³), and block density $\\rho_1$ (3300 kg/m³).  \n",
    "\n",
    "The vector `phase` contains the phase index, which is used in the function `IniPhase()` to assign the corresponding phase to grid points or markers. The vector $\\rho$ contains the density values associated with each phase.  "
   ]
  },
  {
   "cell_type": "code",
   "execution_count": null,
   "metadata": {},
   "outputs": [],
   "source": [
    "# Physics ============================================================ #\n",
    "g       =   9.81\n",
    "\n",
    "η₀      =   1.0e21\n",
    "\n",
    "ρ₀      =   3200.0          #   Background density\n",
    "ρ₁      =   3300.0          #   Block density\n",
    "ρ       =   [ρ₀,ρ₁] \n",
    "\n",
    "phase   =   [0,1]\n",
    "# ------------------------------------------------------------------- #"
   ]
  },
  {
   "cell_type": "markdown",
   "metadata": {},
   "source": [
    "Now we define the sizes of the required data fields.  "
   ]
  },
  {
   "cell_type": "code",
   "execution_count": null,
   "metadata": {},
   "outputs": [],
   "source": [
    "# Allocation ======================================================== #\n",
    "D   =   (\n",
    "    vx      =   zeros(Float64,NV.x,NC.y+2),\n",
    "    vy      =   zeros(Float64,NC.x+2,NV.y),\n",
    "    Pt      =   zeros(Float64,NC...),\n",
    "    p       =   zeros(Int64,NC...),\n",
    "    p_ex    =   zeros(Int64,NC.x+2,NC.y+2),\n",
    "    ρ       =   zeros(Float64,NC...),\n",
    "    vxc     =   zeros(Float64,NC...),\n",
    "    vyc     =   zeros(Float64,NC...),\n",
    "    vc      =   zeros(Float64,NC...),\n",
    ")\n",
    "# ------------------------------------------------------------------- #"
   ]
  },
  {
   "cell_type": "markdown",
   "metadata": {},
   "source": [
    "Now we can define the boundary conditions and the initial conditions.  \n",
    "\n",
    "For the boundary conditions, we again use the tuple `VBC`, in which the type of boundary (*free slip* or *no slip*) is specified for each side (**E**, **W**, **S**, **N**).  \n",
    "The assigned value `val` then determines the velocity value at the respective boundary.  \n",
    "\n",
    "How do we initialize those conditions now in the script? "
   ]
  },
  {
   "cell_type": "code",
   "execution_count": null,
   "metadata": {},
   "outputs": [],
   "source": [
    "# Boundary Conditions =============================================== #\n",
    "VBC     =   (\n",
    "    type    =   (E=:freeslip,W=:freeslip,S=:freeslip,N=:freeslip),\n",
    "    # type    =   (E=:noslip,W=:noslip,S=:noslip,N=:noslip),\n",
    "    val     =   (E=zeros(NV.y),W=zeros(NV.y),S=zeros(NV.x),N=zeros(NV.x)),\n",
    ")\n",
    "# ------------------------------------------------------------------- #"
   ]
  },
  {
   "cell_type": "markdown",
   "metadata": {},
   "source": [
    "To set up the initial conditions, we use the function `IniPhase`, which assigns the corresponding phase to each grid point.  \n",
    "Each phase is then associated with its respective density value.  "
   ]
  },
  {
   "cell_type": "code",
   "execution_count": null,
   "metadata": {},
   "outputs": [],
   "source": [
    "# Initial Condition ================================================= #\n",
    "IniPhase!(Ini.p,D,M,x,y,NC;phase)\n",
    "for i in eachindex(phase)\n",
    "    D.ρ[D.p.==phase[i]] .= ρ[i]\n",
    "end\n",
    "# ------------------------------------------------------------------- #"
   ]
  },
  {
   "cell_type": "markdown",
   "metadata": {},
   "source": [
    "Next, we need to define the parameters for the linear system of equations.  \n",
    "\n",
    "The numbering of the equations for the *x-component* and *y-component* of the momentum conservation, as well as for the *mass conservation*, together with the discretization of the governing equations using the finite difference method, is described in detail [here](../../examples/StokesEquation/2D/README.md).  \n",
    "\n",
    "In addition, the solution vector `χ` must be initialized. The size of both the coefficient matrix and the solution vector is determined by the maximum number of equations.  "
   ]
  },
  {
   "cell_type": "code",
   "execution_count": null,
   "metadata": {},
   "outputs": [],
   "source": [
    "# System of Equations =============================================== #\n",
    "# Numbering, without ghost nodes! ---\n",
    "off    = [  NV.x*NC.y,                          # vx\n",
    "            NV.x*NC.y + NC.x*NV.y,              # vy\n",
    "            NV.x*NC.y + NC.x*NV.y + NC.x*NC.y]  # Pt\n",
    "\n",
    "Num    =    (\n",
    "    Vx  =   reshape(1:NV.x*NC.y, NV.x, NC.y), \n",
    "    Vy  =   reshape(off[1]+1:off[1]+NC.x*NV.y, NC.x, NV.y), \n",
    "    Pt  =   reshape(off[2]+1:off[2]+NC.x*NC.y,NC...),\n",
    ")\n",
    "χ       =   zeros(maximum(Num.Pt))\n",
    "# ------------------------------------------------------------------- #"
   ]
  },
  {
   "cell_type": "markdown",
   "metadata": {},
   "source": [
    "Using the function `Assemblyc()`, the coefficients of the coefficient matrix $\\mathbf{K}$ can be assigned.  \n",
    "This function associates the required coefficients with the corresponding equation in the system.  "
   ]
  },
  {
   "cell_type": "code",
   "execution_count": null,
   "metadata": {},
   "outputs": [],
   "source": [
    "# Assemble Coefficients ============================================= #\n",
    "K       =   Assemblyc(NC, NV, Δ, η₀, VBC, Num)\n",
    "# ------------------------------------------------------------------- #"
   ]
  },
  {
   "cell_type": "markdown",
   "metadata": {},
   "source": [
    "Next, we need to update the right-hand side (RHS) vector with the information from the initial and boundary conditions using the function `updaterhsc()`.  \n",
    "This function assigns the appropriate values of the RHS to each equation in the linear system.  "
   ]
  },
  {
   "cell_type": "code",
   "execution_count": null,
   "metadata": {},
   "outputs": [],
   "source": [
    "# Update RHS ======================================================== #\n",
    "rhs     =   updaterhsc( NC, NV, Δ, η₀, D.ρ, -g, VBC, Num )\n",
    "# ------------------------------------------------------------------- #"
   ]
  },
  {
   "cell_type": "markdown",
   "metadata": {},
   "source": [
    "Now the problem can be solved by performing a right division.  "
   ]
  },
  {
   "cell_type": "code",
   "execution_count": null,
   "metadata": {},
   "outputs": [],
   "source": [
    "# Solve System of Equations ========================================= #\n",
    "χ       =   K \\ rhs\n",
    "# ------------------------------------------------------------------- #"
   ]
  },
  {
   "cell_type": "markdown",
   "metadata": {},
   "source": [
    "Afterwards, the newly computed values for the horizontal and vertical velocity, as well as the pressure, must be assigned to the corresponding grid.  "
   ]
  },
  {
   "cell_type": "code",
   "execution_count": null,
   "metadata": {},
   "outputs": [],
   "source": [
    "# Update Unknown Variables ========================================== #\n",
    "D.vx[:,2:end-1]     .=  χ[Num.Vx]\n",
    "D.vy[2:end-1,:]     .=  χ[Num.Vy]\n",
    "D.Pt                .=  χ[Num.Pt]\n",
    "# ------------------------------------------------------------------- #"
   ]
  },
  {
   "cell_type": "markdown",
   "metadata": {},
   "source": [
    "For better visualization, we now compute the velocities at the *centroids*.  "
   ]
  },
  {
   "cell_type": "code",
   "execution_count": null,
   "metadata": {},
   "outputs": [],
   "source": [
    "# Get the velocity on the centroids ---\n",
    "for i = 1:NC.x\n",
    "    for j = 1:NC.y\n",
    "        D.vxc[i,j]  = (D.vx[i,j+1] + D.vx[i+1,j+1])/2\n",
    "        D.vyc[i,j]  = (D.vy[i+1,j] + D.vy[i+1,j+1])/2\n",
    "    end\n",
    "end\n",
    "@. D.vc        = sqrt(D.vxc^2 + D.vyc^2)\n",
    "\n",
    "@show(minimum(D.vc))\n",
    "@show(maximum(D.vc))\n"
   ]
  },
  {
   "cell_type": "markdown",
   "metadata": {},
   "source": [
    "Finally, we visualize the density distribution and the velocity field.  "
   ]
  },
  {
   "cell_type": "code",
   "execution_count": null,
   "metadata": {},
   "outputs": [],
   "source": [
    "p = heatmap(x.c./1e3,y.c./1e3,D.ρ',color=:inferno,\n",
    "        xlabel=\"x[km]\",ylabel=\"y[km]\",colorbar=false,\n",
    "        title=\"Density\",\n",
    "        aspect_ratio=:equal,xlims=(M.xmin/1e3, M.xmax/1e3), \n",
    "        ylims=(M.ymin/1e3, M.ymax/1e3),\n",
    "        layout=(2,2),subplot=1)\n",
    "quiver!(p,x.c2d[1:Pl.qinc:end,1:Pl.qinc:end]./1e3,\n",
    "        y.c2d[1:Pl.qinc:end,1:Pl.qinc:end]./1e3,\n",
    "        quiver=(D.vx[1:Pl.qinc:end,1:Pl.qinc:end].*Pl.qsc,\n",
    "        D.vyc[1:Pl.qinc:end,1:Pl.qinc:end].*Pl.qsc), \n",
    "        la=0.5,\n",
    "        color=\"white\",layout=(2,2),subplot=1)\n",
    "heatmap!(p,x.c./1e3,y.c./1e3,D.vxc',\n",
    "        xlabel=\"x[km]\",ylabel=\"y[km]\",colorbar=false,\n",
    "        title=\"V_x\",color=cgrad(:batlow),\n",
    "        aspect_ratio=:equal,xlims=(M.xmin/1e3, M.xmax/1e3),\n",
    "        ylims=(M.ymin/1e3, M.ymax/1e3),\n",
    "        layout=(2,2),subplot=3)\n",
    "heatmap!(p,x.c./1e3,y.c./1e3,D.vyc',\n",
    "        xlabel=\"x[km]\",ylabel=\"y[km]\",colorbar=false,\n",
    "        title=\"V_y\",color=cgrad(:batlow),\n",
    "        aspect_ratio=:equal,xlims=(M.xmin/1e3, M.xmax/1e3),\n",
    "        ylims=(M.ymin/1e3, M.ymax/1e3),\n",
    "        layout=(2,2),subplot=4)\n",
    "heatmap!(p,x.c./1e3,y.c./1e3,D.Pt',\n",
    "        xlabel=\"x[km]\",ylabel=\"y[km]\",colorbar=false,\n",
    "        title=\"P_t\",color=cgrad(:lipari),\n",
    "        aspect_ratio=:equal,xlims=(M.xmin/1e3, M.xmax/1e3),\n",
    "        ylims=(M.ymin/1e3, M.ymax/1e3),\n",
    "        layout=(2,2),subplot=2)\n",
    "display(p)\n",
    "\n",
    "savefig(p,string(\"./Results/09_FallingBlock_Instantan.png\"))"
   ]
  }
 ],
 "metadata": {
  "kernelspec": {
   "display_name": "Julia 1.11.4",
   "language": "julia",
   "name": "julia-1.11"
  },
  "language_info": {
   "file_extension": ".jl",
   "mimetype": "application/julia",
   "name": "julia",
   "version": "1.11.4"
  }
 },
 "nbformat": 4,
 "nbformat_minor": 2
}
