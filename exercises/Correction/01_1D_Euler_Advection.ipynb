{
 "cells": [
  {
   "cell_type": "markdown",
   "metadata": {},
   "source": [
    "# Lösen einer Gewöhnlichen Differential Gleichung (GDL)\n",
    "\n",
    "Eine der einfachsten Methoden, um eine *GDL* zu lösen, ist, das sogenannte **Euler-vorwärts-Verfahren** oder **explicite Euler-Verfahren**. Dabei benutzen wir die Informationen aus dem aktuellen Zeitschritt, um die Informationen zum neuen Zeitschritt zu berechnen. Dieses Verfahren wollen wir an einem bestimmten ein-dimesionalen Problem anwenden. \n",
    "\n",
    "## Das Problem\n",
    "\n",
    "Eine, im 1-D Raum, relative einfache *GDL* ist die Partikelpfadgleichung, gegeben durch:\n",
    "\n",
    "$$\n",
    "\\frac{\\partial{x}}{\\partial{t}} = f(x) = v_{x}, \\tag{1}\n",
    "$$\n",
    "\n",
    "wobei $x$ die Position des Partikels, $t$ die Zeit, und $v_{x}$ die horizontale Geschwindigkeit darstellt. Die Gleichung beschreibt die Änderung der Position eines Partikels *P* mit der Zeit unter der Annahme einer konstanten Geschwindigkeit. \n",
    "\n",
    "Bevor wir versuchen, das Problem numerisch zu lösen, lasst uns erst einmal die Anfangssituation darstellen. Dazu benötigen wir die folgenden Module in Julia (```Plots```):"
   ]
  },
  {
   "cell_type": "code",
   "execution_count": null,
   "metadata": {},
   "outputs": [],
   "source": [
    "using Plots"
   ]
  },
  {
   "cell_type": "markdown",
   "metadata": {},
   "source": [
    "Nun definieren wir die Konstanten für unser Problem (Geometrie, Zeit, Physik): "
   ]
  },
  {
   "cell_type": "code",
   "execution_count": null,
   "metadata": {},
   "outputs": [],
   "source": [
    "# Plot Parameter -------------------------------------------------------- %\n",
    "#   Definiert ob die Abbildung als Animation gespeichert wird, \n",
    "#   0 - nein, 1 - ja\n",
    "save_fig    =   1    \n",
    "# ----------------------------------------------------------------------- %\n",
    "# Geometrische Konstanten ----------------------------------------------- %\n",
    "xmin        =   -10.0                               # Minimum [ m ]\n",
    "xmax        =   10.0                               # Maximum [ m ]\n",
    "# ----------------------------------------------------------------------- %\n",
    "# Zeit Parameter -------------------------------------------------------- %\n",
    "tmin        =   0.0                             # Anfangszeit [ s ]\n",
    "tmax        =   60                               # Maximale Zeit [ s ]\n",
    "dt          =   0.5                               # Zeitschrittlänge [ s ]\n",
    "nt          =   Int((tmax - tmin) / dt) + 1     # Anzahl der Zeitschritte \n",
    "Zeit        =   0.0\n",
    "# ----------------------------------------------------------------------- %\n",
    "# Anfangswert ----------------------------------------------------------- %\n",
    "vx          =   0.5                               # Geschwindigkeit [ m/s ]\n",
    "Px          =   0                               # Anfangsposition \n",
    "# ----------------------------------------------------------------------- %"
   ]
  },
  {
   "cell_type": "markdown",
   "metadata": {},
   "source": [
    "### Visualizierung\n",
    "Um unsere Abbildungen in einer Animation speichern zu können, müssen wir den Ordner und den Namen der Datei festlegen: "
   ]
  },
  {
   "cell_type": "code",
   "execution_count": null,
   "metadata": {},
   "outputs": [],
   "source": [
    "# Animationssettings ---------------------------------------------------- %\n",
    "path        =   string(\"./Results/\")\n",
    "anim        =   Plots.Animation(path, String[] )\n",
    "filename    =   \"01_1D_Euler\""
   ]
  },
  {
   "cell_type": "markdown",
   "metadata": {},
   "source": [
    "Jetzt wollen wir das Partikel an seiner Anfangsposition darstellen (```scatter,annotate ```): "
   ]
  },
  {
   "cell_type": "code",
   "execution_count": null,
   "metadata": {},
   "outputs": [],
   "source": [
    "p = scatter([Px], [0], label=\"\", xlims=(xmin, xmax), ylims=(-1, 1),\n",
    "            xlabel=\"x\", ylabel=\"y\", title=\"Partikelpfad 1D\",            \n",
    "            marker=:circle, markersize=8,\n",
    "            markercolor=:black, markerstrokecolor=:red)    \n",
    "annotate!(p, -0.75, 0.75, text(\"Zeit = $Zeit\", :black, 12)) \n",
    "display(p)"
   ]
  },
  {
   "cell_type": "markdown",
   "metadata": {},
   "source": [
    "Als nächstes wollen wir die *GDL* lösen."
   ]
  },
  {
   "cell_type": "markdown",
   "metadata": {},
   "source": [
    "## Die Lösung\n",
    "\n",
    "Die partielle Differentialgleichung können wir, wie in der Vorlesung besprochen, durch die Schreibweise der *finiten Differenzen* approximieren. Dabei verwenden wir eine Approximation **vorwärts** in der Zeit und **vorwärts** im Raum. Die Partikelpfadgleichung ist dann gegeben durch: \n",
    "\n",
    "$$\n",
    "\\frac{\\Delta{x}}{\\Delta{t}} = v_x, \\tag{2}\n",
    "$$\n",
    "\n",
    "wobei $\\Delta{}$ das totale oder absolute Differential darstellt und ausgeschrieben gegeben durch:  \n",
    "\n",
    "$$\n",
    "\\frac{x_2-x_1}{t_2-t_1}=v_x, \\tag{3}\n",
    "$$\n",
    "\n",
    "wobei $x_1$ und $x_2$ die Position des Partikel zum aktuellen und neuen Zeitpunkt und $t_1$ und $t_2$ die Zeit zum aktuellen und neuen Zeitpunkt darstellt. \n",
    "\n",
    "Nun können wir die Gleichung nach der Unbekannten $x_2$ auflösen: \n",
    "\n",
    "$$\n",
    "x_2 = v_x \\Delta{t} + x_1. \\tag{4}\n",
    "$$\n",
    "\n",
    "Diese Gleichung müssen wir nun für jeden Zeitschritt lösen und können dann die Lösung unseres Problems, die Position des Partikels mit der Zeit, für jeden Zeitschritt graphisch darstellen. Dazu müssen wir diese Schritte nacheinander in einer Schleife über die Zeit numerisch berechnen und darstellen. "
   ]
  },
  {
   "cell_type": "code",
   "execution_count": null,
   "metadata": {},
   "outputs": [],
   "source": [
    "# Numerische Loesung der GDL -------------------------------------------- %\n",
    "for it = 1:nt\n",
    "    Zeit = (it - 1) * dt\n",
    "    println(\"Time: \", Zeit)\n",
    "    if it > 1\n",
    "        Px = vx * dt + Px\n",
    "    end\n",
    "    if Px > xmax\n",
    "        Px = Px - xmax + xmin\n",
    "    end\n",
    "    if Px < xmin\n",
    "        Px = Px + xmax - xmin\n",
    "    end    \n",
    "    p = scatter([Px], [0], label=\"\", xlims=(xmin, xmax), ylims=(-1, 1),\n",
    "            xlabel=\"x\", ylabel=\"y\", title=\"Partikelpfad 1D\",            \n",
    "            marker=:circle, markersize=8,\n",
    "            markercolor=:black, markerstrokecolor=:red)    \n",
    "    annotate!(p, -0.75, 0.75, text(\"Zeit = $Zeit\", :black, 12)) \n",
    "\n",
    "    Plots.frame(anim)\n",
    "\n",
    "end"
   ]
  },
  {
   "cell_type": "markdown",
   "metadata": {},
   "source": [
    "Um die Abbildungen in einer Gifanimation zu speichern, müssen wir noch das entsprechende Gif erzeugen: "
   ]
  },
  {
   "cell_type": "code",
   "execution_count": null,
   "metadata": {},
   "outputs": [],
   "source": [
    "if save_fig == 1\n",
    "    # Write the frames to a GIF file\n",
    "    Plots.gif(anim, string( path, filename, \".gif\" ), fps = 15)\n",
    "end\n",
    "foreach(rm, filter(startswith(string(path,\"00\")), readdir(path,join=true)))"
   ]
  }
 ],
 "metadata": {
  "kernelspec": {
   "display_name": "Julia 1.11.4",
   "language": "julia",
   "name": "julia-1.11"
  },
  "language_info": {
   "file_extension": ".jl",
   "mimetype": "application/julia",
   "name": "julia",
   "version": "1.11.4"
  }
 },
 "nbformat": 4,
 "nbformat_minor": 2
}
