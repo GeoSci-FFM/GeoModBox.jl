{
 "cells": [
  {
   "cell_type": "markdown",
   "metadata": {},
   "source": [
    "# Advektionsgleichung (1D)"
   ]
  },
  {
   "cell_type": "markdown",
   "metadata": {},
   "source": [
    "Bisher haben wir die Energieerhaltungsgleichung nur ohne den Transport von Materialien (der Advektion)\n",
    "betrachtet. Häufig haben wir aber ein Problem in dem sich das Material bewegt und bestimmte Größen, wie\n",
    "z.B. die Temperatur, Dichte, etc., transportiert werden müssen (z.B. in Mantleplumes). Generell gesehen, ist die\n",
    "Mantelkonvektion ein Beispiel eines Systems, in welchem die Temperatur sowohl durch **Diffusion** (vor allem in\n",
    "den Grenzschichten) als auch **Advektion** (vor allem in Inneren) transportiert wird.\n",
    "\n",
    "Betrachten wir im Folgenden nur die **Advektion** alleine (d.h. k, κ = 0).\n",
    "\n",
    "Im 1-D Fall reduziert sich die Gleichung dadurch zur reinen Advektionsgleichung:\n",
    "\n",
    "$$\n",
    "\\frac{\\partial{T}}{\\partial{t}}=-v_x\\frac{\\partial{T}}{\\partial{x}}. \\tag{1}\n",
    "$$\n",
    "\n",
    "Diese Gleichung lässt sich durch verschiedene Diskretisierungsverfahren numerisch lösen und wir wollen\n",
    "verschiedene Verfahren programieren und auf ein bestimmtes Advektionsproblem anwenden."
   ]
  },
  {
   "cell_type": "markdown",
   "metadata": {},
   "source": [
    "Betrachten wir dazu zwei 1-D Probleme (z.B. ein horizontales Temperaturprofil) mit bestimmten Anomalien:\n",
    "\n",
    "&emsp;    • Einen Gaußchen Temperaturverlauf (ein glatter Übergang):<br>\n",
    "<img src=\"../Figures/Exercise06_gaussian.png\" alt=\"drawing\" width=\"400\"/> <br>\n",
    "\n",
    "\n",
    "&emsp;    • Eine block-förmige Temperaturanomalie (ein sehr scharfer Übergang):<br>\n",
    "<img src=\"../Figures/Exercise06_block.png\" alt=\"drawing\" width=\"400\"/> <br>\n"
   ]
  },
  {
   "cell_type": "markdown",
   "metadata": {},
   "source": [
    "Laden wir erst einmal die notwendigen Module: "
   ]
  },
  {
   "cell_type": "code",
   "execution_count": null,
   "metadata": {},
   "outputs": [],
   "source": [
    "using Plots, Interpolations # , Dierckx\n",
    "using GeoModBox.AdvectionEquation.OneD"
   ]
  },
  {
   "cell_type": "markdown",
   "metadata": {},
   "source": [
    "Definieren wir nun unsere Geometrie und die benötigten numerischen Parameter (d.h.\n",
    "Gitterauflösung, Gitter, etc.):"
   ]
  },
  {
   "cell_type": "code",
   "execution_count": null,
   "metadata": {},
   "outputs": [],
   "source": [
    "# Geometrische Konstanten ----------------------------------------------- #\n",
    "xmin    =   0                           #   [ m ]\n",
    "xmax    =   40                          #   [ m ]\n",
    "# ----------------------------------------------------------------------- #\n",
    "# Numerische Konstanten ------------------------------------------------- #\n",
    "nc      =   100                         #   Anzahl der Gitterpunkte\n",
    "Δx      =   xmax/nc                     #   Gitterlänge\n",
    "ind     =   1:nc   \n",
    "# ---\n",
    "xc      =   xmin+Δx/2:Δx:xmax-Δx/2      #   x-Koordinate\n",
    "xce    =   xmin-Δx/2:Δx:xmax+Δx/2      #   x-Koordinate\n",
    "X       =   zeros(nc)\n",
    "# ----------------------------------------------------------------------- #\n",
    "# Maximale Laufzeit des Models ------------------------------------------ #\n",
    "tmax    =   40.0                        #   [ s ]\n",
    "# ----------------------------------------------------------------------- #\n",
    "# Horizontale Geschwindigkeit ------------------------------------------- #\n",
    "vx      =   1.0                         #   [ m/s ]\n",
    "# ----------------------------------------------------------------------- #\n",
    "# Definition der Zeitschrittlänge --------------------------------------- #\n",
    "Δtfac   =   0.8                         #   Courant-Kriterium\n",
    "Δt      =   Δtfac*Δx/abs(vx)\n",
    "nt      =   ceil(Int,tmax/Δt)           #   Anzahl der Zeitschritte\n",
    "# ----------------------------------------------------------------------- #"
   ]
  },
  {
   "cell_type": "markdown",
   "metadata": {},
   "source": [
    "Nun können wir zum einen die FD-Methode wählen ('FTCS', 'upwind', 'downwind', 'lax', 'slf', 'semilag' - die\n",
    "Gleichungen und Erläuterungen dazu sind im Detail in den Folien der Vorlesung zu finden) und zum anderen\n",
    "das Anfangsprofil wählen ('block' oder 'gaussian'):"
   ]
  },
  {
   "cell_type": "code",
   "execution_count": null,
   "metadata": {},
   "outputs": [],
   "source": [
    "FD          =   (Method     = (Adv=:semilag,),)\n",
    "Ini         =   (T=:gaussian,)"
   ]
  },
  {
   "cell_type": "markdown",
   "metadata": {},
   "source": [
    "Zur Visualisierung und zum speichern der Animationsdatei muss der Speicherort festgelegt werden:"
   ]
  },
  {
   "cell_type": "code",
   "execution_count": null,
   "metadata": {},
   "outputs": [],
   "source": [
    "# Animationssettings ---------------------------------------------------- #\n",
    "path        =   string(\"./Results/\")\n",
    "anim        =   Plots.Animation(path, String[] )\n",
    "filename    =   string(\"06_1D_advection_\",Ini.T,\"_\",FD.Method.Adv)\n",
    "save_fig    =   0\n",
    "# ----------------------------------------------------------------------- #"
   ]
  },
  {
   "cell_type": "markdown",
   "metadata": {},
   "source": [
    "Falls wir die Tracer Methode verwenden wollen, müssen wir noch die Anzahl der Tracer pro Gitterlänge\n",
    "festlegen:"
   ]
  },
  {
   "cell_type": "code",
   "execution_count": null,
   "metadata": {},
   "outputs": [],
   "source": [
    "# Tracer advection method ----------------------------------------------- #\n",
    "nmx         =   3       #   Number of tracers per \"cell\"\n",
    "# ----------------------------------------------------------------------- #"
   ]
  },
  {
   "cell_type": "markdown",
   "metadata": {},
   "source": [
    "Wollen wir nun die Anfangsbedingung (d.h. das Anfangstemperaturprofil) definieren und plotten:"
   ]
  },
  {
   "cell_type": "code",
   "execution_count": null,
   "metadata": {},
   "outputs": [],
   "source": [
    "if Ini.T==:block \n",
    "    # Hintergrundtemperatur ----------------------------------------- #\n",
    "    Tb      =   1000                #   [ K ]\n",
    "    \n",
    "    # Lokalität und Intensität der Temperaturanomalie --------------- #\n",
    "    xTl     =   (xmax-xmin)/10\n",
    "    xTr     =   xTl + (xmax-xmin)/10\n",
    "    Ta      =   1500                #   [ K ]\n",
    "    \n",
    "    # Erstellung des Anfangstemperaturprofiles ---------------------- #\n",
    "    T       =   Tb.*ones(nc)        \n",
    "    T[xc.>=xTl .&& xc .<= xTr ]       .=  Ta\n",
    "    Tmin    =   minimum(T)\n",
    "    Tmax    =   maximum(T)\n",
    "    tc      =   100\n",
    "elseif Ini.T==:gaussian\n",
    "    # Gaußsche Temperature Verteilung ------------------------------- #\n",
    "    Tb      =   1000                #   Hintergrundtempertur\n",
    "    Ampl    =   500                 #   Amplitude\n",
    "    sigma   =   1                   #   Standard Abweichung\n",
    "    xcG     =   (xmax-xmin)/10      #   x-Koordinate des Maximums\n",
    "    T       =   zeros(nc)\n",
    "    @. T    =  Tb + Ampl*exp(-((xc - xcG)^2)/sigma^2)\n",
    "    \n",
    "    Tmin    =   minimum(T)\n",
    "    Tmax    =   maximum(T)\n",
    "    tc      =   Ampl\n",
    "end\n",
    "TWE             =   zeros(nc+2)\n",
    "TWE[2:end-1]    .=  T\n",
    "TWE[1]          =   T[end]\n",
    "TWE[end]        =   T[1]\n",
    "TWE2            =   zeros(nc+2)\n",
    "\n",
    "q = plot(xc, T, xlabel=\"x [m]\", ylabel=\"T [°C]\", \n",
    "        title=\"Anfangstemperatur Verteilung\", \n",
    "        markershape=:circle,label=\"\",\n",
    "        xlim=(xmin,xmax), ylim=(Tmin-10, Tmax+10))\n",
    "if save_fig==0\n",
    "    display(q)\n",
    "end\n",
    "\n",
    "if FD.Method.Adv==:tracers\n",
    "    # Gesamtanzahl der Tracer\n",
    "    nm          =   (nc)*nmx\n",
    "    # Abstand der Tracer    \n",
    "    Δmx         =   (abs(xmin)+abs(xmax))/(nm+1)\n",
    "    # x-Koordinaten der Tracer    \n",
    "    xm          =   collect(xmin+Δmx:Δmx:xmax-Δmx) .+ rand(nm).*0.5*Δmx    \n",
    "    # Temperatur auf den Tracern\n",
    "    Tm          =   zeros(nm)    \n",
    "end"
   ]
  },
  {
   "cell_type": "markdown",
   "metadata": {},
   "source": [
    "Nun können wir die Gleichungen zur Lösung der Advektionsgleichung programieren. "
   ]
  },
  {
   "cell_type": "code",
   "execution_count": null,
   "metadata": {},
   "outputs": [],
   "source": [
    "# Lösen der Advektionsgleichung --------------------------------------- #\n",
    "for i = 2:nt\n",
    "    display(string(\"Time step: \",i))\n",
    "    TWE[2:end-1]    .=  T\n",
    "    TWE[1]          =   T[end]\n",
    "    TWE[end]        =   T[1]\n",
    "    \n",
    "    if FD.Method.Adv==:FTCS        \n",
    "        T       .= \n",
    "            TWE[2:end-1] .- (vx*Δt/2.0/Δx).*(TWE[3:end].- TWE[1:end-2])\n",
    "    elseif FD.Method.Adv==:upwind\n",
    "        if vx > 0\n",
    "            T       .= \n",
    "                TWE[2:end-1] .- vx*Δt/Δx.*( TWE[2:end-1] .- TWE[1:end-2] )\n",
    "        elseif vx < 0\n",
    "            T .= \n",
    "                TWE[2:end-1] .- vx*Δt/Δx.*( TWE[3:end] .- TWE[2:end-1] ) \n",
    "        end\n",
    "    elseif FD.Method.Adv==:downwind\n",
    "        T   .= \n",
    "            TWE[2:end-1] .- vx*Δt/Δx.*( TWE[3:end] .- TWE[2:end-1] )\n",
    "    elseif FD.Method.Adv==:lax\n",
    "        T   .= ( TWE[3:end] .+ TWE[1:end-2])./2 .-\n",
    "            (vx*Δt/2/Δx) .* (TWE[3:end] .- TWE[1:end-2])\n",
    "    elseif FD.Method.Adv==:slf\n",
    "        if i==2\n",
    "            T   .= \n",
    "                TWE[2:end-1] .- vx*Δt/Δx*( TWE[3:end] .- TWE[1:end-2])\n",
    "        else\n",
    "            T   .= \n",
    "                TWE2[2:end-1] .- vx*Δt/Δx .* (TWE[3:end] .- TWE[1:end-2])\n",
    "        end\n",
    "        TWE2 .= TWE\n",
    "    elseif FD.Method.Adv==:semilag\n",
    "        X           .=  xc .- Δt*vx\n",
    "        itp_cubic   =   cubic_spline_interpolation(xce,TWE)\n",
    "        T           .=   itp_cubic.(X)\n",
    "        # spl     =   Spline1D(xcwe,TWE;k=3)\n",
    "        # T       =   spl.(X)\n",
    "        # Itp1D_Centers2Markers!(T,X,TWE,xcwe,Δx,xmin-Δx)        \n",
    "    elseif FD.Method.Adv==:tracers \n",
    "        itp_cubic   =   cubic_spline_interpolation(xce,TWE)\n",
    "        Tm          .=  itp_cubic.(xm)\n",
    "        s = plot(xm,Tm)        \n",
    "        # spl     =   Spline1D(xcwe,TWE;k=1) \n",
    "        # Tm      =   spl.(xm)        \n",
    "        #Itp1D_Centers2Markers!(Tm,xm,TWE,xcwe,Δx,xmin-Δx)\n",
    "        RK4O1D!( xm, Δt, vx, xmin, xmax )        \n",
    "        XMT         =   hcat(xm,Tm)        \n",
    "        XMT         =   sortslices(XMT,dims=1)\n",
    "        xm          .=  XMT[:,1]\n",
    "        Tm          .=  XMT[:,2]\n",
    "        plot!(s,xm,Tm)\n",
    "        display(s)\n",
    "        @show xm Tm\n",
    "        @show typeof(xm) size(xm) typeof(Tm) size(Tm)\n",
    "        itp_cubic2  =   cubic_spline_interpolation(xm,Tm) \n",
    "        # Does not work so far, since interpolations.jl does only allow regular spacing for\n",
    "        # coordinates! \n",
    "        T           .=  itp_cubic2.(xc)\n",
    "        #spl2    =   Spline1D(xm,Tm;k=1)\n",
    "        #T       =   spl2.(xc)\n",
    "        #Itp1D_Markers2Centers!( T, xc, Tm, xm, Δx, xmin)\n",
    "    end\n",
    "    \n",
    "    display(string(\"ΔT=\",((Tmax-maximum(T))/Tmax)*100))\n",
    "\n",
    "    # Darstellung des Profils\n",
    "    q = plot(xc, T, xlabel=\"x [m]\", ylabel=\"T [°C]\", \n",
    "            title=\"Anfangstemperatur Verteilung\", \n",
    "            markershape=:circle,label=\"\",\n",
    "            xlim=(xmin,xmax), ylim=(Tmin-10, Tmax+10))\n",
    "    #plot!(q,xc, T2,linstyle=:dash)\n",
    "    if FD.Method.Adv==:tracers \n",
    "        plot!(xm,Tm,markershape=:circle,label=\"\",linealpha=:0)        \n",
    "    end    \n",
    "    if save_fig == 1\n",
    "        Plots.frame(anim)\n",
    "    else\n",
    "        #display(q)\n",
    "    end\n",
    "end\n",
    "\n",
    "# Speicher Animation ---------------------------------------------------- #\n",
    "if save_fig == 1\n",
    "    # Write the frames to a GIF file\n",
    "    Plots.gif(anim, string( path, filename, \".gif\" ), fps = 15)\n",
    "    foreach(rm, filter(startswith(string(path,\"00\")), readdir(path,join=true)))\n",
    "end\n",
    "# ----------------------------------------------------------------------- #\n"
   ]
  }
 ],
 "metadata": {
  "kernelspec": {
   "display_name": "Julia 1.11.2",
   "language": "julia",
   "name": "julia-1.11"
  },
  "language_info": {
   "file_extension": ".jl",
   "mimetype": "application/julia",
   "name": "julia",
   "version": "1.11.2"
  }
 },
 "nbformat": 4,
 "nbformat_minor": 2
}
