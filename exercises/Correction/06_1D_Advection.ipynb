{
 "cells": [
  {
   "cell_type": "markdown",
   "metadata": {},
   "source": [
    "# Advektionsgleichung (1D)"
   ]
  },
  {
   "cell_type": "markdown",
   "metadata": {},
   "source": [
    "Bisher haben wir die Energieerhaltungsgleichung nur ohne den Transport von Materialien (der Advektion)\n",
    "betrachtet. Häufig haben wir aber ein Problem in dem sich das Material bewegt und bestimmte Größen, wie\n",
    "z.B. die Temperatur, Dichte, etc., transportiert werden müssen (z.B. in Mantleplumes). Generell gesehen, ist die\n",
    "Mantelkonvektion ein Beispiel eines Systems, in welchem die Temperatur sowohl durch **Diffusion** (vor allem in\n",
    "den Grenzschichten) als auch **Advektion** (vor allem in Inneren) transportiert wird.\n",
    "\n",
    "Betrachten wir im Folgenden nur die **Advektion** alleine (d.h. k, κ = 0).\n",
    "\n",
    "Im 1-D Fall reduziert sich die Gleichung dadurch zur reinen Advektionsgleichung:\n",
    "\n",
    "$$\n",
    "\\frac{\\partial{T}}{\\partial{t}}=-v_x\\frac{\\partial{T}}{\\partial{x}}. \\tag{1}\n",
    "$$\n",
    "\n",
    "Diese Gleichung lässt sich durch verschiedene Diskretisierungsverfahren numerisch lösen und wir wollen\n",
    "verschiedene Verfahren programieren und auf ein bestimmtes Advektionsproblem anwenden."
   ]
  },
  {
   "cell_type": "markdown",
   "metadata": {},
   "source": [
    "Betrachten wir dazu zwei 1-D Probleme (z.B. ein horizontales Temperaturprofil) mit bestimmten Anomalien:\n",
    "\n",
    "&emsp;    • Einen Gaußchen Temperaturverlauf (ein glatter Übergang):<br>\n",
    "<img src=\"../Figures/Exercise06_gaussian.png\" alt=\"drawing\" width=\"400\"/> <br>\n",
    "\n",
    "\n",
    "&emsp;    • Eine block-förmige Temperaturanomalie (ein sehr scharfer Übergang):<br>\n",
    "<img src=\"../Figures/Exercise06_block.png\" alt=\"drawing\" width=\"400\"/> <br>\n"
   ]
  },
  {
   "cell_type": "markdown",
   "metadata": {},
   "source": [
    "Laden wir erst einmal die notwendigen Module: "
   ]
  },
  {
   "cell_type": "code",
   "execution_count": 358,
   "metadata": {},
   "outputs": [],
   "source": [
    "using Plots, Dierckx\n",
    "using GeoModBox.AdvectionEquation.OneD"
   ]
  },
  {
   "cell_type": "markdown",
   "metadata": {},
   "source": [
    "Definieren wir nun unsere Geometrie und die benötigten numerischen Parameter (d.h.\n",
    "Gitterauflösung, Gitter, etc.):"
   ]
  },
  {
   "cell_type": "code",
   "execution_count": 359,
   "metadata": {},
   "outputs": [
    {
     "data": {
      "text/plain": [
       "125"
      ]
     },
     "metadata": {},
     "output_type": "display_data"
    }
   ],
   "source": [
    "# Geometrische Konstanten ----------------------------------------------- #\n",
    "xmin    =   0                           #   [ m ]\n",
    "xmax    =   40                          #   [ m ]\n",
    "# ----------------------------------------------------------------------- #\n",
    "# Numerische Konstanten ------------------------------------------------- #\n",
    "nc      =   100                         #   Anzahl der Gitterpunkte\n",
    "Δx      =   xmax/nc                     #   Gitterlänge\n",
    "ind     =   1:nc   \n",
    "# ---\n",
    "xc      =   xmin+Δx/2:Δx:xmax-Δx/2      #   x-Koordinate\n",
    "xcwe    =   xmin-Δx/2:Δx:xmax+Δx/2      #   x-Koordinate\n",
    "X       =   zeros(nc)\n",
    "# ----------------------------------------------------------------------- #\n",
    "# Maximale Laufzeit des Models ------------------------------------------ #\n",
    "tmax    =   40.0                        #   [ s ]\n",
    "# ----------------------------------------------------------------------- #\n",
    "# Horizontale Geschwindigkeit ------------------------------------------- #\n",
    "vx      =   1.0                         #   [ m/s ]\n",
    "# ----------------------------------------------------------------------- #\n",
    "# Definition der Zeitschrittlänge --------------------------------------- #\n",
    "Δtfac   =   0.8                         #   Courant-Kriterium\n",
    "Δt      =   Δtfac*Δx/abs(vx)\n",
    "nt      =   ceil(Int,tmax/Δt)           #   Anzahl der Zeitschritte\n",
    "# ----------------------------------------------------------------------- #"
   ]
  },
  {
   "cell_type": "markdown",
   "metadata": {},
   "source": [
    "Nun können wir zum einen die FD-Methode wählen ('FTCS', 'upwind', 'downwind', 'lax', 'slf', 'semilag' - die\n",
    "Gleichungen und Erläuterungen dazu sind im Detail in den Folien der Vorlesung zu finden) und zum anderen\n",
    "das Anfangsprofil wählen ('block' oder 'gaussian'):"
   ]
  },
  {
   "cell_type": "code",
   "execution_count": 360,
   "metadata": {},
   "outputs": [
    {
     "data": {
      "text/plain": [
       "(T = :gaussian,)"
      ]
     },
     "metadata": {},
     "output_type": "display_data"
    }
   ],
   "source": [
    "FD          =   (Method     = (Adv=:tracers,),)\n",
    "Ini         =   (T=:gaussian,)"
   ]
  },
  {
   "cell_type": "markdown",
   "metadata": {},
   "source": [
    "Zur Visualisierung und zum speichern der Animationsdatei muss der Speicherort festgelegt werden:"
   ]
  },
  {
   "cell_type": "code",
   "execution_count": 361,
   "metadata": {},
   "outputs": [
    {
     "data": {
      "text/plain": [
       "1"
      ]
     },
     "metadata": {},
     "output_type": "display_data"
    }
   ],
   "source": [
    "# Animationssettings ---------------------------------------------------- #\n",
    "path        =   string(\"./Results/\")\n",
    "anim        =   Plots.Animation(path, String[] )\n",
    "filename    =   string(\"06_1D_advection_\",Ini.T,\"_\",FD.Method.Adv)\n",
    "save_fig    =   1\n",
    "# ----------------------------------------------------------------------- #"
   ]
  },
  {
   "cell_type": "markdown",
   "metadata": {},
   "source": [
    "Falls wir die Tracer Methode verwenden wollen, müssen wir noch die Anzahl der Tracer pro Gitterlänge\n",
    "festlegen:"
   ]
  },
  {
   "cell_type": "code",
   "execution_count": 362,
   "metadata": {},
   "outputs": [
    {
     "data": {
      "text/plain": [
       "3"
      ]
     },
     "metadata": {},
     "output_type": "display_data"
    }
   ],
   "source": [
    "# Tracer advection method ----------------------------------------------- #\n",
    "nmx         =   3       #   Number of tracers per \"cell\"\n",
    "# ----------------------------------------------------------------------- #"
   ]
  },
  {
   "cell_type": "markdown",
   "metadata": {},
   "source": [
    "Wollen wir nun die Anfangsbedingung (d.h. das Anfangstemperaturprofil) definieren und plotten:"
   ]
  },
  {
   "cell_type": "code",
   "execution_count": 363,
   "metadata": {},
   "outputs": [
    {
     "data": {
      "text/plain": [
       "300-element Vector{Float64}:\n",
       " 0.0\n",
       " 0.0\n",
       " 0.0\n",
       " 0.0\n",
       " 0.0\n",
       " 0.0\n",
       " 0.0\n",
       " 0.0\n",
       " 0.0\n",
       " 0.0\n",
       " ⋮\n",
       " 0.0\n",
       " 0.0\n",
       " 0.0\n",
       " 0.0\n",
       " 0.0\n",
       " 0.0\n",
       " 0.0\n",
       " 0.0\n",
       " 0.0"
      ]
     },
     "metadata": {},
     "output_type": "display_data"
    }
   ],
   "source": [
    "if Ini.T==:block \n",
    "    # Hintergrundtemperatur ----------------------------------------- #\n",
    "    Tb      =   1000                #   [ K ]\n",
    "    \n",
    "    # Lokalität und Intensität der Temperaturanomalie --------------- #\n",
    "    xTl     =   (xmax-xmin)/10\n",
    "    xTr     =   xTl + (xmax-xmin)/10\n",
    "    Ta      =   1500                #   [ K ]\n",
    "    \n",
    "    # Erstellung des Anfangstemperaturprofiles ---------------------- #\n",
    "    T       =   Tb.*ones(nc)        \n",
    "    T[xc.>=xTl .&& xc .<= xTr ]       .=  Ta\n",
    "    Tmin    =   minimum(T)\n",
    "    Tmax    =   maximum(T)\n",
    "    tc      =   100\n",
    "elseif Ini.T==:gaussian\n",
    "    # Gaußsche Temperature Verteilung ------------------------------- #\n",
    "    Tb      =   1000                #   Hintergrundtempertur\n",
    "    Ampl    =   500                 #   Amplitude\n",
    "    sigma   =   1                   #   Standard Abweichung\n",
    "    xcG     =   (xmax-xmin)/10      #   x-Koordinate des Maximums\n",
    "    T       =   zeros(nc)\n",
    "    @. T    =  Tb + Ampl*exp(-((xc - xcG)^2)/sigma^2)\n",
    "    \n",
    "    Tmin    =   minimum(T)\n",
    "    Tmax    =   maximum(T)\n",
    "    tc      =   Ampl\n",
    "end\n",
    "TWE             =   zeros(nc+2)\n",
    "TWE[2:end-1]    .=  T\n",
    "TWE[1]          =   T[end]\n",
    "TWE[end]        =   T[1]\n",
    "TWE2            =   zeros(nc+2)\n",
    "\n",
    "q = plot(xc, T, xlabel=\"x [m]\", ylabel=\"T [°C]\", \n",
    "        title=\"Anfangstemperatur Verteilung\", \n",
    "        markershape=:circle,label=\"\",\n",
    "        xlim=(xmin,xmax), ylim=(Tmin-10, Tmax+10))\n",
    "if save_fig==0\n",
    "    display(q)\n",
    "end\n",
    "\n",
    "if FD.Method.Adv==:tracers\n",
    "    # Gesamtanzahl der Tracer\n",
    "    nm          =   (nc)*nmx\n",
    "    # Abstand der Tracer\n",
    "    Δmx         =   (abs(xmin)+abs(xmax))/(nm+1)\n",
    "    # x-Koordinaten der Tracer    \n",
    "    xm          =   collect(xmin+Δmx:Δmx:xmax-Δmx) .+ rand(nm).*0.5*Δmx\n",
    "    # Temperatur auf den Tracern\n",
    "    Tm          =   zeros(nm)    \n",
    "end"
   ]
  },
  {
   "cell_type": "markdown",
   "metadata": {},
   "source": [
    "Nun können wir die Gleichungen zur Lösung der Advektionsgleichung programieren. "
   ]
  },
  {
   "cell_type": "code",
   "execution_count": 364,
   "metadata": {},
   "outputs": [
    {
     "data": {
      "text/plain": [
       "\"Time step: 2\""
      ]
     },
     "metadata": {},
     "output_type": "display_data"
    },
    {
     "data": {
      "text/plain": [
       "\"Time step: 3\""
      ]
     },
     "metadata": {},
     "output_type": "display_data"
    },
    {
     "data": {
      "text/plain": [
       "\"Time step: 4\""
      ]
     },
     "metadata": {},
     "output_type": "display_data"
    },
    {
     "data": {
      "text/plain": [
       "\"Time step: 5\""
      ]
     },
     "metadata": {},
     "output_type": "display_data"
    },
    {
     "data": {
      "text/plain": [
       "\"Time step: 6\""
      ]
     },
     "metadata": {},
     "output_type": "display_data"
    },
    {
     "data": {
      "text/plain": [
       "\"Time step: 7\""
      ]
     },
     "metadata": {},
     "output_type": "display_data"
    },
    {
     "data": {
      "text/plain": [
       "\"Time step: 8\""
      ]
     },
     "metadata": {},
     "output_type": "display_data"
    },
    {
     "data": {
      "text/plain": [
       "\"Time step: 9\""
      ]
     },
     "metadata": {},
     "output_type": "display_data"
    },
    {
     "data": {
      "text/plain": [
       "\"Time step: 10\""
      ]
     },
     "metadata": {},
     "output_type": "display_data"
    },
    {
     "data": {
      "text/plain": [
       "\"Time step: 11\""
      ]
     },
     "metadata": {},
     "output_type": "display_data"
    },
    {
     "data": {
      "text/plain": [
       "\"Time step: 12\""
      ]
     },
     "metadata": {},
     "output_type": "display_data"
    },
    {
     "data": {
      "text/plain": [
       "\"Time step: 13\""
      ]
     },
     "metadata": {},
     "output_type": "display_data"
    },
    {
     "data": {
      "text/plain": [
       "\"Time step: 14\""
      ]
     },
     "metadata": {},
     "output_type": "display_data"
    },
    {
     "data": {
      "text/plain": [
       "\"Time step: 15\""
      ]
     },
     "metadata": {},
     "output_type": "display_data"
    },
    {
     "data": {
      "text/plain": [
       "\"Time step: 16\""
      ]
     },
     "metadata": {},
     "output_type": "display_data"
    },
    {
     "data": {
      "text/plain": [
       "\"Time step: 17\""
      ]
     },
     "metadata": {},
     "output_type": "display_data"
    },
    {
     "data": {
      "text/plain": [
       "\"Time step: 18\""
      ]
     },
     "metadata": {},
     "output_type": "display_data"
    },
    {
     "data": {
      "text/plain": [
       "\"Time step: 19\""
      ]
     },
     "metadata": {},
     "output_type": "display_data"
    },
    {
     "data": {
      "text/plain": [
       "\"Time step: 20\""
      ]
     },
     "metadata": {},
     "output_type": "display_data"
    },
    {
     "data": {
      "text/plain": [
       "\"Time step: 21\""
      ]
     },
     "metadata": {},
     "output_type": "display_data"
    },
    {
     "data": {
      "text/plain": [
       "\"Time step: 22\""
      ]
     },
     "metadata": {},
     "output_type": "display_data"
    },
    {
     "data": {
      "text/plain": [
       "\"Time step: 23\""
      ]
     },
     "metadata": {},
     "output_type": "display_data"
    },
    {
     "data": {
      "text/plain": [
       "\"Time step: 24\""
      ]
     },
     "metadata": {},
     "output_type": "display_data"
    },
    {
     "data": {
      "text/plain": [
       "\"Time step: 25\""
      ]
     },
     "metadata": {},
     "output_type": "display_data"
    },
    {
     "data": {
      "text/plain": [
       "\"Time step: 26\""
      ]
     },
     "metadata": {},
     "output_type": "display_data"
    },
    {
     "data": {
      "text/plain": [
       "\"Time step: 27\""
      ]
     },
     "metadata": {},
     "output_type": "display_data"
    },
    {
     "data": {
      "text/plain": [
       "\"Time step: 28\""
      ]
     },
     "metadata": {},
     "output_type": "display_data"
    },
    {
     "data": {
      "text/plain": [
       "\"Time step: 29\""
      ]
     },
     "metadata": {},
     "output_type": "display_data"
    },
    {
     "data": {
      "text/plain": [
       "\"Time step: 30\""
      ]
     },
     "metadata": {},
     "output_type": "display_data"
    },
    {
     "data": {
      "text/plain": [
       "\"Time step: 31\""
      ]
     },
     "metadata": {},
     "output_type": "display_data"
    },
    {
     "data": {
      "text/plain": [
       "\"Time step: 32\""
      ]
     },
     "metadata": {},
     "output_type": "display_data"
    },
    {
     "data": {
      "text/plain": [
       "\"Time step: 33\""
      ]
     },
     "metadata": {},
     "output_type": "display_data"
    },
    {
     "data": {
      "text/plain": [
       "\"Time step: 34\""
      ]
     },
     "metadata": {},
     "output_type": "display_data"
    },
    {
     "data": {
      "text/plain": [
       "\"Time step: 35\""
      ]
     },
     "metadata": {},
     "output_type": "display_data"
    },
    {
     "data": {
      "text/plain": [
       "\"Time step: 36\""
      ]
     },
     "metadata": {},
     "output_type": "display_data"
    },
    {
     "data": {
      "text/plain": [
       "\"Time step: 37\""
      ]
     },
     "metadata": {},
     "output_type": "display_data"
    },
    {
     "data": {
      "text/plain": [
       "\"Time step: 38\""
      ]
     },
     "metadata": {},
     "output_type": "display_data"
    },
    {
     "data": {
      "text/plain": [
       "\"Time step: 39\""
      ]
     },
     "metadata": {},
     "output_type": "display_data"
    },
    {
     "data": {
      "text/plain": [
       "\"Time step: 40\""
      ]
     },
     "metadata": {},
     "output_type": "display_data"
    },
    {
     "data": {
      "text/plain": [
       "\"Time step: 41\""
      ]
     },
     "metadata": {},
     "output_type": "display_data"
    },
    {
     "data": {
      "text/plain": [
       "\"Time step: 42\""
      ]
     },
     "metadata": {},
     "output_type": "display_data"
    },
    {
     "data": {
      "text/plain": [
       "\"Time step: 43\""
      ]
     },
     "metadata": {},
     "output_type": "display_data"
    },
    {
     "data": {
      "text/plain": [
       "\"Time step: 44\""
      ]
     },
     "metadata": {},
     "output_type": "display_data"
    },
    {
     "data": {
      "text/plain": [
       "\"Time step: 45\""
      ]
     },
     "metadata": {},
     "output_type": "display_data"
    },
    {
     "data": {
      "text/plain": [
       "\"Time step: 46\""
      ]
     },
     "metadata": {},
     "output_type": "display_data"
    },
    {
     "data": {
      "text/plain": [
       "\"Time step: 47\""
      ]
     },
     "metadata": {},
     "output_type": "display_data"
    },
    {
     "data": {
      "text/plain": [
       "\"Time step: 48\""
      ]
     },
     "metadata": {},
     "output_type": "display_data"
    },
    {
     "data": {
      "text/plain": [
       "\"Time step: 49\""
      ]
     },
     "metadata": {},
     "output_type": "display_data"
    },
    {
     "data": {
      "text/plain": [
       "\"Time step: 50\""
      ]
     },
     "metadata": {},
     "output_type": "display_data"
    },
    {
     "data": {
      "text/plain": [
       "\"Time step: 51\""
      ]
     },
     "metadata": {},
     "output_type": "display_data"
    },
    {
     "data": {
      "text/plain": [
       "\"Time step: 52\""
      ]
     },
     "metadata": {},
     "output_type": "display_data"
    },
    {
     "data": {
      "text/plain": [
       "\"Time step: 53\""
      ]
     },
     "metadata": {},
     "output_type": "display_data"
    },
    {
     "data": {
      "text/plain": [
       "\"Time step: 54\""
      ]
     },
     "metadata": {},
     "output_type": "display_data"
    },
    {
     "data": {
      "text/plain": [
       "\"Time step: 55\""
      ]
     },
     "metadata": {},
     "output_type": "display_data"
    },
    {
     "data": {
      "text/plain": [
       "\"Time step: 56\""
      ]
     },
     "metadata": {},
     "output_type": "display_data"
    },
    {
     "data": {
      "text/plain": [
       "\"Time step: 57\""
      ]
     },
     "metadata": {},
     "output_type": "display_data"
    },
    {
     "data": {
      "text/plain": [
       "\"Time step: 58\""
      ]
     },
     "metadata": {},
     "output_type": "display_data"
    },
    {
     "data": {
      "text/plain": [
       "\"Time step: 59\""
      ]
     },
     "metadata": {},
     "output_type": "display_data"
    },
    {
     "data": {
      "text/plain": [
       "\"Time step: 60\""
      ]
     },
     "metadata": {},
     "output_type": "display_data"
    },
    {
     "data": {
      "text/plain": [
       "\"Time step: 61\""
      ]
     },
     "metadata": {},
     "output_type": "display_data"
    },
    {
     "data": {
      "text/plain": [
       "\"Time step: 62\""
      ]
     },
     "metadata": {},
     "output_type": "display_data"
    },
    {
     "data": {
      "text/plain": [
       "\"Time step: 63\""
      ]
     },
     "metadata": {},
     "output_type": "display_data"
    },
    {
     "data": {
      "text/plain": [
       "\"Time step: 64\""
      ]
     },
     "metadata": {},
     "output_type": "display_data"
    },
    {
     "data": {
      "text/plain": [
       "\"Time step: 65\""
      ]
     },
     "metadata": {},
     "output_type": "display_data"
    },
    {
     "data": {
      "text/plain": [
       "\"Time step: 66\""
      ]
     },
     "metadata": {},
     "output_type": "display_data"
    },
    {
     "data": {
      "text/plain": [
       "\"Time step: 67\""
      ]
     },
     "metadata": {},
     "output_type": "display_data"
    },
    {
     "data": {
      "text/plain": [
       "\"Time step: 68\""
      ]
     },
     "metadata": {},
     "output_type": "display_data"
    },
    {
     "data": {
      "text/plain": [
       "\"Time step: 69\""
      ]
     },
     "metadata": {},
     "output_type": "display_data"
    },
    {
     "data": {
      "text/plain": [
       "\"Time step: 70\""
      ]
     },
     "metadata": {},
     "output_type": "display_data"
    },
    {
     "data": {
      "text/plain": [
       "\"Time step: 71\""
      ]
     },
     "metadata": {},
     "output_type": "display_data"
    },
    {
     "data": {
      "text/plain": [
       "\"Time step: 72\""
      ]
     },
     "metadata": {},
     "output_type": "display_data"
    },
    {
     "data": {
      "text/plain": [
       "\"Time step: 73\""
      ]
     },
     "metadata": {},
     "output_type": "display_data"
    },
    {
     "data": {
      "text/plain": [
       "\"Time step: 74\""
      ]
     },
     "metadata": {},
     "output_type": "display_data"
    },
    {
     "data": {
      "text/plain": [
       "\"Time step: 75\""
      ]
     },
     "metadata": {},
     "output_type": "display_data"
    },
    {
     "data": {
      "text/plain": [
       "\"Time step: 76\""
      ]
     },
     "metadata": {},
     "output_type": "display_data"
    },
    {
     "data": {
      "text/plain": [
       "\"Time step: 77\""
      ]
     },
     "metadata": {},
     "output_type": "display_data"
    },
    {
     "data": {
      "text/plain": [
       "\"Time step: 78\""
      ]
     },
     "metadata": {},
     "output_type": "display_data"
    },
    {
     "data": {
      "text/plain": [
       "\"Time step: 79\""
      ]
     },
     "metadata": {},
     "output_type": "display_data"
    },
    {
     "data": {
      "text/plain": [
       "\"Time step: 80\""
      ]
     },
     "metadata": {},
     "output_type": "display_data"
    },
    {
     "data": {
      "text/plain": [
       "\"Time step: 81\""
      ]
     },
     "metadata": {},
     "output_type": "display_data"
    },
    {
     "data": {
      "text/plain": [
       "\"Time step: 82\""
      ]
     },
     "metadata": {},
     "output_type": "display_data"
    },
    {
     "data": {
      "text/plain": [
       "\"Time step: 83\""
      ]
     },
     "metadata": {},
     "output_type": "display_data"
    },
    {
     "data": {
      "text/plain": [
       "\"Time step: 84\""
      ]
     },
     "metadata": {},
     "output_type": "display_data"
    },
    {
     "data": {
      "text/plain": [
       "\"Time step: 85\""
      ]
     },
     "metadata": {},
     "output_type": "display_data"
    },
    {
     "data": {
      "text/plain": [
       "\"Time step: 86\""
      ]
     },
     "metadata": {},
     "output_type": "display_data"
    },
    {
     "data": {
      "text/plain": [
       "\"Time step: 87\""
      ]
     },
     "metadata": {},
     "output_type": "display_data"
    },
    {
     "data": {
      "text/plain": [
       "\"Time step: 88\""
      ]
     },
     "metadata": {},
     "output_type": "display_data"
    },
    {
     "data": {
      "text/plain": [
       "\"Time step: 89\""
      ]
     },
     "metadata": {},
     "output_type": "display_data"
    },
    {
     "data": {
      "text/plain": [
       "\"Time step: 90\""
      ]
     },
     "metadata": {},
     "output_type": "display_data"
    },
    {
     "data": {
      "text/plain": [
       "\"Time step: 91\""
      ]
     },
     "metadata": {},
     "output_type": "display_data"
    },
    {
     "data": {
      "text/plain": [
       "\"Time step: 92\""
      ]
     },
     "metadata": {},
     "output_type": "display_data"
    },
    {
     "data": {
      "text/plain": [
       "\"Time step: 93\""
      ]
     },
     "metadata": {},
     "output_type": "display_data"
    },
    {
     "data": {
      "text/plain": [
       "\"Time step: 94\""
      ]
     },
     "metadata": {},
     "output_type": "display_data"
    },
    {
     "data": {
      "text/plain": [
       "\"Time step: 95\""
      ]
     },
     "metadata": {},
     "output_type": "display_data"
    },
    {
     "data": {
      "text/plain": [
       "\"Time step: 96\""
      ]
     },
     "metadata": {},
     "output_type": "display_data"
    },
    {
     "data": {
      "text/plain": [
       "\"Time step: 97\""
      ]
     },
     "metadata": {},
     "output_type": "display_data"
    },
    {
     "data": {
      "text/plain": [
       "\"Time step: 98\""
      ]
     },
     "metadata": {},
     "output_type": "display_data"
    },
    {
     "data": {
      "text/plain": [
       "\"Time step: 99\""
      ]
     },
     "metadata": {},
     "output_type": "display_data"
    },
    {
     "data": {
      "text/plain": [
       "\"Time step: 100\""
      ]
     },
     "metadata": {},
     "output_type": "display_data"
    },
    {
     "data": {
      "text/plain": [
       "\"Time step: 101\""
      ]
     },
     "metadata": {},
     "output_type": "display_data"
    },
    {
     "data": {
      "text/plain": [
       "\"Time step: 102\""
      ]
     },
     "metadata": {},
     "output_type": "display_data"
    },
    {
     "data": {
      "text/plain": [
       "\"Time step: 103\""
      ]
     },
     "metadata": {},
     "output_type": "display_data"
    },
    {
     "data": {
      "text/plain": [
       "\"Time step: 104\""
      ]
     },
     "metadata": {},
     "output_type": "display_data"
    },
    {
     "data": {
      "text/plain": [
       "\"Time step: 105\""
      ]
     },
     "metadata": {},
     "output_type": "display_data"
    },
    {
     "data": {
      "text/plain": [
       "\"Time step: 106\""
      ]
     },
     "metadata": {},
     "output_type": "display_data"
    },
    {
     "data": {
      "text/plain": [
       "\"Time step: 107\""
      ]
     },
     "metadata": {},
     "output_type": "display_data"
    },
    {
     "data": {
      "text/plain": [
       "\"Time step: 108\""
      ]
     },
     "metadata": {},
     "output_type": "display_data"
    },
    {
     "data": {
      "text/plain": [
       "\"Time step: 109\""
      ]
     },
     "metadata": {},
     "output_type": "display_data"
    },
    {
     "data": {
      "text/plain": [
       "\"Time step: 110\""
      ]
     },
     "metadata": {},
     "output_type": "display_data"
    },
    {
     "data": {
      "text/plain": [
       "\"Time step: 111\""
      ]
     },
     "metadata": {},
     "output_type": "display_data"
    },
    {
     "data": {
      "text/plain": [
       "\"Time step: 112\""
      ]
     },
     "metadata": {},
     "output_type": "display_data"
    },
    {
     "data": {
      "text/plain": [
       "\"Time step: 113\""
      ]
     },
     "metadata": {},
     "output_type": "display_data"
    },
    {
     "data": {
      "text/plain": [
       "\"Time step: 114\""
      ]
     },
     "metadata": {},
     "output_type": "display_data"
    },
    {
     "data": {
      "text/plain": [
       "\"Time step: 115\""
      ]
     },
     "metadata": {},
     "output_type": "display_data"
    },
    {
     "data": {
      "text/plain": [
       "\"Time step: 116\""
      ]
     },
     "metadata": {},
     "output_type": "display_data"
    },
    {
     "data": {
      "text/plain": [
       "\"Time step: 117\""
      ]
     },
     "metadata": {},
     "output_type": "display_data"
    },
    {
     "data": {
      "text/plain": [
       "\"Time step: 118\""
      ]
     },
     "metadata": {},
     "output_type": "display_data"
    },
    {
     "data": {
      "text/plain": [
       "\"Time step: 119\""
      ]
     },
     "metadata": {},
     "output_type": "display_data"
    },
    {
     "data": {
      "text/plain": [
       "\"Time step: 120\""
      ]
     },
     "metadata": {},
     "output_type": "display_data"
    },
    {
     "data": {
      "text/plain": [
       "\"Time step: 121\""
      ]
     },
     "metadata": {},
     "output_type": "display_data"
    },
    {
     "data": {
      "text/plain": [
       "\"Time step: 122\""
      ]
     },
     "metadata": {},
     "output_type": "display_data"
    },
    {
     "data": {
      "text/plain": [
       "\"Time step: 123\""
      ]
     },
     "metadata": {},
     "output_type": "display_data"
    },
    {
     "data": {
      "text/plain": [
       "\"Time step: 124\""
      ]
     },
     "metadata": {},
     "output_type": "display_data"
    },
    {
     "data": {
      "text/plain": [
       "\"Time step: 125\""
      ]
     },
     "metadata": {},
     "output_type": "display_data"
    },
    {
     "name": "stderr",
     "output_type": "stream",
     "text": [
      "┌ Info: Saved animation to /home/fuchs/progs/src/julia/scripts/GeoModBox_p.jl/exercises/Correction/Results/06_1D_advection_gaussian_tracers.gif\n",
      "└ @ Plots /home/fuchs/.julia/packages/Plots/Ec1L1/src/animation.jl:156\n"
     ]
    }
   ],
   "source": [
    "# Lösen der Advektionsgleichung --------------------------------------- #\n",
    "for i = 2:nt\n",
    "    display(string(\"Time step: \",i))\n",
    "    TWE[2:end-1]    .=  T\n",
    "    TWE[1]          =   T[end]\n",
    "    TWE[end]        =   T[1]\n",
    "    \n",
    "    if FD.Method.Adv==:FTCS        \n",
    "        T       .= \n",
    "            TWE[2:end-1] .- (vx*Δt/2.0/Δx).*(TWE[3:end].- TWE[1:end-2])\n",
    "    elseif FD.Method.Adv==:upwind\n",
    "        if vx > 0\n",
    "            T       .= \n",
    "                TWE[2:end-1] .- vx*Δt/Δx.*( TWE[2:end-1] .- TWE[1:end-2] )\n",
    "        elseif vx < 0\n",
    "            T .= \n",
    "                TWE[2:end-1] .- vx*Δt/Δx.*( TWE[3:end] .- TWE[2:end-1] ) \n",
    "        end\n",
    "    elseif FD.Method.Adv==:downwind\n",
    "        T   .= \n",
    "            TWE[2:end-1] .- vx*Δt/Δx.*( TWE[3:end] .- TWE[2:end-1] )\n",
    "    elseif FD.Method.Adv==:lax\n",
    "        T   .= ( TWE[3:end] .+ TWE[1:end-2])./2 .-\n",
    "            (vx*Δt/2/Δx) .* (TWE[3:end] .- TWE[1:end-2])\n",
    "    elseif FD.Method.Adv==:slf\n",
    "        if i==2\n",
    "            T   .= \n",
    "                TWE[2:end-1] .- vx*Δt/Δx*( TWE[3:end] .- TWE[1:end-2])\n",
    "        else\n",
    "            T   .= \n",
    "                TWE2[2:end-1] .- vx*Δt/Δx .* (TWE[3:end] .- TWE[1:end-2])\n",
    "        end\n",
    "        TWE2 .= TWE\n",
    "    elseif FD.Method.Adv==:semilag\n",
    "        X       .=  xc .- Δt*vx\n",
    "        #spl     =   Spline1D(xcwe,TWE;k=3)\n",
    "        #T       =   spl.(X)\n",
    "        Itp1D_Centers2Markers!(T,X,TWE,xcwe,Δx,xmin-Δx)\n",
    "    elseif FD.Method.Adv==:tracers \n",
    "        spl     =   Spline1D(xcwe,TWE;k=1) \n",
    "        Tm      =   spl.(xm)        \n",
    "        #Itp1D_Centers2Markers!(Tm,xm,TWE,xcwe,Δx,xmin-Δx)\n",
    "        RK4O1D!( xm, Δt, vx, xmin, xmax )\n",
    "        XMT     =   hcat(xm,Tm)        \n",
    "        XMT     =   sortslices(XMT,dims=1)\n",
    "        xm      .=  XMT[:,1]\n",
    "        Tm      .=  XMT[:,2]\n",
    "        spl2    =   Spline1D(xm,Tm;k=1)\n",
    "        T       =   spl2.(xc)\n",
    "        #Itp1D_Markers2Centers!( T, xc, Tm, xm, Δx, xmin)\n",
    "    end\n",
    "    \n",
    "    # Darstellung des Profils\n",
    "    q = plot(xc, T, xlabel=\"x [m]\", ylabel=\"T [°C]\", \n",
    "            title=\"Anfangstemperatur Verteilung\", \n",
    "            markershape=:circle,label=\"\",\n",
    "            xlim=(xmin,xmax), ylim=(Tmin-10, Tmax+10))\n",
    "    if FD.Method.Adv==:tracers \n",
    "        plot!(xm,Tm,markershape=:circle,label=\"\",linealpha=:0)        \n",
    "    end\n",
    "    if save_fig == 1\n",
    "        Plots.frame(anim)\n",
    "    else\n",
    "        display(q)\n",
    "    end\n",
    "end\n",
    "\n",
    "# Speicher Animation ---------------------------------------------------- #\n",
    "if save_fig == 1\n",
    "    # Write the frames to a GIF file\n",
    "    Plots.gif(anim, string( path, filename, \".gif\" ), fps = 15)\n",
    "    foreach(rm, filter(startswith(string(path,\"00\")), readdir(path,join=true)))\n",
    "end\n",
    "# ----------------------------------------------------------------------- #\n"
   ]
  }
 ],
 "metadata": {
  "kernelspec": {
   "display_name": "Julia 1.11.2",
   "language": "julia",
   "name": "julia-1.11"
  },
  "language_info": {
   "file_extension": ".jl",
   "mimetype": "application/julia",
   "name": "julia",
   "version": "1.11.2"
  }
 },
 "nbformat": 4,
 "nbformat_minor": 2
}
