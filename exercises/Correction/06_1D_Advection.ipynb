{
 "cells": [
  {
   "cell_type": "markdown",
   "metadata": {},
   "source": [
    "# Advektionsgleichung (1D)"
   ]
  },
  {
   "cell_type": "markdown",
   "metadata": {},
   "source": [
    "Bisher haben wir die Energieerhaltungsgleichung nur ohne den Transport von Materialien (der Advektion)\n",
    "betrachtet. Häufig haben wir aber ein Problem in dem sich das Material bewegt und bestimmte Größen, wie\n",
    "z.B. die Temperatur, Dichte, etc., transportiert werden müssen (z.B. in Mantleplumes). Generell gesehen, ist die\n",
    "Mantelkonvektion ein Beispiel eines Systems, in welchem die Temperatur sowohl durch **Diffusion** (vor allem in\n",
    "den Grenzschichten) als auch **Advektion** (vor allem in Inneren) transportiert wird.\n",
    "\n",
    "Betrachten wir im Folgenden nur die **Advektion** alleine (d.h. k, κ = 0).\n",
    "\n",
    "Im 1-D Fall reduziert sich die Gleichung dadurch zur reinen Advektionsgleichung:\n",
    "\n",
    "$$\n",
    "\\frac{\\partial{T}}{\\partial{t}}=-v_x\\frac{\\partial{T}}{\\partial{x}}. \\tag{1}\n",
    "$$\n",
    "\n",
    "Diese Gleichung lässt sich durch verschiedene Diskretisierungsverfahren numerisch lösen und wir wollen\n",
    "verschiedene Verfahren programieren und auf ein bestimmtes Advektionsproblem anwenden."
   ]
  },
  {
   "cell_type": "markdown",
   "metadata": {},
   "source": [
    "Betrachten wir dazu zwei 1-D Probleme (z.B. ein horizontales Temperaturprofil) mit bestimmten Anomalien:\n",
    "\n",
    "&emsp;    • Einen Gaußchen Temperaturverlauf (ein glatter Übergang):<br>\n",
    "<img src=\"../Figures/Exercise06_gaussian.png\" alt=\"drawing\" width=\"400\"/> <br>\n",
    "\n",
    "\n",
    "&emsp;    • Eine block-förmige Temperaturanomalie (ein sehr scharfer Übergang):<br>\n",
    "<img src=\"../Figures/Exercise06_block.png\" alt=\"drawing\" width=\"400\"/> <br>\n"
   ]
  },
  {
   "cell_type": "markdown",
   "metadata": {},
   "source": [
    "Laden wir erst einmal die notwendigen Module: "
   ]
  },
  {
   "cell_type": "code",
   "execution_count": 152,
   "metadata": {},
   "outputs": [],
   "source": [
    "using Plots, Interpolations # , Dierckx\n",
    "using GeoModBox.AdvectionEquation.OneD"
   ]
  },
  {
   "cell_type": "markdown",
   "metadata": {},
   "source": [
    "Definieren wir nun unsere Geometrie und die benötigten numerischen Parameter (d.h.\n",
    "Gitterauflösung, Gitter, etc.):"
   ]
  },
  {
   "cell_type": "code",
   "execution_count": 153,
   "metadata": {},
   "outputs": [
    {
     "data": {
      "text/plain": [
       "125"
      ]
     },
     "metadata": {},
     "output_type": "display_data"
    }
   ],
   "source": [
    "# Geometrische Konstanten ----------------------------------------------- #\n",
    "xmin    =   0                           #   [ m ]\n",
    "xmax    =   40                          #   [ m ]\n",
    "# ----------------------------------------------------------------------- #\n",
    "# Numerische Konstanten ------------------------------------------------- #\n",
    "nc      =   100                         #   Anzahl der Gitterpunkte\n",
    "Δx      =   xmax/nc                     #   Gitterlänge\n",
    "ind     =   1:nc   \n",
    "# ---\n",
    "xc      =   xmin+Δx/2:Δx:xmax-Δx/2      #   x-Koordinate\n",
    "xcwe    =   xmin-Δx/2:Δx:xmax+Δx/2      #   x-Koordinate\n",
    "X       =   zeros(nc)\n",
    "# ----------------------------------------------------------------------- #\n",
    "# Maximale Laufzeit des Models ------------------------------------------ #\n",
    "tmax    =   40.0                        #   [ s ]\n",
    "# ----------------------------------------------------------------------- #\n",
    "# Horizontale Geschwindigkeit ------------------------------------------- #\n",
    "vx      =   1.0                         #   [ m/s ]\n",
    "# ----------------------------------------------------------------------- #\n",
    "# Definition der Zeitschrittlänge --------------------------------------- #\n",
    "Δtfac   =   0.8                         #   Courant-Kriterium\n",
    "Δt      =   Δtfac*Δx/abs(vx)\n",
    "nt      =   ceil(Int,tmax/Δt)           #   Anzahl der Zeitschritte\n",
    "# ----------------------------------------------------------------------- #"
   ]
  },
  {
   "cell_type": "markdown",
   "metadata": {},
   "source": [
    "Nun können wir zum einen die FD-Methode wählen ('FTCS', 'upwind', 'downwind', 'lax', 'slf', 'semilag' - die\n",
    "Gleichungen und Erläuterungen dazu sind im Detail in den Folien der Vorlesung zu finden) und zum anderen\n",
    "das Anfangsprofil wählen ('block' oder 'gaussian'):"
   ]
  },
  {
   "cell_type": "code",
   "execution_count": 154,
   "metadata": {},
   "outputs": [
    {
     "data": {
      "text/plain": [
       "(T = :gaussian,)"
      ]
     },
     "metadata": {},
     "output_type": "display_data"
    }
   ],
   "source": [
    "FD          =   (Method     = (Adv=:semilag,),)\n",
    "Ini         =   (T=:gaussian,)"
   ]
  },
  {
   "cell_type": "markdown",
   "metadata": {},
   "source": [
    "Zur Visualisierung und zum speichern der Animationsdatei muss der Speicherort festgelegt werden:"
   ]
  },
  {
   "cell_type": "code",
   "execution_count": 155,
   "metadata": {},
   "outputs": [
    {
     "data": {
      "text/plain": [
       "0"
      ]
     },
     "metadata": {},
     "output_type": "display_data"
    }
   ],
   "source": [
    "# Animationssettings ---------------------------------------------------- #\n",
    "path        =   string(\"./Results/\")\n",
    "anim        =   Plots.Animation(path, String[] )\n",
    "filename    =   string(\"06_1D_advection_\",Ini.T,\"_\",FD.Method.Adv)\n",
    "save_fig    =   0\n",
    "# ----------------------------------------------------------------------- #"
   ]
  },
  {
   "cell_type": "markdown",
   "metadata": {},
   "source": [
    "Falls wir die Tracer Methode verwenden wollen, müssen wir noch die Anzahl der Tracer pro Gitterlänge\n",
    "festlegen:"
   ]
  },
  {
   "cell_type": "code",
   "execution_count": 156,
   "metadata": {},
   "outputs": [
    {
     "data": {
      "text/plain": [
       "3"
      ]
     },
     "metadata": {},
     "output_type": "display_data"
    }
   ],
   "source": [
    "# Tracer advection method ----------------------------------------------- #\n",
    "nmx         =   3       #   Number of tracers per \"cell\"\n",
    "# ----------------------------------------------------------------------- #"
   ]
  },
  {
   "cell_type": "markdown",
   "metadata": {},
   "source": [
    "Wollen wir nun die Anfangsbedingung (d.h. das Anfangstemperaturprofil) definieren und plotten:"
   ]
  },
  {
   "cell_type": "code",
   "execution_count": 157,
   "metadata": {},
   "outputs": [
    {
     "data": {
      "image/png": "[encoded data removed]",
      "image/svg+xml": [
       "<?xml version=\"1.0\" encoding=\"utf-8\"?>\n",
       "<svg xmlns=\"http://www.w3.org/2000/svg\" xmlns:xlink=\"http://www.w3.org/1999/xlink\" width=\"600\" height=\"400\" viewBox=\"0 0 2400 1600\">\n",
       "<defs>\n",
       "  <clipPath id=\"clip030\">\n",
       "    <rect x=\"0\" y=\"0\" width=\"2400\" height=\"1600\"/>\n",
       "  </clipPath>\n",
       "</defs>\n",
       "<path clip-path=\"url(#clip030)\" d=\"M0 1600 L2400 1600 L2400 0 L0 0  Z\" fill=\"#ffffff\" fill-rule=\"evenodd\" fill-opacity=\"1\"/>\n",
       "<defs>\n",
       "  <clipPath id=\"clip031\">\n",
       "    <rect x=\"480\" y=\"0\" width=\"1681\" height=\"1600\"/>\n",
       "  </clipPath>\n",
       "</defs>\n",
       "<path clip-path=\"url(#clip030)\" d=\"M262.551 1423.18 L2352.76 1423.18 L2352.76 123.472 L262.551 123.472  Z\" fill=\"#ffffff\" fill-rule=\"evenodd\" fill-opacity=\"1\"/>\n",
       "<defs>\n",
       "  <clipPath id=\"clip032\">\n",
       "    <rect x=\"262\" y=\"123\" width=\"2091\" height=\"1301\"/>\n",
       "  </clipPath>\n",
       "</defs>\n",
       "<polyline clip-path=\"url(#clip032)\" style=\"stroke:#000000; stroke-linecap:round; stroke-linejoin:round; stroke-width:2; stroke-opacity:0.1; fill:none\" points=\"262.551,1423.18 262.551,123.472 \"/>\n",
       "<polyline clip-path=\"url(#clip032)\" style=\"stroke:#000000; stroke-linecap:round; stroke-linejoin:round; stroke-width:2; stroke-opacity:0.1; fill:none\" points=\"785.102,1423.18 785.102,123.472 \"/>\n",
       "<polyline clip-path=\"url(#clip032)\" style=\"stroke:#000000; stroke-linecap:round; stroke-linejoin:round; stroke-width:2; stroke-opacity:0.1; fill:none\" points=\"1307.65,1423.18 1307.65,123.472 \"/>\n",
       "<polyline clip-path=\"url(#clip032)\" style=\"stroke:#000000; stroke-linecap:round; stroke-linejoin:round; stroke-width:2; stroke-opacity:0.1; fill:none\" points=\"1830.2,1423.18 1830.2,123.472 \"/>\n",
       "<polyline clip-path=\"url(#clip032)\" style=\"stroke:#000000; stroke-linecap:round; stroke-linejoin:round; stroke-width:2; stroke-opacity:0.1; fill:none\" points=\"2352.76,1423.18 2352.76,123.472 \"/>\n",
       "<polyline clip-path=\"url(#clip032)\" style=\"stroke:#000000; stroke-linecap:round; stroke-linejoin:round; stroke-width:2; stroke-opacity:0.1; fill:none\" points=\"262.551,1397.21 2352.76,1397.21 \"/>\n",
       "<polyline clip-path=\"url(#clip032)\" style=\"stroke:#000000; stroke-linecap:round; stroke-linejoin:round; stroke-width:2; stroke-opacity:0.1; fill:none\" points=\"262.551,1137.47 2352.76,1137.47 \"/>\n",
       "<polyline clip-path=\"url(#clip032)\" style=\"stroke:#000000; stroke-linecap:round; stroke-linejoin:round; stroke-width:2; stroke-opacity:0.1; fill:none\" points=\"262.551,877.733 2352.76,877.733 \"/>\n",
       "<polyline clip-path=\"url(#clip032)\" style=\"stroke:#000000; stroke-linecap:round; stroke-linejoin:round; stroke-width:2; stroke-opacity:0.1; fill:none\" points=\"262.551,617.997 2352.76,617.997 \"/>\n",
       "<polyline clip-path=\"url(#clip032)\" style=\"stroke:#000000; stroke-linecap:round; stroke-linejoin:round; stroke-width:2; stroke-opacity:0.1; fill:none\" points=\"262.551,358.26 2352.76,358.26 \"/>\n",
       "<polyline clip-path=\"url(#clip030)\" style=\"stroke:#000000; stroke-linecap:round; stroke-linejoin:round; stroke-width:4; stroke-opacity:1; fill:none\" points=\"262.551,1423.18 2352.76,1423.18 \"/>\n",
       "<polyline clip-path=\"url(#clip030)\" style=\"stroke:#000000; stroke-linecap:round; stroke-linejoin:round; stroke-width:4; stroke-opacity:1; fill:none\" points=\"262.551,1423.18 262.551,1404.28 \"/>\n",
       "<polyline clip-path=\"url(#clip030)\" style=\"stroke:#000000; stroke-linecap:round; stroke-linejoin:round; stroke-width:4; stroke-opacity:1; fill:none\" points=\"785.102,1423.18 785.102,1404.28 \"/>\n",
       "<polyline clip-path=\"url(#clip030)\" style=\"stroke:#000000; stroke-linecap:round; stroke-linejoin:round; stroke-width:4; stroke-opacity:1; fill:none\" points=\"1307.65,1423.18 1307.65,1404.28 \"/>\n",
       "<polyline clip-path=\"url(#clip030)\" style=\"stroke:#000000; stroke-linecap:round; stroke-linejoin:round; stroke-width:4; stroke-opacity:1; fill:none\" points=\"1830.2,1423.18 1830.2,1404.28 \"/>\n",
       "<polyline clip-path=\"url(#clip030)\" style=\"stroke:#000000; stroke-linecap:round; stroke-linejoin:round; stroke-width:4; stroke-opacity:1; fill:none\" points=\"2352.76,1423.18 2352.76,1404.28 \"/>\n",
       "<path clip-path=\"url(#clip030)\" d=\"M262.551 1454.1 Q258.94 1454.1 257.111 1457.66 Q255.306 1461.2 255.306 1468.33 Q255.306 1475.44 257.111 1479.01 Q258.94 1482.55 262.551 1482.55 Q266.185 1482.55 267.991 1479.01 Q269.82 1475.44 269.82 1468.33 Q269.82 1461.2 267.991 1457.66 Q266.185 1454.1 262.551 1454.1 M262.551 1450.39 Q268.361 1450.39 271.417 1455 Q274.496 1459.58 274.496 1468.33 Q274.496 1477.06 271.417 1481.67 Q268.361 1486.25 262.551 1486.25 Q256.741 1486.25 253.662 1481.67 Q250.607 1477.06 250.607 1468.33 Q250.607 1459.58 253.662 1455 Q256.741 1450.39 262.551 1450.39 Z\" fill=\"#000000\" fill-rule=\"nonzero\" fill-opacity=\"1\" /><path clip-path=\"url(#clip030)\" d=\"M759.79 1481.64 L767.429 1481.64 L767.429 1455.28 L759.119 1456.95 L759.119 1452.69 L767.383 1451.02 L772.058 1451.02 L772.058 1481.64 L779.697 1481.64 L779.697 1485.58 L759.79 1485.58 L759.79 1481.64 Z\" fill=\"#000000\" fill-rule=\"nonzero\" fill-opacity=\"1\" /><path clip-path=\"url(#clip030)\" d=\"M799.142 1454.1 Q795.531 1454.1 793.702 1457.66 Q791.896 1461.2 791.896 1468.33 Q791.896 1475.44 793.702 1479.01 Q795.531 1482.55 799.142 1482.55 Q802.776 1482.55 804.581 1479.01 Q806.41 1475.44 806.41 1468.33 Q806.41 1461.2 804.581 1457.66 Q802.776 1454.1 799.142 1454.1 M799.142 1450.39 Q804.952 1450.39 808.007 1455 Q811.086 1459.58 811.086 1468.33 Q811.086 1477.06 808.007 1481.67 Q804.952 1486.25 799.142 1486.25 Q793.332 1486.25 790.253 1481.67 Q787.197 1477.06 787.197 1468.33 Q787.197 1459.58 790.253 1455 Q793.332 1450.39 799.142 1450.39 Z\" fill=\"#000000\" fill-rule=\"nonzero\" fill-opacity=\"1\" /><path clip-path=\"url(#clip030)\" d=\"M1286.43 1481.64 L1302.75 1481.64 L1302.75 1485.58 L1280.8 1485.58 L1280.8 1481.64 Q1283.46 1478.89 1288.05 1474.26 Q1292.65 1469.61 1293.83 1468.27 Q1296.08 1465.74 1296.96 1464.01 Q1297.86 1462.25 1297.86 1460.56 Q1297.86 1457.8 1295.92 1456.07 Q1294 1454.33 1290.89 1454.33 Q1288.7 1454.33 1286.24 1455.09 Q1283.81 1455.86 1281.03 1457.41 L1281.03 1452.69 Q1283.86 1451.55 1286.31 1450.97 Q1288.76 1450.39 1290.8 1450.39 Q1296.17 1450.39 1299.37 1453.08 Q1302.56 1455.77 1302.56 1460.26 Q1302.56 1462.39 1301.75 1464.31 Q1300.96 1466.2 1298.86 1468.8 Q1298.28 1469.47 1295.18 1472.69 Q1292.07 1475.88 1286.43 1481.64 Z\" fill=\"#000000\" fill-rule=\"nonzero\" fill-opacity=\"1\" /><path clip-path=\"url(#clip030)\" d=\"M1322.56 1454.1 Q1318.95 1454.1 1317.12 1457.66 Q1315.32 1461.2 1315.32 1468.33 Q1315.32 1475.44 1317.12 1479.01 Q1318.95 1482.55 1322.56 1482.55 Q1326.2 1482.55 1328 1479.01 Q1329.83 1475.44 1329.83 1468.33 Q1329.83 1461.2 1328 1457.66 Q1326.2 1454.1 1322.56 1454.1 M1322.56 1450.39 Q1328.37 1450.39 1331.43 1455 Q1334.51 1459.58 1334.51 1468.33 Q1334.51 1477.06 1331.43 1481.67 Q1328.37 1486.25 1322.56 1486.25 Q1316.75 1486.25 1313.67 1481.67 Q1310.62 1477.06 1310.62 1468.33 Q1310.62 1459.58 1313.67 1455 Q1316.75 1450.39 1322.56 1450.39 Z\" fill=\"#000000\" fill-rule=\"nonzero\" fill-opacity=\"1\" /><path clip-path=\"url(#clip030)\" d=\"M1819.05 1466.95 Q1822.4 1467.66 1824.28 1469.93 Q1826.18 1472.2 1826.18 1475.53 Q1826.18 1480.65 1822.66 1483.45 Q1819.14 1486.25 1812.66 1486.25 Q1810.48 1486.25 1808.17 1485.81 Q1805.88 1485.39 1803.42 1484.54 L1803.42 1480.02 Q1805.37 1481.16 1807.68 1481.74 Q1810 1482.32 1812.52 1482.32 Q1816.92 1482.32 1819.21 1480.58 Q1821.52 1478.84 1821.52 1475.53 Q1821.52 1472.48 1819.37 1470.77 Q1817.24 1469.03 1813.42 1469.03 L1809.39 1469.03 L1809.39 1465.19 L1813.61 1465.19 Q1817.06 1465.19 1818.89 1463.82 Q1820.71 1462.43 1820.71 1459.84 Q1820.71 1457.18 1818.82 1455.77 Q1816.94 1454.33 1813.42 1454.33 Q1811.5 1454.33 1809.3 1454.75 Q1807.1 1455.16 1804.46 1456.04 L1804.46 1451.88 Q1807.13 1451.14 1809.44 1450.77 Q1811.78 1450.39 1813.84 1450.39 Q1819.16 1450.39 1822.26 1452.83 Q1825.37 1455.23 1825.37 1459.35 Q1825.37 1462.22 1823.72 1464.21 Q1822.08 1466.18 1819.05 1466.95 Z\" fill=\"#000000\" fill-rule=\"nonzero\" fill-opacity=\"1\" /><path clip-path=\"url(#clip030)\" d=\"M1845.04 1454.1 Q1841.43 1454.1 1839.6 1457.66 Q1837.8 1461.2 1837.8 1468.33 Q1837.8 1475.44 1839.6 1479.01 Q1841.43 1482.55 1845.04 1482.55 Q1848.68 1482.55 1850.48 1479.01 Q1852.31 1475.44 1852.31 1468.33 Q1852.31 1461.2 1850.48 1457.66 Q1848.68 1454.1 1845.04 1454.1 M1845.04 1450.39 Q1850.85 1450.39 1853.91 1455 Q1856.99 1459.58 1856.99 1468.33 Q1856.99 1477.06 1853.91 1481.67 Q1850.85 1486.25 1845.04 1486.25 Q1839.23 1486.25 1836.15 1481.67 Q1833.1 1477.06 1833.1 1468.33 Q1833.1 1459.58 1836.15 1455 Q1839.23 1450.39 1845.04 1450.39 Z\" fill=\"#000000\" fill-rule=\"nonzero\" fill-opacity=\"1\" /><path clip-path=\"url(#clip030)\" d=\"M2340.93 1455.09 L2329.12 1473.54 L2340.93 1473.54 L2340.93 1455.09 M2339.7 1451.02 L2345.58 1451.02 L2345.58 1473.54 L2350.51 1473.54 L2350.51 1477.43 L2345.58 1477.43 L2345.58 1485.58 L2340.93 1485.58 L2340.93 1477.43 L2325.33 1477.43 L2325.33 1472.92 L2339.7 1451.02 Z\" fill=\"#000000\" fill-rule=\"nonzero\" fill-opacity=\"1\" /><path clip-path=\"url(#clip030)\" d=\"M2368.24 1454.1 Q2364.63 1454.1 2362.8 1457.66 Q2361 1461.2 2361 1468.33 Q2361 1475.44 2362.8 1479.01 Q2364.63 1482.55 2368.24 1482.55 Q2371.88 1482.55 2373.68 1479.01 Q2375.51 1475.44 2375.51 1468.33 Q2375.51 1461.2 2373.68 1457.66 Q2371.88 1454.1 2368.24 1454.1 M2368.24 1450.39 Q2374.05 1450.39 2377.11 1455 Q2380.19 1459.58 2380.19 1468.33 Q2380.19 1477.06 2377.11 1481.67 Q2374.05 1486.25 2368.24 1486.25 Q2362.43 1486.25 2359.35 1481.67 Q2356.3 1477.06 2356.3 1468.33 Q2356.3 1459.58 2359.35 1455 Q2362.43 1450.39 2368.24 1450.39 Z\" fill=\"#000000\" fill-rule=\"nonzero\" fill-opacity=\"1\" /><path clip-path=\"url(#clip030)\" d=\"M1258.46 1532.4 L1245.57 1549.74 L1259.13 1568.04 L1252.22 1568.04 L1241.85 1554.04 L1231.47 1568.04 L1224.57 1568.04 L1238.41 1549.39 L1225.74 1532.4 L1232.65 1532.4 L1242.1 1545.1 L1251.56 1532.4 L1258.46 1532.4 Z\" fill=\"#000000\" fill-rule=\"nonzero\" fill-opacity=\"1\" /><path clip-path=\"url(#clip030)\" d=\"M1287.59 1518.52 L1301.08 1518.52 L1301.08 1523.07 L1293.44 1523.07 L1293.44 1572.09 L1301.08 1572.09 L1301.08 1576.64 L1287.59 1576.64 L1287.59 1518.52 Z\" fill=\"#000000\" fill-rule=\"nonzero\" fill-opacity=\"1\" /><path clip-path=\"url(#clip030)\" d=\"M1341.31 1539.24 Q1343.51 1535.29 1346.56 1533.41 Q1349.62 1531.54 1353.76 1531.54 Q1359.33 1531.54 1362.35 1535.45 Q1365.37 1539.33 1365.37 1546.53 L1365.37 1568.04 L1359.49 1568.04 L1359.49 1546.72 Q1359.49 1541.59 1357.67 1539.11 Q1355.86 1536.63 1352.13 1536.63 Q1347.58 1536.63 1344.94 1539.65 Q1342.3 1542.68 1342.3 1547.9 L1342.3 1568.04 L1336.41 1568.04 L1336.41 1546.72 Q1336.41 1541.56 1334.6 1539.11 Q1332.78 1536.63 1328.99 1536.63 Q1324.51 1536.63 1321.87 1539.68 Q1319.22 1542.71 1319.22 1547.9 L1319.22 1568.04 L1313.33 1568.04 L1313.33 1532.4 L1319.22 1532.4 L1319.22 1537.93 Q1321.23 1534.66 1324.03 1533.1 Q1326.83 1531.54 1330.68 1531.54 Q1334.56 1531.54 1337.27 1533.51 Q1340.01 1535.48 1341.31 1539.24 Z\" fill=\"#000000\" fill-rule=\"nonzero\" fill-opacity=\"1\" /><path clip-path=\"url(#clip030)\" d=\"M1390.74 1518.52 L1390.74 1576.64 L1377.25 1576.64 L1377.25 1572.09 L1384.85 1572.09 L1384.85 1523.07 L1377.25 1523.07 L1377.25 1518.52 L1390.74 1518.52 Z\" fill=\"#000000\" fill-rule=\"nonzero\" fill-opacity=\"1\" /><polyline clip-path=\"url(#clip030)\" style=\"stroke:#000000; stroke-linecap:round; stroke-linejoin:round; stroke-width:4; stroke-opacity:1; fill:none\" points=\"262.551,1423.18 262.551,123.472 \"/>\n",
       "<polyline clip-path=\"url(#clip030)\" style=\"stroke:#000000; stroke-linecap:round; stroke-linejoin:round; stroke-width:4; stroke-opacity:1; fill:none\" points=\"262.551,1397.21 281.449,1397.21 \"/>\n",
       "<polyline clip-path=\"url(#clip030)\" style=\"stroke:#000000; stroke-linecap:round; stroke-linejoin:round; stroke-width:4; stroke-opacity:1; fill:none\" points=\"262.551,1137.47 281.449,1137.47 \"/>\n",
       "<polyline clip-path=\"url(#clip030)\" style=\"stroke:#000000; stroke-linecap:round; stroke-linejoin:round; stroke-width:4; stroke-opacity:1; fill:none\" points=\"262.551,877.733 281.449,877.733 \"/>\n",
       "<polyline clip-path=\"url(#clip030)\" style=\"stroke:#000000; stroke-linecap:round; stroke-linejoin:round; stroke-width:4; stroke-opacity:1; fill:none\" points=\"262.551,617.997 281.449,617.997 \"/>\n",
       "<polyline clip-path=\"url(#clip030)\" style=\"stroke:#000000; stroke-linecap:round; stroke-linejoin:round; stroke-width:4; stroke-opacity:1; fill:none\" points=\"262.551,358.26 281.449,358.26 \"/>\n",
       "<path clip-path=\"url(#clip030)\" d=\"M114.931 1410.55 L122.57 1410.55 L122.57 1384.19 L114.26 1385.85 L114.26 1381.59 L122.524 1379.93 L127.2 1379.93 L127.2 1410.55 L134.839 1410.55 L134.839 1414.49 L114.931 1414.49 L114.931 1410.55 Z\" fill=\"#000000\" fill-rule=\"nonzero\" fill-opacity=\"1\" /><path clip-path=\"url(#clip030)\" d=\"M154.283 1383 Q150.672 1383 148.843 1386.57 Q147.038 1390.11 147.038 1397.24 Q147.038 1404.35 148.843 1407.91 Q150.672 1411.45 154.283 1411.45 Q157.917 1411.45 159.723 1407.91 Q161.552 1404.35 161.552 1397.24 Q161.552 1390.11 159.723 1386.57 Q157.917 1383 154.283 1383 M154.283 1379.3 Q160.093 1379.3 163.149 1383.91 Q166.227 1388.49 166.227 1397.24 Q166.227 1405.97 163.149 1410.57 Q160.093 1415.16 154.283 1415.16 Q148.473 1415.16 145.394 1410.57 Q142.339 1405.97 142.339 1397.24 Q142.339 1388.49 145.394 1383.91 Q148.473 1379.3 154.283 1379.3 Z\" fill=\"#000000\" fill-rule=\"nonzero\" fill-opacity=\"1\" /><path clip-path=\"url(#clip030)\" d=\"M184.445 1383 Q180.834 1383 179.005 1386.57 Q177.2 1390.11 177.2 1397.24 Q177.2 1404.35 179.005 1407.91 Q180.834 1411.45 184.445 1411.45 Q188.079 1411.45 189.885 1407.91 Q191.713 1404.35 191.713 1397.24 Q191.713 1390.11 189.885 1386.57 Q188.079 1383 184.445 1383 M184.445 1379.3 Q190.255 1379.3 193.311 1383.91 Q196.389 1388.49 196.389 1397.24 Q196.389 1405.97 193.311 1410.57 Q190.255 1415.16 184.445 1415.16 Q178.635 1415.16 175.556 1410.57 Q172.501 1405.97 172.501 1397.24 Q172.501 1388.49 175.556 1383.91 Q178.635 1379.3 184.445 1379.3 Z\" fill=\"#000000\" fill-rule=\"nonzero\" fill-opacity=\"1\" /><path clip-path=\"url(#clip030)\" d=\"M214.607 1383 Q210.996 1383 209.167 1386.57 Q207.362 1390.11 207.362 1397.24 Q207.362 1404.35 209.167 1407.91 Q210.996 1411.45 214.607 1411.45 Q218.241 1411.45 220.047 1407.91 Q221.875 1404.35 221.875 1397.24 Q221.875 1390.11 220.047 1386.57 Q218.241 1383 214.607 1383 M214.607 1379.3 Q220.417 1379.3 223.473 1383.91 Q226.551 1388.49 226.551 1397.24 Q226.551 1405.97 223.473 1410.57 Q220.417 1415.16 214.607 1415.16 Q208.797 1415.16 205.718 1410.57 Q202.662 1405.97 202.662 1397.24 Q202.662 1388.49 205.718 1383.91 Q208.797 1379.3 214.607 1379.3 Z\" fill=\"#000000\" fill-rule=\"nonzero\" fill-opacity=\"1\" /><path clip-path=\"url(#clip030)\" d=\"M114.931 1150.81 L122.57 1150.81 L122.57 1124.45 L114.26 1126.12 L114.26 1121.86 L122.524 1120.19 L127.2 1120.19 L127.2 1150.81 L134.839 1150.81 L134.839 1154.75 L114.931 1154.75 L114.931 1150.81 Z\" fill=\"#000000\" fill-rule=\"nonzero\" fill-opacity=\"1\" /><path clip-path=\"url(#clip030)\" d=\"M145.093 1150.81 L152.732 1150.81 L152.732 1124.45 L144.422 1126.12 L144.422 1121.86 L152.686 1120.19 L157.362 1120.19 L157.362 1150.81 L165.001 1150.81 L165.001 1154.75 L145.093 1154.75 L145.093 1150.81 Z\" fill=\"#000000\" fill-rule=\"nonzero\" fill-opacity=\"1\" /><path clip-path=\"url(#clip030)\" d=\"M184.445 1123.27 Q180.834 1123.27 179.005 1126.83 Q177.2 1130.37 177.2 1137.5 Q177.2 1144.61 179.005 1148.18 Q180.834 1151.72 184.445 1151.72 Q188.079 1151.72 189.885 1148.18 Q191.713 1144.61 191.713 1137.5 Q191.713 1130.37 189.885 1126.83 Q188.079 1123.27 184.445 1123.27 M184.445 1119.56 Q190.255 1119.56 193.311 1124.17 Q196.389 1128.75 196.389 1137.5 Q196.389 1146.23 193.311 1150.84 Q190.255 1155.42 184.445 1155.42 Q178.635 1155.42 175.556 1150.84 Q172.501 1146.23 172.501 1137.5 Q172.501 1128.75 175.556 1124.17 Q178.635 1119.56 184.445 1119.56 Z\" fill=\"#000000\" fill-rule=\"nonzero\" fill-opacity=\"1\" /><path clip-path=\"url(#clip030)\" d=\"M214.607 1123.27 Q210.996 1123.27 209.167 1126.83 Q207.362 1130.37 207.362 1137.5 Q207.362 1144.61 209.167 1148.18 Q210.996 1151.72 214.607 1151.72 Q218.241 1151.72 220.047 1148.18 Q221.875 1144.61 221.875 1137.5 Q221.875 1130.37 220.047 1126.83 Q218.241 1123.27 214.607 1123.27 M214.607 1119.56 Q220.417 1119.56 223.473 1124.17 Q226.551 1128.75 226.551 1137.5 Q226.551 1146.23 223.473 1150.84 Q220.417 1155.42 214.607 1155.42 Q208.797 1155.42 205.718 1150.84 Q202.662 1146.23 202.662 1137.5 Q202.662 1128.75 205.718 1124.17 Q208.797 1119.56 214.607 1119.56 Z\" fill=\"#000000\" fill-rule=\"nonzero\" fill-opacity=\"1\" /><path clip-path=\"url(#clip030)\" d=\"M114.931 891.078 L122.57 891.078 L122.57 864.712 L114.26 866.379 L114.26 862.12 L122.524 860.453 L127.2 860.453 L127.2 891.078 L134.839 891.078 L134.839 895.013 L114.931 895.013 L114.931 891.078 Z\" fill=\"#000000\" fill-rule=\"nonzero\" fill-opacity=\"1\" /><path clip-path=\"url(#clip030)\" d=\"M148.311 891.078 L164.63 891.078 L164.63 895.013 L142.686 895.013 L142.686 891.078 Q145.348 888.323 149.931 883.694 Q154.538 879.041 155.718 877.698 Q157.964 875.175 158.843 873.439 Q159.746 871.68 159.746 869.99 Q159.746 867.236 157.802 865.499 Q155.88 863.763 152.778 863.763 Q150.579 863.763 148.126 864.527 Q145.695 865.291 142.917 866.842 L142.917 862.12 Q145.741 860.986 148.195 860.407 Q150.649 859.828 152.686 859.828 Q158.056 859.828 161.251 862.513 Q164.445 865.199 164.445 869.689 Q164.445 871.819 163.635 873.74 Q162.848 875.638 160.741 878.231 Q160.163 878.902 157.061 882.12 Q153.959 885.314 148.311 891.078 Z\" fill=\"#000000\" fill-rule=\"nonzero\" fill-opacity=\"1\" /><path clip-path=\"url(#clip030)\" d=\"M184.445 863.532 Q180.834 863.532 179.005 867.097 Q177.2 870.638 177.2 877.768 Q177.2 884.874 179.005 888.439 Q180.834 891.981 184.445 891.981 Q188.079 891.981 189.885 888.439 Q191.713 884.874 191.713 877.768 Q191.713 870.638 189.885 867.097 Q188.079 863.532 184.445 863.532 M184.445 859.828 Q190.255 859.828 193.311 864.435 Q196.389 869.018 196.389 877.768 Q196.389 886.495 193.311 891.101 Q190.255 895.684 184.445 895.684 Q178.635 895.684 175.556 891.101 Q172.501 886.495 172.501 877.768 Q172.501 869.018 175.556 864.435 Q178.635 859.828 184.445 859.828 Z\" fill=\"#000000\" fill-rule=\"nonzero\" fill-opacity=\"1\" /><path clip-path=\"url(#clip030)\" d=\"M214.607 863.532 Q210.996 863.532 209.167 867.097 Q207.362 870.638 207.362 877.768 Q207.362 884.874 209.167 888.439 Q210.996 891.981 214.607 891.981 Q218.241 891.981 220.047 888.439 Q221.875 884.874 221.875 877.768 Q221.875 870.638 220.047 867.097 Q218.241 863.532 214.607 863.532 M214.607 859.828 Q220.417 859.828 223.473 864.435 Q226.551 869.018 226.551 877.768 Q226.551 886.495 223.473 891.101 Q220.417 895.684 214.607 895.684 Q208.797 895.684 205.718 891.101 Q202.662 886.495 202.662 877.768 Q202.662 869.018 205.718 864.435 Q208.797 859.828 214.607 859.828 Z\" fill=\"#000000\" fill-rule=\"nonzero\" fill-opacity=\"1\" /><path clip-path=\"url(#clip030)\" d=\"M114.931 631.342 L122.57 631.342 L122.57 604.976 L114.26 606.643 L114.26 602.383 L122.524 600.717 L127.2 600.717 L127.2 631.342 L134.839 631.342 L134.839 635.277 L114.931 635.277 L114.931 631.342 Z\" fill=\"#000000\" fill-rule=\"nonzero\" fill-opacity=\"1\" /><path clip-path=\"url(#clip030)\" d=\"M158.45 616.643 Q161.806 617.36 163.681 619.629 Q165.579 621.897 165.579 625.23 Q165.579 630.346 162.061 633.147 Q158.542 635.948 152.061 635.948 Q149.885 635.948 147.57 635.508 Q145.279 635.092 142.825 634.235 L142.825 629.721 Q144.769 630.855 147.084 631.434 Q149.399 632.013 151.922 632.013 Q156.32 632.013 158.612 630.277 Q160.927 628.541 160.927 625.23 Q160.927 622.175 158.774 620.462 Q156.644 618.726 152.825 618.726 L148.797 618.726 L148.797 614.883 L153.01 614.883 Q156.459 614.883 158.288 613.518 Q160.116 612.129 160.116 609.536 Q160.116 606.874 158.218 605.462 Q156.343 604.027 152.825 604.027 Q150.903 604.027 148.704 604.444 Q146.505 604.86 143.866 605.74 L143.866 601.573 Q146.529 600.832 148.843 600.462 Q151.181 600.092 153.241 600.092 Q158.565 600.092 161.667 602.522 Q164.769 604.93 164.769 609.05 Q164.769 611.92 163.126 613.911 Q161.482 615.879 158.45 616.643 Z\" fill=\"#000000\" fill-rule=\"nonzero\" fill-opacity=\"1\" /><path clip-path=\"url(#clip030)\" d=\"M184.445 603.795 Q180.834 603.795 179.005 607.36 Q177.2 610.902 177.2 618.031 Q177.2 625.138 179.005 628.703 Q180.834 632.244 184.445 632.244 Q188.079 632.244 189.885 628.703 Q191.713 625.138 191.713 618.031 Q191.713 610.902 189.885 607.36 Q188.079 603.795 184.445 603.795 M184.445 600.092 Q190.255 600.092 193.311 604.698 Q196.389 609.281 196.389 618.031 Q196.389 626.758 193.311 631.365 Q190.255 635.948 184.445 635.948 Q178.635 635.948 175.556 631.365 Q172.501 626.758 172.501 618.031 Q172.501 609.281 175.556 604.698 Q178.635 600.092 184.445 600.092 Z\" fill=\"#000000\" fill-rule=\"nonzero\" fill-opacity=\"1\" /><path clip-path=\"url(#clip030)\" d=\"M214.607 603.795 Q210.996 603.795 209.167 607.36 Q207.362 610.902 207.362 618.031 Q207.362 625.138 209.167 628.703 Q210.996 632.244 214.607 632.244 Q218.241 632.244 220.047 628.703 Q221.875 625.138 221.875 618.031 Q221.875 610.902 220.047 607.36 Q218.241 603.795 214.607 603.795 M214.607 600.092 Q220.417 600.092 223.473 604.698 Q226.551 609.281 226.551 618.031 Q226.551 626.758 223.473 631.365 Q220.417 635.948 214.607 635.948 Q208.797 635.948 205.718 631.365 Q202.662 626.758 202.662 618.031 Q202.662 609.281 205.718 604.698 Q208.797 600.092 214.607 600.092 Z\" fill=\"#000000\" fill-rule=\"nonzero\" fill-opacity=\"1\" /><path clip-path=\"url(#clip030)\" d=\"M114.931 371.605 L122.57 371.605 L122.57 345.239 L114.26 346.906 L114.26 342.647 L122.524 340.98 L127.2 340.98 L127.2 371.605 L134.839 371.605 L134.839 375.54 L114.931 375.54 L114.931 371.605 Z\" fill=\"#000000\" fill-rule=\"nonzero\" fill-opacity=\"1\" /><path clip-path=\"url(#clip030)\" d=\"M157.13 345.054 L145.325 363.503 L157.13 363.503 L157.13 345.054 M155.903 340.98 L161.783 340.98 L161.783 363.503 L166.714 363.503 L166.714 367.392 L161.783 367.392 L161.783 375.54 L157.13 375.54 L157.13 367.392 L141.529 367.392 L141.529 362.878 L155.903 340.98 Z\" fill=\"#000000\" fill-rule=\"nonzero\" fill-opacity=\"1\" /><path clip-path=\"url(#clip030)\" d=\"M184.445 344.059 Q180.834 344.059 179.005 347.624 Q177.2 351.165 177.2 358.295 Q177.2 365.401 179.005 368.966 Q180.834 372.508 184.445 372.508 Q188.079 372.508 189.885 368.966 Q191.713 365.401 191.713 358.295 Q191.713 351.165 189.885 347.624 Q188.079 344.059 184.445 344.059 M184.445 340.355 Q190.255 340.355 193.311 344.962 Q196.389 349.545 196.389 358.295 Q196.389 367.022 193.311 371.628 Q190.255 376.211 184.445 376.211 Q178.635 376.211 175.556 371.628 Q172.501 367.022 172.501 358.295 Q172.501 349.545 175.556 344.962 Q178.635 340.355 184.445 340.355 Z\" fill=\"#000000\" fill-rule=\"nonzero\" fill-opacity=\"1\" /><path clip-path=\"url(#clip030)\" d=\"M214.607 344.059 Q210.996 344.059 209.167 347.624 Q207.362 351.165 207.362 358.295 Q207.362 365.401 209.167 368.966 Q210.996 372.508 214.607 372.508 Q218.241 372.508 220.047 368.966 Q221.875 365.401 221.875 358.295 Q221.875 351.165 220.047 347.624 Q218.241 344.059 214.607 344.059 M214.607 340.355 Q220.417 340.355 223.473 344.962 Q226.551 349.545 226.551 358.295 Q226.551 367.022 223.473 371.628 Q220.417 376.211 214.607 376.211 Q208.797 376.211 205.718 371.628 Q202.662 367.022 202.662 358.295 Q202.662 349.545 205.718 344.962 Q208.797 340.355 214.607 340.355 Z\" fill=\"#000000\" fill-rule=\"nonzero\" fill-opacity=\"1\" /><path clip-path=\"url(#clip030)\" d=\"M16.4842 865.374 L16.4842 825.175 L21.895 825.175 L21.895 842.044 L64.0042 842.044 L64.0042 848.505 L21.895 848.505 L21.895 865.374 L16.4842 865.374 Z\" fill=\"#000000\" fill-rule=\"nonzero\" fill-opacity=\"1\" /><path clip-path=\"url(#clip030)\" d=\"M14.479 799.043 L14.479 785.548 L19.0304 785.548 L19.0304 793.187 L68.0464 793.187 L68.0464 785.548 L72.5979 785.548 L72.5979 799.043 L14.479 799.043 Z\" fill=\"#000000\" fill-rule=\"nonzero\" fill-opacity=\"1\" /><path clip-path=\"url(#clip030)\" d=\"M19.7307 762.918 Q19.7307 765.464 21.5131 767.215 Q23.2636 768.965 25.8099 768.965 Q28.3244 768.965 30.0749 767.215 Q31.7937 765.464 31.7937 762.918 Q31.7937 760.372 30.0749 758.621 Q28.3244 756.871 25.8099 756.871 Q23.2955 756.871 21.5131 758.653 Q19.7307 760.404 19.7307 762.918 M15.6248 762.918 Q15.6248 760.881 16.4205 759.003 Q17.1844 757.125 18.6485 755.757 Q20.0808 754.293 21.895 753.56 Q23.7092 752.828 25.8099 752.828 Q30.0113 752.828 32.9395 755.788 Q35.8359 758.717 35.8359 762.982 Q35.8359 767.279 32.9713 770.143 Q30.1068 773.008 25.8099 773.008 Q21.5449 773.008 18.5848 770.079 Q15.6248 767.151 15.6248 762.918 Z\" fill=\"#000000\" fill-rule=\"nonzero\" fill-opacity=\"1\" /><path clip-path=\"url(#clip030)\" d=\"M20.1444 704.64 L26.9239 704.64 Q23.9002 707.887 22.4043 711.579 Q20.9083 715.239 20.9083 719.377 Q20.9083 727.525 25.9054 731.853 Q30.8707 736.182 40.2919 736.182 Q49.6813 736.182 54.6784 731.853 Q59.6436 727.525 59.6436 719.377 Q59.6436 715.239 58.1477 711.579 Q56.6518 707.887 53.6281 704.64 L60.3439 704.64 Q62.6355 708.014 63.7814 711.801 Q64.9272 715.557 64.9272 719.759 Q64.9272 730.548 58.3387 736.755 Q51.7183 742.962 40.2919 742.962 Q28.8336 742.962 22.2451 736.755 Q15.6248 730.548 15.6248 719.759 Q15.6248 715.494 16.7706 711.738 Q17.8846 707.95 20.1444 704.64 Z\" fill=\"#000000\" fill-rule=\"nonzero\" fill-opacity=\"1\" /><path clip-path=\"url(#clip030)\" d=\"M14.479 681.278 L72.5979 681.278 L72.5979 694.773 L68.0464 694.773 L68.0464 687.166 L19.0304 687.166 L19.0304 694.773 L14.479 694.773 L14.479 681.278 Z\" fill=\"#000000\" fill-rule=\"nonzero\" fill-opacity=\"1\" /><path clip-path=\"url(#clip030)\" d=\"M709.74 20.1573 L698.641 50.2555 L720.88 50.2555 L709.74 20.1573 M705.122 12.096 L714.399 12.096 L737.448 72.576 L728.941 72.576 L723.432 57.061 L696.17 57.061 L690.66 72.576 L682.032 72.576 L705.122 12.096 Z\" fill=\"#000000\" fill-rule=\"nonzero\" fill-opacity=\"1\" /><path clip-path=\"url(#clip030)\" d=\"M783.669 45.1919 L783.669 72.576 L776.215 72.576 L776.215 45.4349 Q776.215 38.994 773.704 35.7938 Q771.192 32.5936 766.169 32.5936 Q760.133 32.5936 756.65 36.4419 Q753.166 40.2903 753.166 46.9338 L753.166 72.576 L745.672 72.576 L745.672 27.2059 L753.166 27.2059 L753.166 34.2544 Q755.839 30.163 759.445 28.1376 Q763.091 26.1121 767.83 26.1121 Q775.648 26.1121 779.659 30.9732 Q783.669 35.7938 783.669 45.1919 Z\" fill=\"#000000\" fill-rule=\"nonzero\" fill-opacity=\"1\" /><path clip-path=\"url(#clip030)\" d=\"M821.505 9.54393 L821.505 15.7418 L814.375 15.7418 Q810.365 15.7418 808.785 17.3622 Q807.245 18.9825 807.245 23.1955 L807.245 27.2059 L819.52 27.2059 L819.52 32.9987 L807.245 32.9987 L807.245 72.576 L799.751 72.576 L799.751 32.9987 L792.622 32.9987 L792.622 27.2059 L799.751 27.2059 L799.751 24.0462 Q799.751 16.471 803.275 13.0277 Q806.8 9.54393 814.456 9.54393 L821.505 9.54393 Z\" fill=\"#000000\" fill-rule=\"nonzero\" fill-opacity=\"1\" /><path clip-path=\"url(#clip030)\" d=\"M848.362 49.7694 Q839.329 49.7694 835.845 51.8354 Q832.361 53.9013 832.361 58.8839 Q832.361 62.8538 834.954 65.2034 Q837.587 67.5124 842.083 67.5124 Q848.281 67.5124 852.008 63.1374 Q855.775 58.7219 855.775 51.4303 L855.775 49.7694 L848.362 49.7694 M863.229 46.6907 L863.229 72.576 L855.775 72.576 L855.775 65.6895 Q853.223 69.8214 849.415 71.8063 Q845.607 73.7508 840.098 73.7508 Q833.131 73.7508 828.999 69.8619 Q824.907 65.9325 824.907 59.3701 Q824.907 51.7138 830.011 47.825 Q835.156 43.9361 845.324 43.9361 L855.775 43.9361 L855.775 43.2069 Q855.775 38.0623 852.372 35.2672 Q849.01 32.4315 842.893 32.4315 Q839.004 32.4315 835.318 33.3632 Q831.632 34.295 828.229 36.1584 L828.229 29.2718 Q832.32 27.692 836.169 26.9223 Q840.017 26.1121 843.663 26.1121 Q853.507 26.1121 858.368 31.2163 Q863.229 36.3204 863.229 46.6907 Z\" fill=\"#000000\" fill-rule=\"nonzero\" fill-opacity=\"1\" /><path clip-path=\"url(#clip030)\" d=\"M916.296 45.1919 L916.296 72.576 L908.842 72.576 L908.842 45.4349 Q908.842 38.994 906.33 35.7938 Q903.819 32.5936 898.796 32.5936 Q892.76 32.5936 889.276 36.4419 Q885.792 40.2903 885.792 46.9338 L885.792 72.576 L878.298 72.576 L878.298 27.2059 L885.792 27.2059 L885.792 34.2544 Q888.466 30.163 892.071 28.1376 Q895.717 26.1121 900.457 26.1121 Q908.275 26.1121 912.285 30.9732 Q916.296 35.7938 916.296 45.1919 Z\" fill=\"#000000\" fill-rule=\"nonzero\" fill-opacity=\"1\" /><path clip-path=\"url(#clip030)\" d=\"M961.018 49.3643 Q961.018 41.2625 957.655 36.8065 Q954.334 32.3505 948.298 32.3505 Q942.303 32.3505 938.94 36.8065 Q935.619 41.2625 935.619 49.3643 Q935.619 57.4256 938.94 61.8816 Q942.303 66.3376 948.298 66.3376 Q954.334 66.3376 957.655 61.8816 Q961.018 57.4256 961.018 49.3643 M968.471 66.9452 Q968.471 78.5308 963.327 84.1616 Q958.182 89.8329 947.569 89.8329 Q943.639 89.8329 940.156 89.2252 Q936.672 88.6581 933.391 87.4428 L933.391 80.1917 Q936.672 81.9741 939.872 82.8248 Q943.072 83.6755 946.394 83.6755 Q953.726 83.6755 957.372 79.8271 Q961.018 76.0193 961.018 68.282 L961.018 64.5957 Q958.709 68.6061 955.103 70.5911 Q951.498 72.576 946.475 72.576 Q938.13 72.576 933.026 66.2161 Q927.922 59.8562 927.922 49.3643 Q927.922 38.832 933.026 32.472 Q938.13 26.1121 946.475 26.1121 Q951.498 26.1121 955.103 28.0971 Q958.709 30.082 961.018 34.0924 L961.018 27.2059 L968.471 27.2059 L968.471 66.9452 Z\" fill=\"#000000\" fill-rule=\"nonzero\" fill-opacity=\"1\" /><path clip-path=\"url(#clip030)\" d=\"M1012.75 28.5427 L1012.75 35.5912 Q1009.59 33.9709 1006.19 33.1607 Q1002.78 32.3505 999.137 32.3505 Q993.587 32.3505 990.792 34.0519 Q988.037 35.7533 988.037 39.156 Q988.037 41.7486 990.022 43.2475 Q992.007 44.7058 998.002 46.0426 L1000.55 46.6097 Q1008.49 48.3111 1011.82 51.4303 Q1015.18 54.509 1015.18 60.0587 Q1015.18 66.3781 1010.16 70.0644 Q1005.17 73.7508 996.423 73.7508 Q992.777 73.7508 988.807 73.0216 Q984.878 72.3329 980.503 70.9151 L980.503 63.2184 Q984.634 65.3654 988.645 66.4591 Q992.655 67.5124 996.585 67.5124 Q1001.85 67.5124 1004.69 65.73 Q1007.52 63.9071 1007.52 60.6258 Q1007.52 57.5877 1005.46 55.9673 Q1003.43 54.3469 996.504 52.8481 L993.911 52.2405 Q986.984 50.7821 983.905 47.7845 Q980.827 44.7463 980.827 39.4801 Q980.827 33.0797 985.364 29.5959 Q989.901 26.1121 998.245 26.1121 Q1002.38 26.1121 1006.02 26.7198 Q1009.67 27.3274 1012.75 28.5427 Z\" fill=\"#000000\" fill-rule=\"nonzero\" fill-opacity=\"1\" /><path clip-path=\"url(#clip030)\" d=\"M1034.42 14.324 L1034.42 27.2059 L1049.77 27.2059 L1049.77 32.9987 L1034.42 32.9987 L1034.42 57.6282 Q1034.42 63.1779 1035.92 64.7578 Q1037.46 66.3376 1042.12 66.3376 L1049.77 66.3376 L1049.77 72.576 L1042.12 72.576 Q1033.49 72.576 1030.21 69.3758 Q1026.93 66.1351 1026.93 57.6282 L1026.93 32.9987 L1021.46 32.9987 L1021.46 27.2059 L1026.93 27.2059 L1026.93 14.324 L1034.42 14.324 Z\" fill=\"#000000\" fill-rule=\"nonzero\" fill-opacity=\"1\" /><path clip-path=\"url(#clip030)\" d=\"M1098.38 48.0275 L1098.38 51.6733 L1064.11 51.6733 Q1064.6 59.3701 1068.73 63.421 Q1072.9 67.4314 1080.32 67.4314 Q1084.61 67.4314 1088.62 66.3781 Q1092.67 65.3249 1096.64 63.2184 L1096.64 70.267 Q1092.63 71.9684 1088.42 72.8596 Q1084.21 73.7508 1079.87 73.7508 Q1069.01 73.7508 1062.65 67.4314 Q1056.34 61.1119 1056.34 50.3365 Q1056.34 39.1965 1062.33 32.6746 Q1068.37 26.1121 1078.57 26.1121 Q1087.73 26.1121 1093.04 32.0264 Q1098.38 37.9003 1098.38 48.0275 M1090.93 45.84 Q1090.85 39.7232 1087.49 36.0774 Q1084.17 32.4315 1078.66 32.4315 Q1072.42 32.4315 1068.65 35.9558 Q1064.92 39.4801 1064.36 45.8805 L1090.93 45.84 Z\" fill=\"#000000\" fill-rule=\"nonzero\" fill-opacity=\"1\" /><path clip-path=\"url(#clip030)\" d=\"M1145.94 35.9153 Q1148.74 30.8922 1152.63 28.5022 Q1156.51 26.1121 1161.78 26.1121 Q1168.87 26.1121 1172.72 31.0947 Q1176.57 36.0368 1176.57 45.1919 L1176.57 72.576 L1169.07 72.576 L1169.07 45.4349 Q1169.07 38.913 1166.76 35.7533 Q1164.45 32.5936 1159.71 32.5936 Q1153.92 32.5936 1150.56 36.4419 Q1147.2 40.2903 1147.2 46.9338 L1147.2 72.576 L1139.7 72.576 L1139.7 45.4349 Q1139.7 38.8725 1137.39 35.7533 Q1135.09 32.5936 1130.26 32.5936 Q1124.55 32.5936 1121.19 36.4824 Q1117.83 40.3308 1117.83 46.9338 L1117.83 72.576 L1110.33 72.576 L1110.33 27.2059 L1117.83 27.2059 L1117.83 34.2544 Q1120.38 30.082 1123.95 28.0971 Q1127.51 26.1121 1132.41 26.1121 Q1137.35 26.1121 1140.8 28.6237 Q1144.28 31.1352 1145.94 35.9153 Z\" fill=\"#000000\" fill-rule=\"nonzero\" fill-opacity=\"1\" /><path clip-path=\"url(#clip030)\" d=\"M1198.64 65.7705 L1198.64 89.8329 L1191.15 89.8329 L1191.15 27.2059 L1198.64 27.2059 L1198.64 34.0924 Q1200.99 30.0415 1204.56 28.0971 Q1208.16 26.1121 1213.15 26.1121 Q1221.41 26.1121 1226.55 32.6746 Q1231.74 39.2371 1231.74 49.9314 Q1231.74 60.6258 1226.55 67.1883 Q1221.41 73.7508 1213.15 73.7508 Q1208.16 73.7508 1204.56 71.8063 Q1200.99 69.8214 1198.64 65.7705 M1224 49.9314 Q1224 41.7081 1220.6 37.0496 Q1217.24 32.3505 1211.32 32.3505 Q1205.41 32.3505 1202.01 37.0496 Q1198.64 41.7081 1198.64 49.9314 Q1198.64 58.1548 1202.01 62.8538 Q1205.41 67.5124 1211.32 67.5124 Q1217.24 67.5124 1220.6 62.8538 Q1224 58.1548 1224 49.9314 Z\" fill=\"#000000\" fill-rule=\"nonzero\" fill-opacity=\"1\" /><path clip-path=\"url(#clip030)\" d=\"M1282.9 48.0275 L1282.9 51.6733 L1248.63 51.6733 Q1249.12 59.3701 1253.25 63.421 Q1257.42 67.4314 1264.84 67.4314 Q1269.13 67.4314 1273.14 66.3781 Q1277.19 65.3249 1281.16 63.2184 L1281.16 70.267 Q1277.15 71.9684 1272.94 72.8596 Q1268.72 73.7508 1264.39 73.7508 Q1253.53 73.7508 1247.17 67.4314 Q1240.85 61.1119 1240.85 50.3365 Q1240.85 39.1965 1246.85 32.6746 Q1252.89 26.1121 1263.09 26.1121 Q1272.25 26.1121 1277.56 32.0264 Q1282.9 37.9003 1282.9 48.0275 M1275.45 45.84 Q1275.37 39.7232 1272.01 36.0774 Q1268.68 32.4315 1263.17 32.4315 Q1256.94 32.4315 1253.17 35.9558 Q1249.44 39.4801 1248.87 45.8805 L1275.45 45.84 Z\" fill=\"#000000\" fill-rule=\"nonzero\" fill-opacity=\"1\" /><path clip-path=\"url(#clip030)\" d=\"M1321.43 34.1734 Q1320.17 33.4443 1318.67 33.1202 Q1317.21 32.7556 1315.43 32.7556 Q1309.11 32.7556 1305.71 36.8875 Q1302.35 40.9789 1302.35 48.6757 L1302.35 72.576 L1294.85 72.576 L1294.85 27.2059 L1302.35 27.2059 L1302.35 34.2544 Q1304.7 30.1225 1308.46 28.1376 Q1312.23 26.1121 1317.62 26.1121 Q1318.39 26.1121 1319.32 26.2337 Q1320.25 26.3147 1321.39 26.5172 L1321.43 34.1734 Z\" fill=\"#000000\" fill-rule=\"nonzero\" fill-opacity=\"1\" /><path clip-path=\"url(#clip030)\" d=\"M1349.86 49.7694 Q1340.83 49.7694 1337.35 51.8354 Q1333.86 53.9013 1333.86 58.8839 Q1333.86 62.8538 1336.46 65.2034 Q1339.09 67.5124 1343.59 67.5124 Q1349.78 67.5124 1353.51 63.1374 Q1357.28 58.7219 1357.28 51.4303 L1357.28 49.7694 L1349.86 49.7694 M1364.73 46.6907 L1364.73 72.576 L1357.28 72.576 L1357.28 65.6895 Q1354.73 69.8214 1350.92 71.8063 Q1347.11 73.7508 1341.6 73.7508 Q1334.63 73.7508 1330.5 69.8619 Q1326.41 65.9325 1326.41 59.3701 Q1326.41 51.7138 1331.51 47.825 Q1336.66 43.9361 1346.83 43.9361 L1357.28 43.9361 L1357.28 43.2069 Q1357.28 38.0623 1353.87 35.2672 Q1350.51 32.4315 1344.4 32.4315 Q1340.51 32.4315 1336.82 33.3632 Q1333.13 34.295 1329.73 36.1584 L1329.73 29.2718 Q1333.82 27.692 1337.67 26.9223 Q1341.52 26.1121 1345.16 26.1121 Q1355.01 26.1121 1359.87 31.2163 Q1364.73 36.3204 1364.73 46.6907 Z\" fill=\"#000000\" fill-rule=\"nonzero\" fill-opacity=\"1\" /><path clip-path=\"url(#clip030)\" d=\"M1387.46 14.324 L1387.46 27.2059 L1402.81 27.2059 L1402.81 32.9987 L1387.46 32.9987 L1387.46 57.6282 Q1387.46 63.1779 1388.96 64.7578 Q1390.49 66.3376 1395.15 66.3376 L1402.81 66.3376 L1402.81 72.576 L1395.15 72.576 Q1386.52 72.576 1383.24 69.3758 Q1379.96 66.1351 1379.96 57.6282 L1379.96 32.9987 L1374.49 32.9987 L1374.49 27.2059 L1379.96 27.2059 L1379.96 14.324 L1387.46 14.324 Z\" fill=\"#000000\" fill-rule=\"nonzero\" fill-opacity=\"1\" /><path clip-path=\"url(#clip030)\" d=\"M1411.84 54.671 L1411.84 27.2059 L1419.3 27.2059 L1419.3 54.3874 Q1419.3 60.8284 1421.81 64.0691 Q1424.32 67.2693 1429.34 67.2693 Q1435.38 67.2693 1438.86 63.421 Q1442.39 59.5726 1442.39 52.9291 L1442.39 27.2059 L1449.84 27.2059 L1449.84 72.576 L1442.39 72.576 L1442.39 65.6084 Q1439.67 69.7404 1436.07 71.7658 Q1432.5 73.7508 1427.76 73.7508 Q1419.94 73.7508 1415.89 68.8897 Q1411.84 64.0286 1411.84 54.671 M1430.6 26.1121 L1430.6 26.1121 Z\" fill=\"#000000\" fill-rule=\"nonzero\" fill-opacity=\"1\" /><path clip-path=\"url(#clip030)\" d=\"M1491.48 34.1734 Q1490.23 33.4443 1488.73 33.1202 Q1487.27 32.7556 1485.49 32.7556 Q1479.17 32.7556 1475.77 36.8875 Q1472.4 40.9789 1472.4 48.6757 L1472.4 72.576 L1464.91 72.576 L1464.91 27.2059 L1472.4 27.2059 L1472.4 34.2544 Q1474.75 30.1225 1478.52 28.1376 Q1482.29 26.1121 1487.68 26.1121 Q1488.45 26.1121 1489.38 26.2337 Q1490.31 26.3147 1491.44 26.5172 L1491.48 34.1734 Z\" fill=\"#000000\" fill-rule=\"nonzero\" fill-opacity=\"1\" /><path clip-path=\"url(#clip030)\" d=\"M1541.59 72.576 L1518.5 12.096 L1527.05 12.096 L1546.21 63.0159 L1565.41 12.096 L1573.92 12.096 L1550.87 72.576 L1541.59 72.576 Z\" fill=\"#000000\" fill-rule=\"nonzero\" fill-opacity=\"1\" /><path clip-path=\"url(#clip030)\" d=\"M1614.79 48.0275 L1614.79 51.6733 L1580.52 51.6733 Q1581.01 59.3701 1585.14 63.421 Q1589.31 67.4314 1596.73 67.4314 Q1601.02 67.4314 1605.03 66.3781 Q1609.08 65.3249 1613.05 63.2184 L1613.05 70.267 Q1609.04 71.9684 1604.83 72.8596 Q1600.61 73.7508 1596.28 73.7508 Q1585.42 73.7508 1579.06 67.4314 Q1572.74 61.1119 1572.74 50.3365 Q1572.74 39.1965 1578.74 32.6746 Q1584.78 26.1121 1594.98 26.1121 Q1604.14 26.1121 1609.45 32.0264 Q1614.79 37.9003 1614.79 48.0275 M1607.34 45.84 Q1607.26 39.7232 1603.9 36.0774 Q1600.57 32.4315 1595.07 32.4315 Q1588.83 32.4315 1585.06 35.9558 Q1581.33 39.4801 1580.77 45.8805 L1607.34 45.84 Z\" fill=\"#000000\" fill-rule=\"nonzero\" fill-opacity=\"1\" /><path clip-path=\"url(#clip030)\" d=\"M1653.32 34.1734 Q1652.06 33.4443 1650.56 33.1202 Q1649.1 32.7556 1647.32 32.7556 Q1641 32.7556 1637.6 36.8875 Q1634.24 40.9789 1634.24 48.6757 L1634.24 72.576 L1626.74 72.576 L1626.74 27.2059 L1634.24 27.2059 L1634.24 34.2544 Q1636.59 30.1225 1640.35 28.1376 Q1644.12 26.1121 1649.51 26.1121 Q1650.28 26.1121 1651.21 26.2337 Q1652.14 26.3147 1653.28 26.5172 L1653.32 34.1734 Z\" fill=\"#000000\" fill-rule=\"nonzero\" fill-opacity=\"1\" /><path clip-path=\"url(#clip030)\" d=\"M1668.51 14.324 L1668.51 27.2059 L1683.86 27.2059 L1683.86 32.9987 L1668.51 32.9987 L1668.51 57.6282 Q1668.51 63.1779 1670.01 64.7578 Q1671.55 66.3376 1676.2 66.3376 L1683.86 66.3376 L1683.86 72.576 L1676.2 72.576 Q1667.58 72.576 1664.3 69.3758 Q1661.01 66.1351 1661.01 57.6282 L1661.01 32.9987 L1655.55 32.9987 L1655.55 27.2059 L1661.01 27.2059 L1661.01 14.324 L1668.51 14.324 Z\" fill=\"#000000\" fill-rule=\"nonzero\" fill-opacity=\"1\" /><path clip-path=\"url(#clip030)\" d=\"M1732.47 48.0275 L1732.47 51.6733 L1698.2 51.6733 Q1698.69 59.3701 1702.82 63.421 Q1706.99 67.4314 1714.4 67.4314 Q1718.7 67.4314 1722.71 66.3781 Q1726.76 65.3249 1730.73 63.2184 L1730.73 70.267 Q1726.72 71.9684 1722.51 72.8596 Q1718.29 73.7508 1713.96 73.7508 Q1703.1 73.7508 1696.74 67.4314 Q1690.42 61.1119 1690.42 50.3365 Q1690.42 39.1965 1696.42 32.6746 Q1702.45 26.1121 1712.66 26.1121 Q1721.82 26.1121 1727.12 32.0264 Q1732.47 37.9003 1732.47 48.0275 M1725.02 45.84 Q1724.94 39.7232 1721.57 36.0774 Q1718.25 32.4315 1712.74 32.4315 Q1706.51 32.4315 1702.74 35.9558 Q1699.01 39.4801 1698.44 45.8805 L1725.02 45.84 Z\" fill=\"#000000\" fill-rule=\"nonzero\" fill-opacity=\"1\" /><path clip-path=\"url(#clip030)\" d=\"M1744.71 27.2059 L1752.16 27.2059 L1752.16 72.576 L1744.71 72.576 L1744.71 27.2059 M1744.71 9.54393 L1752.16 9.54393 L1752.16 18.9825 L1744.71 18.9825 L1744.71 9.54393 Z\" fill=\"#000000\" fill-rule=\"nonzero\" fill-opacity=\"1\" /><path clip-path=\"url(#clip030)\" d=\"M1767.76 9.54393 L1775.21 9.54393 L1775.21 72.576 L1767.76 72.576 L1767.76 9.54393 Z\" fill=\"#000000\" fill-rule=\"nonzero\" fill-opacity=\"1\" /><path clip-path=\"url(#clip030)\" d=\"M1790.04 54.671 L1790.04 27.2059 L1797.49 27.2059 L1797.49 54.3874 Q1797.49 60.8284 1800 64.0691 Q1802.51 67.2693 1807.54 67.2693 Q1813.57 67.2693 1817.05 63.421 Q1820.58 59.5726 1820.58 52.9291 L1820.58 27.2059 L1828.03 27.2059 L1828.03 72.576 L1820.58 72.576 L1820.58 65.6084 Q1817.86 69.7404 1814.26 71.7658 Q1810.69 73.7508 1805.96 73.7508 Q1798.14 73.7508 1794.09 68.8897 Q1790.04 64.0286 1790.04 54.671 M1808.79 26.1121 L1808.79 26.1121 Z\" fill=\"#000000\" fill-rule=\"nonzero\" fill-opacity=\"1\" /><path clip-path=\"url(#clip030)\" d=\"M1881.1 45.1919 L1881.1 72.576 L1873.65 72.576 L1873.65 45.4349 Q1873.65 38.994 1871.13 35.7938 Q1868.62 32.5936 1863.6 32.5936 Q1857.56 32.5936 1854.08 36.4419 Q1850.6 40.2903 1850.6 46.9338 L1850.6 72.576 L1843.1 72.576 L1843.1 27.2059 L1850.6 27.2059 L1850.6 34.2544 Q1853.27 30.163 1856.88 28.1376 Q1860.52 26.1121 1865.26 26.1121 Q1873.08 26.1121 1877.09 30.9732 Q1881.1 35.7938 1881.1 45.1919 Z\" fill=\"#000000\" fill-rule=\"nonzero\" fill-opacity=\"1\" /><path clip-path=\"url(#clip030)\" d=\"M1925.82 49.3643 Q1925.82 41.2625 1922.46 36.8065 Q1919.14 32.3505 1913.1 32.3505 Q1907.11 32.3505 1903.74 36.8065 Q1900.42 41.2625 1900.42 49.3643 Q1900.42 57.4256 1903.74 61.8816 Q1907.11 66.3376 1913.1 66.3376 Q1919.14 66.3376 1922.46 61.8816 Q1925.82 57.4256 1925.82 49.3643 M1933.28 66.9452 Q1933.28 78.5308 1928.13 84.1616 Q1922.99 89.8329 1912.37 89.8329 Q1908.44 89.8329 1904.96 89.2252 Q1901.48 88.6581 1898.19 87.4428 L1898.19 80.1917 Q1901.48 81.9741 1904.68 82.8248 Q1907.88 83.6755 1911.2 83.6755 Q1918.53 83.6755 1922.18 79.8271 Q1925.82 76.0193 1925.82 68.282 L1925.82 64.5957 Q1923.51 68.6061 1919.91 70.5911 Q1916.3 72.576 1911.28 72.576 Q1902.93 72.576 1897.83 66.2161 Q1892.73 59.8562 1892.73 49.3643 Q1892.73 38.832 1897.83 32.472 Q1902.93 26.1121 1911.28 26.1121 Q1916.3 26.1121 1919.91 28.0971 Q1923.51 30.082 1925.82 34.0924 L1925.82 27.2059 L1933.28 27.2059 L1933.28 66.9452 Z\" fill=\"#000000\" fill-rule=\"nonzero\" fill-opacity=\"1\" /><polyline clip-path=\"url(#clip032)\" style=\"stroke:#009af9; stroke-linecap:round; stroke-linejoin:round; stroke-width:4; stroke-opacity:1; fill:none\" points=\"273.002,1397.21 293.904,1397.19 314.806,1397.05 335.708,1395.7 356.61,1386.94 377.512,1346.34 398.415,1214.28 419.317,919.448 440.219,491.146 461.121,149.446 482.023,149.446 502.925,491.146 523.827,919.448 544.729,1214.28 565.631,1346.34 586.533,1386.94 607.435,1395.7 628.337,1397.05 649.239,1397.19 670.141,1397.21 691.043,1397.21 711.945,1397.21 732.847,1397.21 753.749,1397.21 774.651,1397.21 795.553,1397.21 816.455,1397.21 837.358,1397.21 858.26,1397.21 879.162,1397.21 900.064,1397.21 920.966,1397.21 941.868,1397.21 962.77,1397.21 983.672,1397.21 1004.57,1397.21 1025.48,1397.21 1046.38,1397.21 1067.28,1397.21 1088.18,1397.21 1109.08,1397.21 1129.99,1397.21 1150.89,1397.21 1171.79,1397.21 1192.69,1397.21 1213.59,1397.21 1234.5,1397.21 1255.4,1397.21 1276.3,1397.21 1297.2,1397.21 1318.1,1397.21 1339.01,1397.21 1359.91,1397.21 1380.81,1397.21 1401.71,1397.21 1422.61,1397.21 1443.52,1397.21 1464.42,1397.21 1485.32,1397.21 1506.22,1397.21 1527.13,1397.21 1548.03,1397.21 1568.93,1397.21 1589.83,1397.21 1610.73,1397.21 1631.64,1397.21 1652.54,1397.21 1673.44,1397.21 1694.34,1397.21 1715.24,1397.21 1736.15,1397.21 1757.05,1397.21 1777.95,1397.21 1798.85,1397.21 1819.75,1397.21 1840.66,1397.21 1861.56,1397.21 1882.46,1397.21 1903.36,1397.21 1924.26,1397.21 1945.17,1397.21 1966.07,1397.21 1986.97,1397.21 2007.87,1397.21 2028.77,1397.21 2049.68,1397.21 2070.58,1397.21 2091.48,1397.21 2112.38,1397.21 2133.28,1397.21 2154.19,1397.21 2175.09,1397.21 2195.99,1397.21 2216.89,1397.21 2237.79,1397.21 2258.7,1397.21 2279.6,1397.21 2300.5,1397.21 2321.4,1397.21 2342.3,1397.21 \"/>\n",
       "<circle clip-path=\"url(#clip032)\" cx=\"273.002\" cy=\"1397.21\" r=\"14.4\" fill=\"#009af9\" fill-rule=\"evenodd\" fill-opacity=\"1\" stroke=\"#000000\" stroke-opacity=\"1\" stroke-width=\"3.2\"/>\n",
       "<circle clip-path=\"url(#clip032)\" cx=\"293.904\" cy=\"1397.19\" r=\"14.4\" fill=\"#009af9\" fill-rule=\"evenodd\" fill-opacity=\"1\" stroke=\"#000000\" stroke-opacity=\"1\" stroke-width=\"3.2\"/>\n",
       "<circle clip-path=\"url(#clip032)\" cx=\"314.806\" cy=\"1397.05\" r=\"14.4\" fill=\"#009af9\" fill-rule=\"evenodd\" fill-opacity=\"1\" stroke=\"#000000\" stroke-opacity=\"1\" stroke-width=\"3.2\"/>\n",
       "<circle clip-path=\"url(#clip032)\" cx=\"335.708\" cy=\"1395.7\" r=\"14.4\" fill=\"#009af9\" fill-rule=\"evenodd\" fill-opacity=\"1\" stroke=\"#000000\" stroke-opacity=\"1\" stroke-width=\"3.2\"/>\n",
       "<circle clip-path=\"url(#clip032)\" cx=\"356.61\" cy=\"1386.94\" r=\"14.4\" fill=\"#009af9\" fill-rule=\"evenodd\" fill-opacity=\"1\" stroke=\"#000000\" stroke-opacity=\"1\" stroke-width=\"3.2\"/>\n",
       "<circle clip-path=\"url(#clip032)\" cx=\"377.512\" cy=\"1346.34\" r=\"14.4\" fill=\"#009af9\" fill-rule=\"evenodd\" fill-opacity=\"1\" stroke=\"#000000\" stroke-opacity=\"1\" stroke-width=\"3.2\"/>\n",
       "<circle clip-path=\"url(#clip032)\" cx=\"398.415\" cy=\"1214.28\" r=\"14.4\" fill=\"#009af9\" fill-rule=\"evenodd\" fill-opacity=\"1\" stroke=\"#000000\" stroke-opacity=\"1\" stroke-width=\"3.2\"/>\n",
       "<circle clip-path=\"url(#clip032)\" cx=\"419.317\" cy=\"919.448\" r=\"14.4\" fill=\"#009af9\" fill-rule=\"evenodd\" fill-opacity=\"1\" stroke=\"#000000\" stroke-opacity=\"1\" stroke-width=\"3.2\"/>\n",
       "<circle clip-path=\"url(#clip032)\" cx=\"440.219\" cy=\"491.146\" r=\"14.4\" fill=\"#009af9\" fill-rule=\"evenodd\" fill-opacity=\"1\" stroke=\"#000000\" stroke-opacity=\"1\" stroke-width=\"3.2\"/>\n",
       "<circle clip-path=\"url(#clip032)\" cx=\"461.121\" cy=\"149.446\" r=\"14.4\" fill=\"#009af9\" fill-rule=\"evenodd\" fill-opacity=\"1\" stroke=\"#000000\" stroke-opacity=\"1\" stroke-width=\"3.2\"/>\n",
       "<circle clip-path=\"url(#clip032)\" cx=\"482.023\" cy=\"149.446\" r=\"14.4\" fill=\"#009af9\" fill-rule=\"evenodd\" fill-opacity=\"1\" stroke=\"#000000\" stroke-opacity=\"1\" stroke-width=\"3.2\"/>\n",
       "<circle clip-path=\"url(#clip032)\" cx=\"502.925\" cy=\"491.146\" r=\"14.4\" fill=\"#009af9\" fill-rule=\"evenodd\" fill-opacity=\"1\" stroke=\"#000000\" stroke-opacity=\"1\" stroke-width=\"3.2\"/>\n",
       "<circle clip-path=\"url(#clip032)\" cx=\"523.827\" cy=\"919.448\" r=\"14.4\" fill=\"#009af9\" fill-rule=\"evenodd\" fill-opacity=\"1\" stroke=\"#000000\" stroke-opacity=\"1\" stroke-width=\"3.2\"/>\n",
       "<circle clip-path=\"url(#clip032)\" cx=\"544.729\" cy=\"1214.28\" r=\"14.4\" fill=\"#009af9\" fill-rule=\"evenodd\" fill-opacity=\"1\" stroke=\"#000000\" stroke-opacity=\"1\" stroke-width=\"3.2\"/>\n",
       "<circle clip-path=\"url(#clip032)\" cx=\"565.631\" cy=\"1346.34\" r=\"14.4\" fill=\"#009af9\" fill-rule=\"evenodd\" fill-opacity=\"1\" stroke=\"#000000\" stroke-opacity=\"1\" stroke-width=\"3.2\"/>\n",
       "<circle clip-path=\"url(#clip032)\" cx=\"586.533\" cy=\"1386.94\" r=\"14.4\" fill=\"#009af9\" fill-rule=\"evenodd\" fill-opacity=\"1\" stroke=\"#000000\" stroke-opacity=\"1\" stroke-width=\"3.2\"/>\n",
       "<circle clip-path=\"url(#clip032)\" cx=\"607.435\" cy=\"1395.7\" r=\"14.4\" fill=\"#009af9\" fill-rule=\"evenodd\" fill-opacity=\"1\" stroke=\"#000000\" stroke-opacity=\"1\" stroke-width=\"3.2\"/>\n",
       "<circle clip-path=\"url(#clip032)\" cx=\"628.337\" cy=\"1397.05\" r=\"14.4\" fill=\"#009af9\" fill-rule=\"evenodd\" fill-opacity=\"1\" stroke=\"#000000\" stroke-opacity=\"1\" stroke-width=\"3.2\"/>\n",
       "<circle clip-path=\"url(#clip032)\" cx=\"649.239\" cy=\"1397.19\" r=\"14.4\" fill=\"#009af9\" fill-rule=\"evenodd\" fill-opacity=\"1\" stroke=\"#000000\" stroke-opacity=\"1\" stroke-width=\"3.2\"/>\n",
       "<circle clip-path=\"url(#clip032)\" cx=\"670.141\" cy=\"1397.21\" r=\"14.4\" fill=\"#009af9\" fill-rule=\"evenodd\" fill-opacity=\"1\" stroke=\"#000000\" stroke-opacity=\"1\" stroke-width=\"3.2\"/>\n",
       "<circle clip-path=\"url(#clip032)\" cx=\"691.043\" cy=\"1397.21\" r=\"14.4\" fill=\"#009af9\" fill-rule=\"evenodd\" fill-opacity=\"1\" stroke=\"#000000\" stroke-opacity=\"1\" stroke-width=\"3.2\"/>\n",
       "<circle clip-path=\"url(#clip032)\" cx=\"711.945\" cy=\"1397.21\" r=\"14.4\" fill=\"#009af9\" fill-rule=\"evenodd\" fill-opacity=\"1\" stroke=\"#000000\" stroke-opacity=\"1\" stroke-width=\"3.2\"/>\n",
       "<circle clip-path=\"url(#clip032)\" cx=\"732.847\" cy=\"1397.21\" r=\"14.4\" fill=\"#009af9\" fill-rule=\"evenodd\" fill-opacity=\"1\" stroke=\"#000000\" stroke-opacity=\"1\" stroke-width=\"3.2\"/>\n",
       "<circle clip-path=\"url(#clip032)\" cx=\"753.749\" cy=\"1397.21\" r=\"14.4\" fill=\"#009af9\" fill-rule=\"evenodd\" fill-opacity=\"1\" stroke=\"#000000\" stroke-opacity=\"1\" stroke-width=\"3.2\"/>\n",
       "<circle clip-path=\"url(#clip032)\" cx=\"774.651\" cy=\"1397.21\" r=\"14.4\" fill=\"#009af9\" fill-rule=\"evenodd\" fill-opacity=\"1\" stroke=\"#000000\" stroke-opacity=\"1\" stroke-width=\"3.2\"/>\n",
       "<circle clip-path=\"url(#clip032)\" cx=\"795.553\" cy=\"1397.21\" r=\"14.4\" fill=\"#009af9\" fill-rule=\"evenodd\" fill-opacity=\"1\" stroke=\"#000000\" stroke-opacity=\"1\" stroke-width=\"3.2\"/>\n",
       "<circle clip-path=\"url(#clip032)\" cx=\"816.455\" cy=\"1397.21\" r=\"14.4\" fill=\"#009af9\" fill-rule=\"evenodd\" fill-opacity=\"1\" stroke=\"#000000\" stroke-opacity=\"1\" stroke-width=\"3.2\"/>\n",
       "<circle clip-path=\"url(#clip032)\" cx=\"837.358\" cy=\"1397.21\" r=\"14.4\" fill=\"#009af9\" fill-rule=\"evenodd\" fill-opacity=\"1\" stroke=\"#000000\" stroke-opacity=\"1\" stroke-width=\"3.2\"/>\n",
       "<circle clip-path=\"url(#clip032)\" cx=\"858.26\" cy=\"1397.21\" r=\"14.4\" fill=\"#009af9\" fill-rule=\"evenodd\" fill-opacity=\"1\" stroke=\"#000000\" stroke-opacity=\"1\" stroke-width=\"3.2\"/>\n",
       "<circle clip-path=\"url(#clip032)\" cx=\"879.162\" cy=\"1397.21\" r=\"14.4\" fill=\"#009af9\" fill-rule=\"evenodd\" fill-opacity=\"1\" stroke=\"#000000\" stroke-opacity=\"1\" stroke-width=\"3.2\"/>\n",
       "<circle clip-path=\"url(#clip032)\" cx=\"900.064\" cy=\"1397.21\" r=\"14.4\" fill=\"#009af9\" fill-rule=\"evenodd\" fill-opacity=\"1\" stroke=\"#000000\" stroke-opacity=\"1\" stroke-width=\"3.2\"/>\n",
       "<circle clip-path=\"url(#clip032)\" cx=\"920.966\" cy=\"1397.21\" r=\"14.4\" fill=\"#009af9\" fill-rule=\"evenodd\" fill-opacity=\"1\" stroke=\"#000000\" stroke-opacity=\"1\" stroke-width=\"3.2\"/>\n",
       "<circle clip-path=\"url(#clip032)\" cx=\"941.868\" cy=\"1397.21\" r=\"14.4\" fill=\"#009af9\" fill-rule=\"evenodd\" fill-opacity=\"1\" stroke=\"#000000\" stroke-opacity=\"1\" stroke-width=\"3.2\"/>\n",
       "<circle clip-path=\"url(#clip032)\" cx=\"962.77\" cy=\"1397.21\" r=\"14.4\" fill=\"#009af9\" fill-rule=\"evenodd\" fill-opacity=\"1\" stroke=\"#000000\" stroke-opacity=\"1\" stroke-width=\"3.2\"/>\n",
       "<circle clip-path=\"url(#clip032)\" cx=\"983.672\" cy=\"1397.21\" r=\"14.4\" fill=\"#009af9\" fill-rule=\"evenodd\" fill-opacity=\"1\" stroke=\"#000000\" stroke-opacity=\"1\" stroke-width=\"3.2\"/>\n",
       "<circle clip-path=\"url(#clip032)\" cx=\"1004.57\" cy=\"1397.21\" r=\"14.4\" fill=\"#009af9\" fill-rule=\"evenodd\" fill-opacity=\"1\" stroke=\"#000000\" stroke-opacity=\"1\" stroke-width=\"3.2\"/>\n",
       "<circle clip-path=\"url(#clip032)\" cx=\"1025.48\" cy=\"1397.21\" r=\"14.4\" fill=\"#009af9\" fill-rule=\"evenodd\" fill-opacity=\"1\" stroke=\"#000000\" stroke-opacity=\"1\" stroke-width=\"3.2\"/>\n",
       "<circle clip-path=\"url(#clip032)\" cx=\"1046.38\" cy=\"1397.21\" r=\"14.4\" fill=\"#009af9\" fill-rule=\"evenodd\" fill-opacity=\"1\" stroke=\"#000000\" stroke-opacity=\"1\" stroke-width=\"3.2\"/>\n",
       "<circle clip-path=\"url(#clip032)\" cx=\"1067.28\" cy=\"1397.21\" r=\"14.4\" fill=\"#009af9\" fill-rule=\"evenodd\" fill-opacity=\"1\" stroke=\"#000000\" stroke-opacity=\"1\" stroke-width=\"3.2\"/>\n",
       "<circle clip-path=\"url(#clip032)\" cx=\"1088.18\" cy=\"1397.21\" r=\"14.4\" fill=\"#009af9\" fill-rule=\"evenodd\" fill-opacity=\"1\" stroke=\"#000000\" stroke-opacity=\"1\" stroke-width=\"3.2\"/>\n",
       "<circle clip-path=\"url(#clip032)\" cx=\"1109.08\" cy=\"1397.21\" r=\"14.4\" fill=\"#009af9\" fill-rule=\"evenodd\" fill-opacity=\"1\" stroke=\"#000000\" stroke-opacity=\"1\" stroke-width=\"3.2\"/>\n",
       "<circle clip-path=\"url(#clip032)\" cx=\"1129.99\" cy=\"1397.21\" r=\"14.4\" fill=\"#009af9\" fill-rule=\"evenodd\" fill-opacity=\"1\" stroke=\"#000000\" stroke-opacity=\"1\" stroke-width=\"3.2\"/>\n",
       "<circle clip-path=\"url(#clip032)\" cx=\"1150.89\" cy=\"1397.21\" r=\"14.4\" fill=\"#009af9\" fill-rule=\"evenodd\" fill-opacity=\"1\" stroke=\"#000000\" stroke-opacity=\"1\" stroke-width=\"3.2\"/>\n",
       "<circle clip-path=\"url(#clip032)\" cx=\"1171.79\" cy=\"1397.21\" r=\"14.4\" fill=\"#009af9\" fill-rule=\"evenodd\" fill-opacity=\"1\" stroke=\"#000000\" stroke-opacity=\"1\" stroke-width=\"3.2\"/>\n",
       "<circle clip-path=\"url(#clip032)\" cx=\"1192.69\" cy=\"1397.21\" r=\"14.4\" fill=\"#009af9\" fill-rule=\"evenodd\" fill-opacity=\"1\" stroke=\"#000000\" stroke-opacity=\"1\" stroke-width=\"3.2\"/>\n",
       "<circle clip-path=\"url(#clip032)\" cx=\"1213.59\" cy=\"1397.21\" r=\"14.4\" fill=\"#009af9\" fill-rule=\"evenodd\" fill-opacity=\"1\" stroke=\"#000000\" stroke-opacity=\"1\" stroke-width=\"3.2\"/>\n",
       "<circle clip-path=\"url(#clip032)\" cx=\"1234.5\" cy=\"1397.21\" r=\"14.4\" fill=\"#009af9\" fill-rule=\"evenodd\" fill-opacity=\"1\" stroke=\"#000000\" stroke-opacity=\"1\" stroke-width=\"3.2\"/>\n",
       "<circle clip-path=\"url(#clip032)\" cx=\"1255.4\" cy=\"1397.21\" r=\"14.4\" fill=\"#009af9\" fill-rule=\"evenodd\" fill-opacity=\"1\" stroke=\"#000000\" stroke-opacity=\"1\" stroke-width=\"3.2\"/>\n",
       "<circle clip-path=\"url(#clip032)\" cx=\"1276.3\" cy=\"1397.21\" r=\"14.4\" fill=\"#009af9\" fill-rule=\"evenodd\" fill-opacity=\"1\" stroke=\"#000000\" stroke-opacity=\"1\" stroke-width=\"3.2\"/>\n",
       "<circle clip-path=\"url(#clip032)\" cx=\"1297.2\" cy=\"1397.21\" r=\"14.4\" fill=\"#009af9\" fill-rule=\"evenodd\" fill-opacity=\"1\" stroke=\"#000000\" stroke-opacity=\"1\" stroke-width=\"3.2\"/>\n",
       "<circle clip-path=\"url(#clip032)\" cx=\"1318.1\" cy=\"1397.21\" r=\"14.4\" fill=\"#009af9\" fill-rule=\"evenodd\" fill-opacity=\"1\" stroke=\"#000000\" stroke-opacity=\"1\" stroke-width=\"3.2\"/>\n",
       "<circle clip-path=\"url(#clip032)\" cx=\"1339.01\" cy=\"1397.21\" r=\"14.4\" fill=\"#009af9\" fill-rule=\"evenodd\" fill-opacity=\"1\" stroke=\"#000000\" stroke-opacity=\"1\" stroke-width=\"3.2\"/>\n",
       "<circle clip-path=\"url(#clip032)\" cx=\"1359.91\" cy=\"1397.21\" r=\"14.4\" fill=\"#009af9\" fill-rule=\"evenodd\" fill-opacity=\"1\" stroke=\"#000000\" stroke-opacity=\"1\" stroke-width=\"3.2\"/>\n",
       "<circle clip-path=\"url(#clip032)\" cx=\"1380.81\" cy=\"1397.21\" r=\"14.4\" fill=\"#009af9\" fill-rule=\"evenodd\" fill-opacity=\"1\" stroke=\"#000000\" stroke-opacity=\"1\" stroke-width=\"3.2\"/>\n",
       "<circle clip-path=\"url(#clip032)\" cx=\"1401.71\" cy=\"1397.21\" r=\"14.4\" fill=\"#009af9\" fill-rule=\"evenodd\" fill-opacity=\"1\" stroke=\"#000000\" stroke-opacity=\"1\" stroke-width=\"3.2\"/>\n",
       "<circle clip-path=\"url(#clip032)\" cx=\"1422.61\" cy=\"1397.21\" r=\"14.4\" fill=\"#009af9\" fill-rule=\"evenodd\" fill-opacity=\"1\" stroke=\"#000000\" stroke-opacity=\"1\" stroke-width=\"3.2\"/>\n",
       "<circle clip-path=\"url(#clip032)\" cx=\"1443.52\" cy=\"1397.21\" r=\"14.4\" fill=\"#009af9\" fill-rule=\"evenodd\" fill-opacity=\"1\" stroke=\"#000000\" stroke-opacity=\"1\" stroke-width=\"3.2\"/>\n",
       "<circle clip-path=\"url(#clip032)\" cx=\"1464.42\" cy=\"1397.21\" r=\"14.4\" fill=\"#009af9\" fill-rule=\"evenodd\" fill-opacity=\"1\" stroke=\"#000000\" stroke-opacity=\"1\" stroke-width=\"3.2\"/>\n",
       "<circle clip-path=\"url(#clip032)\" cx=\"1485.32\" cy=\"1397.21\" r=\"14.4\" fill=\"#009af9\" fill-rule=\"evenodd\" fill-opacity=\"1\" stroke=\"#000000\" stroke-opacity=\"1\" stroke-width=\"3.2\"/>\n",
       "<circle clip-path=\"url(#clip032)\" cx=\"1506.22\" cy=\"1397.21\" r=\"14.4\" fill=\"#009af9\" fill-rule=\"evenodd\" fill-opacity=\"1\" stroke=\"#000000\" stroke-opacity=\"1\" stroke-width=\"3.2\"/>\n",
       "<circle clip-path=\"url(#clip032)\" cx=\"1527.13\" cy=\"1397.21\" r=\"14.4\" fill=\"#009af9\" fill-rule=\"evenodd\" fill-opacity=\"1\" stroke=\"#000000\" stroke-opacity=\"1\" stroke-width=\"3.2\"/>\n",
       "<circle clip-path=\"url(#clip032)\" cx=\"1548.03\" cy=\"1397.21\" r=\"14.4\" fill=\"#009af9\" fill-rule=\"evenodd\" fill-opacity=\"1\" stroke=\"#000000\" stroke-opacity=\"1\" stroke-width=\"3.2\"/>\n",
       "<circle clip-path=\"url(#clip032)\" cx=\"1568.93\" cy=\"1397.21\" r=\"14.4\" fill=\"#009af9\" fill-rule=\"evenodd\" fill-opacity=\"1\" stroke=\"#000000\" stroke-opacity=\"1\" stroke-width=\"3.2\"/>\n",
       "<circle clip-path=\"url(#clip032)\" cx=\"1589.83\" cy=\"1397.21\" r=\"14.4\" fill=\"#009af9\" fill-rule=\"evenodd\" fill-opacity=\"1\" stroke=\"#000000\" stroke-opacity=\"1\" stroke-width=\"3.2\"/>\n",
       "<circle clip-path=\"url(#clip032)\" cx=\"1610.73\" cy=\"1397.21\" r=\"14.4\" fill=\"#009af9\" fill-rule=\"evenodd\" fill-opacity=\"1\" stroke=\"#000000\" stroke-opacity=\"1\" stroke-width=\"3.2\"/>\n",
       "<circle clip-path=\"url(#clip032)\" cx=\"1631.64\" cy=\"1397.21\" r=\"14.4\" fill=\"#009af9\" fill-rule=\"evenodd\" fill-opacity=\"1\" stroke=\"#000000\" stroke-opacity=\"1\" stroke-width=\"3.2\"/>\n",
       "<circle clip-path=\"url(#clip032)\" cx=\"1652.54\" cy=\"1397.21\" r=\"14.4\" fill=\"#009af9\" fill-rule=\"evenodd\" fill-opacity=\"1\" stroke=\"#000000\" stroke-opacity=\"1\" stroke-width=\"3.2\"/>\n",
       "<circle clip-path=\"url(#clip032)\" cx=\"1673.44\" cy=\"1397.21\" r=\"14.4\" fill=\"#009af9\" fill-rule=\"evenodd\" fill-opacity=\"1\" stroke=\"#000000\" stroke-opacity=\"1\" stroke-width=\"3.2\"/>\n",
       "<circle clip-path=\"url(#clip032)\" cx=\"1694.34\" cy=\"1397.21\" r=\"14.4\" fill=\"#009af9\" fill-rule=\"evenodd\" fill-opacity=\"1\" stroke=\"#000000\" stroke-opacity=\"1\" stroke-width=\"3.2\"/>\n",
       "<circle clip-path=\"url(#clip032)\" cx=\"1715.24\" cy=\"1397.21\" r=\"14.4\" fill=\"#009af9\" fill-rule=\"evenodd\" fill-opacity=\"1\" stroke=\"#000000\" stroke-opacity=\"1\" stroke-width=\"3.2\"/>\n",
       "<circle clip-path=\"url(#clip032)\" cx=\"1736.15\" cy=\"1397.21\" r=\"14.4\" fill=\"#009af9\" fill-rule=\"evenodd\" fill-opacity=\"1\" stroke=\"#000000\" stroke-opacity=\"1\" stroke-width=\"3.2\"/>\n",
       "<circle clip-path=\"url(#clip032)\" cx=\"1757.05\" cy=\"1397.21\" r=\"14.4\" fill=\"#009af9\" fill-rule=\"evenodd\" fill-opacity=\"1\" stroke=\"#000000\" stroke-opacity=\"1\" stroke-width=\"3.2\"/>\n",
       "<circle clip-path=\"url(#clip032)\" cx=\"1777.95\" cy=\"1397.21\" r=\"14.4\" fill=\"#009af9\" fill-rule=\"evenodd\" fill-opacity=\"1\" stroke=\"#000000\" stroke-opacity=\"1\" stroke-width=\"3.2\"/>\n",
       "<circle clip-path=\"url(#clip032)\" cx=\"1798.85\" cy=\"1397.21\" r=\"14.4\" fill=\"#009af9\" fill-rule=\"evenodd\" fill-opacity=\"1\" stroke=\"#000000\" stroke-opacity=\"1\" stroke-width=\"3.2\"/>\n",
       "<circle clip-path=\"url(#clip032)\" cx=\"1819.75\" cy=\"1397.21\" r=\"14.4\" fill=\"#009af9\" fill-rule=\"evenodd\" fill-opacity=\"1\" stroke=\"#000000\" stroke-opacity=\"1\" stroke-width=\"3.2\"/>\n",
       "<circle clip-path=\"url(#clip032)\" cx=\"1840.66\" cy=\"1397.21\" r=\"14.4\" fill=\"#009af9\" fill-rule=\"evenodd\" fill-opacity=\"1\" stroke=\"#000000\" stroke-opacity=\"1\" stroke-width=\"3.2\"/>\n",
       "<circle clip-path=\"url(#clip032)\" cx=\"1861.56\" cy=\"1397.21\" r=\"14.4\" fill=\"#009af9\" fill-rule=\"evenodd\" fill-opacity=\"1\" stroke=\"#000000\" stroke-opacity=\"1\" stroke-width=\"3.2\"/>\n",
       "<circle clip-path=\"url(#clip032)\" cx=\"1882.46\" cy=\"1397.21\" r=\"14.4\" fill=\"#009af9\" fill-rule=\"evenodd\" fill-opacity=\"1\" stroke=\"#000000\" stroke-opacity=\"1\" stroke-width=\"3.2\"/>\n",
       "<circle clip-path=\"url(#clip032)\" cx=\"1903.36\" cy=\"1397.21\" r=\"14.4\" fill=\"#009af9\" fill-rule=\"evenodd\" fill-opacity=\"1\" stroke=\"#000000\" stroke-opacity=\"1\" stroke-width=\"3.2\"/>\n",
       "<circle clip-path=\"url(#clip032)\" cx=\"1924.26\" cy=\"1397.21\" r=\"14.4\" fill=\"#009af9\" fill-rule=\"evenodd\" fill-opacity=\"1\" stroke=\"#000000\" stroke-opacity=\"1\" stroke-width=\"3.2\"/>\n",
       "<circle clip-path=\"url(#clip032)\" cx=\"1945.17\" cy=\"1397.21\" r=\"14.4\" fill=\"#009af9\" fill-rule=\"evenodd\" fill-opacity=\"1\" stroke=\"#000000\" stroke-opacity=\"1\" stroke-width=\"3.2\"/>\n",
       "<circle clip-path=\"url(#clip032)\" cx=\"1966.07\" cy=\"1397.21\" r=\"14.4\" fill=\"#009af9\" fill-rule=\"evenodd\" fill-opacity=\"1\" stroke=\"#000000\" stroke-opacity=\"1\" stroke-width=\"3.2\"/>\n",
       "<circle clip-path=\"url(#clip032)\" cx=\"1986.97\" cy=\"1397.21\" r=\"14.4\" fill=\"#009af9\" fill-rule=\"evenodd\" fill-opacity=\"1\" stroke=\"#000000\" stroke-opacity=\"1\" stroke-width=\"3.2\"/>\n",
       "<circle clip-path=\"url(#clip032)\" cx=\"2007.87\" cy=\"1397.21\" r=\"14.4\" fill=\"#009af9\" fill-rule=\"evenodd\" fill-opacity=\"1\" stroke=\"#000000\" stroke-opacity=\"1\" stroke-width=\"3.2\"/>\n",
       "<circle clip-path=\"url(#clip032)\" cx=\"2028.77\" cy=\"1397.21\" r=\"14.4\" fill=\"#009af9\" fill-rule=\"evenodd\" fill-opacity=\"1\" stroke=\"#000000\" stroke-opacity=\"1\" stroke-width=\"3.2\"/>\n",
       "<circle clip-path=\"url(#clip032)\" cx=\"2049.68\" cy=\"1397.21\" r=\"14.4\" fill=\"#009af9\" fill-rule=\"evenodd\" fill-opacity=\"1\" stroke=\"#000000\" stroke-opacity=\"1\" stroke-width=\"3.2\"/>\n",
       "<circle clip-path=\"url(#clip032)\" cx=\"2070.58\" cy=\"1397.21\" r=\"14.4\" fill=\"#009af9\" fill-rule=\"evenodd\" fill-opacity=\"1\" stroke=\"#000000\" stroke-opacity=\"1\" stroke-width=\"3.2\"/>\n",
       "<circle clip-path=\"url(#clip032)\" cx=\"2091.48\" cy=\"1397.21\" r=\"14.4\" fill=\"#009af9\" fill-rule=\"evenodd\" fill-opacity=\"1\" stroke=\"#000000\" stroke-opacity=\"1\" stroke-width=\"3.2\"/>\n",
       "<circle clip-path=\"url(#clip032)\" cx=\"2112.38\" cy=\"1397.21\" r=\"14.4\" fill=\"#009af9\" fill-rule=\"evenodd\" fill-opacity=\"1\" stroke=\"#000000\" stroke-opacity=\"1\" stroke-width=\"3.2\"/>\n",
       "<circle clip-path=\"url(#clip032)\" cx=\"2133.28\" cy=\"1397.21\" r=\"14.4\" fill=\"#009af9\" fill-rule=\"evenodd\" fill-opacity=\"1\" stroke=\"#000000\" stroke-opacity=\"1\" stroke-width=\"3.2\"/>\n",
       "<circle clip-path=\"url(#clip032)\" cx=\"2154.19\" cy=\"1397.21\" r=\"14.4\" fill=\"#009af9\" fill-rule=\"evenodd\" fill-opacity=\"1\" stroke=\"#000000\" stroke-opacity=\"1\" stroke-width=\"3.2\"/>\n",
       "<circle clip-path=\"url(#clip032)\" cx=\"2175.09\" cy=\"1397.21\" r=\"14.4\" fill=\"#009af9\" fill-rule=\"evenodd\" fill-opacity=\"1\" stroke=\"#000000\" stroke-opacity=\"1\" stroke-width=\"3.2\"/>\n",
       "<circle clip-path=\"url(#clip032)\" cx=\"2195.99\" cy=\"1397.21\" r=\"14.4\" fill=\"#009af9\" fill-rule=\"evenodd\" fill-opacity=\"1\" stroke=\"#000000\" stroke-opacity=\"1\" stroke-width=\"3.2\"/>\n",
       "<circle clip-path=\"url(#clip032)\" cx=\"2216.89\" cy=\"1397.21\" r=\"14.4\" fill=\"#009af9\" fill-rule=\"evenodd\" fill-opacity=\"1\" stroke=\"#000000\" stroke-opacity=\"1\" stroke-width=\"3.2\"/>\n",
       "<circle clip-path=\"url(#clip032)\" cx=\"2237.79\" cy=\"1397.21\" r=\"14.4\" fill=\"#009af9\" fill-rule=\"evenodd\" fill-opacity=\"1\" stroke=\"#000000\" stroke-opacity=\"1\" stroke-width=\"3.2\"/>\n",
       "<circle clip-path=\"url(#clip032)\" cx=\"2258.7\" cy=\"1397.21\" r=\"14.4\" fill=\"#009af9\" fill-rule=\"evenodd\" fill-opacity=\"1\" stroke=\"#000000\" stroke-opacity=\"1\" stroke-width=\"3.2\"/>\n",
       "<circle clip-path=\"url(#clip032)\" cx=\"2279.6\" cy=\"1397.21\" r=\"14.4\" fill=\"#009af9\" fill-rule=\"evenodd\" fill-opacity=\"1\" stroke=\"#000000\" stroke-opacity=\"1\" stroke-width=\"3.2\"/>\n",
       "<circle clip-path=\"url(#clip032)\" cx=\"2300.5\" cy=\"1397.21\" r=\"14.4\" fill=\"#009af9\" fill-rule=\"evenodd\" fill-opacity=\"1\" stroke=\"#000000\" stroke-opacity=\"1\" stroke-width=\"3.2\"/>\n",
       "<circle clip-path=\"url(#clip032)\" cx=\"2321.4\" cy=\"1397.21\" r=\"14.4\" fill=\"#009af9\" fill-rule=\"evenodd\" fill-opacity=\"1\" stroke=\"#000000\" stroke-opacity=\"1\" stroke-width=\"3.2\"/>\n",
       "<circle clip-path=\"url(#clip032)\" cx=\"2342.3\" cy=\"1397.21\" r=\"14.4\" fill=\"#009af9\" fill-rule=\"evenodd\" fill-opacity=\"1\" stroke=\"#000000\" stroke-opacity=\"1\" stroke-width=\"3.2\"/>\n",
       "</svg>\n"
      ],
      "text/html": [
       "<?xml version=\"1.0\" encoding=\"utf-8\"?>\n",
       "<svg xmlns=\"http://www.w3.org/2000/svg\" xmlns:xlink=\"http://www.w3.org/1999/xlink\" width=\"600\" height=\"400\" viewBox=\"0 0 2400 1600\">\n",
       "<defs>\n",
       "  <clipPath id=\"clip080\">\n",
       "    <rect x=\"0\" y=\"0\" width=\"2400\" height=\"1600\"/>\n",
       "  </clipPath>\n",
       "</defs>\n",
       "<path clip-path=\"url(#clip080)\" d=\"M0 1600 L2400 1600 L2400 0 L0 0  Z\" fill=\"#ffffff\" fill-rule=\"evenodd\" fill-opacity=\"1\"/>\n",
       "<defs>\n",
       "  <clipPath id=\"clip081\">\n",
       "    <rect x=\"480\" y=\"0\" width=\"1681\" height=\"1600\"/>\n",
       "  </clipPath>\n",
       "</defs>\n",
       "<path clip-path=\"url(#clip080)\" d=\"M262.551 1423.18 L2352.76 1423.18 L2352.76 123.472 L262.551 123.472  Z\" fill=\"#ffffff\" fill-rule=\"evenodd\" fill-opacity=\"1\"/>\n",
       "<defs>\n",
       "  <clipPath id=\"clip082\">\n",
       "    <rect x=\"262\" y=\"123\" width=\"2091\" height=\"1301\"/>\n",
       "  </clipPath>\n",
       "</defs>\n",
       "<polyline clip-path=\"url(#clip082)\" style=\"stroke:#000000; stroke-linecap:round; stroke-linejoin:round; stroke-width:2; stroke-opacity:0.1; fill:none\" points=\"262.551,1423.18 262.551,123.472 \"/>\n",
       "<polyline clip-path=\"url(#clip082)\" style=\"stroke:#000000; stroke-linecap:round; stroke-linejoin:round; stroke-width:2; stroke-opacity:0.1; fill:none\" points=\"785.102,1423.18 785.102,123.472 \"/>\n",
       "<polyline clip-path=\"url(#clip082)\" style=\"stroke:#000000; stroke-linecap:round; stroke-linejoin:round; stroke-width:2; stroke-opacity:0.1; fill:none\" points=\"1307.65,1423.18 1307.65,123.472 \"/>\n",
       "<polyline clip-path=\"url(#clip082)\" style=\"stroke:#000000; stroke-linecap:round; stroke-linejoin:round; stroke-width:2; stroke-opacity:0.1; fill:none\" points=\"1830.2,1423.18 1830.2,123.472 \"/>\n",
       "<polyline clip-path=\"url(#clip082)\" style=\"stroke:#000000; stroke-linecap:round; stroke-linejoin:round; stroke-width:2; stroke-opacity:0.1; fill:none\" points=\"2352.76,1423.18 2352.76,123.472 \"/>\n",
       "<polyline clip-path=\"url(#clip082)\" style=\"stroke:#000000; stroke-linecap:round; stroke-linejoin:round; stroke-width:2; stroke-opacity:0.1; fill:none\" points=\"262.551,1397.21 2352.76,1397.21 \"/>\n",
       "<polyline clip-path=\"url(#clip082)\" style=\"stroke:#000000; stroke-linecap:round; stroke-linejoin:round; stroke-width:2; stroke-opacity:0.1; fill:none\" points=\"262.551,1137.47 2352.76,1137.47 \"/>\n",
       "<polyline clip-path=\"url(#clip082)\" style=\"stroke:#000000; stroke-linecap:round; stroke-linejoin:round; stroke-width:2; stroke-opacity:0.1; fill:none\" points=\"262.551,877.733 2352.76,877.733 \"/>\n",
       "<polyline clip-path=\"url(#clip082)\" style=\"stroke:#000000; stroke-linecap:round; stroke-linejoin:round; stroke-width:2; stroke-opacity:0.1; fill:none\" points=\"262.551,617.997 2352.76,617.997 \"/>\n",
       "<polyline clip-path=\"url(#clip082)\" style=\"stroke:#000000; stroke-linecap:round; stroke-linejoin:round; stroke-width:2; stroke-opacity:0.1; fill:none\" points=\"262.551,358.26 2352.76,358.26 \"/>\n",
       "<polyline clip-path=\"url(#clip080)\" style=\"stroke:#000000; stroke-linecap:round; stroke-linejoin:round; stroke-width:4; stroke-opacity:1; fill:none\" points=\"262.551,1423.18 2352.76,1423.18 \"/>\n",
       "<polyline clip-path=\"url(#clip080)\" style=\"stroke:#000000; stroke-linecap:round; stroke-linejoin:round; stroke-width:4; stroke-opacity:1; fill:none\" points=\"262.551,1423.18 262.551,1404.28 \"/>\n",
       "<polyline clip-path=\"url(#clip080)\" style=\"stroke:#000000; stroke-linecap:round; stroke-linejoin:round; stroke-width:4; stroke-opacity:1; fill:none\" points=\"785.102,1423.18 785.102,1404.28 \"/>\n",
       "<polyline clip-path=\"url(#clip080)\" style=\"stroke:#000000; stroke-linecap:round; stroke-linejoin:round; stroke-width:4; stroke-opacity:1; fill:none\" points=\"1307.65,1423.18 1307.65,1404.28 \"/>\n",
       "<polyline clip-path=\"url(#clip080)\" style=\"stroke:#000000; stroke-linecap:round; stroke-linejoin:round; stroke-width:4; stroke-opacity:1; fill:none\" points=\"1830.2,1423.18 1830.2,1404.28 \"/>\n",
       "<polyline clip-path=\"url(#clip080)\" style=\"stroke:#000000; stroke-linecap:round; stroke-linejoin:round; stroke-width:4; stroke-opacity:1; fill:none\" points=\"2352.76,1423.18 2352.76,1404.28 \"/>\n",
       "<path clip-path=\"url(#clip080)\" d=\"M262.551 1454.1 Q258.94 1454.1 257.111 1457.66 Q255.306 1461.2 255.306 1468.33 Q255.306 1475.44 257.111 1479.01 Q258.94 1482.55 262.551 1482.55 Q266.185 1482.55 267.991 1479.01 Q269.82 1475.44 269.82 1468.33 Q269.82 1461.2 267.991 1457.66 Q266.185 1454.1 262.551 1454.1 M262.551 1450.39 Q268.361 1450.39 271.417 1455 Q274.496 1459.58 274.496 1468.33 Q274.496 1477.06 271.417 1481.67 Q268.361 1486.25 262.551 1486.25 Q256.741 1486.25 253.662 1481.67 Q250.607 1477.06 250.607 1468.33 Q250.607 1459.58 253.662 1455 Q256.741 1450.39 262.551 1450.39 Z\" fill=\"#000000\" fill-rule=\"nonzero\" fill-opacity=\"1\" /><path clip-path=\"url(#clip080)\" d=\"M759.79 1481.64 L767.429 1481.64 L767.429 1455.28 L759.119 1456.95 L759.119 1452.69 L767.383 1451.02 L772.058 1451.02 L772.058 1481.64 L779.697 1481.64 L779.697 1485.58 L759.79 1485.58 L759.79 1481.64 Z\" fill=\"#000000\" fill-rule=\"nonzero\" fill-opacity=\"1\" /><path clip-path=\"url(#clip080)\" d=\"M799.142 1454.1 Q795.531 1454.1 793.702 1457.66 Q791.896 1461.2 791.896 1468.33 Q791.896 1475.44 793.702 1479.01 Q795.531 1482.55 799.142 1482.55 Q802.776 1482.55 804.581 1479.01 Q806.41 1475.44 806.41 1468.33 Q806.41 1461.2 804.581 1457.66 Q802.776 1454.1 799.142 1454.1 M799.142 1450.39 Q804.952 1450.39 808.007 1455 Q811.086 1459.58 811.086 1468.33 Q811.086 1477.06 808.007 1481.67 Q804.952 1486.25 799.142 1486.25 Q793.332 1486.25 790.253 1481.67 Q787.197 1477.06 787.197 1468.33 Q787.197 1459.58 790.253 1455 Q793.332 1450.39 799.142 1450.39 Z\" fill=\"#000000\" fill-rule=\"nonzero\" fill-opacity=\"1\" /><path clip-path=\"url(#clip080)\" d=\"M1286.43 1481.64 L1302.75 1481.64 L1302.75 1485.58 L1280.8 1485.58 L1280.8 1481.64 Q1283.46 1478.89 1288.05 1474.26 Q1292.65 1469.61 1293.83 1468.27 Q1296.08 1465.74 1296.96 1464.01 Q1297.86 1462.25 1297.86 1460.56 Q1297.86 1457.8 1295.92 1456.07 Q1294 1454.33 1290.89 1454.33 Q1288.7 1454.33 1286.24 1455.09 Q1283.81 1455.86 1281.03 1457.41 L1281.03 1452.69 Q1283.86 1451.55 1286.31 1450.97 Q1288.76 1450.39 1290.8 1450.39 Q1296.17 1450.39 1299.37 1453.08 Q1302.56 1455.77 1302.56 1460.26 Q1302.56 1462.39 1301.75 1464.31 Q1300.96 1466.2 1298.86 1468.8 Q1298.28 1469.47 1295.18 1472.69 Q1292.07 1475.88 1286.43 1481.64 Z\" fill=\"#000000\" fill-rule=\"nonzero\" fill-opacity=\"1\" /><path clip-path=\"url(#clip080)\" d=\"M1322.56 1454.1 Q1318.95 1454.1 1317.12 1457.66 Q1315.32 1461.2 1315.32 1468.33 Q1315.32 1475.44 1317.12 1479.01 Q1318.95 1482.55 1322.56 1482.55 Q1326.2 1482.55 1328 1479.01 Q1329.83 1475.44 1329.83 1468.33 Q1329.83 1461.2 1328 1457.66 Q1326.2 1454.1 1322.56 1454.1 M1322.56 1450.39 Q1328.37 1450.39 1331.43 1455 Q1334.51 1459.58 1334.51 1468.33 Q1334.51 1477.06 1331.43 1481.67 Q1328.37 1486.25 1322.56 1486.25 Q1316.75 1486.25 1313.67 1481.67 Q1310.62 1477.06 1310.62 1468.33 Q1310.62 1459.58 1313.67 1455 Q1316.75 1450.39 1322.56 1450.39 Z\" fill=\"#000000\" fill-rule=\"nonzero\" fill-opacity=\"1\" /><path clip-path=\"url(#clip080)\" d=\"M1819.05 1466.95 Q1822.4 1467.66 1824.28 1469.93 Q1826.18 1472.2 1826.18 1475.53 Q1826.18 1480.65 1822.66 1483.45 Q1819.14 1486.25 1812.66 1486.25 Q1810.48 1486.25 1808.17 1485.81 Q1805.88 1485.39 1803.42 1484.54 L1803.42 1480.02 Q1805.37 1481.16 1807.68 1481.74 Q1810 1482.32 1812.52 1482.32 Q1816.92 1482.32 1819.21 1480.58 Q1821.52 1478.84 1821.52 1475.53 Q1821.52 1472.48 1819.37 1470.77 Q1817.24 1469.03 1813.42 1469.03 L1809.39 1469.03 L1809.39 1465.19 L1813.61 1465.19 Q1817.06 1465.19 1818.89 1463.82 Q1820.71 1462.43 1820.71 1459.84 Q1820.71 1457.18 1818.82 1455.77 Q1816.94 1454.33 1813.42 1454.33 Q1811.5 1454.33 1809.3 1454.75 Q1807.1 1455.16 1804.46 1456.04 L1804.46 1451.88 Q1807.13 1451.14 1809.44 1450.77 Q1811.78 1450.39 1813.84 1450.39 Q1819.16 1450.39 1822.26 1452.83 Q1825.37 1455.23 1825.37 1459.35 Q1825.37 1462.22 1823.72 1464.21 Q1822.08 1466.18 1819.05 1466.95 Z\" fill=\"#000000\" fill-rule=\"nonzero\" fill-opacity=\"1\" /><path clip-path=\"url(#clip080)\" d=\"M1845.04 1454.1 Q1841.43 1454.1 1839.6 1457.66 Q1837.8 1461.2 1837.8 1468.33 Q1837.8 1475.44 1839.6 1479.01 Q1841.43 1482.55 1845.04 1482.55 Q1848.68 1482.55 1850.48 1479.01 Q1852.31 1475.44 1852.31 1468.33 Q1852.31 1461.2 1850.48 1457.66 Q1848.68 1454.1 1845.04 1454.1 M1845.04 1450.39 Q1850.85 1450.39 1853.91 1455 Q1856.99 1459.58 1856.99 1468.33 Q1856.99 1477.06 1853.91 1481.67 Q1850.85 1486.25 1845.04 1486.25 Q1839.23 1486.25 1836.15 1481.67 Q1833.1 1477.06 1833.1 1468.33 Q1833.1 1459.58 1836.15 1455 Q1839.23 1450.39 1845.04 1450.39 Z\" fill=\"#000000\" fill-rule=\"nonzero\" fill-opacity=\"1\" /><path clip-path=\"url(#clip080)\" d=\"M2340.93 1455.09 L2329.12 1473.54 L2340.93 1473.54 L2340.93 1455.09 M2339.7 1451.02 L2345.58 1451.02 L2345.58 1473.54 L2350.51 1473.54 L2350.51 1477.43 L2345.58 1477.43 L2345.58 1485.58 L2340.93 1485.58 L2340.93 1477.43 L2325.33 1477.43 L2325.33 1472.92 L2339.7 1451.02 Z\" fill=\"#000000\" fill-rule=\"nonzero\" fill-opacity=\"1\" /><path clip-path=\"url(#clip080)\" d=\"M2368.24 1454.1 Q2364.63 1454.1 2362.8 1457.66 Q2361 1461.2 2361 1468.33 Q2361 1475.44 2362.8 1479.01 Q2364.63 1482.55 2368.24 1482.55 Q2371.88 1482.55 2373.68 1479.01 Q2375.51 1475.44 2375.51 1468.33 Q2375.51 1461.2 2373.68 1457.66 Q2371.88 1454.1 2368.24 1454.1 M2368.24 1450.39 Q2374.05 1450.39 2377.11 1455 Q2380.19 1459.58 2380.19 1468.33 Q2380.19 1477.06 2377.11 1481.67 Q2374.05 1486.25 2368.24 1486.25 Q2362.43 1486.25 2359.35 1481.67 Q2356.3 1477.06 2356.3 1468.33 Q2356.3 1459.58 2359.35 1455 Q2362.43 1450.39 2368.24 1450.39 Z\" fill=\"#000000\" fill-rule=\"nonzero\" fill-opacity=\"1\" /><path clip-path=\"url(#clip080)\" d=\"M1258.46 1532.4 L1245.57 1549.74 L1259.13 1568.04 L1252.22 1568.04 L1241.85 1554.04 L1231.47 1568.04 L1224.57 1568.04 L1238.41 1549.39 L1225.74 1532.4 L1232.65 1532.4 L1242.1 1545.1 L1251.56 1532.4 L1258.46 1532.4 Z\" fill=\"#000000\" fill-rule=\"nonzero\" fill-opacity=\"1\" /><path clip-path=\"url(#clip080)\" d=\"M1287.59 1518.52 L1301.08 1518.52 L1301.08 1523.07 L1293.44 1523.07 L1293.44 1572.09 L1301.08 1572.09 L1301.08 1576.64 L1287.59 1576.64 L1287.59 1518.52 Z\" fill=\"#000000\" fill-rule=\"nonzero\" fill-opacity=\"1\" /><path clip-path=\"url(#clip080)\" d=\"M1341.31 1539.24 Q1343.51 1535.29 1346.56 1533.41 Q1349.62 1531.54 1353.76 1531.54 Q1359.33 1531.54 1362.35 1535.45 Q1365.37 1539.33 1365.37 1546.53 L1365.37 1568.04 L1359.49 1568.04 L1359.49 1546.72 Q1359.49 1541.59 1357.67 1539.11 Q1355.86 1536.63 1352.13 1536.63 Q1347.58 1536.63 1344.94 1539.65 Q1342.3 1542.68 1342.3 1547.9 L1342.3 1568.04 L1336.41 1568.04 L1336.41 1546.72 Q1336.41 1541.56 1334.6 1539.11 Q1332.78 1536.63 1328.99 1536.63 Q1324.51 1536.63 1321.87 1539.68 Q1319.22 1542.71 1319.22 1547.9 L1319.22 1568.04 L1313.33 1568.04 L1313.33 1532.4 L1319.22 1532.4 L1319.22 1537.93 Q1321.23 1534.66 1324.03 1533.1 Q1326.83 1531.54 1330.68 1531.54 Q1334.56 1531.54 1337.27 1533.51 Q1340.01 1535.48 1341.31 1539.24 Z\" fill=\"#000000\" fill-rule=\"nonzero\" fill-opacity=\"1\" /><path clip-path=\"url(#clip080)\" d=\"M1390.74 1518.52 L1390.74 1576.64 L1377.25 1576.64 L1377.25 1572.09 L1384.85 1572.09 L1384.85 1523.07 L1377.25 1523.07 L1377.25 1518.52 L1390.74 1518.52 Z\" fill=\"#000000\" fill-rule=\"nonzero\" fill-opacity=\"1\" /><polyline clip-path=\"url(#clip080)\" style=\"stroke:#000000; stroke-linecap:round; stroke-linejoin:round; stroke-width:4; stroke-opacity:1; fill:none\" points=\"262.551,1423.18 262.551,123.472 \"/>\n",
       "<polyline clip-path=\"url(#clip080)\" style=\"stroke:#000000; stroke-linecap:round; stroke-linejoin:round; stroke-width:4; stroke-opacity:1; fill:none\" points=\"262.551,1397.21 281.449,1397.21 \"/>\n",
       "<polyline clip-path=\"url(#clip080)\" style=\"stroke:#000000; stroke-linecap:round; stroke-linejoin:round; stroke-width:4; stroke-opacity:1; fill:none\" points=\"262.551,1137.47 281.449,1137.47 \"/>\n",
       "<polyline clip-path=\"url(#clip080)\" style=\"stroke:#000000; stroke-linecap:round; stroke-linejoin:round; stroke-width:4; stroke-opacity:1; fill:none\" points=\"262.551,877.733 281.449,877.733 \"/>\n",
       "<polyline clip-path=\"url(#clip080)\" style=\"stroke:#000000; stroke-linecap:round; stroke-linejoin:round; stroke-width:4; stroke-opacity:1; fill:none\" points=\"262.551,617.997 281.449,617.997 \"/>\n",
       "<polyline clip-path=\"url(#clip080)\" style=\"stroke:#000000; stroke-linecap:round; stroke-linejoin:round; stroke-width:4; stroke-opacity:1; fill:none\" points=\"262.551,358.26 281.449,358.26 \"/>\n",
       "<path clip-path=\"url(#clip080)\" d=\"M114.931 1410.55 L122.57 1410.55 L122.57 1384.19 L114.26 1385.85 L114.26 1381.59 L122.524 1379.93 L127.2 1379.93 L127.2 1410.55 L134.839 1410.55 L134.839 1414.49 L114.931 1414.49 L114.931 1410.55 Z\" fill=\"#000000\" fill-rule=\"nonzero\" fill-opacity=\"1\" /><path clip-path=\"url(#clip080)\" d=\"M154.283 1383 Q150.672 1383 148.843 1386.57 Q147.038 1390.11 147.038 1397.24 Q147.038 1404.35 148.843 1407.91 Q150.672 1411.45 154.283 1411.45 Q157.917 1411.45 159.723 1407.91 Q161.552 1404.35 161.552 1397.24 Q161.552 1390.11 159.723 1386.57 Q157.917 1383 154.283 1383 M154.283 1379.3 Q160.093 1379.3 163.149 1383.91 Q166.227 1388.49 166.227 1397.24 Q166.227 1405.97 163.149 1410.57 Q160.093 1415.16 154.283 1415.16 Q148.473 1415.16 145.394 1410.57 Q142.339 1405.97 142.339 1397.24 Q142.339 1388.49 145.394 1383.91 Q148.473 1379.3 154.283 1379.3 Z\" fill=\"#000000\" fill-rule=\"nonzero\" fill-opacity=\"1\" /><path clip-path=\"url(#clip080)\" d=\"M184.445 1383 Q180.834 1383 179.005 1386.57 Q177.2 1390.11 177.2 1397.24 Q177.2 1404.35 179.005 1407.91 Q180.834 1411.45 184.445 1411.45 Q188.079 1411.45 189.885 1407.91 Q191.713 1404.35 191.713 1397.24 Q191.713 1390.11 189.885 1386.57 Q188.079 1383 184.445 1383 M184.445 1379.3 Q190.255 1379.3 193.311 1383.91 Q196.389 1388.49 196.389 1397.24 Q196.389 1405.97 193.311 1410.57 Q190.255 1415.16 184.445 1415.16 Q178.635 1415.16 175.556 1410.57 Q172.501 1405.97 172.501 1397.24 Q172.501 1388.49 175.556 1383.91 Q178.635 1379.3 184.445 1379.3 Z\" fill=\"#000000\" fill-rule=\"nonzero\" fill-opacity=\"1\" /><path clip-path=\"url(#clip080)\" d=\"M214.607 1383 Q210.996 1383 209.167 1386.57 Q207.362 1390.11 207.362 1397.24 Q207.362 1404.35 209.167 1407.91 Q210.996 1411.45 214.607 1411.45 Q218.241 1411.45 220.047 1407.91 Q221.875 1404.35 221.875 1397.24 Q221.875 1390.11 220.047 1386.57 Q218.241 1383 214.607 1383 M214.607 1379.3 Q220.417 1379.3 223.473 1383.91 Q226.551 1388.49 226.551 1397.24 Q226.551 1405.97 223.473 1410.57 Q220.417 1415.16 214.607 1415.16 Q208.797 1415.16 205.718 1410.57 Q202.662 1405.97 202.662 1397.24 Q202.662 1388.49 205.718 1383.91 Q208.797 1379.3 214.607 1379.3 Z\" fill=\"#000000\" fill-rule=\"nonzero\" fill-opacity=\"1\" /><path clip-path=\"url(#clip080)\" d=\"M114.931 1150.81 L122.57 1150.81 L122.57 1124.45 L114.26 1126.12 L114.26 1121.86 L122.524 1120.19 L127.2 1120.19 L127.2 1150.81 L134.839 1150.81 L134.839 1154.75 L114.931 1154.75 L114.931 1150.81 Z\" fill=\"#000000\" fill-rule=\"nonzero\" fill-opacity=\"1\" /><path clip-path=\"url(#clip080)\" d=\"M145.093 1150.81 L152.732 1150.81 L152.732 1124.45 L144.422 1126.12 L144.422 1121.86 L152.686 1120.19 L157.362 1120.19 L157.362 1150.81 L165.001 1150.81 L165.001 1154.75 L145.093 1154.75 L145.093 1150.81 Z\" fill=\"#000000\" fill-rule=\"nonzero\" fill-opacity=\"1\" /><path clip-path=\"url(#clip080)\" d=\"M184.445 1123.27 Q180.834 1123.27 179.005 1126.83 Q177.2 1130.37 177.2 1137.5 Q177.2 1144.61 179.005 1148.18 Q180.834 1151.72 184.445 1151.72 Q188.079 1151.72 189.885 1148.18 Q191.713 1144.61 191.713 1137.5 Q191.713 1130.37 189.885 1126.83 Q188.079 1123.27 184.445 1123.27 M184.445 1119.56 Q190.255 1119.56 193.311 1124.17 Q196.389 1128.75 196.389 1137.5 Q196.389 1146.23 193.311 1150.84 Q190.255 1155.42 184.445 1155.42 Q178.635 1155.42 175.556 1150.84 Q172.501 1146.23 172.501 1137.5 Q172.501 1128.75 175.556 1124.17 Q178.635 1119.56 184.445 1119.56 Z\" fill=\"#000000\" fill-rule=\"nonzero\" fill-opacity=\"1\" /><path clip-path=\"url(#clip080)\" d=\"M214.607 1123.27 Q210.996 1123.27 209.167 1126.83 Q207.362 1130.37 207.362 1137.5 Q207.362 1144.61 209.167 1148.18 Q210.996 1151.72 214.607 1151.72 Q218.241 1151.72 220.047 1148.18 Q221.875 1144.61 221.875 1137.5 Q221.875 1130.37 220.047 1126.83 Q218.241 1123.27 214.607 1123.27 M214.607 1119.56 Q220.417 1119.56 223.473 1124.17 Q226.551 1128.75 226.551 1137.5 Q226.551 1146.23 223.473 1150.84 Q220.417 1155.42 214.607 1155.42 Q208.797 1155.42 205.718 1150.84 Q202.662 1146.23 202.662 1137.5 Q202.662 1128.75 205.718 1124.17 Q208.797 1119.56 214.607 1119.56 Z\" fill=\"#000000\" fill-rule=\"nonzero\" fill-opacity=\"1\" /><path clip-path=\"url(#clip080)\" d=\"M114.931 891.078 L122.57 891.078 L122.57 864.712 L114.26 866.379 L114.26 862.12 L122.524 860.453 L127.2 860.453 L127.2 891.078 L134.839 891.078 L134.839 895.013 L114.931 895.013 L114.931 891.078 Z\" fill=\"#000000\" fill-rule=\"nonzero\" fill-opacity=\"1\" /><path clip-path=\"url(#clip080)\" d=\"M148.311 891.078 L164.63 891.078 L164.63 895.013 L142.686 895.013 L142.686 891.078 Q145.348 888.323 149.931 883.694 Q154.538 879.041 155.718 877.698 Q157.964 875.175 158.843 873.439 Q159.746 871.68 159.746 869.99 Q159.746 867.236 157.802 865.499 Q155.88 863.763 152.778 863.763 Q150.579 863.763 148.126 864.527 Q145.695 865.291 142.917 866.842 L142.917 862.12 Q145.741 860.986 148.195 860.407 Q150.649 859.828 152.686 859.828 Q158.056 859.828 161.251 862.513 Q164.445 865.199 164.445 869.689 Q164.445 871.819 163.635 873.74 Q162.848 875.638 160.741 878.231 Q160.163 878.902 157.061 882.12 Q153.959 885.314 148.311 891.078 Z\" fill=\"#000000\" fill-rule=\"nonzero\" fill-opacity=\"1\" /><path clip-path=\"url(#clip080)\" d=\"M184.445 863.532 Q180.834 863.532 179.005 867.097 Q177.2 870.638 177.2 877.768 Q177.2 884.874 179.005 888.439 Q180.834 891.981 184.445 891.981 Q188.079 891.981 189.885 888.439 Q191.713 884.874 191.713 877.768 Q191.713 870.638 189.885 867.097 Q188.079 863.532 184.445 863.532 M184.445 859.828 Q190.255 859.828 193.311 864.435 Q196.389 869.018 196.389 877.768 Q196.389 886.495 193.311 891.101 Q190.255 895.684 184.445 895.684 Q178.635 895.684 175.556 891.101 Q172.501 886.495 172.501 877.768 Q172.501 869.018 175.556 864.435 Q178.635 859.828 184.445 859.828 Z\" fill=\"#000000\" fill-rule=\"nonzero\" fill-opacity=\"1\" /><path clip-path=\"url(#clip080)\" d=\"M214.607 863.532 Q210.996 863.532 209.167 867.097 Q207.362 870.638 207.362 877.768 Q207.362 884.874 209.167 888.439 Q210.996 891.981 214.607 891.981 Q218.241 891.981 220.047 888.439 Q221.875 884.874 221.875 877.768 Q221.875 870.638 220.047 867.097 Q218.241 863.532 214.607 863.532 M214.607 859.828 Q220.417 859.828 223.473 864.435 Q226.551 869.018 226.551 877.768 Q226.551 886.495 223.473 891.101 Q220.417 895.684 214.607 895.684 Q208.797 895.684 205.718 891.101 Q202.662 886.495 202.662 877.768 Q202.662 869.018 205.718 864.435 Q208.797 859.828 214.607 859.828 Z\" fill=\"#000000\" fill-rule=\"nonzero\" fill-opacity=\"1\" /><path clip-path=\"url(#clip080)\" d=\"M114.931 631.342 L122.57 631.342 L122.57 604.976 L114.26 606.643 L114.26 602.383 L122.524 600.717 L127.2 600.717 L127.2 631.342 L134.839 631.342 L134.839 635.277 L114.931 635.277 L114.931 631.342 Z\" fill=\"#000000\" fill-rule=\"nonzero\" fill-opacity=\"1\" /><path clip-path=\"url(#clip080)\" d=\"M158.45 616.643 Q161.806 617.36 163.681 619.629 Q165.579 621.897 165.579 625.23 Q165.579 630.346 162.061 633.147 Q158.542 635.948 152.061 635.948 Q149.885 635.948 147.57 635.508 Q145.279 635.092 142.825 634.235 L142.825 629.721 Q144.769 630.855 147.084 631.434 Q149.399 632.013 151.922 632.013 Q156.32 632.013 158.612 630.277 Q160.927 628.541 160.927 625.23 Q160.927 622.175 158.774 620.462 Q156.644 618.726 152.825 618.726 L148.797 618.726 L148.797 614.883 L153.01 614.883 Q156.459 614.883 158.288 613.518 Q160.116 612.129 160.116 609.536 Q160.116 606.874 158.218 605.462 Q156.343 604.027 152.825 604.027 Q150.903 604.027 148.704 604.444 Q146.505 604.86 143.866 605.74 L143.866 601.573 Q146.529 600.832 148.843 600.462 Q151.181 600.092 153.241 600.092 Q158.565 600.092 161.667 602.522 Q164.769 604.93 164.769 609.05 Q164.769 611.92 163.126 613.911 Q161.482 615.879 158.45 616.643 Z\" fill=\"#000000\" fill-rule=\"nonzero\" fill-opacity=\"1\" /><path clip-path=\"url(#clip080)\" d=\"M184.445 603.795 Q180.834 603.795 179.005 607.36 Q177.2 610.902 177.2 618.031 Q177.2 625.138 179.005 628.703 Q180.834 632.244 184.445 632.244 Q188.079 632.244 189.885 628.703 Q191.713 625.138 191.713 618.031 Q191.713 610.902 189.885 607.36 Q188.079 603.795 184.445 603.795 M184.445 600.092 Q190.255 600.092 193.311 604.698 Q196.389 609.281 196.389 618.031 Q196.389 626.758 193.311 631.365 Q190.255 635.948 184.445 635.948 Q178.635 635.948 175.556 631.365 Q172.501 626.758 172.501 618.031 Q172.501 609.281 175.556 604.698 Q178.635 600.092 184.445 600.092 Z\" fill=\"#000000\" fill-rule=\"nonzero\" fill-opacity=\"1\" /><path clip-path=\"url(#clip080)\" d=\"M214.607 603.795 Q210.996 603.795 209.167 607.36 Q207.362 610.902 207.362 618.031 Q207.362 625.138 209.167 628.703 Q210.996 632.244 214.607 632.244 Q218.241 632.244 220.047 628.703 Q221.875 625.138 221.875 618.031 Q221.875 610.902 220.047 607.36 Q218.241 603.795 214.607 603.795 M214.607 600.092 Q220.417 600.092 223.473 604.698 Q226.551 609.281 226.551 618.031 Q226.551 626.758 223.473 631.365 Q220.417 635.948 214.607 635.948 Q208.797 635.948 205.718 631.365 Q202.662 626.758 202.662 618.031 Q202.662 609.281 205.718 604.698 Q208.797 600.092 214.607 600.092 Z\" fill=\"#000000\" fill-rule=\"nonzero\" fill-opacity=\"1\" /><path clip-path=\"url(#clip080)\" d=\"M114.931 371.605 L122.57 371.605 L122.57 345.239 L114.26 346.906 L114.26 342.647 L122.524 340.98 L127.2 340.98 L127.2 371.605 L134.839 371.605 L134.839 375.54 L114.931 375.54 L114.931 371.605 Z\" fill=\"#000000\" fill-rule=\"nonzero\" fill-opacity=\"1\" /><path clip-path=\"url(#clip080)\" d=\"M157.13 345.054 L145.325 363.503 L157.13 363.503 L157.13 345.054 M155.903 340.98 L161.783 340.98 L161.783 363.503 L166.714 363.503 L166.714 367.392 L161.783 367.392 L161.783 375.54 L157.13 375.54 L157.13 367.392 L141.529 367.392 L141.529 362.878 L155.903 340.98 Z\" fill=\"#000000\" fill-rule=\"nonzero\" fill-opacity=\"1\" /><path clip-path=\"url(#clip080)\" d=\"M184.445 344.059 Q180.834 344.059 179.005 347.624 Q177.2 351.165 177.2 358.295 Q177.2 365.401 179.005 368.966 Q180.834 372.508 184.445 372.508 Q188.079 372.508 189.885 368.966 Q191.713 365.401 191.713 358.295 Q191.713 351.165 189.885 347.624 Q188.079 344.059 184.445 344.059 M184.445 340.355 Q190.255 340.355 193.311 344.962 Q196.389 349.545 196.389 358.295 Q196.389 367.022 193.311 371.628 Q190.255 376.211 184.445 376.211 Q178.635 376.211 175.556 371.628 Q172.501 367.022 172.501 358.295 Q172.501 349.545 175.556 344.962 Q178.635 340.355 184.445 340.355 Z\" fill=\"#000000\" fill-rule=\"nonzero\" fill-opacity=\"1\" /><path clip-path=\"url(#clip080)\" d=\"M214.607 344.059 Q210.996 344.059 209.167 347.624 Q207.362 351.165 207.362 358.295 Q207.362 365.401 209.167 368.966 Q210.996 372.508 214.607 372.508 Q218.241 372.508 220.047 368.966 Q221.875 365.401 221.875 358.295 Q221.875 351.165 220.047 347.624 Q218.241 344.059 214.607 344.059 M214.607 340.355 Q220.417 340.355 223.473 344.962 Q226.551 349.545 226.551 358.295 Q226.551 367.022 223.473 371.628 Q220.417 376.211 214.607 376.211 Q208.797 376.211 205.718 371.628 Q202.662 367.022 202.662 358.295 Q202.662 349.545 205.718 344.962 Q208.797 340.355 214.607 340.355 Z\" fill=\"#000000\" fill-rule=\"nonzero\" fill-opacity=\"1\" /><path clip-path=\"url(#clip080)\" d=\"M16.4842 865.374 L16.4842 825.175 L21.895 825.175 L21.895 842.044 L64.0042 842.044 L64.0042 848.505 L21.895 848.505 L21.895 865.374 L16.4842 865.374 Z\" fill=\"#000000\" fill-rule=\"nonzero\" fill-opacity=\"1\" /><path clip-path=\"url(#clip080)\" d=\"M14.479 799.043 L14.479 785.548 L19.0304 785.548 L19.0304 793.187 L68.0464 793.187 L68.0464 785.548 L72.5979 785.548 L72.5979 799.043 L14.479 799.043 Z\" fill=\"#000000\" fill-rule=\"nonzero\" fill-opacity=\"1\" /><path clip-path=\"url(#clip080)\" d=\"M19.7307 762.918 Q19.7307 765.464 21.5131 767.215 Q23.2636 768.965 25.8099 768.965 Q28.3244 768.965 30.0749 767.215 Q31.7937 765.464 31.7937 762.918 Q31.7937 760.372 30.0749 758.621 Q28.3244 756.871 25.8099 756.871 Q23.2955 756.871 21.5131 758.653 Q19.7307 760.404 19.7307 762.918 M15.6248 762.918 Q15.6248 760.881 16.4205 759.003 Q17.1844 757.125 18.6485 755.757 Q20.0808 754.293 21.895 753.56 Q23.7092 752.828 25.8099 752.828 Q30.0113 752.828 32.9395 755.788 Q35.8359 758.717 35.8359 762.982 Q35.8359 767.279 32.9713 770.143 Q30.1068 773.008 25.8099 773.008 Q21.5449 773.008 18.5848 770.079 Q15.6248 767.151 15.6248 762.918 Z\" fill=\"#000000\" fill-rule=\"nonzero\" fill-opacity=\"1\" /><path clip-path=\"url(#clip080)\" d=\"M20.1444 704.64 L26.9239 704.64 Q23.9002 707.887 22.4043 711.579 Q20.9083 715.239 20.9083 719.377 Q20.9083 727.525 25.9054 731.853 Q30.8707 736.182 40.2919 736.182 Q49.6813 736.182 54.6784 731.853 Q59.6436 727.525 59.6436 719.377 Q59.6436 715.239 58.1477 711.579 Q56.6518 707.887 53.6281 704.64 L60.3439 704.64 Q62.6355 708.014 63.7814 711.801 Q64.9272 715.557 64.9272 719.759 Q64.9272 730.548 58.3387 736.755 Q51.7183 742.962 40.2919 742.962 Q28.8336 742.962 22.2451 736.755 Q15.6248 730.548 15.6248 719.759 Q15.6248 715.494 16.7706 711.738 Q17.8846 707.95 20.1444 704.64 Z\" fill=\"#000000\" fill-rule=\"nonzero\" fill-opacity=\"1\" /><path clip-path=\"url(#clip080)\" d=\"M14.479 681.278 L72.5979 681.278 L72.5979 694.773 L68.0464 694.773 L68.0464 687.166 L19.0304 687.166 L19.0304 694.773 L14.479 694.773 L14.479 681.278 Z\" fill=\"#000000\" fill-rule=\"nonzero\" fill-opacity=\"1\" /><path clip-path=\"url(#clip080)\" d=\"M709.74 20.1573 L698.641 50.2555 L720.88 50.2555 L709.74 20.1573 M705.122 12.096 L714.399 12.096 L737.448 72.576 L728.941 72.576 L723.432 57.061 L696.17 57.061 L690.66 72.576 L682.032 72.576 L705.122 12.096 Z\" fill=\"#000000\" fill-rule=\"nonzero\" fill-opacity=\"1\" /><path clip-path=\"url(#clip080)\" d=\"M783.669 45.1919 L783.669 72.576 L776.215 72.576 L776.215 45.4349 Q776.215 38.994 773.704 35.7938 Q771.192 32.5936 766.169 32.5936 Q760.133 32.5936 756.65 36.4419 Q753.166 40.2903 753.166 46.9338 L753.166 72.576 L745.672 72.576 L745.672 27.2059 L753.166 27.2059 L753.166 34.2544 Q755.839 30.163 759.445 28.1376 Q763.091 26.1121 767.83 26.1121 Q775.648 26.1121 779.659 30.9732 Q783.669 35.7938 783.669 45.1919 Z\" fill=\"#000000\" fill-rule=\"nonzero\" fill-opacity=\"1\" /><path clip-path=\"url(#clip080)\" d=\"M821.505 9.54393 L821.505 15.7418 L814.375 15.7418 Q810.365 15.7418 808.785 17.3622 Q807.245 18.9825 807.245 23.1955 L807.245 27.2059 L819.52 27.2059 L819.52 32.9987 L807.245 32.9987 L807.245 72.576 L799.751 72.576 L799.751 32.9987 L792.622 32.9987 L792.622 27.2059 L799.751 27.2059 L799.751 24.0462 Q799.751 16.471 803.275 13.0277 Q806.8 9.54393 814.456 9.54393 L821.505 9.54393 Z\" fill=\"#000000\" fill-rule=\"nonzero\" fill-opacity=\"1\" /><path clip-path=\"url(#clip080)\" d=\"M848.362 49.7694 Q839.329 49.7694 835.845 51.8354 Q832.361 53.9013 832.361 58.8839 Q832.361 62.8538 834.954 65.2034 Q837.587 67.5124 842.083 67.5124 Q848.281 67.5124 852.008 63.1374 Q855.775 58.7219 855.775 51.4303 L855.775 49.7694 L848.362 49.7694 M863.229 46.6907 L863.229 72.576 L855.775 72.576 L855.775 65.6895 Q853.223 69.8214 849.415 71.8063 Q845.607 73.7508 840.098 73.7508 Q833.131 73.7508 828.999 69.8619 Q824.907 65.9325 824.907 59.3701 Q824.907 51.7138 830.011 47.825 Q835.156 43.9361 845.324 43.9361 L855.775 43.9361 L855.775 43.2069 Q855.775 38.0623 852.372 35.2672 Q849.01 32.4315 842.893 32.4315 Q839.004 32.4315 835.318 33.3632 Q831.632 34.295 828.229 36.1584 L828.229 29.2718 Q832.32 27.692 836.169 26.9223 Q840.017 26.1121 843.663 26.1121 Q853.507 26.1121 858.368 31.2163 Q863.229 36.3204 863.229 46.6907 Z\" fill=\"#000000\" fill-rule=\"nonzero\" fill-opacity=\"1\" /><path clip-path=\"url(#clip080)\" d=\"M916.296 45.1919 L916.296 72.576 L908.842 72.576 L908.842 45.4349 Q908.842 38.994 906.33 35.7938 Q903.819 32.5936 898.796 32.5936 Q892.76 32.5936 889.276 36.4419 Q885.792 40.2903 885.792 46.9338 L885.792 72.576 L878.298 72.576 L878.298 27.2059 L885.792 27.2059 L885.792 34.2544 Q888.466 30.163 892.071 28.1376 Q895.717 26.1121 900.457 26.1121 Q908.275 26.1121 912.285 30.9732 Q916.296 35.7938 916.296 45.1919 Z\" fill=\"#000000\" fill-rule=\"nonzero\" fill-opacity=\"1\" /><path clip-path=\"url(#clip080)\" d=\"M961.018 49.3643 Q961.018 41.2625 957.655 36.8065 Q954.334 32.3505 948.298 32.3505 Q942.303 32.3505 938.94 36.8065 Q935.619 41.2625 935.619 49.3643 Q935.619 57.4256 938.94 61.8816 Q942.303 66.3376 948.298 66.3376 Q954.334 66.3376 957.655 61.8816 Q961.018 57.4256 961.018 49.3643 M968.471 66.9452 Q968.471 78.5308 963.327 84.1616 Q958.182 89.8329 947.569 89.8329 Q943.639 89.8329 940.156 89.2252 Q936.672 88.6581 933.391 87.4428 L933.391 80.1917 Q936.672 81.9741 939.872 82.8248 Q943.072 83.6755 946.394 83.6755 Q953.726 83.6755 957.372 79.8271 Q961.018 76.0193 961.018 68.282 L961.018 64.5957 Q958.709 68.6061 955.103 70.5911 Q951.498 72.576 946.475 72.576 Q938.13 72.576 933.026 66.2161 Q927.922 59.8562 927.922 49.3643 Q927.922 38.832 933.026 32.472 Q938.13 26.1121 946.475 26.1121 Q951.498 26.1121 955.103 28.0971 Q958.709 30.082 961.018 34.0924 L961.018 27.2059 L968.471 27.2059 L968.471 66.9452 Z\" fill=\"#000000\" fill-rule=\"nonzero\" fill-opacity=\"1\" /><path clip-path=\"url(#clip080)\" d=\"M1012.75 28.5427 L1012.75 35.5912 Q1009.59 33.9709 1006.19 33.1607 Q1002.78 32.3505 999.137 32.3505 Q993.587 32.3505 990.792 34.0519 Q988.037 35.7533 988.037 39.156 Q988.037 41.7486 990.022 43.2475 Q992.007 44.7058 998.002 46.0426 L1000.55 46.6097 Q1008.49 48.3111 1011.82 51.4303 Q1015.18 54.509 1015.18 60.0587 Q1015.18 66.3781 1010.16 70.0644 Q1005.17 73.7508 996.423 73.7508 Q992.777 73.7508 988.807 73.0216 Q984.878 72.3329 980.503 70.9151 L980.503 63.2184 Q984.634 65.3654 988.645 66.4591 Q992.655 67.5124 996.585 67.5124 Q1001.85 67.5124 1004.69 65.73 Q1007.52 63.9071 1007.52 60.6258 Q1007.52 57.5877 1005.46 55.9673 Q1003.43 54.3469 996.504 52.8481 L993.911 52.2405 Q986.984 50.7821 983.905 47.7845 Q980.827 44.7463 980.827 39.4801 Q980.827 33.0797 985.364 29.5959 Q989.901 26.1121 998.245 26.1121 Q1002.38 26.1121 1006.02 26.7198 Q1009.67 27.3274 1012.75 28.5427 Z\" fill=\"#000000\" fill-rule=\"nonzero\" fill-opacity=\"1\" /><path clip-path=\"url(#clip080)\" d=\"M1034.42 14.324 L1034.42 27.2059 L1049.77 27.2059 L1049.77 32.9987 L1034.42 32.9987 L1034.42 57.6282 Q1034.42 63.1779 1035.92 64.7578 Q1037.46 66.3376 1042.12 66.3376 L1049.77 66.3376 L1049.77 72.576 L1042.12 72.576 Q1033.49 72.576 1030.21 69.3758 Q1026.93 66.1351 1026.93 57.6282 L1026.93 32.9987 L1021.46 32.9987 L1021.46 27.2059 L1026.93 27.2059 L1026.93 14.324 L1034.42 14.324 Z\" fill=\"#000000\" fill-rule=\"nonzero\" fill-opacity=\"1\" /><path clip-path=\"url(#clip080)\" d=\"M1098.38 48.0275 L1098.38 51.6733 L1064.11 51.6733 Q1064.6 59.3701 1068.73 63.421 Q1072.9 67.4314 1080.32 67.4314 Q1084.61 67.4314 1088.62 66.3781 Q1092.67 65.3249 1096.64 63.2184 L1096.64 70.267 Q1092.63 71.9684 1088.42 72.8596 Q1084.21 73.7508 1079.87 73.7508 Q1069.01 73.7508 1062.65 67.4314 Q1056.34 61.1119 1056.34 50.3365 Q1056.34 39.1965 1062.33 32.6746 Q1068.37 26.1121 1078.57 26.1121 Q1087.73 26.1121 1093.04 32.0264 Q1098.38 37.9003 1098.38 48.0275 M1090.93 45.84 Q1090.85 39.7232 1087.49 36.0774 Q1084.17 32.4315 1078.66 32.4315 Q1072.42 32.4315 1068.65 35.9558 Q1064.92 39.4801 1064.36 45.8805 L1090.93 45.84 Z\" fill=\"#000000\" fill-rule=\"nonzero\" fill-opacity=\"1\" /><path clip-path=\"url(#clip080)\" d=\"M1145.94 35.9153 Q1148.74 30.8922 1152.63 28.5022 Q1156.51 26.1121 1161.78 26.1121 Q1168.87 26.1121 1172.72 31.0947 Q1176.57 36.0368 1176.57 45.1919 L1176.57 72.576 L1169.07 72.576 L1169.07 45.4349 Q1169.07 38.913 1166.76 35.7533 Q1164.45 32.5936 1159.71 32.5936 Q1153.92 32.5936 1150.56 36.4419 Q1147.2 40.2903 1147.2 46.9338 L1147.2 72.576 L1139.7 72.576 L1139.7 45.4349 Q1139.7 38.8725 1137.39 35.7533 Q1135.09 32.5936 1130.26 32.5936 Q1124.55 32.5936 1121.19 36.4824 Q1117.83 40.3308 1117.83 46.9338 L1117.83 72.576 L1110.33 72.576 L1110.33 27.2059 L1117.83 27.2059 L1117.83 34.2544 Q1120.38 30.082 1123.95 28.0971 Q1127.51 26.1121 1132.41 26.1121 Q1137.35 26.1121 1140.8 28.6237 Q1144.28 31.1352 1145.94 35.9153 Z\" fill=\"#000000\" fill-rule=\"nonzero\" fill-opacity=\"1\" /><path clip-path=\"url(#clip080)\" d=\"M1198.64 65.7705 L1198.64 89.8329 L1191.15 89.8329 L1191.15 27.2059 L1198.64 27.2059 L1198.64 34.0924 Q1200.99 30.0415 1204.56 28.0971 Q1208.16 26.1121 1213.15 26.1121 Q1221.41 26.1121 1226.55 32.6746 Q1231.74 39.2371 1231.74 49.9314 Q1231.74 60.6258 1226.55 67.1883 Q1221.41 73.7508 1213.15 73.7508 Q1208.16 73.7508 1204.56 71.8063 Q1200.99 69.8214 1198.64 65.7705 M1224 49.9314 Q1224 41.7081 1220.6 37.0496 Q1217.24 32.3505 1211.32 32.3505 Q1205.41 32.3505 1202.01 37.0496 Q1198.64 41.7081 1198.64 49.9314 Q1198.64 58.1548 1202.01 62.8538 Q1205.41 67.5124 1211.32 67.5124 Q1217.24 67.5124 1220.6 62.8538 Q1224 58.1548 1224 49.9314 Z\" fill=\"#000000\" fill-rule=\"nonzero\" fill-opacity=\"1\" /><path clip-path=\"url(#clip080)\" d=\"M1282.9 48.0275 L1282.9 51.6733 L1248.63 51.6733 Q1249.12 59.3701 1253.25 63.421 Q1257.42 67.4314 1264.84 67.4314 Q1269.13 67.4314 1273.14 66.3781 Q1277.19 65.3249 1281.16 63.2184 L1281.16 70.267 Q1277.15 71.9684 1272.94 72.8596 Q1268.72 73.7508 1264.39 73.7508 Q1253.53 73.7508 1247.17 67.4314 Q1240.85 61.1119 1240.85 50.3365 Q1240.85 39.1965 1246.85 32.6746 Q1252.89 26.1121 1263.09 26.1121 Q1272.25 26.1121 1277.56 32.0264 Q1282.9 37.9003 1282.9 48.0275 M1275.45 45.84 Q1275.37 39.7232 1272.01 36.0774 Q1268.68 32.4315 1263.17 32.4315 Q1256.94 32.4315 1253.17 35.9558 Q1249.44 39.4801 1248.87 45.8805 L1275.45 45.84 Z\" fill=\"#000000\" fill-rule=\"nonzero\" fill-opacity=\"1\" /><path clip-path=\"url(#clip080)\" d=\"M1321.43 34.1734 Q1320.17 33.4443 1318.67 33.1202 Q1317.21 32.7556 1315.43 32.7556 Q1309.11 32.7556 1305.71 36.8875 Q1302.35 40.9789 1302.35 48.6757 L1302.35 72.576 L1294.85 72.576 L1294.85 27.2059 L1302.35 27.2059 L1302.35 34.2544 Q1304.7 30.1225 1308.46 28.1376 Q1312.23 26.1121 1317.62 26.1121 Q1318.39 26.1121 1319.32 26.2337 Q1320.25 26.3147 1321.39 26.5172 L1321.43 34.1734 Z\" fill=\"#000000\" fill-rule=\"nonzero\" fill-opacity=\"1\" /><path clip-path=\"url(#clip080)\" d=\"M1349.86 49.7694 Q1340.83 49.7694 1337.35 51.8354 Q1333.86 53.9013 1333.86 58.8839 Q1333.86 62.8538 1336.46 65.2034 Q1339.09 67.5124 1343.59 67.5124 Q1349.78 67.5124 1353.51 63.1374 Q1357.28 58.7219 1357.28 51.4303 L1357.28 49.7694 L1349.86 49.7694 M1364.73 46.6907 L1364.73 72.576 L1357.28 72.576 L1357.28 65.6895 Q1354.73 69.8214 1350.92 71.8063 Q1347.11 73.7508 1341.6 73.7508 Q1334.63 73.7508 1330.5 69.8619 Q1326.41 65.9325 1326.41 59.3701 Q1326.41 51.7138 1331.51 47.825 Q1336.66 43.9361 1346.83 43.9361 L1357.28 43.9361 L1357.28 43.2069 Q1357.28 38.0623 1353.87 35.2672 Q1350.51 32.4315 1344.4 32.4315 Q1340.51 32.4315 1336.82 33.3632 Q1333.13 34.295 1329.73 36.1584 L1329.73 29.2718 Q1333.82 27.692 1337.67 26.9223 Q1341.52 26.1121 1345.16 26.1121 Q1355.01 26.1121 1359.87 31.2163 Q1364.73 36.3204 1364.73 46.6907 Z\" fill=\"#000000\" fill-rule=\"nonzero\" fill-opacity=\"1\" /><path clip-path=\"url(#clip080)\" d=\"M1387.46 14.324 L1387.46 27.2059 L1402.81 27.2059 L1402.81 32.9987 L1387.46 32.9987 L1387.46 57.6282 Q1387.46 63.1779 1388.96 64.7578 Q1390.49 66.3376 1395.15 66.3376 L1402.81 66.3376 L1402.81 72.576 L1395.15 72.576 Q1386.52 72.576 1383.24 69.3758 Q1379.96 66.1351 1379.96 57.6282 L1379.96 32.9987 L1374.49 32.9987 L1374.49 27.2059 L1379.96 27.2059 L1379.96 14.324 L1387.46 14.324 Z\" fill=\"#000000\" fill-rule=\"nonzero\" fill-opacity=\"1\" /><path clip-path=\"url(#clip080)\" d=\"M1411.84 54.671 L1411.84 27.2059 L1419.3 27.2059 L1419.3 54.3874 Q1419.3 60.8284 1421.81 64.0691 Q1424.32 67.2693 1429.34 67.2693 Q1435.38 67.2693 1438.86 63.421 Q1442.39 59.5726 1442.39 52.9291 L1442.39 27.2059 L1449.84 27.2059 L1449.84 72.576 L1442.39 72.576 L1442.39 65.6084 Q1439.67 69.7404 1436.07 71.7658 Q1432.5 73.7508 1427.76 73.7508 Q1419.94 73.7508 1415.89 68.8897 Q1411.84 64.0286 1411.84 54.671 M1430.6 26.1121 L1430.6 26.1121 Z\" fill=\"#000000\" fill-rule=\"nonzero\" fill-opacity=\"1\" /><path clip-path=\"url(#clip080)\" d=\"M1491.48 34.1734 Q1490.23 33.4443 1488.73 33.1202 Q1487.27 32.7556 1485.49 32.7556 Q1479.17 32.7556 1475.77 36.8875 Q1472.4 40.9789 1472.4 48.6757 L1472.4 72.576 L1464.91 72.576 L1464.91 27.2059 L1472.4 27.2059 L1472.4 34.2544 Q1474.75 30.1225 1478.52 28.1376 Q1482.29 26.1121 1487.68 26.1121 Q1488.45 26.1121 1489.38 26.2337 Q1490.31 26.3147 1491.44 26.5172 L1491.48 34.1734 Z\" fill=\"#000000\" fill-rule=\"nonzero\" fill-opacity=\"1\" /><path clip-path=\"url(#clip080)\" d=\"M1541.59 72.576 L1518.5 12.096 L1527.05 12.096 L1546.21 63.0159 L1565.41 12.096 L1573.92 12.096 L1550.87 72.576 L1541.59 72.576 Z\" fill=\"#000000\" fill-rule=\"nonzero\" fill-opacity=\"1\" /><path clip-path=\"url(#clip080)\" d=\"M1614.79 48.0275 L1614.79 51.6733 L1580.52 51.6733 Q1581.01 59.3701 1585.14 63.421 Q1589.31 67.4314 1596.73 67.4314 Q1601.02 67.4314 1605.03 66.3781 Q1609.08 65.3249 1613.05 63.2184 L1613.05 70.267 Q1609.04 71.9684 1604.83 72.8596 Q1600.61 73.7508 1596.28 73.7508 Q1585.42 73.7508 1579.06 67.4314 Q1572.74 61.1119 1572.74 50.3365 Q1572.74 39.1965 1578.74 32.6746 Q1584.78 26.1121 1594.98 26.1121 Q1604.14 26.1121 1609.45 32.0264 Q1614.79 37.9003 1614.79 48.0275 M1607.34 45.84 Q1607.26 39.7232 1603.9 36.0774 Q1600.57 32.4315 1595.07 32.4315 Q1588.83 32.4315 1585.06 35.9558 Q1581.33 39.4801 1580.77 45.8805 L1607.34 45.84 Z\" fill=\"#000000\" fill-rule=\"nonzero\" fill-opacity=\"1\" /><path clip-path=\"url(#clip080)\" d=\"M1653.32 34.1734 Q1652.06 33.4443 1650.56 33.1202 Q1649.1 32.7556 1647.32 32.7556 Q1641 32.7556 1637.6 36.8875 Q1634.24 40.9789 1634.24 48.6757 L1634.24 72.576 L1626.74 72.576 L1626.74 27.2059 L1634.24 27.2059 L1634.24 34.2544 Q1636.59 30.1225 1640.35 28.1376 Q1644.12 26.1121 1649.51 26.1121 Q1650.28 26.1121 1651.21 26.2337 Q1652.14 26.3147 1653.28 26.5172 L1653.32 34.1734 Z\" fill=\"#000000\" fill-rule=\"nonzero\" fill-opacity=\"1\" /><path clip-path=\"url(#clip080)\" d=\"M1668.51 14.324 L1668.51 27.2059 L1683.86 27.2059 L1683.86 32.9987 L1668.51 32.9987 L1668.51 57.6282 Q1668.51 63.1779 1670.01 64.7578 Q1671.55 66.3376 1676.2 66.3376 L1683.86 66.3376 L1683.86 72.576 L1676.2 72.576 Q1667.58 72.576 1664.3 69.3758 Q1661.01 66.1351 1661.01 57.6282 L1661.01 32.9987 L1655.55 32.9987 L1655.55 27.2059 L1661.01 27.2059 L1661.01 14.324 L1668.51 14.324 Z\" fill=\"#000000\" fill-rule=\"nonzero\" fill-opacity=\"1\" /><path clip-path=\"url(#clip080)\" d=\"M1732.47 48.0275 L1732.47 51.6733 L1698.2 51.6733 Q1698.69 59.3701 1702.82 63.421 Q1706.99 67.4314 1714.4 67.4314 Q1718.7 67.4314 1722.71 66.3781 Q1726.76 65.3249 1730.73 63.2184 L1730.73 70.267 Q1726.72 71.9684 1722.51 72.8596 Q1718.29 73.7508 1713.96 73.7508 Q1703.1 73.7508 1696.74 67.4314 Q1690.42 61.1119 1690.42 50.3365 Q1690.42 39.1965 1696.42 32.6746 Q1702.45 26.1121 1712.66 26.1121 Q1721.82 26.1121 1727.12 32.0264 Q1732.47 37.9003 1732.47 48.0275 M1725.02 45.84 Q1724.94 39.7232 1721.57 36.0774 Q1718.25 32.4315 1712.74 32.4315 Q1706.51 32.4315 1702.74 35.9558 Q1699.01 39.4801 1698.44 45.8805 L1725.02 45.84 Z\" fill=\"#000000\" fill-rule=\"nonzero\" fill-opacity=\"1\" /><path clip-path=\"url(#clip080)\" d=\"M1744.71 27.2059 L1752.16 27.2059 L1752.16 72.576 L1744.71 72.576 L1744.71 27.2059 M1744.71 9.54393 L1752.16 9.54393 L1752.16 18.9825 L1744.71 18.9825 L1744.71 9.54393 Z\" fill=\"#000000\" fill-rule=\"nonzero\" fill-opacity=\"1\" /><path clip-path=\"url(#clip080)\" d=\"M1767.76 9.54393 L1775.21 9.54393 L1775.21 72.576 L1767.76 72.576 L1767.76 9.54393 Z\" fill=\"#000000\" fill-rule=\"nonzero\" fill-opacity=\"1\" /><path clip-path=\"url(#clip080)\" d=\"M1790.04 54.671 L1790.04 27.2059 L1797.49 27.2059 L1797.49 54.3874 Q1797.49 60.8284 1800 64.0691 Q1802.51 67.2693 1807.54 67.2693 Q1813.57 67.2693 1817.05 63.421 Q1820.58 59.5726 1820.58 52.9291 L1820.58 27.2059 L1828.03 27.2059 L1828.03 72.576 L1820.58 72.576 L1820.58 65.6084 Q1817.86 69.7404 1814.26 71.7658 Q1810.69 73.7508 1805.96 73.7508 Q1798.14 73.7508 1794.09 68.8897 Q1790.04 64.0286 1790.04 54.671 M1808.79 26.1121 L1808.79 26.1121 Z\" fill=\"#000000\" fill-rule=\"nonzero\" fill-opacity=\"1\" /><path clip-path=\"url(#clip080)\" d=\"M1881.1 45.1919 L1881.1 72.576 L1873.65 72.576 L1873.65 45.4349 Q1873.65 38.994 1871.13 35.7938 Q1868.62 32.5936 1863.6 32.5936 Q1857.56 32.5936 1854.08 36.4419 Q1850.6 40.2903 1850.6 46.9338 L1850.6 72.576 L1843.1 72.576 L1843.1 27.2059 L1850.6 27.2059 L1850.6 34.2544 Q1853.27 30.163 1856.88 28.1376 Q1860.52 26.1121 1865.26 26.1121 Q1873.08 26.1121 1877.09 30.9732 Q1881.1 35.7938 1881.1 45.1919 Z\" fill=\"#000000\" fill-rule=\"nonzero\" fill-opacity=\"1\" /><path clip-path=\"url(#clip080)\" d=\"M1925.82 49.3643 Q1925.82 41.2625 1922.46 36.8065 Q1919.14 32.3505 1913.1 32.3505 Q1907.11 32.3505 1903.74 36.8065 Q1900.42 41.2625 1900.42 49.3643 Q1900.42 57.4256 1903.74 61.8816 Q1907.11 66.3376 1913.1 66.3376 Q1919.14 66.3376 1922.46 61.8816 Q1925.82 57.4256 1925.82 49.3643 M1933.28 66.9452 Q1933.28 78.5308 1928.13 84.1616 Q1922.99 89.8329 1912.37 89.8329 Q1908.44 89.8329 1904.96 89.2252 Q1901.48 88.6581 1898.19 87.4428 L1898.19 80.1917 Q1901.48 81.9741 1904.68 82.8248 Q1907.88 83.6755 1911.2 83.6755 Q1918.53 83.6755 1922.18 79.8271 Q1925.82 76.0193 1925.82 68.282 L1925.82 64.5957 Q1923.51 68.6061 1919.91 70.5911 Q1916.3 72.576 1911.28 72.576 Q1902.93 72.576 1897.83 66.2161 Q1892.73 59.8562 1892.73 49.3643 Q1892.73 38.832 1897.83 32.472 Q1902.93 26.1121 1911.28 26.1121 Q1916.3 26.1121 1919.91 28.0971 Q1923.51 30.082 1925.82 34.0924 L1925.82 27.2059 L1933.28 27.2059 L1933.28 66.9452 Z\" fill=\"#000000\" fill-rule=\"nonzero\" fill-opacity=\"1\" /><polyline clip-path=\"url(#clip082)\" style=\"stroke:#009af9; stroke-linecap:round; stroke-linejoin:round; stroke-width:4; stroke-opacity:1; fill:none\" points=\"273.002,1397.21 293.904,1397.19 314.806,1397.05 335.708,1395.7 356.61,1386.94 377.512,1346.34 398.415,1214.28 419.317,919.448 440.219,491.146 461.121,149.446 482.023,149.446 502.925,491.146 523.827,919.448 544.729,1214.28 565.631,1346.34 586.533,1386.94 607.435,1395.7 628.337,1397.05 649.239,1397.19 670.141,1397.21 691.043,1397.21 711.945,1397.21 732.847,1397.21 753.749,1397.21 774.651,1397.21 795.553,1397.21 816.455,1397.21 837.358,1397.21 858.26,1397.21 879.162,1397.21 900.064,1397.21 920.966,1397.21 941.868,1397.21 962.77,1397.21 983.672,1397.21 1004.57,1397.21 1025.48,1397.21 1046.38,1397.21 1067.28,1397.21 1088.18,1397.21 1109.08,1397.21 1129.99,1397.21 1150.89,1397.21 1171.79,1397.21 1192.69,1397.21 1213.59,1397.21 1234.5,1397.21 1255.4,1397.21 1276.3,1397.21 1297.2,1397.21 1318.1,1397.21 1339.01,1397.21 1359.91,1397.21 1380.81,1397.21 1401.71,1397.21 1422.61,1397.21 1443.52,1397.21 1464.42,1397.21 1485.32,1397.21 1506.22,1397.21 1527.13,1397.21 1548.03,1397.21 1568.93,1397.21 1589.83,1397.21 1610.73,1397.21 1631.64,1397.21 1652.54,1397.21 1673.44,1397.21 1694.34,1397.21 1715.24,1397.21 1736.15,1397.21 1757.05,1397.21 1777.95,1397.21 1798.85,1397.21 1819.75,1397.21 1840.66,1397.21 1861.56,1397.21 1882.46,1397.21 1903.36,1397.21 1924.26,1397.21 1945.17,1397.21 1966.07,1397.21 1986.97,1397.21 2007.87,1397.21 2028.77,1397.21 2049.68,1397.21 2070.58,1397.21 2091.48,1397.21 2112.38,1397.21 2133.28,1397.21 2154.19,1397.21 2175.09,1397.21 2195.99,1397.21 2216.89,1397.21 2237.79,1397.21 2258.7,1397.21 2279.6,1397.21 2300.5,1397.21 2321.4,1397.21 2342.3,1397.21 \"/>\n",
       "<circle clip-path=\"url(#clip082)\" cx=\"273.002\" cy=\"1397.21\" r=\"14.4\" fill=\"#009af9\" fill-rule=\"evenodd\" fill-opacity=\"1\" stroke=\"#000000\" stroke-opacity=\"1\" stroke-width=\"3.2\"/>\n",
       "<circle clip-path=\"url(#clip082)\" cx=\"293.904\" cy=\"1397.19\" r=\"14.4\" fill=\"#009af9\" fill-rule=\"evenodd\" fill-opacity=\"1\" stroke=\"#000000\" stroke-opacity=\"1\" stroke-width=\"3.2\"/>\n",
       "<circle clip-path=\"url(#clip082)\" cx=\"314.806\" cy=\"1397.05\" r=\"14.4\" fill=\"#009af9\" fill-rule=\"evenodd\" fill-opacity=\"1\" stroke=\"#000000\" stroke-opacity=\"1\" stroke-width=\"3.2\"/>\n",
       "<circle clip-path=\"url(#clip082)\" cx=\"335.708\" cy=\"1395.7\" r=\"14.4\" fill=\"#009af9\" fill-rule=\"evenodd\" fill-opacity=\"1\" stroke=\"#000000\" stroke-opacity=\"1\" stroke-width=\"3.2\"/>\n",
       "<circle clip-path=\"url(#clip082)\" cx=\"356.61\" cy=\"1386.94\" r=\"14.4\" fill=\"#009af9\" fill-rule=\"evenodd\" fill-opacity=\"1\" stroke=\"#000000\" stroke-opacity=\"1\" stroke-width=\"3.2\"/>\n",
       "<circle clip-path=\"url(#clip082)\" cx=\"377.512\" cy=\"1346.34\" r=\"14.4\" fill=\"#009af9\" fill-rule=\"evenodd\" fill-opacity=\"1\" stroke=\"#000000\" stroke-opacity=\"1\" stroke-width=\"3.2\"/>\n",
       "<circle clip-path=\"url(#clip082)\" cx=\"398.415\" cy=\"1214.28\" r=\"14.4\" fill=\"#009af9\" fill-rule=\"evenodd\" fill-opacity=\"1\" stroke=\"#000000\" stroke-opacity=\"1\" stroke-width=\"3.2\"/>\n",
       "<circle clip-path=\"url(#clip082)\" cx=\"419.317\" cy=\"919.448\" r=\"14.4\" fill=\"#009af9\" fill-rule=\"evenodd\" fill-opacity=\"1\" stroke=\"#000000\" stroke-opacity=\"1\" stroke-width=\"3.2\"/>\n",
       "<circle clip-path=\"url(#clip082)\" cx=\"440.219\" cy=\"491.146\" r=\"14.4\" fill=\"#009af9\" fill-rule=\"evenodd\" fill-opacity=\"1\" stroke=\"#000000\" stroke-opacity=\"1\" stroke-width=\"3.2\"/>\n",
       "<circle clip-path=\"url(#clip082)\" cx=\"461.121\" cy=\"149.446\" r=\"14.4\" fill=\"#009af9\" fill-rule=\"evenodd\" fill-opacity=\"1\" stroke=\"#000000\" stroke-opacity=\"1\" stroke-width=\"3.2\"/>\n",
       "<circle clip-path=\"url(#clip082)\" cx=\"482.023\" cy=\"149.446\" r=\"14.4\" fill=\"#009af9\" fill-rule=\"evenodd\" fill-opacity=\"1\" stroke=\"#000000\" stroke-opacity=\"1\" stroke-width=\"3.2\"/>\n",
       "<circle clip-path=\"url(#clip082)\" cx=\"502.925\" cy=\"491.146\" r=\"14.4\" fill=\"#009af9\" fill-rule=\"evenodd\" fill-opacity=\"1\" stroke=\"#000000\" stroke-opacity=\"1\" stroke-width=\"3.2\"/>\n",
       "<circle clip-path=\"url(#clip082)\" cx=\"523.827\" cy=\"919.448\" r=\"14.4\" fill=\"#009af9\" fill-rule=\"evenodd\" fill-opacity=\"1\" stroke=\"#000000\" stroke-opacity=\"1\" stroke-width=\"3.2\"/>\n",
       "<circle clip-path=\"url(#clip082)\" cx=\"544.729\" cy=\"1214.28\" r=\"14.4\" fill=\"#009af9\" fill-rule=\"evenodd\" fill-opacity=\"1\" stroke=\"#000000\" stroke-opacity=\"1\" stroke-width=\"3.2\"/>\n",
       "<circle clip-path=\"url(#clip082)\" cx=\"565.631\" cy=\"1346.34\" r=\"14.4\" fill=\"#009af9\" fill-rule=\"evenodd\" fill-opacity=\"1\" stroke=\"#000000\" stroke-opacity=\"1\" stroke-width=\"3.2\"/>\n",
       "<circle clip-path=\"url(#clip082)\" cx=\"586.533\" cy=\"1386.94\" r=\"14.4\" fill=\"#009af9\" fill-rule=\"evenodd\" fill-opacity=\"1\" stroke=\"#000000\" stroke-opacity=\"1\" stroke-width=\"3.2\"/>\n",
       "<circle clip-path=\"url(#clip082)\" cx=\"607.435\" cy=\"1395.7\" r=\"14.4\" fill=\"#009af9\" fill-rule=\"evenodd\" fill-opacity=\"1\" stroke=\"#000000\" stroke-opacity=\"1\" stroke-width=\"3.2\"/>\n",
       "<circle clip-path=\"url(#clip082)\" cx=\"628.337\" cy=\"1397.05\" r=\"14.4\" fill=\"#009af9\" fill-rule=\"evenodd\" fill-opacity=\"1\" stroke=\"#000000\" stroke-opacity=\"1\" stroke-width=\"3.2\"/>\n",
       "<circle clip-path=\"url(#clip082)\" cx=\"649.239\" cy=\"1397.19\" r=\"14.4\" fill=\"#009af9\" fill-rule=\"evenodd\" fill-opacity=\"1\" stroke=\"#000000\" stroke-opacity=\"1\" stroke-width=\"3.2\"/>\n",
       "<circle clip-path=\"url(#clip082)\" cx=\"670.141\" cy=\"1397.21\" r=\"14.4\" fill=\"#009af9\" fill-rule=\"evenodd\" fill-opacity=\"1\" stroke=\"#000000\" stroke-opacity=\"1\" stroke-width=\"3.2\"/>\n",
       "<circle clip-path=\"url(#clip082)\" cx=\"691.043\" cy=\"1397.21\" r=\"14.4\" fill=\"#009af9\" fill-rule=\"evenodd\" fill-opacity=\"1\" stroke=\"#000000\" stroke-opacity=\"1\" stroke-width=\"3.2\"/>\n",
       "<circle clip-path=\"url(#clip082)\" cx=\"711.945\" cy=\"1397.21\" r=\"14.4\" fill=\"#009af9\" fill-rule=\"evenodd\" fill-opacity=\"1\" stroke=\"#000000\" stroke-opacity=\"1\" stroke-width=\"3.2\"/>\n",
       "<circle clip-path=\"url(#clip082)\" cx=\"732.847\" cy=\"1397.21\" r=\"14.4\" fill=\"#009af9\" fill-rule=\"evenodd\" fill-opacity=\"1\" stroke=\"#000000\" stroke-opacity=\"1\" stroke-width=\"3.2\"/>\n",
       "<circle clip-path=\"url(#clip082)\" cx=\"753.749\" cy=\"1397.21\" r=\"14.4\" fill=\"#009af9\" fill-rule=\"evenodd\" fill-opacity=\"1\" stroke=\"#000000\" stroke-opacity=\"1\" stroke-width=\"3.2\"/>\n",
       "<circle clip-path=\"url(#clip082)\" cx=\"774.651\" cy=\"1397.21\" r=\"14.4\" fill=\"#009af9\" fill-rule=\"evenodd\" fill-opacity=\"1\" stroke=\"#000000\" stroke-opacity=\"1\" stroke-width=\"3.2\"/>\n",
       "<circle clip-path=\"url(#clip082)\" cx=\"795.553\" cy=\"1397.21\" r=\"14.4\" fill=\"#009af9\" fill-rule=\"evenodd\" fill-opacity=\"1\" stroke=\"#000000\" stroke-opacity=\"1\" stroke-width=\"3.2\"/>\n",
       "<circle clip-path=\"url(#clip082)\" cx=\"816.455\" cy=\"1397.21\" r=\"14.4\" fill=\"#009af9\" fill-rule=\"evenodd\" fill-opacity=\"1\" stroke=\"#000000\" stroke-opacity=\"1\" stroke-width=\"3.2\"/>\n",
       "<circle clip-path=\"url(#clip082)\" cx=\"837.358\" cy=\"1397.21\" r=\"14.4\" fill=\"#009af9\" fill-rule=\"evenodd\" fill-opacity=\"1\" stroke=\"#000000\" stroke-opacity=\"1\" stroke-width=\"3.2\"/>\n",
       "<circle clip-path=\"url(#clip082)\" cx=\"858.26\" cy=\"1397.21\" r=\"14.4\" fill=\"#009af9\" fill-rule=\"evenodd\" fill-opacity=\"1\" stroke=\"#000000\" stroke-opacity=\"1\" stroke-width=\"3.2\"/>\n",
       "<circle clip-path=\"url(#clip082)\" cx=\"879.162\" cy=\"1397.21\" r=\"14.4\" fill=\"#009af9\" fill-rule=\"evenodd\" fill-opacity=\"1\" stroke=\"#000000\" stroke-opacity=\"1\" stroke-width=\"3.2\"/>\n",
       "<circle clip-path=\"url(#clip082)\" cx=\"900.064\" cy=\"1397.21\" r=\"14.4\" fill=\"#009af9\" fill-rule=\"evenodd\" fill-opacity=\"1\" stroke=\"#000000\" stroke-opacity=\"1\" stroke-width=\"3.2\"/>\n",
       "<circle clip-path=\"url(#clip082)\" cx=\"920.966\" cy=\"1397.21\" r=\"14.4\" fill=\"#009af9\" fill-rule=\"evenodd\" fill-opacity=\"1\" stroke=\"#000000\" stroke-opacity=\"1\" stroke-width=\"3.2\"/>\n",
       "<circle clip-path=\"url(#clip082)\" cx=\"941.868\" cy=\"1397.21\" r=\"14.4\" fill=\"#009af9\" fill-rule=\"evenodd\" fill-opacity=\"1\" stroke=\"#000000\" stroke-opacity=\"1\" stroke-width=\"3.2\"/>\n",
       "<circle clip-path=\"url(#clip082)\" cx=\"962.77\" cy=\"1397.21\" r=\"14.4\" fill=\"#009af9\" fill-rule=\"evenodd\" fill-opacity=\"1\" stroke=\"#000000\" stroke-opacity=\"1\" stroke-width=\"3.2\"/>\n",
       "<circle clip-path=\"url(#clip082)\" cx=\"983.672\" cy=\"1397.21\" r=\"14.4\" fill=\"#009af9\" fill-rule=\"evenodd\" fill-opacity=\"1\" stroke=\"#000000\" stroke-opacity=\"1\" stroke-width=\"3.2\"/>\n",
       "<circle clip-path=\"url(#clip082)\" cx=\"1004.57\" cy=\"1397.21\" r=\"14.4\" fill=\"#009af9\" fill-rule=\"evenodd\" fill-opacity=\"1\" stroke=\"#000000\" stroke-opacity=\"1\" stroke-width=\"3.2\"/>\n",
       "<circle clip-path=\"url(#clip082)\" cx=\"1025.48\" cy=\"1397.21\" r=\"14.4\" fill=\"#009af9\" fill-rule=\"evenodd\" fill-opacity=\"1\" stroke=\"#000000\" stroke-opacity=\"1\" stroke-width=\"3.2\"/>\n",
       "<circle clip-path=\"url(#clip082)\" cx=\"1046.38\" cy=\"1397.21\" r=\"14.4\" fill=\"#009af9\" fill-rule=\"evenodd\" fill-opacity=\"1\" stroke=\"#000000\" stroke-opacity=\"1\" stroke-width=\"3.2\"/>\n",
       "<circle clip-path=\"url(#clip082)\" cx=\"1067.28\" cy=\"1397.21\" r=\"14.4\" fill=\"#009af9\" fill-rule=\"evenodd\" fill-opacity=\"1\" stroke=\"#000000\" stroke-opacity=\"1\" stroke-width=\"3.2\"/>\n",
       "<circle clip-path=\"url(#clip082)\" cx=\"1088.18\" cy=\"1397.21\" r=\"14.4\" fill=\"#009af9\" fill-rule=\"evenodd\" fill-opacity=\"1\" stroke=\"#000000\" stroke-opacity=\"1\" stroke-width=\"3.2\"/>\n",
       "<circle clip-path=\"url(#clip082)\" cx=\"1109.08\" cy=\"1397.21\" r=\"14.4\" fill=\"#009af9\" fill-rule=\"evenodd\" fill-opacity=\"1\" stroke=\"#000000\" stroke-opacity=\"1\" stroke-width=\"3.2\"/>\n",
       "<circle clip-path=\"url(#clip082)\" cx=\"1129.99\" cy=\"1397.21\" r=\"14.4\" fill=\"#009af9\" fill-rule=\"evenodd\" fill-opacity=\"1\" stroke=\"#000000\" stroke-opacity=\"1\" stroke-width=\"3.2\"/>\n",
       "<circle clip-path=\"url(#clip082)\" cx=\"1150.89\" cy=\"1397.21\" r=\"14.4\" fill=\"#009af9\" fill-rule=\"evenodd\" fill-opacity=\"1\" stroke=\"#000000\" stroke-opacity=\"1\" stroke-width=\"3.2\"/>\n",
       "<circle clip-path=\"url(#clip082)\" cx=\"1171.79\" cy=\"1397.21\" r=\"14.4\" fill=\"#009af9\" fill-rule=\"evenodd\" fill-opacity=\"1\" stroke=\"#000000\" stroke-opacity=\"1\" stroke-width=\"3.2\"/>\n",
       "<circle clip-path=\"url(#clip082)\" cx=\"1192.69\" cy=\"1397.21\" r=\"14.4\" fill=\"#009af9\" fill-rule=\"evenodd\" fill-opacity=\"1\" stroke=\"#000000\" stroke-opacity=\"1\" stroke-width=\"3.2\"/>\n",
       "<circle clip-path=\"url(#clip082)\" cx=\"1213.59\" cy=\"1397.21\" r=\"14.4\" fill=\"#009af9\" fill-rule=\"evenodd\" fill-opacity=\"1\" stroke=\"#000000\" stroke-opacity=\"1\" stroke-width=\"3.2\"/>\n",
       "<circle clip-path=\"url(#clip082)\" cx=\"1234.5\" cy=\"1397.21\" r=\"14.4\" fill=\"#009af9\" fill-rule=\"evenodd\" fill-opacity=\"1\" stroke=\"#000000\" stroke-opacity=\"1\" stroke-width=\"3.2\"/>\n",
       "<circle clip-path=\"url(#clip082)\" cx=\"1255.4\" cy=\"1397.21\" r=\"14.4\" fill=\"#009af9\" fill-rule=\"evenodd\" fill-opacity=\"1\" stroke=\"#000000\" stroke-opacity=\"1\" stroke-width=\"3.2\"/>\n",
       "<circle clip-path=\"url(#clip082)\" cx=\"1276.3\" cy=\"1397.21\" r=\"14.4\" fill=\"#009af9\" fill-rule=\"evenodd\" fill-opacity=\"1\" stroke=\"#000000\" stroke-opacity=\"1\" stroke-width=\"3.2\"/>\n",
       "<circle clip-path=\"url(#clip082)\" cx=\"1297.2\" cy=\"1397.21\" r=\"14.4\" fill=\"#009af9\" fill-rule=\"evenodd\" fill-opacity=\"1\" stroke=\"#000000\" stroke-opacity=\"1\" stroke-width=\"3.2\"/>\n",
       "<circle clip-path=\"url(#clip082)\" cx=\"1318.1\" cy=\"1397.21\" r=\"14.4\" fill=\"#009af9\" fill-rule=\"evenodd\" fill-opacity=\"1\" stroke=\"#000000\" stroke-opacity=\"1\" stroke-width=\"3.2\"/>\n",
       "<circle clip-path=\"url(#clip082)\" cx=\"1339.01\" cy=\"1397.21\" r=\"14.4\" fill=\"#009af9\" fill-rule=\"evenodd\" fill-opacity=\"1\" stroke=\"#000000\" stroke-opacity=\"1\" stroke-width=\"3.2\"/>\n",
       "<circle clip-path=\"url(#clip082)\" cx=\"1359.91\" cy=\"1397.21\" r=\"14.4\" fill=\"#009af9\" fill-rule=\"evenodd\" fill-opacity=\"1\" stroke=\"#000000\" stroke-opacity=\"1\" stroke-width=\"3.2\"/>\n",
       "<circle clip-path=\"url(#clip082)\" cx=\"1380.81\" cy=\"1397.21\" r=\"14.4\" fill=\"#009af9\" fill-rule=\"evenodd\" fill-opacity=\"1\" stroke=\"#000000\" stroke-opacity=\"1\" stroke-width=\"3.2\"/>\n",
       "<circle clip-path=\"url(#clip082)\" cx=\"1401.71\" cy=\"1397.21\" r=\"14.4\" fill=\"#009af9\" fill-rule=\"evenodd\" fill-opacity=\"1\" stroke=\"#000000\" stroke-opacity=\"1\" stroke-width=\"3.2\"/>\n",
       "<circle clip-path=\"url(#clip082)\" cx=\"1422.61\" cy=\"1397.21\" r=\"14.4\" fill=\"#009af9\" fill-rule=\"evenodd\" fill-opacity=\"1\" stroke=\"#000000\" stroke-opacity=\"1\" stroke-width=\"3.2\"/>\n",
       "<circle clip-path=\"url(#clip082)\" cx=\"1443.52\" cy=\"1397.21\" r=\"14.4\" fill=\"#009af9\" fill-rule=\"evenodd\" fill-opacity=\"1\" stroke=\"#000000\" stroke-opacity=\"1\" stroke-width=\"3.2\"/>\n",
       "<circle clip-path=\"url(#clip082)\" cx=\"1464.42\" cy=\"1397.21\" r=\"14.4\" fill=\"#009af9\" fill-rule=\"evenodd\" fill-opacity=\"1\" stroke=\"#000000\" stroke-opacity=\"1\" stroke-width=\"3.2\"/>\n",
       "<circle clip-path=\"url(#clip082)\" cx=\"1485.32\" cy=\"1397.21\" r=\"14.4\" fill=\"#009af9\" fill-rule=\"evenodd\" fill-opacity=\"1\" stroke=\"#000000\" stroke-opacity=\"1\" stroke-width=\"3.2\"/>\n",
       "<circle clip-path=\"url(#clip082)\" cx=\"1506.22\" cy=\"1397.21\" r=\"14.4\" fill=\"#009af9\" fill-rule=\"evenodd\" fill-opacity=\"1\" stroke=\"#000000\" stroke-opacity=\"1\" stroke-width=\"3.2\"/>\n",
       "<circle clip-path=\"url(#clip082)\" cx=\"1527.13\" cy=\"1397.21\" r=\"14.4\" fill=\"#009af9\" fill-rule=\"evenodd\" fill-opacity=\"1\" stroke=\"#000000\" stroke-opacity=\"1\" stroke-width=\"3.2\"/>\n",
       "<circle clip-path=\"url(#clip082)\" cx=\"1548.03\" cy=\"1397.21\" r=\"14.4\" fill=\"#009af9\" fill-rule=\"evenodd\" fill-opacity=\"1\" stroke=\"#000000\" stroke-opacity=\"1\" stroke-width=\"3.2\"/>\n",
       "<circle clip-path=\"url(#clip082)\" cx=\"1568.93\" cy=\"1397.21\" r=\"14.4\" fill=\"#009af9\" fill-rule=\"evenodd\" fill-opacity=\"1\" stroke=\"#000000\" stroke-opacity=\"1\" stroke-width=\"3.2\"/>\n",
       "<circle clip-path=\"url(#clip082)\" cx=\"1589.83\" cy=\"1397.21\" r=\"14.4\" fill=\"#009af9\" fill-rule=\"evenodd\" fill-opacity=\"1\" stroke=\"#000000\" stroke-opacity=\"1\" stroke-width=\"3.2\"/>\n",
       "<circle clip-path=\"url(#clip082)\" cx=\"1610.73\" cy=\"1397.21\" r=\"14.4\" fill=\"#009af9\" fill-rule=\"evenodd\" fill-opacity=\"1\" stroke=\"#000000\" stroke-opacity=\"1\" stroke-width=\"3.2\"/>\n",
       "<circle clip-path=\"url(#clip082)\" cx=\"1631.64\" cy=\"1397.21\" r=\"14.4\" fill=\"#009af9\" fill-rule=\"evenodd\" fill-opacity=\"1\" stroke=\"#000000\" stroke-opacity=\"1\" stroke-width=\"3.2\"/>\n",
       "<circle clip-path=\"url(#clip082)\" cx=\"1652.54\" cy=\"1397.21\" r=\"14.4\" fill=\"#009af9\" fill-rule=\"evenodd\" fill-opacity=\"1\" stroke=\"#000000\" stroke-opacity=\"1\" stroke-width=\"3.2\"/>\n",
       "<circle clip-path=\"url(#clip082)\" cx=\"1673.44\" cy=\"1397.21\" r=\"14.4\" fill=\"#009af9\" fill-rule=\"evenodd\" fill-opacity=\"1\" stroke=\"#000000\" stroke-opacity=\"1\" stroke-width=\"3.2\"/>\n",
       "<circle clip-path=\"url(#clip082)\" cx=\"1694.34\" cy=\"1397.21\" r=\"14.4\" fill=\"#009af9\" fill-rule=\"evenodd\" fill-opacity=\"1\" stroke=\"#000000\" stroke-opacity=\"1\" stroke-width=\"3.2\"/>\n",
       "<circle clip-path=\"url(#clip082)\" cx=\"1715.24\" cy=\"1397.21\" r=\"14.4\" fill=\"#009af9\" fill-rule=\"evenodd\" fill-opacity=\"1\" stroke=\"#000000\" stroke-opacity=\"1\" stroke-width=\"3.2\"/>\n",
       "<circle clip-path=\"url(#clip082)\" cx=\"1736.15\" cy=\"1397.21\" r=\"14.4\" fill=\"#009af9\" fill-rule=\"evenodd\" fill-opacity=\"1\" stroke=\"#000000\" stroke-opacity=\"1\" stroke-width=\"3.2\"/>\n",
       "<circle clip-path=\"url(#clip082)\" cx=\"1757.05\" cy=\"1397.21\" r=\"14.4\" fill=\"#009af9\" fill-rule=\"evenodd\" fill-opacity=\"1\" stroke=\"#000000\" stroke-opacity=\"1\" stroke-width=\"3.2\"/>\n",
       "<circle clip-path=\"url(#clip082)\" cx=\"1777.95\" cy=\"1397.21\" r=\"14.4\" fill=\"#009af9\" fill-rule=\"evenodd\" fill-opacity=\"1\" stroke=\"#000000\" stroke-opacity=\"1\" stroke-width=\"3.2\"/>\n",
       "<circle clip-path=\"url(#clip082)\" cx=\"1798.85\" cy=\"1397.21\" r=\"14.4\" fill=\"#009af9\" fill-rule=\"evenodd\" fill-opacity=\"1\" stroke=\"#000000\" stroke-opacity=\"1\" stroke-width=\"3.2\"/>\n",
       "<circle clip-path=\"url(#clip082)\" cx=\"1819.75\" cy=\"1397.21\" r=\"14.4\" fill=\"#009af9\" fill-rule=\"evenodd\" fill-opacity=\"1\" stroke=\"#000000\" stroke-opacity=\"1\" stroke-width=\"3.2\"/>\n",
       "<circle clip-path=\"url(#clip082)\" cx=\"1840.66\" cy=\"1397.21\" r=\"14.4\" fill=\"#009af9\" fill-rule=\"evenodd\" fill-opacity=\"1\" stroke=\"#000000\" stroke-opacity=\"1\" stroke-width=\"3.2\"/>\n",
       "<circle clip-path=\"url(#clip082)\" cx=\"1861.56\" cy=\"1397.21\" r=\"14.4\" fill=\"#009af9\" fill-rule=\"evenodd\" fill-opacity=\"1\" stroke=\"#000000\" stroke-opacity=\"1\" stroke-width=\"3.2\"/>\n",
       "<circle clip-path=\"url(#clip082)\" cx=\"1882.46\" cy=\"1397.21\" r=\"14.4\" fill=\"#009af9\" fill-rule=\"evenodd\" fill-opacity=\"1\" stroke=\"#000000\" stroke-opacity=\"1\" stroke-width=\"3.2\"/>\n",
       "<circle clip-path=\"url(#clip082)\" cx=\"1903.36\" cy=\"1397.21\" r=\"14.4\" fill=\"#009af9\" fill-rule=\"evenodd\" fill-opacity=\"1\" stroke=\"#000000\" stroke-opacity=\"1\" stroke-width=\"3.2\"/>\n",
       "<circle clip-path=\"url(#clip082)\" cx=\"1924.26\" cy=\"1397.21\" r=\"14.4\" fill=\"#009af9\" fill-rule=\"evenodd\" fill-opacity=\"1\" stroke=\"#000000\" stroke-opacity=\"1\" stroke-width=\"3.2\"/>\n",
       "<circle clip-path=\"url(#clip082)\" cx=\"1945.17\" cy=\"1397.21\" r=\"14.4\" fill=\"#009af9\" fill-rule=\"evenodd\" fill-opacity=\"1\" stroke=\"#000000\" stroke-opacity=\"1\" stroke-width=\"3.2\"/>\n",
       "<circle clip-path=\"url(#clip082)\" cx=\"1966.07\" cy=\"1397.21\" r=\"14.4\" fill=\"#009af9\" fill-rule=\"evenodd\" fill-opacity=\"1\" stroke=\"#000000\" stroke-opacity=\"1\" stroke-width=\"3.2\"/>\n",
       "<circle clip-path=\"url(#clip082)\" cx=\"1986.97\" cy=\"1397.21\" r=\"14.4\" fill=\"#009af9\" fill-rule=\"evenodd\" fill-opacity=\"1\" stroke=\"#000000\" stroke-opacity=\"1\" stroke-width=\"3.2\"/>\n",
       "<circle clip-path=\"url(#clip082)\" cx=\"2007.87\" cy=\"1397.21\" r=\"14.4\" fill=\"#009af9\" fill-rule=\"evenodd\" fill-opacity=\"1\" stroke=\"#000000\" stroke-opacity=\"1\" stroke-width=\"3.2\"/>\n",
       "<circle clip-path=\"url(#clip082)\" cx=\"2028.77\" cy=\"1397.21\" r=\"14.4\" fill=\"#009af9\" fill-rule=\"evenodd\" fill-opacity=\"1\" stroke=\"#000000\" stroke-opacity=\"1\" stroke-width=\"3.2\"/>\n",
       "<circle clip-path=\"url(#clip082)\" cx=\"2049.68\" cy=\"1397.21\" r=\"14.4\" fill=\"#009af9\" fill-rule=\"evenodd\" fill-opacity=\"1\" stroke=\"#000000\" stroke-opacity=\"1\" stroke-width=\"3.2\"/>\n",
       "<circle clip-path=\"url(#clip082)\" cx=\"2070.58\" cy=\"1397.21\" r=\"14.4\" fill=\"#009af9\" fill-rule=\"evenodd\" fill-opacity=\"1\" stroke=\"#000000\" stroke-opacity=\"1\" stroke-width=\"3.2\"/>\n",
       "<circle clip-path=\"url(#clip082)\" cx=\"2091.48\" cy=\"1397.21\" r=\"14.4\" fill=\"#009af9\" fill-rule=\"evenodd\" fill-opacity=\"1\" stroke=\"#000000\" stroke-opacity=\"1\" stroke-width=\"3.2\"/>\n",
       "<circle clip-path=\"url(#clip082)\" cx=\"2112.38\" cy=\"1397.21\" r=\"14.4\" fill=\"#009af9\" fill-rule=\"evenodd\" fill-opacity=\"1\" stroke=\"#000000\" stroke-opacity=\"1\" stroke-width=\"3.2\"/>\n",
       "<circle clip-path=\"url(#clip082)\" cx=\"2133.28\" cy=\"1397.21\" r=\"14.4\" fill=\"#009af9\" fill-rule=\"evenodd\" fill-opacity=\"1\" stroke=\"#000000\" stroke-opacity=\"1\" stroke-width=\"3.2\"/>\n",
       "<circle clip-path=\"url(#clip082)\" cx=\"2154.19\" cy=\"1397.21\" r=\"14.4\" fill=\"#009af9\" fill-rule=\"evenodd\" fill-opacity=\"1\" stroke=\"#000000\" stroke-opacity=\"1\" stroke-width=\"3.2\"/>\n",
       "<circle clip-path=\"url(#clip082)\" cx=\"2175.09\" cy=\"1397.21\" r=\"14.4\" fill=\"#009af9\" fill-rule=\"evenodd\" fill-opacity=\"1\" stroke=\"#000000\" stroke-opacity=\"1\" stroke-width=\"3.2\"/>\n",
       "<circle clip-path=\"url(#clip082)\" cx=\"2195.99\" cy=\"1397.21\" r=\"14.4\" fill=\"#009af9\" fill-rule=\"evenodd\" fill-opacity=\"1\" stroke=\"#000000\" stroke-opacity=\"1\" stroke-width=\"3.2\"/>\n",
       "<circle clip-path=\"url(#clip082)\" cx=\"2216.89\" cy=\"1397.21\" r=\"14.4\" fill=\"#009af9\" fill-rule=\"evenodd\" fill-opacity=\"1\" stroke=\"#000000\" stroke-opacity=\"1\" stroke-width=\"3.2\"/>\n",
       "<circle clip-path=\"url(#clip082)\" cx=\"2237.79\" cy=\"1397.21\" r=\"14.4\" fill=\"#009af9\" fill-rule=\"evenodd\" fill-opacity=\"1\" stroke=\"#000000\" stroke-opacity=\"1\" stroke-width=\"3.2\"/>\n",
       "<circle clip-path=\"url(#clip082)\" cx=\"2258.7\" cy=\"1397.21\" r=\"14.4\" fill=\"#009af9\" fill-rule=\"evenodd\" fill-opacity=\"1\" stroke=\"#000000\" stroke-opacity=\"1\" stroke-width=\"3.2\"/>\n",
       "<circle clip-path=\"url(#clip082)\" cx=\"2279.6\" cy=\"1397.21\" r=\"14.4\" fill=\"#009af9\" fill-rule=\"evenodd\" fill-opacity=\"1\" stroke=\"#000000\" stroke-opacity=\"1\" stroke-width=\"3.2\"/>\n",
       "<circle clip-path=\"url(#clip082)\" cx=\"2300.5\" cy=\"1397.21\" r=\"14.4\" fill=\"#009af9\" fill-rule=\"evenodd\" fill-opacity=\"1\" stroke=\"#000000\" stroke-opacity=\"1\" stroke-width=\"3.2\"/>\n",
       "<circle clip-path=\"url(#clip082)\" cx=\"2321.4\" cy=\"1397.21\" r=\"14.4\" fill=\"#009af9\" fill-rule=\"evenodd\" fill-opacity=\"1\" stroke=\"#000000\" stroke-opacity=\"1\" stroke-width=\"3.2\"/>\n",
       "<circle clip-path=\"url(#clip082)\" cx=\"2342.3\" cy=\"1397.21\" r=\"14.4\" fill=\"#009af9\" fill-rule=\"evenodd\" fill-opacity=\"1\" stroke=\"#000000\" stroke-opacity=\"1\" stroke-width=\"3.2\"/>\n",
       "</svg>\n"
      ]
     },
     "metadata": {},
     "output_type": "display_data"
    }
   ],
   "source": [
    "if Ini.T==:block \n",
    "    # Hintergrundtemperatur ----------------------------------------- #\n",
    "    Tb      =   1000                #   [ K ]\n",
    "    \n",
    "    # Lokalität und Intensität der Temperaturanomalie --------------- #\n",
    "    xTl     =   (xmax-xmin)/10\n",
    "    xTr     =   xTl + (xmax-xmin)/10\n",
    "    Ta      =   1500                #   [ K ]\n",
    "    \n",
    "    # Erstellung des Anfangstemperaturprofiles ---------------------- #\n",
    "    T       =   Tb.*ones(nc)        \n",
    "    T[xc.>=xTl .&& xc .<= xTr ]       .=  Ta\n",
    "    Tmin    =   minimum(T)\n",
    "    Tmax    =   maximum(T)\n",
    "    tc      =   100\n",
    "elseif Ini.T==:gaussian\n",
    "    # Gaußsche Temperature Verteilung ------------------------------- #\n",
    "    Tb      =   1000                #   Hintergrundtempertur\n",
    "    Ampl    =   500                 #   Amplitude\n",
    "    sigma   =   1                   #   Standard Abweichung\n",
    "    xcG     =   (xmax-xmin)/10      #   x-Koordinate des Maximums\n",
    "    T       =   zeros(nc)\n",
    "    @. T    =  Tb + Ampl*exp(-((xc - xcG)^2)/sigma^2)\n",
    "    \n",
    "    Tmin    =   minimum(T)\n",
    "    Tmax    =   maximum(T)\n",
    "    tc      =   Ampl\n",
    "end\n",
    "TWE             =   zeros(nc+2)\n",
    "TWE[2:end-1]    .=  T\n",
    "TWE[1]          =   T[end]\n",
    "TWE[end]        =   T[1]\n",
    "TWE2            =   zeros(nc+2)\n",
    "\n",
    "q = plot(xc, T, xlabel=\"x [m]\", ylabel=\"T [°C]\", \n",
    "        title=\"Anfangstemperatur Verteilung\", \n",
    "        markershape=:circle,label=\"\",\n",
    "        xlim=(xmin,xmax), ylim=(Tmin-10, Tmax+10))\n",
    "if save_fig==0\n",
    "    display(q)\n",
    "end\n",
    "\n",
    "if FD.Method.Adv==:tracers\n",
    "    # Gesamtanzahl der Tracer\n",
    "    nm          =   (nc)*nmx\n",
    "    # Abstand der Tracer    \n",
    "    Δmx         =   (abs(xmin)+abs(xmax))/(nm+1)\n",
    "    # x-Koordinaten der Tracer    \n",
    "    xm          =   collect(xmin+Δmx:Δmx:xmax-Δmx) .+ rand(nm).*0.5*Δmx    \n",
    "    # Temperatur auf den Tracern\n",
    "    Tm          =   zeros(nm)    \n",
    "end"
   ]
  },
  {
   "cell_type": "markdown",
   "metadata": {},
   "source": [
    "Nun können wir die Gleichungen zur Lösung der Advektionsgleichung programieren. "
   ]
  },
  {
   "cell_type": "code",
   "execution_count": 158,
   "metadata": {},
   "outputs": [
    {
     "data": {
      "text/plain": [
       "\"Time step: 2\""
      ]
     },
     "metadata": {},
     "output_type": "display_data"
    },
    {
     "data": {
      "text/plain": [
       "\"ΔT=-0.8220493335298236\""
      ]
     },
     "metadata": {},
     "output_type": "display_data"
    },
    {
     "data": {
      "text/plain": [
       "\"Time step: 3\""
      ]
     },
     "metadata": {},
     "output_type": "display_data"
    },
    {
     "data": {
      "text/plain": [
       "\"ΔT=-1.2358993920288668\""
      ]
     },
     "metadata": {},
     "output_type": "display_data"
    },
    {
     "data": {
      "text/plain": [
       "\"Time step: 4\""
      ]
     },
     "metadata": {},
     "output_type": "display_data"
    },
    {
     "data": {
      "text/plain": [
       "\"ΔT=-1.2287656673330072\""
      ]
     },
     "metadata": {},
     "output_type": "display_data"
    },
    {
     "data": {
      "text/plain": [
       "\"Time step: 5\""
      ]
     },
     "metadata": {},
     "output_type": "display_data"
    },
    {
     "data": {
      "text/plain": [
       "\"ΔT=-0.8029262446779685\""
      ]
     },
     "metadata": {},
     "output_type": "display_data"
    },
    {
     "data": {
      "text/plain": [
       "\"Time step: 6\""
      ]
     },
     "metadata": {},
     "output_type": "display_data"
    },
    {
     "data": {
      "text/plain": [
       "\"ΔT=0.024609649386493376\""
      ]
     },
     "metadata": {},
     "output_type": "display_data"
    },
    {
     "data": {
      "text/plain": [
       "\"Time step: 7\""
      ]
     },
     "metadata": {},
     "output_type": "display_data"
    },
    {
     "data": {
      "text/plain": [
       "\"ΔT=-0.727388467008823\""
      ]
     },
     "metadata": {},
     "output_type": "display_data"
    },
    {
     "data": {
      "text/plain": [
       "\"Time step: 8\""
      ]
     },
     "metadata": {},
     "output_type": "display_data"
    },
    {
     "data": {
      "text/plain": [
       "\"ΔT=-1.1510170044076684\""
      ]
     },
     "metadata": {},
     "output_type": "display_data"
    },
    {
     "data": {
      "text/plain": [
       "\"Time step: 9\""
      ]
     },
     "metadata": {},
     "output_type": "display_data"
    },
    {
     "data": {
      "text/plain": [
       "\"ΔT=-1.1590067537246256\""
      ]
     },
     "metadata": {},
     "output_type": "display_data"
    },
    {
     "data": {
      "text/plain": [
       "\"Time step: 10\""
      ]
     },
     "metadata": {},
     "output_type": "display_data"
    },
    {
     "data": {
      "text/plain": [
       "\"ΔT=-0.7523276534629675\""
      ]
     },
     "metadata": {},
     "output_type": "display_data"
    },
    {
     "data": {
      "text/plain": [
       "\"Time step: 11\""
      ]
     },
     "metadata": {},
     "output_type": "display_data"
    },
    {
     "data": {
      "text/plain": [
       "\"ΔT=0.0535832050759885\""
      ]
     },
     "metadata": {},
     "output_type": "display_data"
    },
    {
     "data": {
      "text/plain": [
       "\"Time step: 12\""
      ]
     },
     "metadata": {},
     "output_type": "display_data"
    },
    {
     "data": {
      "text/plain": [
       "\"ΔT=-0.6367030154680443\""
      ]
     },
     "metadata": {},
     "output_type": "display_data"
    },
    {
     "data": {
      "text/plain": [
       "\"Time step: 13\""
      ]
     },
     "metadata": {},
     "output_type": "display_data"
    },
    {
     "data": {
      "text/plain": [
       "\"ΔT=-1.068376591595362\""
      ]
     },
     "metadata": {},
     "output_type": "display_data"
    },
    {
     "data": {
      "text/plain": [
       "\"Time step: 14\""
      ]
     },
     "metadata": {},
     "output_type": "display_data"
    },
    {
     "data": {
      "text/plain": [
       "\"ΔT=-1.0896307718521134\""
      ]
     },
     "metadata": {},
     "output_type": "display_data"
    },
    {
     "data": {
      "text/plain": [
       "\"Time step: 15\""
      ]
     },
     "metadata": {},
     "output_type": "display_data"
    },
    {
     "data": {
      "text/plain": [
       "\"ΔT=-0.7003333185863682\""
      ]
     },
     "metadata": {},
     "output_type": "display_data"
    },
    {
     "data": {
      "text/plain": [
       "\"Time step: 16\""
      ]
     },
     "metadata": {},
     "output_type": "display_data"
    },
    {
     "data": {
      "text/plain": [
       "\"ΔT=0.08546928746327687\""
      ]
     },
     "metadata": {},
     "output_type": "display_data"
    },
    {
     "data": {
      "text/plain": [
       "\"Time step: 17\""
      ]
     },
     "metadata": {},
     "output_type": "display_data"
    },
    {
     "data": {
      "text/plain": [
       "\"ΔT=-0.549692560990301\""
      ]
     },
     "metadata": {},
     "output_type": "display_data"
    },
    {
     "data": {
      "text/plain": [
       "\"Time step: 18\""
      ]
     },
     "metadata": {},
     "output_type": "display_data"
    },
    {
     "data": {
      "text/plain": [
       "\"ΔT=-0.9881208985945013\""
      ]
     },
     "metadata": {},
     "output_type": "display_data"
    },
    {
     "data": {
      "text/plain": [
       "\"Time step: 19\""
      ]
     },
     "metadata": {},
     "output_type": "display_data"
    },
    {
     "data": {
      "text/plain": [
       "\"ΔT=-1.0211525881155405\""
      ]
     },
     "metadata": {},
     "output_type": "display_data"
    },
    {
     "data": {
      "text/plain": [
       "\"Time step: 20\""
      ]
     },
     "metadata": {},
     "output_type": "display_data"
    },
    {
     "data": {
      "text/plain": [
       "\"ΔT=-0.6477230082737543\""
      ]
     },
     "metadata": {},
     "output_type": "display_data"
    },
    {
     "data": {
      "text/plain": [
       "\"Time step: 21\""
      ]
     },
     "metadata": {},
     "output_type": "display_data"
    },
    {
     "data": {
      "text/plain": [
       "\"ΔT=0.11934972458525347\""
      ]
     },
     "metadata": {},
     "output_type": "display_data"
    },
    {
     "data": {
      "text/plain": [
       "\"Time step: 22\""
      ]
     },
     "metadata": {},
     "output_type": "display_data"
    },
    {
     "data": {
      "text/plain": [
       "\"ΔT=-0.4660070283791182\""
      ]
     },
     "metadata": {},
     "output_type": "display_data"
    },
    {
     "data": {
      "text/plain": [
       "\"Time step: 23\""
      ]
     },
     "metadata": {},
     "output_type": "display_data"
    },
    {
     "data": {
      "text/plain": [
       "\"ΔT=-0.9101949944842983\""
      ]
     },
     "metadata": {},
     "output_type": "display_data"
    },
    {
     "data": {
      "text/plain": [
       "\"Time step: 24\""
      ]
     },
     "metadata": {},
     "output_type": "display_data"
    },
    {
     "data": {
      "text/plain": [
       "\"ΔT=-0.9537953610814535\""
      ]
     },
     "metadata": {},
     "output_type": "display_data"
    },
    {
     "data": {
      "text/plain": [
       "\"Time step: 25\""
      ]
     },
     "metadata": {},
     "output_type": "display_data"
    },
    {
     "data": {
      "text/plain": [
       "\"ΔT=-0.5949470843148613\""
      ]
     },
     "metadata": {},
     "output_type": "display_data"
    },
    {
     "data": {
      "text/plain": [
       "\"Time step: 26\""
      ]
     },
     "metadata": {},
     "output_type": "display_data"
    },
    {
     "data": {
      "text/plain": [
       "\"ΔT=0.15462194562428405\""
      ]
     },
     "metadata": {},
     "output_type": "display_data"
    },
    {
     "data": {
      "text/plain": [
       "\"Time step: 27\""
      ]
     },
     "metadata": {},
     "output_type": "display_data"
    },
    {
     "data": {
      "text/plain": [
       "\"ΔT=-0.38533178946819535\""
      ]
     },
     "metadata": {},
     "output_type": "display_data"
    },
    {
     "data": {
      "text/plain": [
       "\"Time step: 28\""
      ]
     },
     "metadata": {},
     "output_type": "display_data"
    },
    {
     "data": {
      "text/plain": [
       "\"ΔT=-0.8344874481105519\""
      ]
     },
     "metadata": {},
     "output_type": "display_data"
    },
    {
     "data": {
      "text/plain": [
       "\"Time step: 29\""
      ]
     },
     "metadata": {},
     "output_type": "display_data"
    },
    {
     "data": {
      "text/plain": [
       "\"ΔT=-0.8876538853482906\""
      ]
     },
     "metadata": {},
     "output_type": "display_data"
    },
    {
     "data": {
      "text/plain": [
       "\"Time step: 30\""
      ]
     },
     "metadata": {},
     "output_type": "display_data"
    },
    {
     "data": {
      "text/plain": [
       "\"ΔT=-0.5422830396728547\""
      ]
     },
     "metadata": {},
     "output_type": "display_data"
    },
    {
     "data": {
      "text/plain": [
       "\"Time step: 31\""
      ]
     },
     "metadata": {},
     "output_type": "display_data"
    },
    {
     "data": {
      "text/plain": [
       "\"ΔT=0.19087083488219858\""
      ]
     },
     "metadata": {},
     "output_type": "display_data"
    },
    {
     "data": {
      "text/plain": [
       "\"Time step: 32\""
      ]
     },
     "metadata": {},
     "output_type": "display_data"
    },
    {
     "data": {
      "text/plain": [
       "\"ΔT=-0.30739505609777745\""
      ]
     },
     "metadata": {},
     "output_type": "display_data"
    },
    {
     "data": {
      "text/plain": [
       "\"Time step: 33\""
      ]
     },
     "metadata": {},
     "output_type": "display_data"
    },
    {
     "data": {
      "text/plain": [
       "\"ΔT=-0.7608728289248712\""
      ]
     },
     "metadata": {},
     "output_type": "display_data"
    },
    {
     "data": {
      "text/plain": [
       "\"Time step: 34\""
      ]
     },
     "metadata": {},
     "output_type": "display_data"
    },
    {
     "data": {
      "text/plain": [
       "\"ΔT=-0.8227593780769522\""
      ]
     },
     "metadata": {},
     "output_type": "display_data"
    },
    {
     "data": {
      "text/plain": [
       "\"Time step: 35\""
      ]
     },
     "metadata": {},
     "output_type": "display_data"
    },
    {
     "data": {
      "text/plain": [
       "\"ΔT=-0.4899087747320438\""
      ]
     },
     "metadata": {},
     "output_type": "display_data"
    },
    {
     "data": {
      "text/plain": [
       "\"Time step: 36\""
      ]
     },
     "metadata": {},
     "output_type": "display_data"
    },
    {
     "data": {
      "text/plain": [
       "\"ΔT=0.22779960725899678\""
      ]
     },
     "metadata": {},
     "output_type": "display_data"
    },
    {
     "data": {
      "text/plain": [
       "\"Time step: 37\""
      ]
     },
     "metadata": {},
     "output_type": "display_data"
    },
    {
     "data": {
      "text/plain": [
       "\"ΔT=-0.231963147959613\""
      ]
     },
     "metadata": {},
     "output_type": "display_data"
    },
    {
     "data": {
      "text/plain": [
       "\"Time step: 38\""
      ]
     },
     "metadata": {},
     "output_type": "display_data"
    },
    {
     "data": {
      "text/plain": [
       "\"ΔT=-0.6892267934362264\""
      ]
     },
     "metadata": {},
     "output_type": "display_data"
    },
    {
     "data": {
      "text/plain": [
       "\"Time step: 39\""
      ]
     },
     "metadata": {},
     "output_type": "display_data"
    },
    {
     "data": {
      "text/plain": [
       "\"ΔT=-0.759109442883666\""
      ]
     },
     "metadata": {},
     "output_type": "display_data"
    },
    {
     "data": {
      "text/plain": [
       "\"Time step: 40\""
      ]
     },
     "metadata": {},
     "output_type": "display_data"
    },
    {
     "data": {
      "text/plain": [
       "\"ΔT=-0.4379409162901411\""
      ]
     },
     "metadata": {},
     "output_type": "display_data"
    },
    {
     "data": {
      "text/plain": [
       "\"Time step: 41\""
      ]
     },
     "metadata": {},
     "output_type": "display_data"
    },
    {
     "data": {
      "text/plain": [
       "\"ΔT=0.26519004074796937\""
      ]
     },
     "metadata": {},
     "output_type": "display_data"
    },
    {
     "data": {
      "text/plain": [
       "\"Time step: 42\""
      ]
     },
     "metadata": {},
     "output_type": "display_data"
    },
    {
     "data": {
      "text/plain": [
       "\"ΔT=-0.15883429904005866\""
      ]
     },
     "metadata": {},
     "output_type": "display_data"
    },
    {
     "data": {
      "text/plain": [
       "\"Time step: 43\""
      ]
     },
     "metadata": {},
     "output_type": "display_data"
    },
    {
     "data": {
      "text/plain": [
       "\"ΔT=-0.6194316477981919\""
      ]
     },
     "metadata": {},
     "output_type": "display_data"
    },
    {
     "data": {
      "text/plain": [
       "\"Time step: 44\""
      ]
     },
     "metadata": {},
     "output_type": "display_data"
    },
    {
     "data": {
      "text/plain": [
       "\"ΔT=-0.6966833691753382\""
      ]
     },
     "metadata": {},
     "output_type": "display_data"
    },
    {
     "data": {
      "text/plain": [
       "\"Time step: 45\""
      ]
     },
     "metadata": {},
     "output_type": "display_data"
    },
    {
     "data": {
      "text/plain": [
       "\"ΔT=-0.38645657085430396\""
      ]
     },
     "metadata": {},
     "output_type": "display_data"
    },
    {
     "data": {
      "text/plain": [
       "\"Time step: 46\""
      ]
     },
     "metadata": {},
     "output_type": "display_data"
    },
    {
     "data": {
      "text/plain": [
       "\"ΔT=0.3028781780187808\""
      ]
     },
     "metadata": {},
     "output_type": "display_data"
    },
    {
     "data": {
      "text/plain": [
       "\"Time step: 47\""
      ]
     },
     "metadata": {},
     "output_type": "display_data"
    },
    {
     "data": {
      "text/plain": [
       "\"ΔT=-0.08783312541442351\""
      ]
     },
     "metadata": {},
     "output_type": "display_data"
    },
    {
     "data": {
      "text/plain": [
       "\"Time step: 48\""
      ]
     },
     "metadata": {},
     "output_type": "display_data"
    },
    {
     "data": {
      "text/plain": [
       "\"ΔT=-0.5513781715089117\""
      ]
     },
     "metadata": {},
     "output_type": "display_data"
    },
    {
     "data": {
      "text/plain": [
       "\"Time step: 49\""
      ]
     },
     "metadata": {},
     "output_type": "display_data"
    },
    {
     "data": {
      "text/plain": [
       "\"ΔT=-0.6354504768666236\""
      ]
     },
     "metadata": {},
     "output_type": "display_data"
    },
    {
     "data": {
      "text/plain": [
       "\"Time step: 50\""
      ]
     },
     "metadata": {},
     "output_type": "display_data"
    },
    {
     "data": {
      "text/plain": [
       "\"ΔT=-0.3355064453934658\""
      ]
     },
     "metadata": {},
     "output_type": "display_data"
    },
    {
     "data": {
      "text/plain": [
       "\"Time step: 51\""
      ]
     },
     "metadata": {},
     "output_type": "display_data"
    },
    {
     "data": {
      "text/plain": [
       "\"ΔT=0.3407387403106387\""
      ]
     },
     "metadata": {},
     "output_type": "display_data"
    },
    {
     "data": {
      "text/plain": [
       "\"Time step: 52\""
      ]
     },
     "metadata": {},
     "output_type": "display_data"
    },
    {
     "data": {
      "text/plain": [
       "\"ΔT=-0.018806077876272007\""
      ]
     },
     "metadata": {},
     "output_type": "display_data"
    },
    {
     "data": {
      "text/plain": [
       "\"Time step: 53\""
      ]
     },
     "metadata": {},
     "output_type": "display_data"
    },
    {
     "data": {
      "text/plain": [
       "\"ΔT=-0.48496588584743167\""
      ]
     },
     "metadata": {},
     "output_type": "display_data"
    },
    {
     "data": {
      "text/plain": [
       "\"Time step: 54\""
      ]
     },
     "metadata": {},
     "output_type": "display_data"
    },
    {
     "data": {
      "text/plain": [
       "\"ΔT=-0.5753748788826422\""
      ]
     },
     "metadata": {},
     "output_type": "display_data"
    },
    {
     "data": {
      "text/plain": [
       "\"Time step: 55\""
      ]
     },
     "metadata": {},
     "output_type": "display_data"
    },
    {
     "data": {
      "text/plain": [
       "\"ΔT=-0.2851231376219622\""
      ]
     },
     "metadata": {},
     "output_type": "display_data"
    },
    {
     "data": {
      "text/plain": [
       "\"Time step: 56\""
      ]
     },
     "metadata": {},
     "output_type": "display_data"
    },
    {
     "data": {
      "text/plain": [
       "\"ΔT=0.37867472946444936\""
      ]
     },
     "metadata": {},
     "output_type": "display_data"
    },
    {
     "data": {
      "text/plain": [
       "\"Time step: 57\""
      ]
     },
     "metadata": {},
     "output_type": "display_data"
    },
    {
     "data": {
      "text/plain": [
       "\"ΔT=0.04838221204200813\""
      ]
     },
     "metadata": {},
     "output_type": "display_data"
    },
    {
     "data": {
      "text/plain": [
       "\"Time step: 58\""
      ]
     },
     "metadata": {},
     "output_type": "display_data"
    },
    {
     "data": {
      "text/plain": [
       "\"ΔT=-0.42010267336386264\""
      ]
     },
     "metadata": {},
     "output_type": "display_data"
    },
    {
     "data": {
      "text/plain": [
       "\"Time step: 59\""
      ]
     },
     "metadata": {},
     "output_type": "display_data"
    },
    {
     "data": {
      "text/plain": [
       "\"ΔT=-0.5164182830034972\""
      ]
     },
     "metadata": {},
     "output_type": "display_data"
    },
    {
     "data": {
      "text/plain": [
       "\"Time step: 60\""
      ]
     },
     "metadata": {},
     "output_type": "display_data"
    },
    {
     "data": {
      "text/plain": [
       "\"ΔT=-0.23532656972988622\""
      ]
     },
     "metadata": {},
     "output_type": "display_data"
    },
    {
     "data": {
      "text/plain": [
       "\"Time step: 61\""
      ]
     },
     "metadata": {},
     "output_type": "display_data"
    },
    {
     "data": {
      "text/plain": [
       "\"ΔT=0.4166102642315288\""
      ]
     },
     "metadata": {},
     "output_type": "display_data"
    },
    {
     "data": {
      "text/plain": [
       "\"Time step: 62\""
      ]
     },
     "metadata": {},
     "output_type": "display_data"
    },
    {
     "data": {
      "text/plain": [
       "\"ΔT=0.11385185857869788\""
      ]
     },
     "metadata": {},
     "output_type": "display_data"
    },
    {
     "data": {
      "text/plain": [
       "\"Time step: 63\""
      ]
     },
     "metadata": {},
     "output_type": "display_data"
    },
    {
     "data": {
      "text/plain": [
       "\"ΔT=-0.35670414723702865\""
      ]
     },
     "metadata": {},
     "output_type": "display_data"
    },
    {
     "data": {
      "text/plain": [
       "\"Time step: 64\""
      ]
     },
     "metadata": {},
     "output_type": "display_data"
    },
    {
     "data": {
      "text/plain": [
       "\"ΔT=-0.4585416700753808\""
      ]
     },
     "metadata": {},
     "output_type": "display_data"
    },
    {
     "data": {
      "text/plain": [
       "\"Time step: 65\""
      ]
     },
     "metadata": {},
     "output_type": "display_data"
    },
    {
     "data": {
      "text/plain": [
       "\"ΔT=-0.186127656619196\""
      ]
     },
     "metadata": {},
     "output_type": "display_data"
    },
    {
     "data": {
      "text/plain": [
       "\"Time step: 66\""
      ]
     },
     "metadata": {},
     "output_type": "display_data"
    },
    {
     "data": {
      "text/plain": [
       "\"ΔT=0.4544855107615424\""
      ]
     },
     "metadata": {},
     "output_type": "display_data"
    },
    {
     "data": {
      "text/plain": [
       "\"Time step: 67\""
      ]
     },
     "metadata": {},
     "output_type": "display_data"
    },
    {
     "data": {
      "text/plain": [
       "\"ΔT=0.17771007520589907\""
      ]
     },
     "metadata": {},
     "output_type": "display_data"
    },
    {
     "data": {
      "text/plain": [
       "\"Time step: 68\""
      ]
     },
     "metadata": {},
     "output_type": "display_data"
    },
    {
     "data": {
      "text/plain": [
       "\"ΔT=-0.29469295113033495\""
      ]
     },
     "metadata": {},
     "output_type": "display_data"
    },
    {
     "data": {
      "text/plain": [
       "\"Time step: 69\""
      ]
     },
     "metadata": {},
     "output_type": "display_data"
    },
    {
     "data": {
      "text/plain": [
       "\"ΔT=-0.4017063051575399\""
      ]
     },
     "metadata": {},
     "output_type": "display_data"
    },
    {
     "data": {
      "text/plain": [
       "\"Time step: 70\""
      ]
     },
     "metadata": {},
     "output_type": "display_data"
    },
    {
     "data": {
      "text/plain": [
       "\"ΔT=-0.13753084291223308\""
      ]
     },
     "metadata": {},
     "output_type": "display_data"
    },
    {
     "data": {
      "text/plain": [
       "\"Time step: 71\""
      ]
     },
     "metadata": {},
     "output_type": "display_data"
    },
    {
     "data": {
      "text/plain": [
       "\"ΔT=0.49225301290389867\""
      ]
     },
     "metadata": {},
     "output_type": "display_data"
    },
    {
     "data": {
      "text/plain": [
       "\"Time step: 72\""
      ]
     },
     "metadata": {},
     "output_type": "display_data"
    },
    {
     "data": {
      "text/plain": [
       "\"ΔT=0.2400530805059023\""
      ]
     },
     "metadata": {},
     "output_type": "display_data"
    },
    {
     "data": {
      "text/plain": [
       "\"Time step: 73\""
      ]
     },
     "metadata": {},
     "output_type": "display_data"
    },
    {
     "data": {
      "text/plain": [
       "\"ΔT=-0.2339980710695177\""
      ]
     },
     "metadata": {},
     "output_type": "display_data"
    },
    {
     "data": {
      "text/plain": [
       "\"Time step: 74\""
      ]
     },
     "metadata": {},
     "output_type": "display_data"
    },
    {
     "data": {
      "text/plain": [
       "\"ΔT=-0.34587434183411325\""
      ]
     },
     "metadata": {},
     "output_type": "display_data"
    },
    {
     "data": {
      "text/plain": [
       "\"Time step: 75\""
      ]
     },
     "metadata": {},
     "output_type": "display_data"
    },
    {
     "data": {
      "text/plain": [
       "\"ΔT=-0.08953589307432565\""
      ]
     },
     "metadata": {},
     "output_type": "display_data"
    },
    {
     "data": {
      "text/plain": [
       "\"Time step: 76\""
      ]
     },
     "metadata": {},
     "output_type": "display_data"
    },
    {
     "data": {
      "text/plain": [
       "\"ΔT=0.5298749838359861\""
      ]
     },
     "metadata": {},
     "output_type": "display_data"
    },
    {
     "data": {
      "text/plain": [
       "\"Time step: 77\""
      ]
     },
     "metadata": {},
     "output_type": "display_data"
    },
    {
     "data": {
      "text/plain": [
       "\"ΔT=0.30096765397300107\""
      ]
     },
     "metadata": {},
     "output_type": "display_data"
    },
    {
     "data": {
      "text/plain": [
       "\"Time step: 78\""
      ]
     },
     "metadata": {},
     "output_type": "display_data"
    },
    {
     "data": {
      "text/plain": [
       "\"ΔT=-0.1745541942104981\""
      ]
     },
     "metadata": {},
     "output_type": "display_data"
    },
    {
     "data": {
      "text/plain": [
       "\"Time step: 79\""
      ]
     },
     "metadata": {},
     "output_type": "display_data"
    },
    {
     "data": {
      "text/plain": [
       "\"ΔT=-0.2910091733803259\""
      ]
     },
     "metadata": {},
     "output_type": "display_data"
    },
    {
     "data": {
      "text/plain": [
       "\"Time step: 80\""
      ]
     },
     "metadata": {},
     "output_type": "display_data"
    },
    {
     "data": {
      "text/plain": [
       "\"ΔT=-0.04213917578002953\""
      ]
     },
     "metadata": {},
     "output_type": "display_data"
    },
    {
     "data": {
      "text/plain": [
       "\"Time step: 81\""
      ]
     },
     "metadata": {},
     "output_type": "display_data"
    },
    {
     "data": {
      "text/plain": [
       "\"ΔT=0.5673212734171114\""
      ]
     },
     "metadata": {},
     "output_type": "display_data"
    },
    {
     "data": {
      "text/plain": [
       "\"Time step: 82\""
      ]
     },
     "metadata": {},
     "output_type": "display_data"
    },
    {
     "data": {
      "text/plain": [
       "\"ΔT=0.3605324164712995\""
      ]
     },
     "metadata": {},
     "output_type": "display_data"
    },
    {
     "data": {
      "text/plain": [
       "\"Time step: 83\""
      ]
     },
     "metadata": {},
     "output_type": "display_data"
    },
    {
     "data": {
      "text/plain": [
       "\"ΔT=-0.11630112701164771\""
      ]
     },
     "metadata": {},
     "output_type": "display_data"
    },
    {
     "data": {
      "text/plain": [
       "\"Time step: 84\""
      ]
     },
     "metadata": {},
     "output_type": "display_data"
    },
    {
     "data": {
      "text/plain": [
       "\"ΔT=-0.2370756242189787\""
      ]
     },
     "metadata": {},
     "output_type": "display_data"
    },
    {
     "data": {
      "text/plain": [
       "\"Time step: 85\""
      ]
     },
     "metadata": {},
     "output_type": "display_data"
    },
    {
     "data": {
      "text/plain": [
       "\"ΔT=0.004665401664249847\""
      ]
     },
     "metadata": {},
     "output_type": "display_data"
    },
    {
     "data": {
      "text/plain": [
       "\"Time step: 86\""
      ]
     },
     "metadata": {},
     "output_type": "display_data"
    },
    {
     "data": {
      "text/plain": [
       "\"ΔT=0.6045678202094346\""
      ]
     },
     "metadata": {},
     "output_type": "display_data"
    },
    {
     "data": {
      "text/plain": [
       "\"Time step: 87\""
      ]
     },
     "metadata": {},
     "output_type": "display_data"
    },
    {
     "data": {
      "text/plain": [
       "\"ΔT=0.41881889251332305\""
      ]
     },
     "metadata": {},
     "output_type": "display_data"
    },
    {
     "data": {
      "text/plain": [
       "\"Time step: 88\""
      ]
     },
     "metadata": {},
     "output_type": "display_data"
    },
    {
     "data": {
      "text/plain": [
       "\"ΔT=-0.0591832746635113\""
      ]
     },
     "metadata": {},
     "output_type": "display_data"
    },
    {
     "data": {
      "text/plain": [
       "\"Time step: 89\""
      ]
     },
     "metadata": {},
     "output_type": "display_data"
    },
    {
     "data": {
      "text/plain": [
       "\"ΔT=-0.18404003983521683\""
      ]
     },
     "metadata": {},
     "output_type": "display_data"
    },
    {
     "data": {
      "text/plain": [
       "\"Time step: 90\""
      ]
     },
     "metadata": {},
     "output_type": "display_data"
    },
    {
     "data": {
      "text/plain": [
       "\"ΔT=0.05088570556828111\""
      ]
     },
     "metadata": {},
     "output_type": "display_data"
    },
    {
     "data": {
      "text/plain": [
       "\"Time step: 91\""
      ]
     },
     "metadata": {},
     "output_type": "display_data"
    },
    {
     "data": {
      "text/plain": [
       "\"ΔT=0.6415954573421991\""
      ]
     },
     "metadata": {},
     "output_type": "display_data"
    },
    {
     "data": {
      "text/plain": [
       "\"Time step: 92\""
      ]
     },
     "metadata": {},
     "output_type": "display_data"
    },
    {
     "data": {
      "text/plain": [
       "\"ΔT=0.47589239825570046\""
      ]
     },
     "metadata": {},
     "output_type": "display_data"
    },
    {
     "data": {
      "text/plain": [
       "\"Time step: 93\""
      ]
     },
     "metadata": {},
     "output_type": "display_data"
    },
    {
     "data": {
      "text/plain": [
       "\"ΔT=-0.0031491787297612114\""
      ]
     },
     "metadata": {},
     "output_type": "display_data"
    },
    {
     "data": {
      "text/plain": [
       "\"Time step: 94\""
      ]
     },
     "metadata": {},
     "output_type": "display_data"
    },
    {
     "data": {
      "text/plain": [
       "\"ΔT=-0.1318703120614198\""
      ]
     },
     "metadata": {},
     "output_type": "display_data"
    },
    {
     "data": {
      "text/plain": [
       "\"Time step: 95\""
      ]
     },
     "metadata": {},
     "output_type": "display_data"
    },
    {
     "data": {
      "text/plain": [
       "\"ΔT=0.0965308648052963\""
      ]
     },
     "metadata": {},
     "output_type": "display_data"
    },
    {
     "data": {
      "text/plain": [
       "\"Time step: 96\""
      ]
     },
     "metadata": {},
     "output_type": "display_data"
    },
    {
     "data": {
      "text/plain": [
       "\"ΔT=0.6783889807846131\""
      ]
     },
     "metadata": {},
     "output_type": "display_data"
    },
    {
     "data": {
      "text/plain": [
       "\"Time step: 97\""
      ]
     },
     "metadata": {},
     "output_type": "display_data"
    },
    {
     "data": {
      "text/plain": [
       "\"ΔT=0.5318127891374703\""
      ]
     },
     "metadata": {},
     "output_type": "display_data"
    },
    {
     "data": {
      "text/plain": [
       "\"Time step: 98\""
      ]
     },
     "metadata": {},
     "output_type": "display_data"
    },
    {
     "data": {
      "text/plain": [
       "\"ΔT=0.05184889208104679\""
      ]
     },
     "metadata": {},
     "output_type": "display_data"
    },
    {
     "data": {
      "text/plain": [
       "\"Time step: 99\""
      ]
     },
     "metadata": {},
     "output_type": "display_data"
    },
    {
     "data": {
      "text/plain": [
       "\"ΔT=-0.08053586346719993\""
      ]
     },
     "metadata": {},
     "output_type": "display_data"
    },
    {
     "data": {
      "text/plain": [
       "\"Time step: 100\""
      ]
     },
     "metadata": {},
     "output_type": "display_data"
    },
    {
     "data": {
      "text/plain": [
       "\"ΔT=0.14161088797539054\""
      ]
     },
     "metadata": {},
     "output_type": "display_data"
    },
    {
     "data": {
      "text/plain": [
       "\"Time step: 101\""
      ]
     },
     "metadata": {},
     "output_type": "display_data"
    },
    {
     "data": {
      "text/plain": [
       "\"ΔT=0.7149364131749948\""
      ]
     },
     "metadata": {},
     "output_type": "display_data"
    },
    {
     "data": {
      "text/plain": [
       "\"Time step: 102\""
      ]
     },
     "metadata": {},
     "output_type": "display_data"
    },
    {
     "data": {
      "text/plain": [
       "\"ΔT=0.5866350924599386\""
      ]
     },
     "metadata": {},
     "output_type": "display_data"
    },
    {
     "data": {
      "text/plain": [
       "\"Time step: 103\""
      ]
     },
     "metadata": {},
     "output_type": "display_data"
    },
    {
     "data": {
      "text/plain": [
       "\"ΔT=0.10585528827757533\""
      ]
     },
     "metadata": {},
     "output_type": "display_data"
    },
    {
     "data": {
      "text/plain": [
       "\"Time step: 104\""
      ]
     },
     "metadata": {},
     "output_type": "display_data"
    },
    {
     "data": {
      "text/plain": [
       "\"ΔT=-0.03000757813072118\""
      ]
     },
     "metadata": {},
     "output_type": "display_data"
    },
    {
     "data": {
      "text/plain": [
       "\"Time step: 105\""
      ]
     },
     "metadata": {},
     "output_type": "display_data"
    },
    {
     "data": {
      "text/plain": [
       "\"ΔT=0.18613689571692554\""
      ]
     },
     "metadata": {},
     "output_type": "display_data"
    },
    {
     "data": {
      "text/plain": [
       "\"Time step: 106\""
      ]
     },
     "metadata": {},
     "output_type": "display_data"
    },
    {
     "data": {
      "text/plain": [
       "\"ΔT=0.751226912618655\""
      ]
     },
     "metadata": {},
     "output_type": "display_data"
    },
    {
     "data": {
      "text/plain": [
       "\"Time step: 107\""
      ]
     },
     "metadata": {},
     "output_type": "display_data"
    },
    {
     "data": {
      "text/plain": [
       "\"ΔT=0.6404127032303124\""
      ]
     },
     "metadata": {},
     "output_type": "display_data"
    },
    {
     "data": {
      "text/plain": [
       "\"Time step: 108\""
      ]
     },
     "metadata": {},
     "output_type": "display_data"
    },
    {
     "data": {
      "text/plain": [
       "\"ΔT=0.15890838945730634\""
      ]
     },
     "metadata": {},
     "output_type": "display_data"
    },
    {
     "data": {
      "text/plain": [
       "\"Time step: 109\""
      ]
     },
     "metadata": {},
     "output_type": "display_data"
    },
    {
     "data": {
      "text/plain": [
       "\"ΔT=0.019465166128989405\""
      ]
     },
     "metadata": {},
     "output_type": "display_data"
    },
    {
     "data": {
      "text/plain": [
       "\"Time step: 110\""
      ]
     },
     "metadata": {},
     "output_type": "display_data"
    },
    {
     "data": {
      "text/plain": [
       "\"ΔT=0.23264623249755045\""
      ]
     },
     "metadata": {},
     "output_type": "display_data"
    },
    {
     "data": {
      "text/plain": [
       "\"Time step: 111\""
      ]
     },
     "metadata": {},
     "output_type": "display_data"
    },
    {
     "data": {
      "text/plain": [
       "\"ΔT=0.7767805354146782\""
      ]
     },
     "metadata": {},
     "output_type": "display_data"
    },
    {
     "data": {
      "text/plain": [
       "\"Time step: 112\""
      ]
     },
     "metadata": {},
     "output_type": "display_data"
    },
    {
     "data": {
      "text/plain": [
       "\"ΔT=0.687613323256029\""
      ]
     },
     "metadata": {},
     "output_type": "display_data"
    },
    {
     "data": {
      "text/plain": [
       "\"Time step: 113\""
      ]
     },
     "metadata": {},
     "output_type": "display_data"
    },
    {
     "data": {
      "text/plain": [
       "\"ΔT=0.19072680905739858\""
      ]
     },
     "metadata": {},
     "output_type": "display_data"
    },
    {
     "data": {
      "text/plain": [
       "\"Time step: 114\""
      ]
     },
     "metadata": {},
     "output_type": "display_data"
    },
    {
     "data": {
      "text/plain": [
       "\"ΔT=0.5326261777185785\""
      ]
     },
     "metadata": {},
     "output_type": "display_data"
    },
    {
     "data": {
      "text/plain": [
       "\"Time step: 115\""
      ]
     },
     "metadata": {},
     "output_type": "display_data"
    },
    {
     "data": {
      "text/plain": [
       "\"ΔT=0.6888696032967606\""
      ]
     },
     "metadata": {},
     "output_type": "display_data"
    },
    {
     "data": {
      "text/plain": [
       "\"Time step: 116\""
      ]
     },
     "metadata": {},
     "output_type": "display_data"
    },
    {
     "data": {
      "text/plain": [
       "\"ΔT=1.2241988037566713\""
      ]
     },
     "metadata": {},
     "output_type": "display_data"
    },
    {
     "data": {
      "text/plain": [
       "\"Time step: 117\""
      ]
     },
     "metadata": {},
     "output_type": "display_data"
    },
    {
     "data": {
      "text/plain": [
       "\"ΔT=1.1246828559114745\""
      ]
     },
     "metadata": {},
     "output_type": "display_data"
    },
    {
     "data": {
      "text/plain": [
       "\"Time step: 118\""
      ]
     },
     "metadata": {},
     "output_type": "display_data"
    },
    {
     "data": {
      "text/plain": [
       "\"ΔT=0.666051530670396\""
      ]
     },
     "metadata": {},
     "output_type": "display_data"
    },
    {
     "data": {
      "text/plain": [
       "\"Time step: 119\""
      ]
     },
     "metadata": {},
     "output_type": "display_data"
    },
    {
     "data": {
      "text/plain": [
       "\"ΔT=0.5318330763900188\""
      ]
     },
     "metadata": {},
     "output_type": "display_data"
    },
    {
     "data": {
      "text/plain": [
       "\"Time step: 120\""
      ]
     },
     "metadata": {},
     "output_type": "display_data"
    },
    {
     "data": {
      "text/plain": [
       "\"ΔT=0.7299153642027834\""
      ]
     },
     "metadata": {},
     "output_type": "display_data"
    },
    {
     "data": {
      "text/plain": [
       "\"Time step: 121\""
      ]
     },
     "metadata": {},
     "output_type": "display_data"
    },
    {
     "data": {
      "text/plain": [
       "\"ΔT=1.257774724929349\""
      ]
     },
     "metadata": {},
     "output_type": "display_data"
    },
    {
     "data": {
      "text/plain": [
       "\"Time step: 122\""
      ]
     },
     "metadata": {},
     "output_type": "display_data"
    },
    {
     "data": {
      "text/plain": [
       "\"ΔT=1.1730868276580628\""
      ]
     },
     "metadata": {},
     "output_type": "display_data"
    },
    {
     "data": {
      "text/plain": [
       "\"Time step: 123\""
      ]
     },
     "metadata": {},
     "output_type": "display_data"
    },
    {
     "data": {
      "text/plain": [
       "\"ΔT=0.7129975763989824\""
      ]
     },
     "metadata": {},
     "output_type": "display_data"
    },
    {
     "data": {
      "text/plain": [
       "\"Time step: 124\""
      ]
     },
     "metadata": {},
     "output_type": "display_data"
    },
    {
     "data": {
      "text/plain": [
       "\"ΔT=0.5761455119030351\""
      ]
     },
     "metadata": {},
     "output_type": "display_data"
    },
    {
     "data": {
      "text/plain": [
       "\"Time step: 125\""
      ]
     },
     "metadata": {},
     "output_type": "display_data"
    },
    {
     "data": {
      "text/plain": [
       "\"ΔT=0.7693879152382588\""
      ]
     },
     "metadata": {},
     "output_type": "display_data"
    }
   ],
   "source": [
    "# Lösen der Advektionsgleichung --------------------------------------- #\n",
    "for i = 2:nt\n",
    "    display(string(\"Time step: \",i))\n",
    "    TWE[2:end-1]    .=  T\n",
    "    TWE[1]          =   T[end]\n",
    "    TWE[end]        =   T[1]\n",
    "    \n",
    "    if FD.Method.Adv==:FTCS        \n",
    "        T       .= \n",
    "            TWE[2:end-1] .- (vx*Δt/2.0/Δx).*(TWE[3:end].- TWE[1:end-2])\n",
    "    elseif FD.Method.Adv==:upwind\n",
    "        if vx > 0\n",
    "            T       .= \n",
    "                TWE[2:end-1] .- vx*Δt/Δx.*( TWE[2:end-1] .- TWE[1:end-2] )\n",
    "        elseif vx < 0\n",
    "            T .= \n",
    "                TWE[2:end-1] .- vx*Δt/Δx.*( TWE[3:end] .- TWE[2:end-1] ) \n",
    "        end\n",
    "    elseif FD.Method.Adv==:downwind\n",
    "        T   .= \n",
    "            TWE[2:end-1] .- vx*Δt/Δx.*( TWE[3:end] .- TWE[2:end-1] )\n",
    "    elseif FD.Method.Adv==:lax\n",
    "        T   .= ( TWE[3:end] .+ TWE[1:end-2])./2 .-\n",
    "            (vx*Δt/2/Δx) .* (TWE[3:end] .- TWE[1:end-2])\n",
    "    elseif FD.Method.Adv==:slf\n",
    "        if i==2\n",
    "            T   .= \n",
    "                TWE[2:end-1] .- vx*Δt/Δx*( TWE[3:end] .- TWE[1:end-2])\n",
    "        else\n",
    "            T   .= \n",
    "                TWE2[2:end-1] .- vx*Δt/Δx .* (TWE[3:end] .- TWE[1:end-2])\n",
    "        end\n",
    "        TWE2 .= TWE\n",
    "    elseif FD.Method.Adv==:semilag\n",
    "        X           .=  xc .- Δt*vx\n",
    "        itp_cubic   =   cubic_spline_interpolation(xcwe,TWE)\n",
    "        T           .=   itp_cubic.(X)\n",
    "        # spl     =   Spline1D(xcwe,TWE;k=3)\n",
    "        # T       =   spl.(X)\n",
    "        # Itp1D_Centers2Markers!(T,X,TWE,xcwe,Δx,xmin-Δx)        \n",
    "    elseif FD.Method.Adv==:tracers \n",
    "        itp_cubic   =   cubic_spline_interpolation(xcwe,TWE)\n",
    "        Tm          .=  itp_cubic.(xm)\n",
    "        s = plot(xm,Tm)        \n",
    "        # spl     =   Spline1D(xcwe,TWE;k=1) \n",
    "        # Tm      =   spl.(xm)        \n",
    "        #Itp1D_Centers2Markers!(Tm,xm,TWE,xcwe,Δx,xmin-Δx)\n",
    "        RK4O1D!( xm, Δt, vx, xmin, xmax )        \n",
    "        XMT         =   hcat(xm,Tm)        \n",
    "        XMT         =   sortslices(XMT,dims=1)\n",
    "        xm          .=  XMT[:,1]\n",
    "        Tm          .=  XMT[:,2]\n",
    "        plot!(s,xm,Tm)\n",
    "        display(s)\n",
    "        @show xm Tm\n",
    "        @show typeof(xm) size(xm) typeof(Tm) size(Tm)\n",
    "        itp_cubic2  =   cubic_spline_interpolation(xm,Tm) \n",
    "        # Does not work so far, since interpolations.jl does only allow regular spacing for\n",
    "        # coordinates! \n",
    "        T           .=  itp_cubic2.(xc)\n",
    "        #spl2    =   Spline1D(xm,Tm;k=1)\n",
    "        #T       =   spl2.(xc)\n",
    "        #Itp1D_Markers2Centers!( T, xc, Tm, xm, Δx, xmin)\n",
    "    end\n",
    "    \n",
    "    display(string(\"ΔT=\",((Tmax-maximum(T))/Tmax)*100))\n",
    "\n",
    "    # Darstellung des Profils\n",
    "    q = plot(xc, T, xlabel=\"x [m]\", ylabel=\"T [°C]\", \n",
    "            title=\"Anfangstemperatur Verteilung\", \n",
    "            markershape=:circle,label=\"\",\n",
    "            xlim=(xmin,xmax), ylim=(Tmin-10, Tmax+10))\n",
    "    #plot!(q,xc, T2,linstyle=:dash)\n",
    "    if FD.Method.Adv==:tracers \n",
    "        plot!(xm,Tm,markershape=:circle,label=\"\",linealpha=:0)        \n",
    "    end    \n",
    "    if save_fig == 1\n",
    "        Plots.frame(anim)\n",
    "    else\n",
    "        #display(q)\n",
    "    end\n",
    "end\n",
    "\n",
    "# Speicher Animation ---------------------------------------------------- #\n",
    "if save_fig == 1\n",
    "    # Write the frames to a GIF file\n",
    "    Plots.gif(anim, string( path, filename, \".gif\" ), fps = 15)\n",
    "    foreach(rm, filter(startswith(string(path,\"00\")), readdir(path,join=true)))\n",
    "end\n",
    "# ----------------------------------------------------------------------- #\n"
   ]
  }
 ],
 "metadata": {
  "kernelspec": {
   "display_name": "Julia 1.11.2",
   "language": "julia",
   "name": "julia-1.11"
  },
  "language_info": {
   "file_extension": ".jl",
   "mimetype": "application/julia",
   "name": "julia",
   "version": "1.11.2"
  }
 },
 "nbformat": 4,
 "nbformat_minor": 2
}
