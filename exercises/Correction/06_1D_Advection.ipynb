{
 "cells": [
  {
   "cell_type": "markdown",
   "metadata": {},
   "source": [
    "# Advektionsgleichung (1D)"
   ]
  },
  {
   "cell_type": "markdown",
   "metadata": {},
   "source": [
    "Bisher haben wir die Energieerhaltungsgleichung nur ohne den Transport von Materialien (der Advektion)\n",
    "betrachtet. Häufig haben wir aber ein Problem in dem sich das Material bewegt und bestimmte Größen, wie\n",
    "z.B. die Temperatur, Dichte, etc., transportiert werden müssen (z.B. in Mantleplumes). Generell gesehen, ist die\n",
    "Mantelkonvektion ein Beispiel eines Systems, in welchem die Temperatur sowohl durch **Diffusion** (vor allem in\n",
    "den Grenzschichten) als auch **Advektion** (vor allem in Inneren) transportiert wird.\n",
    "\n",
    "Betrachten wir im Folgenden nur die **Advektion** alleine (d.h. k, κ = 0).\n",
    "\n",
    "Im 1-D Fall reduziert sich die Gleichung dadurch zur reinen Advektionsgleichung:\n",
    "\n",
    "$$\n",
    "\\frac{\\partial{T}}{\\partial{t}}=-v_x\\frac{\\partial{T}}{\\partial{x}}. \\tag{1}\n",
    "$$\n",
    "\n",
    "Diese Gleichung lässt sich durch verschiedene Diskretisierungsverfahren numerisch lösen und wir wollen\n",
    "verschiedene Verfahren programieren und auf ein bestimmtes Advektionsproblem anwenden."
   ]
  },
  {
   "cell_type": "markdown",
   "metadata": {},
   "source": [
    "Betrachten wir dazu zwei 1-D Probleme (z.B. ein horizontales Temperaturprofil) mit bestimmten Anomalien:\n",
    "\n",
    "&emsp;    • Einen Gaußchen Temperaturverlauf (ein glatter Übergang):<br>\n",
    "<img src=\"../Figures/Exercise06_gaussian.png\" alt=\"drawing\" width=\"400\"/> <br>\n",
    "\n",
    "\n",
    "&emsp;    • Eine block-förmige Temperaturanomalie (ein sehr scharfer Übergang):<br>\n",
    "<img src=\"../Figures/Exercise06_block.png\" alt=\"drawing\" width=\"400\"/> <br>\n"
   ]
  },
  {
   "cell_type": "markdown",
   "metadata": {},
   "source": [
    "Erstellen wir dazu erst einmal wieder unsere Geometrie und die benötigten numerischen Parameter (d.h.\n",
    "Gitterauflösung, Gitter, etc.):"
   ]
  }
 ],
 "metadata": {
  "language_info": {
   "name": "python"
  }
 },
 "nbformat": 4,
 "nbformat_minor": 2
}
