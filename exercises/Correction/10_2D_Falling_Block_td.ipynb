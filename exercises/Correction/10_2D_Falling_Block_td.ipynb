{
 "cells": [
  {
   "cell_type": "markdown",
   "metadata": {},
   "source": [
    "# Stokes Gleichung (2D)"
   ]
  },
  {
   "cell_type": "markdown",
   "metadata": {},
   "source": [
    "## Fallender Block (konstante Viskosität, zeitabhängig)"
   ]
  },
  {
   "cell_type": "markdown",
   "metadata": {},
   "source": [
    "Beschäftigen wir uns nun mit dem **zeitabhängigen**, isoviskosen  Problem des fallenden Blocks. \n",
    "\n",
    "Dazu müssen wir die Lösung der **Impulserhaltung** mit der Lösung der **Advektionsgleichung** koppeln. Die Koppelung führen wir durch, indem wir zuerst die Impulserhaltung nach den Geschwindigkeiten lösen und dann die Dichte (oder im Falle von passiven Markern, die Phase) mit der Advektionsgleichung transportieren. "
   ]
  },
  {
   "cell_type": "markdown",
   "metadata": {},
   "source": [
    "### Das Problem"
   ]
  },
  {
   "cell_type": "markdown",
   "metadata": {},
   "source": [
    "Anders als im vollständigen Benchmark für dieses Problem, konzentrieren wir uns hier nur auf den **isoviskosen** Fall (im Benchmark betrachtet man die Sinkgeschwindigkeit und Deformation des Blockes in Abhängigkeit des Viskositätskontrastes [siehe hier](../../examples/Benchmarks/)). \n",
    "\n",
    "Dabei nehmen wir einen quadratischen Körper mit einer gewissen Breite (**W**), Höhe (**T**), und Dichte ($\\rho_b$) an, der sich in einem bestimmten viskosen Medium ($\\eta_m$) mit einer gewissen Dichte ($\\rho_m$) befindet. Die zu modellierende Umgebung ist ebenfalls quadratisch mit einer gewissen Länge ($L=500\\ \\textrm{km}$) und Höhe ($H=500\\ \\textrm{km}$) und wir nehmen überall *free slip* Geschwindigkeitsrandbedingungen an.  "
   ]
  },
  {
   "cell_type": "markdown",
   "metadata": {},
   "source": [
    "<img src=\"../Figures/Exercise09_1.png\" alt=\"drawing\" width=\"450\"/> <br>\n",
    "**Abb. 1.** Modelaufbau "
   ]
  },
  {
   "cell_type": "markdown",
   "metadata": {},
   "source": [
    "Eine detaillierte Beschreibung wie die Modelldomäne durch ein numerisches Gitter aufgeteilt werden kann, sowie die Diskretisierung der **Impulserhaltung** und **Massenerhaltung** in Abhängigkeit von *free slip* oder *no slip* Randbedingungen ist [hier](../../examples/StokesEquation/2D/README.md) gegeben. Auf Grund des Umfanges verzichten wir hier auf eine detaillierte Erklärung. \n",
    "\n",
    "Wir würden gerne möglichst viele der Advektionsmechanismen in das Problem einbauen, so dass wir neben der Änderung für die Zeitabhängigkeit noch zusätzliche Änderungen vornehmen müssen. Die Änderungen werden im Weiteren in **fett**-gedruckter Schrift gekennzeichnet. \n",
    "\n",
    "Für zusätzliche Informationen siehe die [vorrangehende Übung](09_2D_Falling_Block.ipynb)."
   ]
  },
  {
   "cell_type": "markdown",
   "metadata": {},
   "source": [
    "Laden wir zuerst einmal die notwendigen Module zur Visualisierung der Ergebnisse, Lösen des linearen Gleichungssystems, Aufstellen der Anfangsbedingungen, und dem Lösen der zweidimensionalen Impulserhaltuing. Durch die Verwendung der Advektion und der Tracer kommen noch zusätzliche Module hinzu. "
   ]
  },
  {
   "cell_type": "code",
   "execution_count": 1,
   "metadata": {},
   "outputs": [],
   "source": [
    "using Plots\n",
    "using ExtendableSparse\n",
    "using GeoModBox.InitialCondition, GeoModBox.MomentumEquation.TwoD\n",
    "using GeoModBox.AdvectionEquation.TwoD\n",
    "using GeoModBox.Tracers.TwoD\n",
    "using Base.Threads\n",
    "using Printf"
   ]
  },
  {
   "cell_type": "markdown",
   "metadata": {},
   "source": [
    "Zuerst definieren wir mit Hilfe des **Tupels FD die Methode der Advektion**."
   ]
  },
  {
   "cell_type": "code",
   "execution_count": 2,
   "metadata": {},
   "outputs": [
    {
     "data": {
      "text/plain": [
       "(Method = (Adv = :tracers,),)"
      ]
     },
     "metadata": {},
     "output_type": "display_data"
    }
   ],
   "source": [
    "# Define Numerical Scheme =========================================== #\n",
    "# Advection ---\n",
    "#   1) upwind, 2) slf, 3) semilag, 4) tracers\n",
    "FD          =   (Method     = (Adv=:tracers,),)\n",
    "# ------------------------------------------------------------------- #"
   ]
  },
  {
   "cell_type": "markdown",
   "metadata": {},
   "source": [
    "Mit Hilfe der eingebauten Funktion ```IniPhase()``` lässt sich die Anfangsdichteverteilung für unser Problem *block* erstellen. Je nach Bedarf, erstellt die Funktion eine Anfangsverteilung von bestimmten Größen auf dem numerischen Gitter. Zur Nutzung der Funktion brauchen wir das Tuple ```Ini```, in dem die Verteilung definiert ist (hier für die Phase *p*). Die mit ```IniPhase()``` erstellte Dichteverteilung auf den Zentroids wird von allen Advektionsmethoden verwendet, außer im Falle der Tracer. Für diese wird eine alternative Initialisierung angewendet. "
   ]
  },
  {
   "cell_type": "code",
   "execution_count": 3,
   "metadata": {},
   "outputs": [
    {
     "data": {
      "text/plain": [
       "(qinc = 5, qsc = 3.15576e9)"
      ]
     },
     "metadata": {},
     "output_type": "display_data"
    }
   ],
   "source": [
    "# Define Initial Condition ========================================== #\n",
    "# Density --- \n",
    "#   1) block\n",
    "Ini         =   (p=:block,) \n",
    "# ------------------------------------------------------------------- #\n",
    "# Plot Settings ===================================================== #\n",
    "Pl  =   (\n",
    "    qinc    =   5,\n",
    "    qsc     =   100*(60*60*24*365.25)*1e0\n",
    ")\n",
    "# ------------------------------------------------------------------- #"
   ]
  },
  {
   "cell_type": "markdown",
   "metadata": {},
   "source": [
    "Als nächstes definieren wir die Geometrie unsere Modeldomäne. "
   ]
  },
  {
   "cell_type": "code",
   "execution_count": 4,
   "metadata": {},
   "outputs": [
    {
     "data": {
      "text/plain": [
       "(xmin = 0.0, xmax = 500000.0, ymin = -500000.0, ymax = 0.0)"
      ]
     },
     "metadata": {},
     "output_type": "display_data"
    }
   ],
   "source": [
    " # Geometry ========================================================== #\n",
    " M       =   (\n",
    "    xmin    =   0.0,\n",
    "    xmax    =   500.0e3,    # [ m ]\n",
    "    ymin    =   -500.0e3,   # [ m ]\n",
    "    ymax    =   0.0,\n",
    ")\n",
    "# ------------------------------------------------------------------- #"
   ]
  },
  {
   "cell_type": "markdown",
   "metadata": {},
   "source": [
    "Nun definieren wir unsere Gitter Auflösung $\\left(nc_x = nc_y = 50\\right)$ und das numerische Gitter.\n",
    "\n",
    "Dabei müssen wir sowohl die Gitterbreite $\\Delta{x}$ und $\\Delta{y}$ als auch die Koordinaten der unterschiedlichen Gitter (*Eckpunkte* und *Zentroids*) angeben. Dazu definieren wir zuerst die jeweiligen 1-D Koordinatenvektoren, aus denen dann die 2-D Koordinatengitter erstellt werden.  "
   ]
  },
  {
   "cell_type": "code",
   "execution_count": 5,
   "metadata": {},
   "outputs": [
    {
     "data": {
      "text/plain": [
       "(c = LinRange{Float64}(-495000.0, -5000.0, 50), ce = LinRange{Float64}(-505000.0, 5000.0, 52), v = LinRange{Float64}(-500000.0, 0.0, 51), c2d = [-495000.0 -484999.99999999994 … -15000.000000000011 -5000.0; -495000.0 -484999.99999999994 … -15000.000000000011 -5000.0; … ; -495000.0 -484999.99999999994 … -15000.000000000011 -5000.0; -495000.0 -484999.99999999994 … -15000.000000000011 -5000.0], v2d = [-500000.0 -490000.0 … -10000.00000000001 0.0; -500000.0 -490000.0 … -10000.00000000001 0.0; … ; -500000.0 -490000.0 … -10000.00000000001 0.0; -500000.0 -490000.0 … -10000.00000000001 0.0], vx2d = [-505000.0 -495000.0 … -5000.00000000002 5000.0; -505000.0 -495000.0 … -5000.00000000002 5000.0; … ; -505000.0 -495000.0 … -5000.00000000002 5000.0; -505000.0 -495000.0 … -5000.00000000002 5000.0], vy2d = [-500000.0 -490000.0 … -10000.00000000001 0.0; -500000.0 -490000.0 … -10000.00000000001 0.0; … ; -500000.0 -490000.0 … -10000.00000000001 0.0; -500000.0 -490000.0 … -10000.00000000001 0.0])"
      ]
     },
     "metadata": {},
     "output_type": "display_data"
    }
   ],
   "source": [
    "# Grid ============================================================== #\n",
    "NC      =   (\n",
    "    x   =   50, \n",
    "    y   =   50,\n",
    ")\n",
    "NV      =   (\n",
    "    x   =   NC.x + 1,\n",
    "    y   =   NC.y + 1,\n",
    ")\n",
    "Δ       =   (\n",
    "    x   =   (M.xmax - M.xmin)/NC.x,\n",
    "    y   =   (M.ymax - M.ymin)/NC.y,\n",
    ")\n",
    "x       =   (\n",
    "    c   =   LinRange(M.xmin+Δ.x/2,M.xmax-Δ.x/2,NC.x),\n",
    "    ce  =   LinRange(M.xmin - Δ.x/2.0, M.xmax + Δ.x/2.0, NC.x+2),\n",
    "    v   =   LinRange(M.xmin,M.xmax,NV.x),\n",
    ")\n",
    "y       =   (\n",
    "    c   =   LinRange(M.ymin+Δ.y/2,M.ymax-Δ.y/2,NC.y),\n",
    "    ce  =   LinRange(M.ymin - Δ.x/2.0, M.ymax + Δ.x/2.0, NC.y+2),\n",
    "    v   =   LinRange(M.ymin,M.ymax,NV.y),\n",
    ")\n",
    "x1      =   (\n",
    "    c2d     =   x.c .+ 0*y.c',\n",
    "    v2d     =   x.v .+ 0*y.v', \n",
    "    vx2d    =   x.v .+ 0*y.ce',\n",
    "    vy2d    =   x.ce .+ 0*y.v',\n",
    ")\n",
    "x   =   merge(x,x1)\n",
    "y1      =   (\n",
    "    c2d     =   0*x.c .+ y.c',\n",
    "    v2d     =   0*x.v .+ y.v',\n",
    "    vx2d    =   0*x.v .+ y.ce',\n",
    "    vy2d    =   0*x.ce .+ y.v',\n",
    ")\n",
    "y   =   merge(y,y1)\n",
    "# ------------------------------------------------------------------- #"
   ]
  },
  {
   "cell_type": "markdown",
   "metadata": {},
   "source": [
    "Nun müssen wir die physikalischen Parameter definieren, die Graviationsbeschleunigung $g$, die Viskosität $\\eta_0$ (10<sup>21</sup> Pa s), die Hintergunddichte $\\rho_0$ (3200 kg/m<sup>3</sup>), und die Dichte des Blocks $\\rho_1$ (3300 kg/m<sup>3</sup>).\n",
    "\n",
    "Der Vektor ```phase``` beinhaltet die Phasennummer, welche in der Funktion ```IniPhase()``` und bei der Initialisierung der Marker (```IniTracer2D()```) verwendet wird um die jeweilge Phase zuzuordnen. Der Vektor $\\rho$ beinhaltet die Dichtewerte die der jeweilige Phase zugeordnet sind. "
   ]
  },
  {
   "cell_type": "code",
   "execution_count": 6,
   "metadata": {},
   "outputs": [
    {
     "data": {
      "text/plain": [
       "2-element Vector{Int64}:\n",
       " 0\n",
       " 1"
      ]
     },
     "metadata": {},
     "output_type": "display_data"
    }
   ],
   "source": [
    " # Physics =========================================================== #\n",
    " g       =   9.81\n",
    "\n",
    " η₀      =   1.0e21\n",
    "\n",
    " ρ₀      =   3200.0          #   Background density\n",
    " ρ₁      =   3300.0          #   Block density\n",
    " ρ       =   [ρ₀,ρ₁] \n",
    "\n",
    " phase   =   [0,1]\n",
    " # ------------------------------------------------------------------- #"
   ]
  },
  {
   "cell_type": "markdown",
   "metadata": {},
   "source": [
    "**Für unser zeitabhängiges Problem defenieren wir nur wieder den Ort zum speichern der Animation.**"
   ]
  },
  {
   "cell_type": "code",
   "execution_count": 7,
   "metadata": {},
   "outputs": [
    {
     "data": {
      "text/plain": [
       "1"
      ]
     },
     "metadata": {},
     "output_type": "display_data"
    }
   ],
   "source": [
    "# Animationsettings ================================================= #\n",
    "path        =   string(\"./Results/\")\n",
    "anim        =   Plots.Animation(path, String[] )\n",
    "filename    =   string(\"10_Falling_\",Ini.p,\"_iso_\",FD.Method.Adv)\n",
    "save_fig    =   1\n",
    "# ------------------------------------------------------------------- #"
   ]
  },
  {
   "cell_type": "markdown",
   "metadata": {},
   "source": [
    "Nun legen wir die Größen der benötigten Felder fest. **Dabei verwenden wir einige neue Felder.** "
   ]
  },
  {
   "cell_type": "code",
   "execution_count": 8,
   "metadata": {},
   "outputs": [
    {
     "data": {
      "text/plain": [
       "(vx = [0.0 0.0 … 0.0 0.0; 0.0 0.0 … 0.0 0.0; … ; 0.0 0.0 … 0.0 0.0; 0.0 0.0 … 0.0 0.0], vy = [0.0 0.0 … 0.0 0.0; 0.0 0.0 … 0.0 0.0; … ; 0.0 0.0 … 0.0 0.0; 0.0 0.0 … 0.0 0.0], Pt = [0.0 0.0 … 0.0 0.0; 0.0 0.0 … 0.0 0.0; … ; 0.0 0.0 … 0.0 0.0; 0.0 0.0 … 0.0 0.0], p = [0.0 0.0 … 0.0 0.0; 0.0 0.0 … 0.0 0.0; … ; 0.0 0.0 … 0.0 0.0; 0.0 0.0 … 0.0 0.0], p_ex = [0.0 0.0 … 0.0 0.0; 0.0 0.0 … 0.0 0.0; … ; 0.0 0.0 … 0.0 0.0; 0.0 0.0 … 0.0 0.0], ρ = [0.0 0.0 … 0.0 0.0; 0.0 0.0 … 0.0 0.0; … ; 0.0 0.0 … 0.0 0.0; 0.0 0.0 … 0.0 0.0], ρ_ex = [0.0 0.0 … 0.0 0.0; 0.0 0.0 … 0.0 0.0; … ; 0.0 0.0 … 0.0 0.0; 0.0 0.0 … 0.0 0.0], ρ_exo = [0.0 0.0 … 0.0 0.0; 0.0 0.0 … 0.0 0.0; … ; 0.0 0.0 … 0.0 0.0; 0.0 0.0 … 0.0 0.0], vxc = [0.0 0.0 … 0.0 0.0; 0.0 0.0 … 0.0 0.0; … ; 0.0 0.0 … 0.0 0.0; 0.0 0.0 … 0.0 0.0], vyc = [0.0 0.0 … 0.0 0.0; 0.0 0.0 … 0.0 0.0; … ; 0.0 0.0 … 0.0 0.0; 0.0 0.0 … 0.0 0.0], vc = [0.0 0.0 … 0.0 0.0; 0.0 0.0 … 0.0 0.0; … ; 0.0 0.0 … 0.0 0.0; 0.0 0.0 … 0.0 0.0], wt = [0.0 0.0 … 0.0 0.0; 0.0 0.0 … 0.0 0.0; … ; 0.0 0.0 … 0.0 0.0; 0.0 0.0 … 0.0 0.0])"
      ]
     },
     "metadata": {},
     "output_type": "display_data"
    }
   ],
   "source": [
    " # Allocation ======================================================== #\n",
    " D   =   (\n",
    "    vx      =   zeros(Float64,NV.x,NC.y+2),\n",
    "    vy      =   zeros(Float64,NC.x+2,NV.y),\n",
    "    Pt      =   zeros(Float64,NC...),\n",
    "    p       =   zeros(Float64,NC...),\n",
    "    p_ex    =   zeros(Float64,NC.x+2,NC.y+2),\n",
    "    ρ       =   zeros(Float64,NC...),\n",
    "    ρ_ex    =   zeros(Float64,NC.x+2,NC.y+2),\n",
    "    ρ_exo   =   zeros(Float64,NC.x+2,NC.y+2),\n",
    "    vxc     =   zeros(Float64,NC...),\n",
    "    vyc     =   zeros(Float64,NC...),\n",
    "    vc      =   zeros(Float64,NC...),\n",
    "    wt      =   zeros(Float64,(NC.x,NC.y)),\n",
    ")\n",
    "# ------------------------------------------------------------------- #"
   ]
  },
  {
   "cell_type": "markdown",
   "metadata": {},
   "source": [
    "Jetz lassen sich die Randbedingungen und die Anfangsbedingungen festlegen. \n",
    "\n",
    "Für die Randbedingungen benutzen wir wieder das Tuple ```VBC```, in dem die Art des Randes (*free slip* oder *no slip*) an der jeweiligen Position (**E**, **W**, **S**,**N**) definiert ist. Der angegeneben Wert ```val``` bestimmt dann den Wert der Geschwindigkeit an dem jeweiligen Rand. "
   ]
  },
  {
   "cell_type": "code",
   "execution_count": 9,
   "metadata": {},
   "outputs": [
    {
     "data": {
      "text/plain": [
       "(type = (E = :freeslip, W = :freeslip, S = :freeslip, N = :freeslip), val = (E = [0.0, 0.0, 0.0, 0.0, 0.0, 0.0, 0.0, 0.0, 0.0, 0.0  …  0.0, 0.0, 0.0, 0.0, 0.0, 0.0, 0.0, 0.0, 0.0, 0.0], W = [0.0, 0.0, 0.0, 0.0, 0.0, 0.0, 0.0, 0.0, 0.0, 0.0  …  0.0, 0.0, 0.0, 0.0, 0.0, 0.0, 0.0, 0.0, 0.0, 0.0], S = [0.0, 0.0, 0.0, 0.0, 0.0, 0.0, 0.0, 0.0, 0.0, 0.0  …  0.0, 0.0, 0.0, 0.0, 0.0, 0.0, 0.0, 0.0, 0.0, 0.0], N = [0.0, 0.0, 0.0, 0.0, 0.0, 0.0, 0.0, 0.0, 0.0, 0.0  …  0.0, 0.0, 0.0, 0.0, 0.0, 0.0, 0.0, 0.0, 0.0, 0.0]))"
      ]
     },
     "metadata": {},
     "output_type": "display_data"
    }
   ],
   "source": [
    "# Boundary Conditions =============================================== #\n",
    "VBC     =   (\n",
    "    type    =   (E=:freeslip,W=:freeslip,S=:freeslip,N=:freeslip),\n",
    "    val     =   (E=zeros(NV.y),W=zeros(NV.y),S=zeros(NV.x),N=zeros(NV.x)),\n",
    ")\n",
    "# ------------------------------------------------------------------- #"
   ]
  },
  {
   "cell_type": "markdown",
   "metadata": {},
   "source": [
    "**Als nächstes müssen wir die Parameter für die Zeit und die Zeitschrittlänge definieren.**"
   ]
  },
  {
   "cell_type": "code",
   "execution_count": 10,
   "metadata": {},
   "outputs": [
    {
     "data": {
      "text/plain": [
       "9999"
      ]
     },
     "metadata": {},
     "output_type": "display_data"
    }
   ],
   "source": [
    "# Time ============================================================== #\n",
    "T   =   ( \n",
    "    tmax    =   [0.0],  \n",
    "    Δfac    =   1.0,    # Courant time factor, i.e. dtfac*dt_courant\n",
    "    Δ       =   [0.0],\n",
    "    time    =   [0.0,0.0],\n",
    ")\n",
    "T.tmax[1]   =   9.886 * 1e6 * (60*60*24*365.25)   # [ s ]\n",
    "nt          =   9999\n",
    "# ------------------------------------------------------------------- #"
   ]
  },
  {
   "cell_type": "markdown",
   "metadata": {},
   "source": [
    "Zum Verwenden der **passiven Tracers zur Advektion der Dichte müssen diese ersteinmal initialisiert werden**. Die Funktion ```IniTracer2D()``` initialisiert die Verteilung der Tracer in der gegebenen Modeldomäne (mit beliebiger Störung bei der Position) und, falls vorher in ```Ini``` definiert, wird den Tracers die jeweilige Phase zugewiesen. \n",
    "\n",
    "Die Tracer werden im der Zeitschleife advektiert und transportieren die Phase. Mit der Funktion ```Marker2Cells()``` wird mit Hilfe der jeweiligen Phase eine Eigenschaft der Phase auf das Gitter interpoliert (hier die Dichte $\\rho$).\n",
    "\n",
    "Falls eine andere Advektionmethode gewählt wird, wird die Dichte direkt auf dem Gitter initialisiert. Beachte, die Advetkionsroutinen benötigen die Information auf dem erweiterten Gitter. \n",
    "\n",
    "Zum Aufstellen der Anfangsbedingungen, verwenden wir die Funktion ```IniPhase``` in der dem jeweiligen Punkt die dazugehörige Phase zugeteilt wird. Darauf weisen wir der jeweilgen Phase den entsprechenden Dichte Wert hinzu. "
   ]
  },
  {
   "cell_type": "code",
   "execution_count": 11,
   "metadata": {},
   "outputs": [
    {
     "name": "stdout",
     "output_type": "stream",
     "text": [
      "0 markers out\n"
     ]
    }
   ],
   "source": [
    "# Tracer Advection ================================================== #\n",
    "if FD.Method.Adv==:tracers \n",
    "    # Tracer Initialization ---\n",
    "    nmx,nmy     =   3,3\n",
    "    noise       =   1\n",
    "    nmark       =   nmx*nmy*NC.x*NC.y\n",
    "    Aparam      =   :phase\n",
    "    MPC         =   (\n",
    "        c               =   zeros(Float64,(NC.x,NC.y)),\n",
    "        th              =   zeros(Float64,(nthreads(),NC.x,NC.y)),                \n",
    "        min             =   zeros(Float64,nt),\n",
    "        max             =   zeros(Float64,nt),\n",
    "        mean            =   zeros(Float64,nt),\n",
    "    )\n",
    "    MPC1        = (\n",
    "        PG_th   =   [similar(D.ρ) for _ = 1:nthreads()], # per thread\n",
    "        wt_th   =   [similar(D.wt) for _ = 1:nthreads()], # per thread\n",
    "    )\n",
    "    MPC     =   merge(MPC,MPC1)\n",
    "    Ma      =   IniTracer2D(Aparam,nmx,nmy,Δ,M,NC,noise,Ini.p,phase)\n",
    "    # RK4 weights ---\n",
    "    rkw     =   1.0/6.0*[1.0 2.0 2.0 1.0]   # for averaging\n",
    "    rkv     =   1.0/2.0*[1.0 1.0 2.0 2.0]   # for time stepping\n",
    "    # Count marker per cell ---\n",
    "    CountMPC(Ma,nmark,MPC,M,x,y,Δ,NC,1)\n",
    "    # Interpolate from markers to cell ---\n",
    "    Markers2Cells(Ma,nmark,MPC.PG_th,D.ρ,MPC.wt_th,D.wt,x,y,Δ,Aparam,ρ)\n",
    "    # D.ρ_ex[2:end-1,2:end-1]     .= D.ρ\n",
    "else\n",
    "    # --------------------------------------------------------------- #\n",
    "    # Initial Condition ============================================= #\n",
    "    # Phase ---\n",
    "    # If tracers are used, phases need to be defined on the tracers \n",
    "    # directly and are not suppose to be interpolated from the centroids! \n",
    "    IniPhase!(Ini.p,D,M,x,y,NC;phase)\n",
    "    for i in eachindex(phase)\n",
    "        D.ρ[D.p.==phase[i]] .= ρ[i]\n",
    "    end\n",
    "    D.ρ_ex[2:end-1,2:end-1]     .=  D.ρ\n",
    "    D.ρ_ex[1,:]     .=   D.ρ_ex[2,:]\n",
    "    D.ρ_ex[end,:]   .=   D.ρ_ex[end-1,:]\n",
    "    D.ρ_ex[:,1]     .=   D.ρ_ex[:,2]\n",
    "    D.ρ_ex[:,end]   .=   D.ρ_ex[:,end-1]\n",
    "end\n",
    "# ------------------------------------------------------------------- #"
   ]
  },
  {
   "cell_type": "markdown",
   "metadata": {},
   "source": [
    "Nun müssen die Parameter für das lineare Gleichngssstem erstellt werden. \n",
    "\n",
    "Die Nummerierung der Gleichungen für die *x-Komponente* und die *y-Komnponente* der Impulserhaltung, sowie die der *Massenerhaltung*, als auch die Diskretisierung der zu lösenden Gleichungen mit Hilfe der finiten Differenzen Methode ist im Detail [hier](../../examples/StokesEquation/2D/README.md) beschrieben. \n",
    "\n",
    "Außerdem muss noch der Vektor der rechten Seite ```rhs```, sowie der Lösungsvektor ```χ``` initialisiert werden. Die Größe von beiden ist durch die maximale Anzahl der Gleichungen gegeben. "
   ]
  },
  {
   "cell_type": "code",
   "execution_count": 12,
   "metadata": {},
   "outputs": [
    {
     "data": {
      "text/plain": [
       "7600-element Vector{Float64}:\n",
       " 0.0\n",
       " 0.0\n",
       " 0.0\n",
       " 0.0\n",
       " 0.0\n",
       " 0.0\n",
       " 0.0\n",
       " 0.0\n",
       " 0.0\n",
       " 0.0\n",
       " ⋮\n",
       " 0.0\n",
       " 0.0\n",
       " 0.0\n",
       " 0.0\n",
       " 0.0\n",
       " 0.0\n",
       " 0.0\n",
       " 0.0\n",
       " 0.0"
      ]
     },
     "metadata": {},
     "output_type": "display_data"
    }
   ],
   "source": [
    "# System of Equations =============================================== #\n",
    "# Numbering, without ghost nodes! ---\n",
    "off    = [  NV.x*NC.y,                          # vx\n",
    "            NV.x*NC.y + NC.x*NV.y,              # vy\n",
    "            NV.x*NC.y + NC.x*NV.y + NC.x*NC.y]  # Pt\n",
    "\n",
    "Num    =    (\n",
    "    Vx  =   reshape(1:NV.x*NC.y, NV.x, NC.y), \n",
    "    Vy  =   reshape(off[1]+1:off[1]+NC.x*NV.y, NC.x, NV.y), \n",
    "    Pt  =   reshape(off[2]+1:off[2]+NC.x*NC.y,NC...),\n",
    ")\n",
    "χ       =   zeros(maximum(Num.Pt))  #   Unknown Vector\n",
    "rhs     =   zeros(maximum(Num.Pt))  #   Right-hand Side\n",
    "# ------------------------------------------------------------------- #"
   ]
  },
  {
   "cell_type": "markdown",
   "metadata": {},
   "source": [
    "Mit Hilfe der Funktion ```Assemblyc()``` lassen sich die Koeffizienten für die Koeffizientenmatrix $\\bold{K}$ zuweisen. Die Funktion weist der jeweiligen Gleichung den Wert der benötigten Koeffizienten zu. Da wir ein isoviskoses Problem betrachten, können wir die Koeffizientenmatrix einmal außerhalb der Zeitschleife aufstellen, da sie sich nicht ändert. "
   ]
  },
  {
   "cell_type": "code",
   "execution_count": 13,
   "metadata": {},
   "outputs": [
    {
     "data": {
      "text/plain": [
       "7600×7600 ExtendableSparseMatrixCSC{Float64, Int64} with 44304 stored entries:\n",
       "⎡⠻⣦⡀⠀⠀⠀⠀⠀⠀⠀⠀⠀⠀⠀⠀⠀⠀⠀⠀⠀⠀⠀⠀⠀⠀⠀⠈⢧⡀⠀⠀⠀⠀⠀⠀⠀⠀⠀⠀⠀⎤\n",
       "⎢⠀⠈⠻⣦⡀⠀⠀⠀⠀⠀⠀⠀⠀⠀⠀⠀⠀⠀⠀⠀⠀⠀⠀⠀⠀⠀⠀⠀⠙⢦⡀⠀⠀⠀⠀⠀⠀⠀⠀⠀⎥\n",
       "⎢⠀⠀⠀⠈⠻⣦⡀⠀⠀⠀⠀⠀⠀⠀⠀⠀⠀⠀⠀⠀⠀⠀⠀⠀⠀⠀⠀⠀⠀⠀⠙⢦⡀⠀⠀⠀⠀⠀⠀⠀⎥\n",
       "⎢⠀⠀⠀⠀⠀⠈⠻⣦⡀⠀⠀⠀⠀⠀⠀⠀⠀⠀⠀⠀⠀⠀⠀⠀⠀⠀⠀⠀⠀⠀⠀⠀⠙⢦⡀⠀⠀⠀⠀⠀⎥\n",
       "⎢⠀⠀⠀⠀⠀⠀⠀⠈⠻⣦⡀⠀⠀⠀⠀⠀⠀⠀⠀⠀⠀⠀⠀⠀⠀⠀⠀⠀⠀⠀⠀⠀⠀⠀⠙⢦⡀⠀⠀⠀⎥\n",
       "⎢⠀⠀⠀⠀⠀⠀⠀⠀⠀⠈⠻⣦⡀⠀⠀⠀⠀⠀⠀⠀⠀⠀⠀⠀⠀⠀⠀⠀⠀⠀⠀⠀⠀⠀⠀⠀⠙⢦⡀⠀⎥\n",
       "⎢⠀⠀⠀⠀⠀⠀⠀⠀⠀⠀⠀⠈⠻⢆⡀⠀⠀⠀⠀⠀⠀⠀⠀⠀⠀⠀⢀⡀⠀⠀⠀⠀⠀⠀⠀⠀⠀⠀⠙⠦⎥\n",
       "⎢⠀⠀⠀⠀⠀⠀⠀⠀⠀⠀⠀⠀⠀⠈⠻⣦⡀⠀⠀⠀⠀⠀⠀⠀⠀⠀⠈⠻⣦⡀⠀⠀⠀⠀⠀⠀⠀⠀⠀⠀⎥\n",
       "⎢⠀⠀⠀⠀⠀⠀⠀⠀⠀⠀⠀⠀⠀⠀⠀⠈⠻⣦⡀⠀⠀⠀⠀⠀⠀⠀⠀⠀⠈⠻⣦⡀⠀⠀⠀⠀⠀⠀⠀⠀⎥\n",
       "⎢⠀⠀⠀⠀⠀⠀⠀⠀⠀⠀⠀⠀⠀⠀⠀⠀⠀⠈⠻⣦⡀⠀⠀⠀⠀⠀⠀⠀⠀⠀⠈⠻⣦⡀⠀⠀⠀⠀⠀⠀⎥\n",
       "⎢⠀⠀⠀⠀⠀⠀⠀⠀⠀⠀⠀⠀⠀⠀⠀⠀⠀⠀⠀⠈⠻⣦⡀⠀⠀⠀⠀⠀⠀⠀⠀⠀⠈⠻⣦⡀⠀⠀⠀⠀⎥\n",
       "⎢⠀⠀⠀⠀⠀⠀⠀⠀⠀⠀⠀⠀⠀⠀⠀⠀⠀⠀⠀⠀⠀⠈⠻⣦⡀⠀⠀⠀⠀⠀⠀⠀⠀⠀⠈⠻⣦⡀⠀⠀⎥\n",
       "⎢⠀⠀⠀⠀⠀⠀⠀⠀⠀⠀⠀⠀⠀⠀⠀⠀⠀⠀⠀⠀⠀⠀⠀⠈⠻⣦⡀⠀⠀⠀⠀⠀⠀⠀⠀⠀⠀⠻⣦⡀⎥\n",
       "⎢⠦⣄⠀⠀⠀⠀⠀⠀⠀⠀⠀⠀⠀⠰⣦⡀⠀⠀⠀⠀⠀⠀⠀⠀⠀⠈⠙⠀⠀⠀⠀⠀⠀⠀⠀⠀⠀⠀⠈⠉⎥\n",
       "⎢⠀⠈⠳⣄⠀⠀⠀⠀⠀⠀⠀⠀⠀⠀⠈⠻⣦⡀⠀⠀⠀⠀⠀⠀⠀⠀⠀⠀⠀⠀⠀⠀⠀⠀⠀⠀⠀⠀⠀⠀⎥\n",
       "⎢⠀⠀⠀⠈⠳⣄⠀⠀⠀⠀⠀⠀⠀⠀⠀⠀⠈⠻⣦⡀⠀⠀⠀⠀⠀⠀⠀⠀⠀⠀⠀⠀⠀⠀⠀⠀⠀⠀⠀⠀⎥\n",
       "⎢⠀⠀⠀⠀⠀⠈⠳⣄⠀⠀⠀⠀⠀⠀⠀⠀⠀⠀⠈⠻⣦⡀⠀⠀⠀⠀⠀⠀⠀⠀⠀⠀⠀⠀⠀⠀⠀⠀⠀⠀⎥\n",
       "⎢⠀⠀⠀⠀⠀⠀⠀⠈⠳⣄⠀⠀⠀⠀⠀⠀⠀⠀⠀⠀⠈⠻⣦⡀⠀⠀⠀⠀⠀⠀⠀⠀⠀⠀⠀⠀⠀⠀⠀⠀⎥\n",
       "⎢⠀⠀⠀⠀⠀⠀⠀⠀⠀⠈⠳⣄⠀⠀⠀⠀⠀⠀⠀⠀⠀⠀⠈⠻⣤⡀⠀⠀⠀⠀⠀⠀⠀⠀⠀⠀⠀⠀⠀⠀⎥\n",
       "⎣⠀⠀⠀⠀⠀⠀⠀⠀⠀⠀⠀⠈⠳⡄⠀⠀⠀⠀⠀⠀⠀⠀⠀⠀⠈⠻⣦⠀⠀⠀⠀⠀⠀⠀⠀⠀⠀⠀⠀⠀⎦"
      ]
     },
     "metadata": {},
     "output_type": "display_data"
    }
   ],
   "source": [
    "# Assemble Coefficients ============================================= #\n",
    "K       =   Assemblyc(NC, NV, Δ, η₀, VBC, Num)\n",
    "# ------------------------------------------------------------------- #"
   ]
  },
  {
   "cell_type": "markdown",
   "metadata": {},
   "source": [
    "Nun folgt die Zeitschleife. In dieser muss jeweils \n",
    "- die rechte Seite aktualisiert (enthält die Dichteverteilung) \n",
    "- das Gleichungssystem gelöst\n",
    "- die Dichteverteilung und Geschwindigkeit visualisiert\n",
    "- die Zeitschrittlänge berechnet\n",
    "- und die Dichte advektiert werden. "
   ]
  },
  {
   "cell_type": "code",
   "execution_count": 14,
   "metadata": {},
   "outputs": [
    {
     "name": "stdout",
     "output_type": "stream",
     "text": [
      "Time step: #0001, Time [Myr]: 0.000000e+00\n",
      " maximum(D.vc) = 8.313929890044719e-10\n",
      "minimum(D.Pt) = -1.7771316137909174e9\n",
      "maximum(D.Pt) = 1.3640010615802097e10\n",
      "T.Δ[1] = 1.010047824601266e13\n",
      "\n",
      "Running on 1 thread(s)\n",
      "0 markers out\n",
      "Time step: #0002, Time [Myr]: 3.200648e-01\n",
      " maximum(D.vc) = 8.676932090072663e-10\n",
      "minimum(D.Pt) = -1.5530878369501755e9\n",
      "maximum(D.Pt) = 1.3863383547322845e10\n",
      "T.Δ[1] = 9.785081580372785e12\n",
      "\n",
      "Running on 1 thread(s)\n",
      "0 markers out\n",
      "Time step: #0003, Time [Myr]: 6.301354e-01\n",
      " maximum(D.vc) = 8.763631546649434e-10\n",
      "minimum(D.Pt) = -3.354734911953421e9\n",
      "maximum(D.Pt) = 1.205948385997741e10\n",
      "T.Δ[1] = 9.8632663453049e12\n",
      "\n",
      "Running on 1 thread(s)\n",
      "0 markers out\n",
      "Time step: #0004, Time [Myr]: 9.426834e-01\n",
      " maximum(D.vc) = 9.004196065387808e-10\n",
      "minimum(D.Pt) = -2.585906724977166e9\n",
      "maximum(D.Pt) = 1.2827303807853706e10\n",
      "T.Δ[1] = 9.714053326085236e12\n",
      "\n",
      "Running on 1 thread(s)\n",
      "0 markers out\n",
      "Time step: #0005, Time [Myr]: 1.250503e+00\n",
      " maximum(D.vc) = 9.353966348467277e-10\n",
      "minimum(D.Pt) = -2.9056648341536775e9\n",
      "maximum(D.Pt) = 1.2507059301539259e10\n",
      "T.Δ[1] = 9.465034116064332e12\n",
      "\n",
      "Running on 1 thread(s)\n",
      "0 markers out\n",
      "Time step: #0006, Time [Myr]: 1.550432e+00\n",
      " maximum(D.vc) = 9.394430904494857e-10\n",
      "minimum(D.Pt) = -5.797424652585423e9\n",
      "maximum(D.Pt) = 9.613760531499168e9\n",
      "T.Δ[1] = 9.526951204763025e12\n",
      "\n",
      "Running on 1 thread(s)\n",
      "0 markers out\n",
      "Time step: #0007, Time [Myr]: 1.852323e+00\n",
      " maximum(D.vc) = 9.46212195405176e-10\n",
      "minimum(D.Pt) = -5.384190289688097e8\n",
      "maximum(D.Pt) = 1.4871603768109562e10\n",
      "T.Δ[1] = 9.5672915496578e12\n",
      "\n",
      "Running on 1 thread(s)\n",
      "0 markers out\n",
      "Time step: #0008, Time [Myr]: 2.155492e+00\n",
      " maximum(D.vc) = 9.666966831818918e-10\n",
      "minimum(D.Pt) = -5.3891513474390745e9\n",
      "maximum(D.Pt) = 1.0020425081941896e10\n",
      "T.Δ[1] = 9.42856168016632e12\n",
      "\n",
      "Running on 1 thread(s)\n",
      "0 markers out\n",
      "Time step: #0009, Time [Myr]: 2.454265e+00\n",
      " maximum(D.vc) = 9.877378245107995e-10\n",
      "minimum(D.Pt) = 4.738776967304436e8\n",
      "maximum(D.Pt) = 1.588312110244309e10\n",
      "T.Δ[1] = 9.325529012477332e12\n",
      "\n",
      "Running on 1 thread(s)\n",
      "0 markers out\n",
      "Time step: #0010, Time [Myr]: 2.749773e+00\n",
      " maximum(D.vc) = 9.854417599161128e-10\n",
      "minimum(D.Pt) = -6.624229800958882e9\n",
      "maximum(D.Pt) = 8.78403420579277e9\n",
      "T.Δ[1] = 9.41079983843957e12\n",
      "\n",
      "Running on 1 thread(s)\n",
      "0 markers out\n",
      "Time step: #0011, Time [Myr]: 3.047984e+00\n",
      " maximum(D.vc) = 9.879531584707115e-10\n",
      "minimum(D.Pt) = -2.801912208995471e9\n",
      "maximum(D.Pt) = 1.2605670921799711e10\n",
      "T.Δ[1] = 9.453263910270275e12\n",
      "\n",
      "Running on 1 thread(s)\n",
      "0 markers out\n",
      "Time step: #0012, Time [Myr]: 3.347539e+00\n",
      " maximum(D.vc) = 9.95288028146197e-10\n",
      "minimum(D.Pt) = -6.373818720916584e9\n",
      "maximum(D.Pt) = 9.03325315641784e9\n",
      "T.Δ[1] = 9.455945344417586e12\n",
      "\n",
      "Running on 1 thread(s)\n",
      "0 markers out\n",
      "Time step: #0013, Time [Myr]: 3.647180e+00\n",
      " maximum(D.vc) = 1.0008759095466948e-9\n",
      "minimum(D.Pt) = -4.617860311226721e9\n",
      "maximum(D.Pt) = 1.0788736382439045e10\n",
      "T.Δ[1] = 9.449564434762805e12\n",
      "\n",
      "Running on 1 thread(s)\n",
      "0 markers out\n",
      "Time step: #0014, Time [Myr]: 3.946619e+00\n",
      " maximum(D.vc) = 9.97751798697966e-10\n",
      "minimum(D.Pt) = -2.570163135021858e9\n",
      "maximum(D.Pt) = 1.2836001217055561e10\n",
      "T.Δ[1] = 9.506524539486809e12\n",
      "\n",
      "Running on 1 thread(s)\n",
      "0 markers out\n",
      "Time step: #0015, Time [Myr]: 4.247862e+00\n",
      " maximum(D.vc) = 1.004691003850355e-9\n",
      "minimum(D.Pt) = -1.5402050572597177e9\n",
      "maximum(D.Pt) = 1.386594382360119e10\n",
      "T.Δ[1] = 9.468517877484555e12\n",
      "\n",
      "Running on 1 thread(s)\n",
      "0 markers out\n",
      "Time step: #0016, Time [Myr]: 4.547902e+00\n",
      " maximum(D.vc) = 1.0054232652346513e-9\n",
      "minimum(D.Pt) = -3.1387931755211926e9\n",
      "maximum(D.Pt) = 1.2267061585910334e10\n",
      "T.Δ[1] = 9.495295543110191e12\n",
      "\n",
      "Running on 1 thread(s)\n",
      "0 markers out\n",
      "Time step: #0017, Time [Myr]: 4.848789e+00\n",
      " maximum(D.vc) = 1.0037374250806885e-9\n",
      "minimum(D.Pt) = -7.0354933816866045e9\n",
      "maximum(D.Pt) = 8.370017996514561e9\n",
      "T.Δ[1] = 9.527012499426191e12\n",
      "\n",
      "Running on 1 thread(s)\n",
      "0 markers out\n",
      "Time step: #0018, Time [Myr]: 5.150682e+00\n",
      " maximum(D.vc) = 1.008723462390248e-9\n",
      "minimum(D.Pt) = -6.046169428230412e9\n",
      "maximum(D.Pt) = 9.359471244530111e9\n",
      "T.Δ[1] = 9.487499155208414e12\n",
      "\n",
      "Running on 1 thread(s)\n",
      "0 markers out\n",
      "Time step: #0019, Time [Myr]: 5.451323e+00\n",
      " maximum(D.vc) = 9.952417991693489e-10\n",
      "minimum(D.Pt) = -2.159318915438724e9\n",
      "maximum(D.Pt) = 1.3245682298922642e10\n",
      "T.Δ[1] = 9.625082753142594e12\n",
      "\n",
      "Running on 1 thread(s)\n",
      "0 markers out\n",
      "Time step: #0020, Time [Myr]: 5.756323e+00\n",
      " maximum(D.vc) = 9.898965183860706e-10\n",
      "minimum(D.Pt) = -2.4038453309500284e9\n",
      "maximum(D.Pt) = 1.3000988914204369e10\n",
      "T.Δ[1] = 9.685218847671031e12\n",
      "\n",
      "Running on 1 thread(s)\n",
      "0 markers out\n",
      "Time step: #0021, Time [Myr]: 6.063230e+00\n",
      " maximum(D.vc) = 9.9187396425265e-10\n",
      "minimum(D.Pt) = -3.007227051837978e9\n",
      "maximum(D.Pt) = 1.239765848014014e10\n",
      "T.Δ[1] = 9.67965352729897e12\n",
      "\n",
      "Running on 1 thread(s)\n",
      "0 markers out\n",
      "Time step: #0022, Time [Myr]: 6.369959e+00\n",
      " maximum(D.vc) = 9.88049048266621e-10\n",
      "minimum(D.Pt) = -4.50440923810107e9\n",
      "maximum(D.Pt) = 1.090038344331487e10\n",
      "T.Δ[1] = 9.709175456064242e12\n",
      "\n",
      "Running on 1 thread(s)\n",
      "0 markers out\n",
      "Time step: #0023, Time [Myr]: 6.677624e+00\n",
      " maximum(D.vc) = 9.90507241219402e-10\n",
      "minimum(D.Pt) = -4.8790666628601265e9\n",
      "maximum(D.Pt) = 1.0526088870509747e10\n",
      "T.Δ[1] = 9.673934745129348e12\n",
      "\n",
      "Running on 1 thread(s)\n",
      "0 markers out\n",
      "Time step: #0024, Time [Myr]: 6.984173e+00\n",
      " maximum(D.vc) = 9.828860793488108e-10\n",
      "minimum(D.Pt) = -4.433912165016455e9\n",
      "maximum(D.Pt) = 1.0971168832055944e10\n",
      "T.Δ[1] = 9.724974285091547e12\n",
      "\n",
      "Running on 1 thread(s)\n",
      "0 markers out\n",
      "Time step: #0025, Time [Myr]: 7.292339e+00\n",
      " maximum(D.vc) = 9.760827006058242e-10\n",
      "minimum(D.Pt) = -7.17651479689947e9\n",
      "maximum(D.Pt) = 8.228653110337045e9\n",
      "T.Δ[1] = 9.768108725870305e12\n",
      "\n",
      "Running on 1 thread(s)\n",
      "0 markers out\n",
      "Time step: #0026, Time [Myr]: 7.601871e+00\n",
      " maximum(D.vc) = 9.785229282708456e-10\n",
      "minimum(D.Pt) = -3.0839681447968373e9\n",
      "maximum(D.Pt) = 1.2321621415481077e10\n",
      "T.Δ[1] = 9.726836197767037e12\n",
      "\n",
      "Running on 1 thread(s)\n",
      "0 markers out\n",
      "Time step: #0027, Time [Myr]: 7.910096e+00\n",
      " maximum(D.vc) = 9.87819913837569e-10\n",
      "minimum(D.Pt) = -3.155439975126375e9\n",
      "maximum(D.Pt) = 1.2250623301708248e10\n",
      "T.Δ[1] = 9.626486561934904e12\n",
      "\n",
      "Running on 1 thread(s)\n",
      "0 markers out\n",
      "Time step: #0028, Time [Myr]: 8.215141e+00\n",
      " maximum(D.vc) = 9.783241626382594e-10\n",
      "minimum(D.Pt) = -4.0350874988054647e9\n",
      "maximum(D.Pt) = 1.1371201571847826e10\n",
      "T.Δ[1] = 9.677140135035156e12\n",
      "\n",
      "Running on 1 thread(s)\n",
      "0 markers out\n",
      "Time step: #0029, Time [Myr]: 8.521791e+00\n",
      " maximum(D.vc) = 9.70375349540864e-10\n",
      "minimum(D.Pt) = -5.032008970422289e9\n",
      "maximum(D.Pt) = 1.0374549620123837e10\n",
      "T.Δ[1] = 9.720538838988027e12\n",
      "\n",
      "Running on 1 thread(s)\n",
      "0 markers out\n",
      "Time step: #0030, Time [Myr]: 8.829817e+00\n",
      " maximum(D.vc) = 9.666219335492929e-10\n",
      "minimum(D.Pt) = -6.210808319860863e9\n",
      "maximum(D.Pt) = 9.196259322710665e9\n",
      "T.Δ[1] = 9.72586016562494e12\n",
      "\n",
      "Running on 1 thread(s)\n",
      "0 markers out\n",
      "Time step: #0031, Time [Myr]: 9.138011e+00\n",
      " maximum(D.vc) = 9.594980418759588e-10\n",
      "minimum(D.Pt) = -3.1108448099095836e9\n",
      "maximum(D.Pt) = 1.2296732757392448e10\n",
      "T.Δ[1] = 9.734139156476688e12\n",
      "\n",
      "Running on 1 thread(s)\n",
      "0 markers out\n",
      "Time step: #0032, Time [Myr]: 9.446467e+00\n",
      " maximum(D.vc) = 9.55054552341668e-10\n",
      "minimum(D.Pt) = -4.297360957231749e9\n",
      "maximum(D.Pt) = 1.1110915154396406e10\n",
      "T.Δ[1] = 9.696385673683145e12\n",
      "\n",
      "Running on 1 thread(s)\n",
      "0 markers out\n",
      "Time step: #0033, Time [Myr]: 9.753727e+00\n",
      " maximum(D.vc) = 9.463634133688307e-10\n",
      "minimum(D.Pt) = -6.764137377268807e9\n",
      "maximum(D.Pt) = 8.644678755915848e9\n",
      "T.Δ[1] = 9.726975459291545e12\n",
      "\n",
      "Running on 1 thread(s)\n",
      "0 markers out\n",
      "Time step: #0034, Time [Myr]: 9.886000e+00\n",
      " maximum(D.vc) = 9.45127335979589e-10\n",
      "minimum(D.Pt) = -7.127290294508696e9\n",
      "maximum(D.Pt) = 8.281991685596088e9\n"
     ]
    }
   ],
   "source": [
    "# Time Loop ========================================================= #\n",
    "for it = 1:nt\n",
    "    # Update Time ---\n",
    "    T.time[1]   =   T.time[2] \n",
    "    @printf(\"Time step: #%04d, Time [Myr]: %04e\\n \",it,T.time[1]/(60*60*24*365.25)/1.0e6)\n",
    "    # Momentum Equation ===\n",
    "    # Update RHS ---\n",
    "    rhs     =   updaterhsc( NC, NV, Δ, η₀, D.ρ, g, VBC, Num, rhs )\n",
    "    # Solve System of Equations ---\n",
    "    χ       =   K \\ rhs\n",
    "    # Update Unknown Variables ---\n",
    "    D.vx[:,2:end-1]     .=  χ[Num.Vx]\n",
    "    D.vy[2:end-1,:]     .=  χ[Num.Vy]\n",
    "    D.Pt                .=  χ[Num.Pt]\n",
    "    # ===\n",
    "    # Get the velocity on the centroids ---\n",
    "    for i = 1:NC.x\n",
    "        for j = 1:NC.y\n",
    "            D.vxc[i,j]  = (D.vx[i,j+1] + D.vx[i+1,j+1])/2\n",
    "            D.vyc[i,j]  = (D.vy[i+1,j] + D.vy[i+1,j+1])/2\n",
    "        end\n",
    "    end\n",
    "    @. D.vc        = sqrt(D.vxc^2 + D.vyc^2)\n",
    "\n",
    "    @show(maximum(D.vc))\n",
    "    @show(minimum(D.Pt))\n",
    "    @show(maximum(D.Pt))\n",
    "\n",
    "    if T.time[2] >= T.tmax[1]\n",
    "        it = nt\n",
    "    end\n",
    "\n",
    "    if mod(it,2) == 0 || it == nt || it == 1\n",
    "        p = heatmap(x.c./1e3,y.c./1e3,D.ρ',color=:inferno,\n",
    "                xlabel=\"x[km]\",ylabel=\"y[km]\",colorbar=false,\n",
    "                title=\"Density\",\n",
    "                aspect_ratio=:equal,xlims=(M.xmin/1e3, M.xmax/1e3), \n",
    "                ylims=(M.ymin/1e3, M.ymax/1e3),\n",
    "                layout=(2,2),subplot=1)\n",
    "        quiver!(p,x.c2d[1:Pl.qinc:end,1:Pl.qinc:end]./1e3,\n",
    "                    y.c2d[1:Pl.qinc:end,1:Pl.qinc:end]./1e3,\n",
    "                    quiver=(D.vx[1:Pl.qinc:end,1:Pl.qinc:end].*Pl.qsc,\n",
    "                            D.vyc[1:Pl.qinc:end,1:Pl.qinc:end].*Pl.qsc),        \n",
    "                    color=\"white\",layout=(2,2),subplot=1)\n",
    "        heatmap!(p,x.c./1e3,y.c./1e3,D.vxc',\n",
    "                    xlabel=\"x[km]\",ylabel=\"y[km]\",colorbar=false,\n",
    "                    title=\"V_x\",\n",
    "                    aspect_ratio=:equal,xlims=(M.xmin/1e3, M.xmax/1e3),\n",
    "                    ylims=(M.ymin/1e3, M.ymax/1e3),\n",
    "                    layout=(2,2),subplot=3)\n",
    "        heatmap!(p,x.c./1e3,y.c./1e3,D.vyc',\n",
    "                    xlabel=\"x[km]\",ylabel=\"y[km]\",colorbar=false,\n",
    "                    title=\"V_y\",\n",
    "                    aspect_ratio=:equal,xlims=(M.xmin/1e3, M.xmax/1e3),\n",
    "                    ylims=(M.ymin/1e3, M.ymax/1e3),\n",
    "                    layout=(2,2),subplot=4)\n",
    "        heatmap!(p,x.c./1e3,y.c./1e3,D.Pt',\n",
    "                    xlabel=\"x[km]\",ylabel=\"y[km]\",colorbar=false,\n",
    "                    title=\"P_t\",\n",
    "                    aspect_ratio=:equal,xlims=(M.xmin/1e3, M.xmax/1e3),\n",
    "                    ylims=(M.ymin/1e3, M.ymax/1e3),\n",
    "                    layout=(2,2),subplot=2)\n",
    "        if save_fig == 1\n",
    "            Plots.frame(anim)\n",
    "        elseif save_fig == 0\n",
    "            display(p)\n",
    "        end\n",
    "    end\n",
    "    if T.time[2] >= T.tmax[1]\n",
    "        break\n",
    "    end\n",
    "     # Calculate Time Stepping ---\n",
    "    T.Δ[1]      =   T.Δfac * minimum((Δ.x,Δ.y)) / \n",
    "                        (sqrt(maximum(abs.(D.vx))^2 + maximum(abs.(D.vy))^2))\n",
    "    \n",
    "    @show T.Δ[1]\n",
    "    @printf(\"\\n\")\n",
    "    # Calculate Time ---\n",
    "    T.time[2]   =   T.time[1] + T.Δ[1]\n",
    "    if T.time[2] > T.tmax[1] \n",
    "        T.Δ[1]      =   T.tmax[1] - T.time[1]\n",
    "        T.time[2]   =   T.time[1] + T.Δ[1]\n",
    "    end\n",
    "    # Advection ===\n",
    "    if FD.Method.Adv==:upwind\n",
    "        upwindc2D!(D.ρ,D.ρ_ex,D.vxc,D.vyc,NC,T.Δ[1],Δ.x,Δ.y)\n",
    "    elseif FD.Method.Adv==:slf\n",
    "        slfc2D!(D.ρ,D.ρ_ex,D.ρ_exo,D.vxc,D.vyc,NC,T.Δ[1],Δ.x,Δ.y)\n",
    "    elseif FD.Method.Adv==:semilag\n",
    "        semilagc2D!(D.ρ,D.ρ_ex,D.vxc,D.vyc,[],[],x,y,T.Δ[1])\n",
    "    elseif FD.Method.Adv==:tracers\n",
    "        @printf(\"Running on %d thread(s)\\n\", nthreads())        \n",
    "        # Advect tracers ---\n",
    "        AdvectTracer2D(Ma,nmark,D,x,y,T.Δ[1],Δ,NC,rkw,rkv,1)\n",
    "        CountMPC(Ma,nmark,MPC,M,x,y,Δ,NC,it)\n",
    "      \n",
    "        # Interpolate phase from tracers to grid ---\n",
    "        Markers2Cells(Ma,nmark,MPC.PG_th,D.ρ,MPC.wt_th,D.wt,x,y,Δ,Aparam,ρ)\n",
    "        # D.ρ_ex[2:end-1,2:end-1]     .= D.ρ\n",
    "    end\n",
    "end # End Time Loop"
   ]
  },
  {
   "cell_type": "markdown",
   "metadata": {},
   "source": [
    "Zuletzt speichern wir noch die Animation. "
   ]
  },
  {
   "cell_type": "code",
   "execution_count": 15,
   "metadata": {},
   "outputs": [
    {
     "name": "stderr",
     "output_type": "stream",
     "text": [
      "┌ Info: Saved animation to /home/lufuchs/progs/src/julia/scripts/GeoModBox_p.jl/exercises/Correction/Results/10_Falling_block_iso_tracers.gif\n",
      "└ @ Plots /home/lufuchs/.julia/packages/Plots/Ec1L1/src/animation.jl:156\n"
     ]
    }
   ],
   "source": [
    "# Save Animation ==================================================== #\n",
    "if save_fig == 1\n",
    "    # Write the frames to a GIF file\n",
    "    Plots.gif(anim, string( path, filename, \".gif\" ), fps = 15)\n",
    "    foreach(rm, filter(startswith(string(path,\"00\")), readdir(path,join=true)))\n",
    "end"
   ]
  }
 ],
 "metadata": {
  "kernelspec": {
   "display_name": "Julia 1.11.2",
   "language": "julia",
   "name": "julia-1.11"
  },
  "language_info": {
   "file_extension": ".jl",
   "mimetype": "application/julia",
   "name": "julia",
   "version": "1.11.2"
  }
 },
 "nbformat": 4,
 "nbformat_minor": 2
}
