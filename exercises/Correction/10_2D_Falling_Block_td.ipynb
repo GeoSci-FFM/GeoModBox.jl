{
 "cells": [
  {
   "cell_type": "markdown",
   "metadata": {},
   "source": [
    "# Stokes Gleichung (2D)"
   ]
  },
  {
   "cell_type": "markdown",
   "metadata": {},
   "source": [
    "## Fallender Block (konstante Viskosität, zeitabhängig)"
   ]
  },
  {
   "cell_type": "markdown",
   "metadata": {},
   "source": [
    "Beschäftigen wir uns nun mit dem **zeitabhängigen**, isoviskosen  Problem des fallenden Blocks. \n",
    "\n",
    "Dazu müssen wir die Lösung der **Impulserhaltung** mit der Lösung der **Advektionsgleichung** koppeln. Die Koppelung führen wir durch, indem wir zuerst die Impulserhaltung nach den Geschwindigkeiten lösen und dann die Dichte (oder im Falle von passiven Markern, die Phase) mit der Advektionsgleichung transportieren. "
   ]
  },
  {
   "cell_type": "markdown",
   "metadata": {},
   "source": [
    "### Das Problem"
   ]
  },
  {
   "cell_type": "markdown",
   "metadata": {},
   "source": [
    "Anders als im vollständigen Benchmark für dieses Problem, konzentrieren wir uns hier nur auf den **isoviskosen** Fall (im Benchmark betrachtet man die Sinkgeschwindigkeit und Deformation des Blockes in Abhängigkeit des Viskositätskontrastes [siehe hier](../../examples/Benchmarks/)). \n",
    "\n",
    "Dabei nehmen wir einen quadratischen Körper mit einer gewissen Breite (**W**), Höhe (**T**), und Dichte ($\\rho_b$) an, der sich in einem bestimmten viskosen Medium ($\\eta_m$) mit einer gewissen Dichte ($\\rho_m$) befindet. Die zu modellierende Umgebung ist ebenfalls quadratisch mit einer gewissen Länge ($L=500\\ \\textrm{km}$) und Höhe ($H=500\\ \\textrm{km}$) und wir nehmen überall *free slip* Geschwindigkeitsrandbedingungen an.  "
   ]
  },
  {
   "cell_type": "markdown",
   "metadata": {},
   "source": [
    "<img src=\"../Figures/Exercise09_1.png\" alt=\"drawing\" width=\"450\"/> <br>\n",
    "**Abb. 1.** Modelaufbau "
   ]
  },
  {
   "cell_type": "markdown",
   "metadata": {},
   "source": [
    "Eine detaillierte Beschreibung wie die Modelldomäne durch ein numerisches Gitter aufgeteilt werden kann, sowie die Diskretisierung der **Impulserhaltung** und **Massenerhaltung** in Abhängigkeit von *free slip* oder *no slip* Randbedingungen ist [hier](../../examples/StokesEquation/2D/README.md) gegeben. Auf Grund des Umfanges verzichten wir hier auf eine detaillierte Erklärung. \n",
    "\n",
    "Wir würden gerne möglichst viele der Advektionsmechanismen in das Problem einbauen, so dass wir neben der Änderung für die Zeitabhängigkeit noch zusätzliche Änderungen vornehmen müssen. Die Änderungen werden im Weiteren in **fett**-gedruckter Schrift gekennzeichnet. \n",
    "\n",
    "Für zusätzliche Informationen siehe die [vorrangehende Übung](09_2D_Falling_Block.ipynb)."
   ]
  },
  {
   "cell_type": "markdown",
   "metadata": {},
   "source": [
    "Laden wir zuerst einmal die notwendigen Module zur Visualisierung der Ergebnisse, Lösen des linearen Gleichungssystems, Aufstellen der Anfangsbedingungen, und dem Lösen der zweidimensionalen Impulserhaltuing. Durch die Verwendung der Advektion und der Tracer kommen noch zusätzliche Module hinzu. "
   ]
  },
  {
   "cell_type": "code",
   "execution_count": null,
   "metadata": {},
   "outputs": [],
   "source": [
    "using Plots\n",
    "using ExtendableSparse\n",
    "using GeoModBox.InitialCondition, GeoModBox.MomentumEquation.TwoD\n",
    "using GeoModBox.AdvectionEquation.TwoD\n",
    "using GeoModBox.Tracers.TwoD\n",
    "using Base.Threads\n",
    "using Printf"
   ]
  },
  {
   "cell_type": "markdown",
   "metadata": {},
   "source": [
    "Zuerst definieren wir mit Hilfe des **Tupels FD die Methode der Advektion**."
   ]
  },
  {
   "cell_type": "code",
   "execution_count": null,
   "metadata": {},
   "outputs": [],
   "source": [
    "# Define Numerical Scheme =========================================== #\n",
    "# Advection ---\n",
    "#   1) upwind, 2) slf, 3) semilag, 4) tracers\n",
    "FD          =   (Method     = (Adv=:upwind,),)\n",
    "# ------------------------------------------------------------------- #"
   ]
  },
  {
   "cell_type": "markdown",
   "metadata": {},
   "source": [
    "Mit Hilfe der eingebauten Funktion ```IniPhase()``` lässt sich die Anfangsdichteverteilung für unser Problem *block* erstellen. Je nach Bedarf, erstellt die Funktion eine Anfangsverteilung von bestimmten Größen auf dem numerischen Gitter. Zur Nutzung der Funktion brauchen wir das Tuple ```Ini```, in dem die Verteilung definiert ist (hier für die Phase *p*). Die mit ```IniPhase()``` erstellte Dichteverteilung auf den Zentroids wird von allen Advektionsmethoden verwendet, außer im Falle der Tracer. Für diese wird eine alternative Initialisierung angewendet. "
   ]
  },
  {
   "cell_type": "code",
   "execution_count": null,
   "metadata": {},
   "outputs": [],
   "source": [
    "# Define Initial Condition ========================================== #\n",
    "# Density --- \n",
    "#   1) block\n",
    "Ini         =   (p=:block,) \n",
    "# ------------------------------------------------------------------- #\n",
    "# Plot Settings ===================================================== #\n",
    "Pl  =   (\n",
    "    qinc    =   5,\n",
    "    qsc     =   100*(60*60*24*365.25)*5e1\n",
    ")\n",
    "# ------------------------------------------------------------------- #"
   ]
  },
  {
   "cell_type": "markdown",
   "metadata": {},
   "source": [
    "Als nächstes definieren wir die Geometrie unsere Modeldomäne. "
   ]
  },
  {
   "cell_type": "code",
   "execution_count": null,
   "metadata": {},
   "outputs": [],
   "source": [
    " # Geometry ========================================================== #\n",
    " M       =   (\n",
    "    xmin    =   0.0,\n",
    "    xmax    =   500.0e3,    # [ m ]\n",
    "    ymin    =   -500.0e3,   # [ m ]\n",
    "    ymax    =   0.0,\n",
    ")\n",
    "# ------------------------------------------------------------------- #"
   ]
  },
  {
   "cell_type": "markdown",
   "metadata": {},
   "source": [
    "Nun definieren wir unsere Gitter Auflösung $\\left(nc_x = nc_y = 50\\right)$ und das numerische Gitter.\n",
    "\n",
    "Dabei müssen wir sowohl die Gitterbreite $\\Delta{x}$ und $\\Delta{y}$ als auch die Koordinaten der unterschiedlichen Gitter (*Eckpunkte* und *Zentroids*) angeben. Dazu definieren wir zuerst die jeweiligen 1-D Koordinatenvektoren, aus denen dann die 2-D Koordinatengitter erstellt werden.  "
   ]
  },
  {
   "cell_type": "code",
   "execution_count": null,
   "metadata": {},
   "outputs": [],
   "source": [
    "# Grid ============================================================== #\n",
    "NC      =   (\n",
    "    x   =   50, \n",
    "    y   =   50,\n",
    ")\n",
    "NV      =   (\n",
    "    x   =   NC.x + 1,\n",
    "    y   =   NC.y + 1,\n",
    ")\n",
    "Δ       =   (\n",
    "    x   =   (M.xmax - M.xmin)/NC.x,\n",
    "    y   =   (M.ymax - M.ymin)/NC.y,\n",
    ")\n",
    "x       =   (\n",
    "    c   =   LinRange(M.xmin+Δ.x/2,M.xmax-Δ.x/2,NC.x),\n",
    "    ce  =   LinRange(M.xmin - Δ.x/2.0, M.xmax + Δ.x/2.0, NC.x+2),\n",
    "    v   =   LinRange(M.xmin,M.xmax,NV.x),\n",
    ")\n",
    "y       =   (\n",
    "    c   =   LinRange(M.ymin+Δ.y/2,M.ymax-Δ.y/2,NC.y),\n",
    "    ce  =   LinRange(M.ymin - Δ.x/2.0, M.ymax + Δ.x/2.0, NC.y+2),\n",
    "    v   =   LinRange(M.ymin,M.ymax,NV.y),\n",
    ")\n",
    "x1      =   (\n",
    "    c2d     =   x.c .+ 0*y.c',\n",
    "    v2d     =   x.v .+ 0*y.v', \n",
    "    vx2d    =   x.v .+ 0*y.ce',\n",
    "    vy2d    =   x.ce .+ 0*y.v',\n",
    ")\n",
    "x   =   merge(x,x1)\n",
    "y1      =   (\n",
    "    c2d     =   0*x.c .+ y.c',\n",
    "    v2d     =   0*x.v .+ y.v',\n",
    "    vx2d    =   0*x.v .+ y.ce',\n",
    "    vy2d    =   0*x.ce .+ y.v',\n",
    ")\n",
    "y   =   merge(y,y1)\n",
    "# ------------------------------------------------------------------- #"
   ]
  },
  {
   "cell_type": "markdown",
   "metadata": {},
   "source": [
    "Nun müssen wir die physikalischen Parameter definieren, die Graviationsbeschleunigung $g$, die Viskosität $\\eta_0$ (10<sup>21</sup> Pa s), die Hintergunddichte $\\rho_0$ (3200 kg/m<sup>3</sup>), und die Dichte des Blocks $\\rho_1$ (3300 kg/m<sup>3</sup>).\n",
    "\n",
    "Der Vektor ```phase``` beinhaltet die Phasennummer, welche in der Funktion ```IniPhase()``` und bei der Initialisierung der Marker (```IniTracer2D()```) verwendet wird um die jeweilge Phase zuzuordnen. Der Vektor $\\rho$ beinhaltet die Dichtewerte die der jeweilige Phase zugeordnet sind. "
   ]
  },
  {
   "cell_type": "code",
   "execution_count": null,
   "metadata": {},
   "outputs": [],
   "source": [
    "# Physics =========================================================== #\n",
    "g       =   9.81\n",
    "\n",
    "η₀      =   1.0e21\n",
    "\n",
    "ρ₀      =   3200.0          #   Background density\n",
    "ρ₁      =   3300.0          #   Block density\n",
    "ρ       =   [ρ₀,ρ₁] \n",
    "\n",
    "phase   =   [0,1]\n",
    "# ------------------------------------------------------------------- #"
   ]
  },
  {
   "cell_type": "markdown",
   "metadata": {},
   "source": [
    "**Für unser zeitabhängiges Problem defenieren wir nur wieder den Ort zum speichern der Animation.**"
   ]
  },
  {
   "cell_type": "code",
   "execution_count": null,
   "metadata": {},
   "outputs": [],
   "source": [
    "# Animationsettings ================================================= #\n",
    "path        =   string(\"./Results/\")\n",
    "anim        =   Plots.Animation(path, String[] )\n",
    "filename    =   string(\"10_Falling_\",Ini.p,\"_iso_td_\",FD.Method.Adv)\n",
    "save_fig    =   1\n",
    "# ------------------------------------------------------------------- #"
   ]
  },
  {
   "cell_type": "markdown",
   "metadata": {},
   "source": [
    "Nun legen wir die Größen der benötigten Felder fest. **Dabei verwenden wir einige neue Felder.** "
   ]
  },
  {
   "cell_type": "code",
   "execution_count": null,
   "metadata": {},
   "outputs": [],
   "source": [
    "# Allocation ======================================================== #\n",
    "D   =   (\n",
    "    vx      =   zeros(Float64,NV.x,NC.y+2),\n",
    "    vy      =   zeros(Float64,NC.x+2,NV.y),\n",
    "    Pt      =   zeros(Float64,NC...),\n",
    "    p       =   zeros(Float64,NC...),\n",
    "    p_ex    =   zeros(Float64,NC.x+2,NC.y+2),\n",
    "    ρ       =   zeros(Float64,NC...),\n",
    "    ρ_ex    =   zeros(Float64,NC.x+2,NC.y+2),\n",
    "    ρ_exo   =   zeros(Float64,NC.x+2,NC.y+2),\n",
    "    vxc     =   zeros(Float64,NC...),\n",
    "    vyc     =   zeros(Float64,NC...),\n",
    "    vc      =   zeros(Float64,NC...),\n",
    "    wt      =   zeros(Float64,(NC.x,NC.y)),\n",
    "    wtv     =   zeros(Float64,(NV...)),\n",
    ")\n",
    "# ------------------------------------------------------------------- #"
   ]
  },
  {
   "cell_type": "markdown",
   "metadata": {},
   "source": [
    "Jetz lassen sich die Randbedingungen und die Anfangsbedingungen festlegen. \n",
    "\n",
    "Für die Randbedingungen benutzen wir wieder das Tuple ```VBC```, in dem die Art des Randes (*free slip* oder *no slip*) an der jeweiligen Position (**E**, **W**, **S**,**N**) definiert ist. Der angegeneben Wert ```val``` bestimmt dann den Wert der Geschwindigkeit an dem jeweiligen Rand. "
   ]
  },
  {
   "cell_type": "code",
   "execution_count": null,
   "metadata": {},
   "outputs": [],
   "source": [
    "# Boundary Conditions =============================================== #\n",
    "VBC     =   (\n",
    "    type    =   (E=:freeslip,W=:freeslip,S=:freeslip,N=:freeslip),\n",
    "    val     =   (E=zeros(NV.y),W=zeros(NV.y),S=zeros(NV.x),N=zeros(NV.x)),\n",
    ")\n",
    "# ------------------------------------------------------------------- #"
   ]
  },
  {
   "cell_type": "markdown",
   "metadata": {},
   "source": [
    "**Als nächstes müssen wir die Parameter für die Zeit und die Zeitschrittlänge definieren.**"
   ]
  },
  {
   "cell_type": "code",
   "execution_count": null,
   "metadata": {},
   "outputs": [],
   "source": [
    "# Time ============================================================== #\n",
    "T   =   ( \n",
    "    tmax    =   [0.0],  \n",
    "    Δfac    =   1.0,    # Courant time factor, i.e. dtfac*dt_courant\n",
    "    Δ       =   [0.0],\n",
    "    time    =   [0.0,0.0],\n",
    ")\n",
    "T.tmax[1]   =   9.886 * 1e6 * (60*60*24*365.25)   # [ s ]\n",
    "nt          =   9999\n",
    "# ------------------------------------------------------------------- #"
   ]
  },
  {
   "cell_type": "markdown",
   "metadata": {},
   "source": [
    "Zum Verwenden der **passiven Tracers zur Advektion der Dichte müssen diese ersteinmal initialisiert werden**. Die Funktion ```IniTracer2D()``` initialisiert die Verteilung der Tracer in der gegebenen Modeldomäne (mit beliebiger Störung bei der Position) und, falls vorher in ```Ini``` definiert, wird den Tracers die jeweilige Phase zugewiesen. \n",
    "\n",
    "Die Tracer werden im der Zeitschleife advektiert und transportieren die Phase. Mit der Funktion ```Marker2Cells()``` wird mit Hilfe der jeweiligen Phase eine Eigenschaft der Phase auf das Gitter interpoliert (hier die Dichte $\\rho$).\n",
    "\n",
    "Falls eine andere Advektionmethode gewählt wird, wird die Dichte direkt auf dem Gitter initialisiert. Beachte, die Advetkionsroutinen benötigen die Information auf dem erweiterten Gitter. \n",
    "\n",
    "Zum Aufstellen der Anfangsbedingungen, verwenden wir die Funktion ```IniPhase``` in der dem jeweiligen Punkt die dazugehörige Phase zugeteilt wird. Darauf weisen wir der jeweilgen Phase den entsprechenden Dichte Wert hinzu. "
   ]
  },
  {
   "cell_type": "code",
   "execution_count": null,
   "metadata": {},
   "outputs": [],
   "source": [
    "# Tracer Advection ================================================== #\n",
    "if FD.Method.Adv==:tracers \n",
    "    # Tracer Initialization ---\n",
    "    nmx,nmy     =   3,3\n",
    "    noise       =   0\n",
    "    nmark       =   nmx*nmy*NC.x*NC.y\n",
    "    Aparam      =   :phase\n",
    "    MPC         =   (\n",
    "        c       =   zeros(Float64,(NC.x,NC.y)),\n",
    "        v       =   zeros(Float64,(NV.x,NV.y)),\n",
    "        th      =   zeros(Float64,(nthreads(),NC.x,NC.y)),\n",
    "        thv     =   zeros(Float64,(nthreads(),NV.x,NV.y)),\n",
    "    )\n",
    "    MPC1        = (\n",
    "        PG_th   =   [similar(D.ρ) for _ = 1:nthreads()],    # per thread\n",
    "        PV_th   =   [similar(D.wtv) for _ = 1:nthreads()],   # per thread\n",
    "        wt_th   =   [similar(D.wt) for _ = 1:nthreads()],   # per thread\n",
    "        wtv_th  =   [similar(D.wtv) for _ = 1:nthreads()],  # per threadd\n",
    "    )\n",
    "    MPC     =   merge(MPC,MPC1)\n",
    "    Ma      =   IniTracer2D(Aparam,nmx,nmy,Δ,M,NC,noise,Ini.p,phase)\n",
    "    # RK4 weights ---\n",
    "    rkw     =   1.0/6.0*[1.0 2.0 2.0 1.0]   # for averaging\n",
    "    rkv     =   1.0/2.0*[1.0 1.0 2.0 2.0]   # for time stepping\n",
    "    # Count marker per cell ---\n",
    "    CountMPC(Ma,nmark,MPC,M,x,y,Δ,NC,NV,1)\n",
    "    # Interpolate from markers to cell ---\n",
    "    Markers2Cells(Ma,nmark,MPC.PG_th,D.ρ,MPC.wt_th,D.wt,x,y,Δ,Aparam,ρ)\n",
    "else\n",
    "    # --------------------------------------------------------------- #\n",
    "    # Initial Condition ============================================= #\n",
    "    # Phase ---\n",
    "    # If tracers are used, phases need to be defined on the tracers \n",
    "    # directly and are not suppose to be interpolated from the centroids! \n",
    "    IniPhase!(Ini.p,D,M,x,y,NC;phase)\n",
    "    for i in eachindex(phase)\n",
    "        D.ρ[D.p.==phase[i]] .= ρ[i]\n",
    "    end\n",
    "    D.ρ_ex[2:end-1,2:end-1]     .=  D.ρ\n",
    "    D.ρ_ex[1,:]     .=   D.ρ_ex[2,:]\n",
    "    D.ρ_ex[end,:]   .=   D.ρ_ex[end-1,:]\n",
    "    D.ρ_ex[:,1]     .=   D.ρ_ex[:,2]\n",
    "    D.ρ_ex[:,end]   .=   D.ρ_ex[:,end-1]\n",
    "    D.ρ_exo         .=   D.ρ_ex\n",
    "end\n",
    "# ------------------------------------------------------------------- #"
   ]
  },
  {
   "cell_type": "markdown",
   "metadata": {},
   "source": [
    "Nun müssen die Parameter für das lineare Gleichngssstem erstellt werden. \n",
    "\n",
    "Die Nummerierung der Gleichungen für die *x-Komponente* und die *y-Komnponente* der Impulserhaltung, sowie die der *Massenerhaltung*, als auch die Diskretisierung der zu lösenden Gleichungen mit Hilfe der finiten Differenzen Methode ist im Detail [hier](../../examples/StokesEquation/2D/README.md) beschrieben. \n",
    "\n",
    "Außerdem muss noch der Vektor der rechten Seite ```rhs```, sowie der Lösungsvektor ```χ``` initialisiert werden. Die Größe von beiden ist durch die maximale Anzahl der Gleichungen gegeben. "
   ]
  },
  {
   "cell_type": "code",
   "execution_count": null,
   "metadata": {},
   "outputs": [],
   "source": [
    "# System of Equations =============================================== #\n",
    "# Numbering, without ghost nodes! ---\n",
    "off    = [  NV.x*NC.y,                          # vx\n",
    "            NV.x*NC.y + NC.x*NV.y,              # vy\n",
    "            NV.x*NC.y + NC.x*NV.y + NC.x*NC.y]  # Pt\n",
    "\n",
    "Num    =    (\n",
    "    Vx  =   reshape(1:NV.x*NC.y, NV.x, NC.y), \n",
    "    Vy  =   reshape(off[1]+1:off[1]+NC.x*NV.y, NC.x, NV.y), \n",
    "    Pt  =   reshape(off[2]+1:off[2]+NC.x*NC.y,NC...),\n",
    ")\n",
    "# ------------------------------------------------------------------- #"
   ]
  },
  {
   "cell_type": "markdown",
   "metadata": {},
   "source": [
    "Mit Hilfe der Funktion ```Assemblyc()``` lassen sich die Koeffizienten für die Koeffizientenmatrix $\\bold{K}$ zuweisen. Die Funktion weist der jeweiligen Gleichung den Wert der benötigten Koeffizienten zu. Da wir ein isoviskoses Problem betrachten, können wir die Koeffizientenmatrix einmal außerhalb der Zeitschleife aufstellen, da sie sich nicht ändert. "
   ]
  },
  {
   "cell_type": "code",
   "execution_count": null,
   "metadata": {},
   "outputs": [],
   "source": [
    "# Assemble Coefficients ============================================= #\n",
    "K       =   Assemblyc(NC, NV, Δ, η₀, VBC, Num)\n",
    "# ------------------------------------------------------------------- #"
   ]
  },
  {
   "cell_type": "markdown",
   "metadata": {},
   "source": [
    "Nun folgt die Zeitschleife. In dieser muss jeweils \n",
    "- die rechte Seite aktualisiert (enthält die Dichteverteilung) \n",
    "- das Gleichungssystem gelöst\n",
    "- die Dichteverteilung und Geschwindigkeit visualisiert\n",
    "- die Zeitschrittlänge berechnet\n",
    "- und die Dichte advektiert werden. "
   ]
  },
  {
   "cell_type": "code",
   "execution_count": null,
   "metadata": {},
   "outputs": [],
   "source": [
    "# Time Loop ========================================================= #\n",
    "for it = 1:nt\n",
    "    χ       =   zeros(maximum(Num.Pt))  #   Unknown Vector\n",
    "    # Update Time ---\n",
    "    T.time[1]   =   T.time[2] \n",
    "    @printf(\"Time step: #%04d, Time [Myr]: %04e\\n \",it,\n",
    "                T.time[1]/(60*60*24*365.25)/1.0e6)\n",
    "    # Momentum Equation ===\n",
    "    # Update RHS ---\n",
    "    rhs     =   updaterhsc( NC, NV, Δ, η₀, D.ρ, g, VBC, Num )\n",
    "    # Solve System of Equations ---\n",
    "    χ       =   K \\ rhs\n",
    "    # Update Unknown Variables ---\n",
    "    D.vx[:,2:end-1]     .=  χ[Num.Vx]\n",
    "    D.vy[2:end-1,:]     .=  χ[Num.Vy]\n",
    "    D.Pt                .=  χ[Num.Pt]\n",
    "    # ===\n",
    "    # Get the velocity on the centroids ---\n",
    "    for i = 1:NC.x\n",
    "        for j = 1:NC.y\n",
    "            D.vxc[i,j]  = (D.vx[i,j+1] + D.vx[i+1,j+1])/2\n",
    "            D.vyc[i,j]  = (D.vy[i+1,j] + D.vy[i+1,j+1])/2\n",
    "        end\n",
    "    end\n",
    "    @. D.vc        = sqrt(D.vxc^2 + D.vyc^2)\n",
    "    # ---\n",
    "    @show(maximum(D.vc))\n",
    "    @show(minimum(D.Pt))\n",
    "    @show(maximum(D.Pt))\n",
    "    # ---\n",
    "    if T.time[2] >= T.tmax[1]\n",
    "        it = nt\n",
    "    end\n",
    "    # ---\n",
    "    if mod(it,2) == 0 || it == nt || it == 1\n",
    "        p = heatmap(x.c./1e3,y.c./1e3,D.ρ',color=:inferno,\n",
    "                xlabel=\"x[km]\",ylabel=\"y[km]\",colorbar=false,\n",
    "                title=\"Density\",\n",
    "                aspect_ratio=:equal,xlims=(M.xmin/1e3, M.xmax/1e3), \n",
    "                ylims=(M.ymin/1e3, M.ymax/1e3),\n",
    "                layout=(2,2),subplot=1)\n",
    "        quiver!(p,x.c2d[1:Pl.qinc:end,1:Pl.qinc:end]./1e3,\n",
    "                y.c2d[1:Pl.qinc:end,1:Pl.qinc:end]./1e3,\n",
    "                quiver=(D.vx[1:Pl.qinc:end,1:Pl.qinc:end].*Pl.qsc,\n",
    "                        D.vyc[1:Pl.qinc:end,1:Pl.qinc:end].*Pl.qsc), \n",
    "                la=0.5,\n",
    "                color=\"white\",layout=(2,2),subplot=1)\n",
    "        heatmap!(p,x.c./1e3,y.c./1e3,D.vxc',\n",
    "                xlabel=\"x[km]\",ylabel=\"y[km]\",colorbar=false,\n",
    "                title=\"V_x\",color=cgrad(:batlow),\n",
    "                aspect_ratio=:equal,xlims=(M.xmin/1e3, M.xmax/1e3),\n",
    "                ylims=(M.ymin/1e3, M.ymax/1e3),\n",
    "                layout=(2,2),subplot=3)\n",
    "        heatmap!(p,x.c./1e3,y.c./1e3,D.vyc',\n",
    "                xlabel=\"x[km]\",ylabel=\"y[km]\",colorbar=false,\n",
    "                title=\"V_y\",color=cgrad(:batlow),\n",
    "                aspect_ratio=:equal,xlims=(M.xmin/1e3, M.xmax/1e3),\n",
    "                ylims=(M.ymin/1e3, M.ymax/1e3),\n",
    "                layout=(2,2),subplot=4)\n",
    "        heatmap!(p,x.c./1e3,y.c./1e3,D.Pt',\n",
    "                xlabel=\"x[km]\",ylabel=\"y[km]\",colorbar=false,\n",
    "                title=\"P_t\",color=cgrad(:lipari),\n",
    "                aspect_ratio=:equal,xlims=(M.xmin/1e3, M.xmax/1e3),\n",
    "                ylims=(M.ymin/1e3, M.ymax/1e3),\n",
    "                layout=(2,2),subplot=2)\n",
    "        if save_fig == 1\n",
    "            Plots.frame(anim)\n",
    "        elseif save_fig == 0\n",
    "            display(p)\n",
    "        end\n",
    "    end\n",
    "    if T.time[2] >= T.tmax[1]\n",
    "        break\n",
    "    end\n",
    "     # Calculate Time Stepping ---\n",
    "    T.Δ[1]      =   T.Δfac * minimum((Δ.x,Δ.y)) / \n",
    "                        (sqrt(maximum(abs.(D.vx))^2 + maximum(abs.(D.vy))^2))\n",
    "    @printf(\"\\n\")\n",
    "    # Calculate Time ---\n",
    "    T.time[2]   =   T.time[1] + T.Δ[1]\n",
    "    if T.time[2] > T.tmax[1] \n",
    "        T.Δ[1]      =   T.tmax[1] - T.time[1]\n",
    "        T.time[2]   =   T.time[1] + T.Δ[1]\n",
    "    end\n",
    "    # Advection ===\n",
    "    if FD.Method.Adv==:upwind\n",
    "        upwindc2D!(D.ρ,D.ρ_ex,D.vxc,D.vyc,NC,T.Δ[1],Δ.x,Δ.y)\n",
    "    elseif FD.Method.Adv==:slf\n",
    "        slfc2D!(D.ρ,D.ρ_ex,D.ρ_exo,D.vxc,D.vyc,NC,T.Δ[1],Δ.x,Δ.y)\n",
    "    elseif FD.Method.Adv==:semilag\n",
    "        semilagc2D!(D.ρ,D.ρ_ex,D.vxc,D.vyc,[],[],x,y,T.Δ[1])\n",
    "    elseif FD.Method.Adv==:tracers\n",
    "        # Advect tracers ---\n",
    "        @printf(\"Running on %d thread(s)\\n\", nthreads())  \n",
    "        AdvectTracer2D(Ma,nmark,D,x,y,T.Δ[1],Δ,NC,rkw,rkv,1)\n",
    "        CountMPC(Ma,nmark,MPC,M,x,y,Δ,NC,NV,it)\n",
    "        # Interpolate phase from tracers to grid ---\n",
    "        Markers2Cells(Ma,nmark,MPC.PG_th,D.ρ,MPC.wt_th,D.wt,x,y,Δ,Aparam,ρ)\n",
    "    end\n",
    "end # End Time Loop"
   ]
  },
  {
   "cell_type": "markdown",
   "metadata": {},
   "source": [
    "Zuletzt speichern wir noch die Animation. "
   ]
  },
  {
   "cell_type": "code",
   "execution_count": null,
   "metadata": {},
   "outputs": [],
   "source": [
    "# Save Animation ==================================================== #\n",
    "if save_fig == 1\n",
    "    # Write the frames to a GIF file\n",
    "    Plots.gif(anim, string( path, filename, \".gif\" ), fps = 15)\n",
    "    foreach(rm, filter(startswith(string(path,\"00\")), readdir(path,join=true)))\n",
    "end"
   ]
  }
 ],
 "metadata": {
  "kernelspec": {
   "display_name": "Julia 1.11.3",
   "language": "julia",
   "name": "julia-1.11"
  },
  "language_info": {
   "file_extension": ".jl",
   "mimetype": "application/julia",
   "name": "julia",
   "version": "1.11.3"
  }
 },
 "nbformat": 4,
 "nbformat_minor": 2
}
