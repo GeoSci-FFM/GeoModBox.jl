{
 "cells": [
  {
   "cell_type": "markdown",
   "metadata": {},
   "source": [
    "# Diffusion Equation (2D)"
   ]
  },
  {
   "cell_type": "markdown",
   "metadata": {},
   "source": [
    "## Introduction\n",
    "\n",
    "Assuming constant thermal parameters and considering only radiogenic heat production, the 2D heat conduction equation is given by:\n",
    "\n",
    "$$\n",
    "\\frac{\\partial{T}}{\\partial{t}} = \\kappa \\left( \\frac{\\partial^2{T}}{\\partial{x^2}} + \\frac{\\partial^2{T}}{\\partial{y^2}} \\right) + \\frac{Q}{\\rho c_p}, \\tag{1}\n",
    "$$\n",
    "\n",
    "where $\\rho$ is the density [kg/m<sup>3</sup>], $c_p$ is the specific heat capacity [J/kg/K], $\\kappa = k/(\\rho c_p)$ is the thermal diffusivity [m<sup>2</sup>/s], and $Q$ is the volumetric radiogenic heat production [W/m<sup>3</sup>].  \n",
    "\n",
    "This equation describes the temporal evolution of temperature under the assumption that heat transport occurs purely by diffusion.\n"
   ]
  },
  {
   "cell_type": "markdown",
   "metadata": {},
   "source": [
    "## The Problem\n",
    "\n",
    "We consider equation (1) in a 2D rectangular domain with a width of $L = 200$ km and a depth of $H = 100$ km (Fig. 1). The surface temperature is fixed at 0 °C, and within the domain the temperature increases linearly according to a prescribed thermal gradient. The lateral boundary conditions can be chosen as either *Dirichlet* or *Neumann*. At the base of the domain, a region in the center with width $W_{Plume}$ is assigned a higher temperature than the surrounding material.  \n",
    "\n",
    "<img src=\"../Figures/Exercise05a_1.png\" alt=\"drawing\" width=\"450\"/> <br>  \n",
    "**Fig. 1.** Model setup  \n",
    "\n",
    "This configuration represents the situation of a plume head positioned beneath the lithosphere. Over time, the excess temperature of the plume heats the overlying lithosphere.  \n",
    "\n",
    "To solve this problem with Julia, we first need to load the required modules (`ExtendableSparse`, `Plots`) and the submodule (`GeoModBox.HeatEquation.TwoD`)."
   ]
  },
  {
   "cell_type": "code",
   "execution_count": null,
   "metadata": {},
   "outputs": [],
   "source": [
    "using Plots, GeoModBox.HeatEquation.TwoD, ExtendableSparse\n",
    "start = time()"
   ]
  },
  {
   "cell_type": "markdown",
   "metadata": {},
   "source": [
    "We now define the model dimensions ($L$, $H$) and physical parameters ($k$, $Q$), as well as the discretization scheme (explicit or implicit):"
   ]
  },
  {
   "cell_type": "code",
   "execution_count": null,
   "metadata": {},
   "outputs": [],
   "source": [
    "FDSchema    = :explicit\n",
    "# Physical parameters --------------------------------------------------- #\n",
    "P      = (\n",
    "    L       =   200e3,          # Length of the model [m]\n",
    "    H       =   100e3,          # Height of the model [m]\n",
    "    k       =   6,              # Thermal conductivity [W·m⁻¹·K⁻¹]\n",
    "    cp      =   1000,           # Heat capacity [J·kg⁻¹·K⁻¹]\n",
    "    ρ       =   3200,           # Density [kg·m⁻³]\n",
    "    K0      =   273.15,         # Kelvin at 0 °C\n",
    "    Q0      =   0,              # Background heat production rate [W·m⁻³]\n",
    ")\n",
    "P1      =   (\n",
    "    κ       =   P.k / P.ρ / P.cp,   # Thermal diffusivity [m²·s⁻¹]\n",
    "    Tbot    =   1300.0 + P.K0,      # Temperature at the bottom boundary [K]\n",
    "    Ttop    =   0.0 + P.K0,         # Temperature at the top boundary [K]\n",
    "    Tplume  =   2000.0 + P.K0,      # Temperature of the plume [K]\n",
    "    Xplume  =   P.L/2.0,            # x-coordinate of the plume center [m]\n",
    "    Wplume  =   50e3                # Width of the plume [m]\n",
    ")\n",
    "P   = merge(P,P1)\n",
    "# ----------------------------------------------------------------------- #\n"
   ]
  },
  {
   "cell_type": "markdown",
   "metadata": {},
   "source": [
    "Next, we define the number of grid points and the grid spacing:"
   ]
  },
  {
   "cell_type": "code",
   "execution_count": null,
   "metadata": {},
   "outputs": [],
   "source": [
    "# Numerical parameters -------------------------------------------------- #\n",
    "NC      = (\n",
    "    x       =   100,             # Grid points in the x-direction\n",
    "    y       =   50,              # Grid points in the y-direction\n",
    ")\n",
    "Δ       = (\n",
    "    x       = P.L/NC.x,          # Grid spacing in the x-direction [m]\n",
    "    y       = P.H/NC.y           # Grid spacing in the y-direction [m]\n",
    ")\n",
    "# ----------------------------------------------------------------------- #\n"
   ]
  },
  {
   "cell_type": "markdown",
   "metadata": {},
   "source": [
    "With these parameters, the numerical grid can be defined:"
   ]
  },
  {
   "cell_type": "code",
   "execution_count": null,
   "metadata": {},
   "outputs": [],
   "source": [
    "# Grid generation ------------------------------------------------------- #\n",
    "x       = (\n",
    "    c       =   LinRange(0.0 + Δ.x/2.0, P.L - Δ.x/2.0, NC.x),\n",
    ")\n",
    "y       = (\n",
    "    c       =   LinRange(-P.H + Δ.y/2.0, 0.0 - Δ.y/2.0, NC.y),\n",
    ")\n",
    "# ----------------------------------------------------------------------- #"
   ]
  },
  {
   "cell_type": "markdown",
   "metadata": {},
   "source": [
    "Since we are dealing with a time-dependent problem, we next define the parameters for the time integration. Note that in the case of the explicit finite-difference scheme, the diffusion stability criterion must be satisfied."
   ]
  },
  {
   "cell_type": "code",
   "execution_count": null,
   "metadata": {},
   "outputs": [],
   "source": [
    "# Time parameters ------------------------------------------------------- #\n",
    "T       = (\n",
    "    dn      =   100,            # Increment for graphical output,\n",
    "                                # i.e., here only every 25th time step\n",
    "    year    =   365.25*3600*24, # Seconds per year    \n",
    "    dtfac   =   0.9,            # Safety factor for time step size\n",
    "    Δ       =   [0.0],          # Time step length [s]\n",
    "    nt      =   [0]             # Number of time steps (initialized)\n",
    ")\n",
    "T1      = (\n",
    "    tmax    =   200 * 1e6 * T.year,    # Maximum simulation time [s]\n",
    "    Δ       =   T.dtfac * (1.0 / (2.0 * P.κ * (1.0/Δ.x^2 + 1/Δ.y^2)))\n",
    ")\n",
    "T           = merge(T,T1)\n",
    "\n",
    "nt          = floor(Int, T.tmax/T.Δ)  # Total number of time steps\n",
    "Time        = zeros(nt)\n",
    "# ----------------------------------------------------------------------- #"
   ]
  },
  {
   "cell_type": "markdown",
   "metadata": {},
   "source": [
    "To visualize the results as an animated GIF, we also need to specify the file location and name:"
   ]
  },
  {
   "cell_type": "code",
   "execution_count": null,
   "metadata": {},
   "outputs": [],
   "source": [
    "# Animationssettings ---------------------------------------------------- #\n",
    "path        =   string(\"./Results/\")\n",
    "anim        =   Plots.Animation(path, String[] )\n",
    "filename    =   string(\"05_2D_Plume_\",FDSchema)\n",
    "save_fig    =   1\n",
    "# ----------------------------------------------------------------------- #"
   ]
  },
  {
   "cell_type": "markdown",
   "metadata": {},
   "source": [
    "Next, we define the initial conditions and data arrays for our problem:\n"
   ]
  },
  {
   "cell_type": "code",
   "execution_count": null,
   "metadata": {},
   "outputs": [],
   "source": [
    "# Initial temperature field --------------------------------------------- #\n",
    "D       =   (\n",
    "    Q           =   zeros(NC...),\n",
    "    T           =   zeros(NC...),\n",
    "    T_ex        =   zeros(NC.x+2, NC.y+2),\n",
    "    Tmax        =   zeros(nt),\n",
    "    Tprofile    =   zeros(NC.y, nt),\n",
    "    ρ           =   zeros(NC...),\n",
    ")\n",
    "# Background field for heat sources\n",
    "D.Q     .=  P.Q0\n",
    "D.ρ     .=  P.ρ\n",
    "        \n",
    "# Lithosphere temperature – linearly increasing with depth\n",
    "for i = 1:NC.x, j = 1:NC.y\n",
    "    D.T[i,j]     =   P.Ttop + abs(y.c[j]/P.H) * P.Tbot\n",
    "    if abs(x.c[i] - P.Xplume) <= P.Wplume/2.0 && j == 1\n",
    "        D.T[i,j]    =   P.Tplume\n",
    "    end\n",
    "end\n",
    "D.T_ex[2:end-1,2:end-1]     .=  D.T\n",
    "\n",
    "# Visualize initial condition ------------------------------------------- #\n",
    "p = heatmap(x.c ./ 1e3, y.c ./ 1e3, (D.T .- P.K0)', \n",
    "        color=:viridis, colorbar=true, aspect_ratio=:equal, \n",
    "        xlabel=\"x [km]\", ylabel=\"z [km]\", \n",
    "        title=\"Temperature\", \n",
    "        xlims=(0, P.L/1e3), ylims=(-P.H/1e3, 0.0), \n",
    "        clims=(0, 2000))\n",
    "\n",
    "contour!(p, x.c./1e3, y.c/1e3, D.T' .- P.K0, levels=:10, linecolor=:black)\n",
    "if save_fig == 0\n",
    "    display(p)\n",
    "end\n",
    "# ----------------------------------------------------------------------- #\n"
   ]
  },
  {
   "cell_type": "markdown",
   "metadata": {},
   "source": [
    "## The Solution\n",
    "\n",
    "### Discretization\n",
    "\n",
    "To solve the problem numerically, the model domain is subdivided into a computational grid. We assume that the temperature and all thermal parameters are defined at *cell-centered* grid points (see Fig. 2). This setup corresponds to the discretization used in the stationary problem.  \n",
    "\n",
    "As before, we use *ghost nodes* in the grid to correctly incorporate the boundary conditions.  \n",
    "\n",
    "#### Grid and Indexing\n",
    "\n",
    "<img src=\"../Figures/Exercise04_2.png\" alt=\"drawing\" width=\"450\"/> <br>  \n",
    "**Fig. 2.** Staggered grid.  \n",
    "\n",
    "The staggered grid enables a *conservative* finite-difference approximation. Here, the heat flux  \n",
    "$q_{i,j} = -k \\frac{\\partial{T}}{\\partial{x_{i,j}}}$ is defined at the midpoints of the grid lines, while the temperature is defined at the cell centers. (Strictly speaking, the thermal conductivity is also defined on the grid lines; since it is constant, this can be ignored. For variable thermal parameters, the discretization must be adjusted.)  \n",
    "\n",
    "With cell-centered temperatures combined with *ghost nodes*, boundary conditions can be implemented in a straightforward way and with the same order of accuracy as the central difference quotients in the interior of the model.  \n",
    "\n",
    "When indexing grid points, we distinguish between *local* and *global* indices:  \n",
    "- The local index describes the position on the $(i,j)$ grid.  \n",
    "- The global index is a running index from 1 to $n_x \\times n_y$, corresponding to the number of equations, i.e., the total number of interior grid points. The global index is also used when assembling the coefficient matrix of the linear system.  \n",
    "\n",
    "For each grid point (i.e., each equation), a numerical *stencil* specifies the neighboring grid points relevant for that equation. The coefficients for these stencil points are nonzero, while all others are zero. The stencil notation often follows a compass scheme: South, West, Center, East, and North. For each equation, the global index ($ii$) of the stencil points is given by their relative position to the center of the stencil:  \n",
    "\n",
    "$$\n",
    "iS = ii - nx,\\\\\\\\\n",
    "iW = ii - 1,\\\\\\\\   \n",
    "iZ = ii, \\\\\\\\\n",
    "iE = ii + 1,\\\\\\\\\n",
    "iN = ii + nx.\n",
    "$$\n",
    "\n",
    "#### Finite-Difference Approximation\n",
    "\n",
    "The partial differential equation can now be approximated by finite differences:  \n",
    "\n",
    "**Explicit (Forward Euler scheme)**  \n",
    "$$\n",
    "T_{i,j}^{n+1} = T_{i,j}^n + \\kappa \\Delta{t} \\left(\\frac{T_{i-1,j}^{n} - 2 T_{i,j}^{n} + T_{i+1,j}^{n}}{\\Delta{x^2}} \\right) + \\kappa \\Delta{t} \\left(\\frac{T_{i,j-1}^{n} - 2 T_{i,j}^{n} + T_{i,j+1}^{n}}{\\Delta{y^2}} \\right) + \\frac{Q_{i,j} \\Delta{t}}{\\rho c_p}, \\tag{2}\n",
    "$$  \n",
    "\n",
    "where $n+1$ and $n$ denote the new and current time steps.  \n",
    "\n",
    "**Implicit (Backward Euler scheme)**  \n",
    "$$\n",
    "-b T_{i,j-1}^{n+1} - a T_{i-1,j}^{n+1} + (2a + 2b + c) T_{i,j}^{n+1} - a T_{i+1,j}^{n+1} - b T_{i,j+1}^{n+1} = T_{i,j}^{n} + \\frac{Q_{i,j}}{\\rho c_p}, \\tag{3}\n",
    "$$  \n",
    "\n",
    "where $a = \\kappa / \\Delta{x^2}$, $b = \\kappa / \\Delta{y^2}$, and $c = 1 / \\Delta{t}$.  \n",
    "Thus, the system can be written as a linear system with a coefficient matrix $\\mathbf{A}$ containing five nonzero diagonals, an unknown vector $T^{n+1}$, and a known vector $T^n$.  \n",
    "\n",
    "### Boundary Conditions\n",
    "\n",
    "The temperature at the *ghost nodes* is defined for *Dirichlet* and *Neumann* boundary conditions in the same way as in the [stationary 2D case](./04_2D_Diffusion_Stationary.ipynb) and the corresponding [explicit](./02_1D_Heat_explicit.ipynb) and [implicit](./03_1D_Heat_implicit.ipynb) 1D versions.  \n",
    "\n",
    "- In the **explicit scheme**, the temperatures at the *ghost nodes* are directly used in the update equations for the adjacent interior points.  \n",
    "- In the **implicit scheme**, the problem is again formulated as a linear system. In this case, the coefficients and right-hand side of the equations for the **interior points near the boundaries** must be modified according to the boundary conditions, making use of the *ghost node* values (derivation in the lecture).  \n",
    "\n",
    "When initializing the boundary conditions, a small trick is used: the temperature at the *ghost nodes* is defined later in the script.\n"
   ]
  },
  {
   "cell_type": "code",
   "execution_count": null,
   "metadata": {},
   "outputs": [],
   "source": [
    "# Boundary Conditions --------------------------------------------------- #\n",
    "BC      =   (type    = (W=:Neumann, E=:Neumann, N=:Dirichlet, S=:Dirichlet),\n",
    "           val     = (W=zeros(NC.y),E=zeros(NC.y),N=D.T[:,end],S=D.T[:,1]))\n",
    "#BC     = (type    = (W=:Dirichlet, E=:Dirichlet, N=:Dirichlet, S=:Dirichlet),\n",
    "#             val     = (W=D.T[1,:],E=D.T[end,:],N=D.T[:,end],S=D.T[:,1]))\n",
    "# ----------------------------------------------------------------------- #"
   ]
  },
  {
   "cell_type": "markdown",
   "metadata": {},
   "source": [
    "### Solving the Problem\n",
    "\n",
    "#### Linear System\n",
    "\n",
    "For the implicit case, we now initialize the coefficient matrix and the right-hand side:"
   ]
  },
  {
   "cell_type": "code",
   "execution_count": null,
   "metadata": {},
   "outputs": [],
   "source": [
    "# Linear System of Equations -------------------------------------------- #\n",
    "Num     =   (T=reshape(1:NC.x*NC.y, NC.x, NC.y),)\n",
    "ndof    =   maximum(Num.T)\n",
    "K       =   ExtendableSparseMatrix(ndof,ndof)\n",
    "rhs     =   zeros(ndof)\n",
    "# ----------------------------------------------------------------------- #"
   ]
  },
  {
   "cell_type": "markdown",
   "metadata": {},
   "source": [
    "#### Time Loop\n",
    "\n",
    "Numerically, we can now solve the PDE within a time loop in different ways.  \n",
    "\n",
    "- For the **explicit scheme**, we will first program the equations and boundary conditions manually before making use of the built-in functions from the `GeoModBox.HeatEquation.TwoD` submodule.  \n",
    "- For the **implicit scheme**, we directly apply the built-in function `BackwardEuler2Dc!()`.  \n"
   ]
  },
  {
   "cell_type": "code",
   "execution_count": null,
   "metadata": {},
   "outputs": [],
   "source": [
    "# Time loop ------------------------------------------------------------- #\n",
    "for n = 1:nt\n",
    "    println(n)\n",
    "    # Store the temperature profile at x = L/2\n",
    "    @. D.Tprofile[:,n]  =  (D.T[convert(Int,NC.x/2),:] \n",
    "                                + D.T[convert(Int,NC.x/2)+1,:]) / 2\n",
    "    D.Tmax[n]        =   maximum((D.T[:,convert(Int,NC.y/2)] \n",
    "                                + D.T[:,convert(Int,NC.y/2)+1]) / 2)\n",
    "\n",
    "    if n > 1\n",
    "        if FDSchema == :explicit             \n",
    "            ForwardEuler2Dc!(D, P.κ, Δ.x, Δ.y, T.Δ, D.ρ, P.cp, NC, BC)\n",
    "        elseif FDSchema == :implicit\n",
    "            BackwardEuler2Dc!(D, P.κ, Δ.x, Δ.y, T.Δ, D.ρ, P.cp, NC, BC, rhs, K, Num)\n",
    "        end                            \n",
    "        Time[n]     =   Time[n-1] + T.Δ\n",
    "    end    \n",
    "    \n",
    "    if mod(n, T.dn) == 0 || n == 1 || n == nt\n",
    "        p = heatmap(x.c ./ 1e3, y.c ./ 1e3, (D.T.-P.K0)', \n",
    "        color=:viridis, colorbar=true, aspect_ratio=:equal, \n",
    "        xlabel=\"x [km]\", ylabel=\"z [km]\", \n",
    "        title=\"Temperature\", \n",
    "        xlims=(0, P.L/1e3), ylims=(-P.H/1e3, 0.0), \n",
    "        clims=(0, 2000))\n",
    "\n",
    "        contour!(p, x.c./1e3, y.c/1e3, D.T' .- P.K0, levels=:10, linecolor=:black)\n",
    "        if save_fig == 1\n",
    "            Plots.frame(anim)\n",
    "        else\n",
    "            display(p)                        \n",
    "        end\n",
    "    end\n",
    "end\n"
   ]
  },
  {
   "cell_type": "markdown",
   "metadata": {},
   "source": [
    "## Results\n",
    "\n",
    "For clearer presentation and analysis, we plot a vertical temperature profile as a function of depth, as well as the maximum of a horizontal temperature profile as a function of time at the center of the domain:\n"
   ]
  },
  {
   "cell_type": "code",
   "execution_count": null,
   "metadata": {},
   "outputs": [],
   "source": [
    "q = plot(D.Tprofile[:,1:T.dn:end].-P.K0,y.c./1e3,\n",
    "        label=\"\",xlabel=\"T_{x=L/2}\",ylabel=\"Depth [km]\",\n",
    "        title=\"Temperature profile\",\n",
    "        layout=(1,2),subplot=1)\n",
    "\n",
    "plot!(q,Time./T.year/1e6,D.Tmax.-P.K0,\n",
    "        label=\"\",xlabel=\"Time [My]\",ylabel=\"T_{max} [°C]\",\n",
    "        subplot=2)\n"
   ]
  },
  {
   "cell_type": "markdown",
   "metadata": {},
   "source": [
    "Next, we create and save the animation:"
   ]
  },
  {
   "cell_type": "code",
   "execution_count": null,
   "metadata": {},
   "outputs": [],
   "source": [
    "if save_fig == 1\n",
    "        # Write the frames to a GIF file\n",
    "        Plots.gif(anim, string( path, filename, \".gif\" ), fps = 15)        \n",
    "        savefig(string(\"./Results/05_Plume_TProfile_Tmax_\",FDSchema,\".png\"))\n",
    "else\n",
    "    display(q)\n",
    "end\n",
    "foreach(rm, filter(startswith(string(path,\"00\")), readdir(path,join=true)))\n",
    "stop=time()\n",
    "println(stop-start)"
   ]
  }
 ],
 "metadata": {
  "kernelspec": {
   "display_name": "Julia 1.11.4",
   "language": "julia",
   "name": "julia-1.11"
  },
  "language_info": {
   "file_extension": ".jl",
   "mimetype": "application/julia",
   "name": "julia",
   "version": "1.11.4"
  }
 },
 "nbformat": 4,
 "nbformat_minor": 2
}
