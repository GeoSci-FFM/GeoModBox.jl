{
 "cells": [
  {
   "cell_type": "markdown",
   "metadata": {},
   "source": [
    "# Stokes Equation (2D)"
   ]
  },
  {
   "cell_type": "markdown",
   "metadata": {},
   "source": [
    "## Falling Block (constant viscosity, time-dependent)\n",
    "\n",
    "We now turn to the **time-dependent**, isoviscous problem of the falling block.  \n",
    "\n",
    "To solve this problem, we must couple the solution of the **momentum conservation** equation with the solution of the **advection equation**. The coupling is implemented by first solving the momentum conservation equation to obtain the velocities, and then transporting the density (or, in the case of passive markers, the phase) using the advection equation."
   ]
  },
  {
   "cell_type": "markdown",
   "metadata": {},
   "source": [
    "### The Problem"
   ]
  },
  {
   "cell_type": "markdown",
   "metadata": {},
   "source": [
    "Unlike the full benchmark for this problem, we focus here only on the **isoviscous** case (the benchmark considers the sinking velocity and deformation of the block as a function of the viscosity contrast [see here](../../examples/Benchmarks/)).  \n",
    "\n",
    "We assume a square body with a given width (**W**), height (**T**), and density ($\\rho_b$), embedded in a viscous medium ($\\eta_m$) with density ($\\rho_m$). The modeled domain is also square, with a length of $L = 500\\ \\textrm{km}$ and a height of $H = 500\\ \\textrm{km}$. Throughout the domain, we apply *free-slip* velocity boundary conditions."
   ]
  },
  {
   "cell_type": "markdown",
   "metadata": {},
   "source": [
    "<img src=\"../Figures/Exercise09_1.png\" alt=\"drawing\" width=\"450\"/> <br>\n",
    "**Figure 1.** Model setup"
   ]
  },
  {
   "cell_type": "markdown",
   "metadata": {},
   "source": [
    "A detailed description of how the model domain is discretized into a numerical grid, as well as the discretization of the **momentum conservation** and **mass conservation** equations depending on *free-slip* or *no-slip* boundary conditions, is provided [here](../../examples/StokesEquation/2D/README.md). Due to the length of this material, we omit a detailed explanation at this point.  \n",
    "\n",
    "We would like to incorporate as many advection mechanisms as possible into this problem. Therefore, in addition to the modifications required for time dependence, we introduce further changes. These changes are highlighted in **bold** throughout the text.  \n",
    "\n",
    "For additional information, see the [previous exercise](09_2D_Falling_Block.ipynb)."
   ]
  },
  {
   "cell_type": "markdown",
   "metadata": {},
   "source": [
    "First, we load the necessary modules for visualizing results, assembling and solving the linear system, setting up initial conditions, and solving the two-dimensional momentum conservation problem.  \n",
    "Because we now include advection and tracers, a few additional modules are required as well."
   ]
  },
  {
   "cell_type": "code",
   "execution_count": null,
   "metadata": {},
   "outputs": [],
   "source": [
    "using Plots\n",
    "using ExtendableSparse\n",
    "using GeoModBox.InitialCondition, GeoModBox.MomentumEquation.TwoD\n",
    "using GeoModBox.AdvectionEquation.TwoD\n",
    "using GeoModBox.Tracers.TwoD\n",
    "using Base.Threads\n",
    "using Printf"
   ]
  },
  {
   "cell_type": "markdown",
   "metadata": {},
   "source": [
    "First, we define the **advection method** using the tuple `FD`."
   ]
  },
  {
   "cell_type": "code",
   "execution_count": null,
   "metadata": {},
   "outputs": [],
   "source": [
    "# Define Numerical Scheme =========================================== #\n",
    "# Advection ---\n",
    "#   1) upwind, 2) slf, 3) semilag, 4) tracers\n",
    "FD          =   (Method     = (Adv=:tracers,),)\n",
    "# ------------------------------------------------------------------- #"
   ]
  },
  {
   "cell_type": "markdown",
   "metadata": {},
   "source": [
    "Using the built-in function `IniPhase()`, we can generate the initial density distribution for our *block* problem. Depending on the setup, this function creates an initial distribution of specific quantities on the numerical grid.  \n",
    "\n",
    "To use it, we need the tuple `Ini`, which defines the distribution (here for the phase *p*). The density distribution created by `IniPhase()` on the centroids is used by all advection methods, **except for tracers**. In the tracer case, an alternative initialization is applied.  "
   ]
  },
  {
   "cell_type": "code",
   "execution_count": null,
   "metadata": {},
   "outputs": [],
   "source": [
    "# Define Initial Condition ========================================== #\n",
    "# Density --- \n",
    "#   1) block\n",
    "Ini         =   (p=:block,) \n",
    "# ------------------------------------------------------------------- #\n",
    "# Plot Settings ===================================================== #\n",
    "Pl  =   (\n",
    "    qinc    =   5,\n",
    "    qsc     =   100*(60*60*24*365.25)*5e1\n",
    ")\n",
    "# ------------------------------------------------------------------- #"
   ]
  },
  {
   "cell_type": "markdown",
   "metadata": {},
   "source": [
    "Next, we define the geometry of our model domain.  "
   ]
  },
  {
   "cell_type": "code",
   "execution_count": null,
   "metadata": {},
   "outputs": [],
   "source": [
    " # Geometry ========================================================== #\n",
    " M       =   (\n",
    "    xmin    =   0.0,\n",
    "    xmax    =   500.0e3,    # [ m ]\n",
    "    ymin    =   -500.0e3,   # [ m ]\n",
    "    ymax    =   0.0,\n",
    ")\n",
    "# ------------------------------------------------------------------- #"
   ]
  },
  {
   "cell_type": "markdown",
   "metadata": {},
   "source": [
    "Now we define our grid resolution $\\left(nc_x = nc_y = 50\\right)$ and the numerical grid.  \n",
    "\n",
    "We need to specify both the grid spacing $\\Delta{x}$ and $\\Delta{y}$, as well as the coordinates of the different grid points (*vertices* and *centroids*).  \n",
    "To do this, we first define the respective 1-D coordinate vectors, from which the 2-D coordinate grids are then generated.  "
   ]
  },
  {
   "cell_type": "code",
   "execution_count": null,
   "metadata": {},
   "outputs": [],
   "source": [
    "# Grid ============================================================== #\n",
    "NC      =   (\n",
    "    x   =   50, \n",
    "    y   =   50,\n",
    ")\n",
    "NV      =   (\n",
    "    x   =   NC.x + 1,\n",
    "    y   =   NC.y + 1,\n",
    ")\n",
    "Δ       =   (\n",
    "    x   =   (M.xmax - M.xmin)/NC.x,\n",
    "    y   =   (M.ymax - M.ymin)/NC.y,\n",
    ")\n",
    "x       =   (\n",
    "    c   =   LinRange(M.xmin+Δ.x/2,M.xmax-Δ.x/2,NC.x),\n",
    "    ce  =   LinRange(M.xmin - Δ.x/2.0, M.xmax + Δ.x/2.0, NC.x+2),\n",
    "    v   =   LinRange(M.xmin,M.xmax,NV.x),\n",
    ")\n",
    "y       =   (\n",
    "    c   =   LinRange(M.ymin+Δ.y/2,M.ymax-Δ.y/2,NC.y),\n",
    "    ce  =   LinRange(M.ymin - Δ.x/2.0, M.ymax + Δ.x/2.0, NC.y+2),\n",
    "    v   =   LinRange(M.ymin,M.ymax,NV.y),\n",
    ")\n",
    "x1      =   (\n",
    "    c2d     =   x.c .+ 0*y.c',\n",
    "    v2d     =   x.v .+ 0*y.v', \n",
    "    vx2d    =   x.v .+ 0*y.ce',\n",
    "    vy2d    =   x.ce .+ 0*y.v',\n",
    ")\n",
    "x   =   merge(x,x1)\n",
    "y1      =   (\n",
    "    c2d     =   0*x.c .+ y.c',\n",
    "    v2d     =   0*x.v .+ y.v',\n",
    "    vx2d    =   0*x.v .+ y.ce',\n",
    "    vy2d    =   0*x.ce .+ y.v',\n",
    ")\n",
    "y   =   merge(y,y1)\n",
    "# ------------------------------------------------------------------- #"
   ]
  },
  {
   "cell_type": "markdown",
   "metadata": {},
   "source": [
    "Next, we define the physical parameters: gravitational acceleration $g$, viscosity $\\eta_0$ ($10^{21}$ Pa·s), background density $\\rho_0$ (3200 kg/m³), and block density $\\rho_1$ (3300 kg/m³).\n",
    "\n",
    "The vector `phase` contains the phase indices, which are used by `IniPhase()` and by the marker initialization (`IniTracer2D()`) to assign the appropriate phase to each location.  \n",
    "The vector $\\rho$ stores the density values associated with each phase."
   ]
  },
  {
   "cell_type": "code",
   "execution_count": null,
   "metadata": {},
   "outputs": [],
   "source": [
    "# Physics =========================================================== #\n",
    "g       =   9.81\n",
    "\n",
    "η₀      =   1.0e21\n",
    "\n",
    "ρ₀      =   3200.0          #   Background density\n",
    "ρ₁      =   3300.0          #   Block density\n",
    "ρ       =   [ρ₀,ρ₁] \n",
    "\n",
    "phase   =   [0,1]\n",
    "# ------------------------------------------------------------------- #"
   ]
  },
  {
   "cell_type": "markdown",
   "metadata": {},
   "source": [
    "For our time-dependent problem, we again define only the location for saving the animation.  \n"
   ]
  },
  {
   "cell_type": "code",
   "execution_count": null,
   "metadata": {},
   "outputs": [],
   "source": [
    "# Animationsettings ================================================= #\n",
    "path        =   string(\"./Results/\")\n",
    "anim        =   Plots.Animation(path, String[] )\n",
    "filename    =   string(\"10_Falling_\",Ini.p,\"_iso_td_\",FD.Method.Adv)\n",
    "save_fig    =   1\n",
    "# ------------------------------------------------------------------- #"
   ]
  },
  {
   "cell_type": "markdown",
   "metadata": {},
   "source": [
    "Now we define the sizes of the required fields. **In this case, we also introduce some new fields.**  "
   ]
  },
  {
   "cell_type": "code",
   "execution_count": null,
   "metadata": {},
   "outputs": [],
   "source": [
    "# Allocation ======================================================== #\n",
    "D   =   (\n",
    "    vx      =   zeros(Float64,NV.x,NC.y+2),\n",
    "    vy      =   zeros(Float64,NC.x+2,NV.y),\n",
    "    Pt      =   zeros(Float64,NC...),\n",
    "    p       =   zeros(Float64,NC...),\n",
    "    p_ex    =   zeros(Float64,NC.x+2,NC.y+2),\n",
    "    ρ       =   zeros(Float64,NC...),\n",
    "    ρ_ex    =   zeros(Float64,NC.x+2,NC.y+2),\n",
    "    ρ_exo   =   zeros(Float64,NC.x+2,NC.y+2),\n",
    "    vxc     =   zeros(Float64,NC...),\n",
    "    vyc     =   zeros(Float64,NC...),\n",
    "    vc      =   zeros(Float64,NC...),\n",
    "    wt      =   zeros(Float64,(NC.x,NC.y)),\n",
    "    wte     =   zeros(Float64,(NC.x+2,NC.y+2)),\n",
    "    wtv     =   zeros(Float64,(NV...)),\n",
    "    ηv      =   zeros(Float64,NV...),\n",
    ")\n",
    "# ------------------------------------------------------------------- #"
   ]
  },
  {
   "cell_type": "markdown",
   "metadata": {},
   "source": [
    "Now we can define the boundary and initial conditions.  \n",
    "\n",
    "For the boundary conditions, we again use the tuple `VBC`, which specifies the type of boundary (*free slip* or *no slip*) at each position (**E**, **W**, **S**, **N**).  \n",
    "The value specified by `val` then sets the velocity at the respective boundary.  "
   ]
  },
  {
   "cell_type": "code",
   "execution_count": null,
   "metadata": {},
   "outputs": [],
   "source": [
    "# Boundary Conditions =============================================== #\n",
    "VBC     =   (\n",
    "    type    =   (E=:freeslip,W=:freeslip,S=:freeslip,N=:freeslip),\n",
    "    val     =   (E=zeros(NV.y),W=zeros(NV.y),S=zeros(NV.x),N=zeros(NV.x),\n",
    "                vxE=zeros(NC.y),vxW=zeros(NC.y),vyS=zeros(NC.x),vyN=zeros(NC.x)),\n",
    ")\n",
    "# ------------------------------------------------------------------- #"
   ]
  },
  {
   "cell_type": "markdown",
   "metadata": {},
   "source": [
    "Next, we need to define the parameters for time and the time step length.  "
   ]
  },
  {
   "cell_type": "code",
   "execution_count": null,
   "metadata": {},
   "outputs": [],
   "source": [
    "# Time ============================================================== #\n",
    "T   =   ( \n",
    "    tmax    =   [0.0],  \n",
    "    Δfac    =   1.0,    # Courant time factor, i.e. dtfac*dt_courant\n",
    "    Δ       =   [0.0],\n",
    "    Time    =   [0.0,0.0],\n",
    ")\n",
    "T.tmax[1]   =   9.886 * 1e6 * (60*60*24*365.25)   # [ s ]\n",
    "nt          =   9999\n",
    "# ------------------------------------------------------------------- #"
   ]
  },
  {
   "cell_type": "markdown",
   "metadata": {},
   "source": [
    "To use **passive tracers for the advection of density, they first need to be initialized**.  \n",
    "The function `IniTracer2D()` initializes the distribution of tracers in the given model domain (with optional random noise in their positions).  \n",
    "If phases were previously defined in `Ini`, each tracer is assigned its corresponding phase.  \n",
    "\n",
    "During the time loop, tracers are advected and transport the phase. With the function `Marker2Cells()`, a property of the phase (here the density ρ) is interpolated back onto the grid.  \n",
    "\n",
    "If another advection method is chosen, the density is initialized directly on the grid.  \n",
    "Note that the advection routines require information on the extended grid.  \n",
    "\n",
    "To set up the initial conditions, we use the function `IniPhase`, which assigns each grid point to its corresponding phase. The density value associated with each phase is then mapped to the grid.  "
   ]
  },
  {
   "cell_type": "code",
   "execution_count": null,
   "metadata": {},
   "outputs": [],
   "source": [
    "# Tracer Advection ================================================== #\n",
    "if FD.Method.Adv==:tracers \n",
    "    # Tracer Initialization ---\n",
    "    nmx,nmy     =   3,3\n",
    "    noise       =   0\n",
    "    nmark       =   nmx*nmy*NC.x*NC.y\n",
    "    Aparam      =   :phase\n",
    "    MPC         =   (\n",
    "            c       =   zeros(Float64,(NC.x,NC.y)),\n",
    "            v       =   zeros(Float64,(NV.x,NV.y)),\n",
    "            th      =   zeros(Float64,(nthreads(),NC.x,NC.y)),\n",
    "            thv     =   zeros(Float64,(nthreads(),NV.x,NV.y)),\n",
    "    )\n",
    "    MAVG        = (\n",
    "            PC_th   =   [similar(D.wte) for _ = 1:nthreads()],  # per thread\n",
    "            PV_th   =   [similar(D.ηv) for _ = 1:nthreads()],   # per thread\n",
    "            wte_th  =   [similar(D.wte) for _ = 1:nthreads()],  # per thread\n",
    "            wtv_th  =   [similar(D.wtv) for _ = 1:nthreads()],  # per thread\n",
    "    )\n",
    "    Ma      =   IniTracer2D(Aparam,nmx,nmy,Δ,M,NC,noise,Ini.p,phase)\n",
    "    # RK4 weights ---\n",
    "    rkw     =   1.0/6.0*[1.0 2.0 2.0 1.0]   # for averaging\n",
    "    rkv     =   1.0/2.0*[1.0 1.0 2.0 2.0]   # for time stepping\n",
    "    # Count marker per cell ---\n",
    "    CountMPC(Ma,nmark,MPC,M,x,y,Δ,NC,NV,1)\n",
    "    # Interpolate from markers to cell ---\n",
    "    Markers2Cells(Ma,nmark,MAVG.PC_th,D.ρ_ex,MAVG.wte_th,D.wte,x,y,Δ,Aparam,ρ)\n",
    "    D.ρ     .=  D.ρ_ex[2:end-1,2:end-1]  \n",
    "else\n",
    "    # --------------------------------------------------------------- #\n",
    "    # Initial Condition ============================================= #\n",
    "    # Phase ---\n",
    "    # If tracers are used, phases need to be defined on the tracers \n",
    "    # directly and are not suppose to be interpolated from the centroids! \n",
    "    IniPhase!(Ini.p,D,M,x,y,NC;phase)\n",
    "    for i in eachindex(phase)\n",
    "        D.ρ[D.p.==phase[i]] .= ρ[i]\n",
    "    end\n",
    "    D.ρ_ex[2:end-1,2:end-1]     .=  D.ρ\n",
    "    D.ρ_ex[1,:]     .=   D.ρ_ex[2,:]\n",
    "    D.ρ_ex[end,:]   .=   D.ρ_ex[end-1,:]\n",
    "    D.ρ_ex[:,1]     .=   D.ρ_ex[:,2]\n",
    "    D.ρ_ex[:,end]   .=   D.ρ_ex[:,end-1]\n",
    "    D.ρ_exo         .=   D.ρ_ex\n",
    "end\n",
    "# ------------------------------------------------------------------- #"
   ]
  },
  {
   "cell_type": "markdown",
   "metadata": {},
   "source": [
    "Next, we need to define the parameters for the **linear system**.  \n",
    "\n",
    "The numbering of the equations for the *x-component* and *y-component* of the momentum conservation, as well as for the *mass conservation*, together with the discretization of the equations using the finite difference method, is explained in detail [here](../../examples/StokesEquation/2D/README.md).  \n",
    "\n",
    "In addition, the right-hand side vector `rhs` and the solution vector `χ` must be initialized.  \n",
    "The size of both vectors is determined by the maximum number of equations.  "
   ]
  },
  {
   "cell_type": "code",
   "execution_count": null,
   "metadata": {},
   "outputs": [],
   "source": [
    "# System of Equations =============================================== #\n",
    "# Numbering, without ghost nodes! ---\n",
    "off    = [  NV.x*NC.y,                          # vx\n",
    "            NV.x*NC.y + NC.x*NV.y,              # vy\n",
    "            NV.x*NC.y + NC.x*NV.y + NC.x*NC.y]  # Pt\n",
    "\n",
    "Num    =    (\n",
    "    Vx  =   reshape(1:NV.x*NC.y, NV.x, NC.y), \n",
    "    Vy  =   reshape(off[1]+1:off[1]+NC.x*NV.y, NC.x, NV.y), \n",
    "    Pt  =   reshape(off[2]+1:off[2]+NC.x*NC.y,NC...),\n",
    ")\n",
    "# ------------------------------------------------------------------- #"
   ]
  },
  {
   "cell_type": "markdown",
   "metadata": {},
   "source": [
    "With the function `Assemblyc()`, the coefficients for the coefficient matrix $\\mathbf{K}$ can be assigned.  \n",
    "The function assigns the required coefficient values to each equation.  \n",
    "\n",
    "Since we are dealing with an **isoviscous** problem, the coefficient matrix can be assembled **once outside the time loop**, as it does not change during the simulation.  "
   ]
  },
  {
   "cell_type": "code",
   "execution_count": null,
   "metadata": {},
   "outputs": [],
   "source": [
    "# Assemble Coefficients ============================================= #\n",
    "K       =   Assemblyc(NC, NV, Δ, η₀, VBC, Num)\n",
    "# ------------------------------------------------------------------- #"
   ]
  },
  {
   "cell_type": "markdown",
   "metadata": {},
   "source": [
    "Next comes the **time loop**. In each iteration, the following steps must be performed:\n",
    "\n",
    "- Update the right-hand side (which contains the density distribution),  \n",
    "- Solve the linear system,  \n",
    "- Visualize the density distribution and velocity field,  \n",
    "- Compute the time step size, and  \n",
    "- Advect the density.  "
   ]
  },
  {
   "cell_type": "code",
   "execution_count": null,
   "metadata": {},
   "outputs": [],
   "source": [
    "# Time Loop ========================================================= #\n",
    "for it = 1:nt\n",
    "    χ       =   zeros(maximum(Num.Pt))  #   Unknown Vector\n",
    "    # Update Time ---\n",
    "    T.Time[1]   =   T.Time[2] \n",
    "    @printf(\"Time step: #%04d, Time [Myr]: %04e\\n \",it,\n",
    "                T.Time[1]/(60*60*24*365.25)/1.0e6)\n",
    "    # Momentum Equation ===\n",
    "    # Update RHS ---\n",
    "    rhs     =   updaterhsc( NC, NV, Δ, η₀, D.ρ, -g, VBC, Num )\n",
    "    # Solve System of Equations ---\n",
    "    χ       =   K \\ rhs\n",
    "    # Update Unknown Variables ---\n",
    "    D.vx[:,2:end-1]     .=  χ[Num.Vx]\n",
    "    D.vy[2:end-1,:]     .=  χ[Num.Vy]\n",
    "    D.Pt                .=  χ[Num.Pt]\n",
    "    # ===\n",
    "    # Get the velocity on the centroids ---\n",
    "    for i = 1:NC.x\n",
    "        for j = 1:NC.y\n",
    "            D.vxc[i,j]  = (D.vx[i,j+1] + D.vx[i+1,j+1])/2\n",
    "            D.vyc[i,j]  = (D.vy[i+1,j] + D.vy[i+1,j+1])/2\n",
    "        end\n",
    "    end\n",
    "    @. D.vc        = sqrt(D.vxc^2 + D.vyc^2)\n",
    "    # ---\n",
    "    @show(maximum(D.vc))\n",
    "    @show(minimum(D.Pt))\n",
    "    @show(maximum(D.Pt))\n",
    "    # ---\n",
    "    if T.Time[2] >= T.tmax[1]\n",
    "        it = nt\n",
    "    end\n",
    "    # ---\n",
    "    if mod(it,2) == 0 || it == nt || it == 1\n",
    "        p = heatmap(x.c./1e3,y.c./1e3,D.ρ',color=:inferno,\n",
    "                xlabel=\"x[km]\",ylabel=\"y[km]\",colorbar=false,\n",
    "                title=\"Density\",\n",
    "                aspect_ratio=:equal,xlims=(M.xmin/1e3, M.xmax/1e3), \n",
    "                ylims=(M.ymin/1e3, M.ymax/1e3),\n",
    "                layout=(2,2),subplot=1)\n",
    "        quiver!(p,x.c2d[1:Pl.qinc:end,1:Pl.qinc:end]./1e3,\n",
    "                y.c2d[1:Pl.qinc:end,1:Pl.qinc:end]./1e3,\n",
    "                quiver=(D.vx[1:Pl.qinc:end,1:Pl.qinc:end].*Pl.qsc,\n",
    "                        D.vyc[1:Pl.qinc:end,1:Pl.qinc:end].*Pl.qsc), \n",
    "                la=0.5,\n",
    "                color=\"white\",layout=(2,2),subplot=1)\n",
    "        heatmap!(p,x.c./1e3,y.c./1e3,D.vxc',\n",
    "                xlabel=\"x[km]\",ylabel=\"y[km]\",colorbar=false,\n",
    "                title=\"V_x\",color=cgrad(:batlow),\n",
    "                aspect_ratio=:equal,xlims=(M.xmin/1e3, M.xmax/1e3),\n",
    "                ylims=(M.ymin/1e3, M.ymax/1e3),\n",
    "                layout=(2,2),subplot=3)\n",
    "        heatmap!(p,x.c./1e3,y.c./1e3,D.vyc',\n",
    "                xlabel=\"x[km]\",ylabel=\"y[km]\",colorbar=false,\n",
    "                title=\"V_y\",color=cgrad(:batlow),\n",
    "                aspect_ratio=:equal,xlims=(M.xmin/1e3, M.xmax/1e3),\n",
    "                ylims=(M.ymin/1e3, M.ymax/1e3),\n",
    "                layout=(2,2),subplot=4)\n",
    "        heatmap!(p,x.c./1e3,y.c./1e3,D.Pt',\n",
    "                xlabel=\"x[km]\",ylabel=\"y[km]\",colorbar=false,\n",
    "                title=\"P_t\",color=cgrad(:lipari),\n",
    "                aspect_ratio=:equal,xlims=(M.xmin/1e3, M.xmax/1e3),\n",
    "                ylims=(M.ymin/1e3, M.ymax/1e3),\n",
    "                layout=(2,2),subplot=2)\n",
    "        if save_fig == 1\n",
    "            Plots.frame(anim)\n",
    "        elseif save_fig == 0\n",
    "            display(p)\n",
    "        end\n",
    "    end\n",
    "    if T.Time[2] >= T.tmax[1]\n",
    "        break\n",
    "    end\n",
    "     # Calculate Time Stepping ---\n",
    "    T.Δ[1]      =   T.Δfac * minimum((Δ.x,Δ.y)) / \n",
    "                        (sqrt(maximum(abs.(D.vx))^2 + maximum(abs.(D.vy))^2))\n",
    "    @printf(\"\\n\")\n",
    "    # Calculate Time ---\n",
    "    T.Time[2]   =   T.Time[1] + T.Δ[1]\n",
    "    if T.Time[2] > T.tmax[1] \n",
    "        T.Δ[1]      =   T.tmax[1] - T.Time[1]\n",
    "        T.Time[2]   =   T.Time[1] + T.Δ[1]\n",
    "    end\n",
    "    # Advection ===\n",
    "    if FD.Method.Adv==:upwind\n",
    "        upwindc2D!(D.ρ,D.ρ_ex,D.vxc,D.vyc,NC,T.Δ[1],Δ.x,Δ.y)\n",
    "    elseif FD.Method.Adv==:slf\n",
    "        slfc2D!(D.ρ,D.ρ_ex,D.ρ_exo,D.vxc,D.vyc,NC,T.Δ[1],Δ.x,Δ.y)\n",
    "    elseif FD.Method.Adv==:semilag\n",
    "        semilagc2D!(D.ρ,D.ρ_ex,D.vxc,D.vyc,[],[],x,y,T.Δ[1])\n",
    "    elseif FD.Method.Adv==:tracers\n",
    "        # Advect tracers ---\n",
    "        @printf(\"Running on %d thread(s)\\n\", nthreads())  \n",
    "        AdvectTracer2D(Ma,nmark,D,x,y,T.Δ[1],Δ,NC,rkw,rkv,1)\n",
    "        CountMPC(Ma,nmark,MPC,M,x,y,Δ,NC,NV,it)\n",
    "        # Interpolate phase from tracers to grid ---\n",
    "        Markers2Cells(Ma,nmark,MAVG.PC_th,D.ρ_ex,MAVG.wte_th,D.wte,x,y,Δ,Aparam,ρ)\n",
    "        D.ρ     .=   D.ρ_ex[2:end-1,2:end-1]  \n",
    "    end\n",
    "end # End Time Loop"
   ]
  },
  {
   "cell_type": "markdown",
   "metadata": {},
   "source": [
    "Finally, we save the animation to file for later inspection and analysis.  "
   ]
  },
  {
   "cell_type": "code",
   "execution_count": null,
   "metadata": {},
   "outputs": [],
   "source": [
    "# Save Animation ==================================================== #\n",
    "if save_fig == 1\n",
    "    # Write the frames to a GIF file\n",
    "    Plots.gif(anim, string( path, filename, \".gif\" ), fps = 15)\n",
    "    foreach(rm, filter(startswith(string(path,\"00\")), readdir(path,join=true)))\n",
    "end"
   ]
  }
 ],
 "metadata": {
  "kernelspec": {
   "display_name": "Julia 1.11.4",
   "language": "julia",
   "name": "julia-1.11"
  },
  "language_info": {
   "file_extension": ".jl",
   "mimetype": "application/julia",
   "name": "julia",
   "version": "1.11.4"
  }
 },
 "nbformat": 4,
 "nbformat_minor": 2
}
