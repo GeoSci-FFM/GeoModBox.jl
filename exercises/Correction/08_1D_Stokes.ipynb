{
 "cells": [
  {
   "cell_type": "markdown",
   "metadata": {},
   "source": [
    "# Stokes Gleichung (1D)\n",
    "\n",
    "Berechnung eines 1-D Geschwindigkeitsprofiles einer Kanalströmung mit **konstantem** und **variablem** Tiefeviskositätsprofil."
   ]
  },
  {
   "cell_type": "markdown",
   "metadata": {},
   "source": [
    "## Einführung\n",
    "\n",
    "Die Stokes Gleichung in einer Richtung (hier betrachten wir nur die x-Komponente) ist gegeben durch: \n",
    "\n",
    "$$\n",
    "\\begin{equation}\n",
    "0 = -\\frac{\\partial{P}}{\\partial{x}}+\\frac{\\partial}{\\partial{x}}\\left(\\eta \\left(\\frac{\\partial{v_x}}{\\partial{y}}+\\frac{\\partial{v_y}}{\\partial{x}}\\right)\\right). \\tag{1}\n",
    "\\end{equation}\n",
    "$$\n",
    "\n",
    "<img src=\"../Figures/Exercise08_1.png\" al7t=\"drawing\" width=\"500\"/> <br>\n",
    "\n",
    "**Abb. 1. Kanalströmung.** **Couette**(Rot) und **Couette-Poisseuille**(Grün) Strömungsprofil einer Kanalströmung. Unter der Annahme eines konstanten Druckgradientens und lateral nicht variierender Vikosität lässt sich die Strömung im Kanal durch ein 1-D Profil angeben. \n",
    "\n",
    "&emsp; Nehmen wir an, die Strömung sei nur gegeben durch einen konstanten Druckgradienten und einer konstanten Geschwindigkeit an der Oberfläche (oder Boden, oder beidem), dann beschreibt die 1-D Stokes-Gleichung die Strömunggeschwindigkeit in einem horizontalem Kanal und ist gegeben durch (Abb. 1):  \n",
    "\n",
    "$$\n",
    "\\frac{\\partial{P}}{\\partial{x}} = \\frac{\\partial{\\tau_{x,y}}}{\\partial{y}}, \\tag{2}\n",
    "$$\n",
    "\n",
    "wobei *P* der Druck und $\\tau_{x,y}$ die deviatorischer Scherspannung sind. Die Scherspannung ist definiert durch: \n",
    "\n",
    "$$\n",
    "\\tau_{x,y} = 2 \\eta \\dot{\\varepsilon}_{x,y}, \\tag{3}\n",
    "$$\n",
    "\n",
    "wobei $\\eta$ die dynamische Viscosität und $\\dot{\\varepsilon}_{x,y}$ die deviatorische Scherdehnungsrate sind, wobei letztere gegeben ist durch: \n",
    "\n",
    "$$\n",
    "\\dot{\\varepsilon}_{x,y} = \\frac{1}{2}\\frac{\\partial{v_x}}{\\partial{y}}. \\tag{4}\n",
    "$$"
   ]
  },
  {
   "cell_type": "markdown",
   "metadata": {},
   "source": [
    "In Abhängigkeit der Unbekannten lässt sich Gleichung $(2)$ umformulieren zu: \n",
    "\n",
    "$$\n",
    "\\frac{\\partial{P}}{\\partial{x}} = \\frac{\\partial}{\\partial{x}}\\left(\\eta\\left(\\frac{\\partial{v_x}}{\\partial{y}}\\right)\\right). \\tag{5}\n",
    "$$\n",
    "\n",
    "Die Annahme einer konstant Viskosität vereinfacht Gleichung $(5)$ weiter in eine Poissongleichung der Form: \n",
    "\n",
    "$$\n",
    "\\frac{\\partial{P}}{\\partial{x}} = \\eta\\frac{\\partial^2{v_x}}{\\partial{y}^2}. \\tag{6}\n",
    "$$"
   ]
  },
  {
   "cell_type": "markdown",
   "metadata": {},
   "source": [
    "Unter der Annahme einer bekannten Viskosität und eines horizontalen Druckgradienten kann mann die Gleichungen $(5)$ und $(6)$ numerisch oder analytisch lösen. Dies hat den Vorteil, dass wir die Genauigkeit der numerischen Lösung exakt testen können. Nehmen wir zum Beispiel an, die Viskosität variiere logerithmisch mit der Tiefe und sei gegeben durch:   \n",
    "\n",
    "$$\n",
    "\\eta = \\eta_0 exp\\left(-log(m) \\frac{y}{H}\\right), \\tag{7}\n",
    "$$\n",
    "<!-- Needs to be checked! -->\n",
    "wobei *m* das Viskositätsverhältnis von $\\frac{\\eta_1}{\\eta_0}$ ist, $\\eta_0$ und $\\eta_1$ sind jeweils die Viskositäten and der Ober- und Unterseite, *H* ist die Schichtdicke, und *y* ist die Tiefe (negative nach unten). Durch zweifache Integration der Gleichung $(5)$ können wir eine analytische Lösung der horizontalen Flussgeschwindigkeit in x-Richtung herleiten. Die tiefenabhängige analyitische Lösung hängt ab von dem Viskositätsverhältnis *m*, dem horizontalen Druckgradienten $\\frac{\\partial{P}}{\\partial{x}}$, und der Schergeschwindigkeit an der Oberseite $v_{x,0}$ und ist gegeben durch:  \n",
    "\n",
    "$$\n",
    "v_{x,ana}(y) =\\frac{1}{2 \\eta_0} \\frac{\\partial P}{\\partial{x}} \\left(y^2 + Hy\\right) + v_{x,0}\\frac{y}{H} + v_{x,0} ;\\ \\textrm{falls}\\ m = 1, \\tag{8}\n",
    "$$\n",
    "\n",
    "und\n",
    "\n",
    "$$\n",
    "v_{x,ana}(y) = \n",
    "-\\frac{1}{\\eta_0}\\frac{\\partial{P}}{\\partial{x}}\\frac{H}{log(m)(m-1)} \\left(-y\\left(m^{(y+H)/H}-m^{y/H}\\right) + H\\left(m^{y/H}-1\\right)\\right)+\\frac{v_{x0}}{m-1}\\left(m^{(y+H)/H}-1\\right);\\ \\textrm{falls}\\ m \\neq 0, \\tag{9}\n",
    "$$."
   ]
  },
  {
   "cell_type": "markdown",
   "metadata": {},
   "source": [
    "## Lösung\n",
    "### Diskretisierung\n",
    "Zur Lösung des Problems, müssen wir die PDGn wieder durch finite Differenzen approximieren. Dazu teilen wir das 1-D Profil in ein numerisches 1-D Gitter auf (Abb. 2). \n",
    "\n",
    "<img src=\"../Figures/Exercise08_2.png\" al7t=\"drawing\" width=\"250\"/> <br>\n",
    "\n",
    "**Abb. 2. Diskretisierung.** Eindimensionale finite Differenzen Aufteilung für die horizontale Geschwindigkeit (Cyan) und die Viskosität (Schwarz). Für eine tiefenabhängige Viskosität muss diese auf den Vertices (*nv*) und die Geschwindigkeit auf den Centroids (*nc*) definiert werden. \n",
    "\n",
    "Zur Lösung der PDG müssen wir die Gleichungen $(5)$ und $(6)$ mit Hilfe von finiten Differenzen Operatoren approximieren. Das zu lösende Gleichungssystem für beide Fälle, konstanter oder variabler Viskosität, ist das gleiche und gegeben durch: \n",
    "\n",
    "$$\n",
    "\\frac{\\partial{P}}{\\partial{x}} = a v_{x,j-1} + b v_{x,j} + c v_{x,j+1}, \\tag{10}\n",
    "$$\n",
    "\n",
    "wobei für eine **konstante Viskosität** die Koeffizienten gegeben sind durch (Diskretisierung von Gleichung $(6)$ ): \n",
    "\n",
    "$$\n",
    "a = c = \\frac{\\eta}{\\Delta{y}^2}, \\ \\textrm{und}\\ b = -\\frac{2\\eta}{\\Delta{y\\^2}}. \\tag{11}\n",
    "$$\n",
    "\n",
    "Im Falle einer **variablen Viskosität** müssen wir Gleichung $(5)$ diskretisieren und nutzen die versetzten (staggered) Gitterpunkte. Dabei ist die Geschwindigkeit auf den *Centroids* definiert und die Viskosität auf den *Vertices* (Abb. 2). Die Diskretisierung von Gleichung $(5)$ sie dann wie folgt aus (beachte die unterschiedlichen Indizierungen (Abb. 2)): \n",
    "\n",
    "$$\n",
    "\\frac{\\partial{P}}{\\partial{x}} = \\frac{\\eta_{j+1} \\frac{\\partial{v_x}}{\\partial{y}}\\vert_{j+1} - \\eta_{j} \\frac{\\partial{v_x}}{\\partial{y}}\\vert_{j}}{\\Delta{y}}, \\tag{12}\n",
    "$$\n",
    "\n",
    "$$\n",
    "\\frac{\\partial{P}}{\\partial{x}} = \\frac{\\eta_{j+1} \\frac{v_{x,j+1}-v_{x,j}}{\\Delta{y}} - \\eta_{j} \\frac{v_{x,j}-v_{x,j-1}}{\\Delta{y}}}{\\Delta{y}}, \\tag{13}\n",
    "$$\n",
    "\n",
    "$$\n",
    "\\frac{\\partial{P}}{\\partial{x}} = \\frac{\\eta_{j}}{\\Delta{y}^2}v_{x,j-1} - \\left(\\frac{\\eta_j+\\eta_{j+1}}{\\Delta{y}^2}\\right)v_{x,j} + \\frac{\\eta_{j+1}}{\\Delta{y}^2}v_{x,j+1}. \\tag{14}\n",
    "$$\n",
    "\n",
    "Gleichung $(14)$ entspricht Gleichung $(10)$, wobei \n",
    "\n",
    "$$\n",
    "a = \\frac{\\eta_j}{\\Delta{y}^2},\\ b = -\\frac{\\eta_j+\\eta_{j+1}}{\\Delta{y}^2},\\ \\textrm{und}\\ c = \\frac{\\eta_{j+1}}{\\Delta{y}^2}. \\tag{15}\n",
    "$$"
   ]
  },
  {
   "cell_type": "markdown",
   "metadata": {},
   "source": [
    "### Randbedingungen\n",
    "\n",
    "Für die Randbedingungen der Geschwindigkeit and der Ober- und Unterseite benutzten wir die zwei klassischen Randbedingungen, *Dirichlet* oder *Neumann*, d.h. konstante Geschdindigkeiten oder konstante Flussbedingungen. \n",
    "\n",
    "Zur Einbindung der Randbedingungen in unser lineares Gleichungssystem benutzen wir wieder die *Geister Knotenpunkte*, diesmal der Geschwindigkeit. Um das lineare Gleichungssystem direkt lösen zu können, müssen wir die Koeffizieten der Matrix und die entsprechende Werte der rechten Seite verändern. \n",
    "\n",
    "Die Geschwindigkeiten der *Geister Knotenpunkte* für die jeweilige Randbedingunge sind gegeben durch: \n",
    "\n",
    "**Dirichlet**\n",
    "\n",
    "*Unten* (j=1)\n",
    "\n",
    "$$\n",
    "V_{G,S} = 2 V_{BC,S} - v_{x,1}, \\tag{16}\n",
    "$$\n",
    "\n",
    "*Oben* (j=nc)\n",
    "\n",
    "$$\n",
    "V_{G,N} = 2 V_{BC,N} - v_{x,nc}, \\tag{17}\n",
    "$$\n",
    "\n",
    "wobei $V_{BC,S}$ und $V_{BC,N}$ die Geschwindigkeiten an den Rändern sind und\n",
    "\n",
    "**Neumann**\n",
    "\n",
    "*Unten* (j=1)\n",
    "\n",
    "$$\n",
    "V_{G,S} = v_{x,1} - c_S \\Delta{y}, \\tag{18}\n",
    "$$\n",
    "\n",
    "*Oben* (j=nc)\n",
    "\n",
    "$$\n",
    "V_{G,N} = v_{x,nc} + c_N \\Delta{y}, \\tag{19}\n",
    "$$\n",
    "\n",
    "wobei $c_S$ und $c_N$ die vertikale Geschwindigkeitsgradienten $\\frac{\\partial{v_x}}{\\partial{y}}$ über den jeweiligen Rand hinweg sind. "
   ]
  },
  {
   "cell_type": "markdown",
   "metadata": {},
   "source": [
    "Die Koeffizienten und die rechte Seite ändern sich dann entsprechend zu: \n",
    "\n",
    "**Dirichlet**\n",
    "\n",
    "*unten* (j = 1)\n",
    "\n",
    "$$\n",
    "\\left(b-a\\right) v_{x,1} + c v_{x,2} = \\frac{\\partial{P}}{\\partial{x}} - 2aV_{BC,S},\n",
    "$$\n",
    "\n",
    "*oben* (j=nc)\n",
    "\n",
    "$$\n",
    "a v_{x,nc-1} + \\left(b-c\\right) v_{x,nc}  = \\frac{\\partial{P}}{\\partial{x}} - 2cV_{BC,N},\n",
    "$$\n",
    "\n",
    "**Neumann**\n",
    "\n",
    "*unten* (j = 1)\n",
    "\n",
    "$$\n",
    "\\left(b+a\\right) v_{x,1} + c v_{x,2} = \\frac{\\partial{P}}{\\partial{x}} + a c_S \\Delta{y},\n",
    "$$\n",
    "\n",
    "*oben* (j=nc)\n",
    "\n",
    "$$\n",
    "a v_{x,nc-1} + \\left(b+c\\right) v_{x,nc}  = \\frac{\\partial{P}}{\\partial{x}} - c c_N \\Delta{y}.\n",
    "$$"
   ]
  },
  {
   "cell_type": "markdown",
   "metadata": {},
   "source": [
    "Nun laden wir erst einmal die notwendigen Module: "
   ]
  },
  {
   "cell_type": "code",
   "execution_count": 1,
   "metadata": {},
   "outputs": [],
   "source": [
    "using Plots, ExtendableSparse"
   ]
  },
  {
   "cell_type": "markdown",
   "metadata": {},
   "source": [
    "Nehmen wir nun an, die Schicht $H$ sei 400 km mächtig, die Geschwindigkeit an der Oberfläche $V_{x0}$ beträge 5 cm/a, die Referenzviskosität $\\eta_0$ beträgt $10^{21}\\ Pa\\cdot s$, und der Druckgradient $\\frac{\\partial{P}}{\\partial{x}}$ sei erst einmal gleich null."
   ]
  },
  {
   "cell_type": "code",
   "execution_count": null,
   "metadata": {},
   "outputs": [],
   "source": [
    "# Model Parameter ------------------------------------------------------- #\n",
    "M   =   (\n",
    "    ymin        =   -400.0e3,           #   Tiefe [ m ]\n",
    "    ymax        =   0.0e3,              \n",
    ")\n",
    "I   =   (\n",
    "    vₓ₀         =   5/100/31536000,     #   Geschwindigkeit oben [ m/s ]\n",
    "    η₀          =   1.0e21,             #   Viscosität an der Oberseite [ Pa s ]\n",
    "    η₁          =   1.0e21,             #   Viskosität an der Unterseite [ Pa s ]\n",
    "    ∂P∂x        =   -2.0e1,              #   horizontaler Druckgradient [ Pa/m ]\n",
    ")\n",
    "I1  =   (\n",
    "    m           =   I.η₁ / I.η₀,        #   Viskositätsverhältnis\n",
    ")\n",
    "I   =   merge(I,I1)\n",
    "# ----------------------------------------------------------------------- #"
   ]
  },
  {
   "cell_type": "markdown",
   "metadata": {},
   "source": [
    "Als nächstes definieren wir das numerische \"Gitter\" und den Speicher der Felder der Variablen:"
   ]
  },
  {
   "cell_type": "code",
   "execution_count": null,
   "metadata": {},
   "outputs": [],
   "source": [
    "# Numerische Parameter -------------------------------------------------- #\n",
    "NC  =   (\n",
    "    y   =   100,        #   Anzahl der vertikalen Centroids\n",
    ")\n",
    "NV  =   (\n",
    "    y   =   NC.y + 1,\n",
    ")\n",
    "Δ   =   (\n",
    "    y   =   (M.ymax-M.ymin)/NC.y,   #   Gitterauflösung\n",
    ")\n",
    "# ----------------------------------------------------------------------- #\n",
    "# Speicherzuweisung ----------------------------------------------------- #\n",
    "D   =   (\n",
    "    η   =   zeros(NC.y+1),\n",
    "    vₓ  =   zeros(NC...),\n",
    "    vₓₐ =   zeros(NC...),\n",
    "    Δvₓ =   zeros(NC...)\n",
    ")\n",
    "# ----------------------------------------------------------------------- #\n",
    "# Gitter ---------------------------------------------------------------- #\n",
    "y   =   (\n",
    "    c   =   LinRange(M.ymin+Δ.y/2,M.ymax-Δ.y/2,NC.y),\n",
    "    v   =   LinRange(M.ymin,M.ymax,NV.y),\n",
    ")\n",
    "# Viskositätsprofil ---\n",
    "@. D.η  =   I.η₀ * exp(-log(I.m)* y.v / (M.ymax-M.ymin))\n",
    "# ----------------------------------------------------------------------- #"
   ]
  },
  {
   "cell_type": "markdown",
   "metadata": {},
   "source": [
    "Nun können wir auch die analytische Lösung mit Hilfe von Gleichungen $(8)$ und $(9)$ definieren: "
   ]
  },
  {
   "cell_type": "code",
   "execution_count": null,
   "metadata": {},
   "outputs": [],
   "source": [
    "# Analytische Lösung ---------------------------------------------------- #\n",
    "if I.m  == 1.0\n",
    "    @. D.vₓₐ    =   1.0/2.0/I.η₀ * I.∂P∂x * \n",
    "                    (y.c^2 + (M.ymax-M.ymin).*y.c) + \n",
    "                    I.vₓ₀*y.c/(M.ymax-M.ymin) + I.vₓ₀\n",
    "else\n",
    "    @. D.vₓₐ    =   -I.∂P∂x * (M.ymax-M.ymin) / I.η₀ / log(I.m) / (I.m-1) * \n",
    "        (-y.c * (I.m^((y.c + (M.ymax-M.ymin))/(M.ymax-M.ymin)) - \n",
    "        I.m^(y.c/(M.ymax-M.ymin))) + (M.ymax-M.ymin)*(I.m^(y.c/(M.ymax-M.ymin)) - 1)) + \n",
    "        I.vₓ₀ / (I.m-1) * (I.m ^ ((y.c+(M.ymax-M.ymin))/(M.ymax-M.ymin)) - 1)\n",
    "end\n",
    "# ----------------------------------------------------------------------- #"
   ]
  },
  {
   "cell_type": "markdown",
   "metadata": {},
   "source": [
    "Als Randbedingungen setzten wir an der Ober- (N) und Unterseite (S) Dirichlet Geschwindigkeitsbedingungen: "
   ]
  },
  {
   "cell_type": "code",
   "execution_count": null,
   "metadata": {},
   "outputs": [],
   "source": [
    "# Randbedingungen ------------------------------------------------------- #\n",
    "VBC     =   (\n",
    "    type    = (S=:Dirichlet, N=:Dirichlet),\n",
    "    val     = (S=0.0,N=I.vₓ₀)\n",
    ")\n",
    "# ----------------------------------------------------------------------- #"
   ]
  },
  {
   "cell_type": "markdown",
   "metadata": {},
   "source": [
    "Nun definieren wir die Teile unseres linearen Gleichungssystems (Koeffizientenmatrix, rechte Seite). "
   ]
  },
  {
   "cell_type": "code",
   "execution_count": 6,
   "metadata": {},
   "outputs": [],
   "source": [
    "# Lineares Gleichungssystem --------------------------------------------- #\n",
    "Num     =   (Vx=1:NC.y,)\n",
    "ndof    =   maximum(Num.Vx)\n",
    "K       =   ExtendableSparseMatrix(ndof,ndof)\n",
    "rhs     =   zeros(NC...)\n",
    "# ----------------------------------------------------------------------- #\n",
    "# Zusammenstellen der Koeffizientenmatrix ------------------------------- #\n",
    "#a       =     I.η₀ / Δ.y^2.0 = c\n",
    "#b       =   - 2.0 * I.η₀ / Δ.y^2.0\n",
    "rhs     .=  I.∂P∂x\n",
    "for i = 1:NC.y\n",
    "    a   =   D.η[i] / Δ.y^2.0\n",
    "    b   =   -(D.η[i]+D.η[i+1]) / Δ.y^2.0\n",
    "    c   =   D.η[i+1] / Δ.y^2.0\n",
    "    # Gleichungsnummer ---\n",
    "    ii  =   Num.Vx[i]\n",
    "    # Stempel ---\n",
    "    iN  =   ii + 1      #   Norden\n",
    "    iC  =   ii          #   Zentral\n",
    "    iS  =   ii - 1      #   Süden\n",
    "    # Ränder ---\n",
    "    # Falls ein Süd Index gebrauch wird ---\n",
    "    inS    =  i==1    ? false  : true\n",
    "    DirS   = (i==1    && VBC.type.S==:Dirichlet) ? 1. : 0.\n",
    "    NeuS   = (i==1    && VBC.type.S==:Neumann  ) ? 1. : 0.\n",
    "    # If an East index is required ---\n",
    "    inN    =  i==NC.y ? false  : true\n",
    "    DirN   = (i==NC.y && VBC.type.N==:Dirichlet) ? 1. : 0.\n",
    "    NeuN   = (i==NC.y && VBC.type.N==:Neumann  ) ? 1. : 0.\n",
    "    if inS K[ii,iS]    = a end\n",
    "        K[ii,iC]       =   b + (NeuS - DirS)*a + (NeuN - DirN)*c\n",
    "    if inN K[ii,iN]    = c end    \n",
    "    # Änderung der rechten Seite ---\n",
    "    rhs[i]      +=  a*VBC.val.S*Δ.y * NeuS - \n",
    "                        2*a*VBC.val.S * DirS - \n",
    "                        c*VBC.val.N*Δ.y * NeuN - \n",
    "                        2*c*VBC.val.N * DirN\n",
    "end\n",
    "# ----------------------------------------------------------------------- #"
   ]
  },
  {
   "cell_type": "markdown",
   "metadata": {},
   "source": [
    "Jetzt lässt sich das Gleichungssystem lösen und wir können die Abweichung der numersichen Lösung von der analytischen Lösung bestimmen: "
   ]
  },
  {
   "cell_type": "code",
   "execution_count": null,
   "metadata": {},
   "outputs": [],
   "source": [
    "# Lösung des Gleichungssystems ------------------------------------------ #\n",
    "D.vₓ      .=   K \\ rhs\n",
    "# ----------------------------------------------------------------------- #\n",
    "# Abweichung vom der analytischen Lösung -------------------------------- #\n",
    "@. D.Δvₓ    =   ((D.vₓₐ - D.vₓ) / D.vₓₐ) * 100.0\n",
    "# ----------------------------------------------------------------------- #"
   ]
  },
  {
   "cell_type": "markdown",
   "metadata": {},
   "source": [
    "Zum Schluss, visualisieren wir die Lösung und die Abweichung in einem Plot:"
   ]
  },
  {
   "cell_type": "code",
   "execution_count": null,
   "metadata": {},
   "outputs": [],
   "source": [
    "# Visualisierung -------------------------------------------------------- #\n",
    "q   =   plot(D.vₓ,y.c./1e3,label=\"numerisch\",\n",
    "            xlabel=\"vₓ\", ylabel=\"y [km]\",\n",
    "            title=\"Velocity Profile\",\n",
    "            xlim=(0,I.vₓ₀*1.5),ylim=(M.ymin/1e3,M.ymax/1e3),\n",
    "            layout=(1,3),subplot=1)\n",
    "plot!(q,D.vₓₐ,y.c./1e3,label=\"analytisch\",linestyle=:dash,\n",
    "        subplot=1)\n",
    "plot!(q,D.Δvₓ,y.c./1e3,label=\"\",\n",
    "        xlabel=\"Δvₓ\",ylabel=\"z [km]\",\n",
    "        title=\"Abweichung [ % ]\",\n",
    "        subplot=2)\n",
    "plot!(q,log10.(D.η),y.v./1e3,label=\"\",\n",
    "        xlabel=\"η\",ylabel=\"z [km]\",\n",
    "        title=\"Viskosität\",\n",
    "        subplot=3)\n",
    "display(q)\n",
    "# ----------------------------------------------------------------------- #\n",
    "\n",
    "savefig(\"./Results/08_1D_Stokes.png\")"
   ]
  }
 ],
 "metadata": {
  "kernelspec": {
   "display_name": "Julia 1.11.2",
   "language": "julia",
   "name": "julia-1.11"
  },
  "language_info": {
   "file_extension": ".jl",
   "mimetype": "application/julia",
   "name": "julia",
   "version": "1.11.2"
  }
 },
 "nbformat": 4,
 "nbformat_minor": 2
}
