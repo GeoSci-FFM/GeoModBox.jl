{
 "cells": [
  {
   "cell_type": "markdown",
   "metadata": {},
   "source": [
    "# Stokes Gleichung (1D)"
   ]
  },
  {
   "cell_type": "markdown",
   "metadata": {},
   "source": [
    "## Einführung\n",
    "\n",
    "- Theorie und Gleichungen"
   ]
  },
  {
   "cell_type": "markdown",
   "metadata": {},
   "source": [
    "## Problem und Lösung\n",
    "\n",
    "- Poiseuille-Coutte Flow (1D)"
   ]
  },
  {
   "cell_type": "code",
   "execution_count": null,
   "metadata": {},
   "outputs": [],
   "source": [
    "using Plots, ExtendableSparse"
   ]
  },
  {
   "cell_type": "code",
   "execution_count": null,
   "metadata": {},
   "outputs": [],
   "source": [
    "# Model Parameter ------------------------------------------------------- #\n",
    "M   =   (\n",
    "    ymin        =   -400.0e3,           #   Tiefe [ m ]\n",
    "    ymax        =   0.0e3,              \n",
    ")\n",
    "I   =   (\n",
    "    vₓ₀         =   5/100/31536000,     #   Geschwindigkeit oben [ m/s ]\n",
    "    η₀          =   1.0e21,             #   Viscosität [ Pa s ]\n",
    "    ∂P∂x        =   -5.0e1,              #   horizontaler Druckgradient [ Pa/m ]\n",
    ")\n",
    "# ----------------------------------------------------------------------- #"
   ]
  },
  {
   "cell_type": "code",
   "execution_count": null,
   "metadata": {},
   "outputs": [],
   "source": [
    "# Numerische Parameter -------------------------------------------------- #\n",
    "NC  =   (\n",
    "    y   =   100,        #   Anzahl der vertikalen Centroids\n",
    ")\n",
    "Δ   =   (\n",
    "    y   =   (M.ymax-M.ymin)/NC.y,   #   Gitterauflösung\n",
    ")\n",
    "# ----------------------------------------------------------------------- #\n",
    "# Speicherzuweisung ----------------------------------------------------- #\n",
    "D   =   (\n",
    "    vₓ  =   zeros(NC...),\n",
    "    vₓₐ =   zeros(NC...),\n",
    "    Δvₓ =   zeros(NC...)\n",
    ")\n",
    "# ----------------------------------------------------------------------- #\n",
    "# Gitter ---------------------------------------------------------------- #\n",
    "y   =   (\n",
    "    c   =   LinRange(M.ymin+Δ.y/2,M.ymax-Δ.y/2,NC.y),\n",
    ")\n",
    "# ----------------------------------------------------------------------- #"
   ]
  },
  {
   "cell_type": "code",
   "execution_count": null,
   "metadata": {},
   "outputs": [],
   "source": [
    "# Analytische Lösung ---------------------------------------------------- # \n",
    "@. D.vₓₐ    =   1.0/2.0/I.η₀ * I.∂P∂x * \n",
    "                    (y.c^2 + (M.ymax-M.ymin).*y.c) + \n",
    "                    I.vₓ₀*y.c/(M.ymax-M.ymin) + I.vₓ₀\n",
    "# ----------------------------------------------------------------------- #"
   ]
  },
  {
   "cell_type": "code",
   "execution_count": null,
   "metadata": {},
   "outputs": [],
   "source": [
    "# Randbedingungen ------------------------------------------------------- #\n",
    "VBC     =   (\n",
    "    type    = (S=:Dirichlet, N=:Dirichlet),\n",
    "    val     = (S=0.0,N=I.vₓ₀)\n",
    ")\n",
    "# ----------------------------------------------------------------------- #"
   ]
  },
  {
   "cell_type": "code",
   "execution_count": null,
   "metadata": {},
   "outputs": [],
   "source": [
    "# Lineares Gleichungssystem --------------------------------------------- #\n",
    "Num     =   (Vx=1:NC.y,)\n",
    "ndof    =   maximum(Num.Vx)\n",
    "K       =   ExtendableSparseMatrix(ndof,ndof)\n",
    "rhs     =   zeros(NC...)\n",
    "# ----------------------------------------------------------------------- #\n",
    "# Zusammenstellen der Koeffizientenmatrix ------------------------------- #\n",
    "a       =     I.η₀ / Δ.y^2.0\n",
    "b       =   - 2.0 * I.η₀ / Δ.y^2.0\n",
    "rhs     .=  I.∂P∂x\n",
    "for i = 1:NC.y\n",
    "    # Gleichungsnummer ---\n",
    "    ii  =   Num.Vx[i]\n",
    "    # Stempel ---\n",
    "    iN  =   ii + 1      #   Norden\n",
    "    iC  =   ii          #   Zentral\n",
    "    iS  =   ii - 1      #   Süden\n",
    "    # Ränder ---\n",
    "    # Falls ein Süd Index gebrauch wird ---\n",
    "    inS    =  i==1    ? false  : true\n",
    "    DirS   = (i==1    && VBC.type.S==:Dirichlet) ? 1. : 0.\n",
    "    NeuS   = (i==1    && VBC.type.S==:Neumann  ) ? 1. : 0.\n",
    "    # If an East index is required ---\n",
    "    inN    =  i==NC.y ? false  : true\n",
    "    DirN   = (i==NC.y && VBC.type.N==:Dirichlet) ? 1. : 0.\n",
    "    NeuN   = (i==NC.y && VBC.type.N==:Neumann  ) ? 1. : 0.\n",
    "    if inS K[ii,iS]    = a end\n",
    "        K[ii,iC]       =   b + (NeuS + NeuN - DirS - DirN)*a\n",
    "    if inN K[ii,iN]    = a end    \n",
    "    # Änderung der rechten Seite ---\n",
    "    rhs[i]      +=  a*VBC.val.S*Δ.y * NeuS - \n",
    "                        2*a*VBC.val.S * DirS - \n",
    "                        a*VBC.val.N*Δ.y * NeuN - \n",
    "                        2*a*VBC.val.N * DirN\n",
    "end\n",
    "# ----------------------------------------------------------------------- #"
   ]
  },
  {
   "cell_type": "code",
   "execution_count": null,
   "metadata": {},
   "outputs": [],
   "source": [
    "# Lösung des Gleichungssystems ------------------------------------------ #\n",
    "D.vₓ      .=   K \\ rhs\n",
    "# ----------------------------------------------------------------------- #\n",
    "# Abweichung vom der analytischen Lösung -------------------------------- #\n",
    "@. D.Δvₓ    =   ((D.vₓₐ - D.vₓ) / D.vₓₐ) * 100.0\n",
    "# ----------------------------------------------------------------------- #"
   ]
  },
  {
   "cell_type": "code",
   "execution_count": null,
   "metadata": {},
   "outputs": [],
   "source": [
    "# Visualisierung -------------------------------------------------------- #\n",
    "q   =   plot(D.vₓ,y.c./1e3,label=\"numerical\",\n",
    "            xlabel=\"vₓ\", ylabel=\"y [km]\",\n",
    "            title=\"Velocity Profile\",\n",
    "            xlim=(0,I.vₓ₀*1.5),ylim=(M.ymin/1e3,M.ymax/1e3),\n",
    "            layout=(1,2),subplot=1)\n",
    "plot!(q,D.vₓₐ,y.c./1e3,label=\"analytical\",linestyle=:dash,\n",
    "        subplot=1)\n",
    "plot!(q,D.Δvₓ,y.c./1e3,label=\"\",\n",
    "        xlabel=\"Δvₓ\",ylabel=\"z [km]\",\n",
    "        title=\"Error [ % ]\",\n",
    "        subplot=2)\n",
    "display(q)\n",
    "# ----------------------------------------------------------------------- #"
   ]
  }
 ],
 "metadata": {
  "kernelspec": {
   "display_name": "Julia 1.11.3",
   "language": "julia",
   "name": "julia-1.11"
  },
  "language_info": {
   "file_extension": ".jl",
   "mimetype": "application/julia",
   "name": "julia",
   "version": "1.11.3"
  }
 },
 "nbformat": 4,
 "nbformat_minor": 2
}
